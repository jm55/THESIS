{
 "cells": [
  {
   "cell_type": "markdown",
   "id": "758a5c9f",
   "metadata": {},
   "source": [
    "# Evaluation and Comparison of Non-Boosted ML Models in Behavior-Based Malware Detection\n",
    "\n",
    "\n",
    "## Notebook: SVM Training\n",
    "\n",
    "***\n",
    "\n",
    "**What is the objective of this file?**\n",
    "\n",
    "To train the model using the Train Split (Statically Split)."
   ]
  },
  {
   "cell_type": "markdown",
   "id": "d920d303",
   "metadata": {},
   "source": [
    "## Checklist\n",
    "\n",
    "- Ensure that you have the proper dataset files that you intend to use (i.e., whether the lite dataset or full version). \n",
    "    - The datasets it will use points to `/Official Development/Dataset/IB` & `/Official Development/Dataset/TB`. \n",
    "    - You can run the `/Official Development/Dataset [OFFICIAL] Oliveira Dataset Notebook.ipynb file` or unzip one of the zipped folders in the `/Official Development/Dataset/Processed` towards the two aforementioned folders. \n",
    "- Ensure that you have installed the necessary libraries needed to execute the training process. \n",
    "    - You can view the list of the specific versions in the thesis document or through the `.sh` or `.bat` files in the repository's home directory."
   ]
  },
  {
   "cell_type": "markdown",
   "id": "321d3b3d",
   "metadata": {},
   "source": [
    "# 1. SVM Training Setup\n",
    "\n",
    "Setting training environment parameters."
   ]
  },
  {
   "cell_type": "markdown",
   "id": "d57e1ac7",
   "metadata": {},
   "source": [
    "## 1.0. Tuning Settings\n",
    "\n",
    "1. What will the output filename be?\n",
    "2. Will you train a tuned model?\n",
    "3. What hyperparameter values will you use?\n",
    "\n",
    "For no. 3, the value looks like\n",
    "`{'task_type': 'CPU', 'objective': 'Logloss', 'n_estimators': 50, 'max_depth': 11, 'learning_rate': 0.1, 'l2_leaf_reg': 2, 'grow_policy': 'SymmetricTree', 'bootstrap_type': 'Bayesian', 'boosting_type': 'Ordered', 'auto_class_weights': 'Balanced'}`\n",
    "which is obtained as part of the results of the associated tuning file to this file.\n",
    "\n",
    "Alternatively, you can just point a file directly to it (overrides the manual setup if not empty).\n",
    "\n",
    "**Do not include the custom hyperparameter values for `random_state`, `thread_count`, `verbose`, `cat_features`, and `nan_mode` as the values for these are hardcoded to the notebook.**"
   ]
  },
  {
   "cell_type": "code",
   "execution_count": 1,
   "id": "dfb4e2cd",
   "metadata": {},
   "outputs": [],
   "source": [
    "MODEL_FILENAME = \"RYZEN3b\" # <== Set the prefix for the filename of the output file (don't include file extension)\n",
    "TUNED_TRAINING = False # <== Set as True if you'll be training a tuned model.\n",
    "\n",
    "# These parameters are mostly default valued parameters for SVMoost except some that are mentioned in the paper (e.g., Ordered Boosting, Symmeteric Tree); Set as None for truly defaults.\n",
    "TB_HYPERPARAMS = None # None or like \"{'task_type': 'CPU', 'objective':'Logloss', 'grow_policy': 'SymmetricTree', 'bootstrap_type': 'Bayesian', 'boosting_type': 'Ordered'}\"\n",
    "IB_HYPERPARAMS = None # None or like \"{'task_type': 'CPU', 'objective':'Logloss', 'grow_policy': 'SymmetricTree', 'bootstrap_type': 'Bayesian', 'boosting_type': 'Ordered'}\"\n",
    "\n",
    "TB_HYPERPARAMS_FILE = \"./Outputs/SVM/Tuning/Manual/RYZEN3b_SVM_TB.tune\" # <== Empty string or Pointing a .tune file overrides the value set above.\n",
    "IB_HYPERPARAMS_FILE = \"./Outputs/SVM/Tuning/Manual/RYZEN3b_SVM_IB.tune\" # <== Empty string or Pointing a .tune file overrides the value set above.\n",
    "\n",
    "STATIC_SPLIT = 0.3 # <== To achieve the 70:30 Static Split\n",
    "RANDOM_SEED = 1 # <== Must be the same throughout the entire study (acts as a controlled variable), hence let's just settle with 1."
   ]
  },
  {
   "cell_type": "markdown",
   "id": "f6c94ddb",
   "metadata": {},
   "source": [
    "# ⚠️Warning\n",
    "\n",
    "**Be careful of modifying the code beyond this point as it was designed to run autonomously based on the parameters set above.**"
   ]
  },
  {
   "cell_type": "markdown",
   "id": "9d90fe9c",
   "metadata": {},
   "source": [
    "## 1.1. Loading Libraries"
   ]
  },
  {
   "cell_type": "code",
   "execution_count": 2,
   "id": "871b8f06",
   "metadata": {},
   "outputs": [],
   "source": [
    "#Python Libraries\n",
    "import time\n",
    "from datetime import datetime\n",
    "import json\n",
    "\n",
    "#Data/Dataset Libraries\n",
    "import pandas as pd\n",
    "import numpy as np\n",
    "\n",
    "#Model Selection\n",
    "from sklearn.model_selection import train_test_split\n",
    "\n",
    "#Metrics (for in-training testing only)\n",
    "from sklearn.metrics import classification_report, accuracy_score, balanced_accuracy_score, f1_score\n",
    "from sklearn.metrics import confusion_matrix, ConfusionMatrixDisplay\n",
    "from sklearn.metrics import precision_score, recall_score, roc_auc_score\n",
    "\n",
    "#Visualization\n",
    "from matplotlib import pyplot as plt\n",
    "\n",
    "#GBDT Models\n",
    "# import lightgbm\n",
    "from sklearn.svm import SVC\n",
    "\n",
    "#File Writing Library (exclusive for use on LightGBM)\n",
    "from joblib import dump, load"
   ]
  },
  {
   "cell_type": "markdown",
   "id": "1e6877c2",
   "metadata": {},
   "source": [
    "## 1.2. Logging and Diagnostics"
   ]
  },
  {
   "cell_type": "code",
   "execution_count": 3,
   "id": "7d0b6914",
   "metadata": {
    "scrolled": true
   },
   "outputs": [],
   "source": [
    "if TUNED_TRAINING:\n",
    "    MODEL_FILENAME = \"TUNED_\" + MODEL_FILENAME\n",
    "    if len(TB_HYPERPARAMS_FILE) != 0:\n",
    "        f = open(TB_HYPERPARAMS_FILE, \"r\")\n",
    "        TB_HYPERPARAMS = f.readline()\n",
    "        f.close()\n",
    "    if len(IB_HYPERPARAMS_FILE) != 0:\n",
    "        f = open(IB_HYPERPARAMS_FILE, \"r\")\n",
    "        IB_HYPERPARAMS = f.readline()\n",
    "        f.close()\n",
    "    TB_HYPERPARAMS = TB_HYPERPARAMS.replace('\\'', '\\\"')#.replace(\"False\", \"\\\"False\\\"\").replace(\"True\", \"\\\"True\\\"\")\n",
    "    TB_HYPERPARAMS = json.loads(str(TB_HYPERPARAMS))\n",
    "    print(\"Parsed TB Hyperparams:\", TB_HYPERPARAMS)\n",
    "    print(\"\")\n",
    "    IB_HYPERPARAMS = IB_HYPERPARAMS.replace('\\'', '\\\"')#.replace(\"False\", \"\\\"False\\\"\").replace(\"True\", \"\\\"True\\\"\")\n",
    "    IB_HYPERPARAMS = json.loads(str(IB_HYPERPARAMS))\n",
    "    print(\"Parsed IB Hyperparams:\", IB_HYPERPARAMS)\n",
    "else:\n",
    "    if TB_HYPERPARAMS != None:\n",
    "        TB_HYPERPARAMS = TB_HYPERPARAMS.replace('\\'', '\\\"').replace(\"False\", \"\\\"False\\\"\").replace(\"True\", \"\\\"True\\\"\")\n",
    "        TB_HYPERPARAMS = json.loads(str(TB_HYPERPARAMS))\n",
    "    else:\n",
    "        TB_HYPERPARAMS = None\n",
    "    if IB_HYPERPARAMS != None:\n",
    "        IB_HYPERPARAMS = IB_HYPERPARAMS.replace('\\'', '\\\"').replace(\"False\", \"\\\"False\\\"\").replace(\"True\", \"\\\"True\\\"\")\n",
    "        IB_HYPERPARAMS = json.loads(str(IB_HYPERPARAMS))\n",
    "    else:\n",
    "        IB_HYPERPARAMS = None\n",
    "\n",
    "start = end = 0\n",
    "LOG_FILENAME = \"SVM_Training_Log.txt\"\n",
    "def logging(message):\n",
    "    log = open(LOG_FILENAME, \"a\")\n",
    "    log.write(message)\n",
    "    log.close()\n",
    "def start_time():\n",
    "    global start\n",
    "    start = time.time()\n",
    "def end_time(process):\n",
    "    global start\n",
    "    elapse = time.time()-start\n",
    "    start = 0\n",
    "    printout = f\"{str(datetime.now())}@{MODEL_FILENAME}: {process} - {round(elapse, 6)}s\\n\"\n",
    "    logging(printout)\n",
    "    return round(elapse, 6)"
   ]
  },
  {
   "cell_type": "markdown",
   "id": "db4e5ad5",
   "metadata": {},
   "source": [
    "## 1.3. Loading Datasets\n",
    "\n",
    "Note that it will use the files in `/Official Development/Dataset/IB` & `/Official Development/Dataset/TB`. "
   ]
  },
  {
   "cell_type": "markdown",
   "id": "76101390",
   "metadata": {},
   "source": [
    "### 1.3.1. Setting filenames"
   ]
  },
  {
   "cell_type": "code",
   "execution_count": 4,
   "id": "6e1c43ce",
   "metadata": {},
   "outputs": [],
   "source": [
    "#Setting filenames of files\n",
    "TB_Train = \"../../Dataset/TB/LGBM_TB.csv\" # <== Location for Time-based Train Split for SVMoost\n",
    "#TB_Test = \"../../Dataset/TB/TB_Test_SVM.csv\" # <== Location for Time-based Test Split for SVMoost\n",
    "IB_Train = \"../../Dataset/IB/LGBM_IB.csv\" # <== Location for Instance-based Train Split for SVMoost\n",
    "#IB_Test = \"../../Dataset/IB/IB_Test_SVM.csv\" # <== Location for Instance-based Test Split for SVMoost"
   ]
  },
  {
   "cell_type": "markdown",
   "id": "0c1495cf",
   "metadata": {},
   "source": [
    "### 1.3.2. Loading datasets to DataFrames"
   ]
  },
  {
   "cell_type": "code",
   "execution_count": 5,
   "id": "43eca18c",
   "metadata": {},
   "outputs": [
    {
     "name": "stdout",
     "output_type": "stream",
     "text": [
      "Dataset Sizes\n",
      "TB Train Size: (72296, 101)\n",
      "IB Train Size: (72296, 101)\n"
     ]
    }
   ],
   "source": [
    "#Loading datasets to DataFrames\n",
    "tb_train = pd.read_csv(TB_Train, low_memory=False).fillna(\"NaN\")\n",
    "ib_train = pd.read_csv(IB_Train, low_memory=False).fillna(\"NaN\")\n",
    "\n",
    "print(\"Dataset Sizes\")\n",
    "print(\"TB Train Size:\", tb_train.shape)\n",
    "print(\"IB Train Size:\", ib_train.shape)"
   ]
  },
  {
   "cell_type": "markdown",
   "id": "5dfb9ade",
   "metadata": {},
   "source": [
    "### 1.3.3. Previewing datasets"
   ]
  },
  {
   "cell_type": "code",
   "execution_count": 6,
   "id": "fba694e6",
   "metadata": {},
   "outputs": [
    {
     "data": {
      "text/html": [
       "<div>\n",
       "<style scoped>\n",
       "    .dataframe tbody tr th:only-of-type {\n",
       "        vertical-align: middle;\n",
       "    }\n",
       "\n",
       "    .dataframe tbody tr th {\n",
       "        vertical-align: top;\n",
       "    }\n",
       "\n",
       "    .dataframe thead th {\n",
       "        text-align: right;\n",
       "    }\n",
       "</style>\n",
       "<table border=\"1\" class=\"dataframe\">\n",
       "  <thead>\n",
       "    <tr style=\"text-align: right;\">\n",
       "      <th></th>\n",
       "      <th>malware</th>\n",
       "      <th>t_0</th>\n",
       "      <th>t_1</th>\n",
       "      <th>t_2</th>\n",
       "      <th>t_3</th>\n",
       "      <th>t_4</th>\n",
       "      <th>t_5</th>\n",
       "      <th>t_6</th>\n",
       "      <th>t_7</th>\n",
       "      <th>t_8</th>\n",
       "      <th>...</th>\n",
       "      <th>t_90</th>\n",
       "      <th>t_91</th>\n",
       "      <th>t_92</th>\n",
       "      <th>t_93</th>\n",
       "      <th>t_94</th>\n",
       "      <th>t_95</th>\n",
       "      <th>t_96</th>\n",
       "      <th>t_97</th>\n",
       "      <th>t_98</th>\n",
       "      <th>t_99</th>\n",
       "    </tr>\n",
       "  </thead>\n",
       "  <tbody>\n",
       "    <tr>\n",
       "      <th>0</th>\n",
       "      <td>1</td>\n",
       "      <td>198</td>\n",
       "      <td>172</td>\n",
       "      <td>117</td>\n",
       "      <td>275</td>\n",
       "      <td>208</td>\n",
       "      <td>286</td>\n",
       "      <td>208</td>\n",
       "      <td>187</td>\n",
       "      <td>208</td>\n",
       "      <td>...</td>\n",
       "      <td>215</td>\n",
       "      <td>198</td>\n",
       "      <td>228</td>\n",
       "      <td>297</td>\n",
       "      <td>2</td>\n",
       "      <td>140</td>\n",
       "      <td>81</td>\n",
       "      <td>8</td>\n",
       "      <td>199</td>\n",
       "      <td>264</td>\n",
       "    </tr>\n",
       "    <tr>\n",
       "      <th>1</th>\n",
       "      <td>1</td>\n",
       "      <td>82</td>\n",
       "      <td>240</td>\n",
       "      <td>117</td>\n",
       "      <td>240</td>\n",
       "      <td>117</td>\n",
       "      <td>240</td>\n",
       "      <td>117</td>\n",
       "      <td>240</td>\n",
       "      <td>117</td>\n",
       "      <td>...</td>\n",
       "      <td>209</td>\n",
       "      <td>260</td>\n",
       "      <td>40</td>\n",
       "      <td>209</td>\n",
       "      <td>260</td>\n",
       "      <td>141</td>\n",
       "      <td>260</td>\n",
       "      <td>141</td>\n",
       "      <td>260</td>\n",
       "      <td>141</td>\n",
       "    </tr>\n",
       "    <tr>\n",
       "      <th>2</th>\n",
       "      <td>1</td>\n",
       "      <td>82</td>\n",
       "      <td>240</td>\n",
       "      <td>117</td>\n",
       "      <td>240</td>\n",
       "      <td>117</td>\n",
       "      <td>240</td>\n",
       "      <td>117</td>\n",
       "      <td>240</td>\n",
       "      <td>117</td>\n",
       "      <td>...</td>\n",
       "      <td>141</td>\n",
       "      <td>260</td>\n",
       "      <td>141</td>\n",
       "      <td>260</td>\n",
       "      <td>141</td>\n",
       "      <td>260</td>\n",
       "      <td>141</td>\n",
       "      <td>260</td>\n",
       "      <td>141</td>\n",
       "      <td>260</td>\n",
       "    </tr>\n",
       "    <tr>\n",
       "      <th>3</th>\n",
       "      <td>1</td>\n",
       "      <td>82</td>\n",
       "      <td>240</td>\n",
       "      <td>117</td>\n",
       "      <td>240</td>\n",
       "      <td>117</td>\n",
       "      <td>240</td>\n",
       "      <td>117</td>\n",
       "      <td>16</td>\n",
       "      <td>228</td>\n",
       "      <td>...</td>\n",
       "      <td>230</td>\n",
       "      <td>240</td>\n",
       "      <td>117</td>\n",
       "      <td>225</td>\n",
       "      <td>89</td>\n",
       "      <td>208</td>\n",
       "      <td>215</td>\n",
       "      <td>192</td>\n",
       "      <td>89</td>\n",
       "      <td>133</td>\n",
       "    </tr>\n",
       "    <tr>\n",
       "      <th>4</th>\n",
       "      <td>1</td>\n",
       "      <td>82</td>\n",
       "      <td>240</td>\n",
       "      <td>117</td>\n",
       "      <td>240</td>\n",
       "      <td>117</td>\n",
       "      <td>240</td>\n",
       "      <td>117</td>\n",
       "      <td>240</td>\n",
       "      <td>117</td>\n",
       "      <td>...</td>\n",
       "      <td>159</td>\n",
       "      <td>224</td>\n",
       "      <td>82</td>\n",
       "      <td>260</td>\n",
       "      <td>141</td>\n",
       "      <td>260</td>\n",
       "      <td>141</td>\n",
       "      <td>260</td>\n",
       "      <td>141</td>\n",
       "      <td>260</td>\n",
       "    </tr>\n",
       "  </tbody>\n",
       "</table>\n",
       "<p>5 rows × 101 columns</p>\n",
       "</div>"
      ],
      "text/plain": [
       "   malware  t_0  t_1  t_2  t_3  t_4  t_5  t_6  t_7  t_8  ...  t_90  t_91  \\\n",
       "0        1  198  172  117  275  208  286  208  187  208  ...   215   198   \n",
       "1        1   82  240  117  240  117  240  117  240  117  ...   209   260   \n",
       "2        1   82  240  117  240  117  240  117  240  117  ...   141   260   \n",
       "3        1   82  240  117  240  117  240  117   16  228  ...   230   240   \n",
       "4        1   82  240  117  240  117  240  117  240  117  ...   159   224   \n",
       "\n",
       "   t_92  t_93  t_94  t_95  t_96  t_97  t_98  t_99  \n",
       "0   228   297     2   140    81     8   199   264  \n",
       "1    40   209   260   141   260   141   260   141  \n",
       "2   141   260   141   260   141   260   141   260  \n",
       "3   117   225    89   208   215   192    89   133  \n",
       "4    82   260   141   260   141   260   141   260  \n",
       "\n",
       "[5 rows x 101 columns]"
      ]
     },
     "execution_count": 6,
     "metadata": {},
     "output_type": "execute_result"
    }
   ],
   "source": [
    "#Previewing Time-based Dataset\n",
    "tb_train.head()"
   ]
  },
  {
   "cell_type": "code",
   "execution_count": 7,
   "id": "5f2e98f1",
   "metadata": {},
   "outputs": [
    {
     "data": {
      "text/html": [
       "<div>\n",
       "<style scoped>\n",
       "    .dataframe tbody tr th:only-of-type {\n",
       "        vertical-align: middle;\n",
       "    }\n",
       "\n",
       "    .dataframe tbody tr th {\n",
       "        vertical-align: top;\n",
       "    }\n",
       "\n",
       "    .dataframe thead th {\n",
       "        text-align: right;\n",
       "    }\n",
       "</style>\n",
       "<table border=\"1\" class=\"dataframe\">\n",
       "  <thead>\n",
       "    <tr style=\"text-align: right;\">\n",
       "      <th></th>\n",
       "      <th>malware</th>\n",
       "      <th>t_0</th>\n",
       "      <th>t_1</th>\n",
       "      <th>t_2</th>\n",
       "      <th>t_3</th>\n",
       "      <th>t_4</th>\n",
       "      <th>t_5</th>\n",
       "      <th>t_6</th>\n",
       "      <th>t_7</th>\n",
       "      <th>t_8</th>\n",
       "      <th>...</th>\n",
       "      <th>t_90</th>\n",
       "      <th>t_91</th>\n",
       "      <th>t_92</th>\n",
       "      <th>t_93</th>\n",
       "      <th>t_94</th>\n",
       "      <th>t_95</th>\n",
       "      <th>t_96</th>\n",
       "      <th>t_97</th>\n",
       "      <th>t_98</th>\n",
       "      <th>t_99</th>\n",
       "    </tr>\n",
       "  </thead>\n",
       "  <tbody>\n",
       "    <tr>\n",
       "      <th>0</th>\n",
       "      <td>1</td>\n",
       "      <td>198</td>\n",
       "      <td>172</td>\n",
       "      <td>117</td>\n",
       "      <td>275</td>\n",
       "      <td>208</td>\n",
       "      <td>286</td>\n",
       "      <td>187</td>\n",
       "      <td>240</td>\n",
       "      <td>71</td>\n",
       "      <td>...</td>\n",
       "      <td>307</td>\n",
       "      <td>307</td>\n",
       "      <td>307</td>\n",
       "      <td>307</td>\n",
       "      <td>307</td>\n",
       "      <td>307</td>\n",
       "      <td>307</td>\n",
       "      <td>307</td>\n",
       "      <td>307</td>\n",
       "      <td>307</td>\n",
       "    </tr>\n",
       "    <tr>\n",
       "      <th>1</th>\n",
       "      <td>1</td>\n",
       "      <td>82</td>\n",
       "      <td>240</td>\n",
       "      <td>117</td>\n",
       "      <td>172</td>\n",
       "      <td>16</td>\n",
       "      <td>11</td>\n",
       "      <td>274</td>\n",
       "      <td>158</td>\n",
       "      <td>215</td>\n",
       "      <td>...</td>\n",
       "      <td>307</td>\n",
       "      <td>307</td>\n",
       "      <td>307</td>\n",
       "      <td>307</td>\n",
       "      <td>307</td>\n",
       "      <td>307</td>\n",
       "      <td>307</td>\n",
       "      <td>307</td>\n",
       "      <td>307</td>\n",
       "      <td>307</td>\n",
       "    </tr>\n",
       "    <tr>\n",
       "      <th>2</th>\n",
       "      <td>1</td>\n",
       "      <td>82</td>\n",
       "      <td>240</td>\n",
       "      <td>117</td>\n",
       "      <td>172</td>\n",
       "      <td>16</td>\n",
       "      <td>11</td>\n",
       "      <td>274</td>\n",
       "      <td>158</td>\n",
       "      <td>215</td>\n",
       "      <td>...</td>\n",
       "      <td>307</td>\n",
       "      <td>307</td>\n",
       "      <td>307</td>\n",
       "      <td>307</td>\n",
       "      <td>307</td>\n",
       "      <td>307</td>\n",
       "      <td>307</td>\n",
       "      <td>307</td>\n",
       "      <td>307</td>\n",
       "      <td>307</td>\n",
       "    </tr>\n",
       "    <tr>\n",
       "      <th>3</th>\n",
       "      <td>1</td>\n",
       "      <td>82</td>\n",
       "      <td>240</td>\n",
       "      <td>117</td>\n",
       "      <td>16</td>\n",
       "      <td>228</td>\n",
       "      <td>208</td>\n",
       "      <td>71</td>\n",
       "      <td>56</td>\n",
       "      <td>172</td>\n",
       "      <td>...</td>\n",
       "      <td>307</td>\n",
       "      <td>307</td>\n",
       "      <td>307</td>\n",
       "      <td>307</td>\n",
       "      <td>307</td>\n",
       "      <td>307</td>\n",
       "      <td>307</td>\n",
       "      <td>307</td>\n",
       "      <td>307</td>\n",
       "      <td>307</td>\n",
       "    </tr>\n",
       "    <tr>\n",
       "      <th>4</th>\n",
       "      <td>1</td>\n",
       "      <td>82</td>\n",
       "      <td>240</td>\n",
       "      <td>117</td>\n",
       "      <td>172</td>\n",
       "      <td>16</td>\n",
       "      <td>11</td>\n",
       "      <td>274</td>\n",
       "      <td>158</td>\n",
       "      <td>215</td>\n",
       "      <td>...</td>\n",
       "      <td>307</td>\n",
       "      <td>307</td>\n",
       "      <td>307</td>\n",
       "      <td>307</td>\n",
       "      <td>307</td>\n",
       "      <td>307</td>\n",
       "      <td>307</td>\n",
       "      <td>307</td>\n",
       "      <td>307</td>\n",
       "      <td>307</td>\n",
       "    </tr>\n",
       "  </tbody>\n",
       "</table>\n",
       "<p>5 rows × 101 columns</p>\n",
       "</div>"
      ],
      "text/plain": [
       "   malware  t_0  t_1  t_2  t_3  t_4  t_5  t_6  t_7  t_8  ...  t_90  t_91  \\\n",
       "0        1  198  172  117  275  208  286  187  240   71  ...   307   307   \n",
       "1        1   82  240  117  172   16   11  274  158  215  ...   307   307   \n",
       "2        1   82  240  117  172   16   11  274  158  215  ...   307   307   \n",
       "3        1   82  240  117   16  228  208   71   56  172  ...   307   307   \n",
       "4        1   82  240  117  172   16   11  274  158  215  ...   307   307   \n",
       "\n",
       "   t_92  t_93  t_94  t_95  t_96  t_97  t_98  t_99  \n",
       "0   307   307   307   307   307   307   307   307  \n",
       "1   307   307   307   307   307   307   307   307  \n",
       "2   307   307   307   307   307   307   307   307  \n",
       "3   307   307   307   307   307   307   307   307  \n",
       "4   307   307   307   307   307   307   307   307  \n",
       "\n",
       "[5 rows x 101 columns]"
      ]
     },
     "execution_count": 7,
     "metadata": {},
     "output_type": "execute_result"
    }
   ],
   "source": [
    "#Previewing Instance-based Dataset\n",
    "ib_train.head()"
   ]
  },
  {
   "cell_type": "markdown",
   "id": "fe47cf04",
   "metadata": {},
   "source": [
    "### 1.3.4. Statically Splitting the Train Split\n",
    "\n",
    "Train Split --> Training and Validation Split\n",
    "\n",
    "However only Training Split will be used."
   ]
  },
  {
   "cell_type": "code",
   "execution_count": 8,
   "id": "1bf09ed0",
   "metadata": {},
   "outputs": [],
   "source": [
    "#Static splitting of Train Split of Time-based\n",
    "X_tb = tb_train.iloc[:,1:101] #All rows, 2nd to last column\n",
    "y_tb = tb_train.iloc[:,0] #All rows, first column only\n",
    "X_tb_training, X_tb_validate, y_tb_training, y_tb_validate = train_test_split(X_tb, y_tb, test_size=STATIC_SPLIT, shuffle=True, random_state=1)\n",
    "\n",
    "#Static splitting of Train Split of Instance-based\n",
    "X_ib = ib_train.iloc[:,1:101] #All rows, 2nd to last column\n",
    "y_ib = ib_train.iloc[:,0] #All rows, first column only\n",
    "X_ib_training, X_ib_validate, y_ib_training, y_ib_validate = train_test_split(X_ib, y_ib, test_size=STATIC_SPLIT, shuffle=True, random_state=1)"
   ]
  },
  {
   "cell_type": "markdown",
   "id": "fccf92ee",
   "metadata": {},
   "source": [
    "# 2. Model Training"
   ]
  },
  {
   "cell_type": "markdown",
   "id": "7e4ad7be",
   "metadata": {},
   "source": [
    "## 2.1. Setting up the Model"
   ]
  },
  {
   "cell_type": "code",
   "execution_count": 9,
   "id": "e386b9f0",
   "metadata": {},
   "outputs": [],
   "source": [
    "def get_indexes():\n",
    "    indexes = []\n",
    "    for i in range(100):\n",
    "        indexes.append(f\"t_{i}\")\n",
    "    return indexes\n",
    "\n",
    "def setup_model(HYPERPARAMS, TYPE):\n",
    "    global TUNED_TRAINING\n",
    "    indexes = get_indexes()\n",
    "    metric=['Logloss', 'AUC', 'Precision']\n",
    "    train_dir = f\"./Outputs/SVM/{MODEL_FILENAME}_SVM_{TYPE}_TRAINDIR\"\n",
    "    if HYPERPARAMS == None:\n",
    "        return SVC(random_state=RANDOM_SEED,  cache_size=2048, verbose=2)\n",
    "    return SVC(**HYPERPARAMS, random_state=RANDOM_SEED, cache_size=2048, verbose=2)"
   ]
  },
  {
   "cell_type": "markdown",
   "id": "ba557847",
   "metadata": {},
   "source": [
    "## 2.2. Training on Time-Based Behaviors"
   ]
  },
  {
   "cell_type": "markdown",
   "id": "4a1c3821",
   "metadata": {},
   "source": [
    "### 2.2.1 Training Model"
   ]
  },
  {
   "cell_type": "code",
   "execution_count": 10,
   "id": "97d6c8e9",
   "metadata": {
    "scrolled": true
   },
   "outputs": [
    {
     "name": "stdout",
     "output_type": "stream",
     "text": [
      "[LibSVM]"
     ]
    }
   ],
   "source": [
    "#Training Model\n",
    "start_time()\n",
    "tb_SVM = setup_model(TB_HYPERPARAMS, \"TB\")\n",
    "tb_SVM.fit(X_tb_training, y_tb_training)\n",
    "end_time(\"SVM_TB\")\n",
    "\n",
    "#Saving Model as file\n",
    "import pickle\n",
    "# Save\n",
    "with open(\"Outputs/SVM/\"+MODEL_FILENAME+\"_SVM_TB.model\", 'wb') as fid:\n",
    "    pickle.dump(tb_SVM, fid)    \n",
    "# load\n",
    "# with open('my_dumped_classifier.pkl', 'rb') as fid:\n",
    "#     ib_MLP = cPickle.load(fid)"
   ]
  },
  {
   "cell_type": "markdown",
   "id": "bec8c2a4",
   "metadata": {},
   "source": [
    "### 2.2.2. Checking Performance\n",
    "\n",
    "Using the split for validation for a bit of internal checking of performance (i.e., not official)"
   ]
  },
  {
   "cell_type": "code",
   "execution_count": 11,
   "id": "93b44da8",
   "metadata": {
    "scrolled": true
   },
   "outputs": [
    {
     "name": "stdout",
     "output_type": "stream",
     "text": [
      "SVM_TB\n",
      "              precision    recall  f1-score   support\n",
      "\n",
      "           0     0.9995    0.9876    0.9935     10772\n",
      "           1     0.9879    0.9995    0.9937     10917\n",
      "\n",
      "    accuracy                         0.9936     21689\n",
      "   macro avg     0.9937    0.9936    0.9936     21689\n",
      "weighted avg     0.9937    0.9936    0.9936     21689\n",
      "\n",
      "AUC-ROC: 0.9935511701720177\n"
     ]
    },
    {
     "data": {
      "image/png": "[encoded data removed]",
      "text/plain": [
       "<Figure size 640x480 with 2 Axes>"
      ]
     },
     "metadata": {},
     "output_type": "display_data"
    }
   ],
   "source": [
    "y_pred = tb_SVM.predict(X_tb_validate)\n",
    "print(\"SVM_TB\")\n",
    "print(classification_report(y_tb_validate, y_pred, digits=4))\n",
    "print(\"AUC-ROC:\", roc_auc_score(y_tb_validate, y_pred))\n",
    "print(classification_report(y_tb_validate, y_pred, digits=4), file=open(\"Outputs/SVM/\"+MODEL_FILENAME+\"_SVM_TB_ClassReport.txt\", mode='w'))\n",
    "print(\"AUC-ROC:\", roc_auc_score(y_tb_validate, y_pred), file=open(\"Outputs/SVM/\"+MODEL_FILENAME+\"_SVM_TB_ClassReport.txt\", mode='a'))\n",
    "disp = ConfusionMatrixDisplay(confusion_matrix(y_tb_validate, y_pred))\n",
    "disp.plot()\n",
    "plt.savefig(\"Outputs/SVM/\"+MODEL_FILENAME+\"_SVM_TB_\"+\"_ConfMatrix.png\")"
   ]
  },
  {
   "cell_type": "markdown",
   "id": "770125ef",
   "metadata": {},
   "source": [
    "### 2.2.3. Preview of the Tree\n",
    "\n",
    "*How can it be a tree if there is no proof of a tree?*"
   ]
  },
  {
   "cell_type": "code",
   "execution_count": 12,
   "id": "3e0400c7",
   "metadata": {
    "scrolled": true
   },
   "outputs": [],
   "source": [
    "# tree = tb_SVM.plot_tree(0, SVMoost.Pool(X_tb_training, y_tb_training, cat_features=get_indexes(), feature_names=list(X_tb_training.columns)))\n",
    "# tree.save(\"Outputs/SVM/\"+MODEL_FILENAME+\"_SVM_TREE/TB_Tree\"+\".svg\")\n",
    "# display(tree)"
   ]
  },
  {
   "cell_type": "markdown",
   "id": "070b0d7e",
   "metadata": {},
   "source": [
    "## 2.3. Training on Instance-Based Behaviors"
   ]
  },
  {
   "cell_type": "markdown",
   "id": "ca10fb20",
   "metadata": {},
   "source": [
    "### 2.3.1 Training Model"
   ]
  },
  {
   "cell_type": "code",
   "execution_count": 13,
   "id": "38e7f94a",
   "metadata": {
    "scrolled": true
   },
   "outputs": [
    {
     "name": "stdout",
     "output_type": "stream",
     "text": [
      "[LibSVM]"
     ]
    }
   ],
   "source": [
    "#Training Model\n",
    "start_time()\n",
    "ib_SVM = setup_model(IB_HYPERPARAMS, \"IB\")\n",
    "ib_SVM.fit(X_ib_training, y_ib_training)\n",
    "end_time(\"SVM_IB\")\n",
    "\n",
    "#Saving Model as file\n",
    "import pickle\n",
    "# Save\n",
    "with open(\"Outputs/SVM/\"+MODEL_FILENAME+\"_SVM_IB.model\", 'wb') as fid:\n",
    "    pickle.dump(ib_SVM, fid)    \n",
    "# load\n",
    "# with open('my_dumped_classifier.pkl', 'rb') as fid:\n",
    "#     ib_MLP = cPickle.load(fid)"
   ]
  },
  {
   "cell_type": "markdown",
   "id": "7019d9f1",
   "metadata": {},
   "source": [
    "### 2.3.2. Checking Performance\n",
    "\n",
    "Using the split for validation for a bit of internal checking of performance (i.e., not official)"
   ]
  },
  {
   "cell_type": "code",
   "execution_count": 14,
   "id": "6aa4c727",
   "metadata": {
    "scrolled": true
   },
   "outputs": [
    {
     "name": "stdout",
     "output_type": "stream",
     "text": [
      "SVM_IB\n",
      "              precision    recall  f1-score   support\n",
      "\n",
      "           0     0.9977    0.9880    0.9928     10772\n",
      "           1     0.9883    0.9977    0.9930     10917\n",
      "\n",
      "    accuracy                         0.9929     21689\n",
      "   macro avg     0.9930    0.9929    0.9929     21689\n",
      "weighted avg     0.9929    0.9929    0.9929     21689\n",
      "\n",
      "AUC-ROC: 0.9928672507858217\n"
     ]
    },
    {
     "data": {
      "image/png": "[encoded data removed]",
      "text/plain": [
       "<Figure size 640x480 with 2 Axes>"
      ]
     },
     "metadata": {},
     "output_type": "display_data"
    }
   ],
   "source": [
    "y_pred = ib_SVM.predict(X_ib_validate)\n",
    "print(\"SVM_IB\")\n",
    "print(classification_report(y_ib_validate, y_pred, digits=4))\n",
    "print(\"AUC-ROC:\", roc_auc_score(y_ib_validate, y_pred))\n",
    "print(classification_report(y_ib_validate, y_pred, digits=4), file=open(\"Outputs/SVM/\"+MODEL_FILENAME+\"_SVM_IB_ClassReport.txt\", mode='w'))\n",
    "print(\"AUC-ROC:\", roc_auc_score(y_ib_validate, y_pred), file=open(\"Outputs/SVM/\"+MODEL_FILENAME+\"_SVM_IB_ClassReport.txt\", mode='a'))\n",
    "disp = ConfusionMatrixDisplay(confusion_matrix(y_ib_validate, y_pred))\n",
    "disp.plot()\n",
    "plt.savefig(\"Outputs/SVM/\"+MODEL_FILENAME+\"_SVM_IB_\"+\"_ConfMatrix.png\")"
   ]
  },
  {
   "cell_type": "markdown",
   "id": "f00ffacf",
   "metadata": {},
   "source": [
    "### 2.3.3. Preview of the Tree\n",
    "\n",
    "*How can it be a tree if there is no proof of a tree?*"
   ]
  },
  {
   "cell_type": "code",
   "execution_count": 15,
   "id": "3f262cd8",
   "metadata": {
    "scrolled": true
   },
   "outputs": [],
   "source": [
    "# tree = ib_SVM.plot_tree(0, SVMoost.Pool(X_ib_training, y_ib_training, cat_features=get_indexes(), feature_names=list(X_ib_training.columns)))\n",
    "# tree.save(\"Outputs/SVM/\"+MODEL_FILENAME+\"_SVM_TREE/IB_Tree\"+\".svg\")\n",
    "# tree"
   ]
  },
  {
   "cell_type": "code",
   "execution_count": 16,
   "id": "514e4f94",
   "metadata": {},
   "outputs": [],
   "source": [
    "logging(\"\\n\")"
   ]
  }
 ],
 "metadata": {
  "kernelspec": {
   "display_name": "Python 3 (ipykernel)",
   "language": "python",
   "name": "python3"
  },
  "language_info": {
   "codemirror_mode": {
    "name": "ipython",
    "version": 3
   },
   "file_extension": ".py",
   "mimetype": "text/x-python",
   "name": "python",
   "nbconvert_exporter": "python",
   "pygments_lexer": "ipython3",
   "version": "3.11.5"
  }
 },
 "nbformat": 4,
 "nbformat_minor": 5
}
