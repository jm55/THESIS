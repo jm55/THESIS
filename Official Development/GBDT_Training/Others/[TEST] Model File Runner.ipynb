{
 "cells": [
  {
   "cell_type": "code",
   "execution_count": 1,
   "id": "0524018d",
   "metadata": {},
   "outputs": [],
   "source": [
    "import catboost as catb\n",
    "import lightgbm as lgbm\n",
    "\n",
    "import pandas as pd\n",
    "\n",
    "from sklearn.metrics import classification_report\n",
    "\n",
    "from joblib import dump, load"
   ]
  },
  {
   "cell_type": "markdown",
   "id": "66f7a0cf",
   "metadata": {},
   "source": [
    "# 0. Load Dataset"
   ]
  },
  {
   "cell_type": "code",
   "execution_count": 2,
   "id": "f0602d6c",
   "metadata": {},
   "outputs": [],
   "source": [
    "lgbm_test = pd.read_csv(\"../Dataset/TB/TB_Test_LGBM.csv\", low_memory=False).fillna(\"NaN\")\n",
    "catb_test = pd.read_csv(\"../Dataset/TB/TB_Test_CATB.csv\", low_memory=False).fillna(\"NaN\")"
   ]
  },
  {
   "cell_type": "markdown",
   "id": "5c84029a",
   "metadata": {},
   "source": [
    "# 1. LGBM Model File Test"
   ]
  },
  {
   "cell_type": "code",
   "execution_count": 3,
   "id": "9f5b3de3",
   "metadata": {
    "scrolled": true
   },
   "outputs": [
    {
     "name": "stdout",
     "output_type": "stream",
     "text": [
      "              precision    recall  f1-score   support\n",
      "\n",
      "           0     1.0000    0.5000    0.6667         8\n",
      "           1     0.9844    1.0000    0.9922       253\n",
      "\n",
      "    accuracy                         0.9847       261\n",
      "   macro avg     0.9922    0.7500    0.8294       261\n",
      "weighted avg     0.9849    0.9847    0.9822       261\n",
      "\n"
     ]
    }
   ],
   "source": [
    "lgbm_model = load('Outputs/TEST_TB_LGBM.model')\n",
    "\n",
    "X = lgbm_test.iloc[:,1:]\n",
    "y = lgbm_test.iloc[:,0]\n",
    "y_pred = lgbm_model.predict(X)\n",
    "\n",
    "print(classification_report(y, y_pred, digits=4))"
   ]
  },
  {
   "cell_type": "markdown",
   "id": "9119800c",
   "metadata": {},
   "source": [
    "# 2. CatB Model File Test"
   ]
  },
  {
   "cell_type": "code",
   "execution_count": 4,
   "id": "bbb03ae1",
   "metadata": {
    "scrolled": false
   },
   "outputs": [
    {
     "name": "stdout",
     "output_type": "stream",
     "text": [
      "              precision    recall  f1-score   support\n",
      "\n",
      "           0     1.0000    0.5000    0.6667         8\n",
      "           1     0.9844    1.0000    0.9922       253\n",
      "\n",
      "    accuracy                         0.9847       261\n",
      "   macro avg     0.9922    0.7500    0.8294       261\n",
      "weighted avg     0.9849    0.9847    0.9822       261\n",
      "\n"
     ]
    }
   ],
   "source": [
    "def get_indexes():\n",
    "    indexes = []\n",
    "    for i in range(100):\n",
    "        indexes.append(f\"t_{i}\")\n",
    "    return indexes\n",
    "\n",
    "catbClassifier = catb.CatBoostClassifier(cat_features=get_indexes())\n",
    "catbClassifier.load_model(\"Outputs/TEST_TB_CATB.model\", format='json')\n",
    "\n",
    "X = catb_test.iloc[:,1:]\n",
    "y = catb_test.iloc[:,0]\n",
    "\n",
    "y_pred = catbClassifier.predict(X)\n",
    "\n",
    "print(classification_report(y, y_pred, digits=4))"
   ]
  }
 ],
 "metadata": {
  "kernelspec": {
   "display_name": "Python 3 (ipykernel)",
   "language": "python",
   "name": "python3"
  },
  "language_info": {
   "codemirror_mode": {
    "name": "ipython",
    "version": 3
   },
   "file_extension": ".py",
   "mimetype": "text/x-python",
   "name": "python",
   "nbconvert_exporter": "python",
   "pygments_lexer": "ipython3",
   "version": "3.11.5"
  }
 },
 "nbformat": 4,
 "nbformat_minor": 5
}
