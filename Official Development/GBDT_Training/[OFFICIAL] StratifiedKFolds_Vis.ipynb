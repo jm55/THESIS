{
 "cells": [
  {
   "cell_type": "markdown",
   "metadata": {},
   "source": [
    "# Visualizing Stratified K-Folds"
   ]
  },
  {
   "cell_type": "code",
   "execution_count": null,
   "metadata": {},
   "outputs": [],
   "source": [
    "K = 5\n",
    "DYNAMIC_SPLIT = 1/K # <== Expected validation ratio. Training ratio will be 1-(1/K). Just for when needed to view.\n",
    "RANDOM_SEED = 1 # <==  <== Must be the same throughout the entire study (acts as a controlled variable), hence let's just settle with 1."
   ]
  },
  {
   "cell_type": "code",
   "execution_count": null,
   "metadata": {},
   "outputs": [],
   "source": [
    "#Python Libraries\n",
    "import time\n",
    "from datetime import datetime\n",
    "import os\n",
    "import json\n",
    "\n",
    "#Data/Dataset Libraries\n",
    "import pandas as pd\n",
    "import numpy as np\n",
    "\n",
    "#Model Selection\n",
    "from sklearn.model_selection import StratifiedKFold\n",
    "from sklearn.model_selection import GridSearchCV\n",
    "\n",
    "#Metrics (for in-tuning testing only)\n",
    "from sklearn.metrics import classification_report, accuracy_score, balanced_accuracy_score, f1_score\n",
    "from sklearn.metrics import precision_score, recall_score, roc_auc_score\n",
    "\n",
    "#Visualization\n",
    "from matplotlib import pyplot as plt\n",
    "\n",
    "#GBDT Models\n",
    "import lightgbm\n",
    "# import catboost\n",
    "\n",
    "#File Writing Library (exclusive for use on LightGBM)\n",
    "from joblib import dump, load\n",
    "\n",
    "start = end = 0\n",
    "LOG_FILENAME = \"LGBM_Tuning_Log.txt\"\n",
    "def logging(message):\n",
    "    log = open(LOG_FILENAME, \"a\")\n",
    "    log.write(message)\n",
    "    log.close()\n",
    "def start_time():\n",
    "    global start\n",
    "    start = time.time()\n",
    "def end_time(process):\n",
    "    global start\n",
    "    elapse = time.time()-start\n",
    "    start = 0\n",
    "    printout = f\"{str(datetime.now())}@{OUTPUT_FILENAME}: {process} - {round(elapse, 6)}s\\n\"\n",
    "    logging(printout)\n",
    "    return round(elapse, 6)\n",
    "def print_to_file(label, output):\n",
    "    global OUTPUT_FILENAME\n",
    "    filename = OUTPUT_FILENAME + \"_\" + label + \".tune\"\n",
    "    with open(\"Outputs/\" + filename, 'w') as f:\n",
    "        f.write(str(output))\n",
    "        f.close()"
   ]
  },
  {
   "cell_type": "code",
   "execution_count": null,
   "metadata": {},
   "outputs": [],
   "source": [
    "def get_strat_kfold():\n",
    "    global K\n",
    "    return StratifiedKFold(n_splits=K, shuffle=True, random_state=1)\n",
    "\n",
    "#K-folds sample visualization\n",
    "def kfolds_vis(dataset):\n",
    "    global K\n",
    "    X = dataset.iloc[:,1:] #All rows, 2nd to last column\n",
    "    y = dataset.iloc[:,0] #All rows, first column only\n",
    "    fig, ax = plt.subplots(figsize=(10,K+1), dpi=300)\n",
    "    train = plot_cv_indices(get_strat_kfold(), X, y, ax, K)\n",
    "    plt.show()\n",
    "\n",
    "#K-folds sample visualization (inner workings)\n",
    "def plot_cv_indices(cv, X, y, ax, n_splits, lw=25):\n",
    "    #From: https://scikit-learn.org/stable/auto_examples/model_selection/plot_cv_indices.html\n",
    "    for ii, (tr, tt) in enumerate(cv.split(X=X, y=y)):\n",
    "        indices = np.array([np.nan] * len(X))\n",
    "        indices[tt], indices[tr] = 1,0\n",
    "        ax.scatter(range(len(indices)), [ii] * len(indices), c=indices, marker=\"_\", \n",
    "                   lw=lw, cmap=plt.cm.Paired, vmin=0, vmax=1)\n",
    "    #ax.scatter(range(len(X)), [ii] * len(X), c=y, marker=\"_\", lw=lw, cmap=plt.cm.Paired)\n",
    "    yticklabels = list(range(n_splits))\n",
    "    ax.set(yticks=np.arange(n_splits), yticklabels=yticklabels, xlabel=\"Dataset Subsample\", ylabel=\"CV iteration\", ylim=[n_splits,-1], xlim=[0, X.shape[0]])\n",
    "    ax.set_title(\"{}\".format(type(cv).__name__))\n",
    "    return ax"
   ]
  },
  {
   "cell_type": "code",
   "execution_count": null,
   "metadata": {},
   "outputs": [],
   "source": [
    "#Setting filenames of files\n",
    "TB_Train_LGBM = \"../Dataset/TB/TB_LGBM.csv\" # <== Location for Time-based Train Split for LightGBM\n",
    "#TB_Test_LGBM = \"../Dataset/TB/TB_Test_LGBM.csv\" # <== Location for Time-based Test Split for LightGBM\n",
    "IB_Train_LGBM = \"../Dataset/IB/IB_LGBM.csv\" # <== Location for Instance-based Train Split for LightGBM\n",
    "#IB_Test_LGBM = \"../Dataset/IB/IB_Test_LGBM.csv\" # <== Location for Instance-based Test Split for LightGBM\n",
    "\n",
    "#Setting filenames of files\n",
    "TB_Train_CATB = \"../Dataset/TB/TB_CATB.csv\" # <== Location for Time-based Train Split for LightGBM\n",
    "#TB_Test_CATB = \"../Dataset/TB/TB_Test_CATB.csv\" # <== Location for Time-based Test Split for LightGBM\n",
    "IB_Train_CATB = \"../Dataset/IB/IB_CATB.csv\" # <== Location for Instance-based Train Split for LightGBM\n",
    "#IB_Test_CATB = \"../Dataset/IB/IB_Test_CATB.csv\" # <== Location for Instance-based Test Split for LightGBM"
   ]
  },
  {
   "cell_type": "code",
   "execution_count": null,
   "metadata": {},
   "outputs": [],
   "source": [
    "#Loading datasets to DataFrames\n",
    "tb_train = pd.read_csv(TB_Train_LGBM, low_memory=False).fillna(\"NaN\")\n",
    "ib_train = pd.read_csv(IB_Train_LGBM, low_memory=False).fillna(\"NaN\")\n",
    "\n",
    "print(\"Dataset Sizes\")\n",
    "print(\"TB Train Size:\", tb_train.shape)\n",
    "print(\"IB Train Size:\", ib_train.shape)\n",
    "\n",
    "display(tb_train.head())\n",
    "display(ib_train.head())"
   ]
  },
  {
   "cell_type": "code",
   "execution_count": null,
   "metadata": {},
   "outputs": [],
   "source": [
    "print(\"Stratified K-Folds Split at\",K,\"splits.\")\n",
    "print(\"LGBM TB/TB_Encoded Dataset\")\n",
    "kfolds_vis(tb_train)\n",
    "print(\"LGBM IB/IB_Encoded Dataset\")\n",
    "kfolds_vis(ib_train)"
   ]
  },
  {
   "cell_type": "code",
   "execution_count": null,
   "metadata": {},
   "outputs": [],
   "source": [
    "#Loading datasets to DataFrames\n",
    "tb_train = pd.read_csv(TB_Train_CATB, low_memory=False).fillna(\"NaN\")\n",
    "ib_train = pd.read_csv(IB_Train_CATB, low_memory=False).fillna(\"NaN\")\n",
    "\n",
    "print(\"Dataset Sizes\")\n",
    "print(\"TB Train Size:\", tb_train.shape)\n",
    "print(\"IB Train Size:\", ib_train.shape)\n",
    "\n",
    "display(tb_train.head())\n",
    "display(ib_train.head())"
   ]
  },
  {
   "cell_type": "code",
   "execution_count": null,
   "metadata": {},
   "outputs": [],
   "source": [
    "print(\"Stratified K-Folds Split at\",K,\"splits.\")\n",
    "print(\"CATB TB/TB_Encoded Dataset\")\n",
    "kfolds_vis(tb_train)\n",
    "print(\"CATB IB/IB_Encoded Dataset\")\n",
    "kfolds_vis(ib_train)"
   ]
  }
 ],
 "metadata": {
  "kernelspec": {
   "display_name": "base",
   "language": "python",
   "name": "python3"
  },
  "language_info": {
   "name": "python",
   "version": "3.11.5"
  }
 },
 "nbformat": 4,
 "nbformat_minor": 2
}
