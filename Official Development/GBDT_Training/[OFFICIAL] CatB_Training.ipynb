{
 "cells": [
  {
   "cell_type": "markdown",
   "id": "758a5c9f",
   "metadata": {},
   "source": [
    "# Evaluation and Comparison of Boosted ML Models in Behavior-Based Malware Detection\n",
    "\n",
    "\n",
    "## Notebook: CatBoost Training\n",
    "\n",
    "***\n",
    "\n",
    "**What is the objective of this file?**\n",
    "\n",
    "To train the model using the Train Split (Statically Split)."
   ]
  },
  {
   "cell_type": "markdown",
   "id": "d920d303",
   "metadata": {},
   "source": [
    "## Checklist\n",
    "\n",
    "- Ensure that you have the proper dataset files that you intend to use (i.e., whether the lite dataset or full version). \n",
    "    - The datasets it will use points to `/Official Development/Dataset/IB` & `/Official Development/Dataset/TB`. \n",
    "    - You can run the `/Official Development/Dataset [OFFICIAL] Oliveira Dataset Notebook.ipynb file` or unzip one of the zipped folders in the `/Official Development/Dataset/Processed` towards the two aforementioned folders. \n",
    "- Ensure that you have installed the necessary libraries needed to execute the training process. \n",
    "    - You can view the list of the specific versions in the thesis document or through the `.sh` or `.bat` files in the repository's home directory."
   ]
  },
  {
   "cell_type": "markdown",
   "id": "321d3b3d",
   "metadata": {},
   "source": [
    "# 1. CatB Training Setup\n",
    "\n",
    "Setting training environment parameters."
   ]
  },
  {
   "cell_type": "markdown",
   "id": "d57e1ac7",
   "metadata": {},
   "source": [
    "## 1.0. Tuning Settings\n",
    "\n",
    "1. What will the output filename be?\n",
    "2. Will you train a tuned model?\n",
    "3. What hyperparameter values will you use?\n",
    "\n",
    "For no. 3, the value looks like\n",
    "`{'task_type': 'CPU', 'objective': 'Logloss', 'n_estimators': 50, 'max_depth': 11, 'learning_rate': 0.1, 'l2_leaf_reg': 2, 'grow_policy': 'SymmetricTree', 'bootstrap_type': 'Bayesian', 'boosting_type': 'Ordered', 'auto_class_weights': 'Balanced'}`\n",
    "which is obtained as part of the results of the associated tuning file to this file.\n",
    "\n",
    "Alternatively, you can just point a file directly to it (overrides the manual setup if not empty).\n",
    "\n",
    "**Do not include the custom hyperparameter values for `random_state`, `thread_count`, `verbose`, `cat_features`, and `nan_mode` as the values for these are hardcoded to the notebook.**"
   ]
  },
  {
   "cell_type": "code",
   "execution_count": 1,
   "id": "dfb4e2cd",
   "metadata": {},
   "outputs": [],
   "source": [
    "MODEL_FILENAME = \"RYZEN2\" # <== Set the prefix for the filename of the output file (don't include file extension)\n",
    "TUNED_TRAINING = True # <== Set as True if you'll be training a tuned model.\n",
    "\n",
    "# These parameters are mostly default valued parameters for CatBoost except some that are mentioned in the paper (e.g., Ordered Boosting, Symmeteric Tree); Set as None for truly defaults.\n",
    "TB_HYPERPARAMS = None # None or like \"{'task_type': 'CPU', 'objective':'Logloss', 'grow_policy': 'SymmetricTree', 'bootstrap_type': 'Bayesian', 'boosting_type': 'Ordered'}\"\n",
    "IB_HYPERPARAMS = None # None or like \"{'task_type': 'CPU', 'objective':'Logloss', 'grow_policy': 'SymmetricTree', 'bootstrap_type': 'Bayesian', 'boosting_type': 'Ordered'}\"\n",
    "\n",
    "TB_HYPERPARAMS_FILE = \"./Outputs/Results/Ryzen2/CatB Tuning/RYZEN2_CATB_TB.tune\" # <== Empty string or Pointing a .tune file overrides the value set above.\n",
    "IB_HYPERPARAMS_FILE = \"./Outputs/Results/Ryzen2/CatB Tuning/RYZEN2_CATB_IB.tune\" # <== Empty string or Pointing a .tune file overrides the value set above.\n",
    "\n",
    "STATIC_SPLIT = 0.3 # <== To achieve the 70:30 Static Split\n",
    "RANDOM_SEED = 1 # <== Must be the same throughout the entire study (acts as a controlled variable), hence let's just settle with 1."
   ]
  },
  {
   "cell_type": "markdown",
   "id": "f6c94ddb",
   "metadata": {},
   "source": [
    "# ⚠️Warning\n",
    "\n",
    "**Be careful of modifying the code beyond this point as it was designed to run autonomously based on the parameters set above.**"
   ]
  },
  {
   "cell_type": "markdown",
   "id": "9d90fe9c",
   "metadata": {},
   "source": [
    "## 1.1. Loading Libraries"
   ]
  },
  {
   "cell_type": "code",
   "execution_count": 2,
   "id": "871b8f06",
   "metadata": {},
   "outputs": [],
   "source": [
    "#Python Libraries\n",
    "import time\n",
    "from datetime import datetime\n",
    "import json\n",
    "\n",
    "#Data/Dataset Libraries\n",
    "import pandas as pd\n",
    "import numpy as np\n",
    "\n",
    "#Model Selection\n",
    "from sklearn.model_selection import train_test_split\n",
    "\n",
    "#Metrics (for in-training testing only)\n",
    "from sklearn.metrics import classification_report, accuracy_score, balanced_accuracy_score, f1_score\n",
    "from sklearn.metrics import confusion_matrix, ConfusionMatrixDisplay\n",
    "from sklearn.metrics import precision_score, recall_score, roc_auc_score\n",
    "\n",
    "#Visualization\n",
    "from matplotlib import pyplot as plt\n",
    "\n",
    "#GBDT Models\n",
    "# import lightgbm\n",
    "import catboost\n",
    "\n",
    "#File Writing Library (exclusive for use on LightGBM)\n",
    "from joblib import dump, load"
   ]
  },
  {
   "cell_type": "markdown",
   "id": "1e6877c2",
   "metadata": {},
   "source": [
    "## 1.2. Logging and Diagnostics"
   ]
  },
  {
   "cell_type": "code",
   "execution_count": 3,
   "id": "7d0b6914",
   "metadata": {
    "scrolled": true
   },
   "outputs": [
    {
     "name": "stdout",
     "output_type": "stream",
     "text": [
      "Parsed TB Hyperparams: {'boosting_type': 'Ordered', 'bootstrap_type': 'Bayesian', 'gpu_cat_features_storage': 'CpuPinnedMemory', 'grow_policy': 'SymmetricTree', 'l2_leaf_reg': 2, 'learning_rate': 0.1, 'max_depth': 8, 'n_estimators': 100, 'objective': 'Logloss', 'task_type': 'GPU'}\n",
      "\n",
      "Parsed IB Hyperparams: {'boosting_type': 'Ordered', 'bootstrap_type': 'Bayesian', 'gpu_cat_features_storage': 'CpuPinnedMemory', 'grow_policy': 'SymmetricTree', 'l2_leaf_reg': 2, 'learning_rate': 0.1, 'max_depth': 8, 'n_estimators': 100, 'objective': 'Logloss', 'task_type': 'GPU'}\n"
     ]
    }
   ],
   "source": [
    "if TUNED_TRAINING:\n",
    "    MODEL_FILENAME = \"TUNED_\" + MODEL_FILENAME\n",
    "    if len(TB_HYPERPARAMS_FILE) != 0:\n",
    "        f = open(TB_HYPERPARAMS_FILE, \"r\")\n",
    "        TB_HYPERPARAMS = f.readline()\n",
    "        f.close()\n",
    "    if len(IB_HYPERPARAMS_FILE) != 0:\n",
    "        f = open(IB_HYPERPARAMS_FILE, \"r\")\n",
    "        IB_HYPERPARAMS = f.readline()\n",
    "        f.close()\n",
    "    TB_HYPERPARAMS = TB_HYPERPARAMS.replace('\\'', '\\\"')#.replace(\"False\", \"\\\"False\\\"\").replace(\"True\", \"\\\"True\\\"\")\n",
    "    TB_HYPERPARAMS = json.loads(str(TB_HYPERPARAMS))\n",
    "    print(\"Parsed TB Hyperparams:\", TB_HYPERPARAMS)\n",
    "    print(\"\")\n",
    "    IB_HYPERPARAMS = IB_HYPERPARAMS.replace('\\'', '\\\"')#.replace(\"False\", \"\\\"False\\\"\").replace(\"True\", \"\\\"True\\\"\")\n",
    "    IB_HYPERPARAMS = json.loads(str(IB_HYPERPARAMS))\n",
    "    print(\"Parsed IB Hyperparams:\", IB_HYPERPARAMS)\n",
    "else:\n",
    "    if TB_HYPERPARAMS != None:\n",
    "        TB_HYPERPARAMS = TB_HYPERPARAMS.replace('\\'', '\\\"').replace(\"False\", \"\\\"False\\\"\").replace(\"True\", \"\\\"True\\\"\")\n",
    "        TB_HYPERPARAMS = json.loads(str(TB_HYPERPARAMS))\n",
    "    else:\n",
    "        TB_HYPERPARAMS = None\n",
    "    if IB_HYPERPARAMS != None:\n",
    "        IB_HYPERPARAMS = IB_HYPERPARAMS.replace('\\'', '\\\"').replace(\"False\", \"\\\"False\\\"\").replace(\"True\", \"\\\"True\\\"\")\n",
    "        IB_HYPERPARAMS = json.loads(str(IB_HYPERPARAMS))\n",
    "    else:\n",
    "        IB_HYPERPARAMS = None\n",
    "\n",
    "start = end = 0\n",
    "LOG_FILENAME = \"CATB_Training_Log.txt\"\n",
    "def logging(message):\n",
    "    log = open(LOG_FILENAME, \"a\")\n",
    "    log.write(message)\n",
    "    log.close()\n",
    "def start_time():\n",
    "    global start\n",
    "    start = time.time()\n",
    "def end_time(process):\n",
    "    global start\n",
    "    elapse = time.time()-start\n",
    "    start = 0\n",
    "    printout = f\"{str(datetime.now())}@{MODEL_FILENAME}: {process} - {round(elapse, 6)}s\\n\"\n",
    "    logging(printout)\n",
    "    return round(elapse, 6)"
   ]
  },
  {
   "cell_type": "markdown",
   "id": "db4e5ad5",
   "metadata": {},
   "source": [
    "## 1.3. Loading Datasets\n",
    "\n",
    "Note that it will use the files in `/Official Development/Dataset/IB` & `/Official Development/Dataset/TB`. "
   ]
  },
  {
   "cell_type": "markdown",
   "id": "76101390",
   "metadata": {},
   "source": [
    "### 1.3.1. Setting filenames"
   ]
  },
  {
   "cell_type": "code",
   "execution_count": 4,
   "id": "6e1c43ce",
   "metadata": {},
   "outputs": [],
   "source": [
    "#Setting filenames of files\n",
    "TB_Train = \"../Dataset/TB/CATB_TB.csv\" # <== Location for Time-based Train Split for CatBoost\n",
    "#TB_Test = \"../Dataset/TB/TB_Test_CATB.csv\" # <== Location for Time-based Test Split for CatBoost\n",
    "IB_Train = \"../Dataset/IB/CATB_IB.csv\" # <== Location for Instance-based Train Split for CatBoost\n",
    "#IB_Test = \"../Dataset/IB/IB_Test_CATB.csv\" # <== Location for Instance-based Test Split for CatBoost"
   ]
  },
  {
   "cell_type": "markdown",
   "id": "0c1495cf",
   "metadata": {},
   "source": [
    "### 1.3.2. Loading datasets to DataFrames"
   ]
  },
  {
   "cell_type": "code",
   "execution_count": 5,
   "id": "43eca18c",
   "metadata": {},
   "outputs": [
    {
     "name": "stdout",
     "output_type": "stream",
     "text": [
      "Dataset Sizes\n",
      "TB Train Size: (72298, 101)\n",
      "IB Train Size: (72298, 101)\n"
     ]
    }
   ],
   "source": [
    "#Loading datasets to DataFrames\n",
    "tb_train = pd.read_csv(TB_Train, low_memory=False).fillna(\"NaN\")\n",
    "ib_train = pd.read_csv(IB_Train, low_memory=False).fillna(\"NaN\")\n",
    "\n",
    "print(\"Dataset Sizes\")\n",
    "print(\"TB Train Size:\", tb_train.shape)\n",
    "print(\"IB Train Size:\", ib_train.shape)"
   ]
  },
  {
   "cell_type": "markdown",
   "id": "5dfb9ade",
   "metadata": {},
   "source": [
    "### 1.3.3. Previewing datasets"
   ]
  },
  {
   "cell_type": "code",
   "execution_count": 6,
   "id": "fba694e6",
   "metadata": {},
   "outputs": [
    {
     "data": {
      "text/html": [
       "<div>\n",
       "<style scoped>\n",
       "    .dataframe tbody tr th:only-of-type {\n",
       "        vertical-align: middle;\n",
       "    }\n",
       "\n",
       "    .dataframe tbody tr th {\n",
       "        vertical-align: top;\n",
       "    }\n",
       "\n",
       "    .dataframe thead th {\n",
       "        text-align: right;\n",
       "    }\n",
       "</style>\n",
       "<table border=\"1\" class=\"dataframe\">\n",
       "  <thead>\n",
       "    <tr style=\"text-align: right;\">\n",
       "      <th></th>\n",
       "      <th>malware</th>\n",
       "      <th>t_0</th>\n",
       "      <th>t_1</th>\n",
       "      <th>t_2</th>\n",
       "      <th>t_3</th>\n",
       "      <th>t_4</th>\n",
       "      <th>t_5</th>\n",
       "      <th>t_6</th>\n",
       "      <th>t_7</th>\n",
       "      <th>t_8</th>\n",
       "      <th>...</th>\n",
       "      <th>t_90</th>\n",
       "      <th>t_91</th>\n",
       "      <th>t_92</th>\n",
       "      <th>t_93</th>\n",
       "      <th>t_94</th>\n",
       "      <th>t_95</th>\n",
       "      <th>t_96</th>\n",
       "      <th>t_97</th>\n",
       "      <th>t_98</th>\n",
       "      <th>t_99</th>\n",
       "    </tr>\n",
       "  </thead>\n",
       "  <tbody>\n",
       "    <tr>\n",
       "      <th>0</th>\n",
       "      <td>1</td>\n",
       "      <td>RegOpenKeyExA</td>\n",
       "      <td>NtOpenKey</td>\n",
       "      <td>NtQueryValueKey</td>\n",
       "      <td>NtClose</td>\n",
       "      <td>NtOpenKey</td>\n",
       "      <td>NtQueryValueKey</td>\n",
       "      <td>NtClose</td>\n",
       "      <td>NtQueryAttributesFile</td>\n",
       "      <td>LoadStringA</td>\n",
       "      <td>...</td>\n",
       "      <td>LdrGetProcedureAddress</td>\n",
       "      <td>GetSystemWindowsDirectoryW</td>\n",
       "      <td>NtCreateFile</td>\n",
       "      <td>NtCreateSection</td>\n",
       "      <td>NtMapViewOfSection</td>\n",
       "      <td>NtClose</td>\n",
       "      <td>GetSystemMetrics</td>\n",
       "      <td>NtAllocateVirtualMemory</td>\n",
       "      <td>CreateActCtxW</td>\n",
       "      <td>GetSystemWindowsDirectoryW</td>\n",
       "    </tr>\n",
       "    <tr>\n",
       "      <th>1</th>\n",
       "      <td>1</td>\n",
       "      <td>GetSystemTimeAsFileTime</td>\n",
       "      <td>LdrLoadDll</td>\n",
       "      <td>LdrGetProcedureAddress</td>\n",
       "      <td>LdrLoadDll</td>\n",
       "      <td>LdrGetProcedureAddress</td>\n",
       "      <td>LdrLoadDll</td>\n",
       "      <td>LdrGetProcedureAddress</td>\n",
       "      <td>LdrLoadDll</td>\n",
       "      <td>LdrGetProcedureAddress</td>\n",
       "      <td>...</td>\n",
       "      <td>RegQueryInfoKeyW</td>\n",
       "      <td>RegEnumKeyExW</td>\n",
       "      <td>RegOpenKeyExW</td>\n",
       "      <td>RegQueryValueExW</td>\n",
       "      <td>RegOpenKeyExW</td>\n",
       "      <td>RegQueryValueExW</td>\n",
       "      <td>RegOpenKeyExW</td>\n",
       "      <td>RegQueryValueExW</td>\n",
       "      <td>RegOpenKeyExW</td>\n",
       "      <td>RegQueryValueExW</td>\n",
       "    </tr>\n",
       "    <tr>\n",
       "      <th>2</th>\n",
       "      <td>1</td>\n",
       "      <td>GetSystemTimeAsFileTime</td>\n",
       "      <td>NtCreateMutant</td>\n",
       "      <td>GetSystemTimeAsFileTime</td>\n",
       "      <td>NtOpenKeyEx</td>\n",
       "      <td>NtQueryKey</td>\n",
       "      <td>NtOpenKeyEx</td>\n",
       "      <td>LdrLoadDll</td>\n",
       "      <td>LdrGetProcedureAddress</td>\n",
       "      <td>RegOpenKeyExW</td>\n",
       "      <td>...</td>\n",
       "      <td>GetSystemInfo</td>\n",
       "      <td>NtClose</td>\n",
       "      <td>NtUnmapViewOfSection</td>\n",
       "      <td>NtClose</td>\n",
       "      <td>RegOpenKeyExW</td>\n",
       "      <td>RegCloseKey</td>\n",
       "      <td>RegOpenKeyExW</td>\n",
       "      <td>RegQueryValueExW</td>\n",
       "      <td>RegCloseKey</td>\n",
       "      <td>NtOpenFile</td>\n",
       "    </tr>\n",
       "    <tr>\n",
       "      <th>3</th>\n",
       "      <td>1</td>\n",
       "      <td>GetSystemTimeAsFileTime</td>\n",
       "      <td>LdrLoadDll</td>\n",
       "      <td>LdrGetProcedureAddress</td>\n",
       "      <td>LdrLoadDll</td>\n",
       "      <td>LdrGetProcedureAddress</td>\n",
       "      <td>LdrLoadDll</td>\n",
       "      <td>LdrGetProcedureAddress</td>\n",
       "      <td>LdrLoadDll</td>\n",
       "      <td>LdrGetProcedureAddress</td>\n",
       "      <td>...</td>\n",
       "      <td>RegQueryValueExW</td>\n",
       "      <td>RegOpenKeyExW</td>\n",
       "      <td>RegQueryValueExW</td>\n",
       "      <td>RegOpenKeyExW</td>\n",
       "      <td>RegQueryValueExW</td>\n",
       "      <td>RegOpenKeyExW</td>\n",
       "      <td>RegQueryValueExW</td>\n",
       "      <td>RegOpenKeyExW</td>\n",
       "      <td>RegQueryValueExW</td>\n",
       "      <td>RegOpenKeyExW</td>\n",
       "    </tr>\n",
       "    <tr>\n",
       "      <th>4</th>\n",
       "      <td>1</td>\n",
       "      <td>SetErrorMode</td>\n",
       "      <td>OleInitialize</td>\n",
       "      <td>LdrGetDllHandle</td>\n",
       "      <td>LdrLoadDll</td>\n",
       "      <td>LdrGetProcedureAddress</td>\n",
       "      <td>LdrLoadDll</td>\n",
       "      <td>LdrGetProcedureAddress</td>\n",
       "      <td>LdrLoadDll</td>\n",
       "      <td>LdrGetProcedureAddress</td>\n",
       "      <td>...</td>\n",
       "      <td>RegOpenKeyExW</td>\n",
       "      <td>RegQueryValueExW</td>\n",
       "      <td>RegCloseKey</td>\n",
       "      <td>NtCreateMutant</td>\n",
       "      <td>GetNativeSystemInfo</td>\n",
       "      <td>GetSystemWindowsDirectoryW</td>\n",
       "      <td>NtClose</td>\n",
       "      <td>LdrLoadDll</td>\n",
       "      <td>LdrGetProcedureAddress</td>\n",
       "      <td>LdrLoadDll</td>\n",
       "    </tr>\n",
       "  </tbody>\n",
       "</table>\n",
       "<p>5 rows × 101 columns</p>\n",
       "</div>"
      ],
      "text/plain": [
       "   malware                      t_0             t_1                      t_2  \\\n",
       "0        1            RegOpenKeyExA       NtOpenKey          NtQueryValueKey   \n",
       "1        1  GetSystemTimeAsFileTime      LdrLoadDll   LdrGetProcedureAddress   \n",
       "2        1  GetSystemTimeAsFileTime  NtCreateMutant  GetSystemTimeAsFileTime   \n",
       "3        1  GetSystemTimeAsFileTime      LdrLoadDll   LdrGetProcedureAddress   \n",
       "4        1             SetErrorMode   OleInitialize          LdrGetDllHandle   \n",
       "\n",
       "           t_3                     t_4              t_5  \\\n",
       "0      NtClose               NtOpenKey  NtQueryValueKey   \n",
       "1   LdrLoadDll  LdrGetProcedureAddress       LdrLoadDll   \n",
       "2  NtOpenKeyEx              NtQueryKey      NtOpenKeyEx   \n",
       "3   LdrLoadDll  LdrGetProcedureAddress       LdrLoadDll   \n",
       "4   LdrLoadDll  LdrGetProcedureAddress       LdrLoadDll   \n",
       "\n",
       "                      t_6                     t_7                     t_8  \\\n",
       "0                 NtClose   NtQueryAttributesFile             LoadStringA   \n",
       "1  LdrGetProcedureAddress              LdrLoadDll  LdrGetProcedureAddress   \n",
       "2              LdrLoadDll  LdrGetProcedureAddress           RegOpenKeyExW   \n",
       "3  LdrGetProcedureAddress              LdrLoadDll  LdrGetProcedureAddress   \n",
       "4  LdrGetProcedureAddress              LdrLoadDll  LdrGetProcedureAddress   \n",
       "\n",
       "   ...                    t_90                        t_91  \\\n",
       "0  ...  LdrGetProcedureAddress  GetSystemWindowsDirectoryW   \n",
       "1  ...        RegQueryInfoKeyW               RegEnumKeyExW   \n",
       "2  ...           GetSystemInfo                     NtClose   \n",
       "3  ...        RegQueryValueExW               RegOpenKeyExW   \n",
       "4  ...           RegOpenKeyExW            RegQueryValueExW   \n",
       "\n",
       "                   t_92              t_93                 t_94  \\\n",
       "0          NtCreateFile   NtCreateSection   NtMapViewOfSection   \n",
       "1         RegOpenKeyExW  RegQueryValueExW        RegOpenKeyExW   \n",
       "2  NtUnmapViewOfSection           NtClose        RegOpenKeyExW   \n",
       "3      RegQueryValueExW     RegOpenKeyExW     RegQueryValueExW   \n",
       "4           RegCloseKey    NtCreateMutant  GetNativeSystemInfo   \n",
       "\n",
       "                         t_95              t_96                     t_97  \\\n",
       "0                     NtClose  GetSystemMetrics  NtAllocateVirtualMemory   \n",
       "1            RegQueryValueExW     RegOpenKeyExW         RegQueryValueExW   \n",
       "2                 RegCloseKey     RegOpenKeyExW         RegQueryValueExW   \n",
       "3               RegOpenKeyExW  RegQueryValueExW            RegOpenKeyExW   \n",
       "4  GetSystemWindowsDirectoryW           NtClose               LdrLoadDll   \n",
       "\n",
       "                     t_98                        t_99  \n",
       "0           CreateActCtxW  GetSystemWindowsDirectoryW  \n",
       "1           RegOpenKeyExW            RegQueryValueExW  \n",
       "2             RegCloseKey                  NtOpenFile  \n",
       "3        RegQueryValueExW               RegOpenKeyExW  \n",
       "4  LdrGetProcedureAddress                  LdrLoadDll  \n",
       "\n",
       "[5 rows x 101 columns]"
      ]
     },
     "execution_count": 6,
     "metadata": {},
     "output_type": "execute_result"
    }
   ],
   "source": [
    "#Previewing Time-based Dataset\n",
    "tb_train.head()"
   ]
  },
  {
   "cell_type": "code",
   "execution_count": 7,
   "id": "5f2e98f1",
   "metadata": {},
   "outputs": [
    {
     "data": {
      "text/html": [
       "<div>\n",
       "<style scoped>\n",
       "    .dataframe tbody tr th:only-of-type {\n",
       "        vertical-align: middle;\n",
       "    }\n",
       "\n",
       "    .dataframe tbody tr th {\n",
       "        vertical-align: top;\n",
       "    }\n",
       "\n",
       "    .dataframe thead th {\n",
       "        text-align: right;\n",
       "    }\n",
       "</style>\n",
       "<table border=\"1\" class=\"dataframe\">\n",
       "  <thead>\n",
       "    <tr style=\"text-align: right;\">\n",
       "      <th></th>\n",
       "      <th>malware</th>\n",
       "      <th>t_0</th>\n",
       "      <th>t_1</th>\n",
       "      <th>t_2</th>\n",
       "      <th>t_3</th>\n",
       "      <th>t_4</th>\n",
       "      <th>t_5</th>\n",
       "      <th>t_6</th>\n",
       "      <th>t_7</th>\n",
       "      <th>t_8</th>\n",
       "      <th>...</th>\n",
       "      <th>t_90</th>\n",
       "      <th>t_91</th>\n",
       "      <th>t_92</th>\n",
       "      <th>t_93</th>\n",
       "      <th>t_94</th>\n",
       "      <th>t_95</th>\n",
       "      <th>t_96</th>\n",
       "      <th>t_97</th>\n",
       "      <th>t_98</th>\n",
       "      <th>t_99</th>\n",
       "    </tr>\n",
       "  </thead>\n",
       "  <tbody>\n",
       "    <tr>\n",
       "      <th>0</th>\n",
       "      <td>1</td>\n",
       "      <td>RegOpenKeyExA</td>\n",
       "      <td>NtOpenKey</td>\n",
       "      <td>NtQueryValueKey</td>\n",
       "      <td>NtClose</td>\n",
       "      <td>NtQueryAttributesFile</td>\n",
       "      <td>LoadStringA</td>\n",
       "      <td>NtAllocateVirtualMemory</td>\n",
       "      <td>LdrGetDllHandle</td>\n",
       "      <td>LdrGetProcedureAddress</td>\n",
       "      <td>...</td>\n",
       "      <td>NaN</td>\n",
       "      <td>NaN</td>\n",
       "      <td>NaN</td>\n",
       "      <td>NaN</td>\n",
       "      <td>NaN</td>\n",
       "      <td>NaN</td>\n",
       "      <td>NaN</td>\n",
       "      <td>NaN</td>\n",
       "      <td>NaN</td>\n",
       "      <td>NaN</td>\n",
       "    </tr>\n",
       "    <tr>\n",
       "      <th>1</th>\n",
       "      <td>1</td>\n",
       "      <td>GetSystemTimeAsFileTime</td>\n",
       "      <td>LdrLoadDll</td>\n",
       "      <td>LdrGetProcedureAddress</td>\n",
       "      <td>LdrGetDllHandle</td>\n",
       "      <td>SetUnhandledExceptionFilter</td>\n",
       "      <td>CryptAcquireContextW</td>\n",
       "      <td>NtOpenKey</td>\n",
       "      <td>NtQueryValueKey</td>\n",
       "      <td>NtClose</td>\n",
       "      <td>...</td>\n",
       "      <td>NaN</td>\n",
       "      <td>NaN</td>\n",
       "      <td>NaN</td>\n",
       "      <td>NaN</td>\n",
       "      <td>NaN</td>\n",
       "      <td>NaN</td>\n",
       "      <td>NaN</td>\n",
       "      <td>NaN</td>\n",
       "      <td>NaN</td>\n",
       "      <td>NaN</td>\n",
       "    </tr>\n",
       "    <tr>\n",
       "      <th>2</th>\n",
       "      <td>1</td>\n",
       "      <td>GetSystemTimeAsFileTime</td>\n",
       "      <td>NtCreateMutant</td>\n",
       "      <td>NtOpenKeyEx</td>\n",
       "      <td>NtQueryKey</td>\n",
       "      <td>LdrLoadDll</td>\n",
       "      <td>LdrGetProcedureAddress</td>\n",
       "      <td>RegOpenKeyExW</td>\n",
       "      <td>RegQueryInfoKeyW</td>\n",
       "      <td>RegEnumKeyExW</td>\n",
       "      <td>...</td>\n",
       "      <td>NaN</td>\n",
       "      <td>NaN</td>\n",
       "      <td>NaN</td>\n",
       "      <td>NaN</td>\n",
       "      <td>NaN</td>\n",
       "      <td>NaN</td>\n",
       "      <td>NaN</td>\n",
       "      <td>NaN</td>\n",
       "      <td>NaN</td>\n",
       "      <td>NaN</td>\n",
       "    </tr>\n",
       "    <tr>\n",
       "      <th>3</th>\n",
       "      <td>1</td>\n",
       "      <td>GetSystemTimeAsFileTime</td>\n",
       "      <td>LdrLoadDll</td>\n",
       "      <td>LdrGetProcedureAddress</td>\n",
       "      <td>LdrGetDllHandle</td>\n",
       "      <td>SetUnhandledExceptionFilter</td>\n",
       "      <td>CryptAcquireContextW</td>\n",
       "      <td>NtOpenKey</td>\n",
       "      <td>NtQueryValueKey</td>\n",
       "      <td>NtClose</td>\n",
       "      <td>...</td>\n",
       "      <td>NaN</td>\n",
       "      <td>NaN</td>\n",
       "      <td>NaN</td>\n",
       "      <td>NaN</td>\n",
       "      <td>NaN</td>\n",
       "      <td>NaN</td>\n",
       "      <td>NaN</td>\n",
       "      <td>NaN</td>\n",
       "      <td>NaN</td>\n",
       "      <td>NaN</td>\n",
       "    </tr>\n",
       "    <tr>\n",
       "      <th>4</th>\n",
       "      <td>1</td>\n",
       "      <td>SetErrorMode</td>\n",
       "      <td>OleInitialize</td>\n",
       "      <td>LdrGetDllHandle</td>\n",
       "      <td>LdrLoadDll</td>\n",
       "      <td>LdrGetProcedureAddress</td>\n",
       "      <td>NtOpenSection</td>\n",
       "      <td>NtMapViewOfSection</td>\n",
       "      <td>RegOpenKeyExW</td>\n",
       "      <td>RegQueryValueExW</td>\n",
       "      <td>...</td>\n",
       "      <td>NaN</td>\n",
       "      <td>NaN</td>\n",
       "      <td>NaN</td>\n",
       "      <td>NaN</td>\n",
       "      <td>NaN</td>\n",
       "      <td>NaN</td>\n",
       "      <td>NaN</td>\n",
       "      <td>NaN</td>\n",
       "      <td>NaN</td>\n",
       "      <td>NaN</td>\n",
       "    </tr>\n",
       "  </tbody>\n",
       "</table>\n",
       "<p>5 rows × 101 columns</p>\n",
       "</div>"
      ],
      "text/plain": [
       "   malware                      t_0             t_1                     t_2  \\\n",
       "0        1            RegOpenKeyExA       NtOpenKey         NtQueryValueKey   \n",
       "1        1  GetSystemTimeAsFileTime      LdrLoadDll  LdrGetProcedureAddress   \n",
       "2        1  GetSystemTimeAsFileTime  NtCreateMutant             NtOpenKeyEx   \n",
       "3        1  GetSystemTimeAsFileTime      LdrLoadDll  LdrGetProcedureAddress   \n",
       "4        1             SetErrorMode   OleInitialize         LdrGetDllHandle   \n",
       "\n",
       "               t_3                          t_4                     t_5  \\\n",
       "0          NtClose        NtQueryAttributesFile             LoadStringA   \n",
       "1  LdrGetDllHandle  SetUnhandledExceptionFilter    CryptAcquireContextW   \n",
       "2       NtQueryKey                   LdrLoadDll  LdrGetProcedureAddress   \n",
       "3  LdrGetDllHandle  SetUnhandledExceptionFilter    CryptAcquireContextW   \n",
       "4       LdrLoadDll       LdrGetProcedureAddress           NtOpenSection   \n",
       "\n",
       "                       t_6               t_7                     t_8  ...  \\\n",
       "0  NtAllocateVirtualMemory   LdrGetDllHandle  LdrGetProcedureAddress  ...   \n",
       "1                NtOpenKey   NtQueryValueKey                 NtClose  ...   \n",
       "2            RegOpenKeyExW  RegQueryInfoKeyW           RegEnumKeyExW  ...   \n",
       "3                NtOpenKey   NtQueryValueKey                 NtClose  ...   \n",
       "4       NtMapViewOfSection     RegOpenKeyExW        RegQueryValueExW  ...   \n",
       "\n",
       "  t_90 t_91 t_92 t_93 t_94 t_95 t_96 t_97 t_98 t_99  \n",
       "0  NaN  NaN  NaN  NaN  NaN  NaN  NaN  NaN  NaN  NaN  \n",
       "1  NaN  NaN  NaN  NaN  NaN  NaN  NaN  NaN  NaN  NaN  \n",
       "2  NaN  NaN  NaN  NaN  NaN  NaN  NaN  NaN  NaN  NaN  \n",
       "3  NaN  NaN  NaN  NaN  NaN  NaN  NaN  NaN  NaN  NaN  \n",
       "4  NaN  NaN  NaN  NaN  NaN  NaN  NaN  NaN  NaN  NaN  \n",
       "\n",
       "[5 rows x 101 columns]"
      ]
     },
     "execution_count": 7,
     "metadata": {},
     "output_type": "execute_result"
    }
   ],
   "source": [
    "#Previewing Instance-based Dataset\n",
    "ib_train.head()"
   ]
  },
  {
   "cell_type": "markdown",
   "id": "fe47cf04",
   "metadata": {},
   "source": [
    "### 1.3.4. Statically Splitting the Train Split\n",
    "\n",
    "Train Split --> Training and Validation Split\n",
    "\n",
    "However only Training Split will be used."
   ]
  },
  {
   "cell_type": "code",
   "execution_count": 8,
   "id": "1bf09ed0",
   "metadata": {},
   "outputs": [],
   "source": [
    "#Static splitting of Train Split of Time-based\n",
    "X_tb = tb_train.iloc[:,1:101] #All rows, 2nd to last column\n",
    "y_tb = tb_train.iloc[:,0] #All rows, first column only\n",
    "X_tb_training, X_tb_validate, y_tb_training, y_tb_validate = train_test_split(X_tb, y_tb, test_size=STATIC_SPLIT, shuffle=True, random_state=1)\n",
    "\n",
    "#Static splitting of Train Split of Instance-based\n",
    "X_ib = ib_train.iloc[:,1:101] #All rows, 2nd to last column\n",
    "y_ib = ib_train.iloc[:,0] #All rows, first column only\n",
    "X_ib_training, X_ib_validate, y_ib_training, y_ib_validate = train_test_split(X_ib, y_ib, test_size=STATIC_SPLIT, shuffle=True, random_state=1)"
   ]
  },
  {
   "cell_type": "markdown",
   "id": "fccf92ee",
   "metadata": {},
   "source": [
    "# 2. Model Training"
   ]
  },
  {
   "cell_type": "markdown",
   "id": "7e4ad7be",
   "metadata": {},
   "source": [
    "## 2.1. Setting up the Model"
   ]
  },
  {
   "cell_type": "code",
   "execution_count": 9,
   "id": "e386b9f0",
   "metadata": {},
   "outputs": [],
   "source": [
    "def get_indexes():\n",
    "    indexes = []\n",
    "    for i in range(100):\n",
    "        indexes.append(f\"t_{i}\")\n",
    "    return indexes\n",
    "\n",
    "def setup_model(HYPERPARAMS, TYPE):\n",
    "    global TUNED_TRAINING\n",
    "    indexes = get_indexes()\n",
    "    metric=['Logloss', 'AUC', 'Precision']\n",
    "    train_dir = f\"Outputs/CATB/{MODEL_FILENAME}_CATB_{TYPE}_TRAINDIR\"\n",
    "    if HYPERPARAMS == None:\n",
    "        return catboost.CatBoostClassifier(random_state=RANDOM_SEED, thread_count=-1, verbose=1, cat_features=indexes, \n",
    "                                           nan_mode='Min', custom_metric=metric, train_dir=train_dir, one_hot_max_size=256)\n",
    "    return catboost.CatBoostClassifier(**HYPERPARAMS, random_state=RANDOM_SEED, thread_count=-1, verbose=1, cat_features=indexes, \n",
    "                                       nan_mode='Min', custom_metric=metric, train_dir=train_dir, one_hot_max_size=256)"
   ]
  },
  {
   "cell_type": "markdown",
   "id": "ba557847",
   "metadata": {},
   "source": [
    "## 2.2. Training on Time-Based Behaviors"
   ]
  },
  {
   "cell_type": "markdown",
   "id": "4a1c3821",
   "metadata": {},
   "source": [
    "### 2.2.1 Training Model"
   ]
  },
  {
   "cell_type": "code",
   "execution_count": 10,
   "id": "97d6c8e9",
   "metadata": {
    "scrolled": true
   },
   "outputs": [
    {
     "data": {
      "application/vnd.jupyter.widget-view+json": {
       "model_id": "7c24211809c945e1a2ad231537c3fb72",
       "version_major": 2,
       "version_minor": 0
      },
      "text/plain": [
       "MetricVisualizer(layout=Layout(align_self='stretch', height='500px'))"
      ]
     },
     "metadata": {},
     "output_type": "display_data"
    },
    {
     "name": "stderr",
     "output_type": "stream",
     "text": [
      "Default metric period is 5 because AUC is/are not implemented for GPU\n"
     ]
    },
    {
     "name": "stdout",
     "output_type": "stream",
     "text": [
      "0:\tlearn: 0.4586862\ttest: 0.4591188\tbest: 0.4591188 (0)\ttotal: 291ms\tremaining: 28.8s\n",
      "1:\ttotal: 476ms\tremaining: 23.3s\n",
      "2:\ttotal: 667ms\tremaining: 21.6s\n",
      "3:\ttotal: 844ms\tremaining: 20.3s\n",
      "4:\ttotal: 1.06s\tremaining: 20.1s\n",
      "5:\tlearn: 0.0829551\ttest: 0.0845095\tbest: 0.0845095 (5)\ttotal: 1.24s\tremaining: 19.4s\n",
      "6:\ttotal: 1.41s\tremaining: 18.7s\n",
      "7:\ttotal: 1.58s\tremaining: 18.1s\n",
      "8:\ttotal: 1.75s\tremaining: 17.7s\n",
      "9:\ttotal: 1.93s\tremaining: 17.4s\n",
      "10:\tlearn: 0.0443194\ttest: 0.0471468\tbest: 0.0471468 (10)\ttotal: 2.1s\tremaining: 17s\n",
      "11:\ttotal: 2.28s\tremaining: 16.7s\n",
      "12:\ttotal: 2.46s\tremaining: 16.4s\n",
      "13:\ttotal: 2.62s\tremaining: 16.1s\n",
      "14:\ttotal: 2.79s\tremaining: 15.8s\n",
      "15:\tlearn: 0.0329915\ttest: 0.0365804\tbest: 0.0365804 (15)\ttotal: 2.96s\tremaining: 15.5s\n",
      "16:\ttotal: 3.13s\tremaining: 15.3s\n",
      "17:\ttotal: 3.29s\tremaining: 15s\n",
      "18:\ttotal: 3.46s\tremaining: 14.7s\n",
      "19:\ttotal: 3.62s\tremaining: 14.5s\n",
      "20:\tlearn: 0.0285915\ttest: 0.0325219\tbest: 0.0325219 (20)\ttotal: 3.79s\tremaining: 14.3s\n",
      "21:\ttotal: 3.95s\tremaining: 14s\n",
      "22:\ttotal: 4.12s\tremaining: 13.8s\n",
      "23:\ttotal: 4.27s\tremaining: 13.5s\n",
      "24:\ttotal: 4.43s\tremaining: 13.3s\n",
      "25:\tlearn: 0.0272661\ttest: 0.0315726\tbest: 0.0315726 (25)\ttotal: 4.61s\tremaining: 13.1s\n",
      "26:\ttotal: 4.78s\tremaining: 12.9s\n",
      "27:\ttotal: 4.94s\tremaining: 12.7s\n",
      "28:\ttotal: 5.1s\tremaining: 12.5s\n",
      "29:\ttotal: 5.27s\tremaining: 12.3s\n",
      "30:\tlearn: 0.0259135\ttest: 0.0304671\tbest: 0.0304671 (30)\ttotal: 5.44s\tremaining: 12.1s\n",
      "31:\ttotal: 5.6s\tremaining: 11.9s\n",
      "32:\ttotal: 5.76s\tremaining: 11.7s\n",
      "33:\ttotal: 5.92s\tremaining: 11.5s\n",
      "34:\ttotal: 6.09s\tremaining: 11.3s\n",
      "35:\tlearn: 0.0249494\ttest: 0.0297148\tbest: 0.0297148 (35)\ttotal: 6.26s\tremaining: 11.1s\n",
      "36:\ttotal: 6.42s\tremaining: 10.9s\n",
      "37:\ttotal: 6.58s\tremaining: 10.7s\n",
      "38:\ttotal: 6.75s\tremaining: 10.6s\n",
      "39:\ttotal: 6.91s\tremaining: 10.4s\n",
      "40:\tlearn: 0.0242833\ttest: 0.0292296\tbest: 0.0292296 (40)\ttotal: 7.08s\tremaining: 10.2s\n",
      "41:\ttotal: 7.25s\tremaining: 10s\n",
      "42:\ttotal: 7.41s\tremaining: 9.82s\n",
      "43:\ttotal: 7.57s\tremaining: 9.63s\n",
      "44:\ttotal: 7.73s\tremaining: 9.45s\n",
      "45:\tlearn: 0.0236207\ttest: 0.0286418\tbest: 0.0286418 (45)\ttotal: 7.9s\tremaining: 9.28s\n",
      "46:\ttotal: 8.07s\tremaining: 9.1s\n",
      "47:\ttotal: 8.22s\tremaining: 8.91s\n",
      "48:\ttotal: 8.39s\tremaining: 8.73s\n",
      "49:\ttotal: 8.55s\tremaining: 8.55s\n",
      "50:\tlearn: 0.0232666\ttest: 0.0284326\tbest: 0.0284326 (50)\ttotal: 8.72s\tremaining: 8.38s\n",
      "51:\ttotal: 8.89s\tremaining: 8.21s\n",
      "52:\ttotal: 9.08s\tremaining: 8.05s\n",
      "53:\ttotal: 9.25s\tremaining: 7.88s\n",
      "54:\ttotal: 9.4s\tremaining: 7.69s\n",
      "55:\tlearn: 0.0224831\ttest: 0.0278761\tbest: 0.0278761 (55)\ttotal: 9.58s\tremaining: 7.53s\n",
      "56:\ttotal: 9.76s\tremaining: 7.36s\n",
      "57:\ttotal: 9.92s\tremaining: 7.18s\n",
      "58:\ttotal: 10.1s\tremaining: 7.01s\n",
      "59:\ttotal: 10.2s\tremaining: 6.83s\n",
      "60:\tlearn: 0.0222827\ttest: 0.0277091\tbest: 0.0277091 (60)\ttotal: 10.4s\tremaining: 6.65s\n",
      "61:\ttotal: 10.6s\tremaining: 6.47s\n",
      "62:\ttotal: 10.7s\tremaining: 6.29s\n",
      "63:\ttotal: 10.9s\tremaining: 6.12s\n",
      "64:\ttotal: 11s\tremaining: 5.94s\n",
      "65:\tlearn: 0.0220839\ttest: 0.0276076\tbest: 0.0276076 (65)\ttotal: 11.2s\tremaining: 5.77s\n",
      "66:\ttotal: 11.4s\tremaining: 5.6s\n",
      "67:\ttotal: 11.5s\tremaining: 5.42s\n",
      "68:\ttotal: 11.7s\tremaining: 5.25s\n",
      "69:\ttotal: 11.8s\tremaining: 5.07s\n",
      "70:\tlearn: 0.0219276\ttest: 0.0275646\tbest: 0.0275646 (70)\ttotal: 12s\tremaining: 4.9s\n",
      "71:\ttotal: 12.2s\tremaining: 4.73s\n",
      "72:\ttotal: 12.3s\tremaining: 4.56s\n",
      "73:\ttotal: 12.5s\tremaining: 4.39s\n",
      "74:\ttotal: 12.7s\tremaining: 4.22s\n",
      "75:\tlearn: 0.0214708\ttest: 0.0272894\tbest: 0.0272894 (75)\ttotal: 12.8s\tremaining: 4.05s\n",
      "76:\ttotal: 13s\tremaining: 3.88s\n",
      "77:\ttotal: 13.2s\tremaining: 3.71s\n",
      "78:\ttotal: 13.3s\tremaining: 3.54s\n",
      "79:\ttotal: 13.5s\tremaining: 3.37s\n",
      "80:\tlearn: 0.0211474\ttest: 0.0270022\tbest: 0.0270022 (80)\ttotal: 13.6s\tremaining: 3.2s\n",
      "81:\ttotal: 13.8s\tremaining: 3.03s\n",
      "82:\ttotal: 14s\tremaining: 2.86s\n",
      "83:\ttotal: 14.1s\tremaining: 2.69s\n",
      "84:\ttotal: 14.3s\tremaining: 2.52s\n",
      "85:\tlearn: 0.0208509\ttest: 0.0268967\tbest: 0.0268967 (85)\ttotal: 14.5s\tremaining: 2.35s\n",
      "86:\ttotal: 14.6s\tremaining: 2.18s\n",
      "87:\ttotal: 14.8s\tremaining: 2.02s\n",
      "88:\ttotal: 14.9s\tremaining: 1.85s\n",
      "89:\ttotal: 15.1s\tremaining: 1.68s\n",
      "90:\tlearn: 0.0202446\ttest: 0.0265033\tbest: 0.0265033 (90)\ttotal: 15.3s\tremaining: 1.51s\n",
      "91:\ttotal: 15.4s\tremaining: 1.34s\n",
      "92:\ttotal: 15.6s\tremaining: 1.17s\n",
      "93:\ttotal: 15.8s\tremaining: 1.01s\n",
      "94:\ttotal: 15.9s\tremaining: 838ms\n",
      "95:\tlearn: 0.0200319\ttest: 0.0263801\tbest: 0.0263801 (95)\ttotal: 16.1s\tremaining: 671ms\n",
      "96:\ttotal: 16.3s\tremaining: 503ms\n",
      "97:\ttotal: 16.4s\tremaining: 335ms\n",
      "98:\ttotal: 16.6s\tremaining: 167ms\n",
      "99:\tlearn: 0.0199517\ttest: 0.0263356\tbest: 0.0263356 (99)\ttotal: 16.7s\tremaining: 0us\n",
      "bestTest = 0.02633557247\n",
      "bestIteration = 99\n"
     ]
    }
   ],
   "source": [
    "#Training Model\n",
    "start_time()\n",
    "tb_catb = setup_model(TB_HYPERPARAMS, \"TB\")\n",
    "tb_catb.fit(X_tb_training, y_tb_training, plot=True, eval_set=catboost.Pool(X_tb_validate, label=y_tb_validate, cat_features=get_indexes()), save_snapshot=True, snapshot_interval=60)\n",
    "end_time(\"CATB_TB\")\n",
    "\n",
    "#Saving Model as file\n",
    "tb_catb.save_model(\"Outputs/CATB/\"+MODEL_FILENAME+\"_CATB_TB.model\", format=\"json\")"
   ]
  },
  {
   "cell_type": "markdown",
   "id": "bec8c2a4",
   "metadata": {},
   "source": [
    "### 2.2.2. Checking Performance\n",
    "\n",
    "Using the split for validation for a bit of internal checking of performance (i.e., not official)"
   ]
  },
  {
   "cell_type": "code",
   "execution_count": 11,
   "id": "93b44da8",
   "metadata": {
    "scrolled": true
   },
   "outputs": [
    {
     "name": "stdout",
     "output_type": "stream",
     "text": [
      "CATB_TB\n",
      "              precision    recall  f1-score   support\n",
      "\n",
      "           0     0.9987    0.9892    0.9939     10842\n",
      "           1     0.9893    0.9987    0.9940     10848\n",
      "\n",
      "    accuracy                         0.9940     21690\n",
      "   macro avg     0.9940    0.9940    0.9940     21690\n",
      "weighted avg     0.9940    0.9940    0.9940     21690\n",
      "\n"
     ]
    },
    {
     "data": {
      "image/png": "[encoded data removed]",
      "text/plain": [
       "<Figure size 640x480 with 2 Axes>"
      ]
     },
     "metadata": {},
     "output_type": "display_data"
    }
   ],
   "source": [
    "y_pred = tb_catb.predict(X_tb_validate)\n",
    "print(\"CATB_TB\")\n",
    "print(classification_report(y_tb_validate, y_pred, digits=4))\n",
    "print(classification_report(y_tb_validate, y_pred, digits=4), file=open(\"Outputs/CATB/\"+MODEL_FILENAME+\"_CATB_TB_ClassReport.txt\", mode='w'))\n",
    "disp = ConfusionMatrixDisplay(confusion_matrix(y_tb_validate, y_pred))\n",
    "disp.plot()\n",
    "plt.savefig(\"Outputs/CATB/\"+MODEL_FILENAME+\"_CATB_TB_\"+\"_ConfMatrix.png\")"
   ]
  },
  {
   "cell_type": "markdown",
   "id": "770125ef",
   "metadata": {},
   "source": [
    "### 2.2.3. Preview of the Tree\n",
    "\n",
    "*How can it be a tree if there is no proof of a tree?*"
   ]
  },
  {
   "cell_type": "code",
   "execution_count": 12,
   "id": "3e0400c7",
   "metadata": {
    "scrolled": true
   },
   "outputs": [],
   "source": [
    "# tree = tb_catb.plot_tree(0, catboost.Pool(X_tb_training, y_tb_training, cat_features=get_indexes(), feature_names=list(X_tb_training.columns)))\n",
    "# tree.save(\"Outputs/CATB/\"+MODEL_FILENAME+\"_CATB_TREE/TB_Tree\"+\".svg\")\n",
    "# display(tree)"
   ]
  },
  {
   "cell_type": "markdown",
   "id": "070b0d7e",
   "metadata": {},
   "source": [
    "## 2.3. Training on Instance-Based Behaviors"
   ]
  },
  {
   "cell_type": "markdown",
   "id": "ca10fb20",
   "metadata": {},
   "source": [
    "### 2.3.1 Training Model"
   ]
  },
  {
   "cell_type": "code",
   "execution_count": 13,
   "id": "38e7f94a",
   "metadata": {
    "scrolled": true
   },
   "outputs": [
    {
     "data": {
      "application/vnd.jupyter.widget-view+json": {
       "model_id": "e4e8cf8f58944163a98eeee0893f8cf0",
       "version_major": 2,
       "version_minor": 0
      },
      "text/plain": [
       "MetricVisualizer(layout=Layout(align_self='stretch', height='500px'))"
      ]
     },
     "metadata": {},
     "output_type": "display_data"
    },
    {
     "name": "stderr",
     "output_type": "stream",
     "text": [
      "Default metric period is 5 because AUC is/are not implemented for GPU\n"
     ]
    },
    {
     "name": "stdout",
     "output_type": "stream",
     "text": [
      "0:\tlearn: 0.4407060\ttest: 0.4418073\tbest: 0.4418073 (0)\ttotal: 197ms\tremaining: 19.5s\n",
      "1:\ttotal: 345ms\tremaining: 16.9s\n",
      "2:\ttotal: 489ms\tremaining: 15.8s\n",
      "3:\ttotal: 635ms\tremaining: 15.2s\n",
      "4:\ttotal: 783ms\tremaining: 14.9s\n",
      "5:\tlearn: 0.0904172\ttest: 0.0920499\tbest: 0.0920499 (5)\ttotal: 955ms\tremaining: 15s\n",
      "6:\ttotal: 1.1s\tremaining: 14.6s\n",
      "7:\ttotal: 1.24s\tremaining: 14.3s\n",
      "8:\ttotal: 1.39s\tremaining: 14.1s\n",
      "9:\ttotal: 1.53s\tremaining: 13.8s\n",
      "10:\tlearn: 0.0447984\ttest: 0.0471217\tbest: 0.0471217 (10)\ttotal: 1.69s\tremaining: 13.7s\n",
      "11:\ttotal: 1.83s\tremaining: 13.4s\n",
      "12:\ttotal: 1.97s\tremaining: 13.2s\n",
      "13:\ttotal: 2.12s\tremaining: 13s\n",
      "14:\ttotal: 2.27s\tremaining: 12.8s\n",
      "15:\tlearn: 0.0330366\ttest: 0.0359343\tbest: 0.0359343 (15)\ttotal: 2.41s\tremaining: 12.7s\n",
      "16:\ttotal: 2.55s\tremaining: 12.4s\n",
      "17:\ttotal: 2.69s\tremaining: 12.2s\n",
      "18:\ttotal: 2.83s\tremaining: 12.1s\n",
      "19:\ttotal: 2.97s\tremaining: 11.9s\n",
      "20:\tlearn: 0.0292183\ttest: 0.0324198\tbest: 0.0324198 (20)\ttotal: 3.12s\tremaining: 11.7s\n",
      "21:\ttotal: 3.26s\tremaining: 11.6s\n",
      "22:\ttotal: 3.4s\tremaining: 11.4s\n",
      "23:\ttotal: 3.54s\tremaining: 11.2s\n",
      "24:\ttotal: 3.68s\tremaining: 11s\n",
      "25:\tlearn: 0.0276570\ttest: 0.0313367\tbest: 0.0313367 (25)\ttotal: 3.82s\tremaining: 10.9s\n",
      "26:\ttotal: 3.96s\tremaining: 10.7s\n",
      "27:\ttotal: 4.1s\tremaining: 10.6s\n",
      "28:\ttotal: 4.24s\tremaining: 10.4s\n",
      "29:\ttotal: 4.38s\tremaining: 10.2s\n",
      "30:\tlearn: 0.0263756\ttest: 0.0304531\tbest: 0.0304531 (30)\ttotal: 4.52s\tremaining: 10.1s\n",
      "31:\ttotal: 4.67s\tremaining: 9.91s\n",
      "32:\ttotal: 4.81s\tremaining: 9.76s\n",
      "33:\ttotal: 4.95s\tremaining: 9.61s\n",
      "34:\ttotal: 5.1s\tremaining: 9.46s\n",
      "35:\tlearn: 0.0250265\ttest: 0.0294601\tbest: 0.0294601 (35)\ttotal: 5.24s\tremaining: 9.32s\n",
      "36:\ttotal: 5.38s\tremaining: 9.16s\n",
      "37:\ttotal: 5.52s\tremaining: 9s\n",
      "38:\ttotal: 5.65s\tremaining: 8.84s\n",
      "39:\ttotal: 5.79s\tremaining: 8.69s\n",
      "40:\tlearn: 0.0245127\ttest: 0.0291933\tbest: 0.0291933 (40)\ttotal: 5.94s\tremaining: 8.54s\n",
      "41:\ttotal: 6.07s\tremaining: 8.39s\n",
      "42:\ttotal: 6.21s\tremaining: 8.23s\n",
      "43:\ttotal: 6.35s\tremaining: 8.08s\n",
      "44:\ttotal: 6.49s\tremaining: 7.93s\n",
      "45:\tlearn: 0.0239261\ttest: 0.0288341\tbest: 0.0288341 (45)\ttotal: 6.63s\tremaining: 7.78s\n",
      "46:\ttotal: 6.76s\tremaining: 7.63s\n",
      "47:\ttotal: 6.9s\tremaining: 7.48s\n",
      "48:\ttotal: 7.04s\tremaining: 7.33s\n",
      "49:\ttotal: 7.18s\tremaining: 7.18s\n",
      "50:\tlearn: 0.0236753\ttest: 0.0287903\tbest: 0.0287903 (50)\ttotal: 7.33s\tremaining: 7.04s\n",
      "51:\ttotal: 7.47s\tremaining: 6.89s\n",
      "52:\ttotal: 7.61s\tremaining: 6.74s\n",
      "53:\ttotal: 7.75s\tremaining: 6.6s\n",
      "54:\ttotal: 7.88s\tremaining: 6.45s\n",
      "55:\tlearn: 0.0233027\ttest: 0.0284677\tbest: 0.0284677 (55)\ttotal: 8.03s\tremaining: 6.31s\n",
      "56:\ttotal: 8.17s\tremaining: 6.16s\n",
      "57:\ttotal: 8.3s\tremaining: 6.01s\n",
      "58:\ttotal: 8.45s\tremaining: 5.87s\n",
      "59:\ttotal: 8.59s\tremaining: 5.72s\n",
      "60:\tlearn: 0.0231141\ttest: 0.0284460\tbest: 0.0284460 (60)\ttotal: 8.74s\tremaining: 5.59s\n",
      "61:\ttotal: 8.88s\tremaining: 5.44s\n",
      "62:\ttotal: 9.01s\tremaining: 5.29s\n",
      "63:\ttotal: 9.15s\tremaining: 5.15s\n",
      "64:\ttotal: 9.29s\tremaining: 5s\n",
      "65:\tlearn: 0.0229637\ttest: 0.0283876\tbest: 0.0283876 (65)\ttotal: 9.43s\tremaining: 4.86s\n",
      "66:\ttotal: 9.58s\tremaining: 4.72s\n",
      "67:\ttotal: 9.73s\tremaining: 4.58s\n",
      "68:\ttotal: 9.87s\tremaining: 4.43s\n",
      "69:\ttotal: 10s\tremaining: 4.29s\n",
      "70:\tlearn: 0.0225665\ttest: 0.0280968\tbest: 0.0280968 (70)\ttotal: 10.1s\tremaining: 4.14s\n",
      "71:\ttotal: 10.3s\tremaining: 4s\n",
      "72:\ttotal: 10.4s\tremaining: 3.87s\n",
      "73:\ttotal: 10.6s\tremaining: 3.72s\n",
      "74:\ttotal: 10.7s\tremaining: 3.58s\n",
      "75:\tlearn: 0.0223156\ttest: 0.0279819\tbest: 0.0279819 (75)\ttotal: 10.9s\tremaining: 3.43s\n",
      "76:\ttotal: 11s\tremaining: 3.29s\n",
      "77:\ttotal: 11.1s\tremaining: 3.14s\n",
      "78:\ttotal: 11.3s\tremaining: 3s\n",
      "79:\ttotal: 11.4s\tremaining: 2.85s\n",
      "80:\tlearn: 0.0222465\ttest: 0.0279964\tbest: 0.0279819 (75)\ttotal: 11.6s\tremaining: 2.71s\n",
      "81:\ttotal: 11.7s\tremaining: 2.57s\n",
      "82:\ttotal: 11.8s\tremaining: 2.42s\n",
      "83:\ttotal: 12s\tremaining: 2.28s\n",
      "84:\ttotal: 12.1s\tremaining: 2.14s\n",
      "85:\tlearn: 0.0219028\ttest: 0.0277668\tbest: 0.0277668 (85)\ttotal: 12.3s\tremaining: 2s\n",
      "86:\ttotal: 12.4s\tremaining: 1.85s\n",
      "87:\ttotal: 12.5s\tremaining: 1.71s\n",
      "88:\ttotal: 12.7s\tremaining: 1.57s\n",
      "89:\ttotal: 12.8s\tremaining: 1.42s\n",
      "90:\tlearn: 0.0217806\ttest: 0.0277189\tbest: 0.0277189 (90)\ttotal: 13s\tremaining: 1.28s\n",
      "91:\ttotal: 13.1s\tremaining: 1.14s\n",
      "92:\ttotal: 13.2s\tremaining: 997ms\n",
      "93:\ttotal: 13.4s\tremaining: 854ms\n",
      "94:\ttotal: 13.5s\tremaining: 712ms\n",
      "95:\tlearn: 0.0216312\ttest: 0.0276925\tbest: 0.0276925 (95)\ttotal: 13.7s\tremaining: 570ms\n",
      "96:\ttotal: 13.8s\tremaining: 427ms\n",
      "97:\ttotal: 14s\tremaining: 285ms\n",
      "98:\ttotal: 14.1s\tremaining: 142ms\n",
      "99:\tlearn: 0.0210639\ttest: 0.0271621\tbest: 0.0271621 (99)\ttotal: 14.2s\tremaining: 0us\n",
      "bestTest = 0.02716213594\n",
      "bestIteration = 99\n"
     ]
    }
   ],
   "source": [
    "#Training Model\n",
    "start_time()\n",
    "ib_catb = setup_model(IB_HYPERPARAMS, \"IB\")\n",
    "ib_catb.fit(X_ib_training, y_ib_training, plot=True, eval_set=catboost.Pool(X_ib_validate, label=y_ib_validate, cat_features=get_indexes()), save_snapshot=True, snapshot_interval=60)\n",
    "end_time(\"CATB_IB\")\n",
    "\n",
    "#Saving Model as file\n",
    "ib_catb.save_model(\"Outputs/CATB/\"+MODEL_FILENAME+\"_CATB_IB.model\", format=\"json\")"
   ]
  },
  {
   "cell_type": "markdown",
   "id": "7019d9f1",
   "metadata": {},
   "source": [
    "### 2.3.2. Checking Performance\n",
    "\n",
    "Using the split for validation for a bit of internal checking of performance (i.e., not official)"
   ]
  },
  {
   "cell_type": "code",
   "execution_count": 14,
   "id": "6aa4c727",
   "metadata": {},
   "outputs": [
    {
     "name": "stdout",
     "output_type": "stream",
     "text": [
      "CATB_IB\n",
      "              precision    recall  f1-score   support\n",
      "\n",
      "           0     0.9984    0.9893    0.9938     10842\n",
      "           1     0.9894    0.9984    0.9939     10848\n",
      "\n",
      "    accuracy                         0.9939     21690\n",
      "   macro avg     0.9939    0.9939    0.9939     21690\n",
      "weighted avg     0.9939    0.9939    0.9939     21690\n",
      "\n"
     ]
    },
    {
     "data": {
      "image/png": "[encoded data removed]",
      "text/plain": [
       "<Figure size 640x480 with 2 Axes>"
      ]
     },
     "metadata": {},
     "output_type": "display_data"
    }
   ],
   "source": [
    "y_pred = ib_catb.predict(X_ib_validate)\n",
    "print(\"CATB_IB\")\n",
    "print(classification_report(y_ib_validate, y_pred, digits=4))\n",
    "print(classification_report(y_ib_validate, y_pred, digits=4), file=open(\"Outputs/CATB/\"+MODEL_FILENAME+\"_CATB_IB_ClassReport.txt\", mode='w'))\n",
    "disp = ConfusionMatrixDisplay(confusion_matrix(y_ib_validate, y_pred))\n",
    "disp.plot()\n",
    "plt.savefig(\"Outputs/CATB/\"+MODEL_FILENAME+\"_CATB_IB_\"+\"_ConfMatrix.png\")"
   ]
  },
  {
   "cell_type": "markdown",
   "id": "f00ffacf",
   "metadata": {},
   "source": [
    "### 2.3.3. Preview of the Tree\n",
    "\n",
    "*How can it be a tree if there is no proof of a tree?*"
   ]
  },
  {
   "cell_type": "code",
   "execution_count": 15,
   "id": "3f262cd8",
   "metadata": {
    "scrolled": true
   },
   "outputs": [],
   "source": [
    "# tree = ib_catb.plot_tree(0, catboost.Pool(X_ib_training, y_ib_training, cat_features=get_indexes(), feature_names=list(X_ib_training.columns)))\n",
    "# tree.save(\"Outputs/CATB/\"+MODEL_FILENAME+\"_CATB_TREE/IB_Tree\"+\".svg\")\n",
    "# tree"
   ]
  },
  {
   "cell_type": "code",
   "execution_count": 16,
   "id": "514e4f94",
   "metadata": {},
   "outputs": [],
   "source": [
    "logging(\"\\n\")"
   ]
  }
 ],
 "metadata": {
  "kernelspec": {
   "display_name": "Python 3 (ipykernel)",
   "language": "python",
   "name": "python3"
  },
  "language_info": {
   "codemirror_mode": {
    "name": "ipython",
    "version": 3
   },
   "file_extension": ".py",
   "mimetype": "text/x-python",
   "name": "python",
   "nbconvert_exporter": "python",
   "pygments_lexer": "ipython3",
   "version": "3.11.5"
  }
 },
 "nbformat": 4,
 "nbformat_minor": 5
}
