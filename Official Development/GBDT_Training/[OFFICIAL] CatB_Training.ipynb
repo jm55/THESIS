{
 "cells": [
  {
   "cell_type": "markdown",
   "id": "758a5c9f",
   "metadata": {},
   "source": [
    "# Evaluation and Comparison of Boosted ML Models in Behavior-Based Malware Detection\n",
    "\n",
    "\n",
    "## Notebook: CatBoost Training\n",
    "\n",
    "***\n",
    "\n",
    "**What is the objective of this file?**\n",
    "\n",
    "To train the model using the Train Split (Statically Split)."
   ]
  },
  {
   "cell_type": "markdown",
   "id": "d920d303",
   "metadata": {},
   "source": [
    "## Checklist\n",
    "\n",
    "- Ensure that you have the proper dataset files that you intend to use (i.e., whether the lite dataset or full version). \n",
    "    - The datasets it will use points to `/Official Development/Dataset/IB` & `/Official Development/Dataset/TB`. \n",
    "    - You can run the `/Official Development/Dataset [OFFICIAL] Oliveira Dataset Notebook.ipynb file` or unzip one of the zipped folders in the `/Official Development/Dataset/Processed` towards the two aforementioned folders. \n",
    "- Ensure that you have installed the necessary libraries needed to execute the training process. \n",
    "    - You can view the list of the specific versions in the thesis document or through the `.sh` or `.bat` files in the repository's home directory."
   ]
  },
  {
   "cell_type": "markdown",
   "id": "321d3b3d",
   "metadata": {},
   "source": [
    "# 1. CatB Training Setup\n",
    "\n",
    "Setting training environment parameters."
   ]
  },
  {
   "cell_type": "markdown",
   "id": "d57e1ac7",
   "metadata": {},
   "source": [
    "## 1.0. Tuning Settings\n",
    "\n",
    "1. What will the output filename be?\n",
    "2. Will you train a tuned model?\n",
    "3. What hyperparameter values will you use?\n",
    "\n",
    "For no. 3, the value looks like\n",
    "`{'task_type': 'CPU', 'objective': 'Logloss', 'n_estimators': 50, 'max_depth': 11, 'learning_rate': 0.1, 'l2_leaf_reg': 2, 'grow_policy': 'SymmetricTree', 'bootstrap_type': 'Bayesian', 'boosting_type': 'Ordered', 'auto_class_weights': 'Balanced'}`\n",
    "which is obtained as part of the results of the associated tuning file to this file.\n",
    "\n",
    "Alternatively, you can just point a file directly to it (overrides the manual setup if not empty).\n",
    "\n",
    "**Do not include the custom hyperparameter values for `random_state`, `thread_count`, `verbose`, `cat_features`, and `nan_mode` as the values for these are hardcoded to the notebook.**"
   ]
  },
  {
   "cell_type": "code",
   "execution_count": 17,
   "id": "dfb4e2cd",
   "metadata": {},
   "outputs": [],
   "source": [
    "MODEL_FILENAME = \"RYZEN2\" # <== Set the prefix for the filename of the output file (don't include file extension)\n",
    "TUNED_TRAINING = True # <== Set as True if you'll be training a tuned model.\n",
    "\n",
    "# These parameters are mostly default valued parameters for CatBoost except some that are mentioned in the paper (e.g., Ordered Boosting, Symmeteric Tree); Set as None for truly defaults.\n",
    "TB_HYPERPARAMS = None # None or like \"{'task_type': 'CPU', 'objective':'Logloss', 'grow_policy': 'SymmetricTree', 'bootstrap_type': 'Bayesian', 'boosting_type': 'Ordered'}\"\n",
    "IB_HYPERPARAMS = None # None or like \"{'task_type': 'CPU', 'objective':'Logloss', 'grow_policy': 'SymmetricTree', 'bootstrap_type': 'Bayesian', 'boosting_type': 'Ordered'}\"\n",
    "\n",
    "TB_HYPERPARAMS_FILE = \"./Outputs/Results/Ryzen2/CatB Tuning/RYZEN2_CATB_TB.tune\" # <== Empty string or Pointing a .tune file overrides the value set above.\n",
    "IB_HYPERPARAMS_FILE = \"./Outputs/Results/Ryzen2/CatB Tuning/RYZEN2_CATB_IB.tune\" # <== Empty string or Pointing a .tune file overrides the value set above.\n",
    "\n",
    "STATIC_SPLIT = 0.3 # <== To achieve the 70:30 Static Split\n",
    "RANDOM_SEED = 1 # <== Must be the same throughout the entire study (acts as a controlled variable), hence let's just settle with 1."
   ]
  },
  {
   "cell_type": "markdown",
   "id": "f6c94ddb",
   "metadata": {},
   "source": [
    "# ⚠️Warning\n",
    "\n",
    "**Be careful of modifying the code beyond this point as it was designed to run autonomously based on the parameters set above.**"
   ]
  },
  {
   "cell_type": "markdown",
   "id": "9d90fe9c",
   "metadata": {},
   "source": [
    "## 1.1. Loading Libraries"
   ]
  },
  {
   "cell_type": "code",
   "execution_count": 18,
   "id": "871b8f06",
   "metadata": {},
   "outputs": [],
   "source": [
    "#Python Libraries\n",
    "import time\n",
    "from datetime import datetime\n",
    "import json\n",
    "\n",
    "#Data/Dataset Libraries\n",
    "import pandas as pd\n",
    "import numpy as np\n",
    "\n",
    "#Model Selection\n",
    "from sklearn.model_selection import train_test_split\n",
    "\n",
    "#Metrics (for in-training testing only)\n",
    "from sklearn.metrics import classification_report, accuracy_score, balanced_accuracy_score, f1_score\n",
    "from sklearn.metrics import confusion_matrix, ConfusionMatrixDisplay\n",
    "from sklearn.metrics import precision_score, recall_score, roc_auc_score\n",
    "\n",
    "#Visualization\n",
    "from matplotlib import pyplot as plt\n",
    "\n",
    "#GBDT Models\n",
    "# import lightgbm\n",
    "import catboost\n",
    "\n",
    "#File Writing Library (exclusive for use on LightGBM)\n",
    "from joblib import dump, load"
   ]
  },
  {
   "cell_type": "markdown",
   "id": "1e6877c2",
   "metadata": {},
   "source": [
    "## 1.2. Logging and Diagnostics"
   ]
  },
  {
   "cell_type": "code",
   "execution_count": 19,
   "id": "7d0b6914",
   "metadata": {
    "scrolled": true
   },
   "outputs": [
    {
     "name": "stdout",
     "output_type": "stream",
     "text": [
      "Parsed TB Hyperparams: {'boosting_type': 'Ordered', 'bootstrap_type': 'Bayesian', 'gpu_cat_features_storage': 'CpuPinnedMemory', 'grow_policy': 'SymmetricTree', 'l2_leaf_reg': 2, 'learning_rate': 0.1, 'max_depth': 8, 'n_estimators': 100, 'objective': 'Logloss', 'task_type': 'GPU'}\n",
      "\n",
      "Parsed IB Hyperparams: {'boosting_type': 'Ordered', 'bootstrap_type': 'Bayesian', 'gpu_cat_features_storage': 'CpuPinnedMemory', 'grow_policy': 'SymmetricTree', 'l2_leaf_reg': 2, 'learning_rate': 0.1, 'max_depth': 8, 'n_estimators': 100, 'objective': 'Logloss', 'task_type': 'GPU'}\n"
     ]
    }
   ],
   "source": [
    "if TUNED_TRAINING:\n",
    "    MODEL_FILENAME = \"TUNED_\" + MODEL_FILENAME\n",
    "    if len(TB_HYPERPARAMS_FILE) != 0:\n",
    "        f = open(TB_HYPERPARAMS_FILE, \"r\")\n",
    "        TB_HYPERPARAMS = f.readline()\n",
    "        f.close()\n",
    "    if len(IB_HYPERPARAMS_FILE) != 0:\n",
    "        f = open(IB_HYPERPARAMS_FILE, \"r\")\n",
    "        IB_HYPERPARAMS = f.readline()\n",
    "        f.close()\n",
    "    TB_HYPERPARAMS = TB_HYPERPARAMS.replace('\\'', '\\\"')#.replace(\"False\", \"\\\"False\\\"\").replace(\"True\", \"\\\"True\\\"\")\n",
    "    TB_HYPERPARAMS = json.loads(str(TB_HYPERPARAMS))\n",
    "    print(\"Parsed TB Hyperparams:\", TB_HYPERPARAMS)\n",
    "    print(\"\")\n",
    "    IB_HYPERPARAMS = IB_HYPERPARAMS.replace('\\'', '\\\"')#.replace(\"False\", \"\\\"False\\\"\").replace(\"True\", \"\\\"True\\\"\")\n",
    "    IB_HYPERPARAMS = json.loads(str(IB_HYPERPARAMS))\n",
    "    print(\"Parsed IB Hyperparams:\", IB_HYPERPARAMS)\n",
    "else:\n",
    "    if TB_HYPERPARAMS != None:\n",
    "        TB_HYPERPARAMS = TB_HYPERPARAMS.replace('\\'', '\\\"').replace(\"False\", \"\\\"False\\\"\").replace(\"True\", \"\\\"True\\\"\")\n",
    "        TB_HYPERPARAMS = json.loads(str(TB_HYPERPARAMS))\n",
    "    else:\n",
    "        TB_HYPERPARAMS = None\n",
    "    if IB_HYPERPARAMS != None:\n",
    "        IB_HYPERPARAMS = IB_HYPERPARAMS.replace('\\'', '\\\"').replace(\"False\", \"\\\"False\\\"\").replace(\"True\", \"\\\"True\\\"\")\n",
    "        IB_HYPERPARAMS = json.loads(str(IB_HYPERPARAMS))\n",
    "    else:\n",
    "        IB_HYPERPARAMS = None\n",
    "\n",
    "start = end = 0\n",
    "LOG_FILENAME = \"CATB_Training_Log.txt\"\n",
    "def logging(message):\n",
    "    log = open(LOG_FILENAME, \"a\")\n",
    "    log.write(message)\n",
    "    log.close()\n",
    "def start_time():\n",
    "    global start\n",
    "    start = time.time()\n",
    "def end_time(process):\n",
    "    global start\n",
    "    elapse = time.time()-start\n",
    "    start = 0\n",
    "    printout = f\"{str(datetime.now())}@{MODEL_FILENAME}: {process} - {round(elapse, 6)}s\\n\"\n",
    "    logging(printout)\n",
    "    return round(elapse, 6)"
   ]
  },
  {
   "cell_type": "markdown",
   "id": "db4e5ad5",
   "metadata": {},
   "source": [
    "## 1.3. Loading Datasets\n",
    "\n",
    "Note that it will use the files in `/Official Development/Dataset/IB` & `/Official Development/Dataset/TB`. "
   ]
  },
  {
   "cell_type": "markdown",
   "id": "76101390",
   "metadata": {},
   "source": [
    "### 1.3.1. Setting filenames"
   ]
  },
  {
   "cell_type": "code",
   "execution_count": 20,
   "id": "6e1c43ce",
   "metadata": {},
   "outputs": [],
   "source": [
    "#Setting filenames of files\n",
    "TB_Train = \"../Dataset/TB/CATB_TB.csv\" # <== Location for Time-based Train Split for CatBoost\n",
    "#TB_Test = \"../Dataset/TB/TB_Test_CATB.csv\" # <== Location for Time-based Test Split for CatBoost\n",
    "IB_Train = \"../Dataset/IB/CATB_IB.csv\" # <== Location for Instance-based Train Split for CatBoost\n",
    "#IB_Test = \"../Dataset/IB/IB_Test_CATB.csv\" # <== Location for Instance-based Test Split for CatBoost"
   ]
  },
  {
   "cell_type": "markdown",
   "id": "0c1495cf",
   "metadata": {},
   "source": [
    "### 1.3.2. Loading datasets to DataFrames"
   ]
  },
  {
   "cell_type": "code",
   "execution_count": 21,
   "id": "43eca18c",
   "metadata": {},
   "outputs": [
    {
     "name": "stdout",
     "output_type": "stream",
     "text": [
      "Dataset Sizes\n",
      "TB Train Size: (72984, 101)\n",
      "IB Train Size: (72984, 101)\n"
     ]
    }
   ],
   "source": [
    "#Loading datasets to DataFrames\n",
    "tb_train = pd.read_csv(TB_Train, low_memory=False).fillna(\"NaN\")\n",
    "ib_train = pd.read_csv(IB_Train, low_memory=False).fillna(\"NaN\")\n",
    "\n",
    "print(\"Dataset Sizes\")\n",
    "print(\"TB Train Size:\", tb_train.shape)\n",
    "print(\"IB Train Size:\", ib_train.shape)"
   ]
  },
  {
   "cell_type": "markdown",
   "id": "5dfb9ade",
   "metadata": {},
   "source": [
    "### 1.3.3. Previewing datasets"
   ]
  },
  {
   "cell_type": "code",
   "execution_count": 22,
   "id": "fba694e6",
   "metadata": {},
   "outputs": [
    {
     "data": {
      "text/html": [
       "<div>\n",
       "<style scoped>\n",
       "    .dataframe tbody tr th:only-of-type {\n",
       "        vertical-align: middle;\n",
       "    }\n",
       "\n",
       "    .dataframe tbody tr th {\n",
       "        vertical-align: top;\n",
       "    }\n",
       "\n",
       "    .dataframe thead th {\n",
       "        text-align: right;\n",
       "    }\n",
       "</style>\n",
       "<table border=\"1\" class=\"dataframe\">\n",
       "  <thead>\n",
       "    <tr style=\"text-align: right;\">\n",
       "      <th></th>\n",
       "      <th>malware</th>\n",
       "      <th>t_0</th>\n",
       "      <th>t_1</th>\n",
       "      <th>t_2</th>\n",
       "      <th>t_3</th>\n",
       "      <th>t_4</th>\n",
       "      <th>t_5</th>\n",
       "      <th>t_6</th>\n",
       "      <th>t_7</th>\n",
       "      <th>t_8</th>\n",
       "      <th>...</th>\n",
       "      <th>t_90</th>\n",
       "      <th>t_91</th>\n",
       "      <th>t_92</th>\n",
       "      <th>t_93</th>\n",
       "      <th>t_94</th>\n",
       "      <th>t_95</th>\n",
       "      <th>t_96</th>\n",
       "      <th>t_97</th>\n",
       "      <th>t_98</th>\n",
       "      <th>t_99</th>\n",
       "    </tr>\n",
       "  </thead>\n",
       "  <tbody>\n",
       "    <tr>\n",
       "      <th>0</th>\n",
       "      <td>1</td>\n",
       "      <td>SetErrorMode</td>\n",
       "      <td>OleInitialize</td>\n",
       "      <td>LdrGetDllHandle</td>\n",
       "      <td>LdrLoadDll</td>\n",
       "      <td>LdrGetProcedureAddress</td>\n",
       "      <td>LdrLoadDll</td>\n",
       "      <td>LdrGetProcedureAddress</td>\n",
       "      <td>LdrLoadDll</td>\n",
       "      <td>LdrGetProcedureAddress</td>\n",
       "      <td>...</td>\n",
       "      <td>RegOpenKeyExW</td>\n",
       "      <td>RegQueryValueExW</td>\n",
       "      <td>RegCloseKey</td>\n",
       "      <td>NtCreateMutant</td>\n",
       "      <td>GetNativeSystemInfo</td>\n",
       "      <td>GetSystemWindowsDirectoryW</td>\n",
       "      <td>NtClose</td>\n",
       "      <td>LdrLoadDll</td>\n",
       "      <td>LdrGetProcedureAddress</td>\n",
       "      <td>LdrLoadDll</td>\n",
       "    </tr>\n",
       "    <tr>\n",
       "      <th>1</th>\n",
       "      <td>1</td>\n",
       "      <td>GetSystemTimeAsFileTime</td>\n",
       "      <td>LdrLoadDll</td>\n",
       "      <td>LdrGetProcedureAddress</td>\n",
       "      <td>LdrLoadDll</td>\n",
       "      <td>LdrGetProcedureAddress</td>\n",
       "      <td>LdrLoadDll</td>\n",
       "      <td>LdrGetProcedureAddress</td>\n",
       "      <td>LdrLoadDll</td>\n",
       "      <td>LdrGetProcedureAddress</td>\n",
       "      <td>...</td>\n",
       "      <td>RegQueryValueExW</td>\n",
       "      <td>RegOpenKeyExW</td>\n",
       "      <td>RegQueryValueExW</td>\n",
       "      <td>RegOpenKeyExW</td>\n",
       "      <td>RegQueryValueExW</td>\n",
       "      <td>RegOpenKeyExW</td>\n",
       "      <td>RegQueryValueExW</td>\n",
       "      <td>RegOpenKeyExW</td>\n",
       "      <td>RegQueryValueExW</td>\n",
       "      <td>RegOpenKeyExW</td>\n",
       "    </tr>\n",
       "    <tr>\n",
       "      <th>2</th>\n",
       "      <td>1</td>\n",
       "      <td>NtAllocateVirtualMemory</td>\n",
       "      <td>SetErrorMode</td>\n",
       "      <td>LoadStringA</td>\n",
       "      <td>OleInitialize</td>\n",
       "      <td>LdrLoadDll</td>\n",
       "      <td>LdrGetProcedureAddress</td>\n",
       "      <td>NtAllocateVirtualMemory</td>\n",
       "      <td>NtFreeVirtualMemory</td>\n",
       "      <td>NtAllocateVirtualMemory</td>\n",
       "      <td>...</td>\n",
       "      <td>RegOpenKeyExW</td>\n",
       "      <td>RegQueryValueExW</td>\n",
       "      <td>RegCloseKey</td>\n",
       "      <td>RegOpenKeyExW</td>\n",
       "      <td>DrawTextExW</td>\n",
       "      <td>GetSystemMetrics</td>\n",
       "      <td>DrawTextExW</td>\n",
       "      <td>GetSystemMetrics</td>\n",
       "      <td>SetErrorMode</td>\n",
       "      <td>LdrLoadDll</td>\n",
       "    </tr>\n",
       "    <tr>\n",
       "      <th>3</th>\n",
       "      <td>1</td>\n",
       "      <td>NtAllocateVirtualMemory</td>\n",
       "      <td>SetErrorMode</td>\n",
       "      <td>LoadStringA</td>\n",
       "      <td>OleInitialize</td>\n",
       "      <td>LdrLoadDll</td>\n",
       "      <td>LdrGetProcedureAddress</td>\n",
       "      <td>NtAllocateVirtualMemory</td>\n",
       "      <td>NtFreeVirtualMemory</td>\n",
       "      <td>NtAllocateVirtualMemory</td>\n",
       "      <td>...</td>\n",
       "      <td>SetErrorMode</td>\n",
       "      <td>GetSystemTimeAsFileTime</td>\n",
       "      <td>LdrLoadDll</td>\n",
       "      <td>SetErrorMode</td>\n",
       "      <td>LdrGetProcedureAddress</td>\n",
       "      <td>NtQuerySystemInformation</td>\n",
       "      <td>SetErrorMode</td>\n",
       "      <td>LdrLoadDll</td>\n",
       "      <td>SetErrorMode</td>\n",
       "      <td>LdrGetProcedureAddress</td>\n",
       "    </tr>\n",
       "    <tr>\n",
       "      <th>4</th>\n",
       "      <td>1</td>\n",
       "      <td>LdrLoadDll</td>\n",
       "      <td>LdrGetProcedureAddress</td>\n",
       "      <td>LdrLoadDll</td>\n",
       "      <td>LdrGetProcedureAddress</td>\n",
       "      <td>LdrLoadDll</td>\n",
       "      <td>LdrGetProcedureAddress</td>\n",
       "      <td>LdrLoadDll</td>\n",
       "      <td>LdrGetProcedureAddress</td>\n",
       "      <td>LdrLoadDll</td>\n",
       "      <td>...</td>\n",
       "      <td>LookupAccountSidW</td>\n",
       "      <td>LdrLoadDll</td>\n",
       "      <td>LdrGetProcedureAddress</td>\n",
       "      <td>LdrLoadDll</td>\n",
       "      <td>LdrGetProcedureAddress</td>\n",
       "      <td>LdrLoadDll</td>\n",
       "      <td>LdrGetProcedureAddress</td>\n",
       "      <td>LdrGetDllHandle</td>\n",
       "      <td>FindResourceExW</td>\n",
       "      <td>DrawTextExW</td>\n",
       "    </tr>\n",
       "  </tbody>\n",
       "</table>\n",
       "<p>5 rows × 101 columns</p>\n",
       "</div>"
      ],
      "text/plain": [
       "   malware                      t_0                     t_1  \\\n",
       "0        1             SetErrorMode           OleInitialize   \n",
       "1        1  GetSystemTimeAsFileTime              LdrLoadDll   \n",
       "2        1  NtAllocateVirtualMemory            SetErrorMode   \n",
       "3        1  NtAllocateVirtualMemory            SetErrorMode   \n",
       "4        1               LdrLoadDll  LdrGetProcedureAddress   \n",
       "\n",
       "                      t_2                     t_3                     t_4  \\\n",
       "0         LdrGetDllHandle              LdrLoadDll  LdrGetProcedureAddress   \n",
       "1  LdrGetProcedureAddress              LdrLoadDll  LdrGetProcedureAddress   \n",
       "2             LoadStringA           OleInitialize              LdrLoadDll   \n",
       "3             LoadStringA           OleInitialize              LdrLoadDll   \n",
       "4              LdrLoadDll  LdrGetProcedureAddress              LdrLoadDll   \n",
       "\n",
       "                      t_5                      t_6                     t_7  \\\n",
       "0              LdrLoadDll   LdrGetProcedureAddress              LdrLoadDll   \n",
       "1              LdrLoadDll   LdrGetProcedureAddress              LdrLoadDll   \n",
       "2  LdrGetProcedureAddress  NtAllocateVirtualMemory     NtFreeVirtualMemory   \n",
       "3  LdrGetProcedureAddress  NtAllocateVirtualMemory     NtFreeVirtualMemory   \n",
       "4  LdrGetProcedureAddress               LdrLoadDll  LdrGetProcedureAddress   \n",
       "\n",
       "                       t_8  ...               t_90                     t_91  \\\n",
       "0   LdrGetProcedureAddress  ...      RegOpenKeyExW         RegQueryValueExW   \n",
       "1   LdrGetProcedureAddress  ...   RegQueryValueExW            RegOpenKeyExW   \n",
       "2  NtAllocateVirtualMemory  ...      RegOpenKeyExW         RegQueryValueExW   \n",
       "3  NtAllocateVirtualMemory  ...       SetErrorMode  GetSystemTimeAsFileTime   \n",
       "4               LdrLoadDll  ...  LookupAccountSidW               LdrLoadDll   \n",
       "\n",
       "                     t_92            t_93                    t_94  \\\n",
       "0             RegCloseKey  NtCreateMutant     GetNativeSystemInfo   \n",
       "1        RegQueryValueExW   RegOpenKeyExW        RegQueryValueExW   \n",
       "2             RegCloseKey   RegOpenKeyExW             DrawTextExW   \n",
       "3              LdrLoadDll    SetErrorMode  LdrGetProcedureAddress   \n",
       "4  LdrGetProcedureAddress      LdrLoadDll  LdrGetProcedureAddress   \n",
       "\n",
       "                         t_95                    t_96              t_97  \\\n",
       "0  GetSystemWindowsDirectoryW                 NtClose        LdrLoadDll   \n",
       "1               RegOpenKeyExW        RegQueryValueExW     RegOpenKeyExW   \n",
       "2            GetSystemMetrics             DrawTextExW  GetSystemMetrics   \n",
       "3    NtQuerySystemInformation            SetErrorMode        LdrLoadDll   \n",
       "4                  LdrLoadDll  LdrGetProcedureAddress   LdrGetDllHandle   \n",
       "\n",
       "                     t_98                    t_99  \n",
       "0  LdrGetProcedureAddress              LdrLoadDll  \n",
       "1        RegQueryValueExW           RegOpenKeyExW  \n",
       "2            SetErrorMode              LdrLoadDll  \n",
       "3            SetErrorMode  LdrGetProcedureAddress  \n",
       "4         FindResourceExW             DrawTextExW  \n",
       "\n",
       "[5 rows x 101 columns]"
      ]
     },
     "execution_count": 22,
     "metadata": {},
     "output_type": "execute_result"
    }
   ],
   "source": [
    "#Previewing Time-based Dataset\n",
    "tb_train.head()"
   ]
  },
  {
   "cell_type": "code",
   "execution_count": 23,
   "id": "5f2e98f1",
   "metadata": {},
   "outputs": [
    {
     "data": {
      "text/html": [
       "<div>\n",
       "<style scoped>\n",
       "    .dataframe tbody tr th:only-of-type {\n",
       "        vertical-align: middle;\n",
       "    }\n",
       "\n",
       "    .dataframe tbody tr th {\n",
       "        vertical-align: top;\n",
       "    }\n",
       "\n",
       "    .dataframe thead th {\n",
       "        text-align: right;\n",
       "    }\n",
       "</style>\n",
       "<table border=\"1\" class=\"dataframe\">\n",
       "  <thead>\n",
       "    <tr style=\"text-align: right;\">\n",
       "      <th></th>\n",
       "      <th>malware</th>\n",
       "      <th>t_0</th>\n",
       "      <th>t_1</th>\n",
       "      <th>t_2</th>\n",
       "      <th>t_3</th>\n",
       "      <th>t_4</th>\n",
       "      <th>t_5</th>\n",
       "      <th>t_6</th>\n",
       "      <th>t_7</th>\n",
       "      <th>t_8</th>\n",
       "      <th>...</th>\n",
       "      <th>t_90</th>\n",
       "      <th>t_91</th>\n",
       "      <th>t_92</th>\n",
       "      <th>t_93</th>\n",
       "      <th>t_94</th>\n",
       "      <th>t_95</th>\n",
       "      <th>t_96</th>\n",
       "      <th>t_97</th>\n",
       "      <th>t_98</th>\n",
       "      <th>t_99</th>\n",
       "    </tr>\n",
       "  </thead>\n",
       "  <tbody>\n",
       "    <tr>\n",
       "      <th>0</th>\n",
       "      <td>1</td>\n",
       "      <td>SetErrorMode</td>\n",
       "      <td>OleInitialize</td>\n",
       "      <td>LdrGetDllHandle</td>\n",
       "      <td>LdrLoadDll</td>\n",
       "      <td>LdrGetProcedureAddress</td>\n",
       "      <td>NtOpenSection</td>\n",
       "      <td>NtMapViewOfSection</td>\n",
       "      <td>RegOpenKeyExW</td>\n",
       "      <td>RegQueryValueExW</td>\n",
       "      <td>...</td>\n",
       "      <td>NaN</td>\n",
       "      <td>NaN</td>\n",
       "      <td>NaN</td>\n",
       "      <td>NaN</td>\n",
       "      <td>NaN</td>\n",
       "      <td>NaN</td>\n",
       "      <td>NaN</td>\n",
       "      <td>NaN</td>\n",
       "      <td>NaN</td>\n",
       "      <td>NaN</td>\n",
       "    </tr>\n",
       "    <tr>\n",
       "      <th>1</th>\n",
       "      <td>1</td>\n",
       "      <td>GetSystemTimeAsFileTime</td>\n",
       "      <td>LdrLoadDll</td>\n",
       "      <td>LdrGetProcedureAddress</td>\n",
       "      <td>LdrGetDllHandle</td>\n",
       "      <td>SetUnhandledExceptionFilter</td>\n",
       "      <td>CryptAcquireContextW</td>\n",
       "      <td>NtOpenKey</td>\n",
       "      <td>NtQueryValueKey</td>\n",
       "      <td>NtClose</td>\n",
       "      <td>...</td>\n",
       "      <td>NaN</td>\n",
       "      <td>NaN</td>\n",
       "      <td>NaN</td>\n",
       "      <td>NaN</td>\n",
       "      <td>NaN</td>\n",
       "      <td>NaN</td>\n",
       "      <td>NaN</td>\n",
       "      <td>NaN</td>\n",
       "      <td>NaN</td>\n",
       "      <td>NaN</td>\n",
       "    </tr>\n",
       "    <tr>\n",
       "      <th>2</th>\n",
       "      <td>1</td>\n",
       "      <td>NtAllocateVirtualMemory</td>\n",
       "      <td>SetErrorMode</td>\n",
       "      <td>LoadStringA</td>\n",
       "      <td>OleInitialize</td>\n",
       "      <td>LdrLoadDll</td>\n",
       "      <td>LdrGetProcedureAddress</td>\n",
       "      <td>NtFreeVirtualMemory</td>\n",
       "      <td>GetSystemInfo</td>\n",
       "      <td>NtProtectVirtualMemory</td>\n",
       "      <td>...</td>\n",
       "      <td>NaN</td>\n",
       "      <td>NaN</td>\n",
       "      <td>NaN</td>\n",
       "      <td>NaN</td>\n",
       "      <td>NaN</td>\n",
       "      <td>NaN</td>\n",
       "      <td>NaN</td>\n",
       "      <td>NaN</td>\n",
       "      <td>NaN</td>\n",
       "      <td>NaN</td>\n",
       "    </tr>\n",
       "    <tr>\n",
       "      <th>3</th>\n",
       "      <td>1</td>\n",
       "      <td>NtAllocateVirtualMemory</td>\n",
       "      <td>SetErrorMode</td>\n",
       "      <td>LoadStringA</td>\n",
       "      <td>OleInitialize</td>\n",
       "      <td>LdrLoadDll</td>\n",
       "      <td>LdrGetProcedureAddress</td>\n",
       "      <td>NtFreeVirtualMemory</td>\n",
       "      <td>GetSystemInfo</td>\n",
       "      <td>NtProtectVirtualMemory</td>\n",
       "      <td>...</td>\n",
       "      <td>NaN</td>\n",
       "      <td>NaN</td>\n",
       "      <td>NaN</td>\n",
       "      <td>NaN</td>\n",
       "      <td>NaN</td>\n",
       "      <td>NaN</td>\n",
       "      <td>NaN</td>\n",
       "      <td>NaN</td>\n",
       "      <td>NaN</td>\n",
       "      <td>NaN</td>\n",
       "    </tr>\n",
       "    <tr>\n",
       "      <th>4</th>\n",
       "      <td>1</td>\n",
       "      <td>LdrLoadDll</td>\n",
       "      <td>LdrGetProcedureAddress</td>\n",
       "      <td>NtProtectVirtualMemory</td>\n",
       "      <td>NtClose</td>\n",
       "      <td>NtOpenKey</td>\n",
       "      <td>NtQueryValueKey</td>\n",
       "      <td>LdrGetDllHandle</td>\n",
       "      <td>GetSystemInfo</td>\n",
       "      <td>NtAllocateVirtualMemory</td>\n",
       "      <td>...</td>\n",
       "      <td>NaN</td>\n",
       "      <td>NaN</td>\n",
       "      <td>NaN</td>\n",
       "      <td>NaN</td>\n",
       "      <td>NaN</td>\n",
       "      <td>NaN</td>\n",
       "      <td>NaN</td>\n",
       "      <td>NaN</td>\n",
       "      <td>NaN</td>\n",
       "      <td>NaN</td>\n",
       "    </tr>\n",
       "  </tbody>\n",
       "</table>\n",
       "<p>5 rows × 101 columns</p>\n",
       "</div>"
      ],
      "text/plain": [
       "   malware                      t_0                     t_1  \\\n",
       "0        1             SetErrorMode           OleInitialize   \n",
       "1        1  GetSystemTimeAsFileTime              LdrLoadDll   \n",
       "2        1  NtAllocateVirtualMemory            SetErrorMode   \n",
       "3        1  NtAllocateVirtualMemory            SetErrorMode   \n",
       "4        1               LdrLoadDll  LdrGetProcedureAddress   \n",
       "\n",
       "                      t_2              t_3                          t_4  \\\n",
       "0         LdrGetDllHandle       LdrLoadDll       LdrGetProcedureAddress   \n",
       "1  LdrGetProcedureAddress  LdrGetDllHandle  SetUnhandledExceptionFilter   \n",
       "2             LoadStringA    OleInitialize                   LdrLoadDll   \n",
       "3             LoadStringA    OleInitialize                   LdrLoadDll   \n",
       "4  NtProtectVirtualMemory          NtClose                    NtOpenKey   \n",
       "\n",
       "                      t_5                  t_6              t_7  \\\n",
       "0           NtOpenSection   NtMapViewOfSection    RegOpenKeyExW   \n",
       "1    CryptAcquireContextW            NtOpenKey  NtQueryValueKey   \n",
       "2  LdrGetProcedureAddress  NtFreeVirtualMemory    GetSystemInfo   \n",
       "3  LdrGetProcedureAddress  NtFreeVirtualMemory    GetSystemInfo   \n",
       "4         NtQueryValueKey      LdrGetDllHandle    GetSystemInfo   \n",
       "\n",
       "                       t_8  ... t_90 t_91 t_92 t_93 t_94 t_95 t_96 t_97 t_98  \\\n",
       "0         RegQueryValueExW  ...  NaN  NaN  NaN  NaN  NaN  NaN  NaN  NaN  NaN   \n",
       "1                  NtClose  ...  NaN  NaN  NaN  NaN  NaN  NaN  NaN  NaN  NaN   \n",
       "2   NtProtectVirtualMemory  ...  NaN  NaN  NaN  NaN  NaN  NaN  NaN  NaN  NaN   \n",
       "3   NtProtectVirtualMemory  ...  NaN  NaN  NaN  NaN  NaN  NaN  NaN  NaN  NaN   \n",
       "4  NtAllocateVirtualMemory  ...  NaN  NaN  NaN  NaN  NaN  NaN  NaN  NaN  NaN   \n",
       "\n",
       "  t_99  \n",
       "0  NaN  \n",
       "1  NaN  \n",
       "2  NaN  \n",
       "3  NaN  \n",
       "4  NaN  \n",
       "\n",
       "[5 rows x 101 columns]"
      ]
     },
     "execution_count": 23,
     "metadata": {},
     "output_type": "execute_result"
    }
   ],
   "source": [
    "#Previewing Instance-based Dataset\n",
    "ib_train.head()"
   ]
  },
  {
   "cell_type": "markdown",
   "id": "fe47cf04",
   "metadata": {},
   "source": [
    "### 1.3.4. Statically Splitting the Train Split\n",
    "\n",
    "Train Split --> Training and Validation Split\n",
    "\n",
    "However only Training Split will be used."
   ]
  },
  {
   "cell_type": "code",
   "execution_count": 24,
   "id": "1bf09ed0",
   "metadata": {},
   "outputs": [],
   "source": [
    "#Static splitting of Train Split of Time-based\n",
    "X_tb = tb_train.iloc[:,1:101] #All rows, 2nd to last column\n",
    "y_tb = tb_train.iloc[:,0] #All rows, first column only\n",
    "X_tb_training, X_tb_validate, y_tb_training, y_tb_validate = train_test_split(X_tb, y_tb, test_size=STATIC_SPLIT, shuffle=True, random_state=1)\n",
    "\n",
    "#Static splitting of Train Split of Instance-based\n",
    "X_ib = ib_train.iloc[:,1:101] #All rows, 2nd to last column\n",
    "y_ib = ib_train.iloc[:,0] #All rows, first column only\n",
    "X_ib_training, X_ib_validate, y_ib_training, y_ib_validate = train_test_split(X_ib, y_ib, test_size=STATIC_SPLIT, shuffle=True, random_state=1)"
   ]
  },
  {
   "cell_type": "markdown",
   "id": "fccf92ee",
   "metadata": {},
   "source": [
    "# 2. Model Training"
   ]
  },
  {
   "cell_type": "markdown",
   "id": "7e4ad7be",
   "metadata": {},
   "source": [
    "## 2.1. Setting up the Model"
   ]
  },
  {
   "cell_type": "code",
   "execution_count": 25,
   "id": "e386b9f0",
   "metadata": {},
   "outputs": [],
   "source": [
    "def get_indexes():\n",
    "    indexes = []\n",
    "    for i in range(100):\n",
    "        indexes.append(f\"t_{i}\")\n",
    "    return indexes\n",
    "\n",
    "def setup_model(HYPERPARAMS, TYPE):\n",
    "    global TUNED_TRAINING\n",
    "    indexes = get_indexes()\n",
    "    metric=['Logloss', 'AUC', 'Precision']\n",
    "    train_dir = f\"Outputs/CATB/{MODEL_FILENAME}_CATB_{TYPE}_TRAINDIR\"\n",
    "    if HYPERPARAMS == None:\n",
    "        return catboost.CatBoostClassifier(random_state=RANDOM_SEED, thread_count=-1, verbose=1, cat_features=indexes, \n",
    "                                           nan_mode='Min', custom_metric=metric, train_dir=train_dir, one_hot_max_size=256)\n",
    "    return catboost.CatBoostClassifier(**HYPERPARAMS, random_state=RANDOM_SEED, thread_count=-1, verbose=1, cat_features=indexes, \n",
    "                                       nan_mode='Min', custom_metric=metric, train_dir=train_dir, one_hot_max_size=256)"
   ]
  },
  {
   "cell_type": "markdown",
   "id": "ba557847",
   "metadata": {},
   "source": [
    "## 2.2. Training on Time-Based Behaviors"
   ]
  },
  {
   "cell_type": "markdown",
   "id": "4a1c3821",
   "metadata": {},
   "source": [
    "### 2.2.1 Training Model"
   ]
  },
  {
   "cell_type": "code",
   "execution_count": 26,
   "id": "97d6c8e9",
   "metadata": {
    "scrolled": true
   },
   "outputs": [
    {
     "data": {
      "application/vnd.jupyter.widget-view+json": {
       "model_id": "e41f1b38aa9e4624b82288db2b0efc9f",
       "version_major": 2,
       "version_minor": 0
      },
      "text/plain": [
       "MetricVisualizer(layout=Layout(align_self='stretch', height='500px'))"
      ]
     },
     "metadata": {},
     "output_type": "display_data"
    },
    {
     "name": "stderr",
     "output_type": "stream",
     "text": [
      "Default metric period is 5 because AUC is/are not implemented for GPU\n"
     ]
    },
    {
     "name": "stdout",
     "output_type": "stream",
     "text": [
      "0:\tlearn: 0.4418653\ttest: 0.4415333\tbest: 0.4415333 (0)\ttotal: 413ms\tremaining: 40.9s\n",
      "1:\ttotal: 618ms\tremaining: 30.3s\n",
      "2:\ttotal: 815ms\tremaining: 26.4s\n",
      "3:\ttotal: 1.01s\tremaining: 24.3s\n",
      "4:\ttotal: 1.22s\tremaining: 23.3s\n",
      "5:\tlearn: 0.0877935\ttest: 0.0871686\tbest: 0.0871686 (5)\ttotal: 1.44s\tremaining: 22.5s\n",
      "6:\ttotal: 1.64s\tremaining: 21.8s\n",
      "7:\ttotal: 1.83s\tremaining: 21s\n",
      "8:\ttotal: 2.01s\tremaining: 20.4s\n",
      "9:\ttotal: 2.2s\tremaining: 19.8s\n",
      "10:\tlearn: 0.0447893\ttest: 0.0444108\tbest: 0.0444108 (10)\ttotal: 2.39s\tremaining: 19.3s\n",
      "11:\ttotal: 2.59s\tremaining: 19s\n",
      "12:\ttotal: 2.83s\tremaining: 18.9s\n",
      "13:\ttotal: 3.03s\tremaining: 18.6s\n",
      "14:\ttotal: 3.22s\tremaining: 18.2s\n",
      "15:\tlearn: 0.0349447\ttest: 0.0349592\tbest: 0.0349592 (15)\ttotal: 3.41s\tremaining: 17.9s\n",
      "16:\ttotal: 3.58s\tremaining: 17.5s\n",
      "17:\ttotal: 3.79s\tremaining: 17.2s\n",
      "18:\ttotal: 3.98s\tremaining: 17s\n",
      "19:\ttotal: 4.15s\tremaining: 16.6s\n",
      "20:\tlearn: 0.0310715\ttest: 0.0315848\tbest: 0.0315848 (20)\ttotal: 4.33s\tremaining: 16.3s\n",
      "21:\ttotal: 4.52s\tremaining: 16s\n",
      "22:\ttotal: 4.7s\tremaining: 15.7s\n",
      "23:\ttotal: 4.94s\tremaining: 15.6s\n",
      "24:\ttotal: 5.12s\tremaining: 15.3s\n",
      "25:\tlearn: 0.0289533\ttest: 0.0297969\tbest: 0.0297969 (25)\ttotal: 5.31s\tremaining: 15.1s\n",
      "26:\ttotal: 5.5s\tremaining: 14.9s\n",
      "27:\ttotal: 5.67s\tremaining: 14.6s\n",
      "28:\ttotal: 5.97s\tremaining: 14.6s\n",
      "29:\ttotal: 6.15s\tremaining: 14.4s\n",
      "30:\tlearn: 0.0280955\ttest: 0.0293146\tbest: 0.0293146 (30)\ttotal: 6.33s\tremaining: 14.1s\n",
      "31:\ttotal: 6.5s\tremaining: 13.8s\n",
      "32:\ttotal: 6.68s\tremaining: 13.6s\n",
      "33:\ttotal: 6.87s\tremaining: 13.3s\n",
      "34:\ttotal: 7.05s\tremaining: 13.1s\n",
      "35:\tlearn: 0.0266577\ttest: 0.0281774\tbest: 0.0281774 (35)\ttotal: 7.24s\tremaining: 12.9s\n",
      "36:\ttotal: 7.43s\tremaining: 12.7s\n",
      "37:\ttotal: 7.62s\tremaining: 12.4s\n",
      "38:\ttotal: 7.82s\tremaining: 12.2s\n",
      "39:\ttotal: 8s\tremaining: 12s\n",
      "40:\tlearn: 0.0262695\ttest: 0.0280668\tbest: 0.0280668 (40)\ttotal: 8.19s\tremaining: 11.8s\n",
      "41:\ttotal: 8.37s\tremaining: 11.6s\n",
      "42:\ttotal: 8.55s\tremaining: 11.3s\n",
      "43:\ttotal: 8.74s\tremaining: 11.1s\n",
      "44:\ttotal: 8.92s\tremaining: 10.9s\n",
      "45:\tlearn: 0.0256454\ttest: 0.0277589\tbest: 0.0277589 (45)\ttotal: 9.2s\tremaining: 10.8s\n",
      "46:\ttotal: 9.4s\tremaining: 10.6s\n",
      "47:\ttotal: 9.58s\tremaining: 10.4s\n",
      "48:\ttotal: 9.77s\tremaining: 10.2s\n",
      "49:\ttotal: 9.96s\tremaining: 9.96s\n",
      "50:\tlearn: 0.0252894\ttest: 0.0276971\tbest: 0.0276971 (50)\ttotal: 10.1s\tremaining: 9.75s\n",
      "51:\ttotal: 10.3s\tremaining: 9.54s\n",
      "52:\ttotal: 10.5s\tremaining: 9.33s\n",
      "53:\ttotal: 10.7s\tremaining: 9.12s\n",
      "54:\ttotal: 10.9s\tremaining: 8.9s\n",
      "55:\tlearn: 0.0250854\ttest: 0.0276626\tbest: 0.0276626 (55)\ttotal: 11.1s\tremaining: 8.7s\n",
      "56:\ttotal: 11.2s\tremaining: 8.48s\n",
      "57:\ttotal: 11.4s\tremaining: 8.27s\n",
      "58:\ttotal: 11.6s\tremaining: 8.07s\n",
      "59:\ttotal: 11.8s\tremaining: 7.86s\n",
      "60:\tlearn: 0.0249199\ttest: 0.0276244\tbest: 0.0276244 (60)\ttotal: 12s\tremaining: 7.66s\n",
      "61:\ttotal: 12.2s\tremaining: 7.46s\n",
      "62:\ttotal: 12.4s\tremaining: 7.25s\n",
      "63:\ttotal: 12.5s\tremaining: 7.05s\n",
      "64:\ttotal: 12.7s\tremaining: 6.84s\n",
      "65:\tlearn: 0.0246578\ttest: 0.0275416\tbest: 0.0275416 (65)\ttotal: 12.9s\tremaining: 6.64s\n",
      "66:\ttotal: 13.1s\tremaining: 6.44s\n",
      "67:\ttotal: 13.3s\tremaining: 6.24s\n",
      "68:\ttotal: 13.4s\tremaining: 6.04s\n",
      "69:\ttotal: 13.6s\tremaining: 5.84s\n",
      "70:\tlearn: 0.0244498\ttest: 0.0275237\tbest: 0.0275237 (70)\ttotal: 13.8s\tremaining: 5.64s\n",
      "71:\ttotal: 14s\tremaining: 5.45s\n",
      "72:\ttotal: 14.2s\tremaining: 5.25s\n",
      "73:\ttotal: 14.4s\tremaining: 5.05s\n",
      "74:\ttotal: 14.6s\tremaining: 4.85s\n",
      "75:\tlearn: 0.0236433\ttest: 0.0269907\tbest: 0.0269907 (75)\ttotal: 14.8s\tremaining: 4.66s\n",
      "76:\ttotal: 14.9s\tremaining: 4.46s\n",
      "77:\ttotal: 15.2s\tremaining: 4.27s\n",
      "78:\ttotal: 15.3s\tremaining: 4.07s\n",
      "79:\ttotal: 15.5s\tremaining: 3.88s\n",
      "80:\tlearn: 0.0227126\ttest: 0.0263324\tbest: 0.0263324 (80)\ttotal: 15.7s\tremaining: 3.68s\n",
      "81:\ttotal: 15.9s\tremaining: 3.48s\n",
      "82:\ttotal: 16.1s\tremaining: 3.29s\n",
      "83:\ttotal: 16.2s\tremaining: 3.09s\n",
      "84:\ttotal: 16.4s\tremaining: 2.9s\n",
      "85:\tlearn: 0.0219651\ttest: 0.0258206\tbest: 0.0258206 (85)\ttotal: 16.6s\tremaining: 2.71s\n",
      "86:\ttotal: 16.8s\tremaining: 2.51s\n",
      "87:\ttotal: 17s\tremaining: 2.32s\n",
      "88:\ttotal: 17.2s\tremaining: 2.13s\n",
      "89:\ttotal: 17.4s\tremaining: 1.93s\n",
      "90:\tlearn: 0.0215941\ttest: 0.0256874\tbest: 0.0256874 (90)\ttotal: 17.6s\tremaining: 1.74s\n",
      "91:\ttotal: 17.8s\tremaining: 1.54s\n",
      "92:\ttotal: 17.9s\tremaining: 1.35s\n",
      "93:\ttotal: 18.1s\tremaining: 1.16s\n",
      "94:\ttotal: 18.3s\tremaining: 963ms\n",
      "95:\tlearn: 0.0214133\ttest: 0.0256547\tbest: 0.0256547 (95)\ttotal: 18.5s\tremaining: 770ms\n",
      "96:\ttotal: 18.7s\tremaining: 577ms\n",
      "97:\ttotal: 18.8s\tremaining: 385ms\n",
      "98:\ttotal: 19s\tremaining: 192ms\n",
      "99:\tlearn: 0.0211170\ttest: 0.0255888\tbest: 0.0255888 (99)\ttotal: 19.2s\tremaining: 0us\n",
      "bestTest = 0.02558875232\n",
      "bestIteration = 99\n"
     ]
    }
   ],
   "source": [
    "#Training Model\n",
    "start_time()\n",
    "tb_catb = setup_model(TB_HYPERPARAMS, \"TB\")\n",
    "tb_catb.fit(X_tb_training, y_tb_training, plot=True, eval_set=catboost.Pool(X_tb_validate, label=y_tb_validate, cat_features=get_indexes()), save_snapshot=True, snapshot_interval=60)\n",
    "end_time(\"CATB_TB\")\n",
    "\n",
    "#Saving Model as file\n",
    "tb_catb.save_model(\"Outputs/CATB/\"+MODEL_FILENAME+\"_CATB_TB.model\", format=\"json\")"
   ]
  },
  {
   "cell_type": "markdown",
   "id": "bec8c2a4",
   "metadata": {},
   "source": [
    "### 2.2.2. Checking Performance\n",
    "\n",
    "Using the split for validation for a bit of internal checking of performance (i.e., not official)"
   ]
  },
  {
   "cell_type": "code",
   "execution_count": 27,
   "id": "93b44da8",
   "metadata": {
    "scrolled": true
   },
   "outputs": [
    {
     "name": "stdout",
     "output_type": "stream",
     "text": [
      "CATB_TB\n",
      "              precision    recall  f1-score   support\n",
      "\n",
      "           0     0.9984    0.9904    0.9944     10905\n",
      "           1     0.9905    0.9985    0.9945     10991\n",
      "\n",
      "    accuracy                         0.9944     21896\n",
      "   macro avg     0.9945    0.9944    0.9944     21896\n",
      "weighted avg     0.9945    0.9944    0.9944     21896\n",
      "\n"
     ]
    },
    {
     "data": {
      "image/png": "[encoded data removed]",
      "text/plain": [
       "<Figure size 640x480 with 2 Axes>"
      ]
     },
     "metadata": {},
     "output_type": "display_data"
    }
   ],
   "source": [
    "y_pred = tb_catb.predict(X_tb_validate)\n",
    "print(\"CATB_TB\")\n",
    "print(classification_report(y_tb_validate, y_pred, digits=4))\n",
    "print(classification_report(y_tb_validate, y_pred, digits=4), file=open(\"Outputs/CATB/\"+MODEL_FILENAME+\"_CATB_TB_ClassReport.txt\", mode='w'))\n",
    "disp = ConfusionMatrixDisplay(confusion_matrix(y_tb_validate, y_pred))\n",
    "disp.plot()\n",
    "plt.savefig(\"Outputs/CATB/\"+MODEL_FILENAME+\"_CATB_TB_\"+\"_ConfMatrix.png\")"
   ]
  },
  {
   "cell_type": "markdown",
   "id": "770125ef",
   "metadata": {},
   "source": [
    "### 2.2.3. Preview of the Tree\n",
    "\n",
    "*How can it be a tree if there is no proof of a tree?*"
   ]
  },
  {
   "cell_type": "code",
   "execution_count": 28,
   "id": "3e0400c7",
   "metadata": {
    "scrolled": true
   },
   "outputs": [],
   "source": [
    "# tree = tb_catb.plot_tree(0, catboost.Pool(X_tb_training, y_tb_training, cat_features=get_indexes(), feature_names=list(X_tb_training.columns)))\n",
    "# tree.save(\"Outputs/CATB/\"+MODEL_FILENAME+\"_CATB_TREE/TB_Tree\"+\".svg\")\n",
    "# display(tree)"
   ]
  },
  {
   "cell_type": "markdown",
   "id": "070b0d7e",
   "metadata": {},
   "source": [
    "## 2.3. Training on Instance-Based Behaviors"
   ]
  },
  {
   "cell_type": "markdown",
   "id": "ca10fb20",
   "metadata": {},
   "source": [
    "### 2.3.1 Training Model"
   ]
  },
  {
   "cell_type": "code",
   "execution_count": 29,
   "id": "38e7f94a",
   "metadata": {
    "scrolled": true
   },
   "outputs": [
    {
     "data": {
      "application/vnd.jupyter.widget-view+json": {
       "model_id": "cf032d722012423ca15ba53716708dc3",
       "version_major": 2,
       "version_minor": 0
      },
      "text/plain": [
       "MetricVisualizer(layout=Layout(align_self='stretch', height='500px'))"
      ]
     },
     "metadata": {},
     "output_type": "display_data"
    },
    {
     "name": "stderr",
     "output_type": "stream",
     "text": [
      "Default metric period is 5 because AUC is/are not implemented for GPU\n"
     ]
    },
    {
     "name": "stdout",
     "output_type": "stream",
     "text": [
      "0:\tlearn: 0.4507921\ttest: 0.4499549\tbest: 0.4499549 (0)\ttotal: 243ms\tremaining: 24s\n",
      "1:\ttotal: 408ms\tremaining: 20s\n",
      "2:\ttotal: 582ms\tremaining: 18.8s\n",
      "3:\ttotal: 755ms\tremaining: 18.1s\n",
      "4:\ttotal: 916ms\tremaining: 17.4s\n",
      "5:\tlearn: 0.1009782\ttest: 0.1004502\tbest: 0.1004502 (5)\ttotal: 1.08s\tremaining: 17s\n",
      "6:\ttotal: 1.3s\tremaining: 17.3s\n",
      "7:\ttotal: 1.46s\tremaining: 16.8s\n",
      "8:\ttotal: 1.64s\tremaining: 16.6s\n",
      "9:\ttotal: 1.8s\tremaining: 16.2s\n",
      "10:\tlearn: 0.0480585\ttest: 0.0476975\tbest: 0.0476975 (10)\ttotal: 1.97s\tremaining: 16s\n",
      "11:\ttotal: 2.14s\tremaining: 15.7s\n",
      "12:\ttotal: 2.31s\tremaining: 15.5s\n",
      "13:\ttotal: 2.47s\tremaining: 15.2s\n",
      "14:\ttotal: 2.64s\tremaining: 15s\n",
      "15:\tlearn: 0.0360122\ttest: 0.0359690\tbest: 0.0359690 (15)\ttotal: 2.81s\tremaining: 14.8s\n",
      "16:\ttotal: 2.98s\tremaining: 14.6s\n",
      "17:\ttotal: 3.14s\tremaining: 14.3s\n",
      "18:\ttotal: 3.3s\tremaining: 14.1s\n",
      "19:\ttotal: 3.46s\tremaining: 13.8s\n",
      "20:\tlearn: 0.0318969\ttest: 0.0323129\tbest: 0.0323129 (20)\ttotal: 3.63s\tremaining: 13.6s\n",
      "21:\ttotal: 3.79s\tremaining: 13.4s\n",
      "22:\ttotal: 3.94s\tremaining: 13.2s\n",
      "23:\ttotal: 4.1s\tremaining: 13s\n",
      "24:\ttotal: 4.36s\tremaining: 13.1s\n",
      "25:\tlearn: 0.0301595\ttest: 0.0310438\tbest: 0.0310438 (25)\ttotal: 4.54s\tremaining: 12.9s\n",
      "26:\ttotal: 4.7s\tremaining: 12.7s\n",
      "27:\ttotal: 4.86s\tremaining: 12.5s\n",
      "28:\ttotal: 5.03s\tremaining: 12.3s\n",
      "29:\ttotal: 5.18s\tremaining: 12.1s\n",
      "30:\tlearn: 0.0281357\ttest: 0.0293215\tbest: 0.0293215 (30)\ttotal: 5.37s\tremaining: 11.9s\n",
      "31:\ttotal: 5.53s\tremaining: 11.7s\n",
      "32:\ttotal: 5.69s\tremaining: 11.6s\n",
      "33:\ttotal: 5.84s\tremaining: 11.3s\n",
      "34:\ttotal: 6s\tremaining: 11.1s\n",
      "35:\tlearn: 0.0275445\ttest: 0.0290804\tbest: 0.0290804 (35)\ttotal: 6.2s\tremaining: 11s\n",
      "36:\ttotal: 6.36s\tremaining: 10.8s\n",
      "37:\ttotal: 6.52s\tremaining: 10.6s\n",
      "38:\ttotal: 6.68s\tremaining: 10.5s\n",
      "39:\ttotal: 6.84s\tremaining: 10.3s\n",
      "40:\tlearn: 0.0269754\ttest: 0.0287853\tbest: 0.0287853 (40)\ttotal: 7.01s\tremaining: 10.1s\n",
      "41:\ttotal: 7.17s\tremaining: 9.91s\n",
      "42:\ttotal: 7.34s\tremaining: 9.73s\n",
      "43:\ttotal: 7.5s\tremaining: 9.54s\n",
      "44:\ttotal: 7.66s\tremaining: 9.37s\n",
      "45:\tlearn: 0.0258308\ttest: 0.0278148\tbest: 0.0278148 (45)\ttotal: 7.83s\tremaining: 9.19s\n",
      "46:\ttotal: 7.99s\tremaining: 9.01s\n",
      "47:\ttotal: 8.15s\tremaining: 8.82s\n",
      "48:\ttotal: 8.3s\tremaining: 8.64s\n",
      "49:\ttotal: 8.46s\tremaining: 8.46s\n",
      "50:\tlearn: 0.0251419\ttest: 0.0273839\tbest: 0.0273839 (50)\ttotal: 8.63s\tremaining: 8.29s\n",
      "51:\ttotal: 8.78s\tremaining: 8.1s\n",
      "52:\ttotal: 8.94s\tremaining: 7.93s\n",
      "53:\ttotal: 9.1s\tremaining: 7.75s\n",
      "54:\ttotal: 9.26s\tremaining: 7.57s\n",
      "55:\tlearn: 0.0248861\ttest: 0.0272956\tbest: 0.0272956 (55)\ttotal: 9.42s\tremaining: 7.4s\n",
      "56:\ttotal: 9.57s\tremaining: 7.22s\n",
      "57:\ttotal: 9.72s\tremaining: 7.04s\n",
      "58:\ttotal: 9.88s\tremaining: 6.86s\n",
      "59:\ttotal: 10s\tremaining: 6.69s\n",
      "60:\tlearn: 0.0246672\ttest: 0.0272270\tbest: 0.0272270 (60)\ttotal: 10.2s\tremaining: 6.51s\n",
      "61:\ttotal: 10.3s\tremaining: 6.34s\n",
      "62:\ttotal: 10.5s\tremaining: 6.17s\n",
      "63:\ttotal: 10.7s\tremaining: 6s\n",
      "64:\ttotal: 10.8s\tremaining: 5.83s\n",
      "65:\tlearn: 0.0240755\ttest: 0.0267498\tbest: 0.0267498 (65)\ttotal: 11s\tremaining: 5.65s\n",
      "66:\ttotal: 11.1s\tremaining: 5.48s\n",
      "67:\ttotal: 11.3s\tremaining: 5.31s\n",
      "68:\ttotal: 11.4s\tremaining: 5.13s\n",
      "69:\ttotal: 11.6s\tremaining: 4.96s\n",
      "70:\tlearn: 0.0238636\ttest: 0.0266802\tbest: 0.0266802 (70)\ttotal: 11.7s\tremaining: 4.79s\n",
      "71:\ttotal: 11.9s\tremaining: 4.62s\n",
      "72:\ttotal: 12s\tremaining: 4.46s\n",
      "73:\ttotal: 12.2s\tremaining: 4.29s\n",
      "74:\ttotal: 12.4s\tremaining: 4.12s\n",
      "75:\tlearn: 0.0234944\ttest: 0.0264945\tbest: 0.0264945 (75)\ttotal: 12.5s\tremaining: 3.95s\n",
      "76:\ttotal: 12.7s\tremaining: 3.78s\n",
      "77:\ttotal: 12.8s\tremaining: 3.62s\n",
      "78:\ttotal: 13s\tremaining: 3.45s\n",
      "79:\ttotal: 13.1s\tremaining: 3.28s\n",
      "80:\tlearn: 0.0231711\ttest: 0.0262833\tbest: 0.0262833 (80)\ttotal: 13.3s\tremaining: 3.11s\n",
      "81:\ttotal: 13.4s\tremaining: 2.95s\n",
      "82:\ttotal: 13.6s\tremaining: 2.78s\n",
      "83:\ttotal: 13.7s\tremaining: 2.62s\n",
      "84:\ttotal: 13.9s\tremaining: 2.46s\n",
      "85:\tlearn: 0.0230242\ttest: 0.0262483\tbest: 0.0262483 (85)\ttotal: 14.1s\tremaining: 2.29s\n",
      "86:\ttotal: 14.2s\tremaining: 2.13s\n",
      "87:\ttotal: 14.4s\tremaining: 1.96s\n",
      "88:\ttotal: 14.6s\tremaining: 1.8s\n",
      "89:\ttotal: 14.7s\tremaining: 1.64s\n",
      "90:\tlearn: 0.0228137\ttest: 0.0261947\tbest: 0.0261947 (90)\ttotal: 14.9s\tremaining: 1.47s\n",
      "91:\ttotal: 15s\tremaining: 1.31s\n",
      "92:\ttotal: 15.2s\tremaining: 1.14s\n",
      "93:\ttotal: 15.4s\tremaining: 980ms\n",
      "94:\ttotal: 15.5s\tremaining: 816ms\n",
      "95:\tlearn: 0.0227154\ttest: 0.0261872\tbest: 0.0261872 (95)\ttotal: 15.7s\tremaining: 653ms\n",
      "96:\ttotal: 15.8s\tremaining: 489ms\n",
      "97:\ttotal: 16.1s\tremaining: 328ms\n",
      "98:\ttotal: 16.2s\tremaining: 164ms\n",
      "99:\tlearn: 0.0225773\ttest: 0.0261624\tbest: 0.0261624 (99)\ttotal: 16.4s\tremaining: 0us\n",
      "bestTest = 0.02616244822\n",
      "bestIteration = 99\n"
     ]
    }
   ],
   "source": [
    "#Training Model\n",
    "start_time()\n",
    "ib_catb = setup_model(IB_HYPERPARAMS, \"IB\")\n",
    "ib_catb.fit(X_ib_training, y_ib_training, plot=True, eval_set=catboost.Pool(X_ib_validate, label=y_ib_validate, cat_features=get_indexes()), save_snapshot=True, snapshot_interval=60)\n",
    "end_time(\"CATB_IB\")\n",
    "\n",
    "#Saving Model as file\n",
    "ib_catb.save_model(\"Outputs/CATB/\"+MODEL_FILENAME+\"_CATB_IB.model\", format=\"json\")"
   ]
  },
  {
   "cell_type": "markdown",
   "id": "7019d9f1",
   "metadata": {},
   "source": [
    "### 2.3.2. Checking Performance\n",
    "\n",
    "Using the split for validation for a bit of internal checking of performance (i.e., not official)"
   ]
  },
  {
   "cell_type": "code",
   "execution_count": 30,
   "id": "6aa4c727",
   "metadata": {},
   "outputs": [
    {
     "name": "stdout",
     "output_type": "stream",
     "text": [
      "CATB_IB\n",
      "              precision    recall  f1-score   support\n",
      "\n",
      "           0     0.9987    0.9905    0.9946     10905\n",
      "           1     0.9906    0.9987    0.9947     10991\n",
      "\n",
      "    accuracy                         0.9946     21896\n",
      "   macro avg     0.9947    0.9946    0.9946     21896\n",
      "weighted avg     0.9946    0.9946    0.9946     21896\n",
      "\n"
     ]
    },
    {
     "data": {
      "image/png": "[encoded data removed]",
      "text/plain": [
       "<Figure size 640x480 with 2 Axes>"
      ]
     },
     "metadata": {},
     "output_type": "display_data"
    }
   ],
   "source": [
    "y_pred = ib_catb.predict(X_ib_validate)\n",
    "print(\"CATB_IB\")\n",
    "print(classification_report(y_ib_validate, y_pred, digits=4))\n",
    "print(classification_report(y_ib_validate, y_pred, digits=4), file=open(\"Outputs/CATB/\"+MODEL_FILENAME+\"_CATB_IB_ClassReport.txt\", mode='w'))\n",
    "disp = ConfusionMatrixDisplay(confusion_matrix(y_ib_validate, y_pred))\n",
    "disp.plot()\n",
    "plt.savefig(\"Outputs/CATB/\"+MODEL_FILENAME+\"_CATB_IB_\"+\"_ConfMatrix.png\")"
   ]
  },
  {
   "cell_type": "markdown",
   "id": "f00ffacf",
   "metadata": {},
   "source": [
    "### 2.3.3. Preview of the Tree\n",
    "\n",
    "*How can it be a tree if there is no proof of a tree?*"
   ]
  },
  {
   "cell_type": "code",
   "execution_count": 31,
   "id": "3f262cd8",
   "metadata": {
    "scrolled": true
   },
   "outputs": [],
   "source": [
    "# tree = ib_catb.plot_tree(0, catboost.Pool(X_ib_training, y_ib_training, cat_features=get_indexes(), feature_names=list(X_ib_training.columns)))\n",
    "# tree.save(\"Outputs/CATB/\"+MODEL_FILENAME+\"_CATB_TREE/IB_Tree\"+\".svg\")\n",
    "# tree"
   ]
  },
  {
   "cell_type": "code",
   "execution_count": 32,
   "id": "514e4f94",
   "metadata": {},
   "outputs": [],
   "source": [
    "logging(\"\\n\")"
   ]
  }
 ],
 "metadata": {
  "kernelspec": {
   "display_name": "Python 3 (ipykernel)",
   "language": "python",
   "name": "python3"
  },
  "language_info": {
   "codemirror_mode": {
    "name": "ipython",
    "version": 3
   },
   "file_extension": ".py",
   "mimetype": "text/x-python",
   "name": "python",
   "nbconvert_exporter": "python",
   "pygments_lexer": "ipython3",
   "version": "3.11.5"
  }
 },
 "nbformat": 4,
 "nbformat_minor": 5
}
