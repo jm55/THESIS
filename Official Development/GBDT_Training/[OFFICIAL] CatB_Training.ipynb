{
 "cells": [
  {
   "cell_type": "markdown",
   "id": "758a5c9f",
   "metadata": {},
   "source": [
    "# Evaluation and Comparison of Boosted ML Models in Behavior-Based Malware Detection\n",
    "\n",
    "\n",
    "## Notebook: CatBoost Training\n",
    "\n",
    "***\n",
    "\n",
    "**What is the objective of this file?**\n",
    "\n",
    "To train the model using the Train Split (Statically Split)."
   ]
  },
  {
   "cell_type": "markdown",
   "id": "d920d303",
   "metadata": {},
   "source": [
    "## Checklist\n",
    "\n",
    "- Ensure that you have the proper dataset files that you intend to use (i.e., whether the lite dataset or full version). \n",
    "    - The datasets it will use points to `/Official Development/Dataset/IB` & `/Official Development/Dataset/TB`. \n",
    "    - You can run the `/Official Development/Dataset [OFFICIAL] Oliveira Dataset Notebook.ipynb file` or unzip one of the zipped folders in the `/Official Development/Dataset/Processed` towards the two aforementioned folders. \n",
    "- Ensure that you have installed the necessary libraries needed to execute the training process. \n",
    "    - You can view the list of the specific versions in the thesis document or through the `.sh` or `.bat` files in the repository's home directory."
   ]
  },
  {
   "cell_type": "markdown",
   "id": "321d3b3d",
   "metadata": {},
   "source": [
    "# 1. CatB Training Setup\n",
    "\n",
    "Setting training environment parameters."
   ]
  },
  {
   "cell_type": "markdown",
   "id": "d57e1ac7",
   "metadata": {},
   "source": [
    "## 1.0. Tuning Settings\n",
    "\n",
    "1. What will the output filename be?\n",
    "2. Will you train a tuned model?\n",
    "3. What hyperparameter values will you use?\n",
    "\n",
    "For no. 3, the value looks like\n",
    "`{'task_type': 'CPU', 'objective': 'Logloss', 'n_estimators': 50, 'max_depth': 11, 'learning_rate': 0.1, 'l2_leaf_reg': 2, 'grow_policy': 'SymmetricTree', 'bootstrap_type': 'Bayesian', 'boosting_type': 'Ordered', 'auto_class_weights': 'Balanced'}`\n",
    "which is obtained as part of the results of the associated tuning file to this file.\n",
    "\n",
    "Alternatively, you can just point a file directly to it (overrides the manual setup if not empty).\n",
    "\n",
    "**Do not include the custom hyperparameter values for `random_state`, `thread_count`, `verbose`, `cat_features`, and `nan_mode` as the values for these are hardcoded to the notebook.**"
   ]
  },
  {
   "cell_type": "code",
   "execution_count": 1,
   "id": "dfb4e2cd",
   "metadata": {},
   "outputs": [],
   "source": [
    "MODEL_FILENAME = \"RYZEN2\" # <== Set the prefix for the filename of the output file (don't include file extension)\n",
    "TUNED_TRAINING = True # <== Set as True if you'll be training a tuned model.\n",
    "\n",
    "# These parameters are mostly default valued parameters for CatBoost except some that are mentioned in the paper (e.g., Ordered Boosting, Symmeteric Tree); Set as None for truly defaults.\n",
    "TB_HYPERPARAMS = None # None or like \"{'task_type': 'CPU', 'objective':'Logloss', 'grow_policy': 'SymmetricTree', 'bootstrap_type': 'Bayesian', 'boosting_type': 'Ordered'}\"\n",
    "IB_HYPERPARAMS = None # None or like \"{'task_type': 'CPU', 'objective':'Logloss', 'grow_policy': 'SymmetricTree', 'bootstrap_type': 'Bayesian', 'boosting_type': 'Ordered'}\"\n",
    "\n",
    "TB_HYPERPARAMS_FILE = \"./Outputs/Results/Ryzen2/CatB Tuning/RYZEN2_CATB_TB.tune\" # <== Empty string or Pointing a .tune file overrides the value set above.\n",
    "IB_HYPERPARAMS_FILE = \"./Outputs/Results/Ryzen2/CatB Tuning/RYZEN2_CATB_IB.tune\" # <== Empty string or Pointing a .tune file overrides the value set above.\n",
    "\n",
    "STATIC_SPLIT = 0.3 # <== To achieve the 70:30 Static Split\n",
    "RANDOM_SEED = 1 # <== Must be the same throughout the entire study (acts as a controlled variable), hence let's just settle with 1."
   ]
  },
  {
   "cell_type": "markdown",
   "id": "f6c94ddb",
   "metadata": {},
   "source": [
    "# ⚠️Warning\n",
    "\n",
    "**Be careful of modifying the code beyond this point as it was designed to run autonomously based on the parameters set above.**"
   ]
  },
  {
   "cell_type": "markdown",
   "id": "9d90fe9c",
   "metadata": {},
   "source": [
    "## 1.1. Loading Libraries"
   ]
  },
  {
   "cell_type": "code",
   "execution_count": 2,
   "id": "871b8f06",
   "metadata": {},
   "outputs": [],
   "source": [
    "#Python Libraries\n",
    "import time\n",
    "from datetime import datetime\n",
    "import json\n",
    "\n",
    "#Data/Dataset Libraries\n",
    "import pandas as pd\n",
    "import numpy as np\n",
    "\n",
    "#Model Selection\n",
    "from sklearn.model_selection import train_test_split\n",
    "\n",
    "#Metrics (for in-training testing only)\n",
    "from sklearn.metrics import classification_report, accuracy_score, balanced_accuracy_score, f1_score\n",
    "from sklearn.metrics import confusion_matrix, ConfusionMatrixDisplay\n",
    "from sklearn.metrics import precision_score, recall_score, roc_auc_score\n",
    "\n",
    "#Visualization\n",
    "from matplotlib import pyplot as plt\n",
    "\n",
    "#GBDT Models\n",
    "# import lightgbm\n",
    "import catboost\n",
    "\n",
    "#File Writing Library (exclusive for use on LightGBM)\n",
    "from joblib import dump, load"
   ]
  },
  {
   "cell_type": "markdown",
   "id": "1e6877c2",
   "metadata": {},
   "source": [
    "## 1.2. Logging and Diagnostics"
   ]
  },
  {
   "cell_type": "code",
   "execution_count": 3,
   "id": "7d0b6914",
   "metadata": {
    "scrolled": true
   },
   "outputs": [
    {
     "name": "stdout",
     "output_type": "stream",
     "text": [
      "Parsed TB Hyperparams: {'boosting_type': 'Ordered', 'bootstrap_type': 'Bayesian', 'gpu_cat_features_storage': 'CpuPinnedMemory', 'grow_policy': 'SymmetricTree', 'l2_leaf_reg': 2, 'learning_rate': 0.1, 'max_depth': 8, 'n_estimators': 100, 'objective': 'Logloss', 'task_type': 'GPU'}\n",
      "\n",
      "Parsed IB Hyperparams: {'boosting_type': 'Ordered', 'bootstrap_type': 'Bayesian', 'gpu_cat_features_storage': 'CpuPinnedMemory', 'grow_policy': 'SymmetricTree', 'l2_leaf_reg': 2, 'learning_rate': 0.1, 'max_depth': 8, 'n_estimators': 100, 'objective': 'Logloss', 'task_type': 'GPU'}\n"
     ]
    }
   ],
   "source": [
    "if TUNED_TRAINING:\n",
    "    MODEL_FILENAME = \"TUNED_\" + MODEL_FILENAME\n",
    "    if len(TB_HYPERPARAMS_FILE) != 0:\n",
    "        f = open(TB_HYPERPARAMS_FILE, \"r\")\n",
    "        TB_HYPERPARAMS = f.readline()\n",
    "        f.close()\n",
    "    if len(IB_HYPERPARAMS_FILE) != 0:\n",
    "        f = open(IB_HYPERPARAMS_FILE, \"r\")\n",
    "        IB_HYPERPARAMS = f.readline()\n",
    "        f.close()\n",
    "    TB_HYPERPARAMS = TB_HYPERPARAMS.replace('\\'', '\\\"')#.replace(\"False\", \"\\\"False\\\"\").replace(\"True\", \"\\\"True\\\"\")\n",
    "    TB_HYPERPARAMS = json.loads(str(TB_HYPERPARAMS))\n",
    "    print(\"Parsed TB Hyperparams:\", TB_HYPERPARAMS)\n",
    "    print(\"\")\n",
    "    IB_HYPERPARAMS = IB_HYPERPARAMS.replace('\\'', '\\\"')#.replace(\"False\", \"\\\"False\\\"\").replace(\"True\", \"\\\"True\\\"\")\n",
    "    IB_HYPERPARAMS = json.loads(str(IB_HYPERPARAMS))\n",
    "    print(\"Parsed IB Hyperparams:\", IB_HYPERPARAMS)\n",
    "else:\n",
    "    if TB_HYPERPARAMS != None:\n",
    "        TB_HYPERPARAMS = TB_HYPERPARAMS.replace('\\'', '\\\"').replace(\"False\", \"\\\"False\\\"\").replace(\"True\", \"\\\"True\\\"\")\n",
    "        TB_HYPERPARAMS = json.loads(str(TB_HYPERPARAMS))\n",
    "    else:\n",
    "        TB_HYPERPARAMS = None\n",
    "    if IB_HYPERPARAMS != None:\n",
    "        IB_HYPERPARAMS = IB_HYPERPARAMS.replace('\\'', '\\\"').replace(\"False\", \"\\\"False\\\"\").replace(\"True\", \"\\\"True\\\"\")\n",
    "        IB_HYPERPARAMS = json.loads(str(IB_HYPERPARAMS))\n",
    "    else:\n",
    "        IB_HYPERPARAMS = None\n",
    "\n",
    "start = end = 0\n",
    "LOG_FILENAME = \"CATB_Training_Log.txt\"\n",
    "def logging(message):\n",
    "    log = open(LOG_FILENAME, \"a\")\n",
    "    log.write(message)\n",
    "    log.close()\n",
    "def start_time():\n",
    "    global start\n",
    "    start = time.time()\n",
    "def end_time(process):\n",
    "    global start\n",
    "    elapse = time.time()-start\n",
    "    start = 0\n",
    "    printout = f\"{str(datetime.now())}@{MODEL_FILENAME}: {process} - {round(elapse, 6)}s\\n\"\n",
    "    logging(printout)\n",
    "    return round(elapse, 6)"
   ]
  },
  {
   "cell_type": "markdown",
   "id": "db4e5ad5",
   "metadata": {},
   "source": [
    "## 1.3. Loading Datasets\n",
    "\n",
    "Note that it will use the files in `/Official Development/Dataset/IB` & `/Official Development/Dataset/TB`. "
   ]
  },
  {
   "cell_type": "markdown",
   "id": "76101390",
   "metadata": {},
   "source": [
    "### 1.3.1. Setting filenames"
   ]
  },
  {
   "cell_type": "code",
   "execution_count": 4,
   "id": "6e1c43ce",
   "metadata": {},
   "outputs": [],
   "source": [
    "#Setting filenames of files\n",
    "TB_Train = \"../Dataset/TB/CATB_TB.csv\" # <== Location for Time-based Train Split for CatBoost\n",
    "#TB_Test = \"../Dataset/TB/TB_Test_CATB.csv\" # <== Location for Time-based Test Split for CatBoost\n",
    "IB_Train = \"../Dataset/IB/CATB_IB.csv\" # <== Location for Instance-based Train Split for CatBoost\n",
    "#IB_Test = \"../Dataset/IB/IB_Test_CATB.csv\" # <== Location for Instance-based Test Split for CatBoost"
   ]
  },
  {
   "cell_type": "markdown",
   "id": "0c1495cf",
   "metadata": {},
   "source": [
    "### 1.3.2. Loading datasets to DataFrames"
   ]
  },
  {
   "cell_type": "code",
   "execution_count": 5,
   "id": "43eca18c",
   "metadata": {},
   "outputs": [
    {
     "name": "stdout",
     "output_type": "stream",
     "text": [
      "Dataset Sizes\n",
      "TB Train Size: (77026, 101)\n",
      "IB Train Size: (77026, 101)\n"
     ]
    }
   ],
   "source": [
    "#Loading datasets to DataFrames\n",
    "tb_train = pd.read_csv(TB_Train, low_memory=False).fillna(\"NaN\")\n",
    "ib_train = pd.read_csv(IB_Train, low_memory=False).fillna(\"NaN\")\n",
    "\n",
    "print(\"Dataset Sizes\")\n",
    "print(\"TB Train Size:\", tb_train.shape)\n",
    "print(\"IB Train Size:\", ib_train.shape)"
   ]
  },
  {
   "cell_type": "markdown",
   "id": "5dfb9ade",
   "metadata": {},
   "source": [
    "### 1.3.3. Previewing datasets"
   ]
  },
  {
   "cell_type": "code",
   "execution_count": 6,
   "id": "fba694e6",
   "metadata": {},
   "outputs": [
    {
     "data": {
      "text/html": [
       "<div>\n",
       "<style scoped>\n",
       "    .dataframe tbody tr th:only-of-type {\n",
       "        vertical-align: middle;\n",
       "    }\n",
       "\n",
       "    .dataframe tbody tr th {\n",
       "        vertical-align: top;\n",
       "    }\n",
       "\n",
       "    .dataframe thead th {\n",
       "        text-align: right;\n",
       "    }\n",
       "</style>\n",
       "<table border=\"1\" class=\"dataframe\">\n",
       "  <thead>\n",
       "    <tr style=\"text-align: right;\">\n",
       "      <th></th>\n",
       "      <th>malware</th>\n",
       "      <th>t_0</th>\n",
       "      <th>t_1</th>\n",
       "      <th>t_2</th>\n",
       "      <th>t_3</th>\n",
       "      <th>t_4</th>\n",
       "      <th>t_5</th>\n",
       "      <th>t_6</th>\n",
       "      <th>t_7</th>\n",
       "      <th>t_8</th>\n",
       "      <th>...</th>\n",
       "      <th>t_90</th>\n",
       "      <th>t_91</th>\n",
       "      <th>t_92</th>\n",
       "      <th>t_93</th>\n",
       "      <th>t_94</th>\n",
       "      <th>t_95</th>\n",
       "      <th>t_96</th>\n",
       "      <th>t_97</th>\n",
       "      <th>t_98</th>\n",
       "      <th>t_99</th>\n",
       "    </tr>\n",
       "  </thead>\n",
       "  <tbody>\n",
       "    <tr>\n",
       "      <th>0</th>\n",
       "      <td>1</td>\n",
       "      <td>LdrLoadDll</td>\n",
       "      <td>LdrGetProcedureAddress</td>\n",
       "      <td>LdrLoadDll</td>\n",
       "      <td>LdrGetProcedureAddress</td>\n",
       "      <td>LdrLoadDll</td>\n",
       "      <td>LdrGetProcedureAddress</td>\n",
       "      <td>LdrLoadDll</td>\n",
       "      <td>LdrGetProcedureAddress</td>\n",
       "      <td>LdrLoadDll</td>\n",
       "      <td>...</td>\n",
       "      <td>LdrGetProcedureAddress</td>\n",
       "      <td>LookupAccountSidW</td>\n",
       "      <td>LdrGetProcedureAddress</td>\n",
       "      <td>LookupAccountSidW</td>\n",
       "      <td>LdrLoadDll</td>\n",
       "      <td>LdrGetProcedureAddress</td>\n",
       "      <td>LdrLoadDll</td>\n",
       "      <td>LdrGetProcedureAddress</td>\n",
       "      <td>LdrLoadDll</td>\n",
       "      <td>LdrGetProcedureAddress</td>\n",
       "    </tr>\n",
       "    <tr>\n",
       "      <th>1</th>\n",
       "      <td>1</td>\n",
       "      <td>NtClose</td>\n",
       "      <td>NtOpenKey</td>\n",
       "      <td>NtQueryValueKey</td>\n",
       "      <td>NtClose</td>\n",
       "      <td>NtOpenKey</td>\n",
       "      <td>NtQueryValueKey</td>\n",
       "      <td>NtClose</td>\n",
       "      <td>LdrGetDllHandle</td>\n",
       "      <td>LdrGetProcedureAddress</td>\n",
       "      <td>...</td>\n",
       "      <td>FindResourceExW</td>\n",
       "      <td>LoadResource</td>\n",
       "      <td>FindResourceExW</td>\n",
       "      <td>LoadResource</td>\n",
       "      <td>LdrGetDllHandle</td>\n",
       "      <td>LdrGetProcedureAddress</td>\n",
       "      <td>LoadStringW</td>\n",
       "      <td>LdrGetDllHandle</td>\n",
       "      <td>LdrGetProcedureAddress</td>\n",
       "      <td>LdrGetDllHandle</td>\n",
       "    </tr>\n",
       "    <tr>\n",
       "      <th>2</th>\n",
       "      <td>1</td>\n",
       "      <td>NtClose</td>\n",
       "      <td>NtOpenKey</td>\n",
       "      <td>NtQueryValueKey</td>\n",
       "      <td>NtClose</td>\n",
       "      <td>NtOpenKey</td>\n",
       "      <td>NtQueryValueKey</td>\n",
       "      <td>NtClose</td>\n",
       "      <td>LdrGetDllHandle</td>\n",
       "      <td>LdrGetProcedureAddress</td>\n",
       "      <td>...</td>\n",
       "      <td>FindResourceExW</td>\n",
       "      <td>LoadResource</td>\n",
       "      <td>FindResourceExW</td>\n",
       "      <td>LoadResource</td>\n",
       "      <td>LdrGetDllHandle</td>\n",
       "      <td>LdrGetProcedureAddress</td>\n",
       "      <td>LoadStringW</td>\n",
       "      <td>LdrGetDllHandle</td>\n",
       "      <td>LdrGetProcedureAddress</td>\n",
       "      <td>LdrGetDllHandle</td>\n",
       "    </tr>\n",
       "    <tr>\n",
       "      <th>3</th>\n",
       "      <td>0</td>\n",
       "      <td>LdrLoadDll</td>\n",
       "      <td>LdrGetProcedureAddress</td>\n",
       "      <td>LdrLoadDll</td>\n",
       "      <td>LdrGetProcedureAddress</td>\n",
       "      <td>LdrLoadDll</td>\n",
       "      <td>LdrGetProcedureAddress</td>\n",
       "      <td>LdrLoadDll</td>\n",
       "      <td>LdrGetProcedureAddress</td>\n",
       "      <td>LdrLoadDll</td>\n",
       "      <td>...</td>\n",
       "      <td>SetFilePointer</td>\n",
       "      <td>NtReadFile</td>\n",
       "      <td>SetFilePointer</td>\n",
       "      <td>NtReadFile</td>\n",
       "      <td>SetFilePointer</td>\n",
       "      <td>NtReadFile</td>\n",
       "      <td>SetFilePointer</td>\n",
       "      <td>NtReadFile</td>\n",
       "      <td>SetFilePointer</td>\n",
       "      <td>NtReadFile</td>\n",
       "    </tr>\n",
       "    <tr>\n",
       "      <th>4</th>\n",
       "      <td>1</td>\n",
       "      <td>LdrLoadDll</td>\n",
       "      <td>LdrGetProcedureAddress</td>\n",
       "      <td>LdrLoadDll</td>\n",
       "      <td>LdrGetProcedureAddress</td>\n",
       "      <td>LdrLoadDll</td>\n",
       "      <td>LdrGetProcedureAddress</td>\n",
       "      <td>LdrLoadDll</td>\n",
       "      <td>LdrGetProcedureAddress</td>\n",
       "      <td>LdrLoadDll</td>\n",
       "      <td>...</td>\n",
       "      <td>LoadResource</td>\n",
       "      <td>FindResourceExW</td>\n",
       "      <td>LoadResource</td>\n",
       "      <td>FindResourceExW</td>\n",
       "      <td>LoadResource</td>\n",
       "      <td>OleInitialize</td>\n",
       "      <td>FindResourceExW</td>\n",
       "      <td>LoadResource</td>\n",
       "      <td>FindResourceExW</td>\n",
       "      <td>LoadResource</td>\n",
       "    </tr>\n",
       "  </tbody>\n",
       "</table>\n",
       "<p>5 rows × 101 columns</p>\n",
       "</div>"
      ],
      "text/plain": [
       "   malware         t_0                     t_1              t_2  \\\n",
       "0        1  LdrLoadDll  LdrGetProcedureAddress       LdrLoadDll   \n",
       "1        1     NtClose               NtOpenKey  NtQueryValueKey   \n",
       "2        1     NtClose               NtOpenKey  NtQueryValueKey   \n",
       "3        0  LdrLoadDll  LdrGetProcedureAddress       LdrLoadDll   \n",
       "4        1  LdrLoadDll  LdrGetProcedureAddress       LdrLoadDll   \n",
       "\n",
       "                      t_3         t_4                     t_5         t_6  \\\n",
       "0  LdrGetProcedureAddress  LdrLoadDll  LdrGetProcedureAddress  LdrLoadDll   \n",
       "1                 NtClose   NtOpenKey         NtQueryValueKey     NtClose   \n",
       "2                 NtClose   NtOpenKey         NtQueryValueKey     NtClose   \n",
       "3  LdrGetProcedureAddress  LdrLoadDll  LdrGetProcedureAddress  LdrLoadDll   \n",
       "4  LdrGetProcedureAddress  LdrLoadDll  LdrGetProcedureAddress  LdrLoadDll   \n",
       "\n",
       "                      t_7                     t_8  ...  \\\n",
       "0  LdrGetProcedureAddress              LdrLoadDll  ...   \n",
       "1         LdrGetDllHandle  LdrGetProcedureAddress  ...   \n",
       "2         LdrGetDllHandle  LdrGetProcedureAddress  ...   \n",
       "3  LdrGetProcedureAddress              LdrLoadDll  ...   \n",
       "4  LdrGetProcedureAddress              LdrLoadDll  ...   \n",
       "\n",
       "                     t_90               t_91                    t_92  \\\n",
       "0  LdrGetProcedureAddress  LookupAccountSidW  LdrGetProcedureAddress   \n",
       "1         FindResourceExW       LoadResource         FindResourceExW   \n",
       "2         FindResourceExW       LoadResource         FindResourceExW   \n",
       "3          SetFilePointer         NtReadFile          SetFilePointer   \n",
       "4            LoadResource    FindResourceExW            LoadResource   \n",
       "\n",
       "                t_93             t_94                    t_95  \\\n",
       "0  LookupAccountSidW       LdrLoadDll  LdrGetProcedureAddress   \n",
       "1       LoadResource  LdrGetDllHandle  LdrGetProcedureAddress   \n",
       "2       LoadResource  LdrGetDllHandle  LdrGetProcedureAddress   \n",
       "3         NtReadFile   SetFilePointer              NtReadFile   \n",
       "4    FindResourceExW     LoadResource           OleInitialize   \n",
       "\n",
       "              t_96                    t_97                    t_98  \\\n",
       "0       LdrLoadDll  LdrGetProcedureAddress              LdrLoadDll   \n",
       "1      LoadStringW         LdrGetDllHandle  LdrGetProcedureAddress   \n",
       "2      LoadStringW         LdrGetDllHandle  LdrGetProcedureAddress   \n",
       "3   SetFilePointer              NtReadFile          SetFilePointer   \n",
       "4  FindResourceExW            LoadResource         FindResourceExW   \n",
       "\n",
       "                     t_99  \n",
       "0  LdrGetProcedureAddress  \n",
       "1         LdrGetDllHandle  \n",
       "2         LdrGetDllHandle  \n",
       "3              NtReadFile  \n",
       "4            LoadResource  \n",
       "\n",
       "[5 rows x 101 columns]"
      ]
     },
     "execution_count": 6,
     "metadata": {},
     "output_type": "execute_result"
    }
   ],
   "source": [
    "#Previewing Time-based Dataset\n",
    "tb_train.head()"
   ]
  },
  {
   "cell_type": "code",
   "execution_count": 7,
   "id": "5f2e98f1",
   "metadata": {},
   "outputs": [
    {
     "data": {
      "text/html": [
       "<div>\n",
       "<style scoped>\n",
       "    .dataframe tbody tr th:only-of-type {\n",
       "        vertical-align: middle;\n",
       "    }\n",
       "\n",
       "    .dataframe tbody tr th {\n",
       "        vertical-align: top;\n",
       "    }\n",
       "\n",
       "    .dataframe thead th {\n",
       "        text-align: right;\n",
       "    }\n",
       "</style>\n",
       "<table border=\"1\" class=\"dataframe\">\n",
       "  <thead>\n",
       "    <tr style=\"text-align: right;\">\n",
       "      <th></th>\n",
       "      <th>malware</th>\n",
       "      <th>t_0</th>\n",
       "      <th>t_1</th>\n",
       "      <th>t_2</th>\n",
       "      <th>t_3</th>\n",
       "      <th>t_4</th>\n",
       "      <th>t_5</th>\n",
       "      <th>t_6</th>\n",
       "      <th>t_7</th>\n",
       "      <th>t_8</th>\n",
       "      <th>...</th>\n",
       "      <th>t_90</th>\n",
       "      <th>t_91</th>\n",
       "      <th>t_92</th>\n",
       "      <th>t_93</th>\n",
       "      <th>t_94</th>\n",
       "      <th>t_95</th>\n",
       "      <th>t_96</th>\n",
       "      <th>t_97</th>\n",
       "      <th>t_98</th>\n",
       "      <th>t_99</th>\n",
       "    </tr>\n",
       "  </thead>\n",
       "  <tbody>\n",
       "    <tr>\n",
       "      <th>0</th>\n",
       "      <td>1</td>\n",
       "      <td>LdrLoadDll</td>\n",
       "      <td>LdrGetProcedureAddress</td>\n",
       "      <td>NtProtectVirtualMemory</td>\n",
       "      <td>NtClose</td>\n",
       "      <td>NtOpenKey</td>\n",
       "      <td>NtQueryValueKey</td>\n",
       "      <td>LdrGetDllHandle</td>\n",
       "      <td>GetSystemInfo</td>\n",
       "      <td>NtAllocateVirtualMemory</td>\n",
       "      <td>...</td>\n",
       "      <td>NaN</td>\n",
       "      <td>NaN</td>\n",
       "      <td>NaN</td>\n",
       "      <td>NaN</td>\n",
       "      <td>NaN</td>\n",
       "      <td>NaN</td>\n",
       "      <td>NaN</td>\n",
       "      <td>NaN</td>\n",
       "      <td>NaN</td>\n",
       "      <td>NaN</td>\n",
       "    </tr>\n",
       "    <tr>\n",
       "      <th>1</th>\n",
       "      <td>1</td>\n",
       "      <td>NtClose</td>\n",
       "      <td>NtOpenKey</td>\n",
       "      <td>NtQueryValueKey</td>\n",
       "      <td>LdrGetDllHandle</td>\n",
       "      <td>LdrGetProcedureAddress</td>\n",
       "      <td>GetSystemInfo</td>\n",
       "      <td>NtAllocateVirtualMemory</td>\n",
       "      <td>RegOpenKeyExW</td>\n",
       "      <td>FindFirstFileExW</td>\n",
       "      <td>...</td>\n",
       "      <td>NaN</td>\n",
       "      <td>NaN</td>\n",
       "      <td>NaN</td>\n",
       "      <td>NaN</td>\n",
       "      <td>NaN</td>\n",
       "      <td>NaN</td>\n",
       "      <td>NaN</td>\n",
       "      <td>NaN</td>\n",
       "      <td>NaN</td>\n",
       "      <td>NaN</td>\n",
       "    </tr>\n",
       "    <tr>\n",
       "      <th>2</th>\n",
       "      <td>1</td>\n",
       "      <td>NtClose</td>\n",
       "      <td>NtOpenKey</td>\n",
       "      <td>NtQueryValueKey</td>\n",
       "      <td>LdrGetDllHandle</td>\n",
       "      <td>LdrGetProcedureAddress</td>\n",
       "      <td>GetSystemInfo</td>\n",
       "      <td>NtAllocateVirtualMemory</td>\n",
       "      <td>RegOpenKeyExW</td>\n",
       "      <td>FindFirstFileExW</td>\n",
       "      <td>...</td>\n",
       "      <td>NaN</td>\n",
       "      <td>NaN</td>\n",
       "      <td>NaN</td>\n",
       "      <td>NaN</td>\n",
       "      <td>NaN</td>\n",
       "      <td>NaN</td>\n",
       "      <td>NaN</td>\n",
       "      <td>NaN</td>\n",
       "      <td>NaN</td>\n",
       "      <td>NaN</td>\n",
       "    </tr>\n",
       "    <tr>\n",
       "      <th>3</th>\n",
       "      <td>0</td>\n",
       "      <td>LdrLoadDll</td>\n",
       "      <td>LdrGetProcedureAddress</td>\n",
       "      <td>NtProtectVirtualMemory</td>\n",
       "      <td>GetSystemTimeAsFileTime</td>\n",
       "      <td>SetUnhandledExceptionFilter</td>\n",
       "      <td>GetSystemInfo</td>\n",
       "      <td>NtAllocateVirtualMemory</td>\n",
       "      <td>RegOpenKeyExW</td>\n",
       "      <td>RegQueryValueExW</td>\n",
       "      <td>...</td>\n",
       "      <td>NaN</td>\n",
       "      <td>NaN</td>\n",
       "      <td>NaN</td>\n",
       "      <td>NaN</td>\n",
       "      <td>NaN</td>\n",
       "      <td>NaN</td>\n",
       "      <td>NaN</td>\n",
       "      <td>NaN</td>\n",
       "      <td>NaN</td>\n",
       "      <td>NaN</td>\n",
       "    </tr>\n",
       "    <tr>\n",
       "      <th>4</th>\n",
       "      <td>1</td>\n",
       "      <td>LdrLoadDll</td>\n",
       "      <td>LdrGetProcedureAddress</td>\n",
       "      <td>NtProtectVirtualMemory</td>\n",
       "      <td>NtClose</td>\n",
       "      <td>NtOpenKey</td>\n",
       "      <td>NtQueryValueKey</td>\n",
       "      <td>LdrGetDllHandle</td>\n",
       "      <td>GetSystemInfo</td>\n",
       "      <td>NtAllocateVirtualMemory</td>\n",
       "      <td>...</td>\n",
       "      <td>NaN</td>\n",
       "      <td>NaN</td>\n",
       "      <td>NaN</td>\n",
       "      <td>NaN</td>\n",
       "      <td>NaN</td>\n",
       "      <td>NaN</td>\n",
       "      <td>NaN</td>\n",
       "      <td>NaN</td>\n",
       "      <td>NaN</td>\n",
       "      <td>NaN</td>\n",
       "    </tr>\n",
       "  </tbody>\n",
       "</table>\n",
       "<p>5 rows × 101 columns</p>\n",
       "</div>"
      ],
      "text/plain": [
       "   malware         t_0                     t_1                     t_2  \\\n",
       "0        1  LdrLoadDll  LdrGetProcedureAddress  NtProtectVirtualMemory   \n",
       "1        1     NtClose               NtOpenKey         NtQueryValueKey   \n",
       "2        1     NtClose               NtOpenKey         NtQueryValueKey   \n",
       "3        0  LdrLoadDll  LdrGetProcedureAddress  NtProtectVirtualMemory   \n",
       "4        1  LdrLoadDll  LdrGetProcedureAddress  NtProtectVirtualMemory   \n",
       "\n",
       "                       t_3                          t_4              t_5  \\\n",
       "0                  NtClose                    NtOpenKey  NtQueryValueKey   \n",
       "1          LdrGetDllHandle       LdrGetProcedureAddress    GetSystemInfo   \n",
       "2          LdrGetDllHandle       LdrGetProcedureAddress    GetSystemInfo   \n",
       "3  GetSystemTimeAsFileTime  SetUnhandledExceptionFilter    GetSystemInfo   \n",
       "4                  NtClose                    NtOpenKey  NtQueryValueKey   \n",
       "\n",
       "                       t_6            t_7                      t_8  ... t_90  \\\n",
       "0          LdrGetDllHandle  GetSystemInfo  NtAllocateVirtualMemory  ...  NaN   \n",
       "1  NtAllocateVirtualMemory  RegOpenKeyExW         FindFirstFileExW  ...  NaN   \n",
       "2  NtAllocateVirtualMemory  RegOpenKeyExW         FindFirstFileExW  ...  NaN   \n",
       "3  NtAllocateVirtualMemory  RegOpenKeyExW         RegQueryValueExW  ...  NaN   \n",
       "4          LdrGetDllHandle  GetSystemInfo  NtAllocateVirtualMemory  ...  NaN   \n",
       "\n",
       "  t_91 t_92 t_93 t_94 t_95 t_96 t_97 t_98 t_99  \n",
       "0  NaN  NaN  NaN  NaN  NaN  NaN  NaN  NaN  NaN  \n",
       "1  NaN  NaN  NaN  NaN  NaN  NaN  NaN  NaN  NaN  \n",
       "2  NaN  NaN  NaN  NaN  NaN  NaN  NaN  NaN  NaN  \n",
       "3  NaN  NaN  NaN  NaN  NaN  NaN  NaN  NaN  NaN  \n",
       "4  NaN  NaN  NaN  NaN  NaN  NaN  NaN  NaN  NaN  \n",
       "\n",
       "[5 rows x 101 columns]"
      ]
     },
     "execution_count": 7,
     "metadata": {},
     "output_type": "execute_result"
    }
   ],
   "source": [
    "#Previewing Instance-based Dataset\n",
    "ib_train.head()"
   ]
  },
  {
   "cell_type": "markdown",
   "id": "fe47cf04",
   "metadata": {},
   "source": [
    "### 1.3.4. Statically Splitting the Train Split\n",
    "\n",
    "Train Split --> Training and Validation Split\n",
    "\n",
    "However only Training Split will be used."
   ]
  },
  {
   "cell_type": "code",
   "execution_count": 8,
   "id": "1bf09ed0",
   "metadata": {},
   "outputs": [],
   "source": [
    "#Static splitting of Train Split of Time-based\n",
    "X_tb = tb_train.iloc[:,1:101] #All rows, 2nd to last column\n",
    "y_tb = tb_train.iloc[:,0] #All rows, first column only\n",
    "X_tb_training, X_tb_validate, y_tb_training, y_tb_validate = train_test_split(X_tb, y_tb, test_size=STATIC_SPLIT, shuffle=True, random_state=1)\n",
    "\n",
    "#Static splitting of Train Split of Instance-based\n",
    "X_ib = ib_train.iloc[:,1:101] #All rows, 2nd to last column\n",
    "y_ib = ib_train.iloc[:,0] #All rows, first column only\n",
    "X_ib_training, X_ib_validate, y_ib_training, y_ib_validate = train_test_split(X_ib, y_ib, test_size=STATIC_SPLIT, shuffle=True, random_state=1)"
   ]
  },
  {
   "cell_type": "markdown",
   "id": "fccf92ee",
   "metadata": {},
   "source": [
    "# 2. Model Training"
   ]
  },
  {
   "cell_type": "markdown",
   "id": "7e4ad7be",
   "metadata": {},
   "source": [
    "## 2.1. Setting up the Model"
   ]
  },
  {
   "cell_type": "code",
   "execution_count": 9,
   "id": "e386b9f0",
   "metadata": {},
   "outputs": [],
   "source": [
    "def get_indexes():\n",
    "    indexes = []\n",
    "    for i in range(100):\n",
    "        indexes.append(f\"t_{i}\")\n",
    "    return indexes\n",
    "\n",
    "def setup_model(HYPERPARAMS, TYPE):\n",
    "    global TUNED_TRAINING\n",
    "    indexes = get_indexes()\n",
    "    metric=['Logloss', 'AUC', 'Precision']\n",
    "    train_dir = f\"Outputs/CATB/{MODEL_FILENAME}_CATB_{TYPE}_TRAINDIR\"\n",
    "    if HYPERPARAMS == None:\n",
    "        return catboost.CatBoostClassifier(random_state=RANDOM_SEED, thread_count=-1, verbose=1, cat_features=indexes, \n",
    "                                           nan_mode='Min', custom_metric=metric, train_dir=train_dir, one_hot_max_size=256)\n",
    "    return catboost.CatBoostClassifier(**HYPERPARAMS, random_state=RANDOM_SEED, thread_count=-1, verbose=1, cat_features=indexes, \n",
    "                                       nan_mode='Min', custom_metric=metric, train_dir=train_dir, one_hot_max_size=256)"
   ]
  },
  {
   "cell_type": "markdown",
   "id": "ba557847",
   "metadata": {},
   "source": [
    "## 2.2. Training on Time-Based Behaviors"
   ]
  },
  {
   "cell_type": "markdown",
   "id": "4a1c3821",
   "metadata": {},
   "source": [
    "### 2.2.1 Training Model"
   ]
  },
  {
   "cell_type": "code",
   "execution_count": 10,
   "id": "97d6c8e9",
   "metadata": {
    "scrolled": true
   },
   "outputs": [
    {
     "data": {
      "application/vnd.jupyter.widget-view+json": {
       "model_id": "83a9d2683e8f4b879e056c045e3ac6ce",
       "version_major": 2,
       "version_minor": 0
      },
      "text/plain": [
       "MetricVisualizer(layout=Layout(align_self='stretch', height='500px'))"
      ]
     },
     "metadata": {},
     "output_type": "display_data"
    },
    {
     "name": "stderr",
     "output_type": "stream",
     "text": [
      "Default metric period is 5 because AUC is/are not implemented for GPU\n"
     ]
    },
    {
     "name": "stdout",
     "output_type": "stream",
     "text": [
      "0:\tlearn: 0.4385665\ttest: 0.4389736\tbest: 0.4389736 (0)\ttotal: 322ms\tremaining: 31.8s\n",
      "1:\ttotal: 533ms\tremaining: 26.1s\n",
      "2:\ttotal: 742ms\tremaining: 24s\n",
      "3:\ttotal: 963ms\tremaining: 23.1s\n",
      "4:\ttotal: 1.17s\tremaining: 22.2s\n",
      "5:\tlearn: 0.0792527\ttest: 0.0801283\tbest: 0.0801283 (5)\ttotal: 1.38s\tremaining: 21.6s\n",
      "6:\ttotal: 1.57s\tremaining: 20.9s\n",
      "7:\ttotal: 1.77s\tremaining: 20.3s\n",
      "8:\ttotal: 1.96s\tremaining: 19.8s\n",
      "9:\ttotal: 2.15s\tremaining: 19.4s\n",
      "10:\tlearn: 0.0429606\ttest: 0.0441908\tbest: 0.0441908 (10)\ttotal: 2.36s\tremaining: 19.1s\n",
      "11:\ttotal: 2.55s\tremaining: 18.7s\n",
      "12:\ttotal: 2.75s\tremaining: 18.4s\n",
      "13:\ttotal: 2.93s\tremaining: 18s\n",
      "14:\ttotal: 3.13s\tremaining: 17.7s\n",
      "15:\tlearn: 0.0323091\ttest: 0.0341018\tbest: 0.0341018 (15)\ttotal: 3.33s\tremaining: 17.5s\n",
      "16:\ttotal: 3.51s\tremaining: 17.2s\n",
      "17:\ttotal: 3.73s\tremaining: 17s\n",
      "18:\ttotal: 3.92s\tremaining: 16.7s\n",
      "19:\ttotal: 4.1s\tremaining: 16.4s\n",
      "20:\tlearn: 0.0292267\ttest: 0.0313344\tbest: 0.0313344 (20)\ttotal: 4.29s\tremaining: 16.1s\n",
      "21:\ttotal: 4.47s\tremaining: 15.9s\n",
      "22:\ttotal: 4.66s\tremaining: 15.6s\n",
      "23:\ttotal: 4.85s\tremaining: 15.4s\n",
      "24:\ttotal: 5.03s\tremaining: 15.1s\n",
      "25:\tlearn: 0.0276542\ttest: 0.0302571\tbest: 0.0302571 (25)\ttotal: 5.22s\tremaining: 14.9s\n",
      "26:\ttotal: 5.4s\tremaining: 14.6s\n",
      "27:\ttotal: 5.59s\tremaining: 14.4s\n",
      "28:\ttotal: 5.77s\tremaining: 14.1s\n",
      "29:\ttotal: 5.95s\tremaining: 13.9s\n",
      "30:\tlearn: 0.0265284\ttest: 0.0295744\tbest: 0.0295744 (30)\ttotal: 6.16s\tremaining: 13.7s\n",
      "31:\ttotal: 6.34s\tremaining: 13.5s\n",
      "32:\ttotal: 6.52s\tremaining: 13.2s\n",
      "33:\ttotal: 6.7s\tremaining: 13s\n",
      "34:\ttotal: 6.88s\tremaining: 12.8s\n",
      "35:\tlearn: 0.0259761\ttest: 0.0293544\tbest: 0.0293544 (35)\ttotal: 7.07s\tremaining: 12.6s\n",
      "36:\ttotal: 7.25s\tremaining: 12.3s\n",
      "37:\ttotal: 7.43s\tremaining: 12.1s\n",
      "38:\ttotal: 7.62s\tremaining: 11.9s\n",
      "39:\ttotal: 7.8s\tremaining: 11.7s\n",
      "40:\tlearn: 0.0246090\ttest: 0.0285280\tbest: 0.0285280 (40)\ttotal: 7.99s\tremaining: 11.5s\n",
      "41:\ttotal: 8.17s\tremaining: 11.3s\n",
      "42:\ttotal: 8.35s\tremaining: 11.1s\n",
      "43:\ttotal: 8.53s\tremaining: 10.9s\n",
      "44:\ttotal: 8.71s\tremaining: 10.7s\n",
      "45:\tlearn: 0.0241807\ttest: 0.0284089\tbest: 0.0284089 (45)\ttotal: 8.9s\tremaining: 10.4s\n",
      "46:\ttotal: 9.08s\tremaining: 10.2s\n",
      "47:\ttotal: 9.27s\tremaining: 10s\n",
      "48:\ttotal: 9.45s\tremaining: 9.83s\n",
      "49:\ttotal: 9.63s\tremaining: 9.63s\n",
      "50:\tlearn: 0.0236852\ttest: 0.0282847\tbest: 0.0282847 (50)\ttotal: 9.82s\tremaining: 9.43s\n",
      "51:\ttotal: 10s\tremaining: 9.24s\n",
      "52:\ttotal: 10.2s\tremaining: 9.05s\n",
      "53:\ttotal: 10.4s\tremaining: 8.85s\n",
      "54:\ttotal: 10.6s\tremaining: 8.64s\n",
      "55:\tlearn: 0.0228183\ttest: 0.0277784\tbest: 0.0277784 (55)\ttotal: 10.8s\tremaining: 8.45s\n",
      "56:\ttotal: 10.9s\tremaining: 8.25s\n",
      "57:\ttotal: 11.1s\tremaining: 8.05s\n",
      "58:\ttotal: 11.3s\tremaining: 7.85s\n",
      "59:\ttotal: 11.5s\tremaining: 7.65s\n",
      "60:\tlearn: 0.0225277\ttest: 0.0277615\tbest: 0.0277615 (60)\ttotal: 11.7s\tremaining: 7.46s\n",
      "61:\ttotal: 11.8s\tremaining: 7.26s\n",
      "62:\ttotal: 12s\tremaining: 7.06s\n",
      "63:\ttotal: 12.2s\tremaining: 6.87s\n",
      "64:\ttotal: 12.4s\tremaining: 6.67s\n",
      "65:\tlearn: 0.0222755\ttest: 0.0277112\tbest: 0.0277112 (65)\ttotal: 12.6s\tremaining: 6.48s\n",
      "66:\ttotal: 12.8s\tremaining: 6.29s\n",
      "67:\ttotal: 12.9s\tremaining: 6.09s\n",
      "68:\ttotal: 13.1s\tremaining: 5.9s\n",
      "69:\ttotal: 13.3s\tremaining: 5.71s\n",
      "70:\tlearn: 0.0218491\ttest: 0.0275485\tbest: 0.0275485 (70)\ttotal: 13.5s\tremaining: 5.53s\n",
      "71:\ttotal: 13.7s\tremaining: 5.33s\n",
      "72:\ttotal: 13.9s\tremaining: 5.14s\n",
      "73:\ttotal: 14.1s\tremaining: 4.95s\n",
      "74:\ttotal: 14.3s\tremaining: 4.75s\n",
      "75:\tlearn: 0.0216203\ttest: 0.0275312\tbest: 0.0275312 (75)\ttotal: 14.4s\tremaining: 4.56s\n",
      "76:\ttotal: 14.6s\tremaining: 4.37s\n",
      "77:\ttotal: 14.8s\tremaining: 4.18s\n",
      "78:\ttotal: 15s\tremaining: 3.99s\n",
      "79:\ttotal: 15.2s\tremaining: 3.79s\n",
      "80:\tlearn: 0.0212873\ttest: 0.0274250\tbest: 0.0274250 (80)\ttotal: 15.4s\tremaining: 3.6s\n",
      "81:\ttotal: 15.6s\tremaining: 3.42s\n",
      "82:\ttotal: 15.7s\tremaining: 3.23s\n",
      "83:\ttotal: 15.9s\tremaining: 3.03s\n",
      "84:\ttotal: 16.1s\tremaining: 2.84s\n",
      "85:\tlearn: 0.0206696\ttest: 0.0271433\tbest: 0.0271433 (85)\ttotal: 16.3s\tremaining: 2.66s\n",
      "86:\ttotal: 16.5s\tremaining: 2.46s\n",
      "87:\ttotal: 16.7s\tremaining: 2.27s\n",
      "88:\ttotal: 16.9s\tremaining: 2.08s\n",
      "89:\ttotal: 17s\tremaining: 1.89s\n",
      "90:\tlearn: 0.0204947\ttest: 0.0271228\tbest: 0.0271228 (90)\ttotal: 17.2s\tremaining: 1.7s\n",
      "91:\ttotal: 17.4s\tremaining: 1.51s\n",
      "92:\ttotal: 17.6s\tremaining: 1.32s\n",
      "93:\ttotal: 17.8s\tremaining: 1.14s\n",
      "94:\ttotal: 18s\tremaining: 947ms\n",
      "95:\tlearn: 0.0202390\ttest: 0.0271114\tbest: 0.0271114 (95)\ttotal: 18.2s\tremaining: 758ms\n",
      "96:\ttotal: 18.4s\tremaining: 568ms\n",
      "97:\ttotal: 18.6s\tremaining: 379ms\n",
      "98:\ttotal: 18.7s\tremaining: 189ms\n",
      "99:\tlearn: 0.0200111\ttest: 0.0269912\tbest: 0.0269912 (99)\ttotal: 18.9s\tremaining: 0us\n",
      "bestTest = 0.02699117873\n",
      "bestIteration = 99\n"
     ]
    }
   ],
   "source": [
    "#Training Model\n",
    "start_time()\n",
    "tb_catb = setup_model(TB_HYPERPARAMS, \"TB\")\n",
    "tb_catb.fit(X_tb_training, y_tb_training, plot=True, eval_set=catboost.Pool(X_tb_validate, label=y_tb_validate, cat_features=get_indexes()), save_snapshot=True, snapshot_interval=60)\n",
    "end_time(\"CATB_TB\")\n",
    "\n",
    "#Saving Model as file\n",
    "tb_catb.save_model(\"Outputs/CATB/\"+MODEL_FILENAME+\"_CATB_TB.model\", format=\"json\")"
   ]
  },
  {
   "cell_type": "markdown",
   "id": "bec8c2a4",
   "metadata": {},
   "source": [
    "### 2.2.2. Checking Performance\n",
    "\n",
    "Using the split for validation for a bit of internal checking of performance (i.e., not official)"
   ]
  },
  {
   "cell_type": "code",
   "execution_count": 11,
   "id": "93b44da8",
   "metadata": {
    "scrolled": true
   },
   "outputs": [
    {
     "name": "stdout",
     "output_type": "stream",
     "text": [
      "CATB_TB\n",
      "              precision    recall  f1-score   support\n",
      "\n",
      "           0     0.9984    0.9897    0.9940     11530\n",
      "           1     0.9898    0.9984    0.9941     11578\n",
      "\n",
      "    accuracy                         0.9941     23108\n",
      "   macro avg     0.9941    0.9941    0.9941     23108\n",
      "weighted avg     0.9941    0.9941    0.9941     23108\n",
      "\n"
     ]
    },
    {
     "data": {
      "image/png": "[encoded data removed]",
      "text/plain": [
       "<Figure size 640x480 with 2 Axes>"
      ]
     },
     "metadata": {},
     "output_type": "display_data"
    }
   ],
   "source": [
    "y_pred = tb_catb.predict(X_tb_validate)\n",
    "print(\"CATB_TB\")\n",
    "print(classification_report(y_tb_validate, y_pred, digits=4))\n",
    "print(classification_report(y_tb_validate, y_pred, digits=4), file=open(\"Outputs/CATB/\"+MODEL_FILENAME+\"_CATB_TB_ClassReport.txt\", mode='w'))\n",
    "disp = ConfusionMatrixDisplay(confusion_matrix(y_tb_validate, y_pred))\n",
    "disp.plot()\n",
    "plt.savefig(\"Outputs/CATB/\"+MODEL_FILENAME+\"_CATB_TB_\"+\"_ConfMatrix.png\")"
   ]
  },
  {
   "cell_type": "markdown",
   "id": "770125ef",
   "metadata": {},
   "source": [
    "### 2.2.3. Preview of the Tree\n",
    "\n",
    "*How can it be a tree if there is no proof of a tree?*"
   ]
  },
  {
   "cell_type": "code",
   "execution_count": 12,
   "id": "3e0400c7",
   "metadata": {
    "scrolled": true
   },
   "outputs": [],
   "source": [
    "# tree = tb_catb.plot_tree(0, catboost.Pool(X_tb_training, y_tb_training, cat_features=get_indexes(), feature_names=list(X_tb_training.columns)))\n",
    "# tree.save(\"Outputs/CATB/\"+MODEL_FILENAME+\"_CATB_TREE/TB_Tree\"+\".svg\")\n",
    "# display(tree)"
   ]
  },
  {
   "cell_type": "markdown",
   "id": "070b0d7e",
   "metadata": {},
   "source": [
    "## 2.3. Training on Instance-Based Behaviors"
   ]
  },
  {
   "cell_type": "markdown",
   "id": "ca10fb20",
   "metadata": {},
   "source": [
    "### 2.3.1 Training Model"
   ]
  },
  {
   "cell_type": "code",
   "execution_count": 13,
   "id": "38e7f94a",
   "metadata": {
    "scrolled": true
   },
   "outputs": [
    {
     "data": {
      "application/vnd.jupyter.widget-view+json": {
       "model_id": "6b6f2469a9184c78a13a1225ad36536a",
       "version_major": 2,
       "version_minor": 0
      },
      "text/plain": [
       "MetricVisualizer(layout=Layout(align_self='stretch', height='500px'))"
      ]
     },
     "metadata": {},
     "output_type": "display_data"
    },
    {
     "name": "stderr",
     "output_type": "stream",
     "text": [
      "Default metric period is 5 because AUC is/are not implemented for GPU\n"
     ]
    },
    {
     "name": "stdout",
     "output_type": "stream",
     "text": [
      "0:\tlearn: 0.4507429\ttest: 0.4510287\tbest: 0.4510287 (0)\ttotal: 217ms\tremaining: 21.5s\n",
      "1:\ttotal: 404ms\tremaining: 19.8s\n",
      "2:\ttotal: 578ms\tremaining: 18.7s\n",
      "3:\ttotal: 742ms\tremaining: 17.8s\n",
      "4:\ttotal: 909ms\tremaining: 17.3s\n",
      "5:\tlearn: 0.0844970\ttest: 0.0849454\tbest: 0.0849454 (5)\ttotal: 1.08s\tremaining: 16.9s\n",
      "6:\ttotal: 1.28s\tremaining: 17.1s\n",
      "7:\ttotal: 1.45s\tremaining: 16.6s\n",
      "8:\ttotal: 1.61s\tremaining: 16.3s\n",
      "9:\ttotal: 1.77s\tremaining: 15.9s\n",
      "10:\tlearn: 0.0441697\ttest: 0.0452234\tbest: 0.0452234 (10)\ttotal: 1.94s\tremaining: 15.7s\n",
      "11:\ttotal: 2.1s\tremaining: 15.4s\n",
      "12:\ttotal: 2.27s\tremaining: 15.2s\n",
      "13:\ttotal: 2.43s\tremaining: 14.9s\n",
      "14:\ttotal: 2.59s\tremaining: 14.7s\n",
      "15:\tlearn: 0.0333717\ttest: 0.0352089\tbest: 0.0352089 (15)\ttotal: 2.76s\tremaining: 14.5s\n",
      "16:\ttotal: 2.91s\tremaining: 14.2s\n",
      "17:\ttotal: 3.07s\tremaining: 14s\n",
      "18:\ttotal: 3.24s\tremaining: 13.8s\n",
      "19:\ttotal: 3.4s\tremaining: 13.6s\n",
      "20:\tlearn: 0.0297545\ttest: 0.0321776\tbest: 0.0321776 (20)\ttotal: 3.56s\tremaining: 13.4s\n",
      "21:\ttotal: 3.72s\tremaining: 13.2s\n",
      "22:\ttotal: 3.88s\tremaining: 13s\n",
      "23:\ttotal: 4.03s\tremaining: 12.8s\n",
      "24:\ttotal: 4.19s\tremaining: 12.6s\n",
      "25:\tlearn: 0.0285401\ttest: 0.0314832\tbest: 0.0314832 (25)\ttotal: 4.35s\tremaining: 12.4s\n",
      "26:\ttotal: 4.51s\tremaining: 12.2s\n",
      "27:\ttotal: 4.67s\tremaining: 12s\n",
      "28:\ttotal: 4.83s\tremaining: 11.8s\n",
      "29:\ttotal: 4.98s\tremaining: 11.6s\n",
      "30:\tlearn: 0.0263018\ttest: 0.0295586\tbest: 0.0295586 (30)\ttotal: 5.15s\tremaining: 11.5s\n",
      "31:\ttotal: 5.3s\tremaining: 11.3s\n",
      "32:\ttotal: 5.47s\tremaining: 11.1s\n",
      "33:\ttotal: 5.63s\tremaining: 10.9s\n",
      "34:\ttotal: 5.78s\tremaining: 10.7s\n",
      "35:\tlearn: 0.0254077\ttest: 0.0290616\tbest: 0.0290616 (35)\ttotal: 5.95s\tremaining: 10.6s\n",
      "36:\ttotal: 6.11s\tremaining: 10.4s\n",
      "37:\ttotal: 6.27s\tremaining: 10.2s\n",
      "38:\ttotal: 6.43s\tremaining: 10.1s\n",
      "39:\ttotal: 6.58s\tremaining: 9.87s\n",
      "40:\tlearn: 0.0246205\ttest: 0.0286247\tbest: 0.0286247 (40)\ttotal: 6.74s\tremaining: 9.7s\n",
      "41:\ttotal: 6.9s\tremaining: 9.53s\n",
      "42:\ttotal: 7.06s\tremaining: 9.36s\n",
      "43:\ttotal: 7.22s\tremaining: 9.19s\n",
      "44:\ttotal: 7.38s\tremaining: 9.02s\n",
      "45:\tlearn: 0.0234555\ttest: 0.0279366\tbest: 0.0279366 (45)\ttotal: 7.54s\tremaining: 8.85s\n",
      "46:\ttotal: 7.7s\tremaining: 8.68s\n",
      "47:\ttotal: 7.85s\tremaining: 8.51s\n",
      "48:\ttotal: 8.01s\tremaining: 8.34s\n",
      "49:\ttotal: 8.17s\tremaining: 8.17s\n",
      "50:\tlearn: 0.0231752\ttest: 0.0279165\tbest: 0.0279165 (50)\ttotal: 8.33s\tremaining: 8s\n",
      "51:\ttotal: 8.48s\tremaining: 7.83s\n",
      "52:\ttotal: 8.64s\tremaining: 7.66s\n",
      "53:\ttotal: 8.8s\tremaining: 7.49s\n",
      "54:\ttotal: 8.95s\tremaining: 7.33s\n",
      "55:\tlearn: 0.0226734\ttest: 0.0276456\tbest: 0.0276456 (55)\ttotal: 9.11s\tremaining: 7.16s\n",
      "56:\ttotal: 9.27s\tremaining: 7s\n",
      "57:\ttotal: 9.43s\tremaining: 6.83s\n",
      "58:\ttotal: 9.59s\tremaining: 6.66s\n",
      "59:\ttotal: 9.74s\tremaining: 6.49s\n",
      "60:\tlearn: 0.0223307\ttest: 0.0275801\tbest: 0.0275801 (60)\ttotal: 9.9s\tremaining: 6.33s\n",
      "61:\ttotal: 10.1s\tremaining: 6.17s\n",
      "62:\ttotal: 10.2s\tremaining: 6s\n",
      "63:\ttotal: 10.4s\tremaining: 5.84s\n",
      "64:\ttotal: 10.5s\tremaining: 5.67s\n",
      "65:\tlearn: 0.0219698\ttest: 0.0274743\tbest: 0.0274743 (65)\ttotal: 10.7s\tremaining: 5.51s\n",
      "66:\ttotal: 10.9s\tremaining: 5.35s\n",
      "67:\ttotal: 11s\tremaining: 5.18s\n",
      "68:\ttotal: 11.2s\tremaining: 5.02s\n",
      "69:\ttotal: 11.3s\tremaining: 4.86s\n",
      "70:\tlearn: 0.0217546\ttest: 0.0274350\tbest: 0.0274350 (70)\ttotal: 11.5s\tremaining: 4.71s\n",
      "71:\ttotal: 11.7s\tremaining: 4.54s\n",
      "72:\ttotal: 11.8s\tremaining: 4.38s\n",
      "73:\ttotal: 12s\tremaining: 4.21s\n",
      "74:\ttotal: 12.1s\tremaining: 4.05s\n",
      "75:\tlearn: 0.0215536\ttest: 0.0274204\tbest: 0.0274204 (75)\ttotal: 12.3s\tremaining: 3.88s\n",
      "76:\ttotal: 12.5s\tremaining: 3.72s\n",
      "77:\ttotal: 12.6s\tremaining: 3.56s\n",
      "78:\ttotal: 12.8s\tremaining: 3.4s\n",
      "79:\ttotal: 12.9s\tremaining: 3.23s\n",
      "80:\tlearn: 0.0213611\ttest: 0.0273605\tbest: 0.0273605 (80)\ttotal: 13.1s\tremaining: 3.07s\n",
      "81:\ttotal: 13.3s\tremaining: 2.91s\n",
      "82:\ttotal: 13.4s\tremaining: 2.75s\n",
      "83:\ttotal: 13.6s\tremaining: 2.59s\n",
      "84:\ttotal: 13.7s\tremaining: 2.42s\n",
      "85:\tlearn: 0.0212067\ttest: 0.0273437\tbest: 0.0273437 (85)\ttotal: 13.9s\tremaining: 2.26s\n",
      "86:\ttotal: 14s\tremaining: 2.1s\n",
      "87:\ttotal: 14.2s\tremaining: 1.94s\n",
      "88:\ttotal: 14.4s\tremaining: 1.77s\n",
      "89:\ttotal: 14.5s\tremaining: 1.61s\n",
      "90:\tlearn: 0.0209469\ttest: 0.0272763\tbest: 0.0272763 (90)\ttotal: 14.7s\tremaining: 1.45s\n",
      "91:\ttotal: 14.8s\tremaining: 1.29s\n",
      "92:\ttotal: 15s\tremaining: 1.13s\n",
      "93:\ttotal: 15.2s\tremaining: 967ms\n",
      "94:\ttotal: 15.3s\tremaining: 806ms\n",
      "95:\tlearn: 0.0207793\ttest: 0.0271807\tbest: 0.0271807 (95)\ttotal: 15.5s\tremaining: 645ms\n",
      "96:\ttotal: 15.6s\tremaining: 483ms\n",
      "97:\ttotal: 15.8s\tremaining: 322ms\n",
      "98:\ttotal: 15.9s\tremaining: 161ms\n",
      "99:\tlearn: 0.0206374\ttest: 0.0271092\tbest: 0.0271092 (99)\ttotal: 16.1s\tremaining: 0us\n",
      "bestTest = 0.02710920786\n",
      "bestIteration = 99\n"
     ]
    }
   ],
   "source": [
    "#Training Model\n",
    "start_time()\n",
    "ib_catb = setup_model(IB_HYPERPARAMS, \"IB\")\n",
    "ib_catb.fit(X_ib_training, y_ib_training, plot=True, eval_set=catboost.Pool(X_ib_validate, label=y_ib_validate, cat_features=get_indexes()), save_snapshot=True, snapshot_interval=60)\n",
    "end_time(\"CATB_IB\")\n",
    "\n",
    "#Saving Model as file\n",
    "ib_catb.save_model(\"Outputs/CATB/\"+MODEL_FILENAME+\"_CATB_IB.model\", format=\"json\")"
   ]
  },
  {
   "cell_type": "markdown",
   "id": "7019d9f1",
   "metadata": {},
   "source": [
    "### 2.3.2. Checking Performance\n",
    "\n",
    "Using the split for validation for a bit of internal checking of performance (i.e., not official)"
   ]
  },
  {
   "cell_type": "code",
   "execution_count": 14,
   "id": "6aa4c727",
   "metadata": {},
   "outputs": [
    {
     "name": "stdout",
     "output_type": "stream",
     "text": [
      "CATB_IB\n",
      "              precision    recall  f1-score   support\n",
      "\n",
      "           0     0.9983    0.9900    0.9941     11530\n",
      "           1     0.9901    0.9983    0.9942     11578\n",
      "\n",
      "    accuracy                         0.9942     23108\n",
      "   macro avg     0.9942    0.9941    0.9942     23108\n",
      "weighted avg     0.9942    0.9942    0.9942     23108\n",
      "\n"
     ]
    },
    {
     "data": {
      "image/png": "[encoded data removed]",
      "text/plain": [
       "<Figure size 640x480 with 2 Axes>"
      ]
     },
     "metadata": {},
     "output_type": "display_data"
    }
   ],
   "source": [
    "y_pred = ib_catb.predict(X_ib_validate)\n",
    "print(\"CATB_IB\")\n",
    "print(classification_report(y_ib_validate, y_pred, digits=4))\n",
    "print(classification_report(y_ib_validate, y_pred, digits=4), file=open(\"Outputs/CATB/\"+MODEL_FILENAME+\"_CATB_IB_ClassReport.txt\", mode='w'))\n",
    "disp = ConfusionMatrixDisplay(confusion_matrix(y_ib_validate, y_pred))\n",
    "disp.plot()\n",
    "plt.savefig(\"Outputs/CATB/\"+MODEL_FILENAME+\"_CATB_IB_\"+\"_ConfMatrix.png\")"
   ]
  },
  {
   "cell_type": "markdown",
   "id": "f00ffacf",
   "metadata": {},
   "source": [
    "### 2.3.3. Preview of the Tree\n",
    "\n",
    "*How can it be a tree if there is no proof of a tree?*"
   ]
  },
  {
   "cell_type": "code",
   "execution_count": 15,
   "id": "3f262cd8",
   "metadata": {
    "scrolled": true
   },
   "outputs": [],
   "source": [
    "# tree = ib_catb.plot_tree(0, catboost.Pool(X_ib_training, y_ib_training, cat_features=get_indexes(), feature_names=list(X_ib_training.columns)))\n",
    "# tree.save(\"Outputs/CATB/\"+MODEL_FILENAME+\"_CATB_TREE/IB_Tree\"+\".svg\")\n",
    "# tree"
   ]
  },
  {
   "cell_type": "code",
   "execution_count": 16,
   "id": "514e4f94",
   "metadata": {},
   "outputs": [],
   "source": [
    "logging(\"\\n\")"
   ]
  }
 ],
 "metadata": {
  "kernelspec": {
   "display_name": "Python 3 (ipykernel)",
   "language": "python",
   "name": "python3"
  },
  "language_info": {
   "codemirror_mode": {
    "name": "ipython",
    "version": 3
   },
   "file_extension": ".py",
   "mimetype": "text/x-python",
   "name": "python",
   "nbconvert_exporter": "python",
   "pygments_lexer": "ipython3",
   "version": "3.11.5"
  }
 },
 "nbformat": 4,
 "nbformat_minor": 5
}
