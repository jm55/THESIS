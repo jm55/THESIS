{
 "cells": [
  {
   "cell_type": "markdown",
   "id": "ea18cebb",
   "metadata": {},
   "source": [
    "# GBDT Training Code Testbed\n",
    "\n",
    "This notebook will conduct code prototyping for executing GBDT training related processes."
   ]
  },
  {
   "cell_type": "code",
   "execution_count": 1,
   "id": "2461488e",
   "metadata": {},
   "outputs": [],
   "source": [
    "#Python Libraries\n",
    "import time\n",
    "\n",
    "#Data/Dataset Libraries\n",
    "import pandas as pd\n",
    "import numpy as np\n",
    "\n",
    "#Model Selection\n",
    "from sklearn.model_selection import StratifiedKFold, KFold\n",
    "from sklearn.model_selection import GridSearchCV, RandomizedSearchCV\n",
    "from sklearn.model_selection import train_test_split\n",
    "\n",
    "#Metrics (for in-training testing only)\n",
    "from sklearn.metrics import classification_report, accuracy_score, f1_score\n",
    "from sklearn.metrics import precision_score, recall_score, roc_auc_score\n",
    "\n",
    "#Visualization\n",
    "from matplotlib import pyplot as plt\n",
    "from sklearn.model_selection import LearningCurveDisplay\n",
    "\n",
    "#GBDT Models\n",
    "import lightgbm\n",
    "import catboost\n",
    "\n",
    "#File Writing Library (exclusive for use on LightGBM)\n",
    "from joblib import dump, load\n",
    "\n",
    "#Timer\n",
    "start = end = 0\n",
    "def startTime():\n",
    "    global start\n",
    "    start = time.time()\n",
    "def endTime():\n",
    "    global start\n",
    "    elapse = time.time()-start\n",
    "    start = 0\n",
    "    print(f\"Elapsed Time: {round(elapse, 6)}s\\n\")\n",
    "    return round(elapse, 6)\n",
    "\n",
    "#File paths\n",
    "TB = \"../Dataset/TB/TB.csv\"\n",
    "TB_Reserve = \"../Dataset/TB/TB_Reserve.csv\"\n",
    "TB_Enc = \"../Dataset/TB/TB_Enc.csv\"\n",
    "TB_Reserve_Enc = \"../Dataset/TB/TB_Reserve_Enc.csv\"\n",
    "IB = \"../Dataset/IB/IB.csv\"\n",
    "IB_Reserve = \"../Dataset/IB/IB_Reserve.csv\"\n",
    "IB_Enc = \"../Dataset/IB/IB_Enc.csv\"\n",
    "IB_Reserve_Enc = \"../Dataset/IB/IB_Reserve_Enc.csv\" \n",
    "\n",
    "#N_Split\n",
    "SPLIT = 5"
   ]
  },
  {
   "cell_type": "code",
   "execution_count": 2,
   "id": "15a692ca",
   "metadata": {},
   "outputs": [],
   "source": [
    "#DATASET PARSING\n",
    "\n",
    "tb = pd.read_csv(TB, low_memory=False, dtype='string')\n",
    "tb_res = pd.read_csv(TB_Reserve, low_memory=False, dtype='string')\n",
    "tb_enc = pd.read_csv(TB_Enc, low_memory=False)\n",
    "tb_res_enc = pd.read_csv(TB_Reserve_Enc, low_memory=False)\n",
    "\n",
    "ib = pd.read_csv(IB, low_memory=False, dtype='string')\n",
    "ib_res = pd.read_csv(IB_Reserve, low_memory=False, dtype='string')\n",
    "ib_enc = pd.read_csv(IB_Enc, low_memory=False)\n",
    "ib_res_enc = pd.read_csv(IB_Reserve_Enc, low_memory=False)"
   ]
  },
  {
   "cell_type": "code",
   "execution_count": 3,
   "id": "0a0b8314",
   "metadata": {},
   "outputs": [],
   "source": [
    "#AUXILIARY FUNCTIONS\n",
    "\n",
    "#Separate the features (X) & labels (y)\n",
    "def getXy(dataset):\n",
    "    return dataset.iloc[:,1:],dataset.iloc[:,0]\n",
    "\n",
    "#Generate StratifiedKFold object at given splits\n",
    "def getStratKFold(splits):\n",
    "    #It might be shuffled but it does so consistently (i.e., random_state=1)\n",
    "    return StratifiedKFold(n_splits=splits, shuffle=True, random_state=1)\n",
    "\n",
    "#Internal K-Folds Test (for in-training testing)\n",
    "def kfolds_test(X,y,model):\n",
    "    print(\"Internal KFolds Test\")\n",
    "    sublist = [[\"accuracy\", \"f1_score\",\"precision\",\"recall\",\"roc-auc\",\"time(s)\"]]\n",
    "    axis = 0\n",
    "    for i, (train_index, test_index) in enumerate(getStratKFold(SPLIT).split(X,y)):\n",
    "        start = time.time()\n",
    "        test_set = np.take(X, test_index, axis)\n",
    "        test_set_labels = np.take(y, test_index, axis)\n",
    "        m_pred = model.predict(test_set)\n",
    "        sublist.append([\n",
    "                        round(accuracy_score(test_set_labels, m_pred),4),\n",
    "                        round(f1_score(test_set_labels, m_pred, average='weighted'),4),\n",
    "                        round(precision_score(test_set_labels, m_pred,zero_division=0),4),\n",
    "                        round(recall_score(test_set_labels, m_pred),4),\n",
    "                        round(roc_auc_score(test_set_labels, m_pred),4),\n",
    "                        round(time.time()-start,4)\n",
    "                        ])\n",
    "    for s in sublist:\n",
    "        print(s)\n",
    "    print(\"\")\n",
    "\n",
    "#Learning Curves\n",
    "def learning_curve(dataset,model):\n",
    "    X,y = getXy(dataset)\n",
    "    vis_param = {\n",
    "    \"X\": X, \"y\": y,\n",
    "    \"train_sizes\": np.linspace(0.1, 1.0, 20),\n",
    "    \"cv\": getStratKFold(SPLIT),\n",
    "    \"score_type\": \"both\", \"n_jobs\": 4,\n",
    "    \"line_kw\": {\"marker\": \"o\"},\n",
    "    \"std_display_style\": \"fill_between\",\n",
    "    \"score_name\": \"Accuracy\",\n",
    "    }\n",
    "    display = LearningCurveDisplay.from_estimator(model, **vis_param)\n",
    "    plt.show()\n",
    "    \n",
    "#K-folds sample visualization\n",
    "def kfolds_vis(dataset):\n",
    "    X,y = getXy(dataset)\n",
    "    fig, ax = plt.subplots()\n",
    "    display = plot_cv_indices(getStratKFold(SPLIT), X, y, ax, SPLIT)\n",
    "    plt.show()\n",
    "\n",
    "#K-folds sample visualization (inner workings)\n",
    "def plot_cv_indices(cv, X, y, ax, n_splits, lw=25):\n",
    "    #From: https://scikit-learn.org/stable/auto_examples/model_selection/plot_cv_indices.html\n",
    "    for ii, (tr, tt) in enumerate(cv.split(X=X, y=y)):\n",
    "        indices = np.array([np.nan] * len(X))\n",
    "        indices[tt] = 1\n",
    "        indices[tr] = 0\n",
    "        ax.scatter(range(len(indices)), [ii] * len(indices), c=indices, marker=\"_\", \n",
    "                   lw=lw, cmap=plt.cm.Paired, vmin=0, vmax=1)\n",
    "    #ax.scatter(range(len(X)), [ii] * len(X), c=y, marker=\"_\", lw=lw, cmap=plt.cm.Paired)\n",
    "    \n",
    "    yticklabels = list(range(n_splits))\n",
    "    ax.set(yticks=np.arange(n_splits), yticklabels=yticklabels, xlabel=\"Dataset Subsample\", ylabel=\"CV iteration\", ylim=[n_splits,-0.5], xlim=[0, X.shape[0]])\n",
    "    ax.set_title(\"{}\".format(type(cv).__name__), fontsize=15)\n",
    "    return ax"
   ]
  },
  {
   "cell_type": "code",
   "execution_count": 4,
   "id": "ad2d883c",
   "metadata": {
    "scrolled": true
   },
   "outputs": [
    {
     "name": "stdout",
     "output_type": "stream",
     "text": [
      "Stratified K-Folds Split at 5 splits.\n",
      "TB/TB Encoded Dataset\n"
     ]
    },
    {
     "data": {
      "image/png": "[encoded data removed]",
      "text/plain": [
       "<Figure size 640x480 with 1 Axes>"
      ]
     },
     "metadata": {},
     "output_type": "display_data"
    },
    {
     "name": "stdout",
     "output_type": "stream",
     "text": [
      "IB/IB Encoded Dataset\n"
     ]
    },
    {
     "data": {
      "image/png": "[encoded data removed]",
      "text/plain": [
       "<Figure size 640x480 with 1 Axes>"
      ]
     },
     "metadata": {},
     "output_type": "display_data"
    }
   ],
   "source": [
    "print(\"Stratified K-Folds Split at\",SPLIT,\"splits.\")\n",
    "print(\"TB/TB Encoded Dataset\")\n",
    "kfolds_vis(tb_enc)\n",
    "print(\"IB/IB Encoded Dataset\")\n",
    "kfolds_vis(ib_enc)"
   ]
  },
  {
   "cell_type": "markdown",
   "id": "1166d7f3",
   "metadata": {},
   "source": [
    "# 1. Preparing Training Functions"
   ]
  },
  {
   "cell_type": "code",
   "execution_count": 5,
   "id": "f4fd67a5",
   "metadata": {},
   "outputs": [],
   "source": [
    "#Model training; Shows a simple k-folds test\n",
    "def train_model(model, dataset, title): #model assumes to be either trained/fitted or not\n",
    "    X,y = getXy(dataset) #Get features(X) and labels(y)\n",
    "    X_train, X_test, y_train, y_test = train_test_split(X, y, test_size=.30, random_state=1, shuffle=True)#Splitting data into train (70%) and test (30%) \n",
    "    print(\"Training\", title, \"...\")\n",
    "    start = time.time()\n",
    "    model.fit(X_train, y_train) #Training\n",
    "    print(f\"{title} Training Time: {time.time()-start:.4f}s\")\n",
    "    print(title, \"Trained!\")\n",
    "    print(\"Internal Classification Report:\\n\", classification_report(y_test, model.predict(X_test),digits=4))\n",
    "    kfolds_test(X, y, model) #Check current capabilities using entirety of Train Split (\"Training\"+\"Validation\"; i.e., mix of know and unknown)\n",
    "    return model\n",
    "\n",
    "def tune_model(model, params, dataset, title):\n",
    "    X,y = getXy(dataset) #Get features(X) and labels(y)\n",
    "    print(\"Tuning\", title, \"...\")\n",
    "    #Example shown uses RandomizedSearchCV\n",
    "    tuner = RandomizedSearchCV(model, params, n_iter=10, scoring=None, n_jobs=1, \n",
    "                               refit=True, cv=getStratKFold(SPLIT), verbose=0, pre_dispatch='2*n_jobs', random_state=1, \n",
    "                               error_score=0, return_train_score=False)\n",
    "    start = time.time()\n",
    "    tuner.fit(X,y) #Utilizing Train Split (i.e., both \"Training\"+\"Validation\") for tuning as it uses its own CV method\n",
    "    print(f\"{title} Tuning Time: {time.time()-start:.4f}s\")\n",
    "    print(title, \"Tuned!\")\n",
    "    print(title, \"Best Params:\", tuner.best_params_)\n",
    "    return tuner.best_params_\n",
    "\n",
    "def saveLGBM(model, filename):\n",
    "    if \".joblib\" not in filename:\n",
    "        filename += \".joblib\"\n",
    "    dump(model, filename)\n",
    "    print(\"LGBM Model\", filename, \"saved!\")\n",
    "\n",
    "def saveCatB(model, filename):\n",
    "    if \".json\" not in filename:\n",
    "        filename += \".json\"\n",
    "    model.save_model(filename, format=\"json\")\n",
    "    print(\"CatBoost Model\", filename, \"saved!\")\n",
    "\n",
    "def lbgm_train_tune(dataset, title, lgbm_params):\n",
    "    #Default\n",
    "    lgbm_classifier = lightgbm.LGBMClassifier(random_state=1, n_jobs=-1, verbose=-1)\n",
    "    lgbm_default = train_model(lgbm_classifier, dataset, title+\"_Default\")\n",
    "    saveLGBM(lgbm_default, title+\"_Default.joblib\")\n",
    "    #Tuning\n",
    "    lgbm_params = tune_model(lgbm_classifier, lgbm_params, dataset, title+\"_Tuned\")\n",
    "    #Tuned\n",
    "    lgbm_classifier = lightgbm.LGBMClassifier(**lgbm_params, random_state=1, n_jobs=-1, verbose=-1)\n",
    "    lgbm_tuned = train_model(lgbm_classifier, dataset, title+\"_Tuned\")\n",
    "    saveLGBM(lgbm_tuned, title+\"_Tuned.joblib\")\n",
    "    return lgbm_default, lgbm_tuned\n",
    "    \n",
    "def catb_train_tune(dataset, title, catb_params):\n",
    "    indexes = []\n",
    "    for i in range(dataset.shape[1]-1):\n",
    "        indexes.append(i)\n",
    "    #Default\n",
    "    catb_classifier = catboost.CatBoostClassifier(random_state=1, thread_count=-1, verbose=0, cat_features=indexes)\n",
    "    catboost_default = train_model(catb_classifier, dataset, title+\"_Default\")\n",
    "    saveCatB(catboost_default, title+\"_Default.json\")\n",
    "    #Tuning\n",
    "    catb_params = tune_model(catb_classifier, catb_params, dataset, title+\"_Tuned\")\n",
    "    #Tuned\n",
    "    catb_classifier = catboost.CatBoostClassifier(**catb_params, random_state=1, n_jobs=-1, verbose=0, cat_features=indexes)\n",
    "    catboost_tuned = train_model(catb_classifier, dataset, title+\"_Tuned\")\n",
    "    saveCatB(catboost_tuned, title+\"_Tuned.json\")\n",
    "    return catboost_default, catboost_tuned"
   ]
  },
  {
   "cell_type": "markdown",
   "id": "6314a36c",
   "metadata": {},
   "source": [
    "# 2. LightGBM Models"
   ]
  },
  {
   "cell_type": "code",
   "execution_count": 6,
   "id": "0f7bbad2",
   "metadata": {},
   "outputs": [],
   "source": [
    "#Sample parameter set\n",
    "lgbm_params = {\n",
    "    'boosting_type':['gbdt', 'rf'], \n",
    "    'num_leaves':[31,None], \n",
    "    'max_depth':[-1], \n",
    "    'learning_rate':[0.1], \n",
    "    'n_estimators':[100,500,1000,5000], \n",
    "    'objective':['binary'], \n",
    "    'class_weight': [None,'balanced'],\n",
    "    'importance_type':['split','gain'],\n",
    "    'data_sample_strategy':['bagging','goss'],\n",
    "    'subsample':[0.25,0.5,0.75,1],\n",
    "    'tree_learner':['voting'],\n",
    "    'device':['gpu']\n",
    "}"
   ]
  },
  {
   "cell_type": "code",
   "execution_count": null,
   "id": "d616554f",
   "metadata": {
    "scrolled": true
   },
   "outputs": [
    {
     "name": "stdout",
     "output_type": "stream",
     "text": [
      "Training TB_LGBM_Default ...\n",
      "TB_LGBM_Default Training Time: 0.3240s\n",
      "TB_LGBM_Default Trained!\n",
      "Internal Classification Report:\n",
      "               precision    recall  f1-score   support\n",
      "\n",
      "           0     1.0000    0.9814    0.9906       699\n",
      "           1     0.9811    1.0000    0.9904       674\n",
      "\n",
      "    accuracy                         0.9905      1373\n",
      "   macro avg     0.9905    0.9907    0.9905      1373\n",
      "weighted avg     0.9907    0.9905    0.9905      1373\n",
      "\n",
      "Internal KFolds Test\n",
      "['accuracy', 'f1_score', 'precision', 'recall', 'roc-auc', 'time(s)']\n",
      "[0.9956, 0.9956, 0.9913, 1.0, 0.9956, 0.0266]\n",
      "[0.9989, 0.9989, 0.9978, 1.0, 0.9989, 0.025]\n",
      "[0.9989, 0.9989, 0.9978, 1.0, 0.9989, 0.022]\n",
      "[0.9967, 0.9967, 0.9935, 1.0, 0.9967, 0.02]\n",
      "[0.9956, 0.9956, 0.9913, 1.0, 0.9956, 0.02]\n",
      "\n",
      "LGBM Model TB_LGBM_Default.joblib saved!\n",
      "Tuning TB_LGBM_Tuned ...\n"
     ]
    }
   ],
   "source": [
    "#Time-based LGBM\n",
    "default, tuned = lbgm_train_tune(tb_enc, \"TB_LGBM\", lgbm_params)\n",
    "\n",
    "tb_tuned_param = tuned.get_params()"
   ]
  },
  {
   "cell_type": "code",
   "execution_count": null,
   "id": "c3a146f2",
   "metadata": {
    "scrolled": true
   },
   "outputs": [],
   "source": [
    "#Instance-based LGBM\n",
    "default, tuned = lbgm_train_tune(ib_enc, \"IB_LGBM\", lgbm_params)\n",
    "\n",
    "ib_tuned_param = tuned.get_params()"
   ]
  },
  {
   "cell_type": "code",
   "execution_count": null,
   "id": "fc03cbc1",
   "metadata": {
    "scrolled": true
   },
   "outputs": [],
   "source": [
    "#Check model learning scalability and variability using various sizes of TB dataset\n",
    "print(\"LGBM TB Dataset (Tuned)\")\n",
    "learning_curve(tb_enc,lightgbm.LGBMClassifier(**tb_tuned_param))\n",
    "\n",
    "#Check model learning scalability and variability using various sizes of IB dataset\n",
    "print(\"LGBM IB Dataset (Tuned)\")\n",
    "learning_curve(ib_enc,lightgbm.LGBMClassifier(**ib_tuned_param))"
   ]
  },
  {
   "cell_type": "markdown",
   "id": "b32b8d34",
   "metadata": {},
   "source": [
    "# 3. CatBoost Models"
   ]
  },
  {
   "cell_type": "code",
   "execution_count": null,
   "id": "102d2514",
   "metadata": {},
   "outputs": [],
   "source": [
    "#Sample parameter set\n",
    "catb_params = {\n",
    "    'n_estimators':[100,500,1000,5000],\n",
    "    'learning_rate':[0.1],\n",
    "    'max_depth':[6,8,16],\n",
    "    'num_leaves':[31, None],\n",
    "    'subsample':[0.5,1],\n",
    "    'grow_policy':['SymmetricTree', 'Depthwise'],\n",
    "    'boosting_type':['Ordered', 'Plain'],\n",
    "}"
   ]
  },
  {
   "cell_type": "code",
   "execution_count": null,
   "id": "0ad950af",
   "metadata": {},
   "outputs": [],
   "source": [
    "#Time-based CatBoost\n",
    "default, tuned = catb_train_tune(tb, \"TB_CATB\", catb_params)\n",
    "\n",
    "tb_tuned_param = tuned.get_param()"
   ]
  },
  {
   "cell_type": "code",
   "execution_count": null,
   "id": "53b8ab73",
   "metadata": {},
   "outputs": [],
   "source": [
    "#Instance-based CatBoost\n",
    "default, tuned = catb_train_tune(ib, \"IB_CATB\", catb_params)\n",
    "\n",
    "ib_tuned_param = tuned.get_param()"
   ]
  },
  {
   "cell_type": "code",
   "execution_count": null,
   "id": "d5a7efef",
   "metadata": {},
   "outputs": [],
   "source": [
    "#Check model learning scalability and variability using various sizes of TB dataset\n",
    "print(\"TB Dataset (Tuned)\")\n",
    "learning_curve(tb_enc,catboost.CatBoostClassifier(**tb_tuned_param))\n",
    "\n",
    "#Check model learning scalability and variability using various sizes of IB dataset\n",
    "print(\"IB Dataset (Tuned)\")\n",
    "learning_curve(ib_enc,catboost.CatBoostClassifier(**ib_tuned_param))"
   ]
  }
 ],
 "metadata": {
  "kernelspec": {
   "display_name": "Python 3 (ipykernel)",
   "language": "python",
   "name": "python3"
  },
  "language_info": {
   "codemirror_mode": {
    "name": "ipython",
    "version": 3
   },
   "file_extension": ".py",
   "mimetype": "text/x-python",
   "name": "python",
   "nbconvert_exporter": "python",
   "pygments_lexer": "ipython3",
   "version": "3.11.5"
  }
 },
 "nbformat": 4,
 "nbformat_minor": 5
}
