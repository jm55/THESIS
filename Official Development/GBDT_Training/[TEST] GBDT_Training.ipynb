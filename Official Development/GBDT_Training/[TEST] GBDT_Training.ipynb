{
 "cells": [
  {
   "cell_type": "markdown",
   "id": "ea18cebb",
   "metadata": {},
   "source": [
    "# GBDT Training Code Testbed\n",
    "\n",
    "This notebook will conduct code prototyping for executing GBDT training related processes."
   ]
  },
  {
   "cell_type": "markdown",
   "id": "dc5beec7",
   "metadata": {},
   "source": [
    "# Libraries and Aux. Methods"
   ]
  },
  {
   "cell_type": "code",
   "execution_count": 1,
   "id": "2461488e",
   "metadata": {},
   "outputs": [],
   "source": [
    "#Python Libraries\n",
    "import time\n",
    "from datetime import datetime\n",
    "\n",
    "#Data/Dataset Libraries\n",
    "import pandas as pd\n",
    "import numpy as np\n",
    "\n",
    "#Model Selection\n",
    "from sklearn.model_selection import StratifiedKFold, KFold\n",
    "from sklearn.model_selection import GridSearchCV, RandomizedSearchCV\n",
    "from sklearn.model_selection import train_test_split\n",
    "\n",
    "#Metrics (for in-training testing only)\n",
    "from sklearn.metrics import classification_report, accuracy_score, balanced_accuracy_score, f1_score\n",
    "from sklearn.metrics import precision_score, recall_score, roc_auc_score\n",
    "\n",
    "#Visualization\n",
    "from matplotlib import pyplot as plt\n",
    "from sklearn.model_selection import LearningCurveDisplay\n",
    "\n",
    "#GBDT Models\n",
    "import lightgbm\n",
    "import catboost\n",
    "\n",
    "#File Writing Library (exclusive for use on LightGBM)\n",
    "from joblib import dump, load\n",
    "\n",
    "#Timer\n",
    "start = end = 0\n",
    "def startTime():\n",
    "    global start\n",
    "    start = time.time()\n",
    "def endTime():\n",
    "    global start\n",
    "    elapse = time.time()-start\n",
    "    start = 0\n",
    "    print(f\"Elapsed Time: {round(elapse, 6)}s\\n\")\n",
    "    return round(elapse, 6)\n",
    "\n",
    "#File paths\n",
    "TB = \"../Dataset/TB/TB.csv\"\n",
    "TB_Reserve = \"../Dataset/TB/TB_Reserve.csv\"\n",
    "TB_Enc = \"../Dataset/TB/TB_Enc.csv\"\n",
    "TB_Reserve_Enc = \"../Dataset/TB/TB_Reserve_Enc.csv\"\n",
    "IB = \"../Dataset/IB/IB.csv\"\n",
    "IB_Reserve = \"../Dataset/IB/IB_Reserve.csv\"\n",
    "IB_Enc = \"../Dataset/IB/IB_Enc.csv\"\n",
    "IB_Reserve_Enc = \"../Dataset/IB/IB_Reserve_Enc.csv\" \n",
    "\n",
    "#Best parameters\n",
    "best_param_file = f\"Best_Params_{str(datetime.now()).replace(':','-').replace(' ','_')}.txt\"\n",
    "\n",
    "#N_Split\n",
    "SPLIT = 3 #33.33% test ratio; Test ratio can be computed as ratio=1/SPLIT"
   ]
  },
  {
   "cell_type": "code",
   "execution_count": 2,
   "id": "15a692ca",
   "metadata": {},
   "outputs": [],
   "source": [
    "#DATASET PARSING\n",
    "tb = pd.read_csv(TB, low_memory=False)\n",
    "tb_res = pd.read_csv(TB_Reserve, low_memory=False)\n",
    "tb_enc = pd.read_csv(TB_Enc, low_memory=False)\n",
    "tb_res_enc = pd.read_csv(TB_Reserve_Enc, low_memory=False)\n",
    "\n",
    "ib = pd.read_csv(IB, low_memory=False)\n",
    "ib_res = pd.read_csv(IB_Reserve, low_memory=False)\n",
    "ib_enc = pd.read_csv(IB_Enc, low_memory=False)\n",
    "ib_res_enc = pd.read_csv(IB_Reserve_Enc, low_memory=False)"
   ]
  },
  {
   "cell_type": "code",
   "execution_count": 3,
   "id": "0a0b8314",
   "metadata": {},
   "outputs": [],
   "source": [
    "#AUXILIARY FUNCTIONS\n",
    "#Separate the features (X) & labels (y)\n",
    "def getXy(dataset):\n",
    "    return dataset.iloc[:,1:],dataset.iloc[:,0]\n",
    "\n",
    "#Generate StratifiedKFold object at given splits\n",
    "def getStratKFold(splits):\n",
    "    #It might be shuffled but it does so consistently (i.e., random_state=1)\n",
    "    return StratifiedKFold(n_splits=splits, shuffle=True, random_state=1)\n",
    "\n",
    "def getSplit(X,y):\n",
    "    return train_test_split(X, y, test_size=.30, random_state=1, shuffle=True)\n",
    "\n",
    "#Internal K-Folds Test (for in-training testing)\n",
    "def kfolds_test(X,y,model):\n",
    "    print(\"Internal KFolds Test\")\n",
    "    sublist = [[\"accuracy\", \"f1_score\",\"precision\",\"recall\",\"roc-auc\",\"time(s)\"]]\n",
    "    axis = 0\n",
    "    for i, (train_index, test_index) in enumerate(getStratKFold(SPLIT).split(X,y)):\n",
    "        start = time.time()\n",
    "        test_set = np.take(X, test_index, axis)\n",
    "        test_set_labels = np.take(y, test_index, axis)\n",
    "        m_pred = model.predict(test_set)\n",
    "        sublist.append([\n",
    "                        round(accuracy_score(test_set_labels, m_pred),4),\n",
    "                        round(f1_score(test_set_labels, m_pred, average='weighted'),4),\n",
    "                        round(precision_score(test_set_labels, m_pred),4),\n",
    "                        round(recall_score(test_set_labels, m_pred),4),\n",
    "                        round(roc_auc_score(test_set_labels, m_pred),4),\n",
    "                        round(time.time()-start,4)\n",
    "                        ])\n",
    "    for s in sublist:\n",
    "        print(s)\n",
    "    print(\"\")\n",
    "\n",
    "#Learning Curves\n",
    "def learning_curve(dataset,model):\n",
    "    X,y = getXy(dataset)\n",
    "    vis_param = {\n",
    "    \"X\": X, \"y\": y,\n",
    "    \"train_sizes\": np.linspace(0.1, 1.0, 20),\n",
    "    \"cv\": getStratKFold(SPLIT),\n",
    "    \"score_type\": \"both\", \"n_jobs\": 1,\n",
    "    \"line_kw\": {\"marker\": \"o\"},\n",
    "    \"std_display_style\": \"fill_between\",\n",
    "    \"score_name\": \"accuracy\",\n",
    "    }\n",
    "    display = LearningCurveDisplay.from_estimator(model, **vis_param)\n",
    "    plt.show()\n",
    "    \n",
    "#K-folds sample visualization\n",
    "def kfolds_vis(dataset):\n",
    "    X,y = getXy(dataset)\n",
    "    fig, ax = plt.subplots(figsize=(10,SPLIT+1))\n",
    "    train = plot_cv_indices(getStratKFold(SPLIT), X, y, ax, SPLIT)\n",
    "    plt.show()\n",
    "\n",
    "#K-folds sample visualization (inner workings)\n",
    "def plot_cv_indices(cv, X, y, ax, n_splits, lw=25):\n",
    "    #From: https://scikit-learn.org/stable/auto_examples/model_selection/plot_cv_indices.html\n",
    "    for ii, (tr, tt) in enumerate(cv.split(X=X, y=y)):\n",
    "        indices = np.array([np.nan] * len(X))\n",
    "        indices[tt] = 1\n",
    "        indices[tr] = 0\n",
    "        ax.scatter(range(len(indices)), [ii] * len(indices), c=indices, marker=\"_\", \n",
    "                   lw=lw, cmap=plt.cm.Paired, vmin=0, vmax=1)\n",
    "    #ax.scatter(range(len(X)), [ii] * len(X), c=y, marker=\"_\", lw=lw, cmap=plt.cm.Paired)\n",
    "    yticklabels = list(range(n_splits))\n",
    "    ax.set(yticks=np.arange(n_splits), yticklabels=yticklabels, xlabel=\"Dataset Subsample\", ylabel=\"CV iteration\", ylim=[n_splits,-1], xlim=[0, X.shape[0]])\n",
    "    ax.set_title(\"{}\".format(type(cv).__name__))\n",
    "    return ax"
   ]
  },
  {
   "cell_type": "markdown",
   "id": "7e732c46",
   "metadata": {},
   "source": [
    "# Data Distribution at Stratified K-Folds"
   ]
  },
  {
   "cell_type": "code",
   "execution_count": 4,
   "id": "ad2d883c",
   "metadata": {
    "scrolled": true
   },
   "outputs": [
    {
     "name": "stdout",
     "output_type": "stream",
     "text": [
      "Stratified K-Folds Split at 3 splits.\n",
      "TB/TB_Encoded Dataset\n"
     ]
    },
    {
     "data": {
      "image/png": "[encoded data removed]",
      "text/plain": [
       "<Figure size 1000x400 with 1 Axes>"
      ]
     },
     "metadata": {},
     "output_type": "display_data"
    },
    {
     "name": "stdout",
     "output_type": "stream",
     "text": [
      "IB/IB_Encoded Dataset\n"
     ]
    },
    {
     "data": {
      "image/png": "[encoded data removed]",
      "text/plain": [
       "<Figure size 1000x400 with 1 Axes>"
      ]
     },
     "metadata": {},
     "output_type": "display_data"
    }
   ],
   "source": [
    "print(\"Stratified K-Folds Split at\",SPLIT,\"splits.\")\n",
    "print(\"TB/TB_Encoded Dataset\")\n",
    "kfolds_vis(tb_enc)\n",
    "print(\"IB/IB_Encoded Dataset\")\n",
    "kfolds_vis(ib_enc)"
   ]
  },
  {
   "cell_type": "markdown",
   "id": "5b146e1c",
   "metadata": {},
   "source": [
    "# Learning Curves (Default Models)"
   ]
  },
  {
   "cell_type": "code",
   "execution_count": null,
   "id": "c4ac8494",
   "metadata": {
    "scrolled": true
   },
   "outputs": [
    {
     "name": "stdout",
     "output_type": "stream",
     "text": [
      "Learning Curves for LightGBM Default\n",
      "via TB_Enc\n"
     ]
    }
   ],
   "source": [
    "print(\"Learning Curves for LightGBM Default\")\n",
    "print(\"via TB_Enc\")\n",
    "learning_curve(tb_enc, lightgbm.LGBMClassifier(n_jobs=-1, random_state=1, verbose=-1))\n",
    "print(\"via IB_Enc\")\n",
    "learning_curve(ib_enc, lightgbm.LGBMClassifier(n_jobs=-1, random_state=1, verbose=-1))"
   ]
  },
  {
   "cell_type": "code",
   "execution_count": null,
   "id": "4c1b2deb",
   "metadata": {
    "scrolled": false
   },
   "outputs": [],
   "source": [
    "print(\"Learning Curves for CatBoost Default\")\n",
    "print(\"via TB_Enc\")\n",
    "learning_curve(tb_enc, catboost.CatBoostClassifier(thread_count=-1, random_state=1, verbose=0))\n",
    "print(\"via IB_Enc\")\n",
    "learning_curve(ib_enc, catboost.CatBoostClassifier(thread_count=-1, random_state=1, verbose=0))"
   ]
  },
  {
   "cell_type": "markdown",
   "id": "1166d7f3",
   "metadata": {},
   "source": [
    "# Preparing Training Functions"
   ]
  },
  {
   "cell_type": "code",
   "execution_count": null,
   "id": "d01b521f",
   "metadata": {},
   "outputs": [],
   "source": [
    "#Model training; Shows a simple k-folds test\n",
    "def train_model(model, dataset, title): #model assumes to be either trained/fitted or not\n",
    "    X,y = getXy(dataset) #Get features(X) and labels(y)\n",
    "    X_train, X_test, y_train, y_test = getSplit(X, y)#Splitting data into train (70%) and test (30%) \n",
    "    print(\"Training\", title, \"...\")\n",
    "    start = time.time()\n",
    "    model.fit(X_train, y_train) #Training\n",
    "    print(f\"{title} Training Time: {time.time()-start:.4f}s\")\n",
    "    print(title, \"Trained!\")\n",
    "    print(\"Internal Classification Report:\\n\", classification_report(y_test, model.predict(X_test),digits=4))\n",
    "    kfolds_test(X_test, y_test, model) #Check current capabilities using entirety of Train Split (\"Training\"+\"Validation\"; i.e., mix of know and unknown)\n",
    "    return model\n",
    "\n",
    "def tune_model(model, params, dataset, title):\n",
    "    X,y = getXy(dataset) #Get features(X) and labels(y)\n",
    "    print(\"Tuning\", title, \"...\")\n",
    "    #Example shown uses RandomizedSearchCV\n",
    "    #n_iter ideally should be >=10, but for the sake of testing it was set to 5\n",
    "    tuner = RandomizedSearchCV(model, params, n_iter=5, scoring='accuracy', n_jobs=1, \n",
    "                               refit=True, cv=getStratKFold(SPLIT), verbose=2, pre_dispatch='2*n_jobs', random_state=1, \n",
    "                               error_score=0, return_train_score=False)\n",
    "    start = time.time()\n",
    "    tuner.fit(X,y) #Utilizing Train Split (i.e., both \"Training\"+\"Validation\") for tuning as it uses its own CV method\n",
    "    print(f\"{title} Tuning Time: {time.time()-start:.4f}s\")\n",
    "    print(title, \"Tuned!\")\n",
    "    print(title, \"Best Params:\", tuner.best_params_)\n",
    "    return tuner.best_params_\n",
    "\n",
    "def saveLGBM(model, filename):\n",
    "    if \".joblib\" not in filename:\n",
    "        filename += \".joblib\"\n",
    "    dump(model, filename)\n",
    "    print(\"LGBM Model\", filename, \"saved!\")\n",
    "\n",
    "def saveCatB(model, filename):\n",
    "    if \".json\" not in filename:\n",
    "        filename += \".json\"\n",
    "    model.save_model(filename, format=\"json\")\n",
    "    print(\"CatBoost Model\", filename, \"saved!\")\n",
    "\n",
    "def lbgm_train_tune(dataset, title, lgbm_params):\n",
    "    #Default\n",
    "    lgbm_classifier = lightgbm.LGBMClassifier(random_state=1, n_jobs=-1, verbose=-1)\n",
    "    lgbm_default = train_model(lgbm_classifier, dataset, title+\"_Default\")\n",
    "    saveLGBM(lgbm_default, title+\"_Default.joblib\")\n",
    "    #Tuning\n",
    "    lgbm_params = tune_model(lgbm_classifier, lgbm_params, dataset, title+\"_Tuned\")\n",
    "    #Tuned\n",
    "    lgbm_classifier = lightgbm.LGBMClassifier(**lgbm_params, random_state=1, n_jobs=-1, verbose=-1)\n",
    "    lgbm_tuned = train_model(lgbm_classifier, dataset, title+\"_Tuned\")\n",
    "    saveLGBM(lgbm_tuned, title+\"_Tuned.joblib\")\n",
    "    return lgbm_default, lgbm_tuned\n",
    "    \n",
    "def catb_train_tune(dataset, title, catb_params):\n",
    "    indexes = []\n",
    "    for i in range(dataset.shape[1]-1):\n",
    "        indexes.append(i)\n",
    "    #Default\n",
    "    catb_classifier = catboost.CatBoostClassifier(random_state=1, thread_count=-1, verbose=0, cat_features=indexes, nan_mode='Min')\n",
    "    catboost_default = train_model(catb_classifier, dataset, title+\"_Default\")\n",
    "    saveCatB(catboost_default, title+\"_Default.json\")\n",
    "    #Tuning\n",
    "    catb_params = tune_model(catb_classifier, catb_params, dataset, title+\"_Tuned\")\n",
    "    #Tuned\n",
    "    catb_classifier = catboost.CatBoostClassifier(**catb_params, random_state=1, thread_count=-1, verbose=0, cat_features=indexes, nan_mode='Min')\n",
    "    catboost_tuned = train_model(catb_classifier, dataset, title+\"_Tuned\")\n",
    "    saveCatB(catboost_tuned, title+\"_Tuned.json\")\n",
    "    return catboost_default, catboost_tuned"
   ]
  },
  {
   "cell_type": "markdown",
   "id": "6314a36c",
   "metadata": {},
   "source": [
    "# LightGBM Models"
   ]
  },
  {
   "cell_type": "code",
   "execution_count": null,
   "id": "0f7bbad2",
   "metadata": {
    "scrolled": true
   },
   "outputs": [],
   "source": [
    "#Sample (tested) parameter set\n",
    "lgbm_params = {\n",
    "    #Common\n",
    "    'boosting_type':['gbdt'], \n",
    "    'max_depth':[-1], \n",
    "    'learning_rate':[0.1], \n",
    "    'n_estimators':[50], #Limited to 50 for prototyping; [100,250,500,750,1000]\n",
    "    'l2_leaf_reg':[1,2,3,4,5],\n",
    "    'class_weight': ['balanced'], #Specify that classes are weighted equally (i.e., no inherent bias)\n",
    "    'device':['cpu'], #cpu/gpu (CUDA/OpenCL)\n",
    "    'boost_from_average':[True, False],\n",
    "    'num_leaves':[2,4,8,16,31,32,64],\n",
    "    \n",
    "    #LGBM specific\n",
    "    'objective':['binary'], #Specify that model is for binary classification; same as metric:binary_logloss\n",
    "    'data_sample_strategy':['goss'], #goss/bagging\n",
    "    'tree_learner':['data'], #For parallel computing\n",
    "}\n",
    "\n",
    "#lgbm_params = tune_model(lightgbm.LGBMClassifier(random_state=1, n_jobs=-1, verbose=0), lgbm_params, tb_enc, \"test\"+\"_Tuned\")"
   ]
  },
  {
   "cell_type": "code",
   "execution_count": null,
   "id": "d616554f",
   "metadata": {
    "scrolled": true
   },
   "outputs": [],
   "source": [
    "#Time-based LGBM\n",
    "default, tuned = lbgm_train_tune(tb_enc, \"TB_LGBM\", lgbm_params)\n",
    "\n",
    "lgbm_tb_tuned_param = tuned.get_params()\n",
    "print(f\"lgbm_tb_tuned_param\\n{lgbm_tb_tuned_param}\\n\", file=open(best_param_file, mode='a'))"
   ]
  },
  {
   "cell_type": "code",
   "execution_count": null,
   "id": "c3a146f2",
   "metadata": {
    "scrolled": true
   },
   "outputs": [],
   "source": [
    "#Instance-based LGBM\n",
    "default, tuned = lbgm_train_tune(ib_enc, \"IB_LGBM\", lgbm_params)\n",
    "\n",
    "lgbm_ib_tuned_param = tuned.get_params()\n",
    "print(f\"lgbm_ib_tuned_param\\n{lgbm_ib_tuned_param}\\n\", file=open(best_param_file, mode='a'))"
   ]
  },
  {
   "cell_type": "markdown",
   "id": "b32b8d34",
   "metadata": {},
   "source": [
    "# CatBoost Models"
   ]
  },
  {
   "cell_type": "code",
   "execution_count": null,
   "id": "102d2514",
   "metadata": {
    "scrolled": true
   },
   "outputs": [],
   "source": [
    "#Sample (tested) parameter set\n",
    "catb_params = {\n",
    "    #Common\n",
    "    'boosting_type':['Ordered'], #As per paper \"Ordered Boosting\"\n",
    "    'max_depth':[6,11,16], #As per documentation: min=6, max=16, mean=(max-min)/2\n",
    "    'learning_rate':[0.1], #Typical learning rate (either 0.1 or 0.3)\n",
    "    'n_estimators':[50], #Limited to 50 for prototyping; [100,250,500,750,1000]\n",
    "    'l2_leaf_reg':[1,2,3,4,5], #CatB default=3\n",
    "    'auto_class_weights':['Balanced'], #Specify that classes are weighted equally (i.e., no inherent bias)\n",
    "    'task_type':['CPU'], #CPU/GPU (CUDA)\n",
    "    'boost_from_average':[True, False],\n",
    "    #'num_leaves':[2,4,8,16,31,32,64], #Only works with Lossguide grow_policy which is not compatible with \"Ordered Boosting\"\n",
    "    \n",
    "    #CatBoost specific\n",
    "    'grow_policy':['SymmetricTree'], #Lossguide not possible due to boosting type being ordered\n",
    "    'objective':['Logloss'], #To be same as what's used in Binary LightGBMClassifier\n",
    "    'bootstrap_type':['Bayesian'] #Recommended for classifier models\n",
    "}\n",
    "\n",
    "\n",
    "#indexes = []\n",
    "#for i in range(tb.shape[1]-1):\n",
    "#    indexes.append(i)\n",
    "#catb_classifier = catboost.CatBoostClassifier(random_state=1, thread_count=-1, verbose=1, cat_features=indexes, nan_mode='Min')\n",
    "#catb_params = tune_model(catb_classifier, catb_params, tb, \"catboost_test\"+\"_Tuned\")"
   ]
  },
  {
   "cell_type": "code",
   "execution_count": null,
   "id": "b992fc25",
   "metadata": {
    "scrolled": true
   },
   "outputs": [],
   "source": [
    "#Time-based CatBoost\n",
    "default, tuned = catb_train_tune(tb, \"TB_CATB\", catb_params)\n",
    "\n",
    "catb_tb_tuned_param = tuned.get_param()\n",
    "print(f\"catb_tb_tuned_param\\n{catb_tb_tuned_param}\\n\", file=open(best_param_file, mode='a'))"
   ]
  },
  {
   "cell_type": "code",
   "execution_count": null,
   "id": "53b8ab73",
   "metadata": {},
   "outputs": [],
   "source": [
    "#Instance-based CatBoost\n",
    "default, tuned = catb_train_tune(ib, \"IB_CATB\", catb_params)\n",
    "\n",
    "catb_ib_tuned_param = tuned.get_param()\n",
    "print(f\"catb_ib_tuned_param\\n{catb_ib_tuned_param}\\n\", file=open(best_param_file, mode='a'))"
   ]
  },
  {
   "cell_type": "markdown",
   "id": "e71ec848",
   "metadata": {},
   "source": [
    "# Learning Curve (Tuned Models)"
   ]
  },
  {
   "cell_type": "code",
   "execution_count": null,
   "id": "b9bee82d",
   "metadata": {
    "scrolled": false
   },
   "outputs": [],
   "source": [
    "print(\"Learning Curves for LightGBM Default\")\n",
    "print(\"via TB_Enc\")\n",
    "learning_curve(tb_enc, lightgbm.LGBMClassifier(**lgbm_tb_tuned_param))\n",
    "print(\"via IB_Enc\")\n",
    "learning_curve(ib_enc, lightgbm.LGBMClassifier(**lgbm_ib_tuned_param))"
   ]
  },
  {
   "cell_type": "code",
   "execution_count": null,
   "id": "1a2d4f89",
   "metadata": {
    "scrolled": false
   },
   "outputs": [],
   "source": [
    "print(\"Learning Curves for CatBoost Default\")\n",
    "print(\"via TB_Enc\")\n",
    "learning_curve(tb_enc, catboost.CatBoostClassifier(**catb_tb_tuned_param))\n",
    "print(\"via IB_Enc\")\n",
    "learning_curve(ib_enc, catboost.CatBoostClassifier(**catb_ib_tuned_param))"
   ]
  }
 ],
 "metadata": {
  "kernelspec": {
   "display_name": "Python 3 (ipykernel)",
   "language": "python",
   "name": "python3"
  },
  "language_info": {
   "codemirror_mode": {
    "name": "ipython",
    "version": 3
   },
   "file_extension": ".py",
   "mimetype": "text/x-python",
   "name": "python",
   "nbconvert_exporter": "python",
   "pygments_lexer": "ipython3",
   "version": "3.11.5"
  }
 },
 "nbformat": 4,
 "nbformat_minor": 5
}
