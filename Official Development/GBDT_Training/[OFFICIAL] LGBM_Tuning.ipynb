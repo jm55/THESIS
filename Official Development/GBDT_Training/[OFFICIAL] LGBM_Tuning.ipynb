{
 "cells": [
  {
   "cell_type": "markdown",
   "id": "696eff13",
   "metadata": {},
   "source": [
    "# Evaluation and Comparison of Boosted ML Models in Behavior-Based Malware Detection\n",
    "\n",
    "\n",
    "## Notebook: LightGBM Tuning\n",
    "\n",
    "***\n",
    "\n",
    "**What is the objective of this file?**\n",
    "\n",
    "To tune the model using the Train Split (Dynamically Split)."
   ]
  },
  {
   "cell_type": "markdown",
   "id": "9d03d82a",
   "metadata": {},
   "source": [
    "# Checklist\n",
    "\n",
    "- Ensure that you have the proper dataset files that you intend to use (i.e., whether the lite dataset or full version). \n",
    "    - The datasets it will use points to `/Official Development/Dataset/IB` & `/Official Development/Dataset/TB`. \n",
    "    - You can run the `/Official Development/Dataset [OFFICIAL] Oliveira Dataset Notebook.ipynb file` or unzip one of the zipped folders in the `/Official Development/Dataset/Processed` towards the two aforementioned folders. \n",
    "- Ensure that you have installed the necessary libraries needed to execute the training process. \n",
    "    - You can view the list of the specific versions in the thesis document or through the `.sh` or `.bat` files in the repository's home directory."
   ]
  },
  {
   "cell_type": "markdown",
   "id": "76e57fcc",
   "metadata": {},
   "source": [
    "# 1. LightGBM Tuning Setup\n",
    "\n",
    "Setting tuning environment parameters."
   ]
  },
  {
   "cell_type": "markdown",
   "id": "76f39e6a",
   "metadata": {},
   "source": [
    "## 1.0. Tuning Settings\n",
    "\n",
    "1. What will the output filename be?\n",
    "2. What is the dictionary of hyperparameter values?"
   ]
  },
  {
   "cell_type": "code",
   "execution_count": 1,
   "id": "247d5f29",
   "metadata": {},
   "outputs": [],
   "source": [
    "OUTPUT_FILENAME = \"TEST_TUNE\" # <== Specify the filename of the output hyperparameters text file (can be used during tuned model training).\n",
    "\n",
    "K = 5\n",
    "DYNAMIC_SPLIT = 1/K # <== Expected validation ratio. Training ratio will be 1-(1/K). Just for when needed to view.\n",
    "RANDOM_SEED = 1 # <==  <== Must be the same throughout the entire study (acts as a controlled variable), hence let's just settle with 1."
   ]
  },
  {
   "cell_type": "code",
   "execution_count": 9,
   "id": "a3f78714",
   "metadata": {},
   "outputs": [],
   "source": [
    "#Sample (tested) parameter set\n",
    "lgbm_params = {\n",
    "    #Based-on Study (Do not change)\n",
    "    'boosting_type':['gbdt'], # <== GBDT Mode, Others: 'rf' & 'dart'\n",
    "    'class_weight': ['balanced'], # <== Classes are weighted equally (i.e., no inherent bias)\n",
    "    'objective':['binary'], # <== Binary classification mode (same as metric:binary_logloss)\n",
    "    'data_sample_strategy':['goss'], # <== Use GOSS (solution of LGBM) instead of Bagging\n",
    "    'tree_learner':['data'], #For better parallel computing (Reference: https://lightgbm.readthedocs.io/en/latest/Parallel-Learning-Guide.html)\n",
    "    \n",
    "    #Common (Add and experiment with valid values)\n",
    "    'max_depth':[-1], # <== Range: [1,INF} (-1 for Endless), Integer\n",
    "    'learning_rate':[0.3], # <== Range: {0,1}, Float, Usual values: 0.1 or 0.3\n",
    "    'n_estimators':[100], # Range: [1,INF}, Integer, Default: 100, Higher values may perform better but takes more time to train\n",
    "    'l2_leaf_reg':[1,2], # <== Range: Regularization rate, just search online for suggested values\n",
    "    'num_leaves':[31], # <== Max number of leaves, Default: 31\n",
    "    \n",
    "    #Other hyperparameters\n",
    "    \n",
    "    #Others; Not common but can improve accuracy/performance:\n",
    "    'device':['cpu','gpu'], # <== Remove 'gpu' if no GPU exists in computer; Recommended GPUs: Nvidia GTX 1000 series or higher\n",
    "    'boost_from_average':[True, False], # <== Some random \n",
    "}"
   ]
  },
  {
   "cell_type": "markdown",
   "id": "e6c808a5",
   "metadata": {},
   "source": [
    "# ⚠️Warning\n",
    "\n",
    "**Be careful of modifying the code beyond this point as it was designed to run autonomously based on the parameters set above.**"
   ]
  },
  {
   "cell_type": "markdown",
   "id": "7c23aa33",
   "metadata": {},
   "source": [
    "## 1.1. Loading Libraries & Diagnostics"
   ]
  },
  {
   "cell_type": "code",
   "execution_count": 2,
   "id": "1d526108",
   "metadata": {},
   "outputs": [],
   "source": [
    "#Python Libraries\n",
    "import time\n",
    "from datetime import datetime\n",
    "\n",
    "#Data/Dataset Libraries\n",
    "import pandas as pd\n",
    "import numpy as np\n",
    "\n",
    "#Model Selection\n",
    "from sklearn.model_selection import StratifiedKFold\n",
    "from sklearn.model_selection import RandomizedSearchCV\n",
    "\n",
    "#Metrics (for in-tuning testing only)\n",
    "from sklearn.metrics import classification_report, accuracy_score, balanced_accuracy_score, f1_score\n",
    "from sklearn.metrics import precision_score, recall_score, roc_auc_score\n",
    "\n",
    "#Visualization\n",
    "from matplotlib import pyplot as plt\n",
    "from sklearn.model_selection import LearningCurveDisplay\n",
    "\n",
    "#GBDT Models\n",
    "import lightgbm\n",
    "import catboost\n",
    "\n",
    "#File Writing Library (exclusive for use on LightGBM)\n",
    "from joblib import dump, load\n",
    "\n",
    "start = end = 0\n",
    "LOG_FILENAME = \"LGBM_Tuning_Log.txt\"\n",
    "def logging(message):\n",
    "    log = open(LOG_FILENAME, \"a\")\n",
    "    log.write(message)\n",
    "    log.close()\n",
    "def startTime():\n",
    "    global start\n",
    "    start = time.time()\n",
    "def endTime(process):\n",
    "    global start\n",
    "    elapse = time.time()-start\n",
    "    start = 0\n",
    "    printout = f\"{str(datetime.now())}@{OUTPUT_FILENAME}: {process} - {round(elapse, 6)}s\\n\"\n",
    "    logging(printout)\n",
    "    return round(elapse, 6)\n",
    "def printToFile(label, output):\n",
    "    global OUTPUT_FILENAME\n",
    "    filename = OUTPUT_FILENAME + \"_\" + label + \".tune\"\n",
    "    with open(\"Outputs/\" + filename, 'w') as f:\n",
    "        f.write(str(output))\n",
    "        f.close()"
   ]
  },
  {
   "cell_type": "markdown",
   "id": "5ca6f3d1",
   "metadata": {},
   "source": [
    "## 1.2. Loading Datasets"
   ]
  },
  {
   "cell_type": "markdown",
   "id": "db54f53d",
   "metadata": {},
   "source": [
    "### 1.2.1. Setting Filenames"
   ]
  },
  {
   "cell_type": "code",
   "execution_count": 3,
   "id": "e0e377c2",
   "metadata": {},
   "outputs": [],
   "source": [
    "#Setting filenames of files\n",
    "TB_Train = \"../Dataset/TB/TB_LGBM.csv\" # <== Location for Time-based Train Split for LightGBM\n",
    "#TB_Test = \"../Dataset/TB/TB_Test_LGBM.csv\" # <== Location for Time-based Test Split for LightGBM\n",
    "IB_Train = \"../Dataset/IB/IB_LGBM.csv\" # <== Location for Instance-based Train Split for LightGBM\n",
    "#IB_Test = \"../Dataset/IB/IB_Test_LGBM.csv\" # <== Location for Instance-based Test Split for LightGBM"
   ]
  },
  {
   "cell_type": "markdown",
   "id": "00c60f6c",
   "metadata": {},
   "source": [
    "### 1.2.2. Loading datasets to DataFrames"
   ]
  },
  {
   "cell_type": "code",
   "execution_count": 4,
   "id": "bd143938",
   "metadata": {
    "scrolled": true
   },
   "outputs": [
    {
     "name": "stdout",
     "output_type": "stream",
     "text": [
      "Dataset Sizes\n",
      "TB Train Size: (4574, 101)\n",
      "IB Train Size: (4574, 101)\n"
     ]
    }
   ],
   "source": [
    "#Loading datasets to DataFrames\n",
    "tb_train = pd.read_csv(TB_Train, low_memory=False).fillna(\"NaN\")\n",
    "ib_train = pd.read_csv(IB_Train, low_memory=False).fillna(\"NaN\")\n",
    "\n",
    "print(\"Dataset Sizes\")\n",
    "print(\"TB Train Size:\", tb_train.shape)\n",
    "print(\"IB Train Size:\", ib_train.shape)"
   ]
  },
  {
   "cell_type": "markdown",
   "id": "fc1f24ad",
   "metadata": {},
   "source": [
    "### 1.2.3. Previewing datasets"
   ]
  },
  {
   "cell_type": "code",
   "execution_count": 5,
   "id": "b002a2a2",
   "metadata": {},
   "outputs": [
    {
     "data": {
      "text/html": [
       "<div>\n",
       "<style scoped>\n",
       "    .dataframe tbody tr th:only-of-type {\n",
       "        vertical-align: middle;\n",
       "    }\n",
       "\n",
       "    .dataframe tbody tr th {\n",
       "        vertical-align: top;\n",
       "    }\n",
       "\n",
       "    .dataframe thead th {\n",
       "        text-align: right;\n",
       "    }\n",
       "</style>\n",
       "<table border=\"1\" class=\"dataframe\">\n",
       "  <thead>\n",
       "    <tr style=\"text-align: right;\">\n",
       "      <th></th>\n",
       "      <th>malware</th>\n",
       "      <th>t_0</th>\n",
       "      <th>t_1</th>\n",
       "      <th>t_2</th>\n",
       "      <th>t_3</th>\n",
       "      <th>t_4</th>\n",
       "      <th>t_5</th>\n",
       "      <th>t_6</th>\n",
       "      <th>t_7</th>\n",
       "      <th>t_8</th>\n",
       "      <th>...</th>\n",
       "      <th>t_90</th>\n",
       "      <th>t_91</th>\n",
       "      <th>t_92</th>\n",
       "      <th>t_93</th>\n",
       "      <th>t_94</th>\n",
       "      <th>t_95</th>\n",
       "      <th>t_96</th>\n",
       "      <th>t_97</th>\n",
       "      <th>t_98</th>\n",
       "      <th>t_99</th>\n",
       "    </tr>\n",
       "  </thead>\n",
       "  <tbody>\n",
       "    <tr>\n",
       "      <th>0</th>\n",
       "      <td>1</td>\n",
       "      <td>134</td>\n",
       "      <td>93</td>\n",
       "      <td>162</td>\n",
       "      <td>95</td>\n",
       "      <td>153</td>\n",
       "      <td>170</td>\n",
       "      <td>153</td>\n",
       "      <td>134</td>\n",
       "      <td>135</td>\n",
       "      <td>...</td>\n",
       "      <td>154</td>\n",
       "      <td>153</td>\n",
       "      <td>232</td>\n",
       "      <td>219</td>\n",
       "      <td>236</td>\n",
       "      <td>219</td>\n",
       "      <td>232</td>\n",
       "      <td>219</td>\n",
       "      <td>236</td>\n",
       "      <td>219</td>\n",
       "    </tr>\n",
       "    <tr>\n",
       "      <th>1</th>\n",
       "      <td>1</td>\n",
       "      <td>95</td>\n",
       "      <td>153</td>\n",
       "      <td>170</td>\n",
       "      <td>153</td>\n",
       "      <td>134</td>\n",
       "      <td>135</td>\n",
       "      <td>134</td>\n",
       "      <td>135</td>\n",
       "      <td>134</td>\n",
       "      <td>...</td>\n",
       "      <td>72</td>\n",
       "      <td>153</td>\n",
       "      <td>170</td>\n",
       "      <td>72</td>\n",
       "      <td>153</td>\n",
       "      <td>170</td>\n",
       "      <td>72</td>\n",
       "      <td>153</td>\n",
       "      <td>170</td>\n",
       "      <td>72</td>\n",
       "    </tr>\n",
       "    <tr>\n",
       "      <th>2</th>\n",
       "      <td>1</td>\n",
       "      <td>136</td>\n",
       "      <td>135</td>\n",
       "      <td>136</td>\n",
       "      <td>135</td>\n",
       "      <td>136</td>\n",
       "      <td>135</td>\n",
       "      <td>136</td>\n",
       "      <td>135</td>\n",
       "      <td>136</td>\n",
       "      <td>...</td>\n",
       "      <td>153</td>\n",
       "      <td>136</td>\n",
       "      <td>135</td>\n",
       "      <td>136</td>\n",
       "      <td>135</td>\n",
       "      <td>136</td>\n",
       "      <td>135</td>\n",
       "      <td>136</td>\n",
       "      <td>135</td>\n",
       "      <td>136</td>\n",
       "    </tr>\n",
       "    <tr>\n",
       "      <th>3</th>\n",
       "      <td>1</td>\n",
       "      <td>95</td>\n",
       "      <td>136</td>\n",
       "      <td>135</td>\n",
       "      <td>136</td>\n",
       "      <td>135</td>\n",
       "      <td>136</td>\n",
       "      <td>135</td>\n",
       "      <td>136</td>\n",
       "      <td>135</td>\n",
       "      <td>...</td>\n",
       "      <td>236</td>\n",
       "      <td>232</td>\n",
       "      <td>236</td>\n",
       "      <td>232</td>\n",
       "      <td>236</td>\n",
       "      <td>232</td>\n",
       "      <td>236</td>\n",
       "      <td>232</td>\n",
       "      <td>236</td>\n",
       "      <td>232</td>\n",
       "    </tr>\n",
       "    <tr>\n",
       "      <th>4</th>\n",
       "      <td>1</td>\n",
       "      <td>95</td>\n",
       "      <td>136</td>\n",
       "      <td>135</td>\n",
       "      <td>136</td>\n",
       "      <td>135</td>\n",
       "      <td>136</td>\n",
       "      <td>135</td>\n",
       "      <td>136</td>\n",
       "      <td>135</td>\n",
       "      <td>...</td>\n",
       "      <td>135</td>\n",
       "      <td>94</td>\n",
       "      <td>134</td>\n",
       "      <td>135</td>\n",
       "      <td>92</td>\n",
       "      <td>136</td>\n",
       "      <td>25</td>\n",
       "      <td>59</td>\n",
       "      <td>154</td>\n",
       "      <td>94</td>\n",
       "    </tr>\n",
       "  </tbody>\n",
       "</table>\n",
       "<p>5 rows × 101 columns</p>\n",
       "</div>"
      ],
      "text/plain": [
       "   malware  t_0  t_1  t_2  t_3  t_4  t_5  t_6  t_7  t_8  ...  t_90  t_91  \\\n",
       "0        1  134   93  162   95  153  170  153  134  135  ...   154   153   \n",
       "1        1   95  153  170  153  134  135  134  135  134  ...    72   153   \n",
       "2        1  136  135  136  135  136  135  136  135  136  ...   153   136   \n",
       "3        1   95  136  135  136  135  136  135  136  135  ...   236   232   \n",
       "4        1   95  136  135  136  135  136  135  136  135  ...   135    94   \n",
       "\n",
       "   t_92  t_93  t_94  t_95  t_96  t_97  t_98  t_99  \n",
       "0   232   219   236   219   232   219   236   219  \n",
       "1   170    72   153   170    72   153   170    72  \n",
       "2   135   136   135   136   135   136   135   136  \n",
       "3   236   232   236   232   236   232   236   232  \n",
       "4   134   135    92   136    25    59   154    94  \n",
       "\n",
       "[5 rows x 101 columns]"
      ]
     },
     "execution_count": 5,
     "metadata": {},
     "output_type": "execute_result"
    }
   ],
   "source": [
    "#Previewing Time-based Dataset\n",
    "tb_train.head()"
   ]
  },
  {
   "cell_type": "code",
   "execution_count": 6,
   "id": "df1a597b",
   "metadata": {},
   "outputs": [
    {
     "data": {
      "text/html": [
       "<div>\n",
       "<style scoped>\n",
       "    .dataframe tbody tr th:only-of-type {\n",
       "        vertical-align: middle;\n",
       "    }\n",
       "\n",
       "    .dataframe tbody tr th {\n",
       "        vertical-align: top;\n",
       "    }\n",
       "\n",
       "    .dataframe thead th {\n",
       "        text-align: right;\n",
       "    }\n",
       "</style>\n",
       "<table border=\"1\" class=\"dataframe\">\n",
       "  <thead>\n",
       "    <tr style=\"text-align: right;\">\n",
       "      <th></th>\n",
       "      <th>malware</th>\n",
       "      <th>t_0</th>\n",
       "      <th>t_1</th>\n",
       "      <th>t_2</th>\n",
       "      <th>t_3</th>\n",
       "      <th>t_4</th>\n",
       "      <th>t_5</th>\n",
       "      <th>t_6</th>\n",
       "      <th>t_7</th>\n",
       "      <th>t_8</th>\n",
       "      <th>...</th>\n",
       "      <th>t_90</th>\n",
       "      <th>t_91</th>\n",
       "      <th>t_92</th>\n",
       "      <th>t_93</th>\n",
       "      <th>t_94</th>\n",
       "      <th>t_95</th>\n",
       "      <th>t_96</th>\n",
       "      <th>t_97</th>\n",
       "      <th>t_98</th>\n",
       "      <th>t_99</th>\n",
       "    </tr>\n",
       "  </thead>\n",
       "  <tbody>\n",
       "    <tr>\n",
       "      <th>0</th>\n",
       "      <td>1</td>\n",
       "      <td>134</td>\n",
       "      <td>93</td>\n",
       "      <td>162</td>\n",
       "      <td>95</td>\n",
       "      <td>153</td>\n",
       "      <td>170</td>\n",
       "      <td>135</td>\n",
       "      <td>26</td>\n",
       "      <td>270</td>\n",
       "      <td>...</td>\n",
       "      <td>148</td>\n",
       "      <td>148</td>\n",
       "      <td>148</td>\n",
       "      <td>148</td>\n",
       "      <td>148</td>\n",
       "      <td>148</td>\n",
       "      <td>148</td>\n",
       "      <td>148</td>\n",
       "      <td>148</td>\n",
       "      <td>148</td>\n",
       "    </tr>\n",
       "    <tr>\n",
       "      <th>1</th>\n",
       "      <td>1</td>\n",
       "      <td>95</td>\n",
       "      <td>153</td>\n",
       "      <td>170</td>\n",
       "      <td>134</td>\n",
       "      <td>135</td>\n",
       "      <td>262</td>\n",
       "      <td>92</td>\n",
       "      <td>162</td>\n",
       "      <td>136</td>\n",
       "      <td>...</td>\n",
       "      <td>148</td>\n",
       "      <td>148</td>\n",
       "      <td>148</td>\n",
       "      <td>148</td>\n",
       "      <td>148</td>\n",
       "      <td>148</td>\n",
       "      <td>148</td>\n",
       "      <td>148</td>\n",
       "      <td>148</td>\n",
       "      <td>148</td>\n",
       "    </tr>\n",
       "    <tr>\n",
       "      <th>2</th>\n",
       "      <td>1</td>\n",
       "      <td>136</td>\n",
       "      <td>135</td>\n",
       "      <td>183</td>\n",
       "      <td>154</td>\n",
       "      <td>177</td>\n",
       "      <td>191</td>\n",
       "      <td>134</td>\n",
       "      <td>93</td>\n",
       "      <td>153</td>\n",
       "      <td>...</td>\n",
       "      <td>148</td>\n",
       "      <td>148</td>\n",
       "      <td>148</td>\n",
       "      <td>148</td>\n",
       "      <td>148</td>\n",
       "      <td>148</td>\n",
       "      <td>148</td>\n",
       "      <td>148</td>\n",
       "      <td>148</td>\n",
       "      <td>148</td>\n",
       "    </tr>\n",
       "    <tr>\n",
       "      <th>3</th>\n",
       "      <td>1</td>\n",
       "      <td>95</td>\n",
       "      <td>136</td>\n",
       "      <td>135</td>\n",
       "      <td>134</td>\n",
       "      <td>262</td>\n",
       "      <td>28</td>\n",
       "      <td>177</td>\n",
       "      <td>191</td>\n",
       "      <td>154</td>\n",
       "      <td>...</td>\n",
       "      <td>148</td>\n",
       "      <td>148</td>\n",
       "      <td>148</td>\n",
       "      <td>148</td>\n",
       "      <td>148</td>\n",
       "      <td>148</td>\n",
       "      <td>148</td>\n",
       "      <td>148</td>\n",
       "      <td>148</td>\n",
       "      <td>148</td>\n",
       "    </tr>\n",
       "    <tr>\n",
       "      <th>4</th>\n",
       "      <td>1</td>\n",
       "      <td>95</td>\n",
       "      <td>136</td>\n",
       "      <td>135</td>\n",
       "      <td>134</td>\n",
       "      <td>262</td>\n",
       "      <td>248</td>\n",
       "      <td>254</td>\n",
       "      <td>76</td>\n",
       "      <td>18</td>\n",
       "      <td>...</td>\n",
       "      <td>148</td>\n",
       "      <td>148</td>\n",
       "      <td>148</td>\n",
       "      <td>148</td>\n",
       "      <td>148</td>\n",
       "      <td>148</td>\n",
       "      <td>148</td>\n",
       "      <td>148</td>\n",
       "      <td>148</td>\n",
       "      <td>148</td>\n",
       "    </tr>\n",
       "  </tbody>\n",
       "</table>\n",
       "<p>5 rows × 101 columns</p>\n",
       "</div>"
      ],
      "text/plain": [
       "   malware  t_0  t_1  t_2  t_3  t_4  t_5  t_6  t_7  t_8  ...  t_90  t_91  \\\n",
       "0        1  134   93  162   95  153  170  135   26  270  ...   148   148   \n",
       "1        1   95  153  170  134  135  262   92  162  136  ...   148   148   \n",
       "2        1  136  135  183  154  177  191  134   93  153  ...   148   148   \n",
       "3        1   95  136  135  134  262   28  177  191  154  ...   148   148   \n",
       "4        1   95  136  135  134  262  248  254   76   18  ...   148   148   \n",
       "\n",
       "   t_92  t_93  t_94  t_95  t_96  t_97  t_98  t_99  \n",
       "0   148   148   148   148   148   148   148   148  \n",
       "1   148   148   148   148   148   148   148   148  \n",
       "2   148   148   148   148   148   148   148   148  \n",
       "3   148   148   148   148   148   148   148   148  \n",
       "4   148   148   148   148   148   148   148   148  \n",
       "\n",
       "[5 rows x 101 columns]"
      ]
     },
     "execution_count": 6,
     "metadata": {},
     "output_type": "execute_result"
    }
   ],
   "source": [
    "#Previewing Instance-based Dataset\n",
    "ib_train.head()"
   ]
  },
  {
   "cell_type": "markdown",
   "id": "abfa163a",
   "metadata": {},
   "source": [
    "## 1.3. Preparing Stratified K-Folds for RandomizedSearchCV\n",
    "\n",
    "By default, RandomizedSearchCV uses a normal K-Folds with k value of 5."
   ]
  },
  {
   "cell_type": "markdown",
   "id": "03cafce6",
   "metadata": {},
   "source": [
    "### 1.3.1. Underlying Code for Stratified K-Folds\n",
    "\n",
    "Most of the code is for visualizing actually. Only `getStratKFold()` matters."
   ]
  },
  {
   "cell_type": "code",
   "execution_count": 7,
   "id": "05742e77",
   "metadata": {},
   "outputs": [],
   "source": [
    "def getStratKFold():\n",
    "    global K\n",
    "    return StratifiedKFold(n_splits=K, shuffle=True, random_state=1)\n",
    "\n",
    "#K-folds sample visualization\n",
    "def kfolds_vis(dataset):\n",
    "    global K\n",
    "    X = dataset.iloc[:,1:] #All rows, 2nd to last column\n",
    "    y = dataset.iloc[:,0] #All rows, first column only\n",
    "    fig, ax = plt.subplots(figsize=(10,K+1))\n",
    "    train = plot_cv_indices(getStratKFold(), X, y, ax, K)\n",
    "    plt.show()\n",
    "\n",
    "#K-folds sample visualization (inner workings)\n",
    "def plot_cv_indices(cv, X, y, ax, n_splits, lw=25):\n",
    "    #From: https://scikit-learn.org/stable/auto_examples/model_selection/plot_cv_indices.html\n",
    "    for ii, (tr, tt) in enumerate(cv.split(X=X, y=y)):\n",
    "        indices = np.array([np.nan] * len(X))\n",
    "        indices[tt], indices[tr] = 1,0\n",
    "        ax.scatter(range(len(indices)), [ii] * len(indices), c=indices, marker=\"_\", \n",
    "                   lw=lw, cmap=plt.cm.Paired, vmin=0, vmax=1)\n",
    "    #ax.scatter(range(len(X)), [ii] * len(X), c=y, marker=\"_\", lw=lw, cmap=plt.cm.Paired)\n",
    "    yticklabels = list(range(n_splits))\n",
    "    ax.set(yticks=np.arange(n_splits), yticklabels=yticklabels, xlabel=\"Dataset Subsample\", ylabel=\"CV iteration\", ylim=[n_splits,-1], xlim=[0, X.shape[0]])\n",
    "    ax.set_title(\"{}\".format(type(cv).__name__))\n",
    "    return ax"
   ]
  },
  {
   "cell_type": "markdown",
   "id": "dfc4f3c1",
   "metadata": {},
   "source": [
    "### 1.3.2. Visualizing the K-Folds\n",
    "\n",
    "The objective of the visualization is to show that no CV iteration will have the same set of samples (i.e., no overfitting)."
   ]
  },
  {
   "cell_type": "code",
   "execution_count": 8,
   "id": "29154991",
   "metadata": {
    "scrolled": true
   },
   "outputs": [
    {
     "name": "stdout",
     "output_type": "stream",
     "text": [
      "Stratified K-Folds Split at 5 splits.\n",
      "TB/TB_Encoded Dataset\n"
     ]
    },
    {
     "data": {
      "image/png": "[encoded data removed]",
      "text/plain": [
       "<Figure size 1000x600 with 1 Axes>"
      ]
     },
     "metadata": {},
     "output_type": "display_data"
    },
    {
     "name": "stdout",
     "output_type": "stream",
     "text": [
      "IB/IB_Encoded Dataset\n"
     ]
    },
    {
     "data": {
      "image/png": "[encoded data removed]",
      "text/plain": [
       "<Figure size 1000x600 with 1 Axes>"
      ]
     },
     "metadata": {},
     "output_type": "display_data"
    }
   ],
   "source": [
    "print(\"Stratified K-Folds Split at\",K,\"splits.\")\n",
    "print(\"TB/TB_Encoded Dataset\")\n",
    "kfolds_vis(tb_train)\n",
    "print(\"IB/IB_Encoded Dataset\")\n",
    "kfolds_vis(ib_train)"
   ]
  },
  {
   "cell_type": "markdown",
   "id": "09e3086d",
   "metadata": {},
   "source": [
    "## 2. Tuning Proper\n",
    "\n",
    "*Actual Model Tuning Process*\n",
    "\n",
    "**Notes:**\n",
    "1. Not all hyperparameters are compatible with each other.\n",
    "2. Select, test, and prioritize ones that are relevant to the project.\n",
    "3. The example shown below are already tested for compatibility. \n",
    "4. Watch your terminal for outputs.\n",
    "\n",
    "LGBM Hyperparameters: https://lightgbm.readthedocs.io/en/latest/Parameters.html\n",
    "\n",
    "CatBoost Hyperparameters: https://catboost.ai/en/docs/references/training-parameters/"
   ]
  },
  {
   "cell_type": "markdown",
   "id": "432f876f",
   "metadata": {},
   "source": [
    "## 2.1. Tuning Preparation"
   ]
  },
  {
   "cell_type": "code",
   "execution_count": 1,
   "id": "5beea04e",
   "metadata": {},
   "outputs": [
    {
     "ename": "NameError",
     "evalue": "name 'getStratKFold' is not defined",
     "output_type": "error",
     "traceback": [
      "\u001b[1;31m---------------------------------------------------------------------------\u001b[0m",
      "\u001b[1;31mNameError\u001b[0m                                 Traceback (most recent call last)",
      "Cell \u001b[1;32mIn[1], line 2\u001b[0m\n\u001b[0;32m      1\u001b[0m \u001b[38;5;66;03m#Create the Stratified K-Folds\u001b[39;00m\n\u001b[1;32m----> 2\u001b[0m stratKFold \u001b[38;5;241m=\u001b[39m getStratKFold()\n\u001b[0;32m      4\u001b[0m \u001b[38;5;66;03m#Specify features (X) and labels (y) for Time-based data\u001b[39;00m\n\u001b[0;32m      5\u001b[0m X_tb \u001b[38;5;241m=\u001b[39m tb_train\u001b[38;5;241m.\u001b[39miloc[:,\u001b[38;5;241m1\u001b[39m:] \u001b[38;5;66;03m#All rows, 2nd to last column\u001b[39;00m\n",
      "\u001b[1;31mNameError\u001b[0m: name 'getStratKFold' is not defined"
     ]
    }
   ],
   "source": [
    "#Create the Stratified K-Folds\n",
    "stratKFold = getStratKFold()\n",
    "\n",
    "#Specify features (X) and labels (y) for Time-based data\n",
    "X_tb = tb_train.iloc[:,1:] #All rows, 2nd to last column\n",
    "y_tb = tb_train.iloc[:,0] #All rows, first column only\n",
    "\n",
    "#Specify features (X) and labels (y) for Instance-based data\n",
    "X_ib = ib_train.iloc[:,1:] #All rows, 2nd to last column\n",
    "y_ib = ib_train.iloc[:,0] #All rows, first column only\n",
    "\n",
    "def getTuner(model, params):\n",
    "    iters = 10 #<== Default: 10, Increase me to do more searches (Becareful as it will increase time)\n",
    "    return RandomizedSearchCV(model, params, n_iter=iters, scoring='accuracy', n_jobs=2, \n",
    "                              refit=True, cv=getStratKFold(), verbose=2, pre_dispatch='2*n_jobs', random_state=1, \n",
    "                              error_score=0, return_train_score=False)"
   ]
  },
  {
   "cell_type": "markdown",
   "id": "2d5790c5",
   "metadata": {},
   "source": [
    "## 2.2. Time-based Model Tuning"
   ]
  },
  {
   "cell_type": "code",
   "execution_count": 11,
   "id": "6b9e0945",
   "metadata": {},
   "outputs": [
    {
     "name": "stderr",
     "output_type": "stream",
     "text": [
      "C:\\Users\\ejose\\anaconda3\\Lib\\site-packages\\sklearn\\model_selection\\_search.py:305: UserWarning: The total space of parameters 8 is smaller than n_iter=10. Running 8 iterations. For exhaustive searches, use GridSearchCV.\n",
      "  warnings.warn(\n"
     ]
    },
    {
     "name": "stdout",
     "output_type": "stream",
     "text": [
      "Fitting 5 folds for each of 8 candidates, totalling 40 fits\n"
     ]
    }
   ],
   "source": [
    "startTime()\n",
    "lgbm_classifier = lightgbm.LGBMClassifier(random_state=1, n_jobs=-1, verbose=-1)\n",
    "tb_tuner = getTuner(lgbm_classifier, lgbm_params)\n",
    "tb_tuner.fit(X_tb, y_tb)\n",
    "endTime(\"TB_LGBM\")\n",
    "\n",
    "printToFile(\"TB_LGBM\", tb_tuner.best_params_)"
   ]
  },
  {
   "cell_type": "markdown",
   "id": "77915e92",
   "metadata": {},
   "source": [
    "## 2.3. Instance-based Model Tuning"
   ]
  },
  {
   "cell_type": "code",
   "execution_count": null,
   "id": "4527766f",
   "metadata": {},
   "outputs": [
    {
     "name": "stderr",
     "output_type": "stream",
     "text": [
      "C:\\Users\\ejose\\anaconda3\\Lib\\site-packages\\sklearn\\model_selection\\_search.py:305: UserWarning: The total space of parameters 8 is smaller than n_iter=10. Running 8 iterations. For exhaustive searches, use GridSearchCV.\n",
      "  warnings.warn(\n"
     ]
    },
    {
     "name": "stdout",
     "output_type": "stream",
     "text": [
      "Fitting 5 folds for each of 8 candidates, totalling 40 fits\n"
     ]
    }
   ],
   "source": [
    "startTime()\n",
    "lgbm_classifier = lightgbm.LGBMClassifier(random_state=1, n_jobs=-1, verbose=-1)\n",
    "ib_tuner = getTuner(lgbm_classifier, lgbm_params)\n",
    "ib_tuner.fit(X_ib, y_ib)\n",
    "endTime(\"IB_LGBM\")\n",
    "\n",
    "printToFile(\"IB_LGBM\", ib_tuner.best_params_)"
   ]
  },
  {
   "cell_type": "code",
   "execution_count": null,
   "id": "16ac8741",
   "metadata": {},
   "outputs": [],
   "source": [
    "logging(\"\\n\")"
   ]
  }
 ],
 "metadata": {
  "kernelspec": {
   "display_name": "Python 3 (ipykernel)",
   "language": "python",
   "name": "python3"
  },
  "language_info": {
   "codemirror_mode": {
    "name": "ipython",
    "version": 3
   },
   "file_extension": ".py",
   "mimetype": "text/x-python",
   "name": "python",
   "nbconvert_exporter": "python",
   "pygments_lexer": "ipython3",
   "version": "3.11.5"
  }
 },
 "nbformat": 4,
 "nbformat_minor": 5
}
