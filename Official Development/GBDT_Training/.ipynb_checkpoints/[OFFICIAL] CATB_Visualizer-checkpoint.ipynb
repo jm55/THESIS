{
 "cells": [
  {
   "cell_type": "markdown",
   "id": "6073b94e",
   "metadata": {},
   "source": [
    "# CatBoost Training Visualizer\n",
    "\n",
    "By default, the CatBoost training is only visualized through a pywidget which cannot be saved as part of the notebook as if it were a normal image.\n",
    "\n",
    "This tool aims to enable the asynchronous viewing of the trained model using the `xxxx_TRAINDIR` directory of a previously trained CatBoost model.\n",
    "\n",
    "Only run this via Jupyter in Anaconda."
   ]
  },
  {
   "cell_type": "code",
   "execution_count": null,
   "id": "1e577cbc",
   "metadata": {
    "scrolled": false
   },
   "outputs": [
    {
     "data": {
      "application/vnd.jupyter.widget-view+json": {
       "model_id": "21c39d17d0b94ea2a7bc165dba3c32cb",
       "version_major": 2,
       "version_minor": 0
      },
      "text/plain": [
       "MetricVisualizer(layout=Layout(align_self='stretch', height='500px'))"
      ]
     },
     "metadata": {},
     "output_type": "display_data"
    }
   ],
   "source": [
    "import catboost\n",
    "\n",
    "train_dir_path = './Official Development/GBDT_Training/Outputs/TUNED_RYZEN_DEFAULT_IB_CATB_TRAINDIR/' #Open the Outputs and specify the folders with _TRAINDIR suffix. Complete with both first and last /\n",
    "\n",
    "w = catboost.MetricVisualizer(train_dir_path)\n",
    "w.start()"
   ]
  }
 ],
 "metadata": {
  "kernelspec": {
   "display_name": "Python 3 (ipykernel)",
   "language": "python",
   "name": "python3"
  },
  "language_info": {
   "codemirror_mode": {
    "name": "ipython",
    "version": 3
   },
   "file_extension": ".py",
   "mimetype": "text/x-python",
   "name": "python",
   "nbconvert_exporter": "python",
   "pygments_lexer": "ipython3",
   "version": "3.11.5"
  }
 },
 "nbformat": 4,
 "nbformat_minor": 5
}
