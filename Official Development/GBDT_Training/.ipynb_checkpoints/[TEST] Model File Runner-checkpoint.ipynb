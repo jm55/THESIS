{
 "cells": [
  {
   "cell_type": "code",
   "execution_count": 1,
   "id": "0524018d",
   "metadata": {},
   "outputs": [],
   "source": [
    "import catboost as catb\n",
    "import lightgbm as lgbm\n",
    "\n",
    "import pandas as pd\n",
    "\n",
    "from sklearn.metrics import classification_report\n",
    "\n",
    "from joblib import dump, load"
   ]
  },
  {
   "cell_type": "markdown",
   "id": "66f7a0cf",
   "metadata": {},
   "source": [
    "# 0. Load Dataset"
   ]
  },
  {
   "cell_type": "code",
   "execution_count": 2,
   "id": "f0602d6c",
   "metadata": {},
   "outputs": [],
   "source": [
    "lgbm_test = pd.read_csv(\"../Dataset/TB/TB_Test_LGBM.csv\", low_memory=False).fillna(\"NaN\")\n",
    "catb_test = pd.read_csv(\"../Dataset/TB/TB_Test_CATB.csv\", low_memory=False).fillna(\"NaN\")"
   ]
  },
  {
   "cell_type": "markdown",
   "id": "5c84029a",
   "metadata": {},
   "source": [
    "# 1. LGBM Model File Test"
   ]
  },
  {
   "cell_type": "code",
   "execution_count": 3,
   "id": "9f5b3de3",
   "metadata": {
    "scrolled": true
   },
   "outputs": [
    {
     "name": "stdout",
     "output_type": "stream",
     "text": [
      "[LightGBM] [Warning] Unknown parameter: l2_leaf_reg\n",
      "              precision    recall  f1-score   support\n",
      "\n",
      "           0     0.6667    0.5000    0.5714         8\n",
      "           1     0.9843    0.9921    0.9882       253\n",
      "\n",
      "    accuracy                         0.9770       261\n",
      "   macro avg     0.8255    0.7460    0.7798       261\n",
      "weighted avg     0.9746    0.9770    0.9754       261\n",
      "\n",
      "[LightGBM] [Warning] Unknown parameter: l2_leaf_reg\n",
      "              precision    recall  f1-score   support\n",
      "\n",
      "           0     0.6667    0.5000    0.5714         8\n",
      "           1     0.9843    0.9921    0.9882       253\n",
      "\n",
      "    accuracy                         0.9770       261\n",
      "   macro avg     0.8255    0.7460    0.7798       261\n",
      "weighted avg     0.9746    0.9770    0.9754       261\n",
      "\n"
     ]
    }
   ],
   "source": [
    "lgbm_model = load('Outputs/TUNED_TEST_TB_LGBM.model')\n",
    "\n",
    "X = lgbm_test.iloc[:,1:]\n",
    "y = lgbm_test.iloc[:,0]\n",
    "y_pred = lgbm_model.predict(X)\n",
    "\n",
    "print(classification_report(y, y_pred, digits=4))"
   ]
  },
  {
   "cell_type": "markdown",
   "id": "9119800c",
   "metadata": {},
   "source": [
    "# 2. CatB Model File Test"
   ]
  },
  {
   "cell_type": "code",
   "execution_count": 4,
   "id": "bbb03ae1",
   "metadata": {
    "scrolled": false
   },
   "outputs": [
    {
     "name": "stdout",
     "output_type": "stream",
     "text": [
      "              precision    recall  f1-score   support\n",
      "\n",
      "           0     1.0000    0.3750    0.5455         8\n",
      "           1     0.9806    1.0000    0.9902       253\n",
      "\n",
      "    accuracy                         0.9808       261\n",
      "   macro avg     0.9903    0.6875    0.7678       261\n",
      "weighted avg     0.9812    0.9808    0.9766       261\n",
      "\n",
      "              precision    recall  f1-score   support\n",
      "\n",
      "           0     1.0000    0.3750    0.5455         8\n",
      "           1     0.9806    1.0000    0.9902       253\n",
      "\n",
      "    accuracy                         0.9808       261\n",
      "   macro avg     0.9903    0.6875    0.7678       261\n",
      "weighted avg     0.9812    0.9808    0.9766       261\n",
      "\n"
     ]
    }
   ],
   "source": [
    "def getIndexes():\n",
    "    indexes = []\n",
    "    for i in range(100):\n",
    "        indexes.append(f\"t_{i}\")\n",
    "    return indexes\n",
    "\n",
    "catbClassifier = catb.CatBoostClassifier(cat_features=getIndexes())\n",
    "catbClassifier.load_model(\"Outputs/TUNED_TEST_TB_CATB.model\", format='json')\n",
    "\n",
    "X = catb_test.iloc[:,1:]\n",
    "y = catb_test.iloc[:,0]\n",
    "\n",
    "y_pred = catbClassifier.predict(X)\n",
    "\n",
    "print(classification_report(y, y_pred, digits=4))"
   ]
  }
 ],
 "metadata": {
  "kernelspec": {
   "display_name": "Python 3 (ipykernel)",
   "language": "python",
   "name": "python3"
  },
  "language_info": {
   "codemirror_mode": {
    "name": "ipython",
    "version": 3
   },
   "file_extension": ".py",
   "mimetype": "text/x-python",
   "name": "python",
   "nbconvert_exporter": "python",
   "pygments_lexer": "ipython3",
   "version": "3.11.5"
  }
 },
 "nbformat": 4,
 "nbformat_minor": 5
}
