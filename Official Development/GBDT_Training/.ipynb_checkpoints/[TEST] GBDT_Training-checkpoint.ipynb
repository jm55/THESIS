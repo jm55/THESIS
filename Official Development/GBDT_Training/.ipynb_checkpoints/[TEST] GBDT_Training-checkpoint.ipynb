{
 "cells": [
  {
   "cell_type": "markdown",
   "id": "ea18cebb",
   "metadata": {},
   "source": [
    "# GBDT Training Code Testbed\n",
    "\n",
    "This notebook will conduct code prototyping for executing GBDT training related processes."
   ]
  },
  {
   "cell_type": "code",
   "execution_count": 1,
   "id": "2461488e",
   "metadata": {},
   "outputs": [],
   "source": [
    "#Python Libraries\n",
    "import time\n",
    "\n",
    "#Data/Dataset Libraries\n",
    "import pandas as pd\n",
    "import numpy as np\n",
    "\n",
    "#Model Selection\n",
    "from sklearn.model_selection import GridSearchCV, RandomizedSearchCV\n",
    "from sklearn.model_selection import LearningCurveDisplay\n",
    "from sklearn.model_selection import cross_validate\n",
    "\n",
    "#GBDT Models\n",
    "import lightgbm as lgbm\n",
    "import catboost as catb\n",
    "\n",
    "#File Writing Library (exclusive for use on LightGBM)\n",
    "from joblib import dump, load\n",
    "\n",
    "#Timer\n",
    "start = end = 0\n",
    "def startTime():\n",
    "    global start\n",
    "    start = time.time()\n",
    "def endTime():\n",
    "    global start\n",
    "    elapse = time.time()-start\n",
    "    start = 0\n",
    "    print(f\"Elapsed Time: {round(elapse, 6)}s\\n\")\n",
    "    return round(elapse, 6)\n",
    "\n",
    "#File paths\n",
    "TB = \"../Dataset/TB/TB.csv\"\n",
    "TB_Reserve = \"../Dataset/TB/TB_Reserve.csv\"\n",
    "TB_Enc = \"../Dataset/TB/TB_Enc.csv\"\n",
    "TB_Reserve_Enc = \"../Dataset/TB/TB_Reserve_Enc.csv\"\n",
    "IB = \"../Dataset/IB/IB.csv\"\n",
    "IB_Reserve = \"../Dataset/IB/IB_Reserve.csv\"\n",
    "IB_Enc = \"../Dataset/IB/IB_Enc.csv\"\n",
    "IB_Reserve_Enc = \"../Dataset/IB/IB_Reserve_Enc.csv\" "
   ]
  }
 ],
 "metadata": {
  "kernelspec": {
   "display_name": "Python 3 (ipykernel)",
   "language": "python",
   "name": "python3"
  },
  "language_info": {
   "codemirror_mode": {
    "name": "ipython",
    "version": 3
   },
   "file_extension": ".py",
   "mimetype": "text/x-python",
   "name": "python",
   "nbconvert_exporter": "python",
   "pygments_lexer": "ipython3",
   "version": "3.11.5"
  }
 },
 "nbformat": 4,
 "nbformat_minor": 5
}
