{
 "cells": [
  {
   "cell_type": "code",
   "execution_count": 1,
   "metadata": {
    "scrolled": true
   },
   "outputs": [
    {
     "name": "stderr",
     "output_type": "stream",
     "text": [
      "C:\\Users\\ejose\\AppData\\Roaming\\Python\\Python311\\site-packages\\pandas\\core\\arrays\\masked.py:60: UserWarning: Pandas requires version '1.3.6' or newer of 'bottleneck' (version '1.3.5' currently installed).\n",
      "  from pandas.core import (\n"
     ]
    },
    {
     "ename": "NameError",
     "evalue": "name 'N_COMPONENTS' is not defined",
     "output_type": "error",
     "traceback": [
      "\u001b[1;31m---------------------------------------------------------------------------\u001b[0m",
      "\u001b[1;31mNameError\u001b[0m                                 Traceback (most recent call last)",
      "Cell \u001b[1;32mIn[1], line 70\u001b[0m\n\u001b[0;32m     63\u001b[0m df \u001b[38;5;241m=\u001b[39m df[df[\u001b[38;5;124m'\u001b[39m\u001b[38;5;124mtype\u001b[39m\u001b[38;5;124m'\u001b[39m] \u001b[38;5;241m!=\u001b[39m \u001b[38;5;124m'\u001b[39m\u001b[38;5;124m_\u001b[39m\u001b[38;5;124m'\u001b[39m]\n\u001b[0;32m     65\u001b[0m \u001b[38;5;66;03m# Remove specific malware types\u001b[39;00m\n\u001b[0;32m     66\u001b[0m \u001b[38;5;66;03m# removables = ['ransomware', 'miner', 'virus', 'spyware', 'hacktool', 'dropper', 'worm']\u001b[39;00m\n\u001b[0;32m     67\u001b[0m \u001b[38;5;66;03m# for r in removables:\u001b[39;00m\n\u001b[0;32m     68\u001b[0m \u001b[38;5;66;03m#     df = df[df['type'] != r]\u001b[39;00m\n\u001b[1;32m---> 70\u001b[0m \u001b[38;5;28;01mfor\u001b[39;00m i \u001b[38;5;129;01min\u001b[39;00m \u001b[38;5;28mrange\u001b[39m(N_COMPONENTS,\u001b[38;5;241m100\u001b[39m):\n\u001b[0;32m     71\u001b[0m     remove \u001b[38;5;241m=\u001b[39m \u001b[38;5;124mf\u001b[39m\u001b[38;5;124m\"\u001b[39m\u001b[38;5;124mt_\u001b[39m\u001b[38;5;132;01m{\u001b[39;00mi\u001b[38;5;132;01m}\u001b[39;00m\u001b[38;5;124m\"\u001b[39m\n\u001b[0;32m     72\u001b[0m     df\u001b[38;5;241m.\u001b[39mpop(remove)\n",
      "\u001b[1;31mNameError\u001b[0m: name 'N_COMPONENTS' is not defined"
     ]
    }
   ],
   "source": [
    "# Import Libraries\n",
    "import pandas as pd\n",
    "import warnings\n",
    "import lightgbm as lgbm\n",
    "import catboost as catb\n",
    "import sklearn.svm as svc\n",
    "import sklearn.neural_network as mlpc\n",
    "import sklearn.metrics as metrics\n",
    "from sklearn.model_selection import StratifiedKFold\n",
    "from sklearn.metrics import classification_report\n",
    "from sklearn.model_selection import train_test_split\n",
    "\n",
    "warnings.filterwarnings(\"ignore\")\n",
    "\n",
    "df = pd.read_csv('./Dataset/oliveira_labelled.csv')\n",
    "\n",
    "API_LIST = \"./Dataset/api_calls.txt\"\n",
    "DELIMITER = \"NaN\"\n",
    "API_FILE = open(API_LIST,\"r\")\n",
    "APIS = API_FILE.readline().split(',')\n",
    "APIS.append(DELIMITER) #serves as a label for NaN values for Instance-based datasets\n",
    "API_FILE.close()\n",
    "\n",
    "#Inverse Label Encoding\n",
    "def inverse_label(item:str):\n",
    "    global APIS\n",
    "    return item.map(lambda x: APIS[int(x)])\n",
    "\n",
    "def list_to_str(ls:list):\n",
    "    '''Convert list to a stringified version (comma delimited).'''\n",
    "    output = \"\"\n",
    "    for l in ls:\n",
    "        output += str(l) + \",\"\n",
    "    return output[0:len(output)-1]\n",
    "\n",
    "def inject_patterns(inner_df:pd.DataFrame):\n",
    "    '''Injects the API call patterns of each sample as its last column'''\n",
    "    patterns = []\n",
    "    print(\"Injecting API patterns...\")\n",
    "    for row in range(inner_df.shape[0]):\n",
    "        patterns.append(list_to_str(inner_df.iloc[row,1:N_COMPONENTS+1].transpose().to_list()))\n",
    "    inner_df['pattern'] = patterns\n",
    "    return inner_df # DBSCAN requires only the numeric label encoded version of the API Calls\n",
    "\n",
    "def ib_convert(input_df:pd.DataFrame):\n",
    "    print(\"Transposing IB...\")\n",
    "    input_df.transpose()\n",
    "    print(\"IB Transposed!\")\n",
    "    print(\"Removing duplicates...\")\n",
    "    print(\"Row:\", end=\" \")\n",
    "    for r in range(input_df.shape[0]):\n",
    "        row = input_df.iloc[r, 1:N_COMPONENTS+1].drop_duplicates(keep='first', inplace=False).to_list()\n",
    "        input_df.iloc[r, 1:N_COMPONENTS+1] = row + ([307]*(N_COMPONENTS-len(row)))\n",
    "        if r % N_COMPONENTS == 0:\n",
    "            print(r, end=\" \")\n",
    "    print(\"\\nDuplicates removed!\")\n",
    "    print(\"Retransposing IB (revert)...\")\n",
    "    input_df.transpose()\n",
    "    print(\"IB Retransposed!\")\n",
    "    return input_df\n",
    "\n",
    "# Remove falsely labelled malicious samples\n",
    "df = df[df['type'] != '_']\n",
    "\n",
    "# Remove specific malware types\n",
    "# removables = ['ransomware', 'miner', 'virus', 'spyware', 'hacktool', 'dropper', 'worm']\n",
    "# for r in removables:\n",
    "#     df = df[df['type'] != r]\n",
    "\n",
    "for i in range(N_COMPONENTS,100):\n",
    "    remove = f\"t_{i}\"\n",
    "    df.pop(remove)\n",
    "display(df.head())\n",
    "\n",
    "#Remove type column\n",
    "type_col = df.pop('type')\n",
    "\n",
    "#Removing hash column\n",
    "hash_col = df.pop('hash')\n",
    "\n",
    "#Re-arranging column positions\n",
    "label_col = df.pop('malware')\n",
    "df = pd.concat([label_col, df], axis=1)\n",
    "df = pd.concat([df, hash_col], axis=1) # <=== This will be retained for the benefit of model evaluation.\n",
    "df = pd.concat([df, type_col], axis=1) # <=== This will be retained for the benefit of model evaluation.\n",
    "\n",
    "#df.iloc[:, 1:N_COMPONENTS+1] = df.iloc[:, 1:N_COMPONENTS+1].apply(inverse_label, axis=1, result_type='reduce')\n",
    "#df = inject_patterns(df)\n",
    "\n",
    "mal_df = df[df['malware'] == 1]\n",
    "ben_df = df[df['malware'] == 0]"
   ]
  },
  {
   "cell_type": "code",
   "execution_count": null,
   "metadata": {},
   "outputs": [],
   "source": [
    "X = ben_df.iloc[:,1:] #Features\n",
    "y = ben_df.iloc[:,0] #Labels\n",
    "train_features, test_features, train_labels, test_labels = train_test_split(X, y, test_size=0.10, random_state=1, shuffle=True)\n",
    "\n",
    "ben_train = pd.concat([train_labels,train_features], axis=1)\n",
    "ben_test = pd.concat([test_labels,test_features], axis=1)\n",
    "\n",
    "print(\"Benign for Training:\", ben_train['type'].value_counts().sum())\n",
    "print(\"Bening for Test: \", ben_test['type'].value_counts().sum())"
   ]
  },
  {
   "cell_type": "code",
   "execution_count": null,
   "metadata": {},
   "outputs": [],
   "source": [
    "X = mal_df.iloc[:,1:] #Features\n",
    "y = mal_df.iloc[:,0] #Labels\n",
    "train_features, test_features, train_labels, test_labels = train_test_split(X, y, test_size=0.08, random_state=1, shuffle=True)\n",
    "\n",
    "mal_test = pd.concat([train_labels,train_features], axis=1)\n",
    "mal_train = pd.concat([test_labels,test_features], axis=1)\n",
    "\n",
    "print(\"Malicious for Training:\", mal_train['type'].value_counts().sum())\n",
    "print(\"Malicious for Testing:\", mal_test['type'].value_counts().sum())"
   ]
  },
  {
   "cell_type": "markdown",
   "metadata": {},
   "source": [
    "## mal_test + ben_test\n",
    "\n",
    "To not undergo SMOTETonek"
   ]
  },
  {
   "cell_type": "code",
   "execution_count": null,
   "metadata": {},
   "outputs": [],
   "source": [
    "test_tb = pd.concat([mal_test, ben_test], axis=0, ignore_index=True)\n",
    "print(test_tb.shape)\n",
    "print(test_tb['malware'].value_counts())\n",
    "display(test_tb.head())\n",
    "display(test_tb[test_tb['malware']==0])"
   ]
  },
  {
   "cell_type": "markdown",
   "metadata": {},
   "source": [
    "## mal_train + ben_train\n",
    "\n",
    "To undergo *SMOTETomek*"
   ]
  },
  {
   "cell_type": "code",
   "execution_count": null,
   "metadata": {
    "scrolled": true
   },
   "outputs": [],
   "source": [
    "train_tb = pd.concat([mal_train, ben_train], axis=0, ignore_index=True)\n",
    "print(train_tb.shape)\n",
    "print(train_tb['malware'].value_counts())"
   ]
  },
  {
   "cell_type": "code",
   "execution_count": null,
   "metadata": {
    "scrolled": true
   },
   "outputs": [],
   "source": [
    "from imblearn.combine import SMOTETomek\n",
    "\n",
    "smt = SMOTETomek(random_state=1, n_jobs=8, sampling_strategy=0.4)\n",
    "\n",
    "X = train_tb.iloc[:,1:N_COMPONENTS+1]\n",
    "y = train_tb.iloc[:,0]\n",
    "\n",
    "X_res, y_res = smt.fit_resample(X, y)\n",
    "train_tb = pd.concat([y_res,X_res], axis=1)\n",
    "print(train_tb.shape)\n",
    "print(train_tb['malware'].value_counts())\n",
    "display(train_tb.head())\n",
    "display(train_tb[train_tb['malware']==0])"
   ]
  },
  {
   "cell_type": "markdown",
   "metadata": {},
   "source": [
    "## Creating IB versions of dataset"
   ]
  },
  {
   "cell_type": "code",
   "execution_count": null,
   "metadata": {
    "scrolled": true
   },
   "outputs": [],
   "source": [
    "train_ib = train_tb.copy(deep=True)\n",
    "test_ib = test_tb.copy(deep=True)\n",
    "\n",
    "train_ib = ib_convert(train_ib).copy(deep=True)\n",
    "print(\"\\n\")\n",
    "test_ib = ib_convert(test_ib).copy(deep=True)"
   ]
  },
  {
   "cell_type": "code",
   "execution_count": null,
   "metadata": {},
   "outputs": [],
   "source": [
    "# train_ib.iloc[:,1:N_COMPONENTS+1] = train_ib.iloc[:,1:N_COMPONENTS+1].astype('str')\n",
    "# train_ib.replace(\"nan\", \"NaN\", inplace=True)\n",
    "# test_ib.iloc[:,1:N_COMPONENTS+1] = test_ib.iloc[:,1:N_COMPONENTS+1].astype('str')\n",
    "# test_ib.replace(\"nan\", \"NaN\", inplace=True)\n",
    "# display(train_ib.head())\n",
    "# display(test_ib.head())"
   ]
  },
  {
   "cell_type": "markdown",
   "metadata": {},
   "source": [
    "## Converting results to usable for models\n",
    "\n",
    "Encoded APIs to Unencoded/String APIs"
   ]
  },
  {
   "cell_type": "code",
   "execution_count": null,
   "metadata": {
    "scrolled": true
   },
   "outputs": [],
   "source": [
    "# train_tb_enc = train_tb.copy(deep=True)\n",
    "# test_tb_enc = test_tb.copy(deep=True)\n",
    "# train_ib_enc = train_ib.copy(deep=True)\n",
    "# test_ib_enc = test_ib.copy(deep=True)\n",
    "\n",
    "# train_tb_enc.iloc[:, 1:N_COMPONENTS+1] = train_tb.iloc[:, 1:N_COMPONENTS+1].apply(inverse_label, axis=1, result_type='reduce')\n",
    "# test_tb_enc.iloc[:, 1:N_COMPONENTS+1] = test_tb.iloc[:, 1:N_COMPONENTS+1].apply(inverse_label, axis=1, result_type='reduce')\n",
    "# train_ib_enc.iloc[:, 1:N_COMPONENTS+1] = train_ib.iloc[:, 1:N_COMPONENTS+1].apply(inverse_label, axis=1, result_type='reduce')\n",
    "# test_ib_enc.iloc[:, 1:N_COMPONENTS+1] = test_ib.iloc[:, 1:N_COMPONENTS+1].apply(inverse_label, axis=1, result_type='reduce')\n",
    "\n",
    "# display(train_tb_enc.head())\n",
    "# display(test_tb_enc.head())\n",
    "# display(train_ib_enc.head())\n",
    "# display(test_ib_enc.head())"
   ]
  },
  {
   "cell_type": "markdown",
   "metadata": {},
   "source": [
    "## Trying it out on LightGBM, CatBoost, and SVM"
   ]
  },
  {
   "cell_type": "code",
   "execution_count": null,
   "metadata": {},
   "outputs": [],
   "source": [
    "def get_indexes():\n",
    "    indexes = []\n",
    "    for i in range(N_COMPONENTS):\n",
    "        indexes.append(f\"t_{i}\")\n",
    "    return indexes\n",
    "\n",
    "def train_test(train, test, model, model_str:str):\n",
    "    X = train.iloc[:,1:N_COMPONENTS+1]\n",
    "    y = train.iloc[:,0]\n",
    "    X_test = test.iloc[:,1:N_COMPONENTS+1]\n",
    "    y_test = test.iloc[:,0]\n",
    "    print(f\"Model: {model_str}\")\n",
    "    #MODEL ROBUSTNESS\n",
    "    model.fit(X,y)\n",
    "    y_pred = model.predict(X_test)\n",
    "    #print(\"\\nModel, Fold, Accuracy, Precision, F1-Score, Recall, ROC-AUC\")\n",
    "    #print(f\"{model_str}, {'T'}, {metrics.accuracy_score(y_test, y_pred):.4f}, {metrics.average_precision_score(y_test, y_pred):.4f}, {metrics.f1_score(y_test, y_pred):.4f}, {metrics.recall_score(y_test, y_pred):.4f}, {metrics.roc_auc_score(y_test, y_pred):.4f}\")\n",
    "    print(f\"Fold: T\")\n",
    "    print(classification_report(y_test, y_pred, digits=4))\n",
    "    print(f\"ROC-AUC: {metrics.roc_auc_score(y_test, y_pred):.4f}\")\n",
    "    #STRATIFIED K-FOLDS\n",
    "    skf = StratifiedKFold(n_splits=5, random_state=1, shuffle=True)\n",
    "    ctr = 0\n",
    "    for train_idx, test_idx in skf.split(train.iloc[:,1:N_COMPONENTS+1], train.iloc[:,0]):\n",
    "        X_train = train.iloc[train_idx, 1:N_COMPONENTS+1]\n",
    "        y_train = train.iloc[train_idx, 0]\n",
    "        model.fit(X_train, y_train)\n",
    "        y_pred = model.predict(train.iloc[test_idx, 1:N_COMPONENTS+1])\n",
    "        y_test = train.iloc[test_idx, 0]\n",
    "        #print(f\"{model_str}, {ctr}, {metrics.accuracy_score(y_test, y_pred):.4f}, {metrics.average_precision_score(y_test, y_pred):.4f}, {metrics.f1_score(y_test, y_pred):.4f}, {metrics.recall_score(y_test, y_pred):.4f}, {metrics.roc_auc_score(y_test, y_pred):.4f}\")\n",
    "        print(f\"Fold: {ctr}\")\n",
    "        print(classification_report(y_test, y_pred, digits=4))\n",
    "        ctr += 1\n",
    "    print('-------------------------------------------------------')\n",
    "    print(\"\\n\")"
   ]
  },
  {
   "cell_type": "code",
   "execution_count": null,
   "metadata": {
    "scrolled": true
   },
   "outputs": [],
   "source": [
    "train_test(train_tb, test_tb, lgbm.LGBMClassifier(random_state=1, n_jobs=0, verbose=0), \"LGBM\")\n",
    "train_test(train_tb, test_tb, catb.CatBoostClassifier(random_state=1, thread_count=-1, verbose=0, cat_features=get_indexes(), \n",
    "                                                    nan_mode='Min', custom_metric=['Logloss', 'AUC', 'Precision'], one_hot_max_size=256), \"CATB\")\n",
    "train_test(train_tb, test_tb, svc.SVC(random_state=1, verbose=0), \"SVM\")\n",
    "train_test(train_tb, test_tb, mlpc.MLPClassifier(random_state=1, verbose=0), \"MLPC\")"
   ]
  },
  {
   "cell_type": "code",
   "execution_count": null,
   "metadata": {
    "scrolled": true
   },
   "outputs": [],
   "source": [
    "train_test(train_ib, test_ib, lgbm.LGBMClassifier(random_state=1, n_jobs=0,verbose=0), \"LGBM\")\n",
    "train_test(train_ib, test_ib, catb.CatBoostClassifier(random_state=1, thread_count=-1, verbose=0, cat_features=get_indexes(), \n",
    "                                                    nan_mode='Min', custom_metric=['Logloss', 'AUC', 'Precision'], one_hot_max_size=256), \"CATB\")\n",
    "train_test(train_ib, test_ib, svc.SVC(random_state=1,verbose=0), \"SVM\")\n",
    "train_test(train_ib, test_ib, mlpc.MLPClassifier(random_state=1,verbose=0), \"MLPC\")"
   ]
  }
 ],
 "metadata": {
  "kernelspec": {
   "display_name": "Python 3 (ipykernel)",
   "language": "python",
   "name": "python3"
  },
  "language_info": {
   "codemirror_mode": {
    "name": "ipython",
    "version": 3
   },
   "file_extension": ".py",
   "mimetype": "text/x-python",
   "name": "python",
   "nbconvert_exporter": "python",
   "pygments_lexer": "ipython3",
   "version": "3.11.5"
  }
 },
 "nbformat": 4,
 "nbformat_minor": 2
}
