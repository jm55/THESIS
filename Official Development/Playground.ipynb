{
 "cells": [
  {
   "cell_type": "code",
   "execution_count": 99,
   "metadata": {},
   "outputs": [],
   "source": [
    "# Import Libraries\n",
    "import pandas as pd\n",
    "import lightgbm as lgbm\n",
    "import catboost as catb\n",
    "from joblib import load\n",
    "\n",
    "import sklearn.metrics as metric"
   ]
  },
  {
   "cell_type": "code",
   "execution_count": 100,
   "metadata": {},
   "outputs": [
    {
     "name": "stderr",
     "output_type": "stream",
     "text": [
      "c:\\Users\\ejose\\anaconda3\\Lib\\site-packages\\sklearn\\base.py:376: InconsistentVersionWarning: Trying to unpickle estimator LabelEncoder from version 1.2.1 when using version 1.4.0. This might lead to breaking code or invalid results. Use at your own risk. For more info please refer to:\n",
      "https://scikit-learn.org/stable/model_persistence.html#security-maintainability-limitations\n",
      "  warnings.warn(\n"
     ]
    }
   ],
   "source": [
    "# Load Models\n",
    "default_tb_lgbm = load('./GBDT_Training/Outputs/Results/Demo/LGBM/Train (Default)/DEMO_LGBM_TB.model') # <== Point these to the respective .model files\n",
    "default_ib_lgbm = load('./GBDT_Training/Outputs/Results/Demo/LGBM/Train (Default)/DEMO_LGBM_IB.model')\n",
    "tuned_tb_lgbm = load('./GBDT_Training/Outputs/Results/Demo/LGBM/Train (Tuned)/TUNED_DEMO_LGBM_TB.model')\n",
    "tuned_ib_lgbm = load('./GBDT_Training/Outputs/Results/Demo/LGBM/Train (Tuned)/TUNED_DEMO_LGBM_IB.model')\n",
    "\n",
    "default_tb_catb = catb.CatBoostClassifier()\n",
    "default_ib_catb = catb.CatBoostClassifier()\n",
    "tuned_tb_catb = catb.CatBoostClassifier()\n",
    "tuned_ib_catb = catb.CatBoostClassifier()\n",
    "default_tb_catb = default_tb_catb.load_model(\"./GBDT_Training/Outputs/Results/Demo/CATB/Train (Default)//DEMO_CATB_TB.model\", format='json') # <== Point these to the respective .model files\n",
    "default_ib_catb = default_ib_catb.load_model(\"./GBDT_Training/Outputs/Results/Demo/CATB/Train (Default)/DEMO_CATB_IB.model\", format='json')\n",
    "tuned_tb_catb = tuned_tb_catb.load_model(\"./GBDT_Training/Outputs/Results/Demo/CATB/Train (Tuned)/TUNED_DEMO_CATB_TB.model\", format='json')\n",
    "tuned_ib_catb = tuned_ib_catb.load_model(\"./GBDT_Training/Outputs/Results/Demo/CATB/Train (Tuned)/TUNED_DEMO_CATB_IB.model\", format='json')"
   ]
  },
  {
   "cell_type": "code",
   "execution_count": 101,
   "metadata": {},
   "outputs": [],
   "source": [
    "# Load Test/Holdout Datasets\n",
    "\n",
    "DF_LGBM_TB = pd.read_csv('./Dataset/TB/LGBM_TB_Test.csv', low_memory=False) #<== Point these to the proper Test/Holdout datasets.\n",
    "DF_LGBM_IB = pd.read_csv('./Dataset/IB/LGBM_IB_Test.csv', low_memory=False)\n",
    "\n",
    "DF_CATB_TB = pd.read_csv('./Dataset/TB/CATB_TB_Test.csv', low_memory=False) #<== Point these to the proper Test/Holdout datasets.\n",
    "DF_CATB_IB = pd.read_csv('./Dataset/IB/CATB_IB_Test.csv', low_memory=False)\n",
    "\n",
    "DF_CATB_TB = DF_CATB_TB.fillna(\"NaN\")\n",
    "DF_CATB_IB = DF_CATB_IB.fillna(\"NaN\")"
   ]
  },
  {
   "cell_type": "code",
   "execution_count": 102,
   "metadata": {},
   "outputs": [
    {
     "name": "stdout",
     "output_type": "stream",
     "text": [
      "Default TB LGBM\n",
      "[LightGBM] [Warning] Unknown parameter: categorical_data\n",
      "              precision    recall  f1-score   support\n",
      "\n",
      "           0       0.92      0.55      0.69       104\n",
      "           1       0.99      1.00      0.99      4284\n",
      "\n",
      "    accuracy                           0.99      4388\n",
      "   macro avg       0.95      0.77      0.84      4388\n",
      "weighted avg       0.99      0.99      0.99      4388\n",
      "\n",
      "Tuned TB LGBM\n",
      "              precision    recall  f1-score   support\n",
      "\n",
      "           0       0.90      0.53      0.67       104\n",
      "           1       0.99      1.00      0.99      4284\n",
      "\n",
      "    accuracy                           0.99      4388\n",
      "   macro avg       0.95      0.76      0.83      4388\n",
      "weighted avg       0.99      0.99      0.99      4388\n",
      "\n"
     ]
    }
   ],
   "source": [
    "print(\"Default TB LGBM\")\n",
    "print(metric.classification_report(DF_LGBM_TB['malware'], default_tb_lgbm.predict(DF_LGBM_TB.iloc[:,1:101])))\n",
    "\n",
    "print(\"Tuned TB LGBM\")\n",
    "print(metric.classification_report(DF_LGBM_TB['malware'], tuned_tb_lgbm.predict(DF_LGBM_TB.iloc[:,1:101])))"
   ]
  },
  {
   "cell_type": "code",
   "execution_count": 103,
   "metadata": {},
   "outputs": [
    {
     "name": "stdout",
     "output_type": "stream",
     "text": [
      "Default IB LGBM\n",
      "[LightGBM] [Warning] Unknown parameter: categorical_data\n",
      "              precision    recall  f1-score   support\n",
      "\n",
      "           0       0.89      0.62      0.73       104\n",
      "           1       0.99      1.00      0.99      4284\n",
      "\n",
      "    accuracy                           0.99      4388\n",
      "   macro avg       0.94      0.81      0.86      4388\n",
      "weighted avg       0.99      0.99      0.99      4388\n",
      "\n",
      "Tuned IB LGBM\n",
      "              precision    recall  f1-score   support\n",
      "\n",
      "           0       0.82      0.52      0.64       104\n",
      "           1       0.99      1.00      0.99      4284\n",
      "\n",
      "    accuracy                           0.99      4388\n",
      "   macro avg       0.90      0.76      0.81      4388\n",
      "weighted avg       0.98      0.99      0.98      4388\n",
      "\n"
     ]
    }
   ],
   "source": [
    "print(\"Default IB LGBM\")\n",
    "print(metric.classification_report(DF_LGBM_IB['malware'], default_ib_lgbm.predict(DF_LGBM_IB.iloc[:,1:101])))\n",
    "print(\"Tuned IB LGBM\")\n",
    "print(metric.classification_report(DF_LGBM_IB['malware'], tuned_ib_lgbm.predict(DF_LGBM_IB.iloc[:,1:101])))"
   ]
  },
  {
   "cell_type": "code",
   "execution_count": 104,
   "metadata": {},
   "outputs": [
    {
     "name": "stdout",
     "output_type": "stream",
     "text": [
      "Default TB CATB\n",
      "              precision    recall  f1-score   support\n",
      "\n",
      "           0       0.95      0.58      0.72       104\n",
      "           1       0.99      1.00      0.99      4284\n",
      "\n",
      "    accuracy                           0.99      4388\n",
      "   macro avg       0.97      0.79      0.86      4388\n",
      "weighted avg       0.99      0.99      0.99      4388\n",
      "\n",
      "Tuned TB CATB\n",
      "              precision    recall  f1-score   support\n",
      "\n",
      "           0       0.94      0.60      0.73       104\n",
      "           1       0.99      1.00      0.99      4284\n",
      "\n",
      "    accuracy                           0.99      4388\n",
      "   macro avg       0.96      0.80      0.86      4388\n",
      "weighted avg       0.99      0.99      0.99      4388\n",
      "\n"
     ]
    }
   ],
   "source": [
    "print(\"Default TB CATB\")\n",
    "print(metric.classification_report(DF_CATB_TB['malware'], default_tb_catb.predict(DF_CATB_TB.iloc[:,1:101])))\n",
    "print(\"Tuned TB CATB\")\n",
    "print(metric.classification_report(DF_CATB_TB['malware'], tuned_tb_catb.predict(DF_CATB_TB.iloc[:,1:101])))"
   ]
  },
  {
   "cell_type": "code",
   "execution_count": 105,
   "metadata": {},
   "outputs": [
    {
     "name": "stdout",
     "output_type": "stream",
     "text": [
      "Default IB CATB\n",
      "              precision    recall  f1-score   support\n",
      "\n",
      "           0       0.92      0.65      0.76       104\n",
      "           1       0.99      1.00      1.00      4284\n",
      "\n",
      "    accuracy                           0.99      4388\n",
      "   macro avg       0.96      0.83      0.88      4388\n",
      "weighted avg       0.99      0.99      0.99      4388\n",
      "\n",
      "Tuned IB CATB\n",
      "              precision    recall  f1-score   support\n",
      "\n",
      "           0       0.92      0.59      0.72       104\n",
      "           1       0.99      1.00      0.99      4284\n",
      "\n",
      "    accuracy                           0.99      4388\n",
      "   macro avg       0.96      0.79      0.86      4388\n",
      "weighted avg       0.99      0.99      0.99      4388\n",
      "\n"
     ]
    }
   ],
   "source": [
    "print(\"Default IB CATB\")\n",
    "print(metric.classification_report(DF_CATB_IB['malware'], default_ib_catb.predict(DF_CATB_IB.iloc[:,1:101])))\n",
    "print(\"Tuned IB CATB\")\n",
    "print(metric.classification_report(DF_CATB_IB['malware'], tuned_ib_catb.predict(DF_CATB_IB.iloc[:,1:101])))"
   ]
  }
 ],
 "metadata": {
  "kernelspec": {
   "display_name": "base",
   "language": "python",
   "name": "python3"
  },
  "language_info": {
   "codemirror_mode": {
    "name": "ipython",
    "version": 3
   },
   "file_extension": ".py",
   "mimetype": "text/x-python",
   "name": "python",
   "nbconvert_exporter": "python",
   "pygments_lexer": "ipython3",
   "version": "3.11.5"
  }
 },
 "nbformat": 4,
 "nbformat_minor": 2
}
