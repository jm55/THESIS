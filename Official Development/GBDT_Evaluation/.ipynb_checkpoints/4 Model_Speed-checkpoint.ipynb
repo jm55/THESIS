{
 "cells": [
  {
   "cell_type": "markdown",
   "metadata": {},
   "source": [
    "# Model Speed\n",
    "\n",
    "## Benchmarking the Fit and Predict Speed of the Model\n",
    "\n",
    "1. Benchmarking takes place where each measurement takes 10 rounds.\n",
    "2. Average and Worst times will be recorded.\n",
    "3. Model Performance is not the focus here but rather its speed."
   ]
  },
  {
   "cell_type": "code",
   "execution_count": 1,
   "metadata": {},
   "outputs": [],
   "source": [
    "import pandas as pd\n",
    "import json\n",
    "import time\n",
    "import lightgbm\n",
    "import catboost\n",
    "from sklearn.model_selection import train_test_split\n",
    "\n",
    "from joblib import load\n",
    "import warnings\n",
    "warnings.filterwarnings(\"ignore\")\n",
    "\n",
    "def parse_tune(tune_file:str):\n",
    "    f = open(tune_file, \"r\")\n",
    "    params = f.readline()\n",
    "    f.close()\n",
    "    params = params.replace('\\'', '\\\"')#.replace(\"False\", \"\\\"False\\\"\").replace(\"True\", \"\\\"True\\\"\")\n",
    "    params = json.loads(str(params))\n",
    "    print(params)\n",
    "    return params\n",
    "\n",
    "def get_indexes():\n",
    "    indexes = []\n",
    "    for i in range(100):\n",
    "        indexes.append(f\"t_{i}\")\n",
    "    return indexes\n",
    "\n",
    "LOOPS = 10 # Each benchmark takes 10 rounds per model/behavior-type"
   ]
  },
  {
   "cell_type": "markdown",
   "metadata": {},
   "source": [
    "# 1 Fit Speed"
   ]
  },
  {
   "cell_type": "code",
   "execution_count": 2,
   "metadata": {},
   "outputs": [],
   "source": [
    "def fit_benchmark(model,x,y,title:str,loops:int):\n",
    "    times = []\n",
    "    for i in range(1,loops+1):\n",
    "        print(f\"{title} Round: {i}\", end=\"\\r\")\n",
    "        start = time.time()\n",
    "        model.fit(x,y)\n",
    "        times.append(time.time()-start)\n",
    "    print(f\"{title}\")\n",
    "    print(f\"Best Time: {min(times):.4f}s\")\n",
    "    print(f\"Average Time: {sum(times)/len(times):.4f}s\")\n",
    "    print(f\"Worst Time: {max(times):.4f}s\")"
   ]
  },
  {
   "cell_type": "code",
   "execution_count": 3,
   "metadata": {},
   "outputs": [
    {
     "name": "stdout",
     "output_type": "stream",
     "text": [
      "Default LGBM_TB Round: 10\n",
      "Best Time: 1.2160s\n",
      "Average Time: 1.2381s\n",
      "Worst Time: 1.2600s\n",
      "\n",
      "{'boost_from_average': 'True', 'boosting_type': 'gbdt', 'cat_l2': 10, 'class_weight': 'balanced', 'data_sample_strategy': 'goss', 'device': 'gpu', 'enable_bundle': 'True', 'gpu_use_dp': 'False', 'learning_rate': 0.1, 'max_bin': 255, 'max_depth': 5, 'n_estimators': 500, 'num_leaves': 16, 'objective': 'binary', 'tree_learner': 'feature'}\n",
      "Tuned LGBM_TB Round: 10\n",
      "Best Time: 9.3580s\n",
      "Average Time: 9.4554s\n",
      "Worst Time: 9.6350s\n"
     ]
    }
   ],
   "source": [
    "train = pd.read_csv('Dataset/LGBM_TB.csv', low_memory=False) #<== Point these to the proper Test/Holdout datasets.\n",
    "X_train, X_valid, y_train, y_valid = train_test_split(train.iloc[:,1:101], train.iloc[:,0], test_size=.3, shuffle=True, random_state=1)\n",
    "\n",
    "#LGBM TB\n",
    "times = []\n",
    "lgbm_tb = lightgbm.LGBMClassifier(random_state=1, n_jobs=0, verbose=-1)\n",
    "fit_benchmark(lgbm_tb, X_train, y_train, \"Default LGBM_TB\", LOOPS)\n",
    "print(\"\")\n",
    "\n",
    "#LGBM TB (Tuned)\n",
    "tuning = parse_tune('Models/LGBM/Tuning/Manual/RYZEN3b_LGBM_TB.tune')\n",
    "tuned_lgbm_tb = lightgbm.LGBMClassifier(**tuning, random_state=1, n_jobs=0, verbose=-1,)\n",
    "fit_benchmark(tuned_lgbm_tb,X_train,y_train, \"Tuned LGBM_TB\", LOOPS)"
   ]
  },
  {
   "cell_type": "code",
   "execution_count": 4,
   "metadata": {
    "scrolled": true
   },
   "outputs": [
    {
     "name": "stdout",
     "output_type": "stream",
     "text": [
      "Default LGBM_IB Round: 10\n",
      "Best Time: 0.6370s\n",
      "Average Time: 0.6722s\n",
      "Worst Time: 0.7720s\n",
      "\n",
      "{'boost_from_average': 'True', 'boosting_type': 'gbdt', 'cat_l2': 5, 'class_weight': 'balanced', 'data_sample_strategy': 'goss', 'device': 'gpu', 'enable_bundle': 'True', 'gpu_use_dp': 'False', 'learning_rate': 0.1, 'max_bin': 255, 'max_depth': 5, 'n_estimators': 1000, 'num_leaves': 32, 'objective': 'binary', 'tree_learner': 'feature'}\n",
      "Tuned LGBM_IB Round: 10\n",
      "Best Time: 19.5465s\n",
      "Average Time: 19.9088s\n",
      "Worst Time: 20.5780s\n"
     ]
    }
   ],
   "source": [
    "train = pd.read_csv('Dataset/LGBM_IB.csv', low_memory=False) #<== Point these to the proper Test/Holdout datasets.\n",
    "X_train, X_valid, y_train, y_valid = train_test_split(train.iloc[:,1:101], train.iloc[:,0], test_size=.3, shuffle=True, random_state=1)\n",
    "\n",
    "#LGBM IB\n",
    "times = []\n",
    "lgbm_ib = lightgbm.LGBMClassifier(random_state=1, n_jobs=0, verbose=-1)\n",
    "fit_benchmark(lgbm_ib, X_train, y_train, \"Default LGBM_IB\", LOOPS)\n",
    "print(\"\")\n",
    "\n",
    "#LGBM IB (Tuned)\n",
    "tuning = parse_tune('Models/LGBM/Tuning/Manual/RYZEN3b_LGBM_IB.tune')\n",
    "tuned_lgbm_ib = lightgbm.LGBMClassifier(**tuning, random_state=1, n_jobs=0, verbose=-1,)\n",
    "fit_benchmark(tuned_lgbm_ib,X_train,y_train, \"Tuned LGBM_IB\", LOOPS)"
   ]
  },
  {
   "cell_type": "code",
   "execution_count": 5,
   "metadata": {},
   "outputs": [
    {
     "name": "stdout",
     "output_type": "stream",
     "text": [
      "Default CATB_TB Round: 10\n",
      "Best Time: 26.9610s\n",
      "Average Time: 27.5851s\n",
      "Worst Time: 28.3954s\n",
      "\n",
      "{'boosting_type': 'Ordered', 'bootstrap_type': 'Bayesian', 'gpu_cat_features_storage': 'CpuPinnedMemory', 'grow_policy': 'SymmetricTree', 'l2_leaf_reg': 3, 'learning_rate': 0.2, 'max_depth': 8, 'n_estimators': 1000, 'objective': 'Logloss', 'task_type': 'GPU'}\n",
      "Tuned CATB_TB Round: 10\n",
      "Best Time: 162.4075s\n",
      "Average Time: 162.7772s\n",
      "Worst Time: 163.6694s\n"
     ]
    }
   ],
   "source": [
    "train = pd.read_csv('Dataset/CATB_TB.csv', low_memory=False) #<== Point these to the proper Test/Holdout datasets.\n",
    "X_train, X_valid, y_train, y_valid = train_test_split(train.iloc[:,1:101], train.iloc[:,0], test_size=.3, shuffle=True, random_state=1)\n",
    "\n",
    "#CATB TB\n",
    "times = []\n",
    "catb_tb = catboost.CatBoostClassifier(random_state=1, thread_count=-1, verbose=0, cat_features=get_indexes(), nan_mode='Min', one_hot_max_size=256)\n",
    "fit_benchmark(catb_tb, X_train, y_train, \"Default CATB_TB\", LOOPS)\n",
    "print(\"\")\n",
    "\n",
    "# #CATB TB (Tuned)\n",
    "tuning = parse_tune('Models/CATB/Tuning/Manual/RYZEN3b_CATB_TB.tune')\n",
    "tuned_catb_tb = catboost.CatBoostClassifier(**tuning, random_state=1, thread_count=-1, verbose=0, cat_features=get_indexes(), nan_mode='Min', one_hot_max_size=256)\n",
    "fit_benchmark(tuned_catb_tb,X_train,y_train, \"Tuned CATB_TB\", LOOPS)"
   ]
  },
  {
   "cell_type": "code",
   "execution_count": 6,
   "metadata": {},
   "outputs": [
    {
     "name": "stdout",
     "output_type": "stream",
     "text": [
      "Default CATB_IB Round: 10\n",
      "Best Time: 18.4070s\n",
      "Average Time: 18.7946s\n",
      "Worst Time: 19.1130s\n",
      "\n",
      "{'boosting_type': 'Ordered', 'bootstrap_type': 'Bayesian', 'gpu_cat_features_storage': 'CpuPinnedMemory', 'grow_policy': 'SymmetricTree', 'l2_leaf_reg': 1, 'learning_rate': 0.3, 'max_depth': 10, 'n_estimators': 1000, 'objective': 'Logloss', 'task_type': 'GPU'}\n",
      "Tuned CATB_IB Round: 10\n",
      "Best Time: 427.6242s\n",
      "Average Time: 430.0227s\n",
      "Worst Time: 435.4669s\n"
     ]
    }
   ],
   "source": [
    "train = pd.read_csv('Dataset/CATB_IB.csv', low_memory=False) #<== Point these to the proper Test/Holdout datasets.\n",
    "train.iloc[:,1:101] = train.iloc[:,1:101].astype('str')\n",
    "train.replace(\"nan\", \"NaN\", inplace=True)\n",
    "X_train, X_valid, y_train, y_valid = train_test_split(train.iloc[:,1:101], train.iloc[:,0], test_size=.3, shuffle=True, random_state=1)\n",
    "\n",
    "#CATB IB\n",
    "times = []\n",
    "catb_ib = catboost.CatBoostClassifier(random_state=1, thread_count=-1, verbose=0, cat_features=get_indexes(), nan_mode='Min', one_hot_max_size=256)\n",
    "fit_benchmark(catb_ib, X_train, y_train, \"Default CATB_IB\", LOOPS)\n",
    "print(\"\")\n",
    "\n",
    "#CATB IB (Tuned)\n",
    "tuning = parse_tune('Models/CATB/Tuning/Manual/RYZEN3b_CATB_IB.tune')\n",
    "tuned_catb_ib = catboost.CatBoostClassifier(**tuning, random_state=1, thread_count=-1, verbose=0, cat_features=get_indexes(), nan_mode='Min', one_hot_max_size=256)\n",
    "fit_benchmark(tuned_catb_ib,X_train,y_train, \"Tuned CATB_IB\", LOOPS)"
   ]
  },
  {
   "cell_type": "markdown",
   "metadata": {},
   "source": [
    "# 2 Predict Speed"
   ]
  },
  {
   "cell_type": "code",
   "execution_count": 24,
   "metadata": {},
   "outputs": [],
   "source": [
    "DF_LGBM_TB = pd.read_csv('Dataset/LGBM_TB_Test.csv', low_memory=False) #<== Point these to the proper Test/Holdout datasets.\n",
    "DF_LGBM_IB = pd.read_csv('Dataset/LGBM_IB_Test.csv', low_memory=False)\n",
    "DF_CATB_TB = pd.read_csv('Dataset/CATB_TB_Test.csv', low_memory=False) #<== Point these to the proper Test/Holdout datasets.\n",
    "DF_CATB_IB = pd.read_csv('Dataset/CATB_IB_Test.csv', low_memory=False)\n",
    "DF_CATB_IB.iloc[:,1:101] = DF_CATB_IB.iloc[:,1:101].astype('str')\n",
    "DF_CATB_IB.replace(\"nan\", \"NaN\", inplace=True)\n",
    "\n",
    "def pred_benchmark(model,x,y,title:str,loops:int):\n",
    "    times = []\n",
    "    for i in range(1,loops+1):\n",
    "        print(f\"{title} Round: {i}\", end=\"\\r\")\n",
    "        start = time.time()\n",
    "        model.predict(x)\n",
    "        times.append(time.time()-start)\n",
    "    print(f\"{title}\")\n",
    "    print(f\"Best Time: {min(times)/x.size*1e+9:.4f}ns\")\n",
    "    print(f\"Average Time: {sum(times)/len(times)/x.size*1e+9:.4f}ns\")\n",
    "    print(f\"Worst Time: {max(times)/x.size*1e+9:.4f}ns\")"
   ]
  },
  {
   "cell_type": "code",
   "execution_count": 25,
   "metadata": {},
   "outputs": [
    {
     "name": "stdout",
     "output_type": "stream",
     "text": [
      "Default LightGBM TB Round: 10\n",
      "Best Time: 36.3762ns\n",
      "Average Time: 43.8866ns\n",
      "Worst Time: 58.1588ns\n",
      "\n",
      "Tuned LightGBM TB Round: 10\n",
      "Best Time: 111.5364ns\n",
      "Average Time: 127.5449ns\n",
      "Worst Time: 169.7351ns\n"
     ]
    }
   ],
   "source": [
    "pred_benchmark(lgbm_tb, DF_LGBM_TB.iloc[:,1:101], DF_LGBM_TB.iloc[:,0], \"Default LightGBM TB\", LOOPS)\n",
    "print(\"\")\n",
    "\n",
    "pred_benchmark(tuned_lgbm_tb, DF_LGBM_TB.iloc[:,1:101], DF_LGBM_TB.iloc[:,0], \"Tuned LightGBM TB\", LOOPS)"
   ]
  },
  {
   "cell_type": "code",
   "execution_count": 26,
   "metadata": {},
   "outputs": [
    {
     "name": "stdout",
     "output_type": "stream",
     "text": [
      "Default LightGBM IB Round: 10\n",
      "Best Time: 33.9376ns\n",
      "Average Time: 41.4613ns\n",
      "Worst Time: 55.7468ns\n",
      "\n",
      "Tuned LightGBM IB Round: 10\n",
      "Best Time: 193.9793ns\n",
      "Average Time: 216.2932ns\n",
      "Worst Time: 244.9022ns\n"
     ]
    }
   ],
   "source": [
    "pred_benchmark(lgbm_ib, DF_LGBM_IB.iloc[:,1:101], DF_LGBM_IB.iloc[:,0], \"Default LightGBM IB\", LOOPS)\n",
    "print(\"\")\n",
    "\n",
    "pred_benchmark(tuned_lgbm_ib, DF_LGBM_IB.iloc[:,1:101], DF_LGBM_IB.iloc[:,0], \"Tuned LightGBM IB\", LOOPS)"
   ]
  },
  {
   "cell_type": "code",
   "execution_count": 27,
   "metadata": {},
   "outputs": [
    {
     "name": "stdout",
     "output_type": "stream",
     "text": [
      "Default CatBoost TB Round: 10\n",
      "Best Time: 436.4372ns\n",
      "Average Time: 453.7362ns\n",
      "Worst Time: 482.5305ns\n",
      "\n",
      "Tuned CatBoost TB Round: 10\n",
      "Best Time: 434.0415ns\n",
      "Average Time: 445.6808ns\n",
      "Worst Time: 477.6581ns\n"
     ]
    }
   ],
   "source": [
    "pred_benchmark(catb_tb, DF_CATB_TB.iloc[:,1:101], DF_CATB_TB.iloc[:,0], \"Default CatBoost TB\", LOOPS)\n",
    "print(\"\")\n",
    "\n",
    "pred_benchmark(tuned_catb_tb, DF_CATB_TB.iloc[:,1:101], DF_CATB_TB.iloc[:,0], \"Tuned CatBoost TB\", LOOPS)"
   ]
  },
  {
   "cell_type": "code",
   "execution_count": 28,
   "metadata": {},
   "outputs": [
    {
     "name": "stdout",
     "output_type": "stream",
     "text": [
      "Default CatBoost IB Round: 10\n",
      "Best Time: 412.2138ns\n",
      "Average Time: 427.4973ns\n",
      "Worst Time: 443.7453ns\n",
      "\n",
      "Tuned CatBoost IB Round: 10\n",
      "Best Time: 438.9261ns\n",
      "Average Time: 455.6197ns\n",
      "Worst Time: 472.8186ns\n"
     ]
    }
   ],
   "source": [
    "pred_benchmark(catb_ib, DF_CATB_IB.iloc[:,1:101], DF_CATB_IB.iloc[:,0], \"Default CatBoost IB\", LOOPS)\n",
    "print(\"\")\n",
    "\n",
    "pred_benchmark(tuned_catb_ib, DF_CATB_IB.iloc[:,1:101], DF_CATB_IB.iloc[:,0], \"Tuned CatBoost IB\", LOOPS)"
   ]
  }
 ],
 "metadata": {
  "kernelspec": {
   "display_name": "Python 3 (ipykernel)",
   "language": "python",
   "name": "python3"
  },
  "language_info": {
   "codemirror_mode": {
    "name": "ipython",
    "version": 3
   },
   "file_extension": ".py",
   "mimetype": "text/x-python",
   "name": "python",
   "nbconvert_exporter": "python",
   "pygments_lexer": "ipython3",
   "version": "3.11.5"
  }
 },
 "nbformat": 4,
 "nbformat_minor": 2
}
