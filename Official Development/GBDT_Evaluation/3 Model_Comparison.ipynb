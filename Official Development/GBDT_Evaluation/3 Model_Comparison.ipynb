{
 "cells": [
  {
   "cell_type": "markdown",
   "metadata": {},
   "source": [
    "# Model Comparison\n",
    "\n",
    "**Objectives**\n",
    "- Take note of the results of previous performance tests that used the Holdout Method (i.e., during Model Robustness Test)\n",
    "- Using `McNemar Test`, determine any differences between GBDT Models (e.g., LGBM Default vs CatBoost Default), between configurations (e.g., LGBM Default vs LGBM Tuned), and between behavior-types (i.e., Time-based LGBM Tuned vs Time-based CatBoost Tuned)\n",
    "- Use whichever dataset is appropriate (probably the Test/Holdout Split).\n",
    "- Take note of the results\n"
   ]
  }
 ],
 "metadata": {
  "language_info": {
   "name": "python"
  }
 },
 "nbformat": 4,
 "nbformat_minor": 2
}
