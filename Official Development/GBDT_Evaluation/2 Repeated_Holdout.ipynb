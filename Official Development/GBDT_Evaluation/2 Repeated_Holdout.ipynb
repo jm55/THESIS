{
 "cells": [
  {
   "cell_type": "markdown",
   "metadata": {},
   "source": [
    "# Repeated Holdout Test\n",
    "\n",
    "**Objectives**\n",
    "- Load the Model(s)\n",
    "- Run predictions on the model using the Training/Validation & Holdout/Test* data split using Stratified K-Folds CV (params: k=5 & random_seed=1)\n",
    "- Record the performance of the models (e.g., accuracy, precision, recall, ROC-AUC, etc.) on every CV instance for use in analysis to determine possible occurence of overfitting.\n",
    "\n",
    "*The addition of the use of Holdout/Test split here acts as an addition to the original plan of only using Training/Validation data splits.*"
   ]
  },
  {
   "cell_type": "code",
   "execution_count": null,
   "metadata": {},
   "outputs": [],
   "source": [
    "import pandas as pd"
   ]
  },
  {
   "cell_type": "code",
   "execution_count": null,
   "metadata": {},
   "outputs": [],
   "source": [
    "DF_LGBM_TB = pd.read_csv('../Dataset/TB/LGBM_TB.csv', low_memory=False) #<== Point these to the appropriate Training+Validation datasets.\n",
    "DF_LGBM_IB = pd.read_csv('../Dataset/IB/LGBM_IB.csv', low_memory=False)\n",
    "\n",
    "display(DF_LGBM_TB.head())\n",
    "display(DF_LGBM_IB.head())\n",
    "\n",
    "DF_CATB_TB = pd.read_csv('../Dataset/TB/CATB_TB.csv', low_memory=False)\n",
    "DF_CATB_IB = pd.read_csv('../Dataset/IB/CATB_IB.csv', low_memory=False)\n",
    "\n",
    "display(DF_CATB_TB.head())\n",
    "display(DF_CATB_IB.head())"
   ]
  }
 ],
 "metadata": {
  "kernelspec": {
   "display_name": "base",
   "language": "python",
   "name": "python3"
  },
  "language_info": {
   "name": "python",
   "version": "3.11.5"
  }
 },
 "nbformat": 4,
 "nbformat_minor": 2
}
