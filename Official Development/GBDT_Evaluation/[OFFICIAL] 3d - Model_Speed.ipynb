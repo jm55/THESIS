{
 "cells": [
  {
   "cell_type": "markdown",
   "metadata": {},
   "source": [
    "# Model Speed\n",
    "\n",
    "## Benchmarking the Fit and Predict Speed of the Model\n",
    "\n",
    "1. Benchmarking takes place where each measurement takes 10 rounds.\n",
    "2. Average and Worst times will be recorded.\n",
    "3. Model Performance is not the focus here but rather its speed."
   ]
  },
  {
   "cell_type": "code",
   "execution_count": 1,
   "metadata": {},
   "outputs": [],
   "source": [
    "import pandas as pd\n",
    "import json\n",
    "import time\n",
    "import lightgbm\n",
    "import catboost\n",
    "from sklearn.model_selection import train_test_split\n",
    "\n",
    "from joblib import load\n",
    "import warnings\n",
    "warnings.filterwarnings(\"ignore\")\n",
    "\n",
    "def parse_tune(tune_file:str):\n",
    "    f = open(tune_file, \"r\")\n",
    "    params = f.readline()\n",
    "    f.close()\n",
    "    params = params.replace('\\'', '\\\"')#.replace(\"False\", \"\\\"False\\\"\").replace(\"True\", \"\\\"True\\\"\")\n",
    "    params = json.loads(str(params))\n",
    "    print(params)\n",
    "    return params\n",
    "\n",
    "def get_indexes():\n",
    "    indexes = []\n",
    "    for i in range(100):\n",
    "        indexes.append(f\"t_{i}\")\n",
    "    return indexes\n",
    "\n",
    "LOOPS = 10 # Each benchmark takes 10 rounds per model/behavior-type"
   ]
  },
  {
   "cell_type": "markdown",
   "metadata": {},
   "source": [
    "# 1 Fit Speed"
   ]
  },
  {
   "cell_type": "code",
   "execution_count": 2,
   "metadata": {},
   "outputs": [],
   "source": [
    "def fit_benchmark(model,x,y,title:str,loops:int):\n",
    "    times = []\n",
    "    for i in range(1,loops+1):\n",
    "        print(f\"{title} Round: {i}\", end=\"\\r\")\n",
    "        start = time.time()\n",
    "        model.fit(x,y)\n",
    "        times.append(time.time()-start)\n",
    "    print(f\"{title}\")\n",
    "    print(f\"Best Time: {min(times):.4f}s\")\n",
    "    print(f\"Average Time: {sum(times)/len(times):.4f}s\")\n",
    "    print(f\"Worst Time: {max(times):.4f}s\")"
   ]
  },
  {
   "cell_type": "code",
   "execution_count": 3,
   "metadata": {},
   "outputs": [
    {
     "name": "stdout",
     "output_type": "stream",
     "text": [
      "Default LGBM_TB Round: 10\n",
      "Best Time: 1.2280s\n",
      "Average Time: 1.4103s\n",
      "Worst Time: 1.6161s\n",
      "\n",
      "{'boost_from_average': 'True', 'boosting_type': 'gbdt', 'cat_l2': 10, 'class_weight': 'balanced', 'data_sample_strategy': 'goss', 'device': 'gpu', 'enable_bundle': 'True', 'gpu_use_dp': 'False', 'learning_rate': 0.1, 'max_bin': 255, 'max_depth': 5, 'n_estimators': 500, 'num_leaves': 16, 'objective': 'binary', 'tree_learner': 'feature'}\n",
      "Tuned LGBM_TB Round: 10\n",
      "Best Time: 10.2940s\n",
      "Average Time: 10.6556s\n",
      "Worst Time: 10.9295s\n"
     ]
    }
   ],
   "source": [
    "train = pd.read_csv('../Dataset/TB/LGBM_TB.csv', low_memory=False) #<== Point these to the proper Test/Holdout datasets.\n",
    "X_train, X_valid, y_train, y_valid = train_test_split(train.iloc[:,1:101], train.iloc[:,0], test_size=.3, shuffle=True, random_state=1)\n",
    "\n",
    "#LGBM TB\n",
    "times = []\n",
    "lgbm_tb = lightgbm.LGBMClassifier(random_state=1, n_jobs=0, verbose=-1)\n",
    "fit_benchmark(lgbm_tb, X_train, y_train, \"Default LGBM_TB\", LOOPS)\n",
    "print(\"\")\n",
    "\n",
    "#LGBM TB (Tuned)\n",
    "tuning = parse_tune('../GBDT_Training/Outputs/LGBM/Tuning/Manual/RYZEN3b_LGBM_TB.tune')\n",
    "tuned_lgbm_tb = lightgbm.LGBMClassifier(**tuning, random_state=1, n_jobs=0, verbose=-1,)\n",
    "fit_benchmark(tuned_lgbm_tb,X_train,y_train, \"Tuned LGBM_TB\", LOOPS)"
   ]
  },
  {
   "cell_type": "code",
   "execution_count": 4,
   "metadata": {
    "scrolled": true
   },
   "outputs": [
    {
     "name": "stdout",
     "output_type": "stream",
     "text": [
      "Default LGBM_IB Round: 10\n",
      "Best Time: 0.6190s\n",
      "Average Time: 0.8028s\n",
      "Worst Time: 1.4580s\n",
      "\n",
      "{'boost_from_average': 'True', 'boosting_type': 'gbdt', 'cat_l2': 5, 'class_weight': 'balanced', 'data_sample_strategy': 'goss', 'device': 'gpu', 'enable_bundle': 'True', 'gpu_use_dp': 'False', 'learning_rate': 0.1, 'max_bin': 255, 'max_depth': 5, 'n_estimators': 1000, 'num_leaves': 32, 'objective': 'binary', 'tree_learner': 'feature'}\n",
      "Tuned LGBM_IB Round: 10\n",
      "Best Time: 18.8920s\n",
      "Average Time: 20.2038s\n",
      "Worst Time: 22.5131s\n"
     ]
    }
   ],
   "source": [
    "train = pd.read_csv('../Dataset/IB/LGBM_IB.csv', low_memory=False) #<== Point these to the proper Test/Holdout datasets.\n",
    "X_train, X_valid, y_train, y_valid = train_test_split(train.iloc[:,1:101], train.iloc[:,0], test_size=.3, shuffle=True, random_state=1)\n",
    "\n",
    "#LGBM IB\n",
    "times = []\n",
    "lgbm_ib = lightgbm.LGBMClassifier(random_state=1, n_jobs=0, verbose=-1)\n",
    "fit_benchmark(lgbm_ib, X_train, y_train, \"Default LGBM_IB\", LOOPS)\n",
    "print(\"\")\n",
    "\n",
    "#LGBM IB (Tuned)\n",
    "tuning = parse_tune('../GBDT_Training/Outputs/LGBM/Tuning/Manual/RYZEN3b_LGBM_IB.tune')\n",
    "tuned_lgbm_ib = lightgbm.LGBMClassifier(**tuning, random_state=1, n_jobs=0, verbose=-1,)\n",
    "fit_benchmark(tuned_lgbm_ib,X_train,y_train, \"Tuned LGBM_IB\", LOOPS)"
   ]
  },
  {
   "cell_type": "code",
   "execution_count": 5,
   "metadata": {},
   "outputs": [
    {
     "name": "stdout",
     "output_type": "stream",
     "text": [
      "Default CATB_TB Round: 10\n",
      "Best Time: 28.8650s\n",
      "Average Time: 32.0691s\n",
      "Worst Time: 34.0664s\n",
      "\n",
      "{'boosting_type': 'Ordered', 'bootstrap_type': 'Bayesian', 'gpu_cat_features_storage': 'CpuPinnedMemory', 'grow_policy': 'SymmetricTree', 'l2_leaf_reg': 1, 'learning_rate': 0.1, 'max_depth': 10, 'n_estimators': 500, 'objective': 'Logloss', 'task_type': 'GPU'}\n",
      "Tuned CATB_TB Round: 10\n",
      "Best Time: 256.0980s\n",
      "Average Time: 256.7562s\n",
      "Worst Time: 257.3530s\n"
     ]
    }
   ],
   "source": [
    "train = pd.read_csv('../Dataset/TB/CATB_TB.csv', low_memory=False) #<== Point these to the proper Test/Holdout datasets.\n",
    "X_train, X_valid, y_train, y_valid = train_test_split(train.iloc[:,1:101], train.iloc[:,0], test_size=.3, shuffle=True, random_state=1)\n",
    "\n",
    "#CATB TB\n",
    "times = []\n",
    "catb_tb = catboost.CatBoostClassifier(random_state=1, thread_count=-1, verbose=0, cat_features=get_indexes(), nan_mode='Min', one_hot_max_size=256)\n",
    "fit_benchmark(catb_tb, X_train, y_train, \"Default CATB_TB\", LOOPS)\n",
    "print(\"\")\n",
    "\n",
    "# #CATB TB (Tuned)\n",
    "tuning = parse_tune('../GBDT_Training/Outputs/CATB/Tuning/Manual/RYZEN3b_CATB_TB.tune')\n",
    "tuned_catb_tb = catboost.CatBoostClassifier(**tuning, random_state=1, thread_count=-1, verbose=0, cat_features=get_indexes(), nan_mode='Min', one_hot_max_size=256)\n",
    "fit_benchmark(tuned_catb_tb,X_train,y_train, \"Tuned CATB_TB\", LOOPS)"
   ]
  },
  {
   "cell_type": "code",
   "execution_count": 6,
   "metadata": {},
   "outputs": [
    {
     "name": "stdout",
     "output_type": "stream",
     "text": [
      "Default CATB_IB Round: 10\n",
      "Best Time: 19.4320s\n",
      "Average Time: 23.1057s\n",
      "Worst Time: 23.8640s\n",
      "\n",
      "{'boosting_type': 'Ordered', 'bootstrap_type': 'Bayesian', 'gpu_cat_features_storage': 'CpuPinnedMemory', 'grow_policy': 'SymmetricTree', 'l2_leaf_reg': 1, 'learning_rate': 0.2, 'max_depth': 10, 'n_estimators': 100, 'objective': 'Logloss', 'task_type': 'GPU'}\n",
      "Tuned CATB_IB Round: 10\n",
      "Best Time: 44.5370s\n",
      "Average Time: 44.6619s\n",
      "Worst Time: 44.7300s\n"
     ]
    }
   ],
   "source": [
    "train = pd.read_csv('../Dataset/IB/CATB_IB.csv', low_memory=False) #<== Point these to the proper Test/Holdout datasets.\n",
    "train.iloc[:,1:101] = train.iloc[:,1:101].astype('str')\n",
    "train.replace(\"nan\", \"NaN\", inplace=True)\n",
    "X_train, X_valid, y_train, y_valid = train_test_split(train.iloc[:,1:101], train.iloc[:,0], test_size=.3, shuffle=True, random_state=1)\n",
    "\n",
    "#CATB IB\n",
    "times = []\n",
    "catb_ib = catboost.CatBoostClassifier(random_state=1, thread_count=-1, verbose=0, cat_features=get_indexes(), nan_mode='Min', one_hot_max_size=256)\n",
    "fit_benchmark(catb_ib, X_train, y_train, \"Default CATB_IB\", LOOPS)\n",
    "print(\"\")\n",
    "\n",
    "#CATB IB (Tuned)\n",
    "tuning = parse_tune('../GBDT_Training/Outputs/CATB/Tuning/Manual/RYZEN3b_CATB_IB.tune')\n",
    "tuned_catb_ib = catboost.CatBoostClassifier(**tuning, random_state=1, thread_count=-1, verbose=0, cat_features=get_indexes(), nan_mode='Min', one_hot_max_size=256)\n",
    "fit_benchmark(tuned_catb_ib,X_train,y_train, \"Tuned CATB_IB\", LOOPS)"
   ]
  },
  {
   "cell_type": "markdown",
   "metadata": {},
   "source": [
    "# 2 Predict Speed"
   ]
  },
  {
   "cell_type": "code",
   "execution_count": 7,
   "metadata": {},
   "outputs": [],
   "source": [
    "DF_LGBM_TB = pd.read_csv('../Dataset/TB/LGBM_TB_Test.csv', low_memory=False) #<== Point these to the proper Test/Holdout datasets.\n",
    "DF_LGBM_IB = pd.read_csv('../Dataset/IB/LGBM_IB_Test.csv', low_memory=False)\n",
    "DF_CATB_TB = pd.read_csv('../Dataset/TB/CATB_TB_Test.csv', low_memory=False) #<== Point these to the proper Test/Holdout datasets.\n",
    "DF_CATB_IB = pd.read_csv('../Dataset/IB/CATB_IB_Test.csv', low_memory=False)\n",
    "DF_CATB_IB.iloc[:,1:101] = DF_CATB_IB.iloc[:,1:101].astype('str')\n",
    "DF_CATB_IB.replace(\"nan\", \"NaN\", inplace=True)\n",
    "\n",
    "def pred_benchmark(model,x,y,title:str,loops:int):\n",
    "    times = []\n",
    "    for i in range(1,loops+1):\n",
    "        print(f\"{title} Round: {i}\", end=\"\\r\")\n",
    "        start = time.time()\n",
    "        model.predict(x)\n",
    "        times.append(time.time()-start)\n",
    "    print(f\"{title}\")\n",
    "    print(f\"Best Time: {min(times)/x.size*1e+9:.4f}ns\")\n",
    "    print(f\"Average Time: {sum(times)/len(times)/x.size*1e+9:.4f}ns\")\n",
    "    print(f\"Worst Time: {max(times)/x.size*1e+9:.4f}ns\")"
   ]
  },
  {
   "cell_type": "code",
   "execution_count": 8,
   "metadata": {},
   "outputs": [
    {
     "name": "stdout",
     "output_type": "stream",
     "text": [
      "Default LightGBM TB Round: 10\n",
      "Best Time: 36.3600ns\n",
      "Average Time: 40.9791ns\n",
      "Worst Time: 48.4885ns\n",
      "\n",
      "Tuned LightGBM TB Round: 10\n",
      "Best Time: 109.1129ns\n",
      "Average Time: 118.5742ns\n",
      "Worst Time: 140.6571ns\n"
     ]
    }
   ],
   "source": [
    "pred_benchmark(lgbm_tb, DF_LGBM_TB.iloc[:,1:101], DF_LGBM_TB.iloc[:,0], \"Default LightGBM TB\", LOOPS)\n",
    "print(\"\")\n",
    "\n",
    "pred_benchmark(tuned_lgbm_tb, DF_LGBM_TB.iloc[:,1:101], DF_LGBM_TB.iloc[:,0], \"Tuned LightGBM TB\", LOOPS)"
   ]
  },
  {
   "cell_type": "code",
   "execution_count": 9,
   "metadata": {},
   "outputs": [
    {
     "name": "stdout",
     "output_type": "stream",
     "text": [
      "Default LightGBM IB Round: 10\n",
      "Best Time: 33.9388ns\n",
      "Average Time: 37.8273ns\n",
      "Worst Time: 50.9108ns\n",
      "\n",
      "Tuned LightGBM IB Round: 10\n",
      "Best Time: 196.4115ns\n",
      "Average Time: 208.7777ns\n",
      "Worst Time: 223.0671ns\n"
     ]
    }
   ],
   "source": [
    "pred_benchmark(lgbm_ib, DF_LGBM_IB.iloc[:,1:101], DF_LGBM_IB.iloc[:,0], \"Default LightGBM IB\", LOOPS)\n",
    "print(\"\")\n",
    "\n",
    "pred_benchmark(tuned_lgbm_ib, DF_LGBM_IB.iloc[:,1:101], DF_LGBM_IB.iloc[:,0], \"Tuned LightGBM IB\", LOOPS)"
   ]
  },
  {
   "cell_type": "code",
   "execution_count": 10,
   "metadata": {
    "scrolled": true
   },
   "outputs": [
    {
     "name": "stdout",
     "output_type": "stream",
     "text": [
      "Default CatBoost TB Round: 10\n",
      "Best Time: 429.1974ns\n",
      "Average Time: 449.1053ns\n",
      "Worst Time: 477.6789ns\n",
      "\n",
      "Tuned CatBoost TB Round: 10\n",
      "Best Time: 441.3536ns\n",
      "Average Time: 455.4225ns\n",
      "Worst Time: 467.9520ns\n"
     ]
    }
   ],
   "source": [
    "pred_benchmark(catb_tb, DF_CATB_TB.iloc[:,1:101], DF_CATB_TB.iloc[:,0], \"Default CatBoost TB\", LOOPS)\n",
    "print(\"\")\n",
    "\n",
    "pred_benchmark(tuned_catb_tb, DF_CATB_TB.iloc[:,1:101], DF_CATB_TB.iloc[:,0], \"Tuned CatBoost TB\", LOOPS)"
   ]
  },
  {
   "cell_type": "code",
   "execution_count": 11,
   "metadata": {},
   "outputs": [
    {
     "name": "stdout",
     "output_type": "stream",
     "text": [
      "Default CatBoost IB Round: 10\n",
      "Best Time: 412.2144ns\n",
      "Average Time: 424.8295ns\n",
      "Worst Time: 453.4422ns\n",
      "\n",
      "Tuned CatBoost IB Round: 10\n",
      "Best Time: 407.3743ns\n",
      "Average Time: 419.2540ns\n",
      "Worst Time: 431.6209ns\n"
     ]
    }
   ],
   "source": [
    "pred_benchmark(catb_ib, DF_CATB_IB.iloc[:,1:101], DF_CATB_IB.iloc[:,0], \"Default CatBoost IB\", LOOPS)\n",
    "print(\"\")\n",
    "\n",
    "pred_benchmark(tuned_catb_ib, DF_CATB_IB.iloc[:,1:101], DF_CATB_IB.iloc[:,0], \"Tuned CatBoost IB\", LOOPS)"
   ]
  }
 ],
 "metadata": {
  "kernelspec": {
   "display_name": "Python 3 (ipykernel)",
   "language": "python",
   "name": "python3"
  },
  "language_info": {
   "codemirror_mode": {
    "name": "ipython",
    "version": 3
   },
   "file_extension": ".py",
   "mimetype": "text/x-python",
   "name": "python",
   "nbconvert_exporter": "python",
   "pygments_lexer": "ipython3",
   "version": "3.11.5"
  }
 },
 "nbformat": 4,
 "nbformat_minor": 4
}
