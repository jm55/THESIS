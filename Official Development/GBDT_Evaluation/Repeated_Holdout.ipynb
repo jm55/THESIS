{
 "cells": [
  {
   "cell_type": "markdown",
   "metadata": {},
   "source": [
    "# Repeated Holdout Test\n",
    "\n",
    "**Objectives**\n",
    "- Load the Model(s)\n",
    "- Run predictions on the model using the Training/Validation & Holdout/Test* data split using Stratified K-Folds CV (params: k=5 & random_seed=1)\n",
    "- Record the performance of the models (e.g., accuracy, precision, recall, ROC-AUC, etc.) on every CV instance for use in analysis to determine possible occurence of overfitting.\n",
    "\n",
    "**The addition of the use of Holdout/Test split here acts as an addition to the original plan of only using Training/Validation data splits.*"
   ]
  }
 ],
 "metadata": {
  "language_info": {
   "name": "python"
  }
 },
 "nbformat": 4,
 "nbformat_minor": 2
}
