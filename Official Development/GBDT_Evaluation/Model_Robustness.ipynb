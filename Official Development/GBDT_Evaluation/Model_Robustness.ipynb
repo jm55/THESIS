{
 "cells": [
  {
   "cell_type": "markdown",
   "metadata": {},
   "source": [
    "# Model Robustness\n",
    "\n",
    "**Objectives**\n",
    "- Load the Model(s)\n",
    "- Run predictions on the model using the Holdout/Test Datasplit (better if the malicious samples are verified for malware types)\n",
    "- Record instances where the model failed to predict correctly\n",
    "- Record the performance of the models (e.g., accuracy, precision, recall, ROC-AUC, etc.)"
   ]
  }
 ],
 "metadata": {
  "language_info": {
   "name": "python"
  }
 },
 "nbformat": 4,
 "nbformat_minor": 2
}
