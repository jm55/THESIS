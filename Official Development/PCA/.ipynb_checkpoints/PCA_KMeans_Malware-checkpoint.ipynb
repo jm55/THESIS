{
 "cells": [
  {
   "cell_type": "markdown",
   "metadata": {},
   "source": [
    "# PCA\n",
    "\n",
    "**References:**\n",
    "- https://365datascience.com/tutorials/python-tutorials/pca-k-means/\n",
    "- https://www.datacamp.com/tutorial/introduction-t-sne\n",
    "- https://www.geeksforgeeks.org/difference-between-pca-vs-t-sne/\n",
    "\n",
    "The contents of this notebook only clusters both **benign & malicious** samples.\n",
    "\n",
    "**Objectives**\n",
    "- To reduce dimensionality of the dataset.\n",
    "- To obtain optimum number of features whilst retaining dataset's context and value.\n"
   ]
  },
  {
   "cell_type": "markdown",
   "metadata": {},
   "source": [
    "## 1. Import Data"
   ]
  },
  {
   "cell_type": "code",
   "execution_count": null,
   "metadata": {
    "execution": {
     "iopub.execute_input": "2024-04-10T14:00:09.419767Z",
     "iopub.status.busy": "2024-04-10T14:00:09.419767Z",
     "iopub.status.idle": "2024-04-10T14:00:13.444260Z",
     "shell.execute_reply": "2024-04-10T14:00:13.444260Z"
    }
   },
   "outputs": [],
   "source": [
    "# Import Libraries\n",
    "import pandas as pd\n",
    "import warnings\n",
    "from sklearn.cluster import KMeans\n",
    "from sklearn.metrics import silhouette_score\n",
    "from sklearn.metrics import davies_bouldin_score\n",
    "from sklearn.preprocessing import StandardScaler\n",
    "from sklearn.decomposition import PCA, KernelPCA, IncrementalPCA, TruncatedSVD\n",
    "import matplotlib.pyplot as plt\n",
    "import seaborn as sns\n",
    "import numpy as np\n",
    "import plotly.express as px\n",
    "\n",
    "sns.set()\n",
    "warnings.filterwarnings(\"ignore\")\n",
    "\n",
    "df = pd.read_csv('../Dataset/oliveira_labelled.csv')\n",
    "\n",
    "API_LIST = \"../Dataset/api_calls.txt\"\n",
    "DELIMITER = \"NaN\"\n",
    "API_FILE = open(API_LIST,\"r\")\n",
    "APIS = API_FILE.readline().split(',')\n",
    "APIS.append(DELIMITER) #serves as a label for NaN values for Instance-based datasets\n",
    "API_FILE.close()\n",
    "\n",
    "#Inverse Label Encoding\n",
    "def inverse_label(item:str):\n",
    "    global APIS\n",
    "    return item.map(lambda x: APIS[int(x)])\n",
    "\n",
    "def list_to_str(ls:list):\n",
    "    '''Convert list to a stringified version (comma delimited).'''\n",
    "    output = \"\"\n",
    "    for l in ls:\n",
    "        output += str(l) + \",\"\n",
    "    return output[0:len(output)-1]\n",
    "\n",
    "def inject_patterns(inner_df:pd.DataFrame):\n",
    "    '''Injects the API call patterns of each sample as its last column'''\n",
    "    patterns = []\n",
    "    print(\"Injecting API patterns...\")\n",
    "    for row in range(inner_df.shape[0]):\n",
    "        patterns.append(list_to_str(inner_df.iloc[row,1:101].transpose().to_list()))\n",
    "    inner_df['pattern'] = patterns\n",
    "    return inner_df # DBSCAN requires only the numeric label encoded version of the API Calls\n",
    "\n",
    "def ib_convert(input_df:pd.DataFrame):\n",
    "    print(\"Transposing IB...\")\n",
    "    input_df.transpose()\n",
    "    print(\"IB Transposed!\")\n",
    "    print(\"Removing duplicates...\")\n",
    "    print(\"Row:\", end=\" \")\n",
    "    for r in range(input_df.shape[0]):\n",
    "        row = input_df.iloc[r, 1:101].drop_duplicates(keep='first', inplace=False).to_list()\n",
    "        input_df.iloc[r, 1:101] = row + ([307]*(100-len(row)))\n",
    "        if r % 100 == 0:\n",
    "            print(r, end=\" \")\n",
    "    print(\"\\nDuplicates removed!\")\n",
    "    print(\"Retransposing IB (revert)...\")\n",
    "    input_df.transpose()\n",
    "    print(\"IB Retransposed!\")\n",
    "    return input_df\n",
    "\n",
    "# Remove benign samples\n",
    "df = df[df['malware'] != 0]\n",
    "\n",
    "# Remove falsely labelled malicious samples\n",
    "df = df[df['type'] != '_']\n",
    "\n",
    "# Remove specific malware types\n",
    "# removables = ['ransomware', 'miner', 'virus', 'spyware', 'hacktool', 'dropper', 'worm']\n",
    "# for r in removables:\n",
    "#     df = df[df['type'] != r]\n",
    "\n",
    "#Remove type column\n",
    "type_col = df.pop('type')\n",
    "\n",
    "#Removing hash column\n",
    "hash_col = df.pop('hash')\n",
    "\n",
    "#Re-arranging column positions\n",
    "label_col = df.pop('malware')\n",
    "df = pd.concat([label_col, df], axis=1)\n",
    "df = pd.concat([df, hash_col], axis=1) # <=== This will be retained for the benefit of model evaluation.\n",
    "df = pd.concat([df, type_col], axis=1) # <=== This will be retained for the benefit of model evaluation.\n",
    "\n",
    "df"
   ]
  },
  {
   "cell_type": "code",
   "execution_count": null,
   "metadata": {
    "execution": {
     "iopub.execute_input": "2024-04-10T14:00:13.444260Z",
     "iopub.status.busy": "2024-04-10T14:00:13.444260Z",
     "iopub.status.idle": "2024-04-10T14:00:14.891535Z",
     "shell.execute_reply": "2024-04-10T14:00:14.891535Z"
    },
    "scrolled": true
   },
   "outputs": [],
   "source": [
    "#Convert malware types to its numeric equivalents\n",
    "malware_types = ['trojan', 'downloader', 'pua', 'adware', 'ransomware', 'miner', 'virus', 'spyware', 'hacktool', 'dropper', 'worm', 'benign']\n",
    "\n",
    "print(\"Conversion of Malware Type to its Ordinal Encoded Form:\")\n",
    "for m in range(len(malware_types)):\n",
    "    print(f\"{malware_types[m]:10s} = {m}\")\n",
    "\n",
    "malware_types_int = []\n",
    "for i in range(df.shape[0]):\n",
    "    malware_types_int.append(malware_types.index(df.iloc[i,102]))\n",
    "df.insert(103, \"type_int\", malware_types_int, True)\n",
    "df"
   ]
  },
  {
   "cell_type": "markdown",
   "metadata": {},
   "source": [
    "## 2. Applying PCA"
   ]
  },
  {
   "cell_type": "markdown",
   "metadata": {},
   "source": [
    "### 2.1 Applying StandardScaler"
   ]
  },
  {
   "cell_type": "code",
   "execution_count": null,
   "metadata": {
    "execution": {
     "iopub.execute_input": "2024-04-10T14:00:14.910129Z",
     "iopub.status.busy": "2024-04-10T14:00:14.910129Z",
     "iopub.status.idle": "2024-04-10T14:00:15.733488Z",
     "shell.execute_reply": "2024-04-10T14:00:15.733488Z"
    }
   },
   "outputs": [],
   "source": [
    "# Standardization\n",
    "sc = StandardScaler()\n",
    "segmentation_std = sc.fit_transform(df.iloc[:,1:101])\n",
    "pca = PCA(random_state=1)\n",
    "pca.fit(segmentation_std)"
   ]
  },
  {
   "cell_type": "markdown",
   "metadata": {},
   "source": [
    "### 2.2. Visualizing Ideal `n_components` value"
   ]
  },
  {
   "cell_type": "code",
   "execution_count": null,
   "metadata": {
    "execution": {
     "iopub.execute_input": "2024-04-10T14:00:15.733488Z",
     "iopub.status.busy": "2024-04-10T14:00:15.733488Z",
     "iopub.status.idle": "2024-04-10T14:00:16.566141Z",
     "shell.execute_reply": "2024-04-10T14:00:16.566141Z"
    },
    "scrolled": true
   },
   "outputs": [],
   "source": [
    "plt.clf()\n",
    "plt.figure(figsize=(10,6), dpi=300)\n",
    "plt.plot(range(0,100),pca.explained_variance_ratio_.cumsum(), marker = 'o', linestyle='--')\n",
    "plt.title('Explained Variance by Components')\n",
    "plt.xlabel('Number of Components')\n",
    "plt.ylabel('Cumulative Explained Variance')\n",
    "plt.xticks(np.arange(0, 100, 5))\n",
    "plt.yticks(np.arange(0, 1.05, .05))\n",
    "plt.show()"
   ]
  },
  {
   "cell_type": "markdown",
   "metadata": {},
   "source": [
    "While Dr. Mac suggested values of 2,3,4, and 16, with a target PCA variance of 0.95. Other online sources suggest that 0.80 is good enough as well. The PCA variance only reaches >=0.80 at **32 components** while >=0.95 at **69 components** which is still a lot in the grand scheme of things.\n",
    "\n",
    "Results (at 1e10):\n",
    "- 2 = ~0.2500\n",
    "- 3 = ~0.3250\n",
    "- 4 = ~0.3750\n",
    "- 16 = ~0.6500\n",
    "- 32 = ~0.8000\n",
    "- 42 = ~0.8500\n",
    "\n",
    "The explanation behind the ideal the value of being as low as possible is that analysis will be exponential in size the higher the `n_components` is which could be explained by the sample code below.\n",
    "\n",
    "```\n",
    "n_components = 4\n",
    "ctr = 0\n",
    "for i in range(n_components):\n",
    "    for j in range(i+1,n_components):\n",
    "        print(ctr, i, j)\n",
    "        ctr += 1\n",
    "```\n",
    "\n",
    "If it takes quite numerous components before reaching 0.80, then it might be the case that PCA is not suitable for the dataset. An alternative is to try Kernel PCA, albeit at a limited capacity given its computationally and space expensive nature.\n",
    "\n",
    "- https://www.quora.com/How-do-I-check-if-my-dataset-is-suitable-for-PCA-Principal-component-analysis-in-ML-PCA-requires-data-to-be-linear-but-if-my-dataset-has-many-columns-how-do-I-check-that-it-is-linear-especially-when-my-output=\n",
    "- https://medium.com/@khwabkalra1/unleashing-the-power-of-kernel-pca-bce7f4d2923d"
   ]
  },
  {
   "cell_type": "markdown",
   "metadata": {},
   "source": [
    "### 2.3. Applying `n_components` to PCA"
   ]
  },
  {
   "cell_type": "code",
   "execution_count": null,
   "metadata": {
    "execution": {
     "iopub.execute_input": "2024-04-10T14:00:16.566141Z",
     "iopub.status.busy": "2024-04-10T14:00:16.566141Z",
     "iopub.status.idle": "2024-04-10T14:00:17.441725Z",
     "shell.execute_reply": "2024-04-10T14:00:17.441725Z"
    }
   },
   "outputs": [],
   "source": [
    "N_COMPONENTS = 3\n",
    "pca = PCA(n_components=N_COMPONENTS, random_state=1)\n",
    "pca.fit(segmentation_std)\n",
    "scores_pca = pca.transform(segmentation_std)"
   ]
  },
  {
   "cell_type": "markdown",
   "metadata": {},
   "source": [
    "### 2.4. Applying PCA results to K-Means"
   ]
  },
  {
   "cell_type": "code",
   "execution_count": null,
   "metadata": {
    "execution": {
     "iopub.execute_input": "2024-04-10T14:00:17.441725Z",
     "iopub.status.busy": "2024-04-10T14:00:17.441725Z",
     "iopub.status.idle": "2024-04-10T14:08:15.810523Z",
     "shell.execute_reply": "2024-04-10T14:08:15.810523Z"
    },
    "scrolled": true
   },
   "outputs": [],
   "source": [
    "wcss = [] #Within Cluster Sum of Squares or WCSS (aka Intertia)\n",
    "silhouette = []\n",
    "for i in range(1,51):\n",
    "    kmeans_pca = KMeans(n_clusters=i, random_state=1)\n",
    "    kmeans_pca.fit(scores_pca)\n",
    "    wcss.append(kmeans_pca.inertia_)\n",
    "    #silhouette.append(silhouette)\n",
    "    \n",
    "plt.clf()\n",
    "plt.figure(figsize=(10,5), dpi=300)\n",
    "plt.plot(range(1,51), wcss, marker='o', linestyle='--')\n",
    "plt.xlabel(\"Number of Clusters\")\n",
    "plt.ylabel(\"WCSS\")\n",
    "plt.xticks(np.arange(0, 55, 5))\n",
    "plt.title(\"K-Means with PCA Clustering\")\n",
    "plt.show()"
   ]
  },
  {
   "cell_type": "code",
   "execution_count": null,
   "metadata": {
    "scrolled": true
   },
   "outputs": [],
   "source": [
    "for i in range(len(wcss)-1):\n",
    "    print(f\"{i:2d}-{i+1:2d}: {wcss[i]:.4f}-{wcss[i+1]:.4f}, Delta: {wcss[i+1]-wcss[i]:.4f}\")\n",
    "print(\"Average:\", sum(wcss)/len(wcss)*-1) # Look for the last value that is lower than the ave."
   ]
  },
  {
   "cell_type": "code",
   "execution_count": null,
   "metadata": {
    "execution": {
     "iopub.execute_input": "2024-04-10T14:08:15.810523Z",
     "iopub.status.busy": "2024-04-10T14:08:15.810523Z",
     "iopub.status.idle": "2024-04-10T14:08:42.509878Z",
     "shell.execute_reply": "2024-04-10T14:08:42.509878Z"
    }
   },
   "outputs": [],
   "source": [
    "def kmeans_test(CLUSTERS:int, df):\n",
    "    kmeans = KMeans(n_clusters = CLUSTERS, random_state=1)\n",
    "    kmeans.fit(df)\n",
    "    silhouette = silhouette_score(df, kmeans.labels_, random_state=1)\n",
    "    davies_bouldin = davies_bouldin_score(df, kmeans.labels_)\n",
    "    print(f\"Silhouette Score: {silhouette:.4f}\")\n",
    "    print(f\"Davies Bouldin: {davies_bouldin:.4f}\\n\")\n",
    "    return kmeans\n",
    "\n",
    "# As per PCA WCSS\n",
    "k7 = kmeans_test(7, scores_pca)\n",
    "\n",
    "CLUSTERS = 7"
   ]
  },
  {
   "cell_type": "markdown",
   "metadata": {},
   "source": [
    "### 2.5. Aggregating PCA Dataframes"
   ]
  },
  {
   "cell_type": "code",
   "execution_count": null,
   "metadata": {
    "execution": {
     "iopub.execute_input": "2024-04-10T14:08:42.509878Z",
     "iopub.status.busy": "2024-04-10T14:08:42.509878Z",
     "iopub.status.idle": "2024-04-10T14:08:42.765367Z",
     "shell.execute_reply": "2024-04-10T14:08:42.765367Z"
    }
   },
   "outputs": [],
   "source": [
    "component_list = []\n",
    "for i in range(1,N_COMPONENTS+1):\n",
    "    component_list.append(f\"comp_{i}\")\n",
    "cluster_id = []\n",
    "for i in range(CLUSTERS):\n",
    "    cluster_id.append(f\"c_{i}\")\n",
    "    \n",
    "pca_kmeans = pd.concat([df.iloc[:,1:101].reset_index(drop=True), pd.DataFrame(scores_pca, columns=component_list), df[\"type\"].reset_index(drop=True), df[\"type_int\"].reset_index(drop=True)], axis=1)\n",
    "pca_kmeans['pca_segment'] = k7.labels_\n",
    "pca_kmeans['pca_segment'] = pca_kmeans['pca_segment'].map({0:'c_0', 1:'c_1', 2:'c_2', 3:'c_3', 4:'c_4',\n",
    "                                                               5:'c_5', 6:'c_6', 7:'c_7', 8:'c_8', 9:'c_9',\n",
    "                                                               10:'c_10', 11:'c_11', 12:'c_12', 13:'c_13', 14:'c_14',\n",
    "                                                               15:'c_15', 16:'c_16', 17:'c_17', 18:'c_18', 19:'c_19'})\n",
    "pca_kmeans['pca_segment'].fillna('unseg', inplace=True)\n",
    "pca_kmeans = pca_kmeans.copy(deep=True)\n",
    "display(pca_kmeans.iloc[:,100:100+68])\n",
    "display(pca_kmeans)"
   ]
  },
  {
   "cell_type": "markdown",
   "metadata": {},
   "source": [
    "### 2.6. Verifying results of PCA Kmeans Clustering"
   ]
  },
  {
   "cell_type": "code",
   "execution_count": null,
   "metadata": {
    "execution": {
     "iopub.execute_input": "2024-04-10T14:08:42.765367Z",
     "iopub.status.busy": "2024-04-10T14:08:42.765367Z",
     "iopub.status.idle": "2024-04-10T14:08:42.907923Z",
     "shell.execute_reply": "2024-04-10T14:08:42.907923Z"
    },
    "scrolled": true
   },
   "outputs": [],
   "source": [
    "unsegmented = pca_kmeans[pca_kmeans['pca_segment'] == 'unseg'].shape[0]\n",
    "print(\"# of Unsegmented Samples:\", unsegmented, f\"({unsegmented/df.shape[0]*100:.4f}%)\", \"\\n\")\n",
    "for c in cluster_id:\n",
    "    print(c)\n",
    "    print(pca_kmeans[pca_kmeans['pca_segment'] == c]['type'].value_counts())\n",
    "    print(\"\")"
   ]
  },
  {
   "cell_type": "markdown",
   "metadata": {},
   "source": [
    "### 2.7. Visualizing PCA Scatter"
   ]
  },
  {
   "cell_type": "code",
   "execution_count": null,
   "metadata": {
    "execution": {
     "iopub.execute_input": "2024-04-10T14:08:42.907923Z",
     "iopub.status.busy": "2024-04-10T14:08:42.907923Z",
     "iopub.status.idle": "2024-04-10T14:08:42.918072Z",
     "shell.execute_reply": "2024-04-10T14:08:42.918072Z"
    }
   },
   "outputs": [],
   "source": [
    "def pca_scatter(x:str, y:str, color_scheme:pd.Series, control_df:pd.DataFrame, filename:str, show:bool=True):  \n",
    "    fig = px.scatter(x=control_df[x], y=control_df[y], color=color_scheme,opacity=0.8)\n",
    "    fig.update_layout(\n",
    "        title=f\"PCA Scatter Plot: {x} & {y}\",\n",
    "        xaxis_title=x,\n",
    "        yaxis_title=y,\n",
    "        width=800,\n",
    "        height=600\n",
    "    )\n",
    "    fig.write_image(\"./PCA Visualization/PCA Malicious/\"+filename+\"_\"+x+\"+\"+y+\"_Malware.png\")\n",
    "    if show:\n",
    "        fig.show()"
   ]
  },
  {
   "cell_type": "code",
   "execution_count": null,
   "metadata": {
    "execution": {
     "iopub.execute_input": "2024-04-10T14:08:42.918072Z",
     "iopub.status.busy": "2024-04-10T14:08:42.918072Z",
     "iopub.status.idle": "2024-04-10T14:10:17.531593Z",
     "shell.execute_reply": "2024-04-10T14:10:17.531593Z"
    },
    "scrolled": false
   },
   "outputs": [],
   "source": [
    "# View by PCA Kmeans Segment\n",
    "pca_scatter(component_list[0], component_list[1], pca_kmeans['pca_segment'], pca_kmeans, \"PCA_Segment\")\n",
    "pca_scatter(component_list[0], component_list[2], pca_kmeans['pca_segment'], pca_kmeans, \"PCA_Segment\")\n",
    "# pca_scatter(component_list[0], component_list[3], pca_kmeans['pca_segment'], pca_kmeans, \"PCA_Segment\")\n",
    "pca_scatter(component_list[1], component_list[2], pca_kmeans['pca_segment'], pca_kmeans, \"PCA_Segment\")\n",
    "# pca_scatter(component_list[1], component_list[3], pca_kmeans['pca_segment'], pca_kmeans, \"PCA_Segment\")"
   ]
  },
  {
   "cell_type": "code",
   "execution_count": null,
   "metadata": {
    "execution": {
     "iopub.execute_input": "2024-04-10T14:10:17.531593Z",
     "iopub.status.busy": "2024-04-10T14:10:17.531593Z",
     "iopub.status.idle": "2024-04-10T14:11:49.358175Z",
     "shell.execute_reply": "2024-04-10T14:11:49.358175Z"
    },
    "scrolled": false
   },
   "outputs": [],
   "source": [
    "# Convert certain malware types to others to simplify viewing\n",
    "# pca_kmeans.replace(\"hacktool\",\"others\",inplace=True)\n",
    "# pca_kmeans.replace(\"miner\",\"others\",inplace=True)\n",
    "# pca_kmeans.replace(\"virus\",\"others\",inplace=True)\n",
    "# pca_kmeans.replace(\"spyware\",\"others\",inplace=True)\n",
    "# pca_kmeans.replace(\"ransomware\",\"others\",inplace=True)\n",
    "# pca_kmeans.replace(\"dropper\",\"others\",inplace=True)\n",
    "# pca_kmeans.replace(\"worm\",\"others\",inplace=True)\n",
    "\n",
    "# View by type\n",
    "pca_scatter(component_list[0], component_list[1], pca_kmeans['type'], pca_kmeans, \"PCA_Type\")\n",
    "pca_scatter(component_list[0], component_list[2], pca_kmeans['type'], pca_kmeans, \"PCA_Type\")\n",
    "# pca_scatter(component_list[0], component_list[3], pca_kmeans['type'], pca_kmeans, \"PCA_Type\")\n",
    "pca_scatter(component_list[1], component_list[2], pca_kmeans['type'], pca_kmeans, \"PCA_Type\")\n",
    "# pca_scatter(component_list[1], component_list[3], pca_kmeans['type'], pca_kmeans, \"PCA_Type\")"
   ]
  }
 ],
 "metadata": {
  "kernelspec": {
   "display_name": "Python 3 (ipykernel)",
   "language": "python",
   "name": "python3"
  },
  "language_info": {
   "codemirror_mode": {
    "name": "ipython",
    "version": 3
   },
   "file_extension": ".py",
   "mimetype": "text/x-python",
   "name": "python",
   "nbconvert_exporter": "python",
   "pygments_lexer": "ipython3",
   "version": "3.11.5"
  }
 },
 "nbformat": 4,
 "nbformat_minor": 2
}
