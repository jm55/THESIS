{
 "cells": [
  {
   "cell_type": "markdown",
   "metadata": {},
   "source": [
    "# TSNE\n",
    "\n",
    "**References:**\n",
    "- https://365datascience.com/tutorials/python-tutorials/pca-k-means/\n",
    "- https://www.datacamp.com/tutorial/introduction-t-sne\n",
    "- https://www.geeksforgeeks.org/difference-between-pca-vs-t-sne/\n",
    "\n",
    "The contents of this notebook only clusters **malicious** samples.\n",
    "\n",
    "**Objectives**\n",
    "- To reduce dimensionality of the dataset.\n",
    "- To obtain optimum number of features whilst retaining dataset's context and value.\n"
   ]
  },
  {
   "cell_type": "markdown",
   "metadata": {},
   "source": [
    "## 1. Import Data"
   ]
  },
  {
   "cell_type": "code",
   "execution_count": 1,
   "metadata": {},
   "outputs": [
    {
     "name": "stderr",
     "output_type": "stream",
     "text": [
      "\n",
      "KeyboardInterrupt\n",
      "\n"
     ]
    }
   ],
   "source": [
    "# Import Libraries\n",
    "import pandas as pd\n",
    "import warnings\n",
    "from sklearn.cluster import KMeans\n",
    "from sklearn.metrics import silhouette_score\n",
    "from sklearn.metrics import davies_bouldin_score\n",
    "from sklearn.preprocessing import StandardScaler\n",
    "from sklearn.decomposition import PCA\n",
    "import matplotlib.pyplot as plt\n",
    "import seaborn as sns\n",
    "import numpy as np\n",
    "import plotly.express as px\n",
    "from sklearn.manifold import TSNE\n",
    "import time\n",
    "\n",
    "sns.set()\n",
    "warnings.filterwarnings(\"ignore\")\n",
    "\n",
    "df = pd.read_csv('./Dataset/oliveira_labelled.csv')\n",
    "\n",
    "API_LIST = \"./Dataset/api_calls.txt\"\n",
    "DELIMITER = \"NaN\"\n",
    "API_FILE = open(API_LIST,\"r\")\n",
    "APIS = API_FILE.readline().split(',')\n",
    "APIS.append(DELIMITER) #serves as a label for NaN values for Instance-based datasets\n",
    "API_FILE.close()\n",
    "\n",
    "#Inverse Label Encoding\n",
    "def inverse_label(item:str):\n",
    "    global APIS\n",
    "    return item.map(lambda x: APIS[int(x)])\n",
    "\n",
    "def list_to_str(ls:list):\n",
    "    '''Convert list to a stringified version (comma delimited).'''\n",
    "    output = \"\"\n",
    "    for l in ls:\n",
    "        output += str(l) + \",\"\n",
    "    return output[0:len(output)-1]\n",
    "\n",
    "def inject_patterns(inner_df:pd.DataFrame):\n",
    "    '''Injects the API call patterns of each sample as its last column'''\n",
    "    patterns = []\n",
    "    print(\"Injecting API patterns...\")\n",
    "    for row in range(inner_df.shape[0]):\n",
    "        patterns.append(list_to_str(inner_df.iloc[row,1:101].transpose().to_list()))\n",
    "    inner_df['pattern'] = patterns\n",
    "    return inner_df # DBSCAN requires only the numeric label encoded version of the API Calls\n",
    "\n",
    "def ib_convert(input_df:pd.DataFrame):\n",
    "    print(\"Transposing IB...\")\n",
    "    input_df.transpose()\n",
    "    print(\"IB Transposed!\")\n",
    "    print(\"Removing duplicates...\")\n",
    "    print(\"Row:\", end=\" \")\n",
    "    for r in range(input_df.shape[0]):\n",
    "        row = input_df.iloc[r, 1:101].drop_duplicates(keep='first', inplace=False).to_list()\n",
    "        input_df.iloc[r, 1:101] = row + ([307]*(100-len(row)))\n",
    "        if r % 100 == 0:\n",
    "            print(r, end=\" \")\n",
    "    print(\"\\nDuplicates removed!\")\n",
    "    print(\"Retransposing IB (revert)...\")\n",
    "    input_df.transpose()\n",
    "    print(\"IB Retransposed!\")\n",
    "    return input_df\n",
    "\n",
    "# Remove benign samples\n",
    "# df = df[df['type'] != 'benign']\n",
    "\n",
    "# Remove falsely labelled malicious samples\n",
    "df = df[df['type'] != '_']\n",
    "\n",
    "# Remove specific malware types\n",
    "# removables = ['ransomware', 'miner', 'virus', 'spyware', 'hacktool', 'dropper', 'worm']\n",
    "# for r in removables:\n",
    "#     df = df[df['type'] != r]\n",
    "\n",
    "#Remove type column\n",
    "type_col = df.pop('type')\n",
    "\n",
    "#Removing hash column\n",
    "hash_col = df.pop('hash')\n",
    "\n",
    "#Re-arranging column positions\n",
    "label_col = df.pop('malware')\n",
    "df = pd.concat([label_col, df], axis=1)\n",
    "df = pd.concat([df, hash_col], axis=1) # <=== This will be retained for the benefit of model evaluation.\n",
    "df = pd.concat([df, type_col], axis=1) # <=== This will be retained for the benefit of model evaluation.\n",
    "\n",
    "df"
   ]
  },
  {
   "cell_type": "code",
   "execution_count": null,
   "metadata": {
    "scrolled": true
   },
   "outputs": [],
   "source": [
    "#Convert malware types to its numeric equivalents\n",
    "malware_types = ['trojan', 'downloader', 'pua', 'adware', 'ransomware', 'miner', 'virus', 'spyware', 'hacktool', 'dropper', 'worm', 'benign']\n",
    "\n",
    "print(\"Conversion of Malware Type to its Ordinal Encoded Form:\")\n",
    "for m in range(len(malware_types)):\n",
    "    print(f\"{malware_types[m]:10s} = {m}\")\n",
    "\n",
    "malware_types_int = []\n",
    "for i in range(df.shape[0]):\n",
    "    malware_types_int.append(malware_types.index(df.iloc[i,102]))\n",
    "df.insert(103, \"type_int\", malware_types_int, True)\n",
    "df"
   ]
  },
  {
   "cell_type": "markdown",
   "metadata": {},
   "source": [
    "## 2. Applying TSNE"
   ]
  },
  {
   "cell_type": "markdown",
   "metadata": {},
   "source": [
    "### 2.1 Benchmarking tSNE"
   ]
  },
  {
   "cell_type": "code",
   "execution_count": null,
   "metadata": {},
   "outputs": [],
   "source": [
    "def tsne_vis(x,y,color_scheme,title:str,perplexity:str=None,show:bool=False):\n",
    "    fig = px.scatter(x=x, y=y, color=color_scheme, opacity=0.8)\n",
    "    fig.update_layout(\n",
    "        title=title,\n",
    "        xaxis_title=\"First t-SNE\", yaxis_title=\"Second t-SNE\",\n",
    "    )\n",
    "    if perplexity is None:\n",
    "        perplexity = \"\"\n",
    "    else:\n",
    "        perplexity = \"_\" + perplexity\n",
    "    fig.write_image(f\"TSNE_Visualization{perplexity}.png\")\n",
    "    if show:\n",
    "        fig.show()"
   ]
  },
  {
   "cell_type": "code",
   "execution_count": null,
   "metadata": {
    "scrolled": true
   },
   "outputs": [],
   "source": [
    "divergence = []\n",
    "start = 5\n",
    "end = 100\n",
    "perplexity = np.arange(start,end,5)\n",
    "\n",
    "for i in perplexity:\n",
    "    start_time = time.time()\n",
    "    print(f\"{i}/{end}\", end=\" \")\n",
    "    model = TSNE(n_components=2, perplexity=i, random_state=1, n_iter=1000)\n",
    "    reduced = model.fit_transform(df.iloc[:,1:101])\n",
    "    divergence.append(model.kl_divergence_)\n",
    "    print(f\"{model.kl_divergence_:.4f} {time.time()-start_time:.2f}\")\n",
    "    tsne_vis(reduced[:,0], reduced[:,1], df['type'], f\"t-SNE Benchmark (Perplexity: {i})\", str(i))\n",
    "\n",
    "fig = px.line(x=perplexity, y=divergence, markers=True)\n",
    "fig.update_layout(xaxis_title=\"Perplexity Values\", yaxis_title=\"Divergence\")\n",
    "fig.update_traces(line_color=\"red\", line_width=1)\n",
    "fig.update_layout(title=\"t-SNE Benchmark\")\n",
    "fig.write_image(\"TSNE_Benchmark.png\")\n",
    "fig.show()"
   ]
  },
  {
   "cell_type": "markdown",
   "metadata": {},
   "source": [
    "### 2.2. Running tSNE"
   ]
  },
  {
   "cell_type": "markdown",
   "metadata": {},
   "source": [
    "Based on the results of PCA and for the sake of simplicity in viewing, the following malware types will be translated as \"others\":\n",
    "- hacktool\n",
    "- miner\n",
    "- virus\n",
    "- spyware\n",
    "- ransomware\n",
    "- dropper\n",
    "- worm"
   ]
  },
  {
   "cell_type": "code",
   "execution_count": null,
   "metadata": {},
   "outputs": [],
   "source": [
    "tsne = TSNE(n_components=2, perplexity=45, random_state=1, n_iter=1000)\n",
    "X_tsne = tsne.fit_transform(df.iloc[:,1:101])"
   ]
  },
  {
   "cell_type": "code",
   "execution_count": null,
   "metadata": {},
   "outputs": [],
   "source": [
    "tsne_vis(X_tsne[:,0], X_tsne[:,1], df['type'], \"t-SNE\", None, True)"
   ]
  },
  {
   "cell_type": "code",
   "execution_count": null,
   "metadata": {},
   "outputs": [],
   "source": [
    "# Convert certain malware types to others to simplify viewing\n",
    "df.replace(\"hacktool\",\"others\",inplace=True)\n",
    "df.replace(\"miner\",\"others\",inplace=True)\n",
    "df.replace(\"virus\",\"others\",inplace=True)\n",
    "df.replace(\"spyware\",\"others\",inplace=True)\n",
    "df.replace(\"ransomware\",\"others\",inplace=True)\n",
    "df.replace(\"dropper\",\"others\",inplace=True)\n",
    "df.replace(\"worm\",\"others\",inplace=True)\n",
    "tsne_vis(X_tsne[:,0], X_tsne[:,1], df['type'], \"t-SNE\", None, True)"
   ]
  }
 ],
 "metadata": {
  "kernelspec": {
   "display_name": "Python 3 (ipykernel)",
   "language": "python",
   "name": "python3"
  },
  "language_info": {
   "codemirror_mode": {
    "name": "ipython",
    "version": 3
   },
   "file_extension": ".py",
   "mimetype": "text/x-python",
   "name": "python",
   "nbconvert_exporter": "python",
   "pygments_lexer": "ipython3",
   "version": "3.11.5"
  }
 },
 "nbformat": 4,
 "nbformat_minor": 2
}
