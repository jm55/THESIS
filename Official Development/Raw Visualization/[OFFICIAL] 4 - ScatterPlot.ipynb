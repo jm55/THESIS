{
 "cells": [
  {
   "cell_type": "markdown",
   "metadata": {},
   "source": [
    "# Raw Scatter Plot"
   ]
  },
  {
   "cell_type": "markdown",
   "metadata": {},
   "source": [
    "## 1. Import Data"
   ]
  },
  {
   "cell_type": "code",
   "execution_count": null,
   "metadata": {},
   "outputs": [],
   "source": [
    "# Import Libraries\n",
    "import pandas as pd\n",
    "import warnings\n",
    "from sklearn.cluster import KMeans\n",
    "from sklearn.metrics import silhouette_score\n",
    "from sklearn.metrics import davies_bouldin_score\n",
    "from sklearn.preprocessing import StandardScaler\n",
    "from sklearn.decomposition import PCA\n",
    "import matplotlib.pyplot as plt\n",
    "import seaborn as sns\n",
    "import numpy as np\n",
    "import plotly.express as px\n",
    "\n",
    "sns.set()\n",
    "warnings.filterwarnings(\"ignore\")\n",
    "\n",
    "df = pd.read_csv('../Dataset/oliveira_labelled.csv')\n",
    "\n",
    "API_LIST = \"../Dataset/api_calls.txt\"\n",
    "DELIMITER = \"NaN\"\n",
    "API_FILE = open(API_LIST,\"r\")\n",
    "APIS = API_FILE.readline().split(',')\n",
    "APIS.append(DELIMITER) #serves as a label for NaN values for Instance-based datasets\n",
    "API_FILE.close()\n",
    "\n",
    "#Inverse Label Encoding\n",
    "def inverse_label(item:str):\n",
    "    global APIS\n",
    "    return item.map(lambda x: APIS[int(x)])\n",
    "\n",
    "def list_to_str(ls:list):\n",
    "    '''Convert list to a stringified version (comma delimited).'''\n",
    "    output = \"\"\n",
    "    for l in ls:\n",
    "        output += str(l) + \",\"\n",
    "    return output[0:len(output)-1]\n",
    "\n",
    "def inject_patterns(inner_df:pd.DataFrame):\n",
    "    '''Injects the API call patterns of each sample as its last column'''\n",
    "    patterns = []\n",
    "    print(\"Injecting API patterns...\")\n",
    "    for row in range(inner_df.shape[0]):\n",
    "        patterns.append(list_to_str(inner_df.iloc[row,1:101].transpose().to_list()))\n",
    "    inner_df['pattern'] = patterns\n",
    "    return inner_df # DBSCAN requires only the numeric label encoded version of the API Calls\n",
    "\n",
    "def ib_convert(input_df:pd.DataFrame):\n",
    "    print(\"Transposing IB...\")\n",
    "    input_df.transpose()\n",
    "    print(\"IB Transposed!\")\n",
    "    print(\"Removing duplicates...\")\n",
    "    print(\"Row:\", end=\" \")\n",
    "    for r in range(input_df.shape[0]):\n",
    "        row = input_df.iloc[r, 1:101].drop_duplicates(keep='first', inplace=False).to_list()\n",
    "        input_df.iloc[r, 1:101] = row + ([307]*(100-len(row)))\n",
    "        if r % 100 == 0:\n",
    "            print(r, end=\" \")\n",
    "    print(\"\\nDuplicates removed!\")\n",
    "    print(\"Retransposing IB (revert)...\")\n",
    "    input_df.transpose()\n",
    "    print(\"IB Retransposed!\")\n",
    "    return input_df\n",
    "\n",
    "# Remove benign samples\n",
    "# df = df[df['type'] != 'benign']\n",
    "\n",
    "# Remove falsely labelled malicious samples\n",
    "df = df[df['type'] != '_']\n",
    "\n",
    "# Remove specific malware types\n",
    "# removables = ['ransomware', 'miner', 'virus', 'spyware', 'hacktool', 'dropper', 'worm']\n",
    "# for r in removables:\n",
    "#     df = df[df['type'] != r]\n",
    "\n",
    "#Remove type column\n",
    "type_col = df.pop('type')\n",
    "\n",
    "#Removing hash column\n",
    "hash_col = df.pop('hash')\n",
    "\n",
    "#Re-arranging column positions\n",
    "label_col = df.pop('malware')\n",
    "df = pd.concat([label_col, df], axis=1)\n",
    "df = pd.concat([df, hash_col], axis=1) # <=== This will be retained for the benefit of model evaluation.\n",
    "df = pd.concat([df, type_col], axis=1) # <=== This will be retained for the benefit of model evaluation.\n",
    "\n",
    "df"
   ]
  },
  {
   "cell_type": "code",
   "execution_count": null,
   "metadata": {
    "scrolled": true
   },
   "outputs": [],
   "source": [
    "#Convert malware types to its numeric equivalents\n",
    "malware_types = ['trojan', 'downloader', 'pua', 'adware', 'ransomware', 'miner', 'virus', 'spyware', 'hacktool', 'dropper', 'worm', 'benign']\n",
    "\n",
    "print(\"Conversion of Malware Type to its Ordinal Encoded Form:\")\n",
    "for m in range(len(malware_types)):\n",
    "    print(f\"{malware_types[m]:10s} = {m}\")\n",
    "\n",
    "malware_types_int = []\n",
    "for i in range(df.shape[0]):\n",
    "    malware_types_int.append(malware_types.index(df.iloc[i,102]))\n",
    "df.insert(103, \"type_int\", malware_types_int, True)\n",
    "df"
   ]
  },
  {
   "cell_type": "markdown",
   "metadata": {},
   "source": [
    "## 2. Preview of Dataset via Scatter Plot\n",
    "\n",
    "Compares two each of features (e.g., t_0 and t_1)."
   ]
  },
  {
   "cell_type": "code",
   "execution_count": null,
   "metadata": {},
   "outputs": [],
   "source": [
    "def scatter_plot(x_label:str, y_label:str, filename:str, df:pd.DataFrame):\n",
    "    fig = px.scatter(x=df[x_label], y=df[y_label], color=df['type'], opacity=0.8)\n",
    "    fig.update_layout(\n",
    "        title=f\"Visualization of Raw Data: {x_label} & {y_label}\",\n",
    "        xaxis_title=x_label,\n",
    "        yaxis_title=y_label,\n",
    "    )\n",
    "    fig.write_image(filename+\"_\"+x_label+\"+\"+y_label+\".png\")\n",
    "    # fig.show()"
   ]
  },
  {
   "cell_type": "code",
   "execution_count": null,
   "metadata": {},
   "outputs": [],
   "source": [
    "def render_scatter(df, cols, title:str, path:str):\n",
    "    for i in range(0, len(cols)-1):\n",
    "        scatter_plot(cols[i], cols[i+1], path+title, df)\n",
    "    for i in range(0, len(cols)-1, 10):\n",
    "        scatter_plot(cols[i], cols[i+1], path+title+\"_10s\", control_df)"
   ]
  },
  {
   "cell_type": "code",
   "execution_count": null,
   "metadata": {},
   "outputs": [],
   "source": [
    "#Malware\n",
    "control_df = df[df['malware'] == 1]\n",
    "cols = control_df.iloc[:,1:101].columns.to_list()\n",
    "render_scatter(control_df, cols, \"Scatter_Malware\", \"./Malicious/\")"
   ]
  },
  {
   "cell_type": "code",
   "execution_count": null,
   "metadata": {},
   "outputs": [],
   "source": [
    "#Benign\n",
    "control_df = df[df['malware'] == 0]\n",
    "cols = control_df.iloc[:,1:101].columns.to_list()\n",
    "render_scatter(control_df, cols, \"Scatter_Benign\", \"./Benign/\")"
   ]
  },
  {
   "cell_type": "code",
   "execution_count": null,
   "metadata": {},
   "outputs": [],
   "source": [
    "#All\n",
    "control_df = df\n",
    "cols = control_df.iloc[:,1:101].columns.to_list()\n",
    "render_scatter(control_df, cols, \"Scatter_All\", \"./All/\")"
   ]
  }
 ],
 "metadata": {
  "kernelspec": {
   "display_name": "Python 3 (ipykernel)",
   "language": "python",
   "name": "python3"
  },
  "language_info": {
   "codemirror_mode": {
    "name": "ipython",
    "version": 3
   },
   "file_extension": ".py",
   "mimetype": "text/x-python",
   "name": "python",
   "nbconvert_exporter": "python",
   "pygments_lexer": "ipython3",
   "version": "3.11.5"
  }
 },
 "nbformat": 4,
 "nbformat_minor": 4
}
