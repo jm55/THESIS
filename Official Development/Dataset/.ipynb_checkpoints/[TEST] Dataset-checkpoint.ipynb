{
 "cells": [
  {
   "cell_type": "markdown",
   "id": "505a8151",
   "metadata": {},
   "source": [
    "# Dataset Code Testbed\n",
    "\n",
    "This notebook will conduct code prototyping for executing dataset related processes.\n",
    "\n",
    "Lite version: `oliveira_lite.csv`\n",
    "\n",
    "Whole version: `oliveira.csv`\n",
    "\n",
    "*Note that the hyperparameter `random_state` was set to `1` instead of `None` for test repeatability.*"
   ]
  },
  {
   "cell_type": "code",
   "execution_count": 1,
   "id": "e62958d4",
   "metadata": {},
   "outputs": [],
   "source": [
    "#Python Libraries\n",
    "import time\n",
    "import threading\n",
    "\n",
    "#Data/Dataset libraries\n",
    "import pandas as pd\n",
    "import numpy as np\n",
    "\n",
    "#Split Sampler/Data Splitting\n",
    "from sklearn.model_selection import train_test_split\n",
    "\n",
    "#Oversampler\n",
    "from imblearn.over_sampling import RandomOverSampler, SMOTEN\n",
    "\n",
    "#Label Encoding\n",
    "from sklearn.preprocessing import LabelEncoder\n",
    "\n",
    "#Filenames\n",
    "filename = [\"oliveira_lite.csv\", \"oliveira.csv\"]\n",
    "DATASET_FILENAME = filename[0] #Change accordingly;\n",
    "API_LIST = \"api_calls.txt\"\n",
    "\n",
    "#APIs List\n",
    "API_FILE = open(API_LIST,\"r\")\n",
    "APIS = API_FILE.readline().split(',')\n",
    "APIS.append(\"NaN\") #serves as a label for NaN values for Instance-based datasets\n",
    "API_FILE.close()\n",
    "\n",
    "#Timer\n",
    "start = end = 0\n",
    "def startTime():\n",
    "    global start\n",
    "    start = time.time()\n",
    "def endTime():\n",
    "    global start\n",
    "    elapse = time.time()-start\n",
    "    start = 0\n",
    "    print(f\"Elapsed Time: {round(elapse, 6)}s\\n\")\n",
    "    return round(elapse, 6)"
   ]
  },
  {
   "cell_type": "markdown",
   "id": "d2e27d79",
   "metadata": {},
   "source": [
    "# Loading Dataset File"
   ]
  },
  {
   "cell_type": "code",
   "execution_count": 2,
   "id": "e030f8ce",
   "metadata": {
    "scrolled": true
   },
   "outputs": [
    {
     "name": "stdout",
     "output_type": "stream",
     "text": [
      "Elapsed Time: 0.706485s\n",
      "\n",
      "Dataset Information:\n",
      "<class 'pandas.core.frame.DataFrame'>\n",
      "RangeIndex: 43876 entries, 0 to 43875\n",
      "Columns: 102 entries, hash to malware\n",
      "dtypes: int64(101), object(1)\n",
      "memory usage: 34.1+ MB\n",
      "None\n",
      "\n",
      "Dataset Shape: (43876, 102)\n",
      "\n",
      "Dataset Labels:\n",
      " malware\n",
      "1    42797\n",
      "0     1079\n",
      "Name: count, dtype: int64\n"
     ]
    },
    {
     "data": {
      "text/html": [
       "<div>\n",
       "<style scoped>\n",
       "    .dataframe tbody tr th:only-of-type {\n",
       "        vertical-align: middle;\n",
       "    }\n",
       "\n",
       "    .dataframe tbody tr th {\n",
       "        vertical-align: top;\n",
       "    }\n",
       "\n",
       "    .dataframe thead th {\n",
       "        text-align: right;\n",
       "    }\n",
       "</style>\n",
       "<table border=\"1\" class=\"dataframe\">\n",
       "  <thead>\n",
       "    <tr style=\"text-align: right;\">\n",
       "      <th></th>\n",
       "      <th>hash</th>\n",
       "      <th>t_0</th>\n",
       "      <th>t_1</th>\n",
       "      <th>t_2</th>\n",
       "      <th>t_3</th>\n",
       "      <th>t_4</th>\n",
       "      <th>t_5</th>\n",
       "      <th>t_6</th>\n",
       "      <th>t_7</th>\n",
       "      <th>t_8</th>\n",
       "      <th>...</th>\n",
       "      <th>t_91</th>\n",
       "      <th>t_92</th>\n",
       "      <th>t_93</th>\n",
       "      <th>t_94</th>\n",
       "      <th>t_95</th>\n",
       "      <th>t_96</th>\n",
       "      <th>t_97</th>\n",
       "      <th>t_98</th>\n",
       "      <th>t_99</th>\n",
       "      <th>malware</th>\n",
       "    </tr>\n",
       "  </thead>\n",
       "  <tbody>\n",
       "    <tr>\n",
       "      <th>0</th>\n",
       "      <td>071e8c3f8922e186e57548cd4c703a5d</td>\n",
       "      <td>112</td>\n",
       "      <td>274</td>\n",
       "      <td>158</td>\n",
       "      <td>215</td>\n",
       "      <td>274</td>\n",
       "      <td>158</td>\n",
       "      <td>215</td>\n",
       "      <td>298</td>\n",
       "      <td>76</td>\n",
       "      <td>...</td>\n",
       "      <td>71</td>\n",
       "      <td>297</td>\n",
       "      <td>135</td>\n",
       "      <td>171</td>\n",
       "      <td>215</td>\n",
       "      <td>35</td>\n",
       "      <td>208</td>\n",
       "      <td>56</td>\n",
       "      <td>71</td>\n",
       "      <td>1</td>\n",
       "    </tr>\n",
       "    <tr>\n",
       "      <th>1</th>\n",
       "      <td>33f8e6d08a6aae939f25a8e0d63dd523</td>\n",
       "      <td>82</td>\n",
       "      <td>208</td>\n",
       "      <td>187</td>\n",
       "      <td>208</td>\n",
       "      <td>172</td>\n",
       "      <td>117</td>\n",
       "      <td>172</td>\n",
       "      <td>117</td>\n",
       "      <td>172</td>\n",
       "      <td>...</td>\n",
       "      <td>81</td>\n",
       "      <td>240</td>\n",
       "      <td>117</td>\n",
       "      <td>71</td>\n",
       "      <td>297</td>\n",
       "      <td>135</td>\n",
       "      <td>171</td>\n",
       "      <td>215</td>\n",
       "      <td>35</td>\n",
       "      <td>1</td>\n",
       "    </tr>\n",
       "    <tr>\n",
       "      <th>2</th>\n",
       "      <td>b68abd064e975e1c6d5f25e748663076</td>\n",
       "      <td>16</td>\n",
       "      <td>110</td>\n",
       "      <td>240</td>\n",
       "      <td>117</td>\n",
       "      <td>240</td>\n",
       "      <td>117</td>\n",
       "      <td>240</td>\n",
       "      <td>117</td>\n",
       "      <td>240</td>\n",
       "      <td>...</td>\n",
       "      <td>65</td>\n",
       "      <td>112</td>\n",
       "      <td>123</td>\n",
       "      <td>65</td>\n",
       "      <td>112</td>\n",
       "      <td>123</td>\n",
       "      <td>65</td>\n",
       "      <td>113</td>\n",
       "      <td>112</td>\n",
       "      <td>1</td>\n",
       "    </tr>\n",
       "    <tr>\n",
       "      <th>3</th>\n",
       "      <td>72049be7bd30ea61297ea624ae198067</td>\n",
       "      <td>82</td>\n",
       "      <td>208</td>\n",
       "      <td>187</td>\n",
       "      <td>208</td>\n",
       "      <td>172</td>\n",
       "      <td>117</td>\n",
       "      <td>172</td>\n",
       "      <td>117</td>\n",
       "      <td>172</td>\n",
       "      <td>...</td>\n",
       "      <td>208</td>\n",
       "      <td>302</td>\n",
       "      <td>208</td>\n",
       "      <td>302</td>\n",
       "      <td>187</td>\n",
       "      <td>208</td>\n",
       "      <td>302</td>\n",
       "      <td>228</td>\n",
       "      <td>302</td>\n",
       "      <td>1</td>\n",
       "    </tr>\n",
       "    <tr>\n",
       "      <th>4</th>\n",
       "      <td>c9b3700a77facf29172f32df6bc77f48</td>\n",
       "      <td>82</td>\n",
       "      <td>240</td>\n",
       "      <td>117</td>\n",
       "      <td>240</td>\n",
       "      <td>117</td>\n",
       "      <td>240</td>\n",
       "      <td>117</td>\n",
       "      <td>240</td>\n",
       "      <td>117</td>\n",
       "      <td>...</td>\n",
       "      <td>209</td>\n",
       "      <td>260</td>\n",
       "      <td>40</td>\n",
       "      <td>209</td>\n",
       "      <td>260</td>\n",
       "      <td>141</td>\n",
       "      <td>260</td>\n",
       "      <td>141</td>\n",
       "      <td>260</td>\n",
       "      <td>1</td>\n",
       "    </tr>\n",
       "  </tbody>\n",
       "</table>\n",
       "<p>5 rows × 102 columns</p>\n",
       "</div>"
      ],
      "text/plain": [
       "                               hash  t_0  t_1  t_2  t_3  t_4  t_5  t_6  t_7  \\\n",
       "0  071e8c3f8922e186e57548cd4c703a5d  112  274  158  215  274  158  215  298   \n",
       "1  33f8e6d08a6aae939f25a8e0d63dd523   82  208  187  208  172  117  172  117   \n",
       "2  b68abd064e975e1c6d5f25e748663076   16  110  240  117  240  117  240  117   \n",
       "3  72049be7bd30ea61297ea624ae198067   82  208  187  208  172  117  172  117   \n",
       "4  c9b3700a77facf29172f32df6bc77f48   82  240  117  240  117  240  117  240   \n",
       "\n",
       "   t_8  ...  t_91  t_92  t_93  t_94  t_95  t_96  t_97  t_98  t_99  malware  \n",
       "0   76  ...    71   297   135   171   215    35   208    56    71        1  \n",
       "1  172  ...    81   240   117    71   297   135   171   215    35        1  \n",
       "2  240  ...    65   112   123    65   112   123    65   113   112        1  \n",
       "3  172  ...   208   302   208   302   187   208   302   228   302        1  \n",
       "4  117  ...   209   260    40   209   260   141   260   141   260        1  \n",
       "\n",
       "[5 rows x 102 columns]"
      ]
     },
     "execution_count": 2,
     "metadata": {},
     "output_type": "execute_result"
    }
   ],
   "source": [
    "startTime()\n",
    "oli = pd.read_csv(DATASET_FILENAME, low_memory=False, memory_map=True)\n",
    "endTime()\n",
    "\n",
    "#Dataset Information\n",
    "print(\"Dataset Information:\")\n",
    "print(oli.info())\n",
    "print(\"\\nDataset Shape:\", oli.shape)\n",
    "\n",
    "#Dataset Labels:\n",
    "print('\\nDataset Labels:\\n',oli['malware'].value_counts())\n",
    "\n",
    "oli.head()"
   ]
  },
  {
   "cell_type": "markdown",
   "id": "c9f2764b",
   "metadata": {},
   "source": [
    "# Dataset Preparation"
   ]
  },
  {
   "cell_type": "code",
   "execution_count": 3,
   "id": "ebdb953f",
   "metadata": {
    "scrolled": true
   },
   "outputs": [
    {
     "ename": "KeyboardInterrupt",
     "evalue": "",
     "output_type": "error",
     "traceback": [
      "\u001b[1;31m---------------------------------------------------------------------------\u001b[0m",
      "\u001b[1;31mKeyboardInterrupt\u001b[0m                         Traceback (most recent call last)",
      "Cell \u001b[1;32mIn[3], line 11\u001b[0m\n\u001b[0;32m      9\u001b[0m     \u001b[38;5;28;01mglobal\u001b[39;00m APIS\n\u001b[0;32m     10\u001b[0m     \u001b[38;5;28;01mreturn\u001b[39;00m item\u001b[38;5;241m.\u001b[39mmap(\u001b[38;5;28;01mlambda\u001b[39;00m x: APIS[\u001b[38;5;28mint\u001b[39m(x)])\n\u001b[1;32m---> 11\u001b[0m oli\u001b[38;5;241m.\u001b[39miloc[:, \u001b[38;5;241m2\u001b[39m:] \u001b[38;5;241m=\u001b[39m oli\u001b[38;5;241m.\u001b[39miloc[:, \u001b[38;5;241m2\u001b[39m:]\u001b[38;5;241m.\u001b[39mapply(inverse_label, axis\u001b[38;5;241m=\u001b[39m\u001b[38;5;241m1\u001b[39m, result_type\u001b[38;5;241m=\u001b[39m\u001b[38;5;124m'\u001b[39m\u001b[38;5;124mreduce\u001b[39m\u001b[38;5;124m'\u001b[39m)\n\u001b[0;32m     12\u001b[0m \u001b[38;5;28mprint\u001b[39m(\u001b[38;5;124m\"\u001b[39m\u001b[38;5;124m\"\u001b[39m)\n\u001b[0;32m     13\u001b[0m endTime()\n",
      "File \u001b[1;32m~\\anaconda3\\Lib\\site-packages\\pandas\\core\\frame.py:9423\u001b[0m, in \u001b[0;36mDataFrame.apply\u001b[1;34m(self, func, axis, raw, result_type, args, **kwargs)\u001b[0m\n\u001b[0;32m   9412\u001b[0m \u001b[38;5;28;01mfrom\u001b[39;00m \u001b[38;5;21;01mpandas\u001b[39;00m\u001b[38;5;21;01m.\u001b[39;00m\u001b[38;5;21;01mcore\u001b[39;00m\u001b[38;5;21;01m.\u001b[39;00m\u001b[38;5;21;01mapply\u001b[39;00m \u001b[38;5;28;01mimport\u001b[39;00m frame_apply\n\u001b[0;32m   9414\u001b[0m op \u001b[38;5;241m=\u001b[39m frame_apply(\n\u001b[0;32m   9415\u001b[0m     \u001b[38;5;28mself\u001b[39m,\n\u001b[0;32m   9416\u001b[0m     func\u001b[38;5;241m=\u001b[39mfunc,\n\u001b[1;32m   (...)\u001b[0m\n\u001b[0;32m   9421\u001b[0m     kwargs\u001b[38;5;241m=\u001b[39mkwargs,\n\u001b[0;32m   9422\u001b[0m )\n\u001b[1;32m-> 9423\u001b[0m \u001b[38;5;28;01mreturn\u001b[39;00m op\u001b[38;5;241m.\u001b[39mapply()\u001b[38;5;241m.\u001b[39m__finalize__(\u001b[38;5;28mself\u001b[39m, method\u001b[38;5;241m=\u001b[39m\u001b[38;5;124m\"\u001b[39m\u001b[38;5;124mapply\u001b[39m\u001b[38;5;124m\"\u001b[39m)\n",
      "File \u001b[1;32m~\\anaconda3\\Lib\\site-packages\\pandas\\core\\apply.py:678\u001b[0m, in \u001b[0;36mFrameApply.apply\u001b[1;34m(self)\u001b[0m\n\u001b[0;32m    675\u001b[0m \u001b[38;5;28;01melif\u001b[39;00m \u001b[38;5;28mself\u001b[39m\u001b[38;5;241m.\u001b[39mraw:\n\u001b[0;32m    676\u001b[0m     \u001b[38;5;28;01mreturn\u001b[39;00m \u001b[38;5;28mself\u001b[39m\u001b[38;5;241m.\u001b[39mapply_raw()\n\u001b[1;32m--> 678\u001b[0m \u001b[38;5;28;01mreturn\u001b[39;00m \u001b[38;5;28mself\u001b[39m\u001b[38;5;241m.\u001b[39mapply_standard()\n",
      "File \u001b[1;32m~\\anaconda3\\Lib\\site-packages\\pandas\\core\\apply.py:798\u001b[0m, in \u001b[0;36mFrameApply.apply_standard\u001b[1;34m(self)\u001b[0m\n\u001b[0;32m    797\u001b[0m \u001b[38;5;28;01mdef\u001b[39;00m \u001b[38;5;21mapply_standard\u001b[39m(\u001b[38;5;28mself\u001b[39m):\n\u001b[1;32m--> 798\u001b[0m     results, res_index \u001b[38;5;241m=\u001b[39m \u001b[38;5;28mself\u001b[39m\u001b[38;5;241m.\u001b[39mapply_series_generator()\n\u001b[0;32m    800\u001b[0m     \u001b[38;5;66;03m# wrap results\u001b[39;00m\n\u001b[0;32m    801\u001b[0m     \u001b[38;5;28;01mreturn\u001b[39;00m \u001b[38;5;28mself\u001b[39m\u001b[38;5;241m.\u001b[39mwrap_results(results, res_index)\n",
      "File \u001b[1;32m~\\anaconda3\\Lib\\site-packages\\pandas\\core\\apply.py:818\u001b[0m, in \u001b[0;36mFrameApply.apply_series_generator\u001b[1;34m(self)\u001b[0m\n\u001b[0;32m    814\u001b[0m         results[i] \u001b[38;5;241m=\u001b[39m \u001b[38;5;28mself\u001b[39m\u001b[38;5;241m.\u001b[39mf(v)\n\u001b[0;32m    815\u001b[0m         \u001b[38;5;28;01mif\u001b[39;00m \u001b[38;5;28misinstance\u001b[39m(results[i], ABCSeries):\n\u001b[0;32m    816\u001b[0m             \u001b[38;5;66;03m# If we have a view on v, we need to make a copy because\u001b[39;00m\n\u001b[0;32m    817\u001b[0m             \u001b[38;5;66;03m#  series_generator will swap out the underlying data\u001b[39;00m\n\u001b[1;32m--> 818\u001b[0m             results[i] \u001b[38;5;241m=\u001b[39m results[i]\u001b[38;5;241m.\u001b[39mcopy(deep\u001b[38;5;241m=\u001b[39m\u001b[38;5;28;01mFalse\u001b[39;00m)\n\u001b[0;32m    820\u001b[0m \u001b[38;5;28;01mreturn\u001b[39;00m results, res_index\n",
      "File \u001b[1;32m~\\anaconda3\\Lib\\site-packages\\pandas\\core\\generic.py:6454\u001b[0m, in \u001b[0;36mNDFrame.copy\u001b[1;34m(self, deep)\u001b[0m\n\u001b[0;32m   6452\u001b[0m data \u001b[38;5;241m=\u001b[39m \u001b[38;5;28mself\u001b[39m\u001b[38;5;241m.\u001b[39m_mgr\u001b[38;5;241m.\u001b[39mcopy(deep\u001b[38;5;241m=\u001b[39mdeep)\n\u001b[0;32m   6453\u001b[0m \u001b[38;5;28mself\u001b[39m\u001b[38;5;241m.\u001b[39m_clear_item_cache()\n\u001b[1;32m-> 6454\u001b[0m \u001b[38;5;28;01mreturn\u001b[39;00m \u001b[38;5;28mself\u001b[39m\u001b[38;5;241m.\u001b[39m_constructor(data)\u001b[38;5;241m.\u001b[39m__finalize__(\u001b[38;5;28mself\u001b[39m, method\u001b[38;5;241m=\u001b[39m\u001b[38;5;124m\"\u001b[39m\u001b[38;5;124mcopy\u001b[39m\u001b[38;5;124m\"\u001b[39m)\n",
      "File \u001b[1;32m~\\anaconda3\\Lib\\site-packages\\pandas\\core\\series.py:391\u001b[0m, in \u001b[0;36mSeries.__init__\u001b[1;34m(self, data, index, dtype, name, copy, fastpath)\u001b[0m\n\u001b[0;32m    389\u001b[0m         \u001b[38;5;28mobject\u001b[39m\u001b[38;5;241m.\u001b[39m\u001b[38;5;21m__setattr__\u001b[39m(\u001b[38;5;28mself\u001b[39m, \u001b[38;5;124m\"\u001b[39m\u001b[38;5;124m_name\u001b[39m\u001b[38;5;124m\"\u001b[39m, name)\n\u001b[0;32m    390\u001b[0m     \u001b[38;5;28;01melse\u001b[39;00m:\n\u001b[1;32m--> 391\u001b[0m         \u001b[38;5;28mself\u001b[39m\u001b[38;5;241m.\u001b[39mname \u001b[38;5;241m=\u001b[39m name\n\u001b[0;32m    392\u001b[0m     \u001b[38;5;28;01mreturn\u001b[39;00m\n\u001b[0;32m    394\u001b[0m \u001b[38;5;28;01mif\u001b[39;00m \u001b[38;5;28misinstance\u001b[39m(data, (ExtensionArray, np\u001b[38;5;241m.\u001b[39mndarray)):\n",
      "File \u001b[1;32m~\\anaconda3\\Lib\\site-packages\\pandas\\core\\generic.py:6011\u001b[0m, in \u001b[0;36mNDFrame.__setattr__\u001b[1;34m(self, name, value)\u001b[0m\n\u001b[0;32m   6009\u001b[0m     \u001b[38;5;28mobject\u001b[39m\u001b[38;5;241m.\u001b[39m\u001b[38;5;21m__setattr__\u001b[39m(\u001b[38;5;28mself\u001b[39m, name, value)\n\u001b[0;32m   6010\u001b[0m \u001b[38;5;28;01melif\u001b[39;00m name \u001b[38;5;129;01min\u001b[39;00m \u001b[38;5;28mself\u001b[39m\u001b[38;5;241m.\u001b[39m_metadata:\n\u001b[1;32m-> 6011\u001b[0m     \u001b[38;5;28mobject\u001b[39m\u001b[38;5;241m.\u001b[39m\u001b[38;5;21m__setattr__\u001b[39m(\u001b[38;5;28mself\u001b[39m, name, value)\n\u001b[0;32m   6012\u001b[0m \u001b[38;5;28;01melse\u001b[39;00m:\n\u001b[0;32m   6013\u001b[0m     \u001b[38;5;28;01mtry\u001b[39;00m:\n",
      "File \u001b[1;32m~\\anaconda3\\Lib\\site-packages\\pandas\\core\\series.py:673\u001b[0m, in \u001b[0;36mSeries.name\u001b[1;34m(self, value)\u001b[0m\n\u001b[0;32m    671\u001b[0m \u001b[38;5;129m@name\u001b[39m\u001b[38;5;241m.\u001b[39msetter\n\u001b[0;32m    672\u001b[0m \u001b[38;5;28;01mdef\u001b[39;00m \u001b[38;5;21mname\u001b[39m(\u001b[38;5;28mself\u001b[39m, value: Hashable) \u001b[38;5;241m-\u001b[39m\u001b[38;5;241m>\u001b[39m \u001b[38;5;28;01mNone\u001b[39;00m:\n\u001b[1;32m--> 673\u001b[0m     validate_all_hashable(value, error_name\u001b[38;5;241m=\u001b[39m\u001b[38;5;124mf\u001b[39m\u001b[38;5;124m\"\u001b[39m\u001b[38;5;132;01m{\u001b[39;00m\u001b[38;5;28mtype\u001b[39m(\u001b[38;5;28mself\u001b[39m)\u001b[38;5;241m.\u001b[39m\u001b[38;5;18m__name__\u001b[39m\u001b[38;5;132;01m}\u001b[39;00m\u001b[38;5;124m.name\u001b[39m\u001b[38;5;124m\"\u001b[39m)\n\u001b[0;32m    674\u001b[0m     \u001b[38;5;28mobject\u001b[39m\u001b[38;5;241m.\u001b[39m\u001b[38;5;21m__setattr__\u001b[39m(\u001b[38;5;28mself\u001b[39m, \u001b[38;5;124m\"\u001b[39m\u001b[38;5;124m_name\u001b[39m\u001b[38;5;124m\"\u001b[39m, value)\n",
      "File \u001b[1;32m~\\anaconda3\\Lib\\site-packages\\pandas\\core\\dtypes\\common.py:1631\u001b[0m, in \u001b[0;36mvalidate_all_hashable\u001b[1;34m(error_name, *args)\u001b[0m\n\u001b[0;32m   1624\u001b[0m     \u001b[38;5;28;01mif\u001b[39;00m typ \u001b[38;5;129;01mnot\u001b[39;00m \u001b[38;5;129;01min\u001b[39;00m [\u001b[38;5;124m\"\u001b[39m\u001b[38;5;124mgeneric\u001b[39m\u001b[38;5;124m\"\u001b[39m, \u001b[38;5;124m\"\u001b[39m\u001b[38;5;124mns\u001b[39m\u001b[38;5;124m\"\u001b[39m]:\n\u001b[0;32m   1625\u001b[0m         \u001b[38;5;28;01mraise\u001b[39;00m \u001b[38;5;167;01mValueError\u001b[39;00m(\n\u001b[0;32m   1626\u001b[0m             \u001b[38;5;124mf\u001b[39m\u001b[38;5;124m\"\u001b[39m\u001b[38;5;132;01m{\u001b[39;00m\u001b[38;5;28mrepr\u001b[39m(dtype\u001b[38;5;241m.\u001b[39mname)\u001b[38;5;132;01m}\u001b[39;00m\u001b[38;5;124m is too specific of a frequency, \u001b[39m\u001b[38;5;124m\"\u001b[39m\n\u001b[0;32m   1627\u001b[0m             \u001b[38;5;124mf\u001b[39m\u001b[38;5;124m\"\u001b[39m\u001b[38;5;124mtry passing \u001b[39m\u001b[38;5;132;01m{\u001b[39;00m\u001b[38;5;28mrepr\u001b[39m(dtype\u001b[38;5;241m.\u001b[39mtype\u001b[38;5;241m.\u001b[39m\u001b[38;5;18m__name__\u001b[39m)\u001b[38;5;132;01m}\u001b[39;00m\u001b[38;5;124m\"\u001b[39m\n\u001b[0;32m   1628\u001b[0m         )\n\u001b[1;32m-> 1631\u001b[0m \u001b[38;5;28;01mdef\u001b[39;00m \u001b[38;5;21mvalidate_all_hashable\u001b[39m(\u001b[38;5;241m*\u001b[39margs, error_name: \u001b[38;5;28mstr\u001b[39m \u001b[38;5;241m|\u001b[39m \u001b[38;5;28;01mNone\u001b[39;00m \u001b[38;5;241m=\u001b[39m \u001b[38;5;28;01mNone\u001b[39;00m) \u001b[38;5;241m-\u001b[39m\u001b[38;5;241m>\u001b[39m \u001b[38;5;28;01mNone\u001b[39;00m:\n\u001b[0;32m   1632\u001b[0m \u001b[38;5;250m    \u001b[39m\u001b[38;5;124;03m\"\"\"\u001b[39;00m\n\u001b[0;32m   1633\u001b[0m \u001b[38;5;124;03m    Return None if all args are hashable, else raise a TypeError.\u001b[39;00m\n\u001b[0;32m   1634\u001b[0m \n\u001b[1;32m   (...)\u001b[0m\n\u001b[0;32m   1648\u001b[0m \u001b[38;5;124;03m    None\u001b[39;00m\n\u001b[0;32m   1649\u001b[0m \u001b[38;5;124;03m    \"\"\"\u001b[39;00m\n\u001b[0;32m   1650\u001b[0m     \u001b[38;5;28;01mif\u001b[39;00m \u001b[38;5;129;01mnot\u001b[39;00m \u001b[38;5;28mall\u001b[39m(is_hashable(arg) \u001b[38;5;28;01mfor\u001b[39;00m arg \u001b[38;5;129;01min\u001b[39;00m args):\n",
      "\u001b[1;31mKeyboardInterrupt\u001b[0m: "
     ]
    }
   ],
   "source": [
    "startTime()\n",
    "#Dataset Cleaning: Nothing much here as the dataset is already clean enough for our purposes.\n",
    "#Dataset Formatting: Changing order of columns to malware (label), hash, t_1, t_2, ..., t_99\n",
    "label_col = oli.pop('malware')\n",
    "oli.insert(0, label_col.name, label_col)\n",
    "label_col = None\n",
    "#Inverse Label Encoding\n",
    "def inverse_label(item):\n",
    "    global APIS\n",
    "    return item.map(lambda x: APIS[int(x)])\n",
    "oli.iloc[:, 2:] = oli.iloc[:, 2:].apply(inverse_label, axis=1, result_type='reduce')\n",
    "print(\"\")\n",
    "endTime()\n",
    "    \n",
    "oli.head()"
   ]
  },
  {
   "cell_type": "markdown",
   "id": "39d23b98",
   "metadata": {},
   "source": [
    "# Feature Duplicate Processing"
   ]
  },
  {
   "cell_type": "code",
   "execution_count": null,
   "id": "7bee866b",
   "metadata": {
    "scrolled": true
   },
   "outputs": [],
   "source": [
    "TB = oli.copy(deep=True) #Time-based behavior\n",
    "IB = oli.copy(deep=True) #Instance-based behavior (to be created)\n",
    "\n",
    "startTime()\n",
    "print(\"Transposing IB...\")\n",
    "IB.transpose()\n",
    "print(\"IB Transposed!\")\n",
    "print(\"Removing duplicates...\")\n",
    "print(\"Row:\", end=\" \")\n",
    "for r in range(oli.shape[0]):\n",
    "    #Per row (sample) removal of duplicates, thus cannot scale into the whole dataframe (which is way faster)\n",
    "    row = IB.iloc[r, 2:].drop_duplicates(keep='first', inplace=False).to_list() \n",
    "    for i in range(100-len(row)):\n",
    "        row.append(\"NaN\")\n",
    "    IB.iloc[r, 2:] = row\n",
    "    print(r, end=\" \")\n",
    "print(\"\\nDuplicates removed!\")\n",
    "print(\"Retransposing IB (revert)...\")\n",
    "IB.transpose()\n",
    "print(\"IB Retransposed!\")\n",
    "endTime()"
   ]
  },
  {
   "cell_type": "code",
   "execution_count": null,
   "id": "568c6371",
   "metadata": {},
   "outputs": [],
   "source": [
    "TB.head()"
   ]
  },
  {
   "cell_type": "code",
   "execution_count": null,
   "id": "43b18d78",
   "metadata": {},
   "outputs": [],
   "source": [
    "IB.head()"
   ]
  },
  {
   "cell_type": "markdown",
   "id": "a23e0b3a",
   "metadata": {},
   "source": [
    "# Building Reserve Test as \"External Dataset\"\n",
    "\n",
    "Using 90:10 split for Train:Reserve respectively"
   ]
  },
  {
   "cell_type": "markdown",
   "id": "11232a75",
   "metadata": {},
   "source": [
    "## Time-Based Dataset"
   ]
  },
  {
   "cell_type": "code",
   "execution_count": null,
   "id": "35f5fa5c",
   "metadata": {
    "scrolled": true
   },
   "outputs": [],
   "source": [
    "startTime()\n",
    "\n",
    "#Time-based\n",
    "X = TB.iloc[:,1:] #Features (including hash for now)\n",
    "y = TB.iloc[:,0] #Labels\n",
    "TB_Train_X, TB_Reserve_X, TB_Train_y, TB_Reserve_y = train_test_split(X, y, test_size=.10, random_state=1, shuffle=True)\n",
    "\n",
    "TB_Train_X.insert(0, 'malware', TB_Train_y)\n",
    "TB_Reserve_X.insert(0, 'malware', TB_Reserve_y)\n",
    "\n",
    "TB = TB_Train_X.copy(deep=True)\n",
    "TB_Reserve = TB_Reserve_X.copy(deep=True)\n",
    "\n",
    "TB_Reserve.drop(axis=1, labels='hash', inplace=True)\n",
    "TB_Reserve.to_csv(index=False, chunksize=100, mode='w', path_or_buf='TB/TB_Reserve.csv')\n",
    "\n",
    "endTime()"
   ]
  },
  {
   "cell_type": "code",
   "execution_count": null,
   "id": "3f06894c",
   "metadata": {
    "scrolled": true
   },
   "outputs": [],
   "source": [
    "print(\"TB Shape:\", TB.shape)\n",
    "TB.head()"
   ]
  },
  {
   "cell_type": "code",
   "execution_count": null,
   "id": "b2ca5a0d",
   "metadata": {},
   "outputs": [],
   "source": [
    "print(\"TB_Reserve Shape:\", TB_Reserve.shape)\n",
    "TB_Reserve.head()"
   ]
  },
  {
   "cell_type": "markdown",
   "id": "e6c597b3",
   "metadata": {},
   "source": [
    "## Instance-Based Dataset"
   ]
  },
  {
   "cell_type": "code",
   "execution_count": null,
   "id": "58ac64e4",
   "metadata": {
    "scrolled": true
   },
   "outputs": [],
   "source": [
    "startTime()\n",
    "\n",
    "#Instance-based\n",
    "X = IB.iloc[:,1:] #Features (including hash for now)\n",
    "y = IB.iloc[:,0] #Labels\n",
    "IB_Train_X, IB_Reserve_X, IB_Train_y, IB_Reserve_y = train_test_split(X, y, test_size=.10, random_state=1, shuffle=True)\n",
    "\n",
    "IB_Train_X.insert(0, 'malware', IB_Train_y)\n",
    "IB_Reserve_X.insert(0, 'malware', IB_Reserve_y)\n",
    "\n",
    "IB = IB_Train_X.copy(deep=True)\n",
    "IB_Reserve = IB_Reserve_X.copy(deep=True)\n",
    "\n",
    "IB_Reserve.drop(axis=1, labels='hash', inplace=True)\n",
    "IB_Reserve.to_csv(index=False, chunksize=100, mode='w', path_or_buf='IB/IB_Reserve.csv')\n",
    "\n",
    "endTime()"
   ]
  },
  {
   "cell_type": "code",
   "execution_count": null,
   "id": "7e19248b",
   "metadata": {},
   "outputs": [],
   "source": [
    "print(\"IB Shape:\", IB.shape)\n",
    "IB.head()"
   ]
  },
  {
   "cell_type": "code",
   "execution_count": null,
   "id": "0e02ee3b",
   "metadata": {},
   "outputs": [],
   "source": [
    "print(\"IB_Reserve Shape:\", IB_Reserve.shape)\n",
    "IB_Reserve.head()"
   ]
  },
  {
   "cell_type": "markdown",
   "id": "940ea3bc",
   "metadata": {},
   "source": [
    "# Data Rebalancing\n",
    "\n",
    "To be applied to the train split (i.e., TB & IB)\n",
    "\n",
    "RandomOverSampler is less prone to oversampling a sample/set of samples as is the case shown in [Balance Oliveira](https://github.com/jm55DLSU/THESIS/blob/main/ML%20Test/Balancing%20Oliveira/Balancing_Oliveira.ipynb)."
   ]
  },
  {
   "cell_type": "code",
   "execution_count": null,
   "id": "6ef5de9d",
   "metadata": {
    "scrolled": true
   },
   "outputs": [],
   "source": [
    "def sample_distribution(dataset):\n",
    "    distribution = []\n",
    "    total_size = dataset.shape[0]\n",
    "    dataset = str(dataset[['hash']].value_counts()[0:10]).split('\\n')\n",
    "    dataset.pop(0)\n",
    "    dataset.pop(len(dataset)-1)\n",
    "    for d in dataset:\n",
    "        hs = d.split(' ')[0]\n",
    "        qt = int(d.split(' ')[len(d.split(' '))-1])\n",
    "        ratio = str(round(qt/total_size*100,2))+\"%\"\n",
    "        distribution.append([hs,qt,ratio])\n",
    "        print([hs,qt,ratio])\n",
    "def TB_rebalance(balancer):\n",
    "    global TB\n",
    "    #Time-based\n",
    "    X = TB.iloc[:,1:]\n",
    "    y = TB.iloc[:,0]\n",
    "    print(\"TB Rebalance...\")\n",
    "    X, y = balancer.fit_resample(X, y)\n",
    "    print(\"TB Rebalancing Finished!\")\n",
    "    X.insert(0, 'malware', y)\n",
    "    TB = X.copy(deep=True)\n",
    "    #Check sample distribution\n",
    "    print(\"TB Sample Distribution (Top 10)\")\n",
    "    sample_distribution(TB)\n",
    "    #Drop hash\n",
    "    TB.drop(axis=1, labels='hash', inplace=True)\n",
    "    print(\"Time-based Label Counts:\")\n",
    "    print(TB['malware'].value_counts())\n",
    "    TB.head()\n",
    "    #Save to CSV\n",
    "    TB.to_csv(index=False, chunksize=100, mode='w', path_or_buf='TB/TB.csv')\n",
    "def IB_rebalance(balancer):\n",
    "    global IB\n",
    "    #Instance-based\n",
    "    X = IB.iloc[:,1:]\n",
    "    y = IB.iloc[:,0]\n",
    "    print(\"IB Rebalance...\")\n",
    "    X, y = balancer.fit_resample(X, y)\n",
    "    print(\"IB Rebalancing Finished!\")\n",
    "    X.insert(0, 'malware', y)\n",
    "    IB = X.copy(deep=True)\n",
    "    #Check sample distribution\n",
    "    print(\"IB Sample Distribution (Top 10)\")\n",
    "    sample_distribution(IB)\n",
    "    #Drop hash\n",
    "    IB.drop(axis=1, labels='hash', inplace=True)\n",
    "    print(\"Instance-based Label Counts:\")\n",
    "    print(IB['malware'].value_counts())\n",
    "    IB.head()\n",
    "    #Save to CSV\n",
    "    IB.to_csv(index=False, chunksize=100, mode='w', path_or_buf='IB/IB.csv')\n",
    "print(\"Time-based Label Counts:\")\n",
    "print(TB['malware'].value_counts())\n",
    "print(\"Instance-based Label Counts:\")\n",
    "print(IB['malware'].value_counts())"
   ]
  },
  {
   "cell_type": "code",
   "execution_count": null,
   "id": "2fde1fbf",
   "metadata": {
    "scrolled": true
   },
   "outputs": [],
   "source": [
    "#ros = RandomOverSampler(sampling_strategy='minority', random_state=1, shrinkage=None)\n",
    "#smoten = SMOTEN(sampling_strategy='minority', random_state=1, k_neighbors=5)\n",
    "\n",
    "tb_thread = threading.Thread(target=TB_rebalance, args=(SMOTEN(sampling_strategy='minority', random_state=1, k_neighbors=2),))\n",
    "ib_thread = threading.Thread(target=IB_rebalance, args=(SMOTEN(sampling_strategy='minority', random_state=1, k_neighbors=2),))\n",
    "\n",
    "startTime()\n",
    "tb_thread.start()\n",
    "ib_thread.start()\n",
    "tb_thread.join()\n",
    "ib_thread.join()\n",
    "endTime()"
   ]
  },
  {
   "cell_type": "code",
   "execution_count": null,
   "id": "7e994f0c",
   "metadata": {},
   "outputs": [],
   "source": [
    "TB"
   ]
  },
  {
   "cell_type": "code",
   "execution_count": null,
   "id": "d06444e7",
   "metadata": {},
   "outputs": [],
   "source": [
    "IB"
   ]
  },
  {
   "cell_type": "markdown",
   "id": "e9132dba",
   "metadata": {},
   "source": [
    "# Label Encoding\n",
    "\n",
    "For LightGBM's use"
   ]
  },
  {
   "cell_type": "code",
   "execution_count": null,
   "id": "2895c5ed",
   "metadata": {
    "scrolled": true
   },
   "outputs": [],
   "source": [
    "def label_encode(raw, enc_filename):\n",
    "    global APIS\n",
    "    encoded = [None, None, None, None]\n",
    "    le = LabelEncoder()\n",
    "    le.fit(APIS)\n",
    "    for i, tb in enumerate(raw):\n",
    "        print(f\"Encoding: {enc_filename[i]}...\")\n",
    "        encoded[i] = tb.copy(deep=True)\n",
    "        encoded[i].iloc[:,1:] = encoded[i].iloc[:,1:].apply(le.transform)\n",
    "        print(f\"\\nWriting to file: {enc_filename[i]}...\")\n",
    "        encoded[i].to_csv(index=False, chunksize=100, mode='w', path_or_buf=enc_filename[i])\n",
    "    return encoded\n",
    "def TB_encode():\n",
    "    global TB, TB_Reserve\n",
    "    #Time-based\n",
    "    print(\"Label Encoding Time-based Datasets...\")\n",
    "    tb_raw = [TB, TB_Reserve]\n",
    "    tb_enc_filename = ['TB/TB_Enc.csv', 'TB/TB_Reserve_Enc.csv']\n",
    "    tb_encoded = label_encode(tb_raw, tb_enc_filename)\n",
    "    print(\"Label Encoding Time-based Datasets Finished!\")\n",
    "    print(\"\")\n",
    "def IB_encode():\n",
    "    global IB, IB_Reserve\n",
    "    #Instance-based\n",
    "    print(\"Label Encoding Instance-based Datasets...\")\n",
    "    ib_raw = [IB, IB_Reserve]\n",
    "    ib_enc_filename = ['IB/IB_Enc.csv', 'IB/IB_Reserve_Enc.csv']\n",
    "    ib_encoded = label_encode(ib_raw, ib_enc_filename)\n",
    "    print(\"Label Encoding Instance-based Datasets Finished!\")\n",
    "    print(\"\")"
   ]
  },
  {
   "cell_type": "code",
   "execution_count": null,
   "id": "84923d49",
   "metadata": {
    "scrolled": true
   },
   "outputs": [],
   "source": [
    "tb_thread = threading.Thread(target=TB_encode)\n",
    "ib_thread = threading.Thread(target=IB_encode)\n",
    "\n",
    "startTime()\n",
    "tb_thread.start()\n",
    "ib_thread.start()\n",
    "tb_thread.join()\n",
    "ib_thread.join()\n",
    "endTime()"
   ]
  }
 ],
 "metadata": {
  "kernelspec": {
   "display_name": "Python 3 (ipykernel)",
   "language": "python",
   "name": "python3"
  },
  "language_info": {
   "codemirror_mode": {
    "name": "ipython",
    "version": 3
   },
   "file_extension": ".py",
   "mimetype": "text/x-python",
   "name": "python",
   "nbconvert_exporter": "python",
   "pygments_lexer": "ipython3",
   "version": "3.11.5"
  }
 },
 "nbformat": 4,
 "nbformat_minor": 5
}
