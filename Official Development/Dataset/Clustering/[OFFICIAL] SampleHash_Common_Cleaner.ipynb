{
 "cells": [
  {
   "cell_type": "markdown",
   "metadata": {},
   "source": [
    "# Validated Malicious Samples Cleaner\n",
    "\n",
    "This Python notebook cleans the valitdaed *xxxx_SampleHash_Common.csv* file.\n",
    "\n",
    "This assumes that you have prepared the {Data Clustering}_Sample_Common.csv file such that the samples are validated already through VirusTotal.\n",
    "\n",
    "It will attempt to remove any invalid values in the dataset such as:\n",
    "1. Remove whitespaces.\n",
    "2. Replace nan values with '_'\n",
    "3. Replace any other potential delimiters with '_'\n",
    "\n",
    "Note that the data processing happens in_place such that the input file itself will be updated after the process."
   ]
  },
  {
   "cell_type": "code",
   "execution_count": 1,
   "metadata": {},
   "outputs": [
    {
     "data": {
      "text/html": [
       "<div>\n",
       "<style scoped>\n",
       "    .dataframe tbody tr th:only-of-type {\n",
       "        vertical-align: middle;\n",
       "    }\n",
       "\n",
       "    .dataframe tbody tr th {\n",
       "        vertical-align: top;\n",
       "    }\n",
       "\n",
       "    .dataframe thead th {\n",
       "        text-align: right;\n",
       "    }\n",
       "</style>\n",
       "<table border=\"1\" class=\"dataframe\">\n",
       "  <thead>\n",
       "    <tr style=\"text-align: right;\">\n",
       "      <th></th>\n",
       "      <th>cluster</th>\n",
       "      <th>hash</th>\n",
       "      <th>Type 1</th>\n",
       "      <th>Type 2</th>\n",
       "      <th>Type 3</th>\n",
       "      <th>pattern</th>\n",
       "    </tr>\n",
       "  </thead>\n",
       "  <tbody>\n",
       "    <tr>\n",
       "      <th>0</th>\n",
       "      <td>0</td>\n",
       "      <td>490d584c7d303ed35c673460b63f3ca8</td>\n",
       "      <td>trojan</td>\n",
       "      <td>dropper</td>\n",
       "      <td>pua</td>\n",
       "      <td>GetSystemTimeAsFileTime,NtCreateMutant,GetSyst...</td>\n",
       "    </tr>\n",
       "    <tr>\n",
       "      <th>1</th>\n",
       "      <td>0</td>\n",
       "      <td>9ab8ea1d2d68a0d4110df413e677976c</td>\n",
       "      <td>trojan</td>\n",
       "      <td>hacktool</td>\n",
       "      <td>_</td>\n",
       "      <td>GetSystemTimeAsFileTime,NtCreateMutant,GetSyst...</td>\n",
       "    </tr>\n",
       "    <tr>\n",
       "      <th>2</th>\n",
       "      <td>0</td>\n",
       "      <td>adbc74815ef2bd1ea4967abad812233d</td>\n",
       "      <td>trojan</td>\n",
       "      <td>_</td>\n",
       "      <td>_</td>\n",
       "      <td>GetSystemTimeAsFileTime,NtCreateMutant,GetSyst...</td>\n",
       "    </tr>\n",
       "    <tr>\n",
       "      <th>3</th>\n",
       "      <td>0</td>\n",
       "      <td>f6eb4841bba3a4cee747700dc0ee1609</td>\n",
       "      <td>_</td>\n",
       "      <td>_</td>\n",
       "      <td>_</td>\n",
       "      <td>GetSystemTimeAsFileTime,NtCreateMutant,GetSyst...</td>\n",
       "    </tr>\n",
       "    <tr>\n",
       "      <th>4</th>\n",
       "      <td>0</td>\n",
       "      <td>f5a0ad49337ebc87897698e70d03364e</td>\n",
       "      <td>trojan</td>\n",
       "      <td>dropper</td>\n",
       "      <td>_</td>\n",
       "      <td>GetSystemTimeAsFileTime,NtCreateMutant,GetSyst...</td>\n",
       "    </tr>\n",
       "    <tr>\n",
       "      <th>...</th>\n",
       "      <td>...</td>\n",
       "      <td>...</td>\n",
       "      <td>...</td>\n",
       "      <td>...</td>\n",
       "      <td>...</td>\n",
       "      <td>...</td>\n",
       "    </tr>\n",
       "    <tr>\n",
       "      <th>1756</th>\n",
       "      <td>198</td>\n",
       "      <td>d24b78bd73f17379ed62e4c776b4f66e</td>\n",
       "      <td>trojan</td>\n",
       "      <td>adware</td>\n",
       "      <td>_</td>\n",
       "      <td>GetSystemTimeAsFileTime,LdrLoadDll,LdrGetProce...</td>\n",
       "    </tr>\n",
       "    <tr>\n",
       "      <th>1757</th>\n",
       "      <td>198</td>\n",
       "      <td>f666dd4b3a53b7fe71f8976fa09bfdfb</td>\n",
       "      <td>trojan</td>\n",
       "      <td>adware</td>\n",
       "      <td>_</td>\n",
       "      <td>GetSystemTimeAsFileTime,LdrLoadDll,LdrGetProce...</td>\n",
       "    </tr>\n",
       "    <tr>\n",
       "      <th>1758</th>\n",
       "      <td>199</td>\n",
       "      <td>b6d6520b608875282d831b1e983cd5e5</td>\n",
       "      <td>_</td>\n",
       "      <td>_</td>\n",
       "      <td>_</td>\n",
       "      <td>SetErrorMode,OleInitialize,LdrGetDllHandle,Ldr...</td>\n",
       "    </tr>\n",
       "    <tr>\n",
       "      <th>1759</th>\n",
       "      <td>199</td>\n",
       "      <td>18bce1a594550daf8b3f318de48c1674</td>\n",
       "      <td>trojan</td>\n",
       "      <td>dropper</td>\n",
       "      <td>_</td>\n",
       "      <td>SetErrorMode,OleInitialize,LdrGetDllHandle,Ldr...</td>\n",
       "    </tr>\n",
       "    <tr>\n",
       "      <th>1760</th>\n",
       "      <td>199</td>\n",
       "      <td>a09e5874fabaeb81d267058fa450e608</td>\n",
       "      <td>trojan</td>\n",
       "      <td>downloader</td>\n",
       "      <td>_</td>\n",
       "      <td>SetErrorMode,OleInitialize,LdrGetDllHandle,Ldr...</td>\n",
       "    </tr>\n",
       "  </tbody>\n",
       "</table>\n",
       "<p>1761 rows × 6 columns</p>\n",
       "</div>"
      ],
      "text/plain": [
       "      cluster                              hash   Type 1      Type 2 Type 3  \\\n",
       "0           0  490d584c7d303ed35c673460b63f3ca8  trojan      dropper    pua   \n",
       "1           0  9ab8ea1d2d68a0d4110df413e677976c  trojan     hacktool      _   \n",
       "2           0  adbc74815ef2bd1ea4967abad812233d  trojan            _      _   \n",
       "3           0  f6eb4841bba3a4cee747700dc0ee1609        _           _      _   \n",
       "4           0  f5a0ad49337ebc87897698e70d03364e  trojan      dropper      _   \n",
       "...       ...                               ...      ...         ...    ...   \n",
       "1756      198  d24b78bd73f17379ed62e4c776b4f66e   trojan      adware      _   \n",
       "1757      198  f666dd4b3a53b7fe71f8976fa09bfdfb   trojan      adware      _   \n",
       "1758      199  b6d6520b608875282d831b1e983cd5e5        _           _      _   \n",
       "1759      199  18bce1a594550daf8b3f318de48c1674   trojan     dropper      _   \n",
       "1760      199  a09e5874fabaeb81d267058fa450e608   trojan  downloader      _   \n",
       "\n",
       "                                                pattern  \n",
       "0     GetSystemTimeAsFileTime,NtCreateMutant,GetSyst...  \n",
       "1     GetSystemTimeAsFileTime,NtCreateMutant,GetSyst...  \n",
       "2     GetSystemTimeAsFileTime,NtCreateMutant,GetSyst...  \n",
       "3     GetSystemTimeAsFileTime,NtCreateMutant,GetSyst...  \n",
       "4     GetSystemTimeAsFileTime,NtCreateMutant,GetSyst...  \n",
       "...                                                 ...  \n",
       "1756  GetSystemTimeAsFileTime,LdrLoadDll,LdrGetProce...  \n",
       "1757  GetSystemTimeAsFileTime,LdrLoadDll,LdrGetProce...  \n",
       "1758  SetErrorMode,OleInitialize,LdrGetDllHandle,Ldr...  \n",
       "1759  SetErrorMode,OleInitialize,LdrGetDllHandle,Ldr...  \n",
       "1760  SetErrorMode,OleInitialize,LdrGetDllHandle,Ldr...  \n",
       "\n",
       "[1761 rows x 6 columns]"
      ]
     },
     "execution_count": 1,
     "metadata": {},
     "output_type": "execute_result"
    }
   ],
   "source": [
    "import pandas as pd\n",
    "import numpy as np\n",
    "\n",
    "file_path = './Clustering/(EDITED)KMeans_SampleHash_Common.csv'\n",
    "\n",
    "df = pd.read_csv(filepath_or_buffer=file_path)\n",
    "\n",
    "def display_each_cluster():\n",
    "    display(df['Type 1'].unique())\n",
    "    display(df['Type 2'].unique())\n",
    "    display(df['Type 3'].unique())\n",
    "\n",
    "df"
   ]
  },
  {
   "cell_type": "markdown",
   "metadata": {},
   "source": [
    "## Check for invalid inputs to columns `Type 1`, `Type 2`, `Type 3`"
   ]
  },
  {
   "cell_type": "code",
   "execution_count": 2,
   "metadata": {},
   "outputs": [
    {
     "data": {
      "text/plain": [
       "array(['trojan ', '_', 'adware', 'downloader', 'miner', 'pua', 'virus',\n",
       "       'hacktool', 'ransomware', 'trojan', 'dropper', 'avaquest',\n",
       "       'opencandy', 'syncopate', 'techjoydown', 'msil', 'nsismod',\n",
       "       'fugrafa '], dtype=object)"
      ]
     },
     "metadata": {},
     "output_type": "display_data"
    },
    {
     "data": {
      "text/plain": [
       "array(['dropper', 'hacktool', '_', 'downloader', 'pua', 'adware',\n",
       "       'trojan', 'worm', 'miner', 'virus', 'spyware', 'ransomware',\n",
       "       'banker', 'candyopen', 'nsismod'], dtype=object)"
      ]
     },
     "metadata": {},
     "output_type": "display_data"
    },
    {
     "data": {
      "text/plain": [
       "array(['pua', '_', 'dropper', 'adware', 'downloader', 'virus', 'trojan',\n",
       "       'hacktool', 'ransomware', nan, 'spyware', 'banker', 'worm'],\n",
       "      dtype=object)"
      ]
     },
     "metadata": {},
     "output_type": "display_data"
    }
   ],
   "source": [
    "display_each_cluster()"
   ]
  },
  {
   "cell_type": "markdown",
   "metadata": {},
   "source": [
    "## Remove `nan` values."
   ]
  },
  {
   "cell_type": "code",
   "execution_count": 3,
   "metadata": {},
   "outputs": [
    {
     "data": {
      "text/plain": [
       "array(['trojan ', '_', 'adware', 'downloader', 'miner', 'pua', 'virus',\n",
       "       'hacktool', 'ransomware', 'trojan', 'dropper', 'avaquest',\n",
       "       'opencandy', 'syncopate', 'techjoydown', 'msil', 'nsismod',\n",
       "       'fugrafa '], dtype=object)"
      ]
     },
     "metadata": {},
     "output_type": "display_data"
    },
    {
     "data": {
      "text/plain": [
       "array(['dropper', 'hacktool', '_', 'downloader', 'pua', 'adware',\n",
       "       'trojan', 'worm', 'miner', 'virus', 'spyware', 'ransomware',\n",
       "       'banker', 'candyopen', 'nsismod'], dtype=object)"
      ]
     },
     "metadata": {},
     "output_type": "display_data"
    },
    {
     "data": {
      "text/plain": [
       "array(['pua', '_', 'dropper', 'adware', 'downloader', 'virus', 'trojan',\n",
       "       'hacktool', 'ransomware', 'spyware', 'banker', 'worm'],\n",
       "      dtype=object)"
      ]
     },
     "metadata": {},
     "output_type": "display_data"
    }
   ],
   "source": [
    "df.replace(np.nan, '_', inplace=True)\n",
    "display_each_cluster()"
   ]
  },
  {
   "cell_type": "markdown",
   "metadata": {},
   "source": [
    "## Remove whitespaces of values"
   ]
  },
  {
   "cell_type": "code",
   "execution_count": 4,
   "metadata": {},
   "outputs": [],
   "source": [
    "for i in range(df.shape[0]):\n",
    "   df.iloc[i,2] = df.iloc[i,2].strip()\n",
    "   df.iloc[i,3] = df.iloc[i,3].strip()\n",
    "   df.iloc[i,4] = df.iloc[i,4].strip()"
   ]
  },
  {
   "cell_type": "markdown",
   "metadata": {},
   "source": [
    "## View Completed Data"
   ]
  },
  {
   "cell_type": "code",
   "execution_count": 5,
   "metadata": {},
   "outputs": [
    {
     "data": {
      "text/html": [
       "<div>\n",
       "<style scoped>\n",
       "    .dataframe tbody tr th:only-of-type {\n",
       "        vertical-align: middle;\n",
       "    }\n",
       "\n",
       "    .dataframe tbody tr th {\n",
       "        vertical-align: top;\n",
       "    }\n",
       "\n",
       "    .dataframe thead th {\n",
       "        text-align: right;\n",
       "    }\n",
       "</style>\n",
       "<table border=\"1\" class=\"dataframe\">\n",
       "  <thead>\n",
       "    <tr style=\"text-align: right;\">\n",
       "      <th></th>\n",
       "      <th>cluster</th>\n",
       "      <th>hash</th>\n",
       "      <th>Type 1</th>\n",
       "      <th>Type 2</th>\n",
       "      <th>Type 3</th>\n",
       "      <th>pattern</th>\n",
       "    </tr>\n",
       "  </thead>\n",
       "  <tbody>\n",
       "    <tr>\n",
       "      <th>0</th>\n",
       "      <td>0</td>\n",
       "      <td>490d584c7d303ed35c673460b63f3ca8</td>\n",
       "      <td>trojan</td>\n",
       "      <td>dropper</td>\n",
       "      <td>pua</td>\n",
       "      <td>GetSystemTimeAsFileTime,NtCreateMutant,GetSyst...</td>\n",
       "    </tr>\n",
       "    <tr>\n",
       "      <th>1</th>\n",
       "      <td>0</td>\n",
       "      <td>9ab8ea1d2d68a0d4110df413e677976c</td>\n",
       "      <td>trojan</td>\n",
       "      <td>hacktool</td>\n",
       "      <td>_</td>\n",
       "      <td>GetSystemTimeAsFileTime,NtCreateMutant,GetSyst...</td>\n",
       "    </tr>\n",
       "    <tr>\n",
       "      <th>2</th>\n",
       "      <td>0</td>\n",
       "      <td>adbc74815ef2bd1ea4967abad812233d</td>\n",
       "      <td>trojan</td>\n",
       "      <td>_</td>\n",
       "      <td>_</td>\n",
       "      <td>GetSystemTimeAsFileTime,NtCreateMutant,GetSyst...</td>\n",
       "    </tr>\n",
       "    <tr>\n",
       "      <th>3</th>\n",
       "      <td>0</td>\n",
       "      <td>f6eb4841bba3a4cee747700dc0ee1609</td>\n",
       "      <td>_</td>\n",
       "      <td>_</td>\n",
       "      <td>_</td>\n",
       "      <td>GetSystemTimeAsFileTime,NtCreateMutant,GetSyst...</td>\n",
       "    </tr>\n",
       "    <tr>\n",
       "      <th>4</th>\n",
       "      <td>0</td>\n",
       "      <td>f5a0ad49337ebc87897698e70d03364e</td>\n",
       "      <td>trojan</td>\n",
       "      <td>dropper</td>\n",
       "      <td>_</td>\n",
       "      <td>GetSystemTimeAsFileTime,NtCreateMutant,GetSyst...</td>\n",
       "    </tr>\n",
       "    <tr>\n",
       "      <th>...</th>\n",
       "      <td>...</td>\n",
       "      <td>...</td>\n",
       "      <td>...</td>\n",
       "      <td>...</td>\n",
       "      <td>...</td>\n",
       "      <td>...</td>\n",
       "    </tr>\n",
       "    <tr>\n",
       "      <th>1756</th>\n",
       "      <td>198</td>\n",
       "      <td>d24b78bd73f17379ed62e4c776b4f66e</td>\n",
       "      <td>trojan</td>\n",
       "      <td>adware</td>\n",
       "      <td>_</td>\n",
       "      <td>GetSystemTimeAsFileTime,LdrLoadDll,LdrGetProce...</td>\n",
       "    </tr>\n",
       "    <tr>\n",
       "      <th>1757</th>\n",
       "      <td>198</td>\n",
       "      <td>f666dd4b3a53b7fe71f8976fa09bfdfb</td>\n",
       "      <td>trojan</td>\n",
       "      <td>adware</td>\n",
       "      <td>_</td>\n",
       "      <td>GetSystemTimeAsFileTime,LdrLoadDll,LdrGetProce...</td>\n",
       "    </tr>\n",
       "    <tr>\n",
       "      <th>1758</th>\n",
       "      <td>199</td>\n",
       "      <td>b6d6520b608875282d831b1e983cd5e5</td>\n",
       "      <td>_</td>\n",
       "      <td>_</td>\n",
       "      <td>_</td>\n",
       "      <td>SetErrorMode,OleInitialize,LdrGetDllHandle,Ldr...</td>\n",
       "    </tr>\n",
       "    <tr>\n",
       "      <th>1759</th>\n",
       "      <td>199</td>\n",
       "      <td>18bce1a594550daf8b3f318de48c1674</td>\n",
       "      <td>trojan</td>\n",
       "      <td>dropper</td>\n",
       "      <td>_</td>\n",
       "      <td>SetErrorMode,OleInitialize,LdrGetDllHandle,Ldr...</td>\n",
       "    </tr>\n",
       "    <tr>\n",
       "      <th>1760</th>\n",
       "      <td>199</td>\n",
       "      <td>a09e5874fabaeb81d267058fa450e608</td>\n",
       "      <td>trojan</td>\n",
       "      <td>downloader</td>\n",
       "      <td>_</td>\n",
       "      <td>SetErrorMode,OleInitialize,LdrGetDllHandle,Ldr...</td>\n",
       "    </tr>\n",
       "  </tbody>\n",
       "</table>\n",
       "<p>1761 rows × 6 columns</p>\n",
       "</div>"
      ],
      "text/plain": [
       "      cluster                              hash  Type 1      Type 2 Type 3  \\\n",
       "0           0  490d584c7d303ed35c673460b63f3ca8  trojan     dropper    pua   \n",
       "1           0  9ab8ea1d2d68a0d4110df413e677976c  trojan    hacktool      _   \n",
       "2           0  adbc74815ef2bd1ea4967abad812233d  trojan           _      _   \n",
       "3           0  f6eb4841bba3a4cee747700dc0ee1609       _           _      _   \n",
       "4           0  f5a0ad49337ebc87897698e70d03364e  trojan     dropper      _   \n",
       "...       ...                               ...     ...         ...    ...   \n",
       "1756      198  d24b78bd73f17379ed62e4c776b4f66e  trojan      adware      _   \n",
       "1757      198  f666dd4b3a53b7fe71f8976fa09bfdfb  trojan      adware      _   \n",
       "1758      199  b6d6520b608875282d831b1e983cd5e5       _           _      _   \n",
       "1759      199  18bce1a594550daf8b3f318de48c1674  trojan     dropper      _   \n",
       "1760      199  a09e5874fabaeb81d267058fa450e608  trojan  downloader      _   \n",
       "\n",
       "                                                pattern  \n",
       "0     GetSystemTimeAsFileTime,NtCreateMutant,GetSyst...  \n",
       "1     GetSystemTimeAsFileTime,NtCreateMutant,GetSyst...  \n",
       "2     GetSystemTimeAsFileTime,NtCreateMutant,GetSyst...  \n",
       "3     GetSystemTimeAsFileTime,NtCreateMutant,GetSyst...  \n",
       "4     GetSystemTimeAsFileTime,NtCreateMutant,GetSyst...  \n",
       "...                                                 ...  \n",
       "1756  GetSystemTimeAsFileTime,LdrLoadDll,LdrGetProce...  \n",
       "1757  GetSystemTimeAsFileTime,LdrLoadDll,LdrGetProce...  \n",
       "1758  SetErrorMode,OleInitialize,LdrGetDllHandle,Ldr...  \n",
       "1759  SetErrorMode,OleInitialize,LdrGetDllHandle,Ldr...  \n",
       "1760  SetErrorMode,OleInitialize,LdrGetDllHandle,Ldr...  \n",
       "\n",
       "[1761 rows x 6 columns]"
      ]
     },
     "metadata": {},
     "output_type": "display_data"
    },
    {
     "data": {
      "text/plain": [
       "array(['trojan', '_', 'adware', 'downloader', 'miner', 'pua', 'virus',\n",
       "       'hacktool', 'ransomware', 'dropper', 'avaquest', 'opencandy',\n",
       "       'syncopate', 'techjoydown', 'msil', 'nsismod', 'fugrafa'],\n",
       "      dtype=object)"
      ]
     },
     "metadata": {},
     "output_type": "display_data"
    },
    {
     "data": {
      "text/plain": [
       "array(['dropper', 'hacktool', '_', 'downloader', 'pua', 'adware',\n",
       "       'trojan', 'worm', 'miner', 'virus', 'spyware', 'ransomware',\n",
       "       'banker', 'candyopen', 'nsismod'], dtype=object)"
      ]
     },
     "metadata": {},
     "output_type": "display_data"
    },
    {
     "data": {
      "text/plain": [
       "array(['pua', '_', 'dropper', 'adware', 'downloader', 'virus', 'trojan',\n",
       "       'hacktool', 'ransomware', 'spyware', 'banker', 'worm'],\n",
       "      dtype=object)"
      ]
     },
     "metadata": {},
     "output_type": "display_data"
    }
   ],
   "source": [
    "display(df)\n",
    "display_each_cluster()"
   ]
  },
  {
   "cell_type": "markdown",
   "metadata": {},
   "source": [
    "## Save Cleaned Validated Data"
   ]
  },
  {
   "cell_type": "code",
   "execution_count": 6,
   "metadata": {},
   "outputs": [],
   "source": [
    "df.to_csv(file_path,index=False)"
   ]
  }
 ],
 "metadata": {
  "kernelspec": {
   "display_name": "base",
   "language": "python",
   "name": "python3"
  },
  "language_info": {
   "codemirror_mode": {
    "name": "ipython",
    "version": 3
   },
   "file_extension": ".py",
   "mimetype": "text/x-python",
   "name": "python",
   "nbconvert_exporter": "python",
   "pygments_lexer": "ipython3",
   "version": "3.11.5"
  }
 },
 "nbformat": 4,
 "nbformat_minor": 2
}
