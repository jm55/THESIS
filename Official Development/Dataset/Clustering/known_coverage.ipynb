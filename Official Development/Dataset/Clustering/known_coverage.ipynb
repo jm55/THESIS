{
 "cells": [
  {
   "cell_type": "code",
   "execution_count": 1,
   "metadata": {},
   "outputs": [],
   "source": [
    "import pandas as pd\n",
    "\n",
    "edited = pd.read_csv('(EDITED)KMeans_SampleHash_Common.csv')\n",
    "test = pd.read_csv('../Valid_Mali_Test/Holdout-Test_Malicious_Verify.csv')"
   ]
  },
  {
   "cell_type": "code",
   "execution_count": 2,
   "metadata": {},
   "outputs": [
    {
     "data": {
      "text/plain": [
       "6045"
      ]
     },
     "execution_count": 2,
     "metadata": {},
     "output_type": "execute_result"
    }
   ],
   "source": [
    "combined = edited['hash'].to_list() + test['hash'].to_list()\n",
    "len(combined)"
   ]
  },
  {
   "cell_type": "code",
   "execution_count": 3,
   "metadata": {},
   "outputs": [
    {
     "name": "stdout",
     "output_type": "stream",
     "text": [
      "Matching Rate: 6.236559139784946\n"
     ]
    }
   ],
   "source": [
    "dbscan = pd.read_csv('./Clustering/Malicious/DBSCAN_SampleHash_Common.csv')\n",
    "\n",
    "count = 0\n",
    "matching = []\n",
    "for i in range(dbscan.shape[0]):\n",
    "    if dbscan.iloc[i]['hash'] in combined:\n",
    "        count += 1\n",
    "        matching.append(dbscan.iloc[i]['hash'])\n",
    "\n",
    "print(\"Matching Rate:\", count/len(combined)*100)"
   ]
  }
 ],
 "metadata": {
  "kernelspec": {
   "display_name": "base",
   "language": "python",
   "name": "python3"
  },
  "language_info": {
   "codemirror_mode": {
    "name": "ipython",
    "version": 3
   },
   "file_extension": ".py",
   "mimetype": "text/x-python",
   "name": "python",
   "nbconvert_exporter": "python",
   "pygments_lexer": "ipython3",
   "version": "3.11.5"
  }
 },
 "nbformat": 4,
 "nbformat_minor": 2
}
