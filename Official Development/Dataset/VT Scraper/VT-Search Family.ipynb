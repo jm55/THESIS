{
 "cells": [
  {
   "cell_type": "code",
   "execution_count": 5,
   "metadata": {},
   "outputs": [
    {
     "data": {
      "text/html": [
       "<div>\n",
       "<style scoped>\n",
       "    .dataframe tbody tr th:only-of-type {\n",
       "        vertical-align: middle;\n",
       "    }\n",
       "\n",
       "    .dataframe tbody tr th {\n",
       "        vertical-align: top;\n",
       "    }\n",
       "\n",
       "    .dataframe thead th {\n",
       "        text-align: right;\n",
       "    }\n",
       "</style>\n",
       "<table border=\"1\" class=\"dataframe\">\n",
       "  <thead>\n",
       "    <tr style=\"text-align: right;\">\n",
       "      <th></th>\n",
       "      <th>hash</th>\n",
       "      <th>Type 1</th>\n",
       "    </tr>\n",
       "  </thead>\n",
       "  <tbody>\n",
       "    <tr>\n",
       "      <th>0</th>\n",
       "      <td>5e16e45f22fd546b4b52e45ca031e5c5</td>\n",
       "      <td>nan</td>\n",
       "    </tr>\n",
       "    <tr>\n",
       "      <th>1</th>\n",
       "      <td>8ea0a11856a456c27a9320d258d1a9b5</td>\n",
       "      <td>nan</td>\n",
       "    </tr>\n",
       "  </tbody>\n",
       "</table>\n",
       "</div>"
      ],
      "text/plain": [
       "                               hash Type 1\n",
       "0  5e16e45f22fd546b4b52e45ca031e5c5    nan\n",
       "1  8ea0a11856a456c27a9320d258d1a9b5    nan"
      ]
     },
     "execution_count": 5,
     "metadata": {},
     "output_type": "execute_result"
    }
   ],
   "source": [
    "import pandas as pd\n",
    "import numpy as np\n",
    "\n",
    "df = pd.read_csv('target.csv')\n",
    "df = df[df['Type 1'].isnull()]\n",
    "df['Type 1'] = df['Type 1'].astype('str')\n",
    "df.head()"
   ]
  },
  {
   "cell_type": "code",
   "execution_count": 6,
   "metadata": {},
   "outputs": [],
   "source": [
    "import requests\n",
    "import time\n",
    "import json\n",
    "\n",
    "headers = {\n",
    "    \"accept\": \"application/json\",\n",
    "    \"x-apikey\": \"83dc2ff9bc10cbc2079c5a8583e8bd956a9623e5f0f6e9cff49fc3872e8736d0\" #PLACE YOUR API KEY HERE\n",
    "}"
   ]
  },
  {
   "cell_type": "code",
   "execution_count": 7,
   "metadata": {},
   "outputs": [],
   "source": [
    "def countdown(t): \n",
    "    while t: \n",
    "        mins, secs = divmod(t, 60) \n",
    "        timer = '{:02d}:{:02d}'.format(mins, secs) \n",
    "        print(timer, end=\"\\r\")\n",
    "        time.sleep(1) \n",
    "        t -= 1"
   ]
  },
  {
   "cell_type": "code",
   "execution_count": 21,
   "metadata": {},
   "outputs": [
    {
     "name": "stdout",
     "output_type": "stream",
     "text": [
      "1/2: 5e16e45f22fd546b4b52e45ca031e5c5 obtained!\n",
      "2/2: 8ea0a11856a456c27a9320d258d1a9b5 obtained!\n",
      "finished\n"
     ]
    }
   ],
   "source": [
    "for i in range(df.shape[0]):\n",
    "    url = f\"https://www.virustotal.com/api/v3/files/{df.iloc[i]['hash']}\"\n",
    "    response = requests.get(url, headers=headers)\n",
    "    if \"exceeded\"  in response.text:\n",
    "        print(\"Quota Exceeded!\")\n",
    "        break\n",
    "    else:\n",
    "        json_dict = json.loads(response.text)['data']['attributes']['popular_threat_classification']\n",
    "        suggested = json_dict['suggested_threat_label']\n",
    "        output = json_dict['suggested_threat_label']\n",
    "        df.iloc[i, 1] = str(output)\n",
    "        print(f\"{i+1}/{df.shape[0]}: {df.iloc[i]['hash']} obtained!\")\n",
    "        df.to_csv('target_filled.csv', index=False)\n",
    "        countdown(16)\n",
    "print(\"finished\")"
   ]
  }
 ],
 "metadata": {
  "kernelspec": {
   "display_name": "base",
   "language": "python",
   "name": "python3"
  },
  "language_info": {
   "codemirror_mode": {
    "name": "ipython",
    "version": 3
   },
   "file_extension": ".py",
   "mimetype": "text/x-python",
   "name": "python",
   "nbconvert_exporter": "python",
   "pygments_lexer": "ipython3",
   "version": "3.11.5"
  }
 },
 "nbformat": 4,
 "nbformat_minor": 2
}
