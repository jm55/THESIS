{
 "cells": [
  {
   "cell_type": "markdown",
   "metadata": {},
   "source": [
    "# Malicious ClusterScan\n",
    "\n",
    "Describes/summarizes the or set of clusters. Useful for when you aim to enlist the summarized malware types found in each cluster in order by Type # as presented in VirusTotal such that the first ones on the list per cluster are Type 1 (most popular), followed by Type 2 then Type 3 (least popular).\n",
    "\n",
    "Note that this notebook only makes use of the verified xxxx_SampleHash_Common.csv file which represents a significant majority of the entire Oliveira dataset.  "
   ]
  },
  {
   "cell_type": "markdown",
   "metadata": {},
   "source": [
    "## Import Libraries/Datasets"
   ]
  },
  {
   "cell_type": "code",
   "execution_count": 1,
   "metadata": {},
   "outputs": [
    {
     "name": "stderr",
     "output_type": "stream",
     "text": [
      "C:\\Users\\ejose\\AppData\\Roaming\\Python\\Python311\\site-packages\\pandas\\core\\arrays\\masked.py:60: UserWarning: Pandas requires version '1.3.6' or newer of 'bottleneck' (version '1.3.5' currently installed).\n",
      "  from pandas.core import (\n"
     ]
    }
   ],
   "source": [
    "import pandas as pd\n",
    "import matplotlib.pyplot as plt\n",
    "\n",
    "import warnings\n",
    "warnings.simplefilter(action='ignore', category=FutureWarning)\n",
    "\n",
    "plt.rcParams[\"figure.autolayout\"] = True\n",
    "\n",
    "malicious_df = pd.read_csv('./Clean_Manual_DBSCAN_SampleHash_Common.csv', low_memory=False, index_col=False) #This should point to a VirusTotal verified <Data Clustering>_SampleHash_Common.csv file\n",
    "\n",
    "#Load list of API calls\n",
    "API_LIST = \"../api_calls.txt\"\n",
    "DELIMITER = \"NaN\"\n",
    "API_FILE = open(API_LIST,\"r\")\n",
    "APIS = API_FILE.readline().split(',')\n",
    "APIS.append(DELIMITER) #serves as a label for NaN values for Instance-based datasets\n",
    "API_FILE.close()\n",
    "\n",
    "def list_to_str(ls:list):\n",
    "    output = \"\"\n",
    "    for l in ls:\n",
    "        output += str(l) + \" \"\n",
    "    return output[0:len(output)-1]\n",
    "\n",
    "def inject_patterns(inner_df:pd.DataFrame):\n",
    "    patterns = []\n",
    "    for row in range(inner_df.shape[0]):\n",
    "        patterns.append(list_to_str(inner_df.iloc[row,2:5].transpose().to_list()))\n",
    "    inner_df['type_pattern'] = patterns\n",
    "    return inner_df\n",
    "\n",
    "def get_unique_clusters(df:pd.DataFrame):\n",
    "    return list(df['cluster'].unique())\n",
    "\n",
    "def get_summary(df:pd.DataFrame):\n",
    "    #Identify the overall list of types each cluster is as designated by VirusTotal.\n",
    "    unique_clusters = get_unique_clusters(df)\n",
    "    summary = []\n",
    "    for u in unique_clusters:\n",
    "        cluster_sublist = [u]\n",
    "        df_copy = malicious_df[malicious_df['cluster'] == u].copy(deep=True)\n",
    "        idx = list(df_copy['Type 1'].value_counts().index)\n",
    "        counts = list(df_copy['Type 1'].value_counts())\n",
    "        type_sublist = []\n",
    "        for i in range(len(idx)):\n",
    "            type_sublist.append([idx[i], counts[i]])\n",
    "        cluster_sublist.append(type_sublist)\n",
    "        # str_summary = []\n",
    "        # cluster_sublist.append(list(df_copy['type_pattern'].value_counts().index))\n",
    "        # cluster_sublist.append(list(df_copy['type_pattern'].value_counts()))\n",
    "        summary.append(cluster_sublist)\n",
    "    return summary\n",
    "\n",
    "DELIMITER = \"NaN\"\n",
    "API_FILE = open(API_LIST,\"r\")\n",
    "APIS = API_FILE.readline().split(',')\n",
    "APIS.append(DELIMITER) #serves as a label for NaN values for Instance-based datasets\n",
    "API_FILE.close()\n",
    "\n",
    "from sklearn.preprocessing import LabelEncoder\n",
    "#Inverse Label Encoding\n",
    "def inverse_label(item):\n",
    "    global APIS\n",
    "    return item.map(lambda x: APIS[int(x)])\n",
    "oliveira = pd.read_csv('../oliveira.csv', low_memory=False)\n",
    "oliveira.iloc[:, 1:101] = oliveira.iloc[:, 1:101].apply(inverse_label, axis=1, result_type='reduce')\n",
    "\n",
    "def how_many_clusters():\n",
    "    c = malicious_df['cluster'].unique()\n",
    "    c.sort()\n",
    "    print(\"Number of Clusters:\", c.size)\n",
    "    c = malicious_df['cluster'].value_counts(ascending=True)\n",
    "    print(\"Number of single-item Clusters:\", c[c==1].count())"
   ]
  },
  {
   "cell_type": "markdown",
   "metadata": {},
   "source": [
    "## DataFrame Preview"
   ]
  },
  {
   "cell_type": "code",
   "execution_count": 2,
   "metadata": {
    "scrolled": true
   },
   "outputs": [
    {
     "data": {
      "text/html": [
       "<div>\n",
       "<style scoped>\n",
       "    .dataframe tbody tr th:only-of-type {\n",
       "        vertical-align: middle;\n",
       "    }\n",
       "\n",
       "    .dataframe tbody tr th {\n",
       "        vertical-align: top;\n",
       "    }\n",
       "\n",
       "    .dataframe thead th {\n",
       "        text-align: right;\n",
       "    }\n",
       "</style>\n",
       "<table border=\"1\" class=\"dataframe\">\n",
       "  <thead>\n",
       "    <tr style=\"text-align: right;\">\n",
       "      <th></th>\n",
       "      <th>cluster</th>\n",
       "      <th>hash</th>\n",
       "      <th>Type 1</th>\n",
       "      <th>Type 2</th>\n",
       "      <th>Type 3</th>\n",
       "      <th>pattern</th>\n",
       "    </tr>\n",
       "  </thead>\n",
       "  <tbody>\n",
       "    <tr>\n",
       "      <th>0</th>\n",
       "      <td>0</td>\n",
       "      <td>071e8c3f8922e186e57548cd4c703a5d</td>\n",
       "      <td>_</td>\n",
       "      <td>_</td>\n",
       "      <td>_</td>\n",
       "      <td>RegOpenKeyExA,NtOpenKey,NtQueryValueKey,NtClos...</td>\n",
       "    </tr>\n",
       "    <tr>\n",
       "      <th>1</th>\n",
       "      <td>1</td>\n",
       "      <td>33f8e6d08a6aae939f25a8e0d63dd523</td>\n",
       "      <td>_</td>\n",
       "      <td>_</td>\n",
       "      <td>_</td>\n",
       "      <td>GetSystemTimeAsFileTime,NtAllocateVirtualMemor...</td>\n",
       "    </tr>\n",
       "    <tr>\n",
       "      <th>2</th>\n",
       "      <td>2</td>\n",
       "      <td>b68abd064e975e1c6d5f25e748663076</td>\n",
       "      <td>_</td>\n",
       "      <td>_</td>\n",
       "      <td>_</td>\n",
       "      <td>SetUnhandledExceptionFilter,OleInitialize,LdrL...</td>\n",
       "    </tr>\n",
       "    <tr>\n",
       "      <th>3</th>\n",
       "      <td>3</td>\n",
       "      <td>72049be7bd30ea61297ea624ae198067</td>\n",
       "      <td>_</td>\n",
       "      <td>_</td>\n",
       "      <td>_</td>\n",
       "      <td>GetSystemTimeAsFileTime,NtAllocateVirtualMemor...</td>\n",
       "    </tr>\n",
       "    <tr>\n",
       "      <th>4</th>\n",
       "      <td>4</td>\n",
       "      <td>c9b3700a77facf29172f32df6bc77f48</td>\n",
       "      <td>_</td>\n",
       "      <td>_</td>\n",
       "      <td>_</td>\n",
       "      <td>GetSystemTimeAsFileTime,LdrLoadDll,LdrGetProce...</td>\n",
       "    </tr>\n",
       "    <tr>\n",
       "      <th>5</th>\n",
       "      <td>5</td>\n",
       "      <td>cc6217be863e606e49da90fee2252f52</td>\n",
       "      <td>_</td>\n",
       "      <td>_</td>\n",
       "      <td>_</td>\n",
       "      <td>LdrGetProcedureAddress,NtAllocateVirtualMemory...</td>\n",
       "    </tr>\n",
       "    <tr>\n",
       "      <th>6</th>\n",
       "      <td>6</td>\n",
       "      <td>f7a1a3c38809d807b3f5f4cc00b1e9b7</td>\n",
       "      <td>_</td>\n",
       "      <td>_</td>\n",
       "      <td>_</td>\n",
       "      <td>NtClose,NtOpenKey,NtQueryValueKey,NtClose,NtOp...</td>\n",
       "    </tr>\n",
       "    <tr>\n",
       "      <th>7</th>\n",
       "      <td>7</td>\n",
       "      <td>164b56522eb24164184460f8523ed7e2</td>\n",
       "      <td>_</td>\n",
       "      <td>_</td>\n",
       "      <td>_</td>\n",
       "      <td>GetSystemTimeAsFileTime,LdrLoadDll,LdrGetProce...</td>\n",
       "    </tr>\n",
       "    <tr>\n",
       "      <th>8</th>\n",
       "      <td>8</td>\n",
       "      <td>56ae1459ba61a14eb119982d6ec793d7</td>\n",
       "      <td>_</td>\n",
       "      <td>_</td>\n",
       "      <td>_</td>\n",
       "      <td>GetSystemTimeAsFileTime,LdrLoadDll,LdrGetProce...</td>\n",
       "    </tr>\n",
       "    <tr>\n",
       "      <th>9</th>\n",
       "      <td>9</td>\n",
       "      <td>c4148ca91c5246a8707a1ac1fd1e2e36</td>\n",
       "      <td>_</td>\n",
       "      <td>_</td>\n",
       "      <td>_</td>\n",
       "      <td>GetSystemTimeAsFileTime,NtAllocateVirtualMemor...</td>\n",
       "    </tr>\n",
       "  </tbody>\n",
       "</table>\n",
       "</div>"
      ],
      "text/plain": [
       "   cluster                              hash Type 1 Type 2 Type 3  \\\n",
       "0        0  071e8c3f8922e186e57548cd4c703a5d      _      _      _   \n",
       "1        1  33f8e6d08a6aae939f25a8e0d63dd523      _      _      _   \n",
       "2        2  b68abd064e975e1c6d5f25e748663076      _      _      _   \n",
       "3        3  72049be7bd30ea61297ea624ae198067      _      _      _   \n",
       "4        4  c9b3700a77facf29172f32df6bc77f48      _      _      _   \n",
       "5        5  cc6217be863e606e49da90fee2252f52      _      _      _   \n",
       "6        6  f7a1a3c38809d807b3f5f4cc00b1e9b7      _      _      _   \n",
       "7        7  164b56522eb24164184460f8523ed7e2      _      _      _   \n",
       "8        8  56ae1459ba61a14eb119982d6ec793d7      _      _      _   \n",
       "9        9  c4148ca91c5246a8707a1ac1fd1e2e36      _      _      _   \n",
       "\n",
       "                                             pattern  \n",
       "0  RegOpenKeyExA,NtOpenKey,NtQueryValueKey,NtClos...  \n",
       "1  GetSystemTimeAsFileTime,NtAllocateVirtualMemor...  \n",
       "2  SetUnhandledExceptionFilter,OleInitialize,LdrL...  \n",
       "3  GetSystemTimeAsFileTime,NtAllocateVirtualMemor...  \n",
       "4  GetSystemTimeAsFileTime,LdrLoadDll,LdrGetProce...  \n",
       "5  LdrGetProcedureAddress,NtAllocateVirtualMemory...  \n",
       "6  NtClose,NtOpenKey,NtQueryValueKey,NtClose,NtOp...  \n",
       "7  GetSystemTimeAsFileTime,LdrLoadDll,LdrGetProce...  \n",
       "8  GetSystemTimeAsFileTime,LdrLoadDll,LdrGetProce...  \n",
       "9  GetSystemTimeAsFileTime,NtAllocateVirtualMemor...  "
      ]
     },
     "metadata": {},
     "output_type": "display_data"
    },
    {
     "data": {
      "text/plain": [
       "(41124, 6)"
      ]
     },
     "metadata": {},
     "output_type": "display_data"
    },
    {
     "data": {
      "text/plain": [
       "<Axes: ylabel='Type 1'>"
      ]
     },
     "execution_count": 2,
     "metadata": {},
     "output_type": "execute_result"
    },
    {
     "data": {
      "image/png": "[encoded data removed]",
      "text/plain": [
       "<Figure size 640x480 with 1 Axes>"
      ]
     },
     "metadata": {},
     "output_type": "display_data"
    }
   ],
   "source": [
    "#Replace '-' empty malware type delimiter with '_' for consistency\n",
    "malicious_df.replace(to_replace='-',value='_', inplace=True)\n",
    "display(malicious_df.head(10))\n",
    "display(malicious_df.shape)\n",
    "malicious_df['Type 1'].value_counts(ascending=True).plot(kind='barh')"
   ]
  },
  {
   "cell_type": "code",
   "execution_count": 3,
   "metadata": {},
   "outputs": [
    {
     "name": "stdout",
     "output_type": "stream",
     "text": [
      "Number of Clusters: 0\n",
      "Number of single-item Clusters: 0\n"
     ]
    }
   ],
   "source": [
    "#INJECT PATTERN (i.e., summarized malware type pattern) to the DataFrame\n",
    "malicious_df = inject_patterns(malicious_df)\n",
    "\n",
    "#DROP ROWS THAT ARE FALSELLY LABELLED. (i.e. '_' on all popularity levels of VirusTotal)\n",
    "malicious_df.drop(malicious_df[(malicious_df['Type 1']=='_')].index, inplace=True)\n",
    "\n",
    "how_many_clusters()"
   ]
  },
  {
   "cell_type": "markdown",
   "metadata": {},
   "source": [
    "## \"What Malware Types can be found in the overall dataset?\"\n",
    "\n",
    "### This is regardless of cluster."
   ]
  },
  {
   "cell_type": "code",
   "execution_count": 4,
   "metadata": {},
   "outputs": [
    {
     "data": {
      "text/plain": [
       "Series([], Name: count, dtype: int64)"
      ]
     },
     "metadata": {},
     "output_type": "display_data"
    },
    {
     "data": {
      "image/png": "[encoded data removed]",
      "text/plain": [
       "<Figure size 1200x900 with 1 Axes>"
      ]
     },
     "metadata": {},
     "output_type": "display_data"
    }
   ],
   "source": [
    "output = malicious_df['Type 1'].value_counts()\n",
    "str_output = str(output) + \"\\n\\n\"\n",
    "with open(\"./Output/1 MalwareTypes_in_Dataset.txt\", 'w') as f:\n",
    "    f.write(str_output)\n",
    "    f.flush\n",
    "    f.close()\n",
    "display(output)\n",
    "fig, axs = plt.subplots(nrows=1, layout='constrained')\n",
    "fig.set_figwidth(4)\n",
    "fig.set_figheight(3)\n",
    "fig.set_dpi(300)\n",
    "axs.set_title('Malware Type Counts')\n",
    "axs.barh(malicious_df['Type 1'].value_counts().index, malicious_df['Type 1'].value_counts())\n",
    "axs.invert_yaxis()\n",
    "# axs[1].set_title('Type 2 Malware Type Counts')\n",
    "# axs[1].invert_yaxis()\n",
    "# axs[1].barh(malicious_df['Type 2'].value_counts().index, malicious_df['Type 2'].value_counts())\n",
    "# axs[2].invert_yaxis()\n",
    "# axs[2].set_title('Type 3 (Least \\'Popular\\') Malware Type Counts')\n",
    "# axs[2].barh(malicious_df['Type 3'].value_counts().index, malicious_df['Type 3'].value_counts())\n",
    "plt.savefig(\"./Output/1 Popular Malware Types in Dataset.png\")"
   ]
  },
  {
   "cell_type": "markdown",
   "metadata": {},
   "source": [
    "## How many clusters are there?"
   ]
  },
  {
   "cell_type": "code",
   "execution_count": 5,
   "metadata": {},
   "outputs": [
    {
     "name": "stdout",
     "output_type": "stream",
     "text": [
      "Number of Clusters: 0\n",
      "Number of single-item Clusters: 0\n"
     ]
    }
   ],
   "source": [
    "how_many_clusters( )"
   ]
  },
  {
   "cell_type": "code",
   "execution_count": 6,
   "metadata": {},
   "outputs": [
    {
     "data": {
      "text/html": [
       "<div>\n",
       "<style scoped>\n",
       "    .dataframe tbody tr th:only-of-type {\n",
       "        vertical-align: middle;\n",
       "    }\n",
       "\n",
       "    .dataframe tbody tr th {\n",
       "        vertical-align: top;\n",
       "    }\n",
       "\n",
       "    .dataframe thead th {\n",
       "        text-align: right;\n",
       "    }\n",
       "</style>\n",
       "<table border=\"1\" class=\"dataframe\">\n",
       "  <thead>\n",
       "    <tr style=\"text-align: right;\">\n",
       "      <th></th>\n",
       "      <th>cluster</th>\n",
       "      <th>hash</th>\n",
       "      <th>Type 1</th>\n",
       "      <th>Type 2</th>\n",
       "      <th>Type 3</th>\n",
       "      <th>pattern</th>\n",
       "      <th>type_pattern</th>\n",
       "    </tr>\n",
       "  </thead>\n",
       "  <tbody>\n",
       "  </tbody>\n",
       "</table>\n",
       "</div>"
      ],
      "text/plain": [
       "Empty DataFrame\n",
       "Columns: [cluster, hash, Type 1, Type 2, Type 3, pattern, type_pattern]\n",
       "Index: []"
      ]
     },
     "execution_count": 6,
     "metadata": {},
     "output_type": "execute_result"
    }
   ],
   "source": [
    "# DROP CLUSTERS WITH MORE THAN 1 MALWARE TYPE UNDER IT (i.e. NOISE)\n",
    "unique_clusters = get_unique_clusters(malicious_df)\n",
    "for u in unique_clusters:\n",
    "    if len(malicious_df[malicious_df['cluster'] == u]['Type 1'].unique()) > 1:\n",
    "        malicious_df = malicious_df.drop(malicious_df[malicious_df['cluster'] == u].index)\n",
    "malicious_df.head()"
   ]
  },
  {
   "cell_type": "code",
   "execution_count": 7,
   "metadata": {},
   "outputs": [
    {
     "name": "stdout",
     "output_type": "stream",
     "text": [
      "Number of Clusters: 0\n",
      "Number of single-item Clusters: 0\n"
     ]
    }
   ],
   "source": [
    "how_many_clusters()"
   ]
  },
  {
   "cell_type": "markdown",
   "metadata": {},
   "source": [
    "## \"What Malware Types are there in each cluster?\"\n"
   ]
  },
  {
   "cell_type": "markdown",
   "metadata": {},
   "source": [
    "### Identify the counts of Malware Types per Cluster\n",
    "\n",
    "This indicates the malware types (including the # of instances) found in each cluster."
   ]
  },
  {
   "cell_type": "code",
   "execution_count": 8,
   "metadata": {},
   "outputs": [
    {
     "name": "stdout",
     "output_type": "stream",
     "text": [
      "\n"
     ]
    }
   ],
   "source": [
    "str_output = \"\"\n",
    "summary = get_summary(malicious_df)\n",
    "summary.sort()\n",
    "for s in summary:\n",
    "    str_output += f\"CLUSTER {s[0]}: \"\n",
    "    for t in s[1]:\n",
    "        str_output += f\"{t[0]} ({t[1]}); \"\n",
    "    # str_output += \"\\n\\tType 2: \"\n",
    "    # for t in s[2]:\n",
    "    #     str_output += f\"{t[0]} ({t[1]}); \"\n",
    "    # str_output += \"\\n\\tType 3: \"\n",
    "    # for t in s[3]:\n",
    "    #     str_output += f\"{t[0]} ({t[1]}); \"\n",
    "    # str_output += \"\\n\\tMost Popular Malware Type Combination (in order Most to Least):\\n\"\n",
    "    # for i,t in enumerate(s[4]):\n",
    "    #     str_output += f\"\\t    {i+1} {t:12s} ({s[5][i]})\\n\"\n",
    "    str_output += \"\\n\"\n",
    "with open(\"./Output/1 MalwareType_per_Cluster.txt\", 'w') as f:\n",
    "    f.write(str_output)\n",
    "    f.flush\n",
    "    f.close()\n",
    "print(str_output)"
   ]
  },
  {
   "cell_type": "markdown",
   "metadata": {},
   "source": [
    "### Identify the Clusters that have the same Unique Malware Type\n",
    "\n",
    "This indicates what clusters have verified malicious samples that match specific Malware Types.\n",
    "\n",
    "This indicates the most occuring Malware Type which extends to the most 'popular' malware type that is probably found in the dataset.\n",
    "\n",
    "Such findings may also be used as a reflection as to what malware types are most prevalent in the wild."
   ]
  },
  {
   "cell_type": "code",
   "execution_count": 9,
   "metadata": {},
   "outputs": [
    {
     "name": "stdout",
     "output_type": "stream",
     "text": [
      "# of Unique Malware Type: 0\n",
      "\n",
      "\n"
     ]
    },
    {
     "data": {
      "text/plain": [
       "'Top 10 Most Common Malware Type (by Cluster Count)'"
      ]
     },
     "metadata": {},
     "output_type": "display_data"
    },
    {
     "data": {
      "text/html": [
       "<div>\n",
       "<style scoped>\n",
       "    .dataframe tbody tr th:only-of-type {\n",
       "        vertical-align: middle;\n",
       "    }\n",
       "\n",
       "    .dataframe tbody tr th {\n",
       "        vertical-align: top;\n",
       "    }\n",
       "\n",
       "    .dataframe thead th {\n",
       "        text-align: right;\n",
       "    }\n",
       "</style>\n",
       "<table border=\"1\" class=\"dataframe\">\n",
       "  <thead>\n",
       "    <tr style=\"text-align: right;\">\n",
       "      <th></th>\n",
       "      <th>Malware Type</th>\n",
       "      <th>No. of Matching Clusters</th>\n",
       "      <th>Matching Clusters</th>\n",
       "    </tr>\n",
       "  </thead>\n",
       "  <tbody>\n",
       "  </tbody>\n",
       "</table>\n",
       "</div>"
      ],
      "text/plain": [
       "Empty DataFrame\n",
       "Columns: [Malware Type, No. of Matching Clusters, Matching Clusters]\n",
       "Index: []"
      ]
     },
     "metadata": {},
     "output_type": "display_data"
    }
   ],
   "source": [
    "# Summarize Clusters that have the same malware types as per VirusTotal.\n",
    "str_output = f\"# of Unique Malware Type: {len(malicious_df['Type 1'].unique())}\" + \"\\n\\n\"\n",
    "\n",
    "cluster_instance_summary = [0] * len(list(malicious_df['cluster'].unique()))\n",
    "count_summary = []\n",
    "for i, u in enumerate(list(malicious_df['Type 1'].unique())):\n",
    "    matching = malicious_df[malicious_df['Type 1'] == u]['cluster']\n",
    "    count_summary.append([u, len(list(matching)), len(list(matching.unique())) ,str(list(matching.unique()))])\n",
    "    str_output += f\"Unique Malware Type: {i+1}\".upper() + \"\\n\"\n",
    "    str_output += f\"Malware Type: {u}\" + \"\\n\"\n",
    "    str_output += f\"Matching Clusters Count: {len(list(matching.unique()))}\" + \"\\n\"\n",
    "    str_output += f\"Matching Clusters: {list(matching.unique())}\" + \"\\n\"\n",
    "    str_output += \"\\n\"\n",
    "with open(\"./Output/1 Clusters_on_Unique_MalwareType.txt\", 'w') as f:\n",
    "    f.write(str_output)\n",
    "    f.flush\n",
    "    f.close()\n",
    "print(str_output)\n",
    "\n",
    "count_summary.sort(key=lambda x: x[1])\n",
    "count_summary = pd.DataFrame(count_summary, columns=['Malware Type', 'No. of Matching Verified Samples', 'No. of Matching Clusters', \"Matching Clusters\"])\n",
    "\n",
    "count_summary.sort_values(by='No. of Matching Clusters',ascending=False, inplace=True)\n",
    "display(\"Top 10 Most Common Malware Type (by Cluster Count)\")\n",
    "display(count_summary[['Malware Type','No. of Matching Clusters', 'Matching Clusters']].iloc[0:10])\n",
    "count_summary[['Malware Type','No. of Matching Clusters', 'Matching Clusters']].iloc[0:10].to_csv(\"./Output/1 10_Most_Common_MalwareType_byClusterCount.csv\", index=False)"
   ]
  },
  {
   "cell_type": "markdown",
   "metadata": {},
   "source": [
    "## \"What the API Calls are in each Malware Type\""
   ]
  },
  {
   "cell_type": "code",
   "execution_count": 10,
   "metadata": {},
   "outputs": [
    {
     "name": "stdout",
     "output_type": "stream",
     "text": [
      "Top 10 API CALLS PER MALWARE TYPE\n"
     ]
    }
   ],
   "source": [
    "malware_types = count_summary['Malware Type'].to_list()\n",
    "malware_apis = []\n",
    "\n",
    "pd.set_option(\"display.max_rows\", None)\n",
    "\n",
    "print(\"Top 10 API CALLS PER MALWARE TYPE\")\n",
    "for m in malware_types:\n",
    "    hashes = malicious_df[malicious_df['Type 1'] == m]['hash'].to_list()\n",
    "    complete = []\n",
    "    for h in hashes:\n",
    "        complete += oliveira[oliveira['hash']==h].iloc[0,1:101].to_list()\n",
    "    ser = pd.Series(complete, name=m)\n",
    "    ser.value_counts().to_csv(f\"./Output/1_APICALL_{m}.csv\")\n",
    "    malware_apis.append(ser.unique().tolist())\n",
    "    display(ser.value_counts())"
   ]
  },
  {
   "cell_type": "markdown",
   "metadata": {},
   "source": [
    "## \"What the Unique API Calls are in each Malware Type\""
   ]
  },
  {
   "cell_type": "code",
   "execution_count": 11,
   "metadata": {},
   "outputs": [],
   "source": [
    "for i,m in enumerate(malware_types):\n",
    "    print(i, m)\n",
    "    m_list = malware_apis[i]\n",
    "    for j in range(len(malware_apis)):\n",
    "        if j != i:\n",
    "            for k in m_list[:]:\n",
    "                if k in malware_apis[j]:\n",
    "                    m_list.remove(k)\n",
    "    print(m_list)\n",
    "    print(\"\\n\")"
   ]
  },
  {
   "cell_type": "markdown",
   "metadata": {},
   "source": [
    "## How many samples remaining?"
   ]
  },
  {
   "cell_type": "code",
   "execution_count": 12,
   "metadata": {},
   "outputs": [
    {
     "name": "stdout",
     "output_type": "stream",
     "text": [
      "0\n",
      "0.0000%\n"
     ]
    }
   ],
   "source": [
    "print(f\"{malicious_df.shape[0]}\\n{malicious_df.shape[0]/42797*100:.4f}%\")"
   ]
  },
  {
   "cell_type": "markdown",
   "metadata": {},
   "source": [
    "## What are the remaining clusters?"
   ]
  },
  {
   "cell_type": "code",
   "execution_count": 13,
   "metadata": {},
   "outputs": [
    {
     "name": "stdout",
     "output_type": "stream",
     "text": [
      "Number of Clusters: 0\n",
      "Number of single-item Clusters: 0\n"
     ]
    }
   ],
   "source": [
    "how_many_clusters()"
   ]
  }
 ],
 "metadata": {
  "kernelspec": {
   "display_name": "Python 3 (ipykernel)",
   "language": "python",
   "name": "python3"
  },
  "language_info": {
   "codemirror_mode": {
    "name": "ipython",
    "version": 3
   },
   "file_extension": ".py",
   "mimetype": "text/x-python",
   "name": "python",
   "nbconvert_exporter": "python",
   "pygments_lexer": "ipython3",
   "version": "3.11.5"
  }
 },
 "nbformat": 4,
 "nbformat_minor": 2
}
