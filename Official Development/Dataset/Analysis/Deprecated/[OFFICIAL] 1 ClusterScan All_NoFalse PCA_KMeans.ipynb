{
 "cells": [
  {
   "cell_type": "markdown",
   "metadata": {},
   "source": [
    "# Malicious ClusterScan\n",
    "\n",
    "Describes/summarizes the or set of clusters. Useful for when you aim to enlist the summarized malware types found in each cluster in order by Malware Type.\n",
    "\n",
    "Assume that the dataset is already pre-processed:\n",
    "1. Removal of nan values\n",
    "2. Data Cleaning (Removal of False Labels and *Removal/Aggregation of malware types of poor quantity*)\n",
    "3. Inverse Ordinal Encoding (for representation purposes only)"
   ]
  },
  {
   "cell_type": "markdown",
   "metadata": {},
   "source": [
    "## Import Libraries/Datasets"
   ]
  },
  {
   "cell_type": "code",
   "execution_count": null,
   "metadata": {},
   "outputs": [],
   "source": [
    "import pandas as pd\n",
    "import matplotlib.pyplot as plt\n",
    "\n",
    "import warnings\n",
    "warnings.simplefilter(action='ignore', category=FutureWarning)\n",
    "\n",
    "plt.rcParams[\"figure.autolayout\"] = True\n",
    "\n",
    "malicious_df = pd.read_csv('../Clustering/Malicious/Manual_DBSCAN_Encoded_Clustering.csv', low_memory=False, index_col=False) #This should point to a VirusTotal verified <Data Clustering>_SampleHash_Common.csv file\n",
    "\n",
    "#Load list of API calls\n",
    "API_LIST = \"../api_calls.txt\"\n",
    "DELIMITER = \"NaN\"\n",
    "API_FILE = open(API_LIST,\"r\")\n",
    "APIS = API_FILE.readline().split(',')\n",
    "APIS.append(DELIMITER) #serves as a label for NaN values for Instance-based datasets\n",
    "API_FILE.close()\n",
    "\n",
    "def list_to_str(ls:list):\n",
    "    output = \"\"\n",
    "    for l in ls:\n",
    "        output += str(l) + \" \"\n",
    "    return output[0:len(output)-1]\n",
    "\n",
    "def inject_patterns(inner_df:pd.DataFrame):\n",
    "    patterns = []\n",
    "    for row in range(inner_df.shape[0]):\n",
    "        patterns.append(list_to_str(inner_df.iloc[row,2:5].transpose().to_list()))\n",
    "    inner_df['type_pattern'] = patterns\n",
    "    return inner_df\n",
    "\n",
    "def get_unique_clusters(df:pd.DataFrame):\n",
    "    return list(df['cluster'].unique())\n",
    "\n",
    "def get_summary(df:pd.DataFrame):\n",
    "    #Identify the overall list of types each cluster is as designated by VirusTotal.\n",
    "    unique_clusters = get_unique_clusters(df)\n",
    "    summary = []\n",
    "    for u in unique_clusters:\n",
    "        cluster_sublist = [u]\n",
    "        df_copy = malicious_df[malicious_df['cluster'] == u].copy(deep=True)\n",
    "        idx = list(df_copy['type'].value_counts().index)\n",
    "        counts = list(df_copy['type'].value_counts())\n",
    "        type_sublist = []\n",
    "        for i in range(len(idx)):\n",
    "            type_sublist.append([idx[i], counts[i]])\n",
    "        cluster_sublist.append(type_sublist)\n",
    "        # str_summary = []\n",
    "        # cluster_sublist.append(list(df_copy['type_pattern'].value_counts().index))\n",
    "        # cluster_sublist.append(list(df_copy['type_pattern'].value_counts()))\n",
    "        summary.append(cluster_sublist)\n",
    "    return summary\n",
    "\n",
    "DELIMITER = \"NaN\"\n",
    "API_FILE = open(API_LIST,\"r\")\n",
    "APIS = API_FILE.readline().split(',')\n",
    "APIS.append(DELIMITER) #serves as a label for NaN values for Instance-based datasets\n",
    "API_FILE.close()\n",
    "\n",
    "from sklearn.preprocessing import LabelEncoder\n",
    "#Inverse Label Encoding\n",
    "def inverse_label(item):\n",
    "    global APIS\n",
    "    return item.map(lambda x: APIS[int(x)])\n",
    "oliveira = pd.read_csv('../oliveira.csv', low_memory=False)\n",
    "oliveira.iloc[:, 1:101] = oliveira.iloc[:, 1:101].apply(inverse_label, axis=1, result_type='reduce')\n",
    "\n",
    "def how_many_clusters():\n",
    "    c = malicious_df['cluster'].unique()\n",
    "    c.sort()\n",
    "    print(\"Number of Clusters:\", c.size)\n",
    "    c = malicious_df['cluster'].value_counts(ascending=True)\n",
    "    print(\"Number of single-item Clusters:\", c[c==1].count())\n",
    "    print(\"Number of Samples Remaining:\", malicious_df.shape[0])"
   ]
  },
  {
   "cell_type": "markdown",
   "metadata": {},
   "source": [
    "## DataFrame Preview"
   ]
  },
  {
   "cell_type": "code",
   "execution_count": null,
   "metadata": {
    "scrolled": true
   },
   "outputs": [],
   "source": [
    "#Replace '-' empty malware type delimiter with '_' for consistency\n",
    "malicious_df.replace(to_replace='-',value='_', inplace=True)\n",
    "display(malicious_df.head(10))\n",
    "display(malicious_df.shape)\n",
    "malicious_df['type'].value_counts(ascending=True).plot(kind='barh')"
   ]
  },
  {
   "cell_type": "code",
   "execution_count": null,
   "metadata": {},
   "outputs": [],
   "source": [
    "#INJECT PATTERN (i.e., summarized malware type pattern) to the DataFrame\n",
    "malicious_df = inject_patterns(malicious_df)\n",
    "\n",
    "print(\"Raw Clustered malicious samples\")\n",
    "how_many_clusters()"
   ]
  },
  {
   "cell_type": "markdown",
   "metadata": {},
   "source": [
    "## How many clusters are there?"
   ]
  },
  {
   "cell_type": "code",
   "execution_count": null,
   "metadata": {},
   "outputs": [],
   "source": [
    "# #Prior to noise removal\n",
    "# print(\"Prior to noise removal\")\n",
    "# how_many_clusters()"
   ]
  },
  {
   "cell_type": "code",
   "execution_count": null,
   "metadata": {},
   "outputs": [],
   "source": [
    "# #DROP CLUSTERS WITH MORE THAN 1 MALWARE TYPE UNDER IT (i.e. NOISE)\n",
    "# unique_clusters = get_unique_clusters(malicious_df)\n",
    "# for u in unique_clusters:\n",
    "#     if len(malicious_df[malicious_df['cluster'] == u]['type'].unique()) > 1:\n",
    "#         malicious_df = malicious_df.drop(malicious_df[malicious_df['cluster'] == u].index)\n",
    "# malicious_df.head()\n",
    "\n",
    "# print(\"After removing yet unlabelled malicious samples\\n and clusters with more than 1 malware type\")\n",
    "# how_many_clusters()"
   ]
  },
  {
   "cell_type": "code",
   "execution_count": null,
   "metadata": {},
   "outputs": [],
   "source": [
    "# #REMOVE SINGLE ITEM CLUSTERS\n",
    "# unique_clusters = get_unique_clusters(malicious_df)\n",
    "# for u in unique_clusters:\n",
    "#     if malicious_df[malicious_df['cluster'] == u].shape[0] == 1:\n",
    "#         malicious_df = malicious_df.drop(malicious_df[malicious_df['cluster'] == u].index)\n",
    "\n",
    "# print(\"After removing single-item clusters\")\n",
    "# how_many_clusters()"
   ]
  },
  {
   "cell_type": "markdown",
   "metadata": {},
   "source": [
    "## \"What Malware Types can be found in the overall dataset?\"\n",
    "\n",
    "### This is regardless of cluster."
   ]
  },
  {
   "cell_type": "code",
   "execution_count": null,
   "metadata": {},
   "outputs": [],
   "source": [
    "output = malicious_df['type'].value_counts()\n",
    "str_output = str(output) + \"\\n\\n\"\n",
    "with open(\"./Output/1 MalwareTypes_in_Dataset KMeans.txt\", 'w') as f:\n",
    "    f.write(str_output)\n",
    "    f.flush\n",
    "    f.close()\n",
    "display(output)\n",
    "fig, axs = plt.subplots(nrows=1, layout='constrained')\n",
    "fig.set_figwidth(4)\n",
    "fig.set_figheight(3)\n",
    "fig.set_dpi(300)\n",
    "axs.set_title('Malware Type Counts')\n",
    "axs.barh(malicious_df['type'].value_counts().index, malicious_df['type'].value_counts())\n",
    "axs.invert_yaxis()\n",
    "# axs[1].set_title('Type 2 Malware Type Counts')\n",
    "# axs[1].invert_yaxis()\n",
    "# axs[1].barh(malicious_df['Type 2'].value_counts().index, malicious_df['Type 2'].value_counts())\n",
    "# axs[2].invert_yaxis()\n",
    "# axs[2].set_title('Type 3 (Least \\'Popular\\') Malware Type Counts')\n",
    "# axs[2].barh(malicious_df['Type 3'].value_counts().index, malicious_df['Type 3'].value_counts())\n",
    "plt.savefig(\"./Output/1 Popular Malware Types in Dataset.png\")"
   ]
  },
  {
   "cell_type": "markdown",
   "metadata": {},
   "source": [
    "## \"What Malware Types are there in each cluster?\"\n"
   ]
  },
  {
   "cell_type": "markdown",
   "metadata": {},
   "source": [
    "### Identify the counts of Malware Types per Cluster\n",
    "\n",
    "This indicates the malware types (including the # of instances) found in each cluster."
   ]
  },
  {
   "cell_type": "code",
   "execution_count": null,
   "metadata": {},
   "outputs": [],
   "source": [
    "str_output = \"\"\n",
    "summary = get_summary(malicious_df)\n",
    "summary.sort()\n",
    "for s in summary:\n",
    "    str_output += f\"CLUSTER {s[0]}: \"\n",
    "    for t in s[1]:\n",
    "        str_output += f\"{t[0]} ({t[1]}); \"\n",
    "    # str_output += \"\\n\\tType 2: \"\n",
    "    # for t in s[2]:\n",
    "    #     str_output += f\"{t[0]} ({t[1]}); \"\n",
    "    # str_output += \"\\n\\tType 3: \"\n",
    "    # for t in s[3]:\n",
    "    #     str_output += f\"{t[0]} ({t[1]}); \"\n",
    "    # str_output += \"\\n\\tMost Popular Malware Type Combination (in order Most to Least):\\n\"\n",
    "    # for i,t in enumerate(s[4]):\n",
    "    #     str_output += f\"\\t    {i+1} {t:12s} ({s[5][i]})\\n\"\n",
    "    str_output += \"\\n\"\n",
    "with open(\"./Output/1 MalwareType_per_Cluster KMeans.txt\", 'w') as f:\n",
    "    f.write(str_output)\n",
    "    f.flush\n",
    "    f.close()\n",
    "print(str_output)"
   ]
  },
  {
   "cell_type": "markdown",
   "metadata": {},
   "source": [
    "### Identify the Clusters that have the same Unique Malware Type\n",
    "\n",
    "This indicates what clusters have verified malicious samples that match specific Malware Types.\n",
    "\n",
    "This indicates the most occuring Malware Type which extends to the most 'popular' malware type that is probably found in the dataset.\n",
    "\n",
    "Such findings may also be used as a reflection as to what malware types are most prevalent in the wild."
   ]
  },
  {
   "cell_type": "code",
   "execution_count": null,
   "metadata": {},
   "outputs": [],
   "source": [
    "# Summarize Clusters that have the same malware types as per VirusTotal.\n",
    "str_output = f\"# of Unique Malware Type: {len(malicious_df['type'].unique())}\" + \"\\n\\n\"\n",
    "\n",
    "cluster_instance_summary = [0] * len(list(malicious_df['cluster'].unique()))\n",
    "count_summary = []\n",
    "for i, u in enumerate(list(malicious_df['type'].unique())):\n",
    "    matching = malicious_df[malicious_df['type'] == u]['cluster']\n",
    "    count_summary.append([u, len(list(matching)), len(list(matching.unique())) ,str(list(matching.unique()))])\n",
    "    str_output += f\"Unique Malware Type: {i+1}\".upper() + \"\\n\"\n",
    "    str_output += f\"Malware Type: {u}\" + \"\\n\"\n",
    "    str_output += f\"Matching Clusters Count: {len(list(matching.unique()))}\" + \"\\n\"\n",
    "    str_output += f\"Matching Clusters: {list(matching.unique())}\" + \"\\n\"\n",
    "    str_output += \"\\n\"\n",
    "with open(\"./Output/1 Clusters_on_Unique_MalwareType KMeans.txt\", 'w') as f:\n",
    "    f.write(str_output)\n",
    "    f.flush\n",
    "    f.close()\n",
    "print(str_output)\n",
    "\n",
    "count_summary.sort(key=lambda x: x[1])\n",
    "count_summary = pd.DataFrame(count_summary, columns=['Malware Type', 'No. of Matching Verified Samples', 'No. of Matching Clusters', \"Matching Clusters\"])\n",
    "\n",
    "count_summary.sort_values(by='No. of Matching Clusters',ascending=False, inplace=True)\n",
    "display(\"Top 10 Most Common Malware Type (by Cluster Count)\")\n",
    "display(count_summary[['Malware Type','No. of Matching Clusters', 'Matching Clusters']].iloc[0:10])\n",
    "count_summary[['Malware Type','No. of Matching Clusters', 'Matching Clusters']].iloc[0:10].to_csv(\"./Output/1 10_Most_Common_MalwareType_byClusterCount.csv\", index=False)"
   ]
  },
  {
   "cell_type": "markdown",
   "metadata": {},
   "source": [
    "## \"What the API Calls are in the dataset?\""
   ]
  },
  {
   "cell_type": "code",
   "execution_count": null,
   "metadata": {},
   "outputs": [],
   "source": [
    "pd.set_option(\"display.max_rows\", None)\n",
    "\n",
    "print(\"Top 10 API CALLS\")\n",
    "hashes = malicious_df['hash'].to_list()\n",
    "complete = []\n",
    "for h in hashes:\n",
    "    complete += oliveira[oliveira['hash']==h].iloc[0,1:101].to_list()\n",
    "ser = pd.Series(complete)\n",
    "#ser.value_counts().to_csv(f\"./Output/1_APICALL_{m}.csv\")\n",
    "#malware_apis.append(ser.unique().tolist())\n",
    "display(ser.value_counts())"
   ]
  },
  {
   "cell_type": "markdown",
   "metadata": {},
   "source": [
    "## \"What the API Calls are in each Malware Type\""
   ]
  },
  {
   "cell_type": "code",
   "execution_count": null,
   "metadata": {},
   "outputs": [],
   "source": [
    "malware_types = count_summary['Malware Type'].to_list()\n",
    "malware_apis = []\n",
    "\n",
    "pd.set_option(\"display.max_rows\", None)\n",
    "\n",
    "print(\"Top 10 API CALLS PER MALWARE TYPE\")\n",
    "for m in malware_types:\n",
    "    hashes = malicious_df[malicious_df['type'] == m]['hash'].to_list()\n",
    "    complete = []\n",
    "    for h in hashes:\n",
    "        complete += oliveira[oliveira['hash']==h].iloc[0,1:101].to_list()\n",
    "    ser = pd.Series(complete, name=m)\n",
    "    ser.value_counts().to_csv(f\"./Output/1_APICALL_{m}.csv\")\n",
    "    malware_apis.append(ser.unique().tolist())\n",
    "    display(ser.value_counts())"
   ]
  },
  {
   "cell_type": "markdown",
   "metadata": {},
   "source": [
    "## \"What the Unique API Calls are in each Malware Type\""
   ]
  },
  {
   "cell_type": "code",
   "execution_count": null,
   "metadata": {
    "scrolled": true
   },
   "outputs": [],
   "source": [
    "for i,m in enumerate(malware_types):\n",
    "    print(i, m)\n",
    "    m_list = malware_apis[i]\n",
    "    for j in range(len(malware_apis)):\n",
    "        if j != i:\n",
    "            for k in m_list[:]:\n",
    "                if k in malware_apis[j]:\n",
    "                    m_list.remove(k)\n",
    "    print(m_list)\n",
    "    print(\"\\n\")"
   ]
  }
 ],
 "metadata": {
  "kernelspec": {
   "display_name": "Python 3 (ipykernel)",
   "language": "python",
   "name": "python3"
  },
  "language_info": {
   "codemirror_mode": {
    "name": "ipython",
    "version": 3
   },
   "file_extension": ".py",
   "mimetype": "text/x-python",
   "name": "python",
   "nbconvert_exporter": "python",
   "pygments_lexer": "ipython3",
   "version": "3.11.5"
  }
 },
 "nbformat": 4,
 "nbformat_minor": 4
}
