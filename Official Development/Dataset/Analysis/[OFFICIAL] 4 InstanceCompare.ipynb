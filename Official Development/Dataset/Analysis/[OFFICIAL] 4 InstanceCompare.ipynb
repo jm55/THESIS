{
 "cells": [
  {
   "cell_type": "markdown",
   "metadata": {},
   "source": [
    "# Instance Compare\n",
    "\n",
    "Aims to answer the question **Are there any unique indicators to malicious samples in terms of specific API Call(s) alone?** in **4.2.6. Dataset Analysis** of the study.\n",
    "\n",
    "Note that this notebook only makes use of the verified xxxx_SampleHash_Common.csv file which represents a significant majority of the entire Oliveira dataset.  "
   ]
  },
  {
   "cell_type": "markdown",
   "metadata": {},
   "source": [
    "## Import Libraries/Datasets"
   ]
  },
  {
   "cell_type": "code",
   "execution_count": 8,
   "metadata": {},
   "outputs": [],
   "source": [
    "import pandas as pd\n",
    "import time\n",
    "\n",
    "malicious_df = pd.read_csv('../Clustering/(EDITED)KMeans_SampleHash_Common.csv', low_memory=False) #This should point to a verified <DataClustering>_SampleHash_Common.csv file\n",
    "benign_df = pd.read_csv('../Clustering/Benign/API_Patterns.csv') #This should point to the API_Patterns.csv file\n",
    "\n",
    "#Load list of API calls\n",
    "API_LIST = \"../api_calls.txt\"\n",
    "DELIMITER = \"NaN\"\n",
    "API_FILE = open(API_LIST,\"r\")\n",
    "APIS = API_FILE.readline().split(',')\n",
    "# APIS.append(DELIMITER) #serves as a label for NaN values for Instance-based datasets\n",
    "API_FILE.close()"
   ]
  },
  {
   "cell_type": "markdown",
   "metadata": {},
   "source": [
    "## DataFrame Preview"
   ]
  },
  {
   "cell_type": "code",
   "execution_count": 9,
   "metadata": {},
   "outputs": [
    {
     "name": "stdout",
     "output_type": "stream",
     "text": [
      "Malicious DF\n"
     ]
    },
    {
     "data": {
      "text/html": [
       "<div>\n",
       "<style scoped>\n",
       "    .dataframe tbody tr th:only-of-type {\n",
       "        vertical-align: middle;\n",
       "    }\n",
       "\n",
       "    .dataframe tbody tr th {\n",
       "        vertical-align: top;\n",
       "    }\n",
       "\n",
       "    .dataframe thead th {\n",
       "        text-align: right;\n",
       "    }\n",
       "</style>\n",
       "<table border=\"1\" class=\"dataframe\">\n",
       "  <thead>\n",
       "    <tr style=\"text-align: right;\">\n",
       "      <th></th>\n",
       "      <th>cluster</th>\n",
       "      <th>hash</th>\n",
       "      <th>Type 1</th>\n",
       "      <th>Type 2</th>\n",
       "      <th>Type 3</th>\n",
       "      <th>pattern</th>\n",
       "      <th>type_pattern</th>\n",
       "    </tr>\n",
       "  </thead>\n",
       "  <tbody>\n",
       "    <tr>\n",
       "      <th>0</th>\n",
       "      <td>0</td>\n",
       "      <td>490d584c7d303ed35c673460b63f3ca8</td>\n",
       "      <td>trojan</td>\n",
       "      <td>dropper</td>\n",
       "      <td>pua</td>\n",
       "      <td>GetSystemTimeAsFileTime,NtCreateMutant,GetSyst...</td>\n",
       "      <td>trojan dropper pua</td>\n",
       "    </tr>\n",
       "    <tr>\n",
       "      <th>1</th>\n",
       "      <td>0</td>\n",
       "      <td>9ab8ea1d2d68a0d4110df413e677976c</td>\n",
       "      <td>trojan</td>\n",
       "      <td>hacktool</td>\n",
       "      <td>_</td>\n",
       "      <td>GetSystemTimeAsFileTime,NtCreateMutant,GetSyst...</td>\n",
       "      <td>trojan hacktool _</td>\n",
       "    </tr>\n",
       "    <tr>\n",
       "      <th>2</th>\n",
       "      <td>0</td>\n",
       "      <td>adbc74815ef2bd1ea4967abad812233d</td>\n",
       "      <td>trojan</td>\n",
       "      <td>_</td>\n",
       "      <td>_</td>\n",
       "      <td>GetSystemTimeAsFileTime,NtCreateMutant,GetSyst...</td>\n",
       "      <td>trojan _ _</td>\n",
       "    </tr>\n",
       "    <tr>\n",
       "      <th>4</th>\n",
       "      <td>0</td>\n",
       "      <td>f5a0ad49337ebc87897698e70d03364e</td>\n",
       "      <td>trojan</td>\n",
       "      <td>dropper</td>\n",
       "      <td>_</td>\n",
       "      <td>GetSystemTimeAsFileTime,NtCreateMutant,GetSyst...</td>\n",
       "      <td>trojan dropper _</td>\n",
       "    </tr>\n",
       "    <tr>\n",
       "      <th>5</th>\n",
       "      <td>0</td>\n",
       "      <td>4c972b447659f1e86769eb43593fd2a5</td>\n",
       "      <td>trojan</td>\n",
       "      <td>downloader</td>\n",
       "      <td>dropper</td>\n",
       "      <td>GetSystemTimeAsFileTime,NtCreateMutant,GetSyst...</td>\n",
       "      <td>trojan downloader dropper</td>\n",
       "    </tr>\n",
       "    <tr>\n",
       "      <th>...</th>\n",
       "      <td>...</td>\n",
       "      <td>...</td>\n",
       "      <td>...</td>\n",
       "      <td>...</td>\n",
       "      <td>...</td>\n",
       "      <td>...</td>\n",
       "      <td>...</td>\n",
       "    </tr>\n",
       "    <tr>\n",
       "      <th>1755</th>\n",
       "      <td>198</td>\n",
       "      <td>0226e311ed2648ff399c7902fc113421</td>\n",
       "      <td>adware</td>\n",
       "      <td>trojan</td>\n",
       "      <td>_</td>\n",
       "      <td>GetSystemTimeAsFileTime,LdrLoadDll,LdrGetProce...</td>\n",
       "      <td>adware trojan _</td>\n",
       "    </tr>\n",
       "    <tr>\n",
       "      <th>1756</th>\n",
       "      <td>198</td>\n",
       "      <td>d24b78bd73f17379ed62e4c776b4f66e</td>\n",
       "      <td>trojan</td>\n",
       "      <td>adware</td>\n",
       "      <td>_</td>\n",
       "      <td>GetSystemTimeAsFileTime,LdrLoadDll,LdrGetProce...</td>\n",
       "      <td>trojan adware _</td>\n",
       "    </tr>\n",
       "    <tr>\n",
       "      <th>1757</th>\n",
       "      <td>198</td>\n",
       "      <td>f666dd4b3a53b7fe71f8976fa09bfdfb</td>\n",
       "      <td>trojan</td>\n",
       "      <td>adware</td>\n",
       "      <td>_</td>\n",
       "      <td>GetSystemTimeAsFileTime,LdrLoadDll,LdrGetProce...</td>\n",
       "      <td>trojan adware _</td>\n",
       "    </tr>\n",
       "    <tr>\n",
       "      <th>1759</th>\n",
       "      <td>199</td>\n",
       "      <td>18bce1a594550daf8b3f318de48c1674</td>\n",
       "      <td>trojan</td>\n",
       "      <td>dropper</td>\n",
       "      <td>_</td>\n",
       "      <td>SetErrorMode,OleInitialize,LdrGetDllHandle,Ldr...</td>\n",
       "      <td>trojan dropper _</td>\n",
       "    </tr>\n",
       "    <tr>\n",
       "      <th>1760</th>\n",
       "      <td>199</td>\n",
       "      <td>a09e5874fabaeb81d267058fa450e608</td>\n",
       "      <td>trojan</td>\n",
       "      <td>downloader</td>\n",
       "      <td>_</td>\n",
       "      <td>SetErrorMode,OleInitialize,LdrGetDllHandle,Ldr...</td>\n",
       "      <td>trojan downloader _</td>\n",
       "    </tr>\n",
       "  </tbody>\n",
       "</table>\n",
       "<p>1664 rows × 7 columns</p>\n",
       "</div>"
      ],
      "text/plain": [
       "      cluster                              hash  Type 1      Type 2   Type 3  \\\n",
       "0           0  490d584c7d303ed35c673460b63f3ca8  trojan     dropper      pua   \n",
       "1           0  9ab8ea1d2d68a0d4110df413e677976c  trojan    hacktool        _   \n",
       "2           0  adbc74815ef2bd1ea4967abad812233d  trojan           _        _   \n",
       "4           0  f5a0ad49337ebc87897698e70d03364e  trojan     dropper        _   \n",
       "5           0  4c972b447659f1e86769eb43593fd2a5  trojan  downloader  dropper   \n",
       "...       ...                               ...     ...         ...      ...   \n",
       "1755      198  0226e311ed2648ff399c7902fc113421  adware      trojan        _   \n",
       "1756      198  d24b78bd73f17379ed62e4c776b4f66e  trojan      adware        _   \n",
       "1757      198  f666dd4b3a53b7fe71f8976fa09bfdfb  trojan      adware        _   \n",
       "1759      199  18bce1a594550daf8b3f318de48c1674  trojan     dropper        _   \n",
       "1760      199  a09e5874fabaeb81d267058fa450e608  trojan  downloader        _   \n",
       "\n",
       "                                                pattern  \\\n",
       "0     GetSystemTimeAsFileTime,NtCreateMutant,GetSyst...   \n",
       "1     GetSystemTimeAsFileTime,NtCreateMutant,GetSyst...   \n",
       "2     GetSystemTimeAsFileTime,NtCreateMutant,GetSyst...   \n",
       "4     GetSystemTimeAsFileTime,NtCreateMutant,GetSyst...   \n",
       "5     GetSystemTimeAsFileTime,NtCreateMutant,GetSyst...   \n",
       "...                                                 ...   \n",
       "1755  GetSystemTimeAsFileTime,LdrLoadDll,LdrGetProce...   \n",
       "1756  GetSystemTimeAsFileTime,LdrLoadDll,LdrGetProce...   \n",
       "1757  GetSystemTimeAsFileTime,LdrLoadDll,LdrGetProce...   \n",
       "1759  SetErrorMode,OleInitialize,LdrGetDllHandle,Ldr...   \n",
       "1760  SetErrorMode,OleInitialize,LdrGetDllHandle,Ldr...   \n",
       "\n",
       "                   type_pattern  \n",
       "0            trojan dropper pua  \n",
       "1             trojan hacktool _  \n",
       "2                    trojan _ _  \n",
       "4              trojan dropper _  \n",
       "5     trojan downloader dropper  \n",
       "...                         ...  \n",
       "1755            adware trojan _  \n",
       "1756            trojan adware _  \n",
       "1757            trojan adware _  \n",
       "1759           trojan dropper _  \n",
       "1760        trojan downloader _  \n",
       "\n",
       "[1664 rows x 7 columns]"
      ]
     },
     "metadata": {},
     "output_type": "display_data"
    },
    {
     "name": "stdout",
     "output_type": "stream",
     "text": [
      "Benign DF\n"
     ]
    },
    {
     "data": {
      "text/html": [
       "<div>\n",
       "<style scoped>\n",
       "    .dataframe tbody tr th:only-of-type {\n",
       "        vertical-align: middle;\n",
       "    }\n",
       "\n",
       "    .dataframe tbody tr th {\n",
       "        vertical-align: top;\n",
       "    }\n",
       "\n",
       "    .dataframe thead th {\n",
       "        text-align: right;\n",
       "    }\n",
       "</style>\n",
       "<table border=\"1\" class=\"dataframe\">\n",
       "  <thead>\n",
       "    <tr style=\"text-align: right;\">\n",
       "      <th></th>\n",
       "      <th>hash</th>\n",
       "      <th>t_0</th>\n",
       "      <th>t_1</th>\n",
       "      <th>t_2</th>\n",
       "      <th>t_3</th>\n",
       "      <th>t_4</th>\n",
       "      <th>t_5</th>\n",
       "      <th>t_6</th>\n",
       "      <th>t_7</th>\n",
       "      <th>t_8</th>\n",
       "      <th>...</th>\n",
       "      <th>t_91</th>\n",
       "      <th>t_92</th>\n",
       "      <th>t_93</th>\n",
       "      <th>t_94</th>\n",
       "      <th>t_95</th>\n",
       "      <th>t_96</th>\n",
       "      <th>t_97</th>\n",
       "      <th>t_98</th>\n",
       "      <th>t_99</th>\n",
       "      <th>pattern</th>\n",
       "    </tr>\n",
       "  </thead>\n",
       "  <tbody>\n",
       "    <tr>\n",
       "      <th>0</th>\n",
       "      <td>5b51d65972a349f90a86984c26b12b30</td>\n",
       "      <td>SetErrorMode</td>\n",
       "      <td>OleInitialize</td>\n",
       "      <td>LdrGetDllHandle</td>\n",
       "      <td>LdrLoadDll</td>\n",
       "      <td>LdrGetProcedureAddress</td>\n",
       "      <td>LdrLoadDll</td>\n",
       "      <td>LdrGetProcedureAddress</td>\n",
       "      <td>LdrLoadDll</td>\n",
       "      <td>LdrGetProcedureAddress</td>\n",
       "      <td>...</td>\n",
       "      <td>NtClose</td>\n",
       "      <td>NtQueryDirectoryFile</td>\n",
       "      <td>NtClose</td>\n",
       "      <td>LdrGetProcedureAddress</td>\n",
       "      <td>CoCreateInstance</td>\n",
       "      <td>NtOpenSection</td>\n",
       "      <td>CreateDirectoryW</td>\n",
       "      <td>NtCreateFile</td>\n",
       "      <td>LdrGetProcedureAddress</td>\n",
       "      <td>SetErrorMode,OleInitialize,LdrGetDllHandle,Ldr...</td>\n",
       "    </tr>\n",
       "    <tr>\n",
       "      <th>1</th>\n",
       "      <td>ceb8cc125478fad641daa4e04e9b2f19</td>\n",
       "      <td>GetSystemInfo</td>\n",
       "      <td>NtAllocateVirtualMemory</td>\n",
       "      <td>NtOpenSection</td>\n",
       "      <td>GetTempPathW</td>\n",
       "      <td>CreateDirectoryW</td>\n",
       "      <td>GetFileAttributesW</td>\n",
       "      <td>FindFirstFileExW</td>\n",
       "      <td>DeleteFileW</td>\n",
       "      <td>NtQueryDirectoryFile</td>\n",
       "      <td>...</td>\n",
       "      <td>NtClose</td>\n",
       "      <td>NtCreateMutant</td>\n",
       "      <td>NtClose</td>\n",
       "      <td>LdrGetDllHandle</td>\n",
       "      <td>LdrGetProcedureAddress</td>\n",
       "      <td>NtClose</td>\n",
       "      <td>NtCreateMutant</td>\n",
       "      <td>NtClose</td>\n",
       "      <td>NtCreateFile</td>\n",
       "      <td>GetSystemInfo,NtAllocateVirtualMemory,NtOpenSe...</td>\n",
       "    </tr>\n",
       "    <tr>\n",
       "      <th>2</th>\n",
       "      <td>f108600edf46d7c20f6acc522aeba6df</td>\n",
       "      <td>GetSystemTimeAsFileTime</td>\n",
       "      <td>NtProtectVirtualMemory</td>\n",
       "      <td>SetUnhandledExceptionFilter</td>\n",
       "      <td>GetTimeZoneInformation</td>\n",
       "      <td>GetSystemTimeAsFileTime</td>\n",
       "      <td>GetTimeZoneInformation</td>\n",
       "      <td>GetSystemTimeAsFileTime</td>\n",
       "      <td>GetTimeZoneInformation</td>\n",
       "      <td>GetSystemTimeAsFileTime</td>\n",
       "      <td>...</td>\n",
       "      <td>SetErrorMode</td>\n",
       "      <td>GetFileAttributesExW</td>\n",
       "      <td>SetErrorMode</td>\n",
       "      <td>NtAllocateVirtualMemory</td>\n",
       "      <td>SetErrorMode</td>\n",
       "      <td>GetFileAttributesExW</td>\n",
       "      <td>SetErrorMode</td>\n",
       "      <td>FindFirstFileExW</td>\n",
       "      <td>NtQueryDirectoryFile</td>\n",
       "      <td>GetSystemTimeAsFileTime,NtProtectVirtualMemory...</td>\n",
       "    </tr>\n",
       "    <tr>\n",
       "      <th>3</th>\n",
       "      <td>711be6337cb78a948f04759a0bd210ce</td>\n",
       "      <td>GetSystemTimeAsFileTime</td>\n",
       "      <td>LdrLoadDll</td>\n",
       "      <td>LdrGetProcedureAddress</td>\n",
       "      <td>LdrLoadDll</td>\n",
       "      <td>LdrGetProcedureAddress</td>\n",
       "      <td>LdrLoadDll</td>\n",
       "      <td>LdrGetProcedureAddress</td>\n",
       "      <td>LdrLoadDll</td>\n",
       "      <td>LdrGetProcedureAddress</td>\n",
       "      <td>...</td>\n",
       "      <td>LdrGetProcedureAddress</td>\n",
       "      <td>NtAllocateVirtualMemory</td>\n",
       "      <td>LdrGetProcedureAddress</td>\n",
       "      <td>GetSystemMetrics</td>\n",
       "      <td>LdrLoadDll</td>\n",
       "      <td>LdrGetProcedureAddress</td>\n",
       "      <td>GetSystemMetrics</td>\n",
       "      <td>NtAllocateVirtualMemory</td>\n",
       "      <td>LdrLoadDll</td>\n",
       "      <td>GetSystemTimeAsFileTime,LdrLoadDll,LdrGetProce...</td>\n",
       "    </tr>\n",
       "    <tr>\n",
       "      <th>4</th>\n",
       "      <td>6de26f67ceb1e3303b889489010f4c3f</td>\n",
       "      <td>SetErrorMode</td>\n",
       "      <td>OleInitialize</td>\n",
       "      <td>LdrGetDllHandle</td>\n",
       "      <td>LdrLoadDll</td>\n",
       "      <td>LdrGetProcedureAddress</td>\n",
       "      <td>LdrLoadDll</td>\n",
       "      <td>LdrGetProcedureAddress</td>\n",
       "      <td>LdrLoadDll</td>\n",
       "      <td>LdrGetProcedureAddress</td>\n",
       "      <td>...</td>\n",
       "      <td>NtClose</td>\n",
       "      <td>NtQueryDirectoryFile</td>\n",
       "      <td>NtClose</td>\n",
       "      <td>LdrGetProcedureAddress</td>\n",
       "      <td>GetSystemWindowsDirectoryW</td>\n",
       "      <td>LoadStringW</td>\n",
       "      <td>GetSystemWindowsDirectoryW</td>\n",
       "      <td>GetSystemDirectoryW</td>\n",
       "      <td>RegOpenKeyExW</td>\n",
       "      <td>SetErrorMode,OleInitialize,LdrGetDllHandle,Ldr...</td>\n",
       "    </tr>\n",
       "    <tr>\n",
       "      <th>...</th>\n",
       "      <td>...</td>\n",
       "      <td>...</td>\n",
       "      <td>...</td>\n",
       "      <td>...</td>\n",
       "      <td>...</td>\n",
       "      <td>...</td>\n",
       "      <td>...</td>\n",
       "      <td>...</td>\n",
       "      <td>...</td>\n",
       "      <td>...</td>\n",
       "      <td>...</td>\n",
       "      <td>...</td>\n",
       "      <td>...</td>\n",
       "      <td>...</td>\n",
       "      <td>...</td>\n",
       "      <td>...</td>\n",
       "      <td>...</td>\n",
       "      <td>...</td>\n",
       "      <td>...</td>\n",
       "      <td>...</td>\n",
       "      <td>...</td>\n",
       "    </tr>\n",
       "    <tr>\n",
       "      <th>1074</th>\n",
       "      <td>d282ef96a93986f89825508812958354</td>\n",
       "      <td>SetErrorMode</td>\n",
       "      <td>OleInitialize</td>\n",
       "      <td>LdrGetDllHandle</td>\n",
       "      <td>LdrLoadDll</td>\n",
       "      <td>LdrGetProcedureAddress</td>\n",
       "      <td>LdrLoadDll</td>\n",
       "      <td>LdrGetProcedureAddress</td>\n",
       "      <td>LdrLoadDll</td>\n",
       "      <td>LdrGetProcedureAddress</td>\n",
       "      <td>...</td>\n",
       "      <td>NtClose</td>\n",
       "      <td>LdrGetProcedureAddress</td>\n",
       "      <td>NtAllocateVirtualMemory</td>\n",
       "      <td>LdrGetDllHandle</td>\n",
       "      <td>LdrGetProcedureAddress</td>\n",
       "      <td>LdrGetDllHandle</td>\n",
       "      <td>LdrGetProcedureAddress</td>\n",
       "      <td>LdrGetDllHandle</td>\n",
       "      <td>LdrGetProcedureAddress</td>\n",
       "      <td>SetErrorMode,OleInitialize,LdrGetDllHandle,Ldr...</td>\n",
       "    </tr>\n",
       "    <tr>\n",
       "      <th>1075</th>\n",
       "      <td>c0389d256f976044adf570f0df908953</td>\n",
       "      <td>GetSystemTimeAsFileTime</td>\n",
       "      <td>SetUnhandledExceptionFilter</td>\n",
       "      <td>GetCursorPos</td>\n",
       "      <td>SetErrorMode</td>\n",
       "      <td>FindResourceW</td>\n",
       "      <td>SetWindowsHookExW</td>\n",
       "      <td>CoInitializeEx</td>\n",
       "      <td>NtDuplicateObject</td>\n",
       "      <td>NtAllocateVirtualMemory</td>\n",
       "      <td>...</td>\n",
       "      <td>NtAllocateVirtualMemory</td>\n",
       "      <td>LdrLoadDll</td>\n",
       "      <td>LdrGetProcedureAddress</td>\n",
       "      <td>NtAllocateVirtualMemory</td>\n",
       "      <td>GetSystemMetrics</td>\n",
       "      <td>RegOpenKeyExW</td>\n",
       "      <td>NtAllocateVirtualMemory</td>\n",
       "      <td>GetSystemMetrics</td>\n",
       "      <td>NtAllocateVirtualMemory</td>\n",
       "      <td>GetSystemTimeAsFileTime,SetUnhandledExceptionF...</td>\n",
       "    </tr>\n",
       "    <tr>\n",
       "      <th>1076</th>\n",
       "      <td>20316e717de5db169aecbb67377504ce</td>\n",
       "      <td>SetUnhandledExceptionFilter</td>\n",
       "      <td>NtCreateMutant</td>\n",
       "      <td>NtAllocateVirtualMemory</td>\n",
       "      <td>NtClose</td>\n",
       "      <td>NtCreateMutant</td>\n",
       "      <td>NtClose</td>\n",
       "      <td>NtCreateMutant</td>\n",
       "      <td>NtClose</td>\n",
       "      <td>NtAllocateVirtualMemory</td>\n",
       "      <td>...</td>\n",
       "      <td>RegOpenKeyExW</td>\n",
       "      <td>RegQueryValueExW</td>\n",
       "      <td>RegCloseKey</td>\n",
       "      <td>RegOpenKeyExW</td>\n",
       "      <td>RegQueryValueExW</td>\n",
       "      <td>RegCloseKey</td>\n",
       "      <td>RegOpenKeyExW</td>\n",
       "      <td>RegQueryValueExW</td>\n",
       "      <td>RegCloseKey</td>\n",
       "      <td>SetUnhandledExceptionFilter,NtCreateMutant,NtA...</td>\n",
       "    </tr>\n",
       "    <tr>\n",
       "      <th>1077</th>\n",
       "      <td>ce945d424b93ea73fbbedf0254f6bc07</td>\n",
       "      <td>NtClose</td>\n",
       "      <td>NtOpenKey</td>\n",
       "      <td>NtQueryValueKey</td>\n",
       "      <td>NtClose</td>\n",
       "      <td>NtOpenKey</td>\n",
       "      <td>NtQueryValueKey</td>\n",
       "      <td>NtClose</td>\n",
       "      <td>LdrGetDllHandle</td>\n",
       "      <td>LdrGetProcedureAddress</td>\n",
       "      <td>...</td>\n",
       "      <td>LdrLoadDll</td>\n",
       "      <td>LdrGetProcedureAddress</td>\n",
       "      <td>LdrLoadDll</td>\n",
       "      <td>LdrGetProcedureAddress</td>\n",
       "      <td>LdrLoadDll</td>\n",
       "      <td>LdrGetProcedureAddress</td>\n",
       "      <td>LdrGetDllHandle</td>\n",
       "      <td>FindResourceExW</td>\n",
       "      <td>LoadResource</td>\n",
       "      <td>NtClose,NtOpenKey,NtQueryValueKey,NtClose,NtOp...</td>\n",
       "    </tr>\n",
       "    <tr>\n",
       "      <th>1078</th>\n",
       "      <td>70b78f7bdf9c484913d10365348ed2ba</td>\n",
       "      <td>SetErrorMode</td>\n",
       "      <td>LdrGetDllHandle</td>\n",
       "      <td>LdrGetProcedureAddress</td>\n",
       "      <td>GetSystemDirectoryW</td>\n",
       "      <td>NtAllocateVirtualMemory</td>\n",
       "      <td>NtFreeVirtualMemory</td>\n",
       "      <td>NtAllocateVirtualMemory</td>\n",
       "      <td>LdrLoadDll</td>\n",
       "      <td>GetSystemDirectoryW</td>\n",
       "      <td>...</td>\n",
       "      <td>RegQueryValueExW</td>\n",
       "      <td>RegCloseKey</td>\n",
       "      <td>RegOpenKeyExW</td>\n",
       "      <td>NtClose</td>\n",
       "      <td>LdrLoadDll</td>\n",
       "      <td>LdrGetProcedureAddress</td>\n",
       "      <td>GetSystemWindowsDirectoryW</td>\n",
       "      <td>NtCreateFile</td>\n",
       "      <td>NtCreateSection</td>\n",
       "      <td>SetErrorMode,LdrGetDllHandle,LdrGetProcedureAd...</td>\n",
       "    </tr>\n",
       "  </tbody>\n",
       "</table>\n",
       "<p>1079 rows × 102 columns</p>\n",
       "</div>"
      ],
      "text/plain": [
       "                                  hash                          t_0  \\\n",
       "0     5b51d65972a349f90a86984c26b12b30                 SetErrorMode   \n",
       "1     ceb8cc125478fad641daa4e04e9b2f19                GetSystemInfo   \n",
       "2     f108600edf46d7c20f6acc522aeba6df      GetSystemTimeAsFileTime   \n",
       "3     711be6337cb78a948f04759a0bd210ce      GetSystemTimeAsFileTime   \n",
       "4     6de26f67ceb1e3303b889489010f4c3f                 SetErrorMode   \n",
       "...                                ...                          ...   \n",
       "1074  d282ef96a93986f89825508812958354                 SetErrorMode   \n",
       "1075  c0389d256f976044adf570f0df908953      GetSystemTimeAsFileTime   \n",
       "1076  20316e717de5db169aecbb67377504ce  SetUnhandledExceptionFilter   \n",
       "1077  ce945d424b93ea73fbbedf0254f6bc07                      NtClose   \n",
       "1078  70b78f7bdf9c484913d10365348ed2ba                 SetErrorMode   \n",
       "\n",
       "                              t_1                          t_2  \\\n",
       "0                   OleInitialize              LdrGetDllHandle   \n",
       "1         NtAllocateVirtualMemory                NtOpenSection   \n",
       "2          NtProtectVirtualMemory  SetUnhandledExceptionFilter   \n",
       "3                      LdrLoadDll       LdrGetProcedureAddress   \n",
       "4                   OleInitialize              LdrGetDllHandle   \n",
       "...                           ...                          ...   \n",
       "1074                OleInitialize              LdrGetDllHandle   \n",
       "1075  SetUnhandledExceptionFilter                 GetCursorPos   \n",
       "1076               NtCreateMutant      NtAllocateVirtualMemory   \n",
       "1077                    NtOpenKey              NtQueryValueKey   \n",
       "1078              LdrGetDllHandle       LdrGetProcedureAddress   \n",
       "\n",
       "                         t_3                      t_4                     t_5  \\\n",
       "0                 LdrLoadDll   LdrGetProcedureAddress              LdrLoadDll   \n",
       "1               GetTempPathW         CreateDirectoryW      GetFileAttributesW   \n",
       "2     GetTimeZoneInformation  GetSystemTimeAsFileTime  GetTimeZoneInformation   \n",
       "3                 LdrLoadDll   LdrGetProcedureAddress              LdrLoadDll   \n",
       "4                 LdrLoadDll   LdrGetProcedureAddress              LdrLoadDll   \n",
       "...                      ...                      ...                     ...   \n",
       "1074              LdrLoadDll   LdrGetProcedureAddress              LdrLoadDll   \n",
       "1075            SetErrorMode            FindResourceW       SetWindowsHookExW   \n",
       "1076                 NtClose           NtCreateMutant                 NtClose   \n",
       "1077                 NtClose                NtOpenKey         NtQueryValueKey   \n",
       "1078     GetSystemDirectoryW  NtAllocateVirtualMemory     NtFreeVirtualMemory   \n",
       "\n",
       "                          t_6                     t_7  \\\n",
       "0      LdrGetProcedureAddress              LdrLoadDll   \n",
       "1            FindFirstFileExW             DeleteFileW   \n",
       "2     GetSystemTimeAsFileTime  GetTimeZoneInformation   \n",
       "3      LdrGetProcedureAddress              LdrLoadDll   \n",
       "4      LdrGetProcedureAddress              LdrLoadDll   \n",
       "...                       ...                     ...   \n",
       "1074   LdrGetProcedureAddress              LdrLoadDll   \n",
       "1075           CoInitializeEx       NtDuplicateObject   \n",
       "1076           NtCreateMutant                 NtClose   \n",
       "1077                  NtClose         LdrGetDllHandle   \n",
       "1078  NtAllocateVirtualMemory              LdrLoadDll   \n",
       "\n",
       "                          t_8  ...                     t_91  \\\n",
       "0      LdrGetProcedureAddress  ...                  NtClose   \n",
       "1        NtQueryDirectoryFile  ...                  NtClose   \n",
       "2     GetSystemTimeAsFileTime  ...             SetErrorMode   \n",
       "3      LdrGetProcedureAddress  ...   LdrGetProcedureAddress   \n",
       "4      LdrGetProcedureAddress  ...                  NtClose   \n",
       "...                       ...  ...                      ...   \n",
       "1074   LdrGetProcedureAddress  ...                  NtClose   \n",
       "1075  NtAllocateVirtualMemory  ...  NtAllocateVirtualMemory   \n",
       "1076  NtAllocateVirtualMemory  ...            RegOpenKeyExW   \n",
       "1077   LdrGetProcedureAddress  ...               LdrLoadDll   \n",
       "1078      GetSystemDirectoryW  ...         RegQueryValueExW   \n",
       "\n",
       "                         t_92                     t_93  \\\n",
       "0        NtQueryDirectoryFile                  NtClose   \n",
       "1              NtCreateMutant                  NtClose   \n",
       "2        GetFileAttributesExW             SetErrorMode   \n",
       "3     NtAllocateVirtualMemory   LdrGetProcedureAddress   \n",
       "4        NtQueryDirectoryFile                  NtClose   \n",
       "...                       ...                      ...   \n",
       "1074   LdrGetProcedureAddress  NtAllocateVirtualMemory   \n",
       "1075               LdrLoadDll   LdrGetProcedureAddress   \n",
       "1076         RegQueryValueExW              RegCloseKey   \n",
       "1077   LdrGetProcedureAddress               LdrLoadDll   \n",
       "1078              RegCloseKey            RegOpenKeyExW   \n",
       "\n",
       "                         t_94                        t_95  \\\n",
       "0      LdrGetProcedureAddress            CoCreateInstance   \n",
       "1             LdrGetDllHandle      LdrGetProcedureAddress   \n",
       "2     NtAllocateVirtualMemory                SetErrorMode   \n",
       "3            GetSystemMetrics                  LdrLoadDll   \n",
       "4      LdrGetProcedureAddress  GetSystemWindowsDirectoryW   \n",
       "...                       ...                         ...   \n",
       "1074          LdrGetDllHandle      LdrGetProcedureAddress   \n",
       "1075  NtAllocateVirtualMemory            GetSystemMetrics   \n",
       "1076            RegOpenKeyExW            RegQueryValueExW   \n",
       "1077   LdrGetProcedureAddress                  LdrLoadDll   \n",
       "1078                  NtClose                  LdrLoadDll   \n",
       "\n",
       "                        t_96                        t_97  \\\n",
       "0              NtOpenSection            CreateDirectoryW   \n",
       "1                    NtClose              NtCreateMutant   \n",
       "2       GetFileAttributesExW                SetErrorMode   \n",
       "3     LdrGetProcedureAddress            GetSystemMetrics   \n",
       "4                LoadStringW  GetSystemWindowsDirectoryW   \n",
       "...                      ...                         ...   \n",
       "1074         LdrGetDllHandle      LdrGetProcedureAddress   \n",
       "1075           RegOpenKeyExW     NtAllocateVirtualMemory   \n",
       "1076             RegCloseKey               RegOpenKeyExW   \n",
       "1077  LdrGetProcedureAddress             LdrGetDllHandle   \n",
       "1078  LdrGetProcedureAddress  GetSystemWindowsDirectoryW   \n",
       "\n",
       "                         t_98                     t_99  \\\n",
       "0                NtCreateFile   LdrGetProcedureAddress   \n",
       "1                     NtClose             NtCreateFile   \n",
       "2            FindFirstFileExW     NtQueryDirectoryFile   \n",
       "3     NtAllocateVirtualMemory               LdrLoadDll   \n",
       "4         GetSystemDirectoryW            RegOpenKeyExW   \n",
       "...                       ...                      ...   \n",
       "1074          LdrGetDllHandle   LdrGetProcedureAddress   \n",
       "1075         GetSystemMetrics  NtAllocateVirtualMemory   \n",
       "1076         RegQueryValueExW              RegCloseKey   \n",
       "1077          FindResourceExW             LoadResource   \n",
       "1078             NtCreateFile          NtCreateSection   \n",
       "\n",
       "                                                pattern  \n",
       "0     SetErrorMode,OleInitialize,LdrGetDllHandle,Ldr...  \n",
       "1     GetSystemInfo,NtAllocateVirtualMemory,NtOpenSe...  \n",
       "2     GetSystemTimeAsFileTime,NtProtectVirtualMemory...  \n",
       "3     GetSystemTimeAsFileTime,LdrLoadDll,LdrGetProce...  \n",
       "4     SetErrorMode,OleInitialize,LdrGetDllHandle,Ldr...  \n",
       "...                                                 ...  \n",
       "1074  SetErrorMode,OleInitialize,LdrGetDllHandle,Ldr...  \n",
       "1075  GetSystemTimeAsFileTime,SetUnhandledExceptionF...  \n",
       "1076  SetUnhandledExceptionFilter,NtCreateMutant,NtA...  \n",
       "1077  NtClose,NtOpenKey,NtQueryValueKey,NtClose,NtOp...  \n",
       "1078  SetErrorMode,LdrGetDllHandle,LdrGetProcedureAd...  \n",
       "\n",
       "[1079 rows x 102 columns]"
      ]
     },
     "metadata": {},
     "output_type": "display_data"
    }
   ],
   "source": [
    "def list_to_str(ls:list):\n",
    "    output = \"\"\n",
    "    for l in ls:\n",
    "        output += str(l) + \" \"\n",
    "    return output[0:len(output)-1]\n",
    "\n",
    "def inject_patterns(inner_df:pd.DataFrame):\n",
    "    patterns = []\n",
    "    for row in range(inner_df.shape[0]):\n",
    "        patterns.append(list_to_str(inner_df.iloc[row,2:5].transpose().to_list()))\n",
    "    inner_df['type_pattern'] = patterns\n",
    "    return inner_df\n",
    "\n",
    "malicious_df.replace(to_replace='-',value='_', inplace=True)\n",
    "malicious_df.drop(malicious_df[(malicious_df['Type 1']=='_')&(malicious_df['Type 2']=='_')&(malicious_df['Type 3']=='_')].index, inplace=True) #Drop row that is falsely labelled.\n",
    "malicious_df = inject_patterns(malicious_df)\n",
    "\n",
    "print(\"Malicious DF\")\n",
    "display(malicious_df)\n",
    "\n",
    "print(\"Benign DF\")\n",
    "display(benign_df)"
   ]
  },
  {
   "cell_type": "markdown",
   "metadata": {},
   "source": [
    "## Extract Unique API Calls"
   ]
  },
  {
   "cell_type": "code",
   "execution_count": 10,
   "metadata": {},
   "outputs": [
    {
     "name": "stdout",
     "output_type": "stream",
     "text": [
      "# of Unique API Calls in Verified Malicious Samples: 154\n",
      "['GetSystemTimeAsFileTime', 'NtCreateMutant', 'NtOpenKeyEx', 'NtQueryKey', 'LdrLoadDll', 'LdrGetProcedureAddress', 'RegOpenKeyExW', 'RegQueryInfoKeyW', 'RegEnumKeyExW', 'RegEnumValueW', 'RegCloseKey', 'GetFileAttributesW', 'RegQueryValueExW', 'NtOpenFile', 'NtQueryDirectoryFile', 'NtClose', 'NtQuerySystemInformation', 'NtProtectVirtualMemory', 'GetSystemDirectoryW', 'LdrGetDllHandle', 'NtOpenKey', 'NtQueryValueKey', 'NtCreateFile', 'GetFileSize', 'NtCreateSection', 'NtMapViewOfSection', 'GetSystemInfo', 'NtUnmapViewOfSection', 'NtAllocateVirtualMemory', 'NtFreeVirtualMemory', 'SetUnhandledExceptionFilter', 'CryptAcquireContextW', 'CryptCreateHash', 'CryptHashData', 'SetFilePointer', 'NtReadFile', 'CoInitializeEx', 'RegEnumKeyW', 'CreateThread', 'UuidCreate', 'RegCreateKeyExW', 'RegSetValueExW', 'CoCreateInstance', 'FindResourceW', 'SizeofResource', 'LoadResource', 'NtDelayExecution', 'EnumWindows', 'SetErrorMode', 'OleInitialize', 'NtOpenSection', 'GetSystemWindowsDirectoryW', 'RegOpenKeyExA', 'CreateActCtxW', 'GetVolumeNameForVolumeMountPointW', 'NtDuplicateObject', 'LoadStringW', 'GetNativeSystemInfo', 'FindFirstFileExW', 'NtQueryAttributesFile', 'LoadStringA', 'GetSystemMetrics', 'FindResourceExW', 'DrawTextExW', 'FindResourceA', 'RegQueryValueExA', 'NtOpenProcess', 'GetTimeZoneInformation', 'LookupAccountSidW', 'GetFileType', 'NtDeviceIoControlFile', 'NtOpenDirectoryObject', 'WSAStartup', 'CryptDecrypt', 'IsDebuggerPresent', 'SearchPathW', 'SetWindowsHookExA', 'FindResourceExA', '__exception__', 'NtEnumerateKey', 'NtEnumerateValueKey', 'SHGetFolderPathW', 'GetSystemDirectoryA', 'GetTempPathW', 'SetEndOfFile', 'GlobalMemoryStatus', 'NtQueryInformationFile', 'NtOpenMutant', 'GetUserNameW', 'NtCreateThreadEx', 'NtResumeThread', 'DeviceIoControl', 'GetAdaptersInfo', 'GetComputerNameA', 'GlobalMemoryStatusEx', 'LdrUnloadDll', 'GetFileSizeEx', 'GetFileVersionInfoSizeW', 'GetFileVersionInfoW', 'GetCursorPos', 'DrawTextExA', 'OutputDebugStringA', 'GetForegroundWindow', 'RegCreateKeyExA', 'socket', 'CreateDirectoryW', 'NtWriteFile', 'CreateProcessInternalW', 'DeleteFileW', 'RemoveDirectoryA', 'GetSystemWindowsDirectoryA', 'RegEnumKeyExA', 'RegEnumValueA', 'SetWindowsHookExW', 'WriteConsoleA', 'SetFileAttributesW', 'WriteProcessMemory', 'CreateToolhelp32Snapshot', 'Process32FirstW', 'Process32NextW', 'getaddrinfo', 'RemoveDirectoryW', 'InternetOpenA', 'InternetSetOptionA', 'InternetConnectA', 'HttpOpenRequestA', 'ReadProcessMemory', 'NtCreateKey', 'NtSetValueKey', 'NtOpenThread', 'CoUninitialize', 'GetFileAttributesExW', 'closesocket', 'GetShortPathNameW', 'RegSetValueExA', 'LookupPrivilegeValueW', 'GetUserNameA', 'NtSuspendThread', 'ioctlsocket', 'connect', 'select', 'NtTerminateProcess', 'GetDiskFreeSpaceW', 'SetFileTime', 'NtSetInformationFile', 'OpenSCManagerW', 'OpenServiceW', 'CoInitializeSecurity', 'CoCreateInstanceEx', 'GetComputerNameW', 'CoGetClassObject', 'IWbemServices_ExecQuery', 'Module32FirstW', 'Module32NextW']\n",
      "\n",
      "# of Unique API Calls in Benign Samples: 200\n",
      "['SetErrorMode', 'OleInitialize', 'LdrGetDllHandle', 'LdrLoadDll', 'LdrGetProcedureAddress', 'NtOpenSection', 'NtMapViewOfSection', 'RegOpenKeyExW', 'RegQueryValueExW', 'RegCloseKey', 'NtClose', 'NtOpenKey', 'NtQueryValueKey', 'GetSystemWindowsDirectoryW', 'NtCreateFile', 'NtCreateSection', 'RegOpenKeyExA', 'CreateActCtxW', 'GetSystemDirectoryW', 'GetVolumeNameForVolumeMountPointW', 'RegEnumKeyW', 'NtQueryDirectoryFile', 'CoCreateInstance', 'CreateDirectoryW', 'GetSystemInfo', 'NtAllocateVirtualMemory', 'GetTempPathW', 'GetFileAttributesW', 'FindFirstFileExW', 'DeleteFileW', 'RemoveDirectoryW', 'FindResourceA', 'LoadResource', 'SizeofResource', 'GetSystemTimeAsFileTime', 'NtCreateMutant', 'NtQueryAttributesFile', 'NtProtectVirtualMemory', 'SetUnhandledExceptionFilter', 'GetTimeZoneInformation', 'GetFileType', 'NtWriteFile', 'WSAStartup', 'GetFileAttributesExW', 'SHGetFolderPathW', 'NtQuerySystemInformation', 'CoInitializeEx', 'FindResourceExW', 'GetSystemMetrics', 'NtOpenProcess', 'NtDuplicateObject', 'NtUnmapViewOfSection', 'NtFreeVirtualMemory', 'GetForegroundWindow', 'LoadStringW', 'CreateThread', 'IsDebuggerPresent', 'NtOpenFile', 'RegQueryValueExA', 'GlobalMemoryStatusEx', 'NtCreateThreadEx', 'NtResumeThread', 'NtCreateKey', 'LookupAccountSidW', 'NetUserGetInfo', 'EnumWindows', 'SetStdHandle', 'CoInitializeSecurity', 'LdrUnloadDll', 'GetFileVersionInfoSizeW', 'GetFileVersionInfoW', 'FindWindowW', 'RegCreateKeyExW', 'DrawTextExW', 'NtOpenMutant', 'GetFileSize', 'FindResourceW', 'GetNativeSystemInfo', 'NtOpenThread', 'SetFilePointer', 'NtReadFile', 'FindWindowA', 'WriteConsoleA', 'WriteConsoleW', 'LoadStringA', 'LookupPrivilegeValueW', 'GetFileInformationByHandle', 'NtOpenDirectoryObject', 'RegCreateKeyExA', 'RegSetValueExA', 'RegSetValueExW', 'OpenSCManagerW', 'OpenServiceW', 'StartServiceW', 'NtDelayExecution', 'GetUserNameW', 'GetComputerNameW', 'MessageBoxTimeoutW', 'CoUninitialize', 'GetCursorPos', 'NtTerminateProcess', 'NtQueryKey', 'NtOpenKeyEx', 'NtDeviceIoControlFile', 'CryptAcquireContextA', 'socket', 'closesocket', 'SetWindowsHookExW', 'NtQueryInformationFile', 'RegQueryInfoKeyW', 'RegEnumKeyExW', 'RegEnumValueW', 'NtEnumerateKey', 'NtEnumerateValueKey', 'ReadProcessMemory', 'GetSystemDirectoryA', 'RegEnumKeyExA', 'OutputDebugStringA', 'CertOpenStore', 'RemoveDirectoryA', 'DeviceIoControl', 'UuidCreate', 'SetWindowsHookExA', 'NtSetValueKey', 'CryptAcquireContextW', 'FindResourceExA', 'timeGetTime', 'UnhookWindowsHookEx', 'GetUserNameA', 'CreateToolhelp32Snapshot', 'Module32FirstW', 'Module32NextW', 'GetKeyState', 'NtSetInformationFile', 'SearchPathW', 'MessageBoxTimeoutA', 'RegDeleteKeyA', 'SetFilePointerEx', 'WriteProcessMemory', 'GetVolumePathNamesForVolumeNameW', 'FindFirstFileExA', 'GetFileSizeEx', 'InternetSetOptionA', 'DrawTextExA', 'bind', 'setsockopt', 'ioctlsocket', 'listen', 'Thread32First', 'Thread32Next', 'CreateProcessInternalW', 'SetEndOfFile', 'FindWindowExW', 'GetComputerNameA', 'CryptProtectMemory', 'CoCreateInstanceEx', 'CoGetClassObject', 'IWbemServices_ExecQuery', 'RtlAddVectoredExceptionHandler', 'NtDeleteFile', 'SHGetSpecialFolderLocation', 'GetFileInformationByHandleEx', 'CryptGenKey', 'CryptExportKey', 'CryptCreateHash', 'CryptHashData', 'GetAsyncKeyState', 'GetShortPathNameW', 'GetUserNameExW', 'InternetCrackUrlW', 'GetFileVersionInfoSizeExW', 'GetFileVersionInfoExW', 'RegEnumValueA', 'RegQueryInfoKeyA', 'NtQueueApcThread', 'SendNotifyMessageW', 'GlobalMemoryStatus', 'GetDiskFreeSpaceExW', 'WSASocketW', '__exception__', 'RegisterHotKey', 'RegDeleteValueA', 'RegDeleteValueW', 'FindWindowExA', 'GetSystemWindowsDirectoryA', 'SetFileAttributesW', 'IWbemServices_ExecMethod', 'Process32FirstW', 'Process32NextW', 'GetAdaptersAddresses', 'GetVolumePathNameW', 'getsockname', 'GetKeyboardState', 'NtLoadKey', 'GetAdaptersInfo', 'sendto', 'select', 'recvfrom', 'ShellExecuteExW', 'CopyFileW']\n",
      "\n",
      "\n"
     ]
    }
   ],
   "source": [
    "str_output = \"\"\n",
    "\n",
    "malicious_apis = []\n",
    "for i in range(malicious_df.shape[0]): #Only allow those with \n",
    "    if not (malicious_df['Type 1'].iloc[i] == '_' and malicious_df['Type 2'].iloc[i] == '_' and malicious_df['Type 3'].iloc[i] == '_'):\n",
    "        malicious_apis += malicious_df['pattern'].iloc[i].split(',')\n",
    "malicious_apis = list(pd.Series(malicious_apis).unique())\n",
    "str_output += f\"# of Unique API Calls in Verified Malicious Samples: {len(malicious_apis)}\\n\"\n",
    "str_output += str(malicious_apis) + \"\\n\\n\"\n",
    "\n",
    "benign_apis = []\n",
    "for i in range(benign_df.shape[0]): #Only allow those with \n",
    "    benign_apis += benign_df['pattern'].iloc[i].split(',')\n",
    "benign_apis = list(pd.Series(benign_apis).unique())\n",
    "str_output += f\"# of Unique API Calls in Benign Samples: {len(benign_apis)}\\n\" \n",
    "str_output += str(benign_apis) + \"\\n\\n\"\n",
    "\n",
    "with open('4 Unique_APICalls_MaliciousOnly.txt', 'w') as f:\n",
    "    f.write(str_output)\n",
    "    f.flush()\n",
    "    f.close()\n",
    "print(str_output)"
   ]
  },
  {
   "cell_type": "markdown",
   "metadata": {},
   "source": [
    "## Identify the Unique API Calls only found in Malicious API Calls."
   ]
  },
  {
   "cell_type": "code",
   "execution_count": 11,
   "metadata": {},
   "outputs": [
    {
     "name": "stdout",
     "output_type": "stream",
     "text": [
      "No. of truly unique API Calls only found in Malicious Samples: 9 (4.50% Matches API Calls of Benign Samples)\n",
      "Coverage of 'Malicious-only' API Calls to Official API Calls Oliveira.csv: 2.9316%\n",
      "Unique API Calls to Verified Malicious Samples only: ['CryptDecrypt', 'getaddrinfo', 'InternetOpenA', 'InternetConnectA', 'HttpOpenRequestA', 'NtSuspendThread', 'connect', 'GetDiskFreeSpaceW', 'SetFileTime']\n",
      "\n"
     ]
    }
   ],
   "source": [
    "str_output = \"\"\n",
    "\n",
    "unique = []\n",
    "for m in malicious_apis:\n",
    "    if m not in benign_apis:\n",
    "        unique.append(m)\n",
    "str_output += f\"No. of truly unique API Calls only found in Malicious Samples: {len(unique)} ({len(unique)/len(benign_apis)*100:.2f}% Matches API Calls of Benign Samples)\\n\"\n",
    "str_output += f\"Coverage of 'Malicious-only' API Calls to Official API Calls Oliveira.csv: {(len(unique)/len(APIS))*100:.4f}%\\n\"\n",
    "str_output += \"Unique API Calls to Verified Malicious Samples only: \"+ str(unique) + \"\\n\"\n",
    "\n",
    "with open('4 Unique_APICalls_MaliciousOnly.txt', 'w') as f:\n",
    "    f.write(str_output)\n",
    "    f.flush()\n",
    "    f.close()\n",
    "print(str_output)"
   ]
  },
  {
   "cell_type": "markdown",
   "metadata": {},
   "source": [
    "**Fun Fact:** You might see on the results of item #5 that it will contain some Crypt (e.g., `CryptDecrypt`) related API calls. According to the talk of Sir Mantua (during his 4th hr. talk), it is a possible key indicator that a ransomware is in the system. This is supported by the fact that some malicious samples are ransomware as seen in the `Type 2` & `Type 3` malware types."
   ]
  },
  {
   "cell_type": "code",
   "execution_count": 12,
   "metadata": {},
   "outputs": [
    {
     "name": "stdout",
     "output_type": "stream",
     "text": [
      "CryptDecrypt\n",
      "\n",
      "type_pattern\n",
      "trojan adware _             87\n",
      "trojan adware virus         16\n",
      "trojan _ _                  13\n",
      "downloader adware trojan     9\n",
      "trojan downloader adware     4\n",
      "adware trojan _              3\n",
      "trojan adware dropper        3\n",
      "adware trojan virus          1\n",
      "adware downloader trojan     1\n",
      "trojan dropper _             1\n",
      "Name: count, dtype: int64\n",
      "=====================================================================\n",
      "getaddrinfo\n",
      "\n",
      "type_pattern\n",
      "adware trojan virus         12\n",
      "adware trojan downloader     7\n",
      "adware downloader trojan     1\n",
      "Name: count, dtype: int64\n",
      "=====================================================================\n",
      "InternetOpenA\n",
      "\n",
      "type_pattern\n",
      "trojan downloader adware    3\n",
      "Name: count, dtype: int64\n",
      "=====================================================================\n",
      "InternetConnectA\n",
      "\n",
      "type_pattern\n",
      "trojan downloader adware    3\n",
      "Name: count, dtype: int64\n",
      "=====================================================================\n",
      "HttpOpenRequestA\n",
      "\n",
      "type_pattern\n",
      "trojan downloader adware    3\n",
      "Name: count, dtype: int64\n",
      "=====================================================================\n",
      "NtSuspendThread\n",
      "\n",
      "type_pattern\n",
      "trojan _ _    10\n",
      "Name: count, dtype: int64\n",
      "=====================================================================\n",
      "connect\n",
      "\n",
      "type_pattern\n",
      "adware trojan virus         8\n",
      "adware trojan downloader    2\n",
      "Name: count, dtype: int64\n",
      "=====================================================================\n",
      "GetDiskFreeSpaceW\n",
      "\n",
      "type_pattern\n",
      "trojan dropper _       5\n",
      "adware trojan virus    2\n",
      "downloader _ _         1\n",
      "trojan pua _           1\n",
      "Name: count, dtype: int64\n",
      "=====================================================================\n",
      "SetFileTime\n",
      "\n",
      "type_pattern\n",
      "trojan dropper _       5\n",
      "adware trojan virus    2\n",
      "downloader _ _         1\n",
      "trojan pua _           1\n",
      "Name: count, dtype: int64\n",
      "=====================================================================\n",
      "\n"
     ]
    }
   ],
   "source": [
    "str_output = \"\"\n",
    "for u in unique:\n",
    "    str_output += u + \"\\n\\n\"\n",
    "    str_output += str(malicious_df[malicious_df['pattern'].str.contains(u)]['type_pattern'].value_counts())\n",
    "    str_output += \"\\n=====================================================================\\n\"\n",
    "\n",
    "with open('4 APICalls_MalwareTypes_MaliciousOnly.txt', 'w') as f:\n",
    "    f.write(str_output)\n",
    "    f.flush()\n",
    "    f.close()\n",
    "print(str_output)"
   ]
  },
  {
   "cell_type": "markdown",
   "metadata": {},
   "source": [
    "## Identify the Same API Calls found in both Malicious and Benign Samples.\n",
    "\n",
    "*Apparently, due to the proliferation of trojan-like malware, it could be possible that there are more API Calls that can be found the same between Malicious and Benign Samples.*"
   ]
  },
  {
   "cell_type": "code",
   "execution_count": 13,
   "metadata": {},
   "outputs": [
    {
     "name": "stdout",
     "output_type": "stream",
     "text": [
      "No. of API Calls in Malicious Samples that is found in API Calls in Benign Samples: 145 (72.50% Matches API Calls of Benign Samples)\n",
      "Coverage of 'Same-to-Malicious-Benign-Samples' API Calls to Official API Calls Oliveira.csv: 47.2313%\n",
      "Unique API Calls to both Verified Malicious and Benign Samples: ['GetSystemTimeAsFileTime', 'NtCreateMutant', 'NtOpenKeyEx', 'NtQueryKey', 'LdrLoadDll', 'LdrGetProcedureAddress', 'RegOpenKeyExW', 'RegQueryInfoKeyW', 'RegEnumKeyExW', 'RegEnumValueW', 'RegCloseKey', 'GetFileAttributesW', 'RegQueryValueExW', 'NtOpenFile', 'NtQueryDirectoryFile', 'NtClose', 'NtQuerySystemInformation', 'NtProtectVirtualMemory', 'GetSystemDirectoryW', 'LdrGetDllHandle', 'NtOpenKey', 'NtQueryValueKey', 'NtCreateFile', 'GetFileSize', 'NtCreateSection', 'NtMapViewOfSection', 'GetSystemInfo', 'NtUnmapViewOfSection', 'NtAllocateVirtualMemory', 'NtFreeVirtualMemory', 'SetUnhandledExceptionFilter', 'CryptAcquireContextW', 'CryptCreateHash', 'CryptHashData', 'SetFilePointer', 'NtReadFile', 'CoInitializeEx', 'RegEnumKeyW', 'CreateThread', 'UuidCreate', 'RegCreateKeyExW', 'RegSetValueExW', 'CoCreateInstance', 'FindResourceW', 'SizeofResource', 'LoadResource', 'NtDelayExecution', 'EnumWindows', 'SetErrorMode', 'OleInitialize', 'NtOpenSection', 'GetSystemWindowsDirectoryW', 'RegOpenKeyExA', 'CreateActCtxW', 'GetVolumeNameForVolumeMountPointW', 'NtDuplicateObject', 'LoadStringW', 'GetNativeSystemInfo', 'FindFirstFileExW', 'NtQueryAttributesFile', 'LoadStringA', 'GetSystemMetrics', 'FindResourceExW', 'DrawTextExW', 'FindResourceA', 'RegQueryValueExA', 'NtOpenProcess', 'GetTimeZoneInformation', 'LookupAccountSidW', 'GetFileType', 'NtDeviceIoControlFile', 'NtOpenDirectoryObject', 'WSAStartup', 'IsDebuggerPresent', 'SearchPathW', 'SetWindowsHookExA', 'FindResourceExA', '__exception__', 'NtEnumerateKey', 'NtEnumerateValueKey', 'SHGetFolderPathW', 'GetSystemDirectoryA', 'GetTempPathW', 'SetEndOfFile', 'GlobalMemoryStatus', 'NtQueryInformationFile', 'NtOpenMutant', 'GetUserNameW', 'NtCreateThreadEx', 'NtResumeThread', 'DeviceIoControl', 'GetAdaptersInfo', 'GetComputerNameA', 'GlobalMemoryStatusEx', 'LdrUnloadDll', 'GetFileSizeEx', 'GetFileVersionInfoSizeW', 'GetFileVersionInfoW', 'GetCursorPos', 'DrawTextExA', 'OutputDebugStringA', 'GetForegroundWindow', 'RegCreateKeyExA', 'socket', 'CreateDirectoryW', 'NtWriteFile', 'CreateProcessInternalW', 'DeleteFileW', 'RemoveDirectoryA', 'GetSystemWindowsDirectoryA', 'RegEnumKeyExA', 'RegEnumValueA', 'SetWindowsHookExW', 'WriteConsoleA', 'SetFileAttributesW', 'WriteProcessMemory', 'CreateToolhelp32Snapshot', 'Process32FirstW', 'Process32NextW', 'RemoveDirectoryW', 'InternetSetOptionA', 'ReadProcessMemory', 'NtCreateKey', 'NtSetValueKey', 'NtOpenThread', 'CoUninitialize', 'GetFileAttributesExW', 'closesocket', 'GetShortPathNameW', 'RegSetValueExA', 'LookupPrivilegeValueW', 'GetUserNameA', 'ioctlsocket', 'select', 'NtTerminateProcess', 'NtSetInformationFile', 'OpenSCManagerW', 'OpenServiceW', 'CoInitializeSecurity', 'CoCreateInstanceEx', 'GetComputerNameW', 'CoGetClassObject', 'IWbemServices_ExecQuery', 'Module32FirstW', 'Module32NextW']\n",
      "\n"
     ]
    }
   ],
   "source": [
    "str_output = \"\"\n",
    "same = []\n",
    "for m in malicious_apis:\n",
    "    if m in benign_apis:\n",
    "        same.append(m)\n",
    "str_output += f\"No. of API Calls in Malicious Samples that is found in API Calls in Benign Samples: {len(same)} ({len(same)/len(benign_apis)*100:.2f}% Matches API Calls of Benign Samples)\\n\"\n",
    "str_output += f\"Coverage of 'Same-to-Malicious-Benign-Samples' API Calls to Official API Calls Oliveira.csv: {(len(same)/len(APIS))*100:.4f}%\\n\"\n",
    "str_output += \"Unique API Calls to both Verified Malicious and Benign Samples: \"+ str(same) + \"\\n\"\n",
    "\n",
    "with open('4 Unique_APICalls_MaliciousBenign.txt', 'w') as f:\n",
    "    f.write(str_output)\n",
    "    f.flush()\n",
    "    f.close()\n",
    "print(str_output)"
   ]
  },
  {
   "cell_type": "code",
   "execution_count": 7,
   "metadata": {},
   "outputs": [
    {
     "data": {
      "text/plain": [
       "'GetSystemTimeAsFileTime'"
      ]
     },
     "metadata": {},
     "output_type": "display_data"
    },
    {
     "data": {
      "text/plain": [
       "type_pattern\n",
       "trojan adware _             322\n",
       "trojan adware pua           112\n",
       "trojan _ _                   95\n",
       "trojan adware virus          77\n",
       "trojan adware downloader     42\n",
       "downloader adware trojan     37\n",
       "adware trojan virus          35\n",
       "trojan dropper _             27\n",
       "adware trojan downloader     24\n",
       "trojan downloader adware     22\n",
       "Name: count, dtype: int64"
      ]
     },
     "metadata": {},
     "output_type": "display_data"
    },
    {
     "data": {
      "text/plain": [
       "'NtCreateMutant'"
      ]
     },
     "metadata": {},
     "output_type": "display_data"
    },
    {
     "data": {
      "text/plain": [
       "type_pattern\n",
       "trojan adware _             104\n",
       "trojan _ _                   65\n",
       "trojan dropper _             24\n",
       "trojan adware virus          20\n",
       "adware trojan virus          19\n",
       "adware trojan pua            11\n",
       "ransomware trojan _          11\n",
       "trojan downloader adware     10\n",
       "adware trojan _              10\n",
       "adware trojan downloader     10\n",
       "Name: count, dtype: int64"
      ]
     },
     "metadata": {},
     "output_type": "display_data"
    },
    {
     "data": {
      "text/plain": [
       "'NtOpenKeyEx'"
      ]
     },
     "metadata": {},
     "output_type": "display_data"
    },
    {
     "data": {
      "text/plain": [
       "type_pattern\n",
       "trojan adware _              99\n",
       "trojan _ _                   39\n",
       "trojan dropper _             18\n",
       "trojan adware virus          18\n",
       "adware trojan virus           9\n",
       "trojan downloader adware      9\n",
       "trojan downloader dropper     5\n",
       "trojan downloader pua         5\n",
       "trojan pua _                  4\n",
       "trojan dropper pua            3\n",
       "Name: count, dtype: int64"
      ]
     },
     "metadata": {},
     "output_type": "display_data"
    },
    {
     "data": {
      "text/plain": [
       "'NtQueryKey'"
      ]
     },
     "metadata": {},
     "output_type": "display_data"
    },
    {
     "data": {
      "text/plain": [
       "type_pattern\n",
       "trojan dropper _             9\n",
       "trojan _ _                   7\n",
       "trojan banker spyware        5\n",
       "trojan spyware _             4\n",
       "trojan dropper pua           2\n",
       "trojan downloader dropper    2\n",
       "trojan spyware banker        2\n",
       "trojan hacktool _            1\n",
       "trojan miner _               1\n",
       "trojan worm _                1\n",
       "Name: count, dtype: int64"
      ]
     },
     "metadata": {},
     "output_type": "display_data"
    },
    {
     "data": {
      "text/plain": [
       "'LdrLoadDll'"
      ]
     },
     "metadata": {},
     "output_type": "display_data"
    },
    {
     "data": {
      "text/plain": [
       "type_pattern\n",
       "trojan adware _             514\n",
       "trojan _ _                  279\n",
       "trojan adware pua           126\n",
       "trojan adware virus          76\n",
       "trojan adware downloader     55\n",
       "trojan dropper _             50\n",
       "adware trojan virus          50\n",
       "adware trojan downloader     44\n",
       "downloader adware trojan     39\n",
       "adware trojan _              32\n",
       "Name: count, dtype: int64"
      ]
     },
     "metadata": {},
     "output_type": "display_data"
    },
    {
     "data": {
      "text/plain": [
       "'LdrGetProcedureAddress'"
      ]
     },
     "metadata": {},
     "output_type": "display_data"
    },
    {
     "data": {
      "text/plain": [
       "type_pattern\n",
       "trojan adware _             517\n",
       "trojan _ _                  294\n",
       "trojan adware pua           126\n",
       "trojan adware virus          80\n",
       "trojan adware downloader     57\n",
       "trojan dropper _             54\n",
       "adware trojan virus          51\n",
       "adware trojan downloader     44\n",
       "downloader adware trojan     39\n",
       "adware trojan _              33\n",
       "Name: count, dtype: int64"
      ]
     },
     "metadata": {},
     "output_type": "display_data"
    },
    {
     "data": {
      "text/plain": [
       "'RegOpenKeyExW'"
      ]
     },
     "metadata": {},
     "output_type": "display_data"
    },
    {
     "data": {
      "text/plain": [
       "type_pattern\n",
       "trojan adware _             401\n",
       "trojan _ _                  149\n",
       "trojan adware pua           122\n",
       "trojan adware downloader     52\n",
       "trojan adware virus          43\n",
       "adware trojan downloader     40\n",
       "downloader adware trojan     38\n",
       "adware trojan _              30\n",
       "trojan dropper _             28\n",
       "trojan adware dropper        23\n",
       "Name: count, dtype: int64"
      ]
     },
     "metadata": {},
     "output_type": "display_data"
    },
    {
     "data": {
      "text/plain": [
       "'RegQueryInfoKeyW'"
      ]
     },
     "metadata": {},
     "output_type": "display_data"
    },
    {
     "data": {
      "text/plain": [
       "type_pattern\n",
       "trojan adware pua            98\n",
       "trojan adware _              94\n",
       "trojan _ _                   29\n",
       "trojan adware downloader     14\n",
       "trojan dropper _             13\n",
       "trojan adware dropper        13\n",
       "trojan downloader dropper     5\n",
       "trojan adware virus           3\n",
       "trojan dropper pua            2\n",
       "adware trojan _               2\n",
       "Name: count, dtype: int64"
      ]
     },
     "metadata": {},
     "output_type": "display_data"
    },
    {
     "data": {
      "text/plain": [
       "'RegEnumKeyExW'"
      ]
     },
     "metadata": {},
     "output_type": "display_data"
    },
    {
     "data": {
      "text/plain": [
       "type_pattern\n",
       "trojan adware pua            98\n",
       "trojan adware _              94\n",
       "trojan _ _                   29\n",
       "trojan adware downloader     14\n",
       "trojan dropper _             13\n",
       "trojan adware dropper        13\n",
       "trojan downloader dropper     5\n",
       "trojan adware virus           3\n",
       "trojan dropper pua            2\n",
       "adware trojan _               2\n",
       "Name: count, dtype: int64"
      ]
     },
     "metadata": {},
     "output_type": "display_data"
    },
    {
     "data": {
      "text/plain": [
       "'RegEnumValueW'"
      ]
     },
     "metadata": {},
     "output_type": "display_data"
    },
    {
     "data": {
      "text/plain": [
       "type_pattern\n",
       "trojan _ _                   29\n",
       "trojan dropper _             13\n",
       "trojan downloader dropper     5\n",
       "trojan dropper pua            2\n",
       "trojan hacktool _             1\n",
       "downloader _ _                1\n",
       "trojan worm _                 1\n",
       "trojan dropper virus          1\n",
       "trojan miner dropper          1\n",
       "trojan pua _                  1\n",
       "Name: count, dtype: int64"
      ]
     },
     "metadata": {},
     "output_type": "display_data"
    },
    {
     "data": {
      "text/plain": [
       "'RegCloseKey'"
      ]
     },
     "metadata": {},
     "output_type": "display_data"
    },
    {
     "data": {
      "text/plain": [
       "type_pattern\n",
       "trojan adware _             404\n",
       "trojan _ _                  160\n",
       "trojan adware pua           126\n",
       "trojan adware virus          57\n",
       "trojan adware downloader     52\n",
       "adware trojan downloader     41\n",
       "downloader adware trojan     38\n",
       "adware trojan virus          36\n",
       "adware trojan _              30\n",
       "trojan adware dropper        23\n",
       "Name: count, dtype: int64"
      ]
     },
     "metadata": {},
     "output_type": "display_data"
    },
    {
     "data": {
      "text/plain": [
       "'GetFileAttributesW'"
      ]
     },
     "metadata": {},
     "output_type": "display_data"
    },
    {
     "data": {
      "text/plain": [
       "type_pattern\n",
       "trojan _ _                   145\n",
       "trojan dropper _              31\n",
       "downloader adware trojan      11\n",
       "trojan spyware _              10\n",
       "trojan pua _                   9\n",
       "trojan miner _                 9\n",
       "trojan downloader adware       8\n",
       "adware trojan downloader       7\n",
       "trojan downloader dropper      6\n",
       "trojan dropper downloader      6\n",
       "Name: count, dtype: int64"
      ]
     },
     "metadata": {},
     "output_type": "display_data"
    },
    {
     "data": {
      "text/plain": [
       "'RegQueryValueExW'"
      ]
     },
     "metadata": {},
     "output_type": "display_data"
    },
    {
     "data": {
      "text/plain": [
       "type_pattern\n",
       "trojan adware _             399\n",
       "trojan _ _                  128\n",
       "trojan adware pua           122\n",
       "trojan adware virus          41\n",
       "downloader adware trojan     36\n",
       "adware trojan downloader     34\n",
       "trojan adware downloader     33\n",
       "adware trojan _              24\n",
       "trojan adware dropper        23\n",
       "trojan dropper _             21\n",
       "Name: count, dtype: int64"
      ]
     },
     "metadata": {},
     "output_type": "display_data"
    },
    {
     "data": {
      "text/plain": [
       "'NtOpenFile'"
      ]
     },
     "metadata": {},
     "output_type": "display_data"
    },
    {
     "data": {
      "text/plain": [
       "type_pattern\n",
       "adware trojan virus          13\n",
       "adware trojan downloader     11\n",
       "ransomware trojan _          11\n",
       "trojan _ _                    9\n",
       "trojan dropper _              9\n",
       "trojan ransomware _           7\n",
       "adware trojan _               6\n",
       "ransomware trojan dropper     6\n",
       "trojan adware pua             5\n",
       "trojan dropper pua            2\n",
       "Name: count, dtype: int64"
      ]
     },
     "metadata": {},
     "output_type": "display_data"
    },
    {
     "data": {
      "text/plain": [
       "'NtQueryDirectoryFile'"
      ]
     },
     "metadata": {},
     "output_type": "display_data"
    },
    {
     "data": {
      "text/plain": [
       "type_pattern\n",
       "trojan _ _                   18\n",
       "downloader trojan _           8\n",
       "trojan dropper _              5\n",
       "trojan dropper pua            2\n",
       "trojan downloader dropper     2\n",
       "adware trojan _               2\n",
       "downloader trojan adware      2\n",
       "adware _ _                    1\n",
       "trojan spyware _              1\n",
       "trojan adware _               1\n",
       "Name: count, dtype: int64"
      ]
     },
     "metadata": {},
     "output_type": "display_data"
    },
    {
     "data": {
      "text/plain": [
       "'NtClose'"
      ]
     },
     "metadata": {},
     "output_type": "display_data"
    },
    {
     "data": {
      "text/plain": [
       "type_pattern\n",
       "trojan adware _             517\n",
       "trojan _ _                  279\n",
       "trojan adware pua           126\n",
       "trojan adware virus          80\n",
       "trojan adware downloader     57\n",
       "trojan dropper _             54\n",
       "adware trojan virus          51\n",
       "adware trojan downloader     44\n",
       "downloader adware trojan     39\n",
       "adware trojan _              33\n",
       "Name: count, dtype: int64"
      ]
     },
     "metadata": {},
     "output_type": "display_data"
    },
    {
     "data": {
      "text/plain": [
       "'NtQuerySystemInformation'"
      ]
     },
     "metadata": {},
     "output_type": "display_data"
    },
    {
     "data": {
      "text/plain": [
       "type_pattern\n",
       "trojan adware _             116\n",
       "trojan _ _                   39\n",
       "trojan adware virus          21\n",
       "trojan dropper _             18\n",
       "adware trojan virus          12\n",
       "ransomware trojan _          11\n",
       "adware trojan _               8\n",
       "trojan adware downloader      7\n",
       "trojan downloader adware      6\n",
       "trojan banker _               6\n",
       "Name: count, dtype: int64"
      ]
     },
     "metadata": {},
     "output_type": "display_data"
    },
    {
     "data": {
      "text/plain": [
       "'NtProtectVirtualMemory'"
      ]
     },
     "metadata": {},
     "output_type": "display_data"
    },
    {
     "data": {
      "text/plain": [
       "type_pattern\n",
       "trojan adware _             349\n",
       "trojan _ _                  203\n",
       "trojan adware virus          68\n",
       "trojan dropper _             43\n",
       "adware trojan virus          34\n",
       "trojan pua _                 18\n",
       "trojan adware downloader     16\n",
       "trojan downloader adware     15\n",
       "adware trojan _              13\n",
       "trojan ransomware _          10\n",
       "Name: count, dtype: int64"
      ]
     },
     "metadata": {},
     "output_type": "display_data"
    },
    {
     "data": {
      "text/plain": [
       "'GetSystemDirectoryW'"
      ]
     },
     "metadata": {},
     "output_type": "display_data"
    },
    {
     "data": {
      "text/plain": [
       "type_pattern\n",
       "trojan adware _             214\n",
       "trojan _ _                  113\n",
       "trojan adware virus          44\n",
       "trojan dropper _             24\n",
       "adware trojan virus          18\n",
       "downloader trojan _          18\n",
       "trojan adware pua            17\n",
       "adware trojan _              17\n",
       "trojan adware downloader     15\n",
       "trojan downloader adware     15\n",
       "Name: count, dtype: int64"
      ]
     },
     "metadata": {},
     "output_type": "display_data"
    },
    {
     "data": {
      "text/plain": [
       "'LdrGetDllHandle'"
      ]
     },
     "metadata": {},
     "output_type": "display_data"
    },
    {
     "data": {
      "text/plain": [
       "type_pattern\n",
       "trojan adware _             517\n",
       "trojan _ _                  289\n",
       "trojan adware pua           126\n",
       "trojan adware virus          80\n",
       "trojan adware downloader     57\n",
       "trojan dropper _             54\n",
       "adware trojan virus          51\n",
       "adware trojan downloader     44\n",
       "downloader adware trojan     39\n",
       "adware trojan _              33\n",
       "Name: count, dtype: int64"
      ]
     },
     "metadata": {},
     "output_type": "display_data"
    },
    {
     "data": {
      "text/plain": [
       "'NtOpenKey'"
      ]
     },
     "metadata": {},
     "output_type": "display_data"
    },
    {
     "data": {
      "text/plain": [
       "type_pattern\n",
       "trojan adware _             424\n",
       "trojan _ _                  250\n",
       "trojan adware pua           126\n",
       "trojan adware virus          58\n",
       "trojan adware downloader     53\n",
       "trojan dropper _             45\n",
       "adware trojan downloader     41\n",
       "adware trojan virus          39\n",
       "adware trojan _              28\n",
       "trojan adware dropper        22\n",
       "Name: count, dtype: int64"
      ]
     },
     "metadata": {},
     "output_type": "display_data"
    },
    {
     "data": {
      "text/plain": [
       "'NtQueryValueKey'"
      ]
     },
     "metadata": {},
     "output_type": "display_data"
    },
    {
     "data": {
      "text/plain": [
       "type_pattern\n",
       "trojan adware _             422\n",
       "trojan _ _                  250\n",
       "trojan adware pua           126\n",
       "trojan adware downloader     53\n",
       "trojan dropper _             45\n",
       "adware trojan downloader     41\n",
       "trojan adware virus          34\n",
       "adware trojan _              28\n",
       "adware trojan virus          27\n",
       "trojan adware dropper        22\n",
       "Name: count, dtype: int64"
      ]
     },
     "metadata": {},
     "output_type": "display_data"
    },
    {
     "data": {
      "text/plain": [
       "'NtCreateFile'"
      ]
     },
     "metadata": {},
     "output_type": "display_data"
    },
    {
     "data": {
      "text/plain": [
       "type_pattern\n",
       "trojan _ _                  153\n",
       "trojan adware pua           122\n",
       "trojan adware _             115\n",
       "trojan dropper _             40\n",
       "trojan adware downloader     37\n",
       "adware trojan downloader     27\n",
       "adware trojan _              21\n",
       "downloader trojan _          18\n",
       "adware trojan virus          18\n",
       "trojan adware dropper        15\n",
       "Name: count, dtype: int64"
      ]
     },
     "metadata": {},
     "output_type": "display_data"
    },
    {
     "data": {
      "text/plain": [
       "'GetFileSize'"
      ]
     },
     "metadata": {},
     "output_type": "display_data"
    },
    {
     "data": {
      "text/plain": [
       "type_pattern\n",
       "trojan adware pua           110\n",
       "trojan adware _             103\n",
       "trojan _ _                   75\n",
       "trojan adware downloader     32\n",
       "trojan dropper _             22\n",
       "trojan adware dropper        15\n",
       "ransomware trojan _          11\n",
       "downloader trojan adware      8\n",
       "trojan ransomware _           7\n",
       "adware downloader trojan      6\n",
       "Name: count, dtype: int64"
      ]
     },
     "metadata": {},
     "output_type": "display_data"
    },
    {
     "data": {
      "text/plain": [
       "'NtCreateSection'"
      ]
     },
     "metadata": {},
     "output_type": "display_data"
    },
    {
     "data": {
      "text/plain": [
       "type_pattern\n",
       "trojan _ _                  153\n",
       "trojan dropper _             40\n",
       "adware trojan downloader     24\n",
       "trojan adware downloader     21\n",
       "downloader trojan _          18\n",
       "trojan adware _              17\n",
       "trojan adware pua            15\n",
       "adware trojan virus          15\n",
       "downloader adware trojan     14\n",
       "trojan ransomware _          13\n",
       "Name: count, dtype: int64"
      ]
     },
     "metadata": {},
     "output_type": "display_data"
    },
    {
     "data": {
      "text/plain": [
       "'NtMapViewOfSection'"
      ]
     },
     "metadata": {},
     "output_type": "display_data"
    },
    {
     "data": {
      "text/plain": [
       "type_pattern\n",
       "trojan _ _                  163\n",
       "trojan dropper _             40\n",
       "trojan adware _              33\n",
       "adware trojan downloader     25\n",
       "trojan adware downloader     21\n",
       "downloader trojan _          18\n",
       "adware trojan virus          17\n",
       "trojan adware pua            16\n",
       "trojan downloader adware     16\n",
       "adware trojan _              15\n",
       "Name: count, dtype: int64"
      ]
     },
     "metadata": {},
     "output_type": "display_data"
    },
    {
     "data": {
      "text/plain": [
       "'GetSystemInfo'"
      ]
     },
     "metadata": {},
     "output_type": "display_data"
    },
    {
     "data": {
      "text/plain": [
       "type_pattern\n",
       "trojan adware _             396\n",
       "trojan _ _                  183\n",
       "trojan adware virus          70\n",
       "trojan dropper _             30\n",
       "adware trojan virus          29\n",
       "adware trojan downloader     22\n",
       "trojan adware downloader     16\n",
       "adware trojan _              15\n",
       "trojan downloader adware     14\n",
       "miner trojan pua             12\n",
       "Name: count, dtype: int64"
      ]
     },
     "metadata": {},
     "output_type": "display_data"
    },
    {
     "data": {
      "text/plain": [
       "'NtUnmapViewOfSection'"
      ]
     },
     "metadata": {},
     "output_type": "display_data"
    },
    {
     "data": {
      "text/plain": [
       "type_pattern\n",
       "trojan _ _                   37\n",
       "trojan dropper _             26\n",
       "downloader adware trojan      9\n",
       "miner trojan pua              6\n",
       "trojan downloader dropper     5\n",
       "trojan miner _                4\n",
       "trojan worm downloader        3\n",
       "trojan dropper pua            2\n",
       "trojan worm _                 2\n",
       "trojan miner dropper          1\n",
       "Name: count, dtype: int64"
      ]
     },
     "metadata": {},
     "output_type": "display_data"
    },
    {
     "data": {
      "text/plain": [
       "'NtAllocateVirtualMemory'"
      ]
     },
     "metadata": {},
     "output_type": "display_data"
    },
    {
     "data": {
      "text/plain": [
       "type_pattern\n",
       "trojan adware _             512\n",
       "trojan _ _                  249\n",
       "trojan adware pua           115\n",
       "trojan adware virus          79\n",
       "trojan adware downloader     57\n",
       "adware trojan virus          50\n",
       "adware trojan downloader     43\n",
       "downloader adware trojan     39\n",
       "trojan dropper _             35\n",
       "adware trojan _              28\n",
       "Name: count, dtype: int64"
      ]
     },
     "metadata": {},
     "output_type": "display_data"
    },
    {
     "data": {
      "text/plain": [
       "'NtFreeVirtualMemory'"
      ]
     },
     "metadata": {},
     "output_type": "display_data"
    },
    {
     "data": {
      "text/plain": [
       "type_pattern\n",
       "trojan _ _                  213\n",
       "trojan adware _             194\n",
       "trojan adware virus          68\n",
       "adware trojan virus          47\n",
       "downloader adware trojan     38\n",
       "trojan dropper _             29\n",
       "trojan adware downloader     27\n",
       "adware trojan downloader     26\n",
       "trojan downloader adware     25\n",
       "adware trojan _              21\n",
       "Name: count, dtype: int64"
      ]
     },
     "metadata": {},
     "output_type": "display_data"
    },
    {
     "data": {
      "text/plain": [
       "'SetUnhandledExceptionFilter'"
      ]
     },
     "metadata": {},
     "output_type": "display_data"
    },
    {
     "data": {
      "text/plain": [
       "type_pattern\n",
       "trojan adware _             322\n",
       "trojan adware pua           112\n",
       "trojan adware virus          77\n",
       "trojan _ _                   75\n",
       "trojan adware downloader     42\n",
       "downloader adware trojan     37\n",
       "adware trojan virus          35\n",
       "adware trojan downloader     24\n",
       "trojan downloader adware     22\n",
       "trojan adware dropper        21\n",
       "Name: count, dtype: int64"
      ]
     },
     "metadata": {},
     "output_type": "display_data"
    },
    {
     "data": {
      "text/plain": [
       "'CryptAcquireContextW'"
      ]
     },
     "metadata": {},
     "output_type": "display_data"
    },
    {
     "data": {
      "text/plain": [
       "type_pattern\n",
       "trojan adware _              195\n",
       "trojan adware pua            109\n",
       "trojan _ _                    50\n",
       "trojan adware virus           21\n",
       "trojan adware dropper         19\n",
       "trojan adware downloader      15\n",
       "ransomware trojan _           11\n",
       "downloader adware trojan       9\n",
       "ransomware trojan dropper      6\n",
       "trojan spyware _               6\n",
       "Name: count, dtype: int64"
      ]
     },
     "metadata": {},
     "output_type": "display_data"
    },
    {
     "data": {
      "text/plain": [
       "'CryptCreateHash'"
      ]
     },
     "metadata": {},
     "output_type": "display_data"
    },
    {
     "data": {
      "text/plain": [
       "type_pattern\n",
       "trojan adware pua           108\n",
       "trojan adware _             102\n",
       "trojan adware downloader     15\n",
       "trojan adware dropper        15\n",
       "downloader adware trojan      9\n",
       "trojan _ _                    5\n",
       "trojan spyware _              5\n",
       "trojan adware virus           3\n",
       "adware trojan _               2\n",
       "adware trojan downloader      2\n",
       "Name: count, dtype: int64"
      ]
     },
     "metadata": {},
     "output_type": "display_data"
    },
    {
     "data": {
      "text/plain": [
       "'CryptHashData'"
      ]
     },
     "metadata": {},
     "output_type": "display_data"
    },
    {
     "data": {
      "text/plain": [
       "type_pattern\n",
       "trojan adware pua           108\n",
       "trojan adware _             102\n",
       "trojan adware downloader     15\n",
       "trojan adware dropper        15\n",
       "downloader adware trojan      9\n",
       "trojan _ _                    5\n",
       "trojan spyware _              5\n",
       "trojan adware virus           3\n",
       "adware trojan _               2\n",
       "adware trojan downloader      2\n",
       "Name: count, dtype: int64"
      ]
     },
     "metadata": {},
     "output_type": "display_data"
    },
    {
     "data": {
      "text/plain": [
       "'SetFilePointer'"
      ]
     },
     "metadata": {},
     "output_type": "display_data"
    },
    {
     "data": {
      "text/plain": [
       "type_pattern\n",
       "trojan adware pua           119\n",
       "trojan adware _             104\n",
       "trojan _ _                   56\n",
       "trojan adware downloader     32\n",
       "trojan adware dropper        15\n",
       "trojan dropper _             12\n",
       "downloader trojan adware      8\n",
       "adware downloader trojan      7\n",
       "trojan ransomware _           7\n",
       "adware trojan downloader      7\n",
       "Name: count, dtype: int64"
      ]
     },
     "metadata": {},
     "output_type": "display_data"
    },
    {
     "data": {
      "text/plain": [
       "'NtReadFile'"
      ]
     },
     "metadata": {},
     "output_type": "display_data"
    },
    {
     "data": {
      "text/plain": [
       "type_pattern\n",
       "trojan adware pua           119\n",
       "trojan adware _             104\n",
       "trojan adware downloader     32\n",
       "trojan _ _                   25\n",
       "trojan adware dropper        15\n",
       "adware trojan downloader     11\n",
       "trojan dropper _             10\n",
       "downloader trojan adware      8\n",
       "trojan ransomware _           7\n",
       "adware downloader trojan      7\n",
       "Name: count, dtype: int64"
      ]
     },
     "metadata": {},
     "output_type": "display_data"
    },
    {
     "data": {
      "text/plain": [
       "'CoInitializeEx'"
      ]
     },
     "metadata": {},
     "output_type": "display_data"
    },
    {
     "data": {
      "text/plain": [
       "type_pattern\n",
       "trojan adware _             248\n",
       "trojan adware pua           118\n",
       "trojan _ _                   52\n",
       "trojan adware downloader     35\n",
       "trojan adware virus          34\n",
       "adware trojan downloader     20\n",
       "trojan adware dropper        20\n",
       "adware trojan virus          16\n",
       "adware trojan _              15\n",
       "trojan downloader adware     13\n",
       "Name: count, dtype: int64"
      ]
     },
     "metadata": {},
     "output_type": "display_data"
    },
    {
     "data": {
      "text/plain": [
       "'RegEnumKeyW'"
      ]
     },
     "metadata": {},
     "output_type": "display_data"
    },
    {
     "data": {
      "text/plain": [
       "type_pattern\n",
       "trojan adware _             114\n",
       "trojan adware pua           107\n",
       "trojan adware downloader     16\n",
       "downloader trojan _          15\n",
       "trojan adware dropper        13\n",
       "trojan adware virus          10\n",
       "trojan downloader adware      6\n",
       "trojan _ _                    6\n",
       "adware trojan _               4\n",
       "downloader trojan adware      3\n",
       "Name: count, dtype: int64"
      ]
     },
     "metadata": {},
     "output_type": "display_data"
    },
    {
     "data": {
      "text/plain": [
       "'CreateThread'"
      ]
     },
     "metadata": {},
     "output_type": "display_data"
    },
    {
     "data": {
      "text/plain": [
       "type_pattern\n",
       "trojan adware _             201\n",
       "trojan adware pua           108\n",
       "trojan _ _                   31\n",
       "trojan adware virus          27\n",
       "adware trojan downloader     23\n",
       "trojan adware dropper        20\n",
       "adware trojan virus          19\n",
       "trojan adware downloader     16\n",
       "adware trojan _              15\n",
       "ransomware trojan _          11\n",
       "Name: count, dtype: int64"
      ]
     },
     "metadata": {},
     "output_type": "display_data"
    },
    {
     "data": {
      "text/plain": [
       "'UuidCreate'"
      ]
     },
     "metadata": {},
     "output_type": "display_data"
    },
    {
     "data": {
      "text/plain": [
       "type_pattern\n",
       "trojan adware pua           106\n",
       "trojan adware _              97\n",
       "trojan adware downloader     15\n",
       "trojan adware dropper        13\n",
       "adware trojan downloader     12\n",
       "trojan _ _                    4\n",
       "adware trojan _               3\n",
       "trojan adware virus           3\n",
       "adware _ _                    2\n",
       "trojan downloader adware      2\n",
       "Name: count, dtype: int64"
      ]
     },
     "metadata": {},
     "output_type": "display_data"
    },
    {
     "data": {
      "text/plain": [
       "'RegCreateKeyExW'"
      ]
     },
     "metadata": {},
     "output_type": "display_data"
    },
    {
     "data": {
      "text/plain": [
       "type_pattern\n",
       "trojan adware pua           107\n",
       "trojan adware _              98\n",
       "trojan adware downloader     30\n",
       "trojan adware dropper        13\n",
       "adware trojan downloader      9\n",
       "downloader trojan adware      8\n",
       "adware downloader trojan      4\n",
       "adware trojan virus           4\n",
       "trojan downloader adware      3\n",
       "downloader adware trojan      3\n",
       "Name: count, dtype: int64"
      ]
     },
     "metadata": {},
     "output_type": "display_data"
    },
    {
     "data": {
      "text/plain": [
       "'RegSetValueExW'"
      ]
     },
     "metadata": {},
     "output_type": "display_data"
    },
    {
     "data": {
      "text/plain": [
       "type_pattern\n",
       "trojan adware pua           107\n",
       "trojan adware _              98\n",
       "trojan adware downloader     30\n",
       "trojan adware dropper        13\n",
       "downloader trojan adware      8\n",
       "adware trojan downloader      4\n",
       "adware downloader trojan      3\n",
       "trojan downloader adware      3\n",
       "downloader adware trojan      3\n",
       "trojan adware virus           3\n",
       "Name: count, dtype: int64"
      ]
     },
     "metadata": {},
     "output_type": "display_data"
    },
    {
     "data": {
      "text/plain": [
       "'CoCreateInstance'"
      ]
     },
     "metadata": {},
     "output_type": "display_data"
    },
    {
     "data": {
      "text/plain": [
       "type_pattern\n",
       "trojan adware pua           99\n",
       "trojan adware _             98\n",
       "trojan adware downloader    16\n",
       "trojan adware dropper       15\n",
       "adware trojan downloader    15\n",
       "trojan _ _                   8\n",
       "trojan banker spyware        5\n",
       "trojan adware virus          3\n",
       "trojan spyware _             3\n",
       "adware trojan pua            2\n",
       "Name: count, dtype: int64"
      ]
     },
     "metadata": {},
     "output_type": "display_data"
    },
    {
     "data": {
      "text/plain": [
       "'FindResourceW'"
      ]
     },
     "metadata": {},
     "output_type": "display_data"
    },
    {
     "data": {
      "text/plain": [
       "type_pattern\n",
       "trojan adware pua           100\n",
       "trojan adware _              97\n",
       "adware trojan downloader     21\n",
       "trojan adware downloader     18\n",
       "trojan _ _                   14\n",
       "trojan adware dropper        13\n",
       "trojan dropper _              6\n",
       "adware trojan pua             5\n",
       "adware virus _                5\n",
       "adware downloader trojan      5\n",
       "Name: count, dtype: int64"
      ]
     },
     "metadata": {},
     "output_type": "display_data"
    },
    {
     "data": {
      "text/plain": [
       "'SizeofResource'"
      ]
     },
     "metadata": {},
     "output_type": "display_data"
    },
    {
     "data": {
      "text/plain": [
       "type_pattern\n",
       "trojan adware _             107\n",
       "trojan adware pua           100\n",
       "trojan _ _                   31\n",
       "trojan adware downloader     18\n",
       "adware trojan downloader     18\n",
       "trojan adware dropper        13\n",
       "adware trojan _              11\n",
       "adware trojan virus          10\n",
       "trojan dropper _              9\n",
       "trojan miner _                8\n",
       "Name: count, dtype: int64"
      ]
     },
     "metadata": {},
     "output_type": "display_data"
    },
    {
     "data": {
      "text/plain": [
       "'LoadResource'"
      ]
     },
     "metadata": {},
     "output_type": "display_data"
    },
    {
     "data": {
      "text/plain": [
       "type_pattern\n",
       "trojan adware _             242\n",
       "trojan _ _                  169\n",
       "trojan adware pua           100\n",
       "trojan adware downloader     46\n",
       "adware trojan downloader     40\n",
       "trojan dropper _             26\n",
       "trojan adware dropper        17\n",
       "adware trojan virus          14\n",
       "adware trojan _              14\n",
       "trojan pua _                 12\n",
       "Name: count, dtype: int64"
      ]
     },
     "metadata": {},
     "output_type": "display_data"
    },
    {
     "data": {
      "text/plain": [
       "'NtDelayExecution'"
      ]
     },
     "metadata": {},
     "output_type": "display_data"
    },
    {
     "data": {
      "text/plain": [
       "type_pattern\n",
       "trojan adware pua            66\n",
       "trojan adware _              49\n",
       "trojan _ _                   30\n",
       "trojan adware virus          29\n",
       "adware trojan virus          24\n",
       "ransomware trojan _          11\n",
       "trojan adware downloader      9\n",
       "adware trojan downloader      7\n",
       "ransomware trojan dropper     6\n",
       "trojan adware dropper         6\n",
       "Name: count, dtype: int64"
      ]
     },
     "metadata": {},
     "output_type": "display_data"
    },
    {
     "data": {
      "text/plain": [
       "'EnumWindows'"
      ]
     },
     "metadata": {},
     "output_type": "display_data"
    },
    {
     "data": {
      "text/plain": [
       "type_pattern\n",
       "trojan adware pua           65\n",
       "trojan adware _             45\n",
       "trojan adware downloader     6\n",
       "trojan adware dropper        6\n",
       "trojan _ _                   6\n",
       "trojan adware virus          3\n",
       "adware virus _               1\n",
       "Name: count, dtype: int64"
      ]
     },
     "metadata": {},
     "output_type": "display_data"
    },
    {
     "data": {
      "text/plain": [
       "'SetErrorMode'"
      ]
     },
     "metadata": {},
     "output_type": "display_data"
    },
    {
     "data": {
      "text/plain": [
       "type_pattern\n",
       "trojan adware _             185\n",
       "trojan _ _                  133\n",
       "adware trojan downloader     24\n",
       "adware trojan _              22\n",
       "downloader trojan _          18\n",
       "trojan adware downloader     17\n",
       "trojan dropper _             15\n",
       "adware trojan pua            13\n",
       "trojan ransomware _          12\n",
       "adware trojan virus          12\n",
       "Name: count, dtype: int64"
      ]
     },
     "metadata": {},
     "output_type": "display_data"
    },
    {
     "data": {
      "text/plain": [
       "'OleInitialize'"
      ]
     },
     "metadata": {},
     "output_type": "display_data"
    },
    {
     "data": {
      "text/plain": [
       "type_pattern\n",
       "trojan adware _             152\n",
       "trojan _ _                  135\n",
       "downloader trojan _          18\n",
       "adware trojan downloader     17\n",
       "trojan adware downloader     17\n",
       "trojan dropper _             15\n",
       "adware trojan _              14\n",
       "trojan downloader adware     10\n",
       "trojan miner _               10\n",
       "adware trojan pua             8\n",
       "Name: count, dtype: int64"
      ]
     },
     "metadata": {},
     "output_type": "display_data"
    },
    {
     "data": {
      "text/plain": [
       "'NtOpenSection'"
      ]
     },
     "metadata": {},
     "output_type": "display_data"
    },
    {
     "data": {
      "text/plain": [
       "type_pattern\n",
       "trojan _ _                  34\n",
       "downloader trojan _         18\n",
       "downloader adware trojan     9\n",
       "adware trojan _              9\n",
       "trojan downloader adware     8\n",
       "adware trojan pua            8\n",
       "trojan adware _              7\n",
       "trojan banker spyware        5\n",
       "trojan downloader pua        5\n",
       "adware trojan virus          4\n",
       "Name: count, dtype: int64"
      ]
     },
     "metadata": {},
     "output_type": "display_data"
    },
    {
     "data": {
      "text/plain": [
       "'GetSystemWindowsDirectoryW'"
      ]
     },
     "metadata": {},
     "output_type": "display_data"
    },
    {
     "data": {
      "text/plain": [
       "type_pattern\n",
       "trojan adware _             226\n",
       "trojan _ _                  137\n",
       "trojan adware virus          48\n",
       "trojan adware downloader     27\n",
       "adware trojan virus          27\n",
       "trojan downloader adware     22\n",
       "trojan dropper _             21\n",
       "adware trojan _              19\n",
       "downloader trojan _          18\n",
       "downloader adware trojan     15\n",
       "Name: count, dtype: int64"
      ]
     },
     "metadata": {},
     "output_type": "display_data"
    },
    {
     "data": {
      "text/plain": [
       "'RegOpenKeyExA'"
      ]
     },
     "metadata": {},
     "output_type": "display_data"
    },
    {
     "data": {
      "text/plain": [
       "type_pattern\n",
       "trojan _ _                  202\n",
       "trojan adware _             132\n",
       "downloader adware trojan     34\n",
       "trojan adware virus          29\n",
       "adware trojan virus          23\n",
       "adware trojan _              21\n",
       "downloader trojan _          18\n",
       "trojan downloader adware     16\n",
       "trojan dropper _             16\n",
       "trojan ransomware _          13\n",
       "Name: count, dtype: int64"
      ]
     },
     "metadata": {},
     "output_type": "display_data"
    },
    {
     "data": {
      "text/plain": [
       "'CreateActCtxW'"
      ]
     },
     "metadata": {},
     "output_type": "display_data"
    },
    {
     "data": {
      "text/plain": [
       "type_pattern\n",
       "trojan adware _             222\n",
       "trojan _ _                   80\n",
       "trojan adware virus          45\n",
       "downloader trojan _          18\n",
       "adware trojan virus          15\n",
       "adware trojan _              14\n",
       "trojan downloader adware     13\n",
       "trojan dropper _             13\n",
       "trojan adware downloader      7\n",
       "trojan spyware _              6\n",
       "Name: count, dtype: int64"
      ]
     },
     "metadata": {},
     "output_type": "display_data"
    },
    {
     "data": {
      "text/plain": [
       "'GetVolumeNameForVolumeMountPointW'"
      ]
     },
     "metadata": {},
     "output_type": "display_data"
    },
    {
     "data": {
      "text/plain": [
       "type_pattern\n",
       "downloader trojan _         18\n",
       "trojan _ _                  12\n",
       "adware trojan _              7\n",
       "adware trojan virus          3\n",
       "downloader trojan adware     3\n",
       "trojan downloader adware     2\n",
       "adware _ _                   2\n",
       "trojan adware pua            2\n",
       "trojan adware downloader     2\n",
       "adware trojan pua            2\n",
       "Name: count, dtype: int64"
      ]
     },
     "metadata": {},
     "output_type": "display_data"
    },
    {
     "data": {
      "text/plain": [
       "'NtDuplicateObject'"
      ]
     },
     "metadata": {},
     "output_type": "display_data"
    },
    {
     "data": {
      "text/plain": [
       "type_pattern\n",
       "trojan adware _             92\n",
       "trojan _ _                  33\n",
       "trojan adware virus         19\n",
       "downloader trojan _         18\n",
       "adware trojan _             14\n",
       "adware trojan downloader    10\n",
       "trojan downloader adware     8\n",
       "miner trojan pua             6\n",
       "trojan adware dropper        5\n",
       "trojan adware downloader     5\n",
       "Name: count, dtype: int64"
      ]
     },
     "metadata": {},
     "output_type": "display_data"
    },
    {
     "data": {
      "text/plain": [
       "'LoadStringW'"
      ]
     },
     "metadata": {},
     "output_type": "display_data"
    },
    {
     "data": {
      "text/plain": [
       "type_pattern\n",
       "trojan adware _             182\n",
       "trojan _ _                   25\n",
       "downloader trojan _          18\n",
       "adware trojan downloader     17\n",
       "trojan adware downloader     15\n",
       "adware trojan _              14\n",
       "trojan ransomware _          11\n",
       "adware trojan pua            11\n",
       "adware virus _                8\n",
       "miner trojan pua              6\n",
       "Name: count, dtype: int64"
      ]
     },
     "metadata": {},
     "output_type": "display_data"
    },
    {
     "data": {
      "text/plain": [
       "'GetNativeSystemInfo'"
      ]
     },
     "metadata": {},
     "output_type": "display_data"
    },
    {
     "data": {
      "text/plain": [
       "type_pattern\n",
       "trojan adware _             182\n",
       "trojan _ _                   29\n",
       "adware trojan downloader     17\n",
       "trojan adware downloader     15\n",
       "adware trojan _              13\n",
       "trojan adware pua            12\n",
       "trojan miner _               10\n",
       "adware trojan pua            10\n",
       "adware virus _                7\n",
       "miner trojan pua              6\n",
       "Name: count, dtype: int64"
      ]
     },
     "metadata": {},
     "output_type": "display_data"
    },
    {
     "data": {
      "text/plain": [
       "'FindFirstFileExW'"
      ]
     },
     "metadata": {},
     "output_type": "display_data"
    },
    {
     "data": {
      "text/plain": [
       "type_pattern\n",
       "trojan adware _             181\n",
       "trojan _ _                   38\n",
       "adware trojan downloader     25\n",
       "trojan dropper _             15\n",
       "trojan adware downloader     13\n",
       "trojan adware pua            10\n",
       "trojan miner _                8\n",
       "adware trojan _               5\n",
       "trojan adware dropper         4\n",
       "trojan downloader _           3\n",
       "Name: count, dtype: int64"
      ]
     },
     "metadata": {},
     "output_type": "display_data"
    },
    {
     "data": {
      "text/plain": [
       "'NtQueryAttributesFile'"
      ]
     },
     "metadata": {},
     "output_type": "display_data"
    },
    {
     "data": {
      "text/plain": [
       "type_pattern\n",
       "trojan _ _             71\n",
       "trojan adware _        11\n",
       "trojan miner _         10\n",
       "adware trojan pua       9\n",
       "trojan pua _            9\n",
       "trojan dropper _        8\n",
       "trojan downloader _     8\n",
       "adware virus _          7\n",
       "trojan spyware _        7\n",
       "trojan ransomware _     6\n",
       "Name: count, dtype: int64"
      ]
     },
     "metadata": {},
     "output_type": "display_data"
    },
    {
     "data": {
      "text/plain": [
       "'LoadStringA'"
      ]
     },
     "metadata": {},
     "output_type": "display_data"
    },
    {
     "data": {
      "text/plain": [
       "type_pattern\n",
       "trojan _ _                  147\n",
       "trojan dropper _             14\n",
       "trojan adware _              11\n",
       "trojan pua _                  8\n",
       "trojan spyware _              7\n",
       "trojan downloader _           5\n",
       "adware trojan virus           4\n",
       "trojan dropper pua            3\n",
       "adware trojan downloader      2\n",
       "adware trojan _               2\n",
       "Name: count, dtype: int64"
      ]
     },
     "metadata": {},
     "output_type": "display_data"
    },
    {
     "data": {
      "text/plain": [
       "'GetSystemMetrics'"
      ]
     },
     "metadata": {},
     "output_type": "display_data"
    },
    {
     "data": {
      "text/plain": [
       "type_pattern\n",
       "trojan adware _             329\n",
       "trojan _ _                  202\n",
       "trojan adware virus          56\n",
       "trojan adware downloader     28\n",
       "trojan dropper _             24\n",
       "adware trojan downloader     24\n",
       "adware trojan virus          22\n",
       "adware trojan _              19\n",
       "downloader trojan adware     14\n",
       "trojan adware pua            14\n",
       "Name: count, dtype: int64"
      ]
     },
     "metadata": {},
     "output_type": "display_data"
    },
    {
     "data": {
      "text/plain": [
       "'FindResourceExW'"
      ]
     },
     "metadata": {},
     "output_type": "display_data"
    },
    {
     "data": {
      "text/plain": [
       "type_pattern\n",
       "trojan adware _             192\n",
       "trojan _ _                  152\n",
       "trojan adware downloader     28\n",
       "adware trojan downloader     21\n",
       "trojan dropper _             19\n",
       "trojan pua _                 10\n",
       "trojan adware pua            10\n",
       "trojan downloader _           8\n",
       "trojan miner _                8\n",
       "trojan spyware _              8\n",
       "Name: count, dtype: int64"
      ]
     },
     "metadata": {},
     "output_type": "display_data"
    },
    {
     "data": {
      "text/plain": [
       "'DrawTextExW'"
      ]
     },
     "metadata": {},
     "output_type": "display_data"
    },
    {
     "data": {
      "text/plain": [
       "type_pattern\n",
       "trojan _ _                  95\n",
       "trojan adware _             73\n",
       "trojan adware pua           10\n",
       "trojan dropper _            10\n",
       "trojan pua _                 6\n",
       "trojan spyware _             6\n",
       "adware trojan downloader     5\n",
       "trojan adware dropper        5\n",
       "trojan adware downloader     4\n",
       "trojan dropper pua           3\n",
       "Name: count, dtype: int64"
      ]
     },
     "metadata": {},
     "output_type": "display_data"
    },
    {
     "data": {
      "text/plain": [
       "'FindResourceA'"
      ]
     },
     "metadata": {},
     "output_type": "display_data"
    },
    {
     "data": {
      "text/plain": [
       "type_pattern\n",
       "trojan _ _                  38\n",
       "trojan dropper _            12\n",
       "trojan adware _             10\n",
       "adware trojan virus          7\n",
       "adware trojan downloader     6\n",
       "trojan spyware _             5\n",
       "trojan downloader _          4\n",
       "trojan pua _                 4\n",
       "adware trojan _              2\n",
       "adware _ _                   1\n",
       "Name: count, dtype: int64"
      ]
     },
     "metadata": {},
     "output_type": "display_data"
    },
    {
     "data": {
      "text/plain": [
       "'RegQueryValueExA'"
      ]
     },
     "metadata": {},
     "output_type": "display_data"
    },
    {
     "data": {
      "text/plain": [
       "type_pattern\n",
       "trojan adware _             121\n",
       "trojan _ _                   66\n",
       "downloader adware trojan     33\n",
       "trojan adware virus          29\n",
       "adware trojan virus          14\n",
       "adware trojan _              14\n",
       "trojan spyware _             10\n",
       "trojan downloader adware      8\n",
       "adware downloader trojan      8\n",
       "downloader trojan adware      7\n",
       "Name: count, dtype: int64"
      ]
     },
     "metadata": {},
     "output_type": "display_data"
    },
    {
     "data": {
      "text/plain": [
       "'NtOpenProcess'"
      ]
     },
     "metadata": {},
     "output_type": "display_data"
    },
    {
     "data": {
      "text/plain": [
       "type_pattern\n",
       "downloader adware trojan    24\n",
       "trojan adware virus         24\n",
       "adware trojan virus         12\n",
       "downloader trojan adware     7\n",
       "adware downloader trojan     7\n",
       "trojan adware _              5\n",
       "trojan adware pua            1\n",
       "adware downloader virus      1\n",
       "adware trojan pua            1\n",
       "Name: count, dtype: int64"
      ]
     },
     "metadata": {},
     "output_type": "display_data"
    },
    {
     "data": {
      "text/plain": [
       "'GetTimeZoneInformation'"
      ]
     },
     "metadata": {},
     "output_type": "display_data"
    },
    {
     "data": {
      "text/plain": [
       "type_pattern\n",
       "trojan adware _             130\n",
       "trojan adware downloader      8\n",
       "trojan adware hacktool        1\n",
       "trojan adware virus           1\n",
       "Name: count, dtype: int64"
      ]
     },
     "metadata": {},
     "output_type": "display_data"
    },
    {
     "data": {
      "text/plain": [
       "'LookupAccountSidW'"
      ]
     },
     "metadata": {},
     "output_type": "display_data"
    },
    {
     "data": {
      "text/plain": [
       "type_pattern\n",
       "trojan adware _             113\n",
       "adware trojan downloader     15\n",
       "trojan adware downloader     12\n",
       "adware trojan _               4\n",
       "trojan adware dropper         4\n",
       "trojan _ _                    3\n",
       "trojan downloader adware      1\n",
       "trojan adware virus           1\n",
       "pua trojan _                  1\n",
       "syncopate _ _                 1\n",
       "Name: count, dtype: int64"
      ]
     },
     "metadata": {},
     "output_type": "display_data"
    },
    {
     "data": {
      "text/plain": [
       "'GetFileType'"
      ]
     },
     "metadata": {},
     "output_type": "display_data"
    },
    {
     "data": {
      "text/plain": [
       "type_pattern\n",
       "trojan adware _             123\n",
       "trojan _ _                   49\n",
       "adware trojan virus          10\n",
       "trojan miner _                7\n",
       "trojan adware virus           6\n",
       "adware trojan dropper         5\n",
       "adware trojan downloader      4\n",
       "trojan adware downloader      3\n",
       "trojan downloader _           3\n",
       "trojan dropper _              3\n",
       "Name: count, dtype: int64"
      ]
     },
     "metadata": {},
     "output_type": "display_data"
    },
    {
     "data": {
      "text/plain": [
       "'NtDeviceIoControlFile'"
      ]
     },
     "metadata": {},
     "output_type": "display_data"
    },
    {
     "data": {
      "text/plain": [
       "type_pattern\n",
       "adware trojan virus         9\n",
       "trojan adware _             5\n",
       "trojan adware pua           4\n",
       "trojan adware virus         4\n",
       "trojan adware downloader    2\n",
       "adware pua trojan           1\n",
       "trojan pua adware           1\n",
       "trojan pua _                1\n",
       "trojan _ _                  1\n",
       "pua adware trojan           1\n",
       "Name: count, dtype: int64"
      ]
     },
     "metadata": {},
     "output_type": "display_data"
    },
    {
     "data": {
      "text/plain": [
       "'NtOpenDirectoryObject'"
      ]
     },
     "metadata": {},
     "output_type": "display_data"
    },
    {
     "data": {
      "text/plain": [
       "type_pattern\n",
       "trojan adware _             203\n",
       "trojan _ _                   41\n",
       "trojan adware virus          41\n",
       "adware trojan virus          12\n",
       "trojan downloader adware      9\n",
       "adware trojan _               7\n",
       "miner trojan pua              6\n",
       "trojan adware dropper         6\n",
       "trojan downloader pua         5\n",
       "trojan pua _                  3\n",
       "Name: count, dtype: int64"
      ]
     },
     "metadata": {},
     "output_type": "display_data"
    },
    {
     "data": {
      "text/plain": [
       "'WSAStartup'"
      ]
     },
     "metadata": {},
     "output_type": "display_data"
    },
    {
     "data": {
      "text/plain": [
       "type_pattern\n",
       "trojan adware _             145\n",
       "trojan _ _                   31\n",
       "trojan adware virus          29\n",
       "adware trojan virus          16\n",
       "trojan downloader adware     11\n",
       "adware trojan downloader      8\n",
       "adware trojan _               7\n",
       "miner trojan pua              6\n",
       "trojan downloader pua         5\n",
       "trojan adware dropper         5\n",
       "Name: count, dtype: int64"
      ]
     },
     "metadata": {},
     "output_type": "display_data"
    },
    {
     "data": {
      "text/plain": [
       "'IsDebuggerPresent'"
      ]
     },
     "metadata": {},
     "output_type": "display_data"
    },
    {
     "data": {
      "text/plain": [
       "type_pattern\n",
       "trojan _ _                  41\n",
       "trojan adware downloader    16\n",
       "trojan adware _             14\n",
       "trojan adware virus         11\n",
       "downloader trojan adware     8\n",
       "trojan miner _               7\n",
       "adware trojan downloader     5\n",
       "adware trojan virus          5\n",
       "trojan dropper _             5\n",
       "trojan downloader _          5\n",
       "Name: count, dtype: int64"
      ]
     },
     "metadata": {},
     "output_type": "display_data"
    },
    {
     "data": {
      "text/plain": [
       "'SearchPathW'"
      ]
     },
     "metadata": {},
     "output_type": "display_data"
    },
    {
     "data": {
      "text/plain": [
       "type_pattern\n",
       "trojan _ _                90\n",
       "trojan dropper _           7\n",
       "trojan spyware _           2\n",
       "adware virus _             1\n",
       "trojan pua _               1\n",
       "trojan spyware dropper     1\n",
       "trojan dropper spyware     1\n",
       "trojan virus _             1\n",
       "Name: count, dtype: int64"
      ]
     },
     "metadata": {},
     "output_type": "display_data"
    },
    {
     "data": {
      "text/plain": [
       "'SetWindowsHookExA'"
      ]
     },
     "metadata": {},
     "output_type": "display_data"
    },
    {
     "data": {
      "text/plain": [
       "type_pattern\n",
       "trojan _ _                90\n",
       "trojan dropper _           7\n",
       "trojan spyware _           2\n",
       "trojan downloader _        2\n",
       "adware virus _             1\n",
       "trojan pua _               1\n",
       "trojan spyware dropper     1\n",
       "trojan dropper spyware     1\n",
       "techjoydown _ _            1\n",
       "adware downloader _        1\n",
       "Name: count, dtype: int64"
      ]
     },
     "metadata": {},
     "output_type": "display_data"
    },
    {
     "data": {
      "text/plain": [
       "'FindResourceExA'"
      ]
     },
     "metadata": {},
     "output_type": "display_data"
    },
    {
     "data": {
      "text/plain": [
       "type_pattern\n",
       "trojan _ _             21\n",
       "adware trojan _         6\n",
       "trojan dropper _        4\n",
       "adware trojan virus     3\n",
       "adware virus _          1\n",
       "adware trojan pua       1\n",
       "trojan downloader _     1\n",
       "Name: count, dtype: int64"
      ]
     },
     "metadata": {},
     "output_type": "display_data"
    },
    {
     "data": {
      "text/plain": [
       "'__exception__'"
      ]
     },
     "metadata": {},
     "output_type": "display_data"
    },
    {
     "data": {
      "text/plain": [
       "type_pattern\n",
       "trojan _ _                  37\n",
       "trojan dropper _             8\n",
       "trojan banker spyware        5\n",
       "trojan spyware _             3\n",
       "trojan downloader _          2\n",
       "trojan ransomware _          2\n",
       "trojan adware dropper        2\n",
       "trojan downloader adware     2\n",
       "trojan spyware banker        2\n",
       "adware virus _               1\n",
       "Name: count, dtype: int64"
      ]
     },
     "metadata": {},
     "output_type": "display_data"
    },
    {
     "data": {
      "text/plain": [
       "'NtEnumerateKey'"
      ]
     },
     "metadata": {},
     "output_type": "display_data"
    },
    {
     "data": {
      "text/plain": [
       "type_pattern\n",
       "trojan adware _        30\n",
       "trojan adware virus    11\n",
       "trojan _ _              9\n",
       "adware trojan virus     8\n",
       "trojan dropper _        7\n",
       "trojan miner _          1\n",
       "trojan spyware _        1\n",
       "trojan worm _           1\n",
       "trojan virus _          1\n",
       "adware trojan _         1\n",
       "Name: count, dtype: int64"
      ]
     },
     "metadata": {},
     "output_type": "display_data"
    },
    {
     "data": {
      "text/plain": [
       "'NtEnumerateValueKey'"
      ]
     },
     "metadata": {},
     "output_type": "display_data"
    },
    {
     "data": {
      "text/plain": [
       "type_pattern\n",
       "trojan adware _        30\n",
       "trojan adware virus    11\n",
       "trojan _ _              9\n",
       "adware trojan virus     8\n",
       "trojan dropper _        7\n",
       "trojan miner _          1\n",
       "trojan spyware _        1\n",
       "trojan worm _           1\n",
       "trojan virus _          1\n",
       "adware trojan _         1\n",
       "Name: count, dtype: int64"
      ]
     },
     "metadata": {},
     "output_type": "display_data"
    },
    {
     "data": {
      "text/plain": [
       "'SHGetFolderPathW'"
      ]
     },
     "metadata": {},
     "output_type": "display_data"
    },
    {
     "data": {
      "text/plain": [
       "type_pattern\n",
       "adware trojan downloader     14\n",
       "trojan adware pua            10\n",
       "adware trojan _               8\n",
       "adware trojan virus           7\n",
       "trojan _ _                    6\n",
       "trojan dropper downloader     6\n",
       "trojan spyware _              5\n",
       "adware trojan dropper         5\n",
       "adware _ _                    2\n",
       "trojan worm downloader        2\n",
       "Name: count, dtype: int64"
      ]
     },
     "metadata": {},
     "output_type": "display_data"
    },
    {
     "data": {
      "text/plain": [
       "'GetSystemDirectoryA'"
      ]
     },
     "metadata": {},
     "output_type": "display_data"
    },
    {
     "data": {
      "text/plain": [
       "type_pattern\n",
       "trojan dropper _            9\n",
       "trojan _ _                  5\n",
       "adware trojan virus         5\n",
       "trojan ransomware _         4\n",
       "trojan downloader adware    3\n",
       "adware trojan _             3\n",
       "trojan downloader _         2\n",
       "trojan adware downloader    2\n",
       "trojan downloader virus     1\n",
       "trojan miner dropper        1\n",
       "Name: count, dtype: int64"
      ]
     },
     "metadata": {},
     "output_type": "display_data"
    },
    {
     "data": {
      "text/plain": [
       "'GetTempPathW'"
      ]
     },
     "metadata": {},
     "output_type": "display_data"
    },
    {
     "data": {
      "text/plain": [
       "type_pattern\n",
       "trojan _ _                   41\n",
       "ransomware trojan _          11\n",
       "trojan dropper _              7\n",
       "trojan ransomware _           7\n",
       "ransomware trojan dropper     6\n",
       "adware trojan downloader      5\n",
       "trojan downloader adware      4\n",
       "trojan pua _                  3\n",
       "adware trojan virus           3\n",
       "ransomware trojan pua         2\n",
       "Name: count, dtype: int64"
      ]
     },
     "metadata": {},
     "output_type": "display_data"
    },
    {
     "data": {
      "text/plain": [
       "'SetEndOfFile'"
      ]
     },
     "metadata": {},
     "output_type": "display_data"
    },
    {
     "data": {
      "text/plain": [
       "type_pattern\n",
       "trojan _ _                  43\n",
       "trojan pua _                 3\n",
       "adware _ _                   3\n",
       "adware trojan virus          3\n",
       "trojan dropper _             2\n",
       "adware trojan downloader     2\n",
       "adware pua _                 2\n",
       "trojan spyware _             2\n",
       "hacktool pua trojan          1\n",
       "trojan downloader _          1\n",
       "Name: count, dtype: int64"
      ]
     },
     "metadata": {},
     "output_type": "display_data"
    },
    {
     "data": {
      "text/plain": [
       "'GlobalMemoryStatus'"
      ]
     },
     "metadata": {},
     "output_type": "display_data"
    },
    {
     "data": {
      "text/plain": [
       "type_pattern\n",
       "trojan _ _                  31\n",
       "adware trojan _              6\n",
       "trojan adware _              6\n",
       "trojan adware downloader     4\n",
       "adware trojan virus          3\n",
       "trojan miner _               3\n",
       "trojan dropper _             2\n",
       "trojan adware virus          2\n",
       "trojan adware dropper        2\n",
       "trojan pua _                 1\n",
       "Name: count, dtype: int64"
      ]
     },
     "metadata": {},
     "output_type": "display_data"
    },
    {
     "data": {
      "text/plain": [
       "'NtQueryInformationFile'"
      ]
     },
     "metadata": {},
     "output_type": "display_data"
    },
    {
     "data": {
      "text/plain": [
       "type_pattern\n",
       "trojan _ _                   33\n",
       "ransomware trojan _          11\n",
       "adware trojan downloader      9\n",
       "trojan adware virus           9\n",
       "trojan dropper _              7\n",
       "trojan ransomware _           7\n",
       "ransomware trojan dropper     6\n",
       "adware trojan _               6\n",
       "adware trojan virus           6\n",
       "trojan banker _               6\n",
       "Name: count, dtype: int64"
      ]
     },
     "metadata": {},
     "output_type": "display_data"
    },
    {
     "data": {
      "text/plain": [
       "'NtOpenMutant'"
      ]
     },
     "metadata": {},
     "output_type": "display_data"
    },
    {
     "data": {
      "text/plain": [
       "type_pattern\n",
       "trojan _ _                  20\n",
       "trojan adware pua           10\n",
       "downloader trojan adware     7\n",
       "adware _ _                   2\n",
       "trojan pua _                 1\n",
       "trojan adware _              1\n",
       "adware trojan _              1\n",
       "adware trojan downloader     1\n",
       "adware downloader trojan     1\n",
       "downloader adware trojan     1\n",
       "Name: count, dtype: int64"
      ]
     },
     "metadata": {},
     "output_type": "display_data"
    },
    {
     "data": {
      "text/plain": [
       "'GetUserNameW'"
      ]
     },
     "metadata": {},
     "output_type": "display_data"
    },
    {
     "data": {
      "text/plain": [
       "type_pattern\n",
       "trojan adware _             85\n",
       "trojan adware virus         16\n",
       "trojan _ _                  13\n",
       "trojan downloader adware     4\n",
       "adware trojan _              3\n",
       "trojan adware dropper        3\n",
       "trojan dropper _             1\n",
       "Name: count, dtype: int64"
      ]
     },
     "metadata": {},
     "output_type": "display_data"
    },
    {
     "data": {
      "text/plain": [
       "'NtCreateThreadEx'"
      ]
     },
     "metadata": {},
     "output_type": "display_data"
    },
    {
     "data": {
      "text/plain": [
       "type_pattern\n",
       "trojan adware _             80\n",
       "trojan adware virus         16\n",
       "trojan _ _                  12\n",
       "adware trojan _              9\n",
       "adware trojan downloader     9\n",
       "trojan adware dropper        5\n",
       "trojan downloader adware     4\n",
       "adware trojan virus          3\n",
       "trojan adware downloader     2\n",
       "adware trojan pua            1\n",
       "Name: count, dtype: int64"
      ]
     },
     "metadata": {},
     "output_type": "display_data"
    },
    {
     "data": {
      "text/plain": [
       "'NtResumeThread'"
      ]
     },
     "metadata": {},
     "output_type": "display_data"
    },
    {
     "data": {
      "text/plain": [
       "type_pattern\n",
       "trojan adware _             80\n",
       "trojan _ _                  22\n",
       "trojan adware virus         16\n",
       "adware trojan downloader    10\n",
       "adware trojan _              9\n",
       "trojan adware dropper        5\n",
       "trojan downloader adware     4\n",
       "adware trojan virus          3\n",
       "trojan adware downloader     2\n",
       "adware trojan pua            1\n",
       "Name: count, dtype: int64"
      ]
     },
     "metadata": {},
     "output_type": "display_data"
    },
    {
     "data": {
      "text/plain": [
       "'DeviceIoControl'"
      ]
     },
     "metadata": {},
     "output_type": "display_data"
    },
    {
     "data": {
      "text/plain": [
       "type_pattern\n",
       "adware trojan virus         12\n",
       "adware trojan downloader     9\n",
       "adware trojan _              6\n",
       "trojan adware _              5\n",
       "trojan adware pua            4\n",
       "trojan adware virus          4\n",
       "trojan adware downloader     3\n",
       "adware trojan pua            1\n",
       "adware pua trojan            1\n",
       "trojan pua adware            1\n",
       "Name: count, dtype: int64"
      ]
     },
     "metadata": {},
     "output_type": "display_data"
    },
    {
     "data": {
      "text/plain": [
       "'GetAdaptersInfo'"
      ]
     },
     "metadata": {},
     "output_type": "display_data"
    },
    {
     "data": {
      "text/plain": [
       "type_pattern\n",
       "adware trojan downloader    9\n",
       "adware trojan _             6\n",
       "adware trojan virus         3\n",
       "adware trojan pua           1\n",
       "trojan adware downloader    1\n",
       "Name: count, dtype: int64"
      ]
     },
     "metadata": {},
     "output_type": "display_data"
    },
    {
     "data": {
      "text/plain": [
       "'GetComputerNameA'"
      ]
     },
     "metadata": {},
     "output_type": "display_data"
    },
    {
     "data": {
      "text/plain": [
       "type_pattern\n",
       "adware trojan _        6\n",
       "adware trojan virus    3\n",
       "adware trojan pua      1\n",
       "Name: count, dtype: int64"
      ]
     },
     "metadata": {},
     "output_type": "display_data"
    },
    {
     "data": {
      "text/plain": [
       "'GlobalMemoryStatusEx'"
      ]
     },
     "metadata": {},
     "output_type": "display_data"
    },
    {
     "data": {
      "text/plain": [
       "type_pattern\n",
       "adware trojan _             6\n",
       "trojan adware _             6\n",
       "trojan adware downloader    4\n",
       "adware trojan virus         3\n",
       "trojan miner _              3\n",
       "trojan adware virus         2\n",
       "trojan adware dropper       2\n",
       "adware trojan pua           1\n",
       "trojan adware pua           1\n",
       "Name: count, dtype: int64"
      ]
     },
     "metadata": {},
     "output_type": "display_data"
    },
    {
     "data": {
      "text/plain": [
       "'LdrUnloadDll'"
      ]
     },
     "metadata": {},
     "output_type": "display_data"
    },
    {
     "data": {
      "text/plain": [
       "type_pattern\n",
       "trojan _ _                  17\n",
       "trojan miner _              12\n",
       "trojan dropper _            10\n",
       "adware trojan downloader     9\n",
       "miner trojan pua             6\n",
       "adware trojan _              6\n",
       "adware trojan virus          5\n",
       "trojan adware downloader     4\n",
       "trojan downloader _          4\n",
       "trojan pua _                 2\n",
       "Name: count, dtype: int64"
      ]
     },
     "metadata": {},
     "output_type": "display_data"
    },
    {
     "data": {
      "text/plain": [
       "'GetFileSizeEx'"
      ]
     },
     "metadata": {},
     "output_type": "display_data"
    },
    {
     "data": {
      "text/plain": [
       "type_pattern\n",
       "trojan _ _          7\n",
       "trojan dropper _    2\n",
       "trojan miner _      1\n",
       "Name: count, dtype: int64"
      ]
     },
     "metadata": {},
     "output_type": "display_data"
    },
    {
     "data": {
      "text/plain": [
       "'GetFileVersionInfoSizeW'"
      ]
     },
     "metadata": {},
     "output_type": "display_data"
    },
    {
     "data": {
      "text/plain": [
       "type_pattern\n",
       "trojan adware _             41\n",
       "trojan _ _                  12\n",
       "adware trojan downloader    10\n",
       "trojan adware virus          9\n",
       "trojan spyware _             5\n",
       "trojan dropper _             2\n",
       "trojan downloader adware     2\n",
       "adware trojan _              2\n",
       "adware downloader trojan     1\n",
       "trojan adware downloader     1\n",
       "Name: count, dtype: int64"
      ]
     },
     "metadata": {},
     "output_type": "display_data"
    },
    {
     "data": {
      "text/plain": [
       "'GetFileVersionInfoW'"
      ]
     },
     "metadata": {},
     "output_type": "display_data"
    },
    {
     "data": {
      "text/plain": [
       "type_pattern\n",
       "trojan adware _             32\n",
       "trojan _ _                  11\n",
       "adware trojan downloader    10\n",
       "trojan adware virus          9\n",
       "trojan spyware _             5\n",
       "trojan dropper _             2\n",
       "trojan downloader adware     2\n",
       "adware trojan _              2\n",
       "adware downloader trojan     1\n",
       "trojan adware downloader     1\n",
       "Name: count, dtype: int64"
      ]
     },
     "metadata": {},
     "output_type": "display_data"
    },
    {
     "data": {
      "text/plain": [
       "'GetCursorPos'"
      ]
     },
     "metadata": {},
     "output_type": "display_data"
    },
    {
     "data": {
      "text/plain": [
       "type_pattern\n",
       "trojan _ _             20\n",
       "trojan adware pua       4\n",
       "trojan dropper _        3\n",
       "dropper trojan _        3\n",
       "trojan pua _            2\n",
       "trojan downloader _     2\n",
       "adware pua trojan       1\n",
       "trojan pua adware       1\n",
       "pua adware trojan       1\n",
       "trojan adware _         1\n",
       "Name: count, dtype: int64"
      ]
     },
     "metadata": {},
     "output_type": "display_data"
    },
    {
     "data": {
      "text/plain": [
       "'DrawTextExA'"
      ]
     },
     "metadata": {},
     "output_type": "display_data"
    },
    {
     "data": {
      "text/plain": [
       "type_pattern\n",
       "trojan spyware _    5\n",
       "trojan _ _          4\n",
       "trojan dropper _    1\n",
       "Name: count, dtype: int64"
      ]
     },
     "metadata": {},
     "output_type": "display_data"
    },
    {
     "data": {
      "text/plain": [
       "'OutputDebugStringA'"
      ]
     },
     "metadata": {},
     "output_type": "display_data"
    },
    {
     "data": {
      "text/plain": [
       "type_pattern\n",
       "adware trojan downloader    9\n",
       "adware trojan dropper       5\n",
       "trojan adware pua           4\n",
       "adware pua trojan           1\n",
       "trojan pua adware           1\n",
       "trojan pua _                1\n",
       "trojan _ _                  1\n",
       "pua adware trojan           1\n",
       "trojan adware _             1\n",
       "adware trojan _             1\n",
       "Name: count, dtype: int64"
      ]
     },
     "metadata": {},
     "output_type": "display_data"
    },
    {
     "data": {
      "text/plain": [
       "'GetForegroundWindow'"
      ]
     },
     "metadata": {},
     "output_type": "display_data"
    },
    {
     "data": {
      "text/plain": [
       "type_pattern\n",
       "trojan adware downloader    16\n",
       "downloader trojan adware     8\n",
       "trojan _ _                   8\n",
       "trojan dropper _             8\n",
       "adware downloader trojan     3\n",
       "trojan downloader adware     3\n",
       "downloader adware trojan     3\n",
       "trojan downloader _          3\n",
       "trojan worm downloader       3\n",
       "adware trojan downloader     2\n",
       "Name: count, dtype: int64"
      ]
     },
     "metadata": {},
     "output_type": "display_data"
    },
    {
     "data": {
      "text/plain": [
       "'RegCreateKeyExA'"
      ]
     },
     "metadata": {},
     "output_type": "display_data"
    },
    {
     "data": {
      "text/plain": [
       "type_pattern\n",
       "adware trojan virus         9\n",
       "adware trojan downloader    6\n",
       "adware _ _                  2\n",
       "trojan adware _             1\n",
       "trojan _ _                  1\n",
       "adware trojan _             1\n",
       "adware trojan pua           1\n",
       "Name: count, dtype: int64"
      ]
     },
     "metadata": {},
     "output_type": "display_data"
    },
    {
     "data": {
      "text/plain": [
       "'socket'"
      ]
     },
     "metadata": {},
     "output_type": "display_data"
    },
    {
     "data": {
      "text/plain": [
       "type_pattern\n",
       "adware trojan virus         12\n",
       "adware trojan downloader     8\n",
       "miner trojan pua             6\n",
       "adware _ _                   2\n",
       "adware downloader trojan     2\n",
       "trojan miner _               2\n",
       "trojan adware _              1\n",
       "trojan _ _                   1\n",
       "adware trojan _              1\n",
       "miner trojan adware          1\n",
       "Name: count, dtype: int64"
      ]
     },
     "metadata": {},
     "output_type": "display_data"
    },
    {
     "data": {
      "text/plain": [
       "'CreateDirectoryW'"
      ]
     },
     "metadata": {},
     "output_type": "display_data"
    },
    {
     "data": {
      "text/plain": [
       "type_pattern\n",
       "trojan _ _                   12\n",
       "trojan dropper downloader     6\n",
       "trojan downloader pua         5\n",
       "trojan dropper _              5\n",
       "adware trojan virus           5\n",
       "trojan downloader adware      4\n",
       "trojan pua _                  3\n",
       "adware _ _                    3\n",
       "adware pua _                  2\n",
       "trojan adware _               2\n",
       "Name: count, dtype: int64"
      ]
     },
     "metadata": {},
     "output_type": "display_data"
    },
    {
     "data": {
      "text/plain": [
       "'NtWriteFile'"
      ]
     },
     "metadata": {},
     "output_type": "display_data"
    },
    {
     "data": {
      "text/plain": [
       "type_pattern\n",
       "adware trojan downloader     15\n",
       "trojan _ _                   12\n",
       "trojan dropper downloader     6\n",
       "adware trojan virus           6\n",
       "trojan dropper _              5\n",
       "adware trojan dropper         5\n",
       "trojan downloader adware      4\n",
       "trojan adware downloader      3\n",
       "trojan pua _                  3\n",
       "adware _ _                    3\n",
       "Name: count, dtype: int64"
      ]
     },
     "metadata": {},
     "output_type": "display_data"
    },
    {
     "data": {
      "text/plain": [
       "'CreateProcessInternalW'"
      ]
     },
     "metadata": {},
     "output_type": "display_data"
    },
    {
     "data": {
      "text/plain": [
       "type_pattern\n",
       "trojan _ _                  22\n",
       "adware _ _                   3\n",
       "adware trojan virus          3\n",
       "adware trojan downloader     2\n",
       "trojan pua _                 2\n",
       "hacktool pua trojan          1\n",
       "trojan downloader _          1\n",
       "adware pua _                 1\n",
       "opencandy candyopen _        1\n",
       "trojan spyware _             1\n",
       "Name: count, dtype: int64"
      ]
     },
     "metadata": {},
     "output_type": "display_data"
    },
    {
     "data": {
      "text/plain": [
       "'DeleteFileW'"
      ]
     },
     "metadata": {},
     "output_type": "display_data"
    },
    {
     "data": {
      "text/plain": [
       "type_pattern\n",
       "trojan _ _                  6\n",
       "adware trojan downloader    2\n",
       "adware _ _                  2\n",
       "trojan pua _                2\n",
       "hacktool pua trojan         1\n",
       "trojan downloader _         1\n",
       "adware pua _                1\n",
       "opencandy candyopen _       1\n",
       "trojan spyware _            1\n",
       "msil _ _                    1\n",
       "Name: count, dtype: int64"
      ]
     },
     "metadata": {},
     "output_type": "display_data"
    },
    {
     "data": {
      "text/plain": [
       "'RemoveDirectoryA'"
      ]
     },
     "metadata": {},
     "output_type": "display_data"
    },
    {
     "data": {
      "text/plain": [
       "type_pattern\n",
       "trojan dropper _            5\n",
       "trojan _ _                  4\n",
       "trojan pua _                3\n",
       "adware trojan virus         3\n",
       "adware trojan downloader    2\n",
       "hacktool pua trojan         1\n",
       "trojan downloader _         1\n",
       "msil _ _                    1\n",
       "adware _ _                  1\n",
       "downloader _ _              1\n",
       "Name: count, dtype: int64"
      ]
     },
     "metadata": {},
     "output_type": "display_data"
    },
    {
     "data": {
      "text/plain": [
       "'GetSystemWindowsDirectoryA'"
      ]
     },
     "metadata": {},
     "output_type": "display_data"
    },
    {
     "data": {
      "text/plain": [
       "type_pattern\n",
       "trojan ransomware _      7\n",
       "trojan _ _               2\n",
       "trojan pua ransomware    1\n",
       "Name: count, dtype: int64"
      ]
     },
     "metadata": {},
     "output_type": "display_data"
    },
    {
     "data": {
      "text/plain": [
       "'RegEnumKeyExA'"
      ]
     },
     "metadata": {},
     "output_type": "display_data"
    },
    {
     "data": {
      "text/plain": [
       "type_pattern\n",
       "trojan _ _               12\n",
       "trojan ransomware _       7\n",
       "trojan pua ransomware     1\n",
       "Name: count, dtype: int64"
      ]
     },
     "metadata": {},
     "output_type": "display_data"
    },
    {
     "data": {
      "text/plain": [
       "'RegEnumValueA'"
      ]
     },
     "metadata": {},
     "output_type": "display_data"
    },
    {
     "data": {
      "text/plain": [
       "type_pattern\n",
       "trojan ransomware _      7\n",
       "trojan _ _               2\n",
       "trojan pua ransomware    1\n",
       "Name: count, dtype: int64"
      ]
     },
     "metadata": {},
     "output_type": "display_data"
    },
    {
     "data": {
      "text/plain": [
       "'SetWindowsHookExW'"
      ]
     },
     "metadata": {},
     "output_type": "display_data"
    },
    {
     "data": {
      "text/plain": [
       "type_pattern\n",
       "trojan adware _             4\n",
       "dropper trojan _            3\n",
       "trojan dropper _            2\n",
       "trojan _ _                  2\n",
       "trojan adware dropper       2\n",
       "dropper _ _                 1\n",
       "trojan dropper adware       1\n",
       "trojan adware pua           1\n",
       "trojan adware downloader    1\n",
       "Name: count, dtype: int64"
      ]
     },
     "metadata": {},
     "output_type": "display_data"
    },
    {
     "data": {
      "text/plain": [
       "'WriteConsoleA'"
      ]
     },
     "metadata": {},
     "output_type": "display_data"
    },
    {
     "data": {
      "text/plain": [
       "type_pattern\n",
       "trojan adware _    20\n",
       "Name: count, dtype: int64"
      ]
     },
     "metadata": {},
     "output_type": "display_data"
    },
    {
     "data": {
      "text/plain": [
       "'SetFileAttributesW'"
      ]
     },
     "metadata": {},
     "output_type": "display_data"
    },
    {
     "data": {
      "text/plain": [
       "type_pattern\n",
       "trojan dropper downloader    6\n",
       "trojan adware _              2\n",
       "trojan worm downloader       2\n",
       "trojan adware pua            1\n",
       "trojan downloader dropper    1\n",
       "Name: count, dtype: int64"
      ]
     },
     "metadata": {},
     "output_type": "display_data"
    },
    {
     "data": {
      "text/plain": [
       "'WriteProcessMemory'"
      ]
     },
     "metadata": {},
     "output_type": "display_data"
    },
    {
     "data": {
      "text/plain": [
       "type_pattern\n",
       "trojan _ _                  10\n",
       "adware trojan downloader     5\n",
       "adware trojan virus          4\n",
       "adware downloader trojan     1\n",
       "Name: count, dtype: int64"
      ]
     },
     "metadata": {},
     "output_type": "display_data"
    },
    {
     "data": {
      "text/plain": [
       "'CreateToolhelp32Snapshot'"
      ]
     },
     "metadata": {},
     "output_type": "display_data"
    },
    {
     "data": {
      "text/plain": [
       "type_pattern\n",
       "adware trojan downloader    9\n",
       "trojan _ _                  6\n",
       "adware trojan virus         5\n",
       "adware downloader trojan    1\n",
       "adware trojan pua           1\n",
       "trojan miner _              1\n",
       "trojan pua _                1\n",
       "trojan ransomware _         1\n",
       "trojan dropper worm         1\n",
       "Name: count, dtype: int64"
      ]
     },
     "metadata": {},
     "output_type": "display_data"
    },
    {
     "data": {
      "text/plain": [
       "'Process32FirstW'"
      ]
     },
     "metadata": {},
     "output_type": "display_data"
    },
    {
     "data": {
      "text/plain": [
       "type_pattern\n",
       "adware trojan downloader    9\n",
       "adware trojan virus         5\n",
       "adware downloader trojan    1\n",
       "adware trojan pua           1\n",
       "Name: count, dtype: int64"
      ]
     },
     "metadata": {},
     "output_type": "display_data"
    },
    {
     "data": {
      "text/plain": [
       "'Process32NextW'"
      ]
     },
     "metadata": {},
     "output_type": "display_data"
    },
    {
     "data": {
      "text/plain": [
       "type_pattern\n",
       "adware trojan downloader    9\n",
       "adware trojan virus         5\n",
       "adware downloader trojan    1\n",
       "adware trojan pua           1\n",
       "Name: count, dtype: int64"
      ]
     },
     "metadata": {},
     "output_type": "display_data"
    },
    {
     "data": {
      "text/plain": [
       "'RemoveDirectoryW'"
      ]
     },
     "metadata": {},
     "output_type": "display_data"
    },
    {
     "data": {
      "text/plain": [
       "type_pattern\n",
       "trojan _ _               2\n",
       "adware pua _             1\n",
       "opencandy candyopen _    1\n",
       "trojan spyware _         1\n",
       "adware _ _               1\n",
       "Name: count, dtype: int64"
      ]
     },
     "metadata": {},
     "output_type": "display_data"
    },
    {
     "data": {
      "text/plain": [
       "'InternetSetOptionA'"
      ]
     },
     "metadata": {},
     "output_type": "display_data"
    },
    {
     "data": {
      "text/plain": [
       "type_pattern\n",
       "trojan downloader adware    3\n",
       "Name: count, dtype: int64"
      ]
     },
     "metadata": {},
     "output_type": "display_data"
    },
    {
     "data": {
      "text/plain": [
       "'ReadProcessMemory'"
      ]
     },
     "metadata": {},
     "output_type": "display_data"
    },
    {
     "data": {
      "text/plain": [
       "type_pattern\n",
       "trojan _ _                  10\n",
       "trojan downloader adware     3\n",
       "Name: count, dtype: int64"
      ]
     },
     "metadata": {},
     "output_type": "display_data"
    },
    {
     "data": {
      "text/plain": [
       "'NtCreateKey'"
      ]
     },
     "metadata": {},
     "output_type": "display_data"
    },
    {
     "data": {
      "text/plain": [
       "type_pattern\n",
       "trojan downloader adware    3\n",
       "Name: count, dtype: int64"
      ]
     },
     "metadata": {},
     "output_type": "display_data"
    },
    {
     "data": {
      "text/plain": [
       "'NtSetValueKey'"
      ]
     },
     "metadata": {},
     "output_type": "display_data"
    },
    {
     "data": {
      "text/plain": [
       "type_pattern\n",
       "trojan downloader adware    3\n",
       "Name: count, dtype: int64"
      ]
     },
     "metadata": {},
     "output_type": "display_data"
    },
    {
     "data": {
      "text/plain": [
       "'NtOpenThread'"
      ]
     },
     "metadata": {},
     "output_type": "display_data"
    },
    {
     "data": {
      "text/plain": [
       "type_pattern\n",
       "trojan downloader adware    2\n",
       "Name: count, dtype: int64"
      ]
     },
     "metadata": {},
     "output_type": "display_data"
    },
    {
     "data": {
      "text/plain": [
       "'CoUninitialize'"
      ]
     },
     "metadata": {},
     "output_type": "display_data"
    },
    {
     "data": {
      "text/plain": [
       "type_pattern\n",
       "trojan _ _       3\n",
       "pua trojan _     1\n",
       "syncopate _ _    1\n",
       "Name: count, dtype: int64"
      ]
     },
     "metadata": {},
     "output_type": "display_data"
    },
    {
     "data": {
      "text/plain": [
       "'GetFileAttributesExW'"
      ]
     },
     "metadata": {},
     "output_type": "display_data"
    },
    {
     "data": {
      "text/plain": [
       "type_pattern\n",
       "adware trojan dropper    5\n",
       "adware trojan _          1\n",
       "Name: count, dtype: int64"
      ]
     },
     "metadata": {},
     "output_type": "display_data"
    },
    {
     "data": {
      "text/plain": [
       "'closesocket'"
      ]
     },
     "metadata": {},
     "output_type": "display_data"
    },
    {
     "data": {
      "text/plain": [
       "type_pattern\n",
       "miner trojan pua       6\n",
       "trojan miner _         2\n",
       "miner trojan adware    1\n",
       "miner trojan _         1\n",
       "Name: count, dtype: int64"
      ]
     },
     "metadata": {},
     "output_type": "display_data"
    },
    {
     "data": {
      "text/plain": [
       "'GetShortPathNameW'"
      ]
     },
     "metadata": {},
     "output_type": "display_data"
    },
    {
     "data": {
      "text/plain": [
       "type_pattern\n",
       "trojan _ _                   19\n",
       "trojan dropper downloader     6\n",
       "trojan worm downloader        2\n",
       "trojan downloader dropper     1\n",
       "trojan spyware _              1\n",
       "Name: count, dtype: int64"
      ]
     },
     "metadata": {},
     "output_type": "display_data"
    },
    {
     "data": {
      "text/plain": [
       "'RegSetValueExA'"
      ]
     },
     "metadata": {},
     "output_type": "display_data"
    },
    {
     "data": {
      "text/plain": [
       "type_pattern\n",
       "adware trojan virus         9\n",
       "adware trojan downloader    6\n",
       "adware trojan pua           1\n",
       "Name: count, dtype: int64"
      ]
     },
     "metadata": {},
     "output_type": "display_data"
    },
    {
     "data": {
      "text/plain": [
       "'LookupPrivilegeValueW'"
      ]
     },
     "metadata": {},
     "output_type": "display_data"
    },
    {
     "data": {
      "text/plain": [
       "type_pattern\n",
       "trojan _ _    10\n",
       "Name: count, dtype: int64"
      ]
     },
     "metadata": {},
     "output_type": "display_data"
    },
    {
     "data": {
      "text/plain": [
       "'GetUserNameA'"
      ]
     },
     "metadata": {},
     "output_type": "display_data"
    },
    {
     "data": {
      "text/plain": [
       "type_pattern\n",
       "trojan _ _    10\n",
       "Name: count, dtype: int64"
      ]
     },
     "metadata": {},
     "output_type": "display_data"
    },
    {
     "data": {
      "text/plain": [
       "'ioctlsocket'"
      ]
     },
     "metadata": {},
     "output_type": "display_data"
    },
    {
     "data": {
      "text/plain": [
       "type_pattern\n",
       "adware trojan virus         8\n",
       "adware trojan downloader    2\n",
       "Name: count, dtype: int64"
      ]
     },
     "metadata": {},
     "output_type": "display_data"
    },
    {
     "data": {
      "text/plain": [
       "'select'"
      ]
     },
     "metadata": {},
     "output_type": "display_data"
    },
    {
     "data": {
      "text/plain": [
       "type_pattern\n",
       "adware trojan virus         8\n",
       "adware trojan downloader    2\n",
       "Name: count, dtype: int64"
      ]
     },
     "metadata": {},
     "output_type": "display_data"
    },
    {
     "data": {
      "text/plain": [
       "'NtTerminateProcess'"
      ]
     },
     "metadata": {},
     "output_type": "display_data"
    },
    {
     "data": {
      "text/plain": [
       "type_pattern\n",
       "trojan _ _      2\n",
       "trojan pua _    1\n",
       "msil _ _        1\n",
       "Name: count, dtype: int64"
      ]
     },
     "metadata": {},
     "output_type": "display_data"
    },
    {
     "data": {
      "text/plain": [
       "'NtSetInformationFile'"
      ]
     },
     "metadata": {},
     "output_type": "display_data"
    },
    {
     "data": {
      "text/plain": [
       "type_pattern\n",
       "trojan dropper _       5\n",
       "adware trojan virus    2\n",
       "downloader _ _         1\n",
       "trojan pua _           1\n",
       "Name: count, dtype: int64"
      ]
     },
     "metadata": {},
     "output_type": "display_data"
    },
    {
     "data": {
      "text/plain": [
       "'OpenSCManagerW'"
      ]
     },
     "metadata": {},
     "output_type": "display_data"
    },
    {
     "data": {
      "text/plain": [
       "type_pattern\n",
       "adware trojan downloader    9\n",
       "trojan adware downloader    1\n",
       "Name: count, dtype: int64"
      ]
     },
     "metadata": {},
     "output_type": "display_data"
    },
    {
     "data": {
      "text/plain": [
       "'OpenServiceW'"
      ]
     },
     "metadata": {},
     "output_type": "display_data"
    },
    {
     "data": {
      "text/plain": [
       "type_pattern\n",
       "adware trojan downloader    9\n",
       "trojan adware downloader    1\n",
       "Name: count, dtype: int64"
      ]
     },
     "metadata": {},
     "output_type": "display_data"
    },
    {
     "data": {
      "text/plain": [
       "'CoInitializeSecurity'"
      ]
     },
     "metadata": {},
     "output_type": "display_data"
    },
    {
     "data": {
      "text/plain": [
       "type_pattern\n",
       "adware trojan downloader    9\n",
       "trojan adware downloader    1\n",
       "Name: count, dtype: int64"
      ]
     },
     "metadata": {},
     "output_type": "display_data"
    },
    {
     "data": {
      "text/plain": [
       "'CoCreateInstanceEx'"
      ]
     },
     "metadata": {},
     "output_type": "display_data"
    },
    {
     "data": {
      "text/plain": [
       "type_pattern\n",
       "adware trojan downloader    9\n",
       "trojan adware downloader    1\n",
       "Name: count, dtype: int64"
      ]
     },
     "metadata": {},
     "output_type": "display_data"
    },
    {
     "data": {
      "text/plain": [
       "'GetComputerNameW'"
      ]
     },
     "metadata": {},
     "output_type": "display_data"
    },
    {
     "data": {
      "text/plain": [
       "type_pattern\n",
       "adware trojan downloader    9\n",
       "trojan adware downloader    1\n",
       "Name: count, dtype: int64"
      ]
     },
     "metadata": {},
     "output_type": "display_data"
    },
    {
     "data": {
      "text/plain": [
       "'CoGetClassObject'"
      ]
     },
     "metadata": {},
     "output_type": "display_data"
    },
    {
     "data": {
      "text/plain": [
       "type_pattern\n",
       "adware trojan downloader    9\n",
       "trojan adware downloader    1\n",
       "Name: count, dtype: int64"
      ]
     },
     "metadata": {},
     "output_type": "display_data"
    },
    {
     "data": {
      "text/plain": [
       "'IWbemServices_ExecQuery'"
      ]
     },
     "metadata": {},
     "output_type": "display_data"
    },
    {
     "data": {
      "text/plain": [
       "type_pattern\n",
       "adware trojan downloader    9\n",
       "trojan adware downloader    1\n",
       "Name: count, dtype: int64"
      ]
     },
     "metadata": {},
     "output_type": "display_data"
    },
    {
     "data": {
      "text/plain": [
       "'Module32FirstW'"
      ]
     },
     "metadata": {},
     "output_type": "display_data"
    },
    {
     "data": {
      "text/plain": [
       "type_pattern\n",
       "trojan _ _             6\n",
       "trojan miner _         1\n",
       "trojan pua _           1\n",
       "trojan ransomware _    1\n",
       "trojan dropper worm    1\n",
       "Name: count, dtype: int64"
      ]
     },
     "metadata": {},
     "output_type": "display_data"
    },
    {
     "data": {
      "text/plain": [
       "'Module32NextW'"
      ]
     },
     "metadata": {},
     "output_type": "display_data"
    },
    {
     "data": {
      "text/plain": [
       "type_pattern\n",
       "trojan _ _             6\n",
       "trojan miner _         1\n",
       "trojan pua _           1\n",
       "trojan ransomware _    1\n",
       "trojan dropper worm    1\n",
       "Name: count, dtype: int64"
      ]
     },
     "metadata": {},
     "output_type": "display_data"
    },
    {
     "name": "stdout",
     "output_type": "stream",
     "text": [
      "GetSystemTimeAsFileTime\n",
      "\n",
      "type_pattern\n",
      "trojan adware _              322\n",
      "trojan adware pua            112\n",
      "trojan _ _                    95\n",
      "trojan adware virus           77\n",
      "trojan adware downloader      42\n",
      "downloader adware trojan      37\n",
      "adware trojan virus           35\n",
      "trojan dropper _              27\n",
      "adware trojan downloader      24\n",
      "trojan downloader adware      22\n",
      "trojan adware dropper         21\n",
      "adware trojan _               17\n",
      "downloader trojan adware      16\n",
      "trojan miner _                15\n",
      "miner trojan pua              12\n",
      "adware downloader trojan      12\n",
      "trojan ransomware _           10\n",
      "trojan pua _                   8\n",
      "trojan downloader _            6\n",
      "trojan downloader pua          5\n",
      "adware trojan dropper          5\n",
      "trojan downloader dropper      5\n",
      "adware trojan pua              4\n",
      "dropper trojan _               3\n",
      "trojan dropper pua             3\n",
      "trojan miner downloader        2\n",
      "trojan miner pua               2\n",
      "adware _ _                     2\n",
      "downloader _ _                 2\n",
      "trojan spyware _               2\n",
      "trojan worm _                  2\n",
      "adware pua trojan              1\n",
      "miner trojan _                 1\n",
      "miner trojan adware            1\n",
      "adware downloader _            1\n",
      "techjoydown _ _                1\n",
      "adware downloader virus        1\n",
      "syncopate _ _                  1\n",
      "pua trojan _                   1\n",
      "trojan dropper hacktool        1\n",
      "trojan miner hacktool          1\n",
      "adware downloader pua          1\n",
      "trojan miner dropper           1\n",
      "trojan pua adware              1\n",
      "trojan trojan adware           1\n",
      "trojan dropper virus           1\n",
      "trojan dropper adware          1\n",
      "trojan miner adware            1\n",
      "dropper _ _                    1\n",
      "trojan pua ransomware          1\n",
      "trojan downloader virus        1\n",
      "trojan virus _                 1\n",
      "pua adware trojan              1\n",
      "trojan hacktool _              1\n",
      "trojan dropper worm            1\n",
      "Name: count, dtype: int64\n",
      "=====================================================================\n",
      "NtCreateMutant\n",
      "\n",
      "type_pattern\n",
      "trojan adware _              104\n",
      "trojan _ _                    65\n",
      "trojan dropper _              24\n",
      "trojan adware virus           20\n",
      "adware trojan virus           19\n",
      "adware trojan pua             11\n",
      "ransomware trojan _           11\n",
      "trojan downloader adware      10\n",
      "adware trojan _               10\n",
      "adware trojan downloader      10\n",
      "trojan adware downloader       9\n",
      "trojan spyware _               9\n",
      "trojan miner _                 8\n",
      "trojan adware pua              7\n",
      "adware virus _                 7\n",
      "trojan pua _                   6\n",
      "ransomware trojan dropper      6\n",
      "miner trojan pua               6\n",
      "trojan downloader pua          5\n",
      "trojan banker spyware          5\n",
      "trojan downloader dropper      5\n",
      "trojan ransomware _            5\n",
      "adware downloader trojan       4\n",
      "adware _ _                     4\n",
      "trojan dropper pua             3\n",
      "dropper trojan _               3\n",
      "nsismod _ _                    3\n",
      "adware trojan ransomware       3\n",
      "adware pua trojan              3\n",
      "downloader trojan _            3\n",
      "trojan downloader _            3\n",
      "trojan worm _                  2\n",
      "trojan downloader virus        2\n",
      "trojan miner pua               2\n",
      "trojan spyware banker          2\n",
      "ransomware trojan pua          2\n",
      "trojan adware dropper          2\n",
      "trojan miner dropper           2\n",
      "trojan miner downloader        1\n",
      "pua trojan _                   1\n",
      "syncopate _ _                  1\n",
      "trojan hacktool _              1\n",
      "miner trojan adware            1\n",
      "downloader _ _                 1\n",
      "downloader trojan adware       1\n",
      "miner trojan _                 1\n",
      "downloader adware trojan       1\n",
      "trojan dropper virus           1\n",
      "adware downloader _            1\n",
      "trojan pua adware              1\n",
      "adware downloader pua          1\n",
      "avaquest _ _                   1\n",
      "trojan dropper adware          1\n",
      "dropper _ _                    1\n",
      "pua trojan adware              1\n",
      "trojan virus _                 1\n",
      "pua adware trojan              1\n",
      "fugrafa nsismod _              1\n",
      "Name: count, dtype: int64\n",
      "=====================================================================\n",
      "NtOpenKeyEx\n",
      "\n",
      "type_pattern\n",
      "trojan adware _              99\n",
      "trojan _ _                   39\n",
      "trojan dropper _             18\n",
      "trojan adware virus          18\n",
      "adware trojan virus           9\n",
      "trojan downloader adware      9\n",
      "trojan downloader dropper     5\n",
      "trojan downloader pua         5\n",
      "trojan pua _                  4\n",
      "trojan dropper pua            3\n",
      "trojan adware downloader      3\n",
      "trojan miner pua              2\n",
      "trojan adware dropper         2\n",
      "trojan miner _                2\n",
      "trojan worm _                 2\n",
      "trojan spyware _              1\n",
      "trojan virus _                1\n",
      "trojan hacktool _             1\n",
      "trojan dropper virus          1\n",
      "trojan downloader virus       1\n",
      "trojan miner dropper          1\n",
      "trojan miner downloader       1\n",
      "downloader _ _                1\n",
      "trojan downloader _           1\n",
      "trojan ransomware _           1\n",
      "adware trojan _               1\n",
      "Name: count, dtype: int64\n",
      "=====================================================================\n",
      "NtQueryKey\n",
      "\n",
      "type_pattern\n",
      "trojan dropper _             9\n",
      "trojan _ _                   7\n",
      "trojan banker spyware        5\n",
      "trojan spyware _             4\n",
      "trojan dropper pua           2\n",
      "trojan downloader dropper    2\n",
      "trojan spyware banker        2\n",
      "trojan hacktool _            1\n",
      "trojan miner _               1\n",
      "trojan worm _                1\n",
      "trojan virus _               1\n",
      "Name: count, dtype: int64\n",
      "=====================================================================\n",
      "LdrLoadDll\n",
      "\n",
      "type_pattern\n",
      "trojan adware _                 514\n",
      "trojan _ _                      279\n",
      "trojan adware pua               126\n",
      "trojan adware virus              76\n",
      "trojan adware downloader         55\n",
      "                               ... \n",
      "virus trojan adware               1\n",
      "pua adware trojan                 1\n",
      "trojan pua adware                 1\n",
      "trojan virus adware               1\n",
      "trojan ransomware downloader      1\n",
      "Name: count, Length: 75, dtype: int64\n",
      "=====================================================================\n",
      "LdrGetProcedureAddress\n",
      "\n",
      "type_pattern\n",
      "trojan adware _             517\n",
      "trojan _ _                  294\n",
      "trojan adware pua           126\n",
      "trojan adware virus          80\n",
      "trojan adware downloader     57\n",
      "                           ... \n",
      "trojan spyware dropper        1\n",
      "trojan dropper spyware        1\n",
      "avaquest _ _                  1\n",
      "trojan trojan adware          1\n",
      "trojan dropper worm           1\n",
      "Name: count, Length: 80, dtype: int64\n",
      "=====================================================================\n",
      "RegOpenKeyExW\n",
      "\n",
      "type_pattern\n",
      "trojan adware _             401\n",
      "trojan _ _                  149\n",
      "trojan adware pua           122\n",
      "trojan adware downloader     52\n",
      "trojan adware virus          43\n",
      "                           ... \n",
      "trojan dropper spyware        1\n",
      "trojan spyware dropper        1\n",
      "trojan dropper adware         1\n",
      "trojan hacktool _             1\n",
      "trojan virus _                1\n",
      "Name: count, Length: 68, dtype: int64\n",
      "=====================================================================\n",
      "RegQueryInfoKeyW\n",
      "\n",
      "type_pattern\n",
      "trojan adware pua            98\n",
      "trojan adware _              94\n",
      "trojan _ _                   29\n",
      "trojan adware downloader     14\n",
      "trojan dropper _             13\n",
      "trojan adware dropper        13\n",
      "trojan downloader dropper     5\n",
      "trojan adware virus           3\n",
      "trojan dropper pua            2\n",
      "adware trojan _               2\n",
      "adware trojan downloader      2\n",
      "trojan miner dropper          1\n",
      "downloader _ _                1\n",
      "adware trojan pua             1\n",
      "trojan dropper virus          1\n",
      "trojan worm _                 1\n",
      "trojan hacktool _             1\n",
      "trojan pua _                  1\n",
      "Name: count, dtype: int64\n",
      "=====================================================================\n",
      "RegEnumKeyExW\n",
      "\n",
      "type_pattern\n",
      "trojan adware pua            98\n",
      "trojan adware _              94\n",
      "trojan _ _                   29\n",
      "trojan adware downloader     14\n",
      "trojan dropper _             13\n",
      "trojan adware dropper        13\n",
      "trojan downloader dropper     5\n",
      "trojan adware virus           3\n",
      "trojan dropper pua            2\n",
      "adware trojan _               2\n",
      "adware trojan downloader      2\n",
      "trojan miner dropper          1\n",
      "downloader _ _                1\n",
      "adware trojan pua             1\n",
      "trojan dropper virus          1\n",
      "trojan worm _                 1\n",
      "trojan hacktool _             1\n",
      "trojan pua _                  1\n",
      "Name: count, dtype: int64\n",
      "=====================================================================\n",
      "RegEnumValueW\n",
      "\n",
      "type_pattern\n",
      "trojan _ _                   29\n",
      "trojan dropper _             13\n",
      "trojan downloader dropper     5\n",
      "trojan dropper pua            2\n",
      "trojan hacktool _             1\n",
      "downloader _ _                1\n",
      "trojan worm _                 1\n",
      "trojan dropper virus          1\n",
      "trojan miner dropper          1\n",
      "trojan pua _                  1\n",
      "Name: count, dtype: int64\n",
      "=====================================================================\n",
      "RegCloseKey\n",
      "\n",
      "type_pattern\n",
      "trojan adware _             404\n",
      "trojan _ _                  160\n",
      "trojan adware pua           126\n",
      "trojan adware virus          57\n",
      "trojan adware downloader     52\n",
      "                           ... \n",
      "adware downloader _           1\n",
      "trojan dropper virus          1\n",
      "trojan worm _                 1\n",
      "downloader _ _                1\n",
      "trojan miner downloader       1\n",
      "Name: count, Length: 63, dtype: int64\n",
      "=====================================================================\n",
      "GetFileAttributesW\n",
      "\n",
      "type_pattern\n",
      "trojan _ _                   145\n",
      "trojan dropper _              31\n",
      "downloader adware trojan      11\n",
      "trojan spyware _              10\n",
      "trojan pua _                   9\n",
      "trojan miner _                 9\n",
      "trojan downloader adware       8\n",
      "adware trojan downloader       7\n",
      "trojan downloader dropper      6\n",
      "trojan dropper downloader      6\n",
      "adware trojan virus            6\n",
      "trojan downloader pua          5\n",
      "trojan downloader _            5\n",
      "adware _ _                     3\n",
      "trojan dropper pua             3\n",
      "trojan miner downloader        2\n",
      "trojan miner pua               2\n",
      "trojan worm downloader         2\n",
      "trojan virus _                 2\n",
      "adware downloader trojan       2\n",
      "trojan worm _                  2\n",
      "trojan adware downloader       2\n",
      "downloader _ _                 2\n",
      "trojan adware _                2\n",
      "trojan ransomware _            2\n",
      "adware trojan pua              1\n",
      "adware trojan _                1\n",
      "trojan dropper hacktool        1\n",
      "trojan miner hacktool          1\n",
      "opencandy candyopen _          1\n",
      "adware pua _                   1\n",
      "trojan spyware dropper         1\n",
      "trojan adware pua              1\n",
      "trojan miner dropper           1\n",
      "downloader trojan adware       1\n",
      "adware downloader pua          1\n",
      "trojan trojan adware           1\n",
      "trojan dropper spyware         1\n",
      "trojan hacktool _              1\n",
      "hacktool pua trojan            1\n",
      "trojan downloader virus        1\n",
      "adware virus _                 1\n",
      "trojan dropper virus           1\n",
      "msil _ _                       1\n",
      "Name: count, dtype: int64\n",
      "=====================================================================\n",
      "RegQueryValueExW\n",
      "\n",
      "type_pattern\n",
      "trojan adware _              399\n",
      "trojan _ _                   128\n",
      "trojan adware pua            122\n",
      "trojan adware virus           41\n",
      "downloader adware trojan      36\n",
      "adware trojan downloader      34\n",
      "trojan adware downloader      33\n",
      "adware trojan _               24\n",
      "trojan adware dropper         23\n",
      "trojan dropper _              21\n",
      "downloader trojan _           18\n",
      "downloader trojan adware      18\n",
      "adware downloader trojan      14\n",
      "trojan downloader adware      14\n",
      "adware trojan pua             12\n",
      "adware trojan virus           12\n",
      "ransomware trojan _           11\n",
      "trojan miner _                10\n",
      "adware virus _                 8\n",
      "trojan downloader dropper      6\n",
      "ransomware trojan dropper      6\n",
      "trojan downloader _            6\n",
      "miner trojan pua               6\n",
      "trojan dropper downloader      6\n",
      "trojan pua _                   5\n",
      "trojan ransomware _            5\n",
      "trojan spyware _               5\n",
      "adware _ _                     5\n",
      "trojan banker spyware          5\n",
      "adware trojan ransomware       3\n",
      "nsismod _ _                    3\n",
      "ransomware trojan pua          2\n",
      "adware pua trojan              2\n",
      "adware downloader pua          2\n",
      "trojan dropper pua             2\n",
      "trojan worm downloader         2\n",
      "trojan miner dropper           2\n",
      "trojan spyware banker          2\n",
      "miner trojan _                 1\n",
      "trojan dropper hacktool        1\n",
      "fugrafa nsismod _              1\n",
      "trojan miner downloader        1\n",
      "miner trojan adware            1\n",
      "adware downloader virus        1\n",
      "virus trojan adware            1\n",
      "trojan miner hacktool          1\n",
      "trojan trojan adware           1\n",
      "avaquest _ _                   1\n",
      "trojan adware hacktool         1\n",
      "trojan virus adware            1\n",
      "trojan hacktool _              1\n",
      "pua trojan adware              1\n",
      "trojan downloader virus        1\n",
      "adware downloader _            1\n",
      "trojan dropper virus           1\n",
      "trojan worm _                  1\n",
      "downloader _ _                 1\n",
      "trojan virus _                 1\n",
      "Name: count, dtype: int64\n",
      "=====================================================================\n",
      "NtOpenFile\n",
      "\n",
      "type_pattern\n",
      "adware trojan virus          13\n",
      "adware trojan downloader     11\n",
      "ransomware trojan _          11\n",
      "trojan _ _                    9\n",
      "trojan dropper _              9\n",
      "trojan ransomware _           7\n",
      "adware trojan _               6\n",
      "ransomware trojan dropper     6\n",
      "trojan adware pua             5\n",
      "trojan dropper pua            2\n",
      "ransomware trojan pua         2\n",
      "trojan pua _                  2\n",
      "trojan downloader dropper     2\n",
      "pua adware trojan             1\n",
      "trojan adware _               1\n",
      "trojan hacktool _             1\n",
      "trojan pua ransomware         1\n",
      "trojan pua adware             1\n",
      "adware pua trojan             1\n",
      "adware trojan pua             1\n",
      "downloader _ _                1\n",
      "trojan adware downloader      1\n",
      "Name: count, dtype: int64\n",
      "=====================================================================\n",
      "NtQueryDirectoryFile\n",
      "\n",
      "type_pattern\n",
      "trojan _ _                   18\n",
      "downloader trojan _           8\n",
      "trojan dropper _              5\n",
      "trojan dropper pua            2\n",
      "trojan downloader dropper     2\n",
      "adware trojan _               2\n",
      "downloader trojan adware      2\n",
      "adware _ _                    1\n",
      "trojan spyware _              1\n",
      "trojan adware _               1\n",
      "adware trojan downloader      1\n",
      "adware downloader trojan      1\n",
      "trojan adware virus           1\n",
      "adware trojan pua             1\n",
      "trojan hacktool _             1\n",
      "trojan virus adware           1\n",
      "trojan pua _                  1\n",
      "virus trojan adware           1\n",
      "trojan downloader _           1\n",
      "Name: count, dtype: int64\n",
      "=====================================================================\n",
      "NtClose\n",
      "\n",
      "type_pattern\n",
      "trojan adware _             517\n",
      "trojan _ _                  279\n",
      "trojan adware pua           126\n",
      "trojan adware virus          80\n",
      "trojan adware downloader     57\n",
      "                           ... \n",
      "trojan dropper adware         1\n",
      "trojan spyware dropper        1\n",
      "trojan dropper spyware        1\n",
      "avaquest _ _                  1\n",
      "trojan dropper worm           1\n",
      "Name: count, Length: 80, dtype: int64\n",
      "=====================================================================\n",
      "NtQuerySystemInformation\n",
      "\n",
      "type_pattern\n",
      "trojan adware _              116\n",
      "trojan _ _                    39\n",
      "trojan adware virus           21\n",
      "trojan dropper _              18\n",
      "adware trojan virus           12\n",
      "ransomware trojan _           11\n",
      "adware trojan _                8\n",
      "trojan adware downloader       7\n",
      "trojan downloader adware       6\n",
      "trojan banker _                6\n",
      "ransomware trojan dropper      6\n",
      "trojan miner _                 5\n",
      "trojan downloader dropper      5\n",
      "trojan pua _                   5\n",
      "trojan downloader pua          5\n",
      "trojan adware dropper          4\n",
      "trojan dropper pua             3\n",
      "ransomware trojan pua          2\n",
      "trojan miner pua               2\n",
      "trojan worm _                  2\n",
      "trojan adware pua              2\n",
      "trojan dropper virus           1\n",
      "trojan downloader _            1\n",
      "trojan miner downloader        1\n",
      "downloader _ _                 1\n",
      "trojan miner dropper           1\n",
      "trojan banker pua              1\n",
      "adware trojan pua              1\n",
      "trojan hacktool _              1\n",
      "virus trojan adware            1\n",
      "trojan downloader virus        1\n",
      "trojan virus adware            1\n",
      "adware trojan downloader       1\n",
      "adware downloader trojan       1\n",
      "trojan virus _                 1\n",
      "trojan spyware _               1\n",
      "trojan ransomware _            1\n",
      "Name: count, dtype: int64\n",
      "=====================================================================\n",
      "NtProtectVirtualMemory\n",
      "\n",
      "type_pattern\n",
      "trojan adware _              349\n",
      "trojan _ _                   203\n",
      "trojan adware virus           68\n",
      "trojan dropper _              43\n",
      "adware trojan virus           34\n",
      "trojan pua _                  18\n",
      "trojan adware downloader      16\n",
      "trojan downloader adware      15\n",
      "adware trojan _               13\n",
      "trojan ransomware _           10\n",
      "adware trojan downloader       8\n",
      "trojan spyware _               7\n",
      "trojan adware dropper          6\n",
      "miner trojan pua               6\n",
      "trojan miner _                 6\n",
      "trojan dropper downloader      6\n",
      "adware virus _                 6\n",
      "trojan downloader dropper      6\n",
      "trojan dropper pua             6\n",
      "trojan worm downloader         5\n",
      "trojan downloader _            5\n",
      "trojan banker spyware          5\n",
      "trojan downloader pua          5\n",
      "adware trojan pua              4\n",
      "adware downloader trojan       4\n",
      "trojan virus _                 3\n",
      "adware _ _                     3\n",
      "trojan worm _                  2\n",
      "downloader _ _                 2\n",
      "adware pua _                   2\n",
      "downloader adware trojan       2\n",
      "trojan spyware banker          2\n",
      "trojan miner pua               2\n",
      "adware downloader pua          1\n",
      "trojan pua adware              1\n",
      "opencandy candyopen _          1\n",
      "trojan miner downloader        1\n",
      "trojan miner dropper           1\n",
      "msil _ _                       1\n",
      "trojan adware hacktool         1\n",
      "adware pua trojan              1\n",
      "trojan adware pua              1\n",
      "avaquest _ _                   1\n",
      "trojan dropper spyware         1\n",
      "trojan spyware dropper         1\n",
      "trojan pua ransomware          1\n",
      "trojan dropper virus           1\n",
      "trojan miner adware            1\n",
      "adware downloader _            1\n",
      "hacktool pua trojan            1\n",
      "trojan downloader virus        1\n",
      "trojan hacktool _              1\n",
      "trojan dropper worm            1\n",
      "Name: count, dtype: int64\n",
      "=====================================================================\n",
      "GetSystemDirectoryW\n",
      "\n",
      "type_pattern\n",
      "trojan adware _              214\n",
      "trojan _ _                   113\n",
      "trojan adware virus           44\n",
      "trojan dropper _              24\n",
      "adware trojan virus           18\n",
      "downloader trojan _           18\n",
      "trojan adware pua             17\n",
      "adware trojan _               17\n",
      "trojan adware downloader      15\n",
      "trojan downloader adware      15\n",
      "adware trojan pua             12\n",
      "downloader trojan adware      10\n",
      "adware virus _                 8\n",
      "adware trojan downloader       7\n",
      "trojan pua _                   7\n",
      "miner trojan pua               6\n",
      "trojan adware dropper          6\n",
      "trojan miner _                 5\n",
      "trojan ransomware _            5\n",
      "adware _ _                     5\n",
      "trojan downloader dropper      5\n",
      "trojan downloader pua          5\n",
      "adware downloader trojan       4\n",
      "trojan downloader _            4\n",
      "nsismod _ _                    3\n",
      "adware trojan ransomware       3\n",
      "adware pua trojan              3\n",
      "trojan dropper pua             3\n",
      "trojan downloader virus        2\n",
      "trojan worm _                  2\n",
      "trojan miner pua               2\n",
      "trojan miner dropper           2\n",
      "downloader adware trojan       2\n",
      "trojan miner downloader        1\n",
      "downloader _ _                 1\n",
      "miner trojan _                 1\n",
      "trojan dropper virus           1\n",
      "miner trojan adware            1\n",
      "syncopate _ _                  1\n",
      "pua trojan _                   1\n",
      "trojan spyware _               1\n",
      "adware downloader _            1\n",
      "trojan virus _                 1\n",
      "adware downloader pua          1\n",
      "avaquest _ _                   1\n",
      "pua trojan adware              1\n",
      "pua adware trojan              1\n",
      "trojan pua adware              1\n",
      "trojan hacktool _              1\n",
      "fugrafa nsismod _              1\n",
      "Name: count, dtype: int64\n",
      "=====================================================================\n",
      "LdrGetDllHandle\n",
      "\n",
      "type_pattern\n",
      "trojan adware _             517\n",
      "trojan _ _                  289\n",
      "trojan adware pua           126\n",
      "trojan adware virus          80\n",
      "trojan adware downloader     57\n",
      "                           ... \n",
      "trojan spyware dropper        1\n",
      "trojan dropper spyware        1\n",
      "avaquest _ _                  1\n",
      "trojan trojan adware          1\n",
      "trojan dropper worm           1\n",
      "Name: count, Length: 80, dtype: int64\n",
      "=====================================================================\n",
      "NtOpenKey\n",
      "\n",
      "type_pattern\n",
      "trojan adware _                 424\n",
      "trojan _ _                      250\n",
      "trojan adware pua               126\n",
      "trojan adware virus              58\n",
      "trojan adware downloader         53\n",
      "                               ... \n",
      "pua trojan adware                 1\n",
      "trojan miner adware               1\n",
      "trojan dropper virus              1\n",
      "downloader _ _                    1\n",
      "trojan ransomware downloader      1\n",
      "Name: count, Length: 73, dtype: int64\n",
      "=====================================================================\n",
      "NtQueryValueKey\n",
      "\n",
      "type_pattern\n",
      "trojan adware _                 422\n",
      "trojan _ _                      250\n",
      "trojan adware pua               126\n",
      "trojan adware downloader         53\n",
      "trojan dropper _                 45\n",
      "                               ... \n",
      "pua trojan adware                 1\n",
      "hacktool pua trojan               1\n",
      "trojan adware hacktool            1\n",
      "pua adware trojan                 1\n",
      "trojan ransomware downloader      1\n",
      "Name: count, Length: 70, dtype: int64\n",
      "=====================================================================\n",
      "NtCreateFile\n",
      "\n",
      "type_pattern\n",
      "trojan _ _                  153\n",
      "trojan adware pua           122\n",
      "trojan adware _             115\n",
      "trojan dropper _             40\n",
      "trojan adware downloader     37\n",
      "                           ... \n",
      "pua trojan adware             1\n",
      "hacktool pua trojan           1\n",
      "virus trojan adware           1\n",
      "trojan virus adware           1\n",
      "fugrafa nsismod _             1\n",
      "Name: count, Length: 65, dtype: int64\n",
      "=====================================================================\n",
      "GetFileSize\n",
      "\n",
      "type_pattern\n",
      "trojan adware pua            110\n",
      "trojan adware _              103\n",
      "trojan _ _                    75\n",
      "trojan adware downloader      32\n",
      "trojan dropper _              22\n",
      "trojan adware dropper         15\n",
      "ransomware trojan _           11\n",
      "downloader trojan adware       8\n",
      "trojan ransomware _            7\n",
      "adware downloader trojan       6\n",
      "adware trojan downloader       6\n",
      "ransomware trojan dropper      6\n",
      "downloader adware trojan       5\n",
      "trojan pua _                   5\n",
      "adware virus _                 5\n",
      "adware trojan _                5\n",
      "adware trojan dropper          5\n",
      "trojan downloader dropper      5\n",
      "adware trojan pua              4\n",
      "trojan adware virus            4\n",
      "adware trojan virus            4\n",
      "adware _ _                     3\n",
      "trojan spyware _               3\n",
      "trojan downloader adware       3\n",
      "ransomware trojan pua          2\n",
      "trojan dropper pua             2\n",
      "adware pua _                   2\n",
      "trojan worm _                  2\n",
      "trojan miner _                 2\n",
      "trojan miner dropper           1\n",
      "adware downloader pua          1\n",
      "opencandy candyopen _          1\n",
      "hacktool pua trojan            1\n",
      "adware pua trojan              1\n",
      "avaquest _ _                   1\n",
      "trojan pua ransomware          1\n",
      "trojan downloader _            1\n",
      "trojan hacktool _              1\n",
      "trojan virus _                 1\n",
      "adware downloader _            1\n",
      "trojan dropper virus           1\n",
      "downloader _ _                 1\n",
      "msil _ _                       1\n",
      "Name: count, dtype: int64\n",
      "=====================================================================\n",
      "NtCreateSection\n",
      "\n",
      "type_pattern\n",
      "trojan _ _                  153\n",
      "trojan dropper _             40\n",
      "adware trojan downloader     24\n",
      "trojan adware downloader     21\n",
      "downloader trojan _          18\n",
      "                           ... \n",
      "virus trojan adware           1\n",
      "avaquest _ _                  1\n",
      "pua trojan adware             1\n",
      "hacktool pua trojan           1\n",
      "trojan miner adware           1\n",
      "Name: count, Length: 63, dtype: int64\n",
      "=====================================================================\n",
      "NtMapViewOfSection\n",
      "\n",
      "type_pattern\n",
      "trojan _ _                  163\n",
      "trojan dropper _             40\n",
      "trojan adware _              33\n",
      "adware trojan downloader     25\n",
      "trojan adware downloader     21\n",
      "                           ... \n",
      "virus trojan adware           1\n",
      "adware downloader pua         1\n",
      "trojan pua ransomware         1\n",
      "avaquest _ _                  1\n",
      "fugrafa nsismod _             1\n",
      "Name: count, Length: 66, dtype: int64\n",
      "=====================================================================\n",
      "GetSystemInfo\n",
      "\n",
      "type_pattern\n",
      "trojan adware _                 396\n",
      "trojan _ _                      183\n",
      "trojan adware virus              70\n",
      "trojan dropper _                 30\n",
      "adware trojan virus              29\n",
      "adware trojan downloader         22\n",
      "trojan adware downloader         16\n",
      "adware trojan _                  15\n",
      "trojan downloader adware         14\n",
      "miner trojan pua                 12\n",
      "trojan adware dropper            10\n",
      "trojan ransomware _               9\n",
      "trojan pua _                      8\n",
      "adware virus _                    6\n",
      "adware trojan pua                 5\n",
      "trojan downloader _               5\n",
      "trojan downloader pua             5\n",
      "adware trojan dropper             5\n",
      "trojan downloader dropper         5\n",
      "adware downloader trojan          4\n",
      "trojan miner _                    4\n",
      "trojan spyware _                  4\n",
      "adware _ _                        3\n",
      "trojan dropper pua                3\n",
      "downloader adware trojan          2\n",
      "adware pua _                      2\n",
      "trojan miner pua                  2\n",
      "trojan virus _                    2\n",
      "trojan worm _                     2\n",
      "trojan hacktool _                 1\n",
      "trojan miner dropper              1\n",
      "msil _ _                          1\n",
      "miner trojan _                    1\n",
      "miner trojan adware               1\n",
      "downloader _ _                    1\n",
      "syncopate _ _                     1\n",
      "pua trojan _                      1\n",
      "opencandy candyopen _             1\n",
      "trojan dropper virus              1\n",
      "trojan miner downloader           1\n",
      "trojan miner adware               1\n",
      "trojan downloader virus           1\n",
      "adware downloader pua             1\n",
      "trojan adware pua                 1\n",
      "adware pua trojan                 1\n",
      "adware downloader _               1\n",
      "avaquest _ _                      1\n",
      "trojan dropper spyware            1\n",
      "trojan spyware dropper            1\n",
      "trojan pua ransomware             1\n",
      "trojan adware hacktool            1\n",
      "hacktool pua trojan               1\n",
      "trojan ransomware downloader      1\n",
      "Name: count, dtype: int64\n",
      "=====================================================================\n",
      "NtUnmapViewOfSection\n",
      "\n",
      "type_pattern\n",
      "trojan _ _                   37\n",
      "trojan dropper _             26\n",
      "downloader adware trojan      9\n",
      "miner trojan pua              6\n",
      "trojan downloader dropper     5\n",
      "trojan miner _                4\n",
      "trojan worm downloader        3\n",
      "trojan dropper pua            2\n",
      "trojan worm _                 2\n",
      "trojan miner dropper          1\n",
      "trojan pua _                  1\n",
      "miner trojan _                1\n",
      "miner trojan adware           1\n",
      "trojan virus _                1\n",
      "adware downloader trojan      1\n",
      "trojan hacktool _             1\n",
      "trojan spyware _              1\n",
      "trojan dropper virus          1\n",
      "downloader _ _                1\n",
      "trojan downloader _           1\n",
      "Name: count, dtype: int64\n",
      "=====================================================================\n",
      "NtAllocateVirtualMemory\n",
      "\n",
      "type_pattern\n",
      "trojan adware _             512\n",
      "trojan _ _                  249\n",
      "trojan adware pua           115\n",
      "trojan adware virus          79\n",
      "trojan adware downloader     57\n",
      "                           ... \n",
      "trojan miner adware           1\n",
      "hacktool pua trojan           1\n",
      "pua adware trojan             1\n",
      "trojan adware hacktool        1\n",
      "trojan dropper worm           1\n",
      "Name: count, Length: 72, dtype: int64\n",
      "=====================================================================\n",
      "NtFreeVirtualMemory\n",
      "\n",
      "type_pattern\n",
      "trojan _ _                  213\n",
      "trojan adware _             194\n",
      "trojan adware virus          68\n",
      "adware trojan virus          47\n",
      "downloader adware trojan     38\n",
      "                           ... \n",
      "pua adware trojan             1\n",
      "pua trojan adware             1\n",
      "trojan miner dropper          1\n",
      "trojan miner adware           1\n",
      "trojan dropper worm           1\n",
      "Name: count, Length: 67, dtype: int64\n",
      "=====================================================================\n",
      "SetUnhandledExceptionFilter\n",
      "\n",
      "type_pattern\n",
      "trojan adware _             322\n",
      "trojan adware pua           112\n",
      "trojan adware virus          77\n",
      "trojan _ _                   75\n",
      "trojan adware downloader     42\n",
      "downloader adware trojan     37\n",
      "adware trojan virus          35\n",
      "adware trojan downloader     24\n",
      "trojan downloader adware     22\n",
      "trojan adware dropper        21\n",
      "adware trojan _              17\n",
      "downloader trojan adware     16\n",
      "trojan miner _               14\n",
      "adware downloader trojan     12\n",
      "miner trojan pua             12\n",
      "trojan ransomware _          10\n",
      "trojan dropper _              9\n",
      "trojan pua _                  7\n",
      "trojan downloader _           6\n",
      "trojan downloader pua         5\n",
      "adware trojan dropper         5\n",
      "adware trojan pua             4\n",
      "dropper trojan _              3\n",
      "adware _ _                    2\n",
      "trojan miner pua              2\n",
      "trojan miner downloader       2\n",
      "syncopate _ _                 1\n",
      "adware downloader virus       1\n",
      "miner trojan adware           1\n",
      "techjoydown _ _               1\n",
      "adware downloader _           1\n",
      "trojan dropper hacktool       1\n",
      "miner trojan _                1\n",
      "downloader _ _                1\n",
      "trojan spyware _              1\n",
      "pua trojan _                  1\n",
      "trojan pua ransomware         1\n",
      "trojan miner hacktool         1\n",
      "trojan dropper pua            1\n",
      "adware downloader pua         1\n",
      "trojan trojan adware          1\n",
      "trojan dropper adware         1\n",
      "dropper _ _                   1\n",
      "trojan downloader virus       1\n",
      "pua adware trojan             1\n",
      "trojan pua adware             1\n",
      "adware pua trojan             1\n",
      "trojan miner adware           1\n",
      "trojan dropper worm           1\n",
      "Name: count, dtype: int64\n",
      "=====================================================================\n",
      "CryptAcquireContextW\n",
      "\n",
      "type_pattern\n",
      "trojan adware _              195\n",
      "trojan adware pua            109\n",
      "trojan _ _                    50\n",
      "trojan adware virus           21\n",
      "trojan adware dropper         19\n",
      "trojan adware downloader      15\n",
      "ransomware trojan _           11\n",
      "downloader adware trojan       9\n",
      "ransomware trojan dropper      6\n",
      "trojan spyware _               6\n",
      "adware trojan _                5\n",
      "trojan downloader adware       4\n",
      "trojan dropper _               3\n",
      "ransomware trojan pua          2\n",
      "adware trojan downloader       2\n",
      "adware downloader trojan       1\n",
      "trojan pua _                   1\n",
      "adware trojan virus            1\n",
      "adware trojan pua              1\n",
      "Name: count, dtype: int64\n",
      "=====================================================================\n",
      "CryptCreateHash\n",
      "\n",
      "type_pattern\n",
      "trojan adware pua           108\n",
      "trojan adware _             102\n",
      "trojan adware downloader     15\n",
      "trojan adware dropper        15\n",
      "downloader adware trojan      9\n",
      "trojan _ _                    5\n",
      "trojan spyware _              5\n",
      "trojan adware virus           3\n",
      "adware trojan _               2\n",
      "adware trojan downloader      2\n",
      "adware downloader trojan      1\n",
      "adware trojan pua             1\n",
      "Name: count, dtype: int64\n",
      "=====================================================================\n",
      "CryptHashData\n",
      "\n",
      "type_pattern\n",
      "trojan adware pua           108\n",
      "trojan adware _             102\n",
      "trojan adware downloader     15\n",
      "trojan adware dropper        15\n",
      "downloader adware trojan      9\n",
      "trojan _ _                    5\n",
      "trojan spyware _              5\n",
      "trojan adware virus           3\n",
      "adware trojan _               2\n",
      "adware trojan downloader      2\n",
      "adware downloader trojan      1\n",
      "adware trojan pua             1\n",
      "Name: count, dtype: int64\n",
      "=====================================================================\n",
      "SetFilePointer\n",
      "\n",
      "type_pattern\n",
      "trojan adware pua           119\n",
      "trojan adware _             104\n",
      "trojan _ _                   56\n",
      "trojan adware downloader     32\n",
      "trojan adware dropper        15\n",
      "trojan dropper _             12\n",
      "downloader trojan adware      8\n",
      "adware downloader trojan      7\n",
      "trojan ransomware _           7\n",
      "adware trojan downloader      7\n",
      "miner trojan pua              6\n",
      "downloader adware trojan      5\n",
      "adware _ _                    5\n",
      "adware virus _                5\n",
      "adware trojan _               5\n",
      "trojan pua _                  4\n",
      "adware trojan virus           4\n",
      "trojan downloader adware      4\n",
      "adware trojan pua             4\n",
      "trojan adware virus           4\n",
      "trojan worm downloader        3\n",
      "trojan spyware _              2\n",
      "trojan downloader _           2\n",
      "adware pua _                  2\n",
      "opencandy candyopen _         1\n",
      "hacktool pua trojan           1\n",
      "adware downloader pua         1\n",
      "adware pua trojan             1\n",
      "avaquest _ _                  1\n",
      "trojan pua ransomware         1\n",
      "adware downloader _           1\n",
      "trojan miner adware           1\n",
      "msil _ _                      1\n",
      "Name: count, dtype: int64\n",
      "=====================================================================\n",
      "NtReadFile\n",
      "\n",
      "type_pattern\n",
      "trojan adware pua           119\n",
      "trojan adware _             104\n",
      "trojan adware downloader     32\n",
      "trojan _ _                   25\n",
      "trojan adware dropper        15\n",
      "adware trojan downloader     11\n",
      "trojan dropper _             10\n",
      "downloader trojan adware      8\n",
      "trojan ransomware _           7\n",
      "adware downloader trojan      7\n",
      "adware trojan _               6\n",
      "miner trojan pua              6\n",
      "adware trojan pua             5\n",
      "adware trojan virus           5\n",
      "adware _ _                    5\n",
      "downloader adware trojan      5\n",
      "adware trojan dropper         5\n",
      "adware virus _                5\n",
      "trojan adware virus           4\n",
      "trojan downloader adware      4\n",
      "trojan worm downloader        3\n",
      "trojan pua _                  3\n",
      "adware pua _                  2\n",
      "trojan downloader _           2\n",
      "adware downloader pua         1\n",
      "adware pua trojan             1\n",
      "avaquest _ _                  1\n",
      "trojan pua ransomware         1\n",
      "hacktool pua trojan           1\n",
      "opencandy candyopen _         1\n",
      "trojan spyware _              1\n",
      "adware downloader _           1\n",
      "trojan miner adware           1\n",
      "msil _ _                      1\n",
      "Name: count, dtype: int64\n",
      "=====================================================================\n",
      "CoInitializeEx\n",
      "\n",
      "type_pattern\n",
      "trojan adware _             248\n",
      "trojan adware pua           118\n",
      "trojan _ _                   52\n",
      "trojan adware downloader     35\n",
      "trojan adware virus          34\n",
      "adware trojan downloader     20\n",
      "trojan adware dropper        20\n",
      "adware trojan virus          16\n",
      "adware trojan _              15\n",
      "trojan downloader adware     13\n",
      "downloader adware trojan     12\n",
      "downloader trojan adware      8\n",
      "trojan banker spyware         5\n",
      "adware downloader trojan      5\n",
      "adware trojan pua             3\n",
      "trojan spyware _              3\n",
      "adware _ _                    2\n",
      "trojan spyware banker         2\n",
      "trojan dropper _              2\n",
      "pua trojan _                  1\n",
      "syncopate _ _                 1\n",
      "trojan pua _                  1\n",
      "Name: count, dtype: int64\n",
      "=====================================================================\n",
      "RegEnumKeyW\n",
      "\n",
      "type_pattern\n",
      "trojan adware _             114\n",
      "trojan adware pua           107\n",
      "trojan adware downloader     16\n",
      "downloader trojan _          15\n",
      "trojan adware dropper        13\n",
      "trojan adware virus          10\n",
      "trojan downloader adware      6\n",
      "trojan _ _                    6\n",
      "adware trojan _               4\n",
      "downloader trojan adware      3\n",
      "adware trojan downloader      3\n",
      "adware trojan pua             2\n",
      "trojan virus adware           1\n",
      "adware _ _                    1\n",
      "trojan pua _                  1\n",
      "adware virus _                1\n",
      "adware downloader trojan      1\n",
      "virus trojan adware           1\n",
      "trojan trojan adware          1\n",
      "adware downloader pua         1\n",
      "downloader adware trojan      1\n",
      "trojan dropper _              1\n",
      "trojan downloader _           1\n",
      "Name: count, dtype: int64\n",
      "=====================================================================\n",
      "CreateThread\n",
      "\n",
      "type_pattern\n",
      "trojan adware _              201\n",
      "trojan adware pua            108\n",
      "trojan _ _                    31\n",
      "trojan adware virus           27\n",
      "adware trojan downloader      23\n",
      "trojan adware dropper         20\n",
      "adware trojan virus           19\n",
      "trojan adware downloader      16\n",
      "adware trojan _               15\n",
      "ransomware trojan _           11\n",
      "trojan downloader adware       7\n",
      "ransomware trojan dropper      6\n",
      "adware trojan pua              3\n",
      "adware downloader trojan       2\n",
      "adware _ _                     2\n",
      "ransomware trojan pua          2\n",
      "trojan downloader _            1\n",
      "pua trojan _                   1\n",
      "syncopate _ _                  1\n",
      "trojan dropper _               1\n",
      "Name: count, dtype: int64\n",
      "=====================================================================\n",
      "UuidCreate\n",
      "\n",
      "type_pattern\n",
      "trojan adware pua           106\n",
      "trojan adware _              97\n",
      "trojan adware downloader     15\n",
      "trojan adware dropper        13\n",
      "adware trojan downloader     12\n",
      "trojan _ _                    4\n",
      "adware trojan _               3\n",
      "trojan adware virus           3\n",
      "adware _ _                    2\n",
      "trojan downloader adware      2\n",
      "adware trojan pua             1\n",
      "pua trojan _                  1\n",
      "syncopate _ _                 1\n",
      "adware downloader trojan      1\n",
      "Name: count, dtype: int64\n",
      "=====================================================================\n",
      "RegCreateKeyExW\n",
      "\n",
      "type_pattern\n",
      "trojan adware pua           107\n",
      "trojan adware _              98\n",
      "trojan adware downloader     30\n",
      "trojan adware dropper        13\n",
      "adware trojan downloader      9\n",
      "downloader trojan adware      8\n",
      "adware downloader trojan      4\n",
      "adware trojan virus           4\n",
      "trojan downloader adware      3\n",
      "downloader adware trojan      3\n",
      "trojan adware virus           3\n",
      "adware trojan _               2\n",
      "adware trojan pua             1\n",
      "Name: count, dtype: int64\n",
      "=====================================================================\n",
      "RegSetValueExW\n",
      "\n",
      "type_pattern\n",
      "trojan adware pua           107\n",
      "trojan adware _              98\n",
      "trojan adware downloader     30\n",
      "trojan adware dropper        13\n",
      "downloader trojan adware      8\n",
      "adware trojan downloader      4\n",
      "adware downloader trojan      3\n",
      "trojan downloader adware      3\n",
      "downloader adware trojan      3\n",
      "trojan adware virus           3\n",
      "adware trojan _               2\n",
      "adware trojan pua             1\n",
      "Name: count, dtype: int64\n",
      "=====================================================================\n",
      "CoCreateInstance\n",
      "\n",
      "type_pattern\n",
      "trojan adware pua           99\n",
      "trojan adware _             98\n",
      "trojan adware downloader    16\n",
      "trojan adware dropper       15\n",
      "adware trojan downloader    15\n",
      "trojan _ _                   8\n",
      "trojan banker spyware        5\n",
      "trojan adware virus          3\n",
      "trojan spyware _             3\n",
      "adware trojan pua            2\n",
      "adware trojan _              2\n",
      "trojan spyware banker        2\n",
      "pua trojan _                 1\n",
      "syncopate _ _                1\n",
      "adware trojan virus          1\n",
      "Name: count, dtype: int64\n",
      "=====================================================================\n",
      "FindResourceW\n",
      "\n",
      "type_pattern\n",
      "trojan adware pua           100\n",
      "trojan adware _              97\n",
      "adware trojan downloader     21\n",
      "trojan adware downloader     18\n",
      "trojan _ _                   14\n",
      "trojan adware dropper        13\n",
      "trojan dropper _              6\n",
      "adware trojan pua             5\n",
      "adware virus _                5\n",
      "adware downloader trojan      5\n",
      "adware trojan virus           5\n",
      "trojan downloader adware      4\n",
      "trojan adware virus           3\n",
      "trojan worm downloader        3\n",
      "dropper trojan _              3\n",
      "adware downloader pua         2\n",
      "downloader adware trojan      2\n",
      "adware trojan _               2\n",
      "adware _ _                    2\n",
      "adware pua _                  1\n",
      "syncopate _ _                 1\n",
      "pua trojan _                  1\n",
      "trojan spyware _              1\n",
      "opencandy candyopen _         1\n",
      "avaquest _ _                  1\n",
      "adware downloader _           1\n",
      "adware pua trojan             1\n",
      "downloader trojan adware      1\n",
      "trojan trojan adware          1\n",
      "dropper _ _                   1\n",
      "trojan dropper adware         1\n",
      "trojan pua _                  1\n",
      "Name: count, dtype: int64\n",
      "=====================================================================\n",
      "SizeofResource\n",
      "\n",
      "type_pattern\n",
      "trojan adware _             107\n",
      "trojan adware pua           100\n",
      "trojan _ _                   31\n",
      "trojan adware downloader     18\n",
      "adware trojan downloader     18\n",
      "trojan adware dropper        13\n",
      "adware trojan _              11\n",
      "adware trojan virus          10\n",
      "trojan dropper _              9\n",
      "trojan miner _                8\n",
      "trojan spyware _              7\n",
      "trojan downloader _           6\n",
      "adware trojan pua             6\n",
      "trojan pua _                  6\n",
      "adware trojan dropper         5\n",
      "adware virus _                5\n",
      "adware downloader trojan      4\n",
      "trojan adware virus           4\n",
      "trojan downloader adware      4\n",
      "adware _ _                    3\n",
      "downloader adware trojan      3\n",
      "adware downloader pua         2\n",
      "adware pua _                  2\n",
      "adware downloader _           2\n",
      "trojan ransomware _           2\n",
      "adware pua trojan             1\n",
      "opencandy candyopen _         1\n",
      "avaquest _ _                  1\n",
      "hacktool pua trojan           1\n",
      "trojan miner hacktool         1\n",
      "trojan trojan adware          1\n",
      "trojan dropper hacktool       1\n",
      "pua trojan _                  1\n",
      "syncopate _ _                 1\n",
      "techjoydown _ _               1\n",
      "downloader trojan adware      1\n",
      "msil _ _                      1\n",
      "downloader _ _                1\n",
      "trojan miner downloader       1\n",
      "trojan dropper worm           1\n",
      "Name: count, dtype: int64\n",
      "=====================================================================\n",
      "LoadResource\n",
      "\n",
      "type_pattern\n",
      "trojan adware _             242\n",
      "trojan _ _                  169\n",
      "trojan adware pua           100\n",
      "trojan adware downloader     46\n",
      "adware trojan downloader     40\n",
      "trojan dropper _             26\n",
      "trojan adware dropper        17\n",
      "adware trojan virus          14\n",
      "adware trojan _              14\n",
      "trojan pua _                 12\n",
      "trojan downloader adware      9\n",
      "downloader trojan adware      9\n",
      "trojan spyware _              9\n",
      "trojan miner _                8\n",
      "adware downloader trojan      8\n",
      "trojan downloader _           8\n",
      "miner trojan pua              6\n",
      "adware trojan pua             6\n",
      "adware virus _                6\n",
      "downloader adware trojan      6\n",
      "adware _ _                    5\n",
      "adware trojan dropper         5\n",
      "trojan adware virus           5\n",
      "trojan worm downloader        3\n",
      "trojan ransomware _           3\n",
      "trojan dropper pua            3\n",
      "adware downloader pua         2\n",
      "adware pua _                  2\n",
      "trojan miner pua              2\n",
      "adware downloader _           2\n",
      "msil _ _                      1\n",
      "downloader _ _                1\n",
      "trojan dropper hacktool       1\n",
      "trojan miner downloader       1\n",
      "techjoydown _ _               1\n",
      "syncopate _ _                 1\n",
      "trojan virus _                1\n",
      "pua trojan _                  1\n",
      "trojan dropper spyware        1\n",
      "trojan miner hacktool         1\n",
      "trojan miner spyware          1\n",
      "opencandy candyopen _         1\n",
      "trojan trojan adware          1\n",
      "adware pua trojan             1\n",
      "avaquest _ _                  1\n",
      "trojan spyware dropper        1\n",
      "hacktool pua trojan           1\n",
      "trojan adware hacktool        1\n",
      "trojan miner adware           1\n",
      "trojan dropper worm           1\n",
      "Name: count, dtype: int64\n",
      "=====================================================================\n",
      "NtDelayExecution\n",
      "\n",
      "type_pattern\n",
      "trojan adware pua            66\n",
      "trojan adware _              49\n",
      "trojan _ _                   30\n",
      "trojan adware virus          29\n",
      "adware trojan virus          24\n",
      "ransomware trojan _          11\n",
      "trojan adware downloader      9\n",
      "adware trojan downloader      7\n",
      "ransomware trojan dropper     6\n",
      "trojan adware dropper         6\n",
      "trojan pua _                  4\n",
      "trojan miner _                3\n",
      "trojan dropper pua            3\n",
      "ransomware trojan pua         2\n",
      "trojan dropper _              2\n",
      "adware downloader trojan      1\n",
      "trojan miner spyware          1\n",
      "adware trojan pua             1\n",
      "Name: count, dtype: int64\n",
      "=====================================================================\n",
      "EnumWindows\n",
      "\n",
      "type_pattern\n",
      "trojan adware pua           65\n",
      "trojan adware _             45\n",
      "trojan adware downloader     6\n",
      "trojan adware dropper        6\n",
      "trojan _ _                   6\n",
      "trojan adware virus          3\n",
      "adware virus _               1\n",
      "Name: count, dtype: int64\n",
      "=====================================================================\n",
      "SetErrorMode\n",
      "\n",
      "type_pattern\n",
      "trojan adware _              185\n",
      "trojan _ _                   133\n",
      "adware trojan downloader      24\n",
      "adware trojan _               22\n",
      "downloader trojan _           18\n",
      "trojan adware downloader      17\n",
      "trojan dropper _              15\n",
      "adware trojan pua             13\n",
      "trojan ransomware _           12\n",
      "adware trojan virus           12\n",
      "downloader adware trojan      12\n",
      "trojan miner _                10\n",
      "adware virus _                 9\n",
      "trojan downloader _            9\n",
      "trojan downloader adware       9\n",
      "trojan spyware _               9\n",
      "adware _ _                     6\n",
      "miner trojan pua               6\n",
      "trojan dropper downloader      6\n",
      "trojan pua _                   6\n",
      "adware downloader trojan       6\n",
      "trojan adware pua              4\n",
      "trojan adware dropper          4\n",
      "downloader trojan adware       4\n",
      "adware trojan ransomware       3\n",
      "dropper trojan _               3\n",
      "nsismod _ _                    3\n",
      "trojan adware virus            3\n",
      "trojan worm downloader         2\n",
      "adware pua trojan              2\n",
      "adware downloader pua          2\n",
      "adware downloader _            2\n",
      "adware pua _                   2\n",
      "trojan downloader dropper      1\n",
      "msil _ _                       1\n",
      "miner trojan _                 1\n",
      "opencandy candyopen _          1\n",
      "fugrafa nsismod _              1\n",
      "miner trojan adware            1\n",
      "techjoydown _ _                1\n",
      "trojan dropper hacktool        1\n",
      "trojan miner downloader        1\n",
      "trojan miner hacktool          1\n",
      "trojan pua ransomware          1\n",
      "trojan trojan adware           1\n",
      "avaquest _ _                   1\n",
      "trojan dropper spyware         1\n",
      "trojan spyware dropper         1\n",
      "trojan dropper adware          1\n",
      "dropper _ _                    1\n",
      "hacktool pua trojan            1\n",
      "trojan adware hacktool         1\n",
      "trojan virus adware            1\n",
      "virus trojan adware            1\n",
      "pua trojan adware              1\n",
      "trojan miner dropper           1\n",
      "trojan downloader virus        1\n",
      "trojan virus _                 1\n",
      "Name: count, dtype: int64\n",
      "=====================================================================\n",
      "OleInitialize\n",
      "\n",
      "type_pattern\n",
      "trojan adware _              152\n",
      "trojan _ _                   135\n",
      "downloader trojan _           18\n",
      "adware trojan downloader      17\n",
      "trojan adware downloader      17\n",
      "trojan dropper _              15\n",
      "adware trojan _               14\n",
      "trojan downloader adware      10\n",
      "trojan miner _                10\n",
      "adware trojan pua              8\n",
      "trojan ransomware _            7\n",
      "trojan downloader _            7\n",
      "trojan pua _                   7\n",
      "trojan adware dropper          6\n",
      "miner trojan pua               6\n",
      "trojan dropper downloader      6\n",
      "adware _ _                     5\n",
      "trojan worm downloader         5\n",
      "trojan adware virus            5\n",
      "adware virus _                 4\n",
      "downloader trojan adware       4\n",
      "trojan adware pua              4\n",
      "adware trojan virus            4\n",
      "adware trojan ransomware       3\n",
      "nsismod _ _                    3\n",
      "trojan spyware _               3\n",
      "trojan miner downloader        2\n",
      "trojan miner pua               2\n",
      "trojan downloader dropper      1\n",
      "trojan miner hacktool          1\n",
      "trojan dropper hacktool        1\n",
      "adware pua trojan              1\n",
      "fugrafa nsismod _              1\n",
      "trojan virus _                 1\n",
      "trojan dropper pua             1\n",
      "trojan dropper spyware         1\n",
      "downloader adware trojan       1\n",
      "adware downloader pua          1\n",
      "trojan trojan adware           1\n",
      "trojan spyware dropper         1\n",
      "adware downloader trojan       1\n",
      "trojan adware hacktool         1\n",
      "trojan virus adware            1\n",
      "virus trojan adware            1\n",
      "pua trojan adware              1\n",
      "trojan miner dropper           1\n",
      "trojan downloader virus        1\n",
      "trojan miner adware            1\n",
      "trojan dropper worm            1\n",
      "Name: count, dtype: int64\n",
      "=====================================================================\n",
      "NtOpenSection\n",
      "\n",
      "type_pattern\n",
      "trojan _ _                  34\n",
      "downloader trojan _         18\n",
      "downloader adware trojan     9\n",
      "adware trojan _              9\n",
      "trojan downloader adware     8\n",
      "adware trojan pua            8\n",
      "trojan adware _              7\n",
      "trojan banker spyware        5\n",
      "trojan downloader pua        5\n",
      "adware trojan virus          4\n",
      "trojan adware pua            4\n",
      "trojan spyware _             4\n",
      "trojan ransomware _          4\n",
      "trojan adware downloader     3\n",
      "nsismod _ _                  3\n",
      "adware trojan ransomware     3\n",
      "adware virus _               3\n",
      "trojan dropper _             3\n",
      "downloader trojan adware     3\n",
      "trojan downloader _          3\n",
      "adware _ _                   3\n",
      "trojan adware dropper        2\n",
      "adware downloader trojan     2\n",
      "adware trojan downloader     2\n",
      "trojan downloader virus      2\n",
      "trojan spyware banker        2\n",
      "trojan virus _               1\n",
      "fugrafa nsismod _            1\n",
      "adware pua trojan            1\n",
      "trojan adware virus          1\n",
      "trojan virus adware          1\n",
      "trojan miner dropper         1\n",
      "pua trojan adware            1\n",
      "virus trojan adware          1\n",
      "trojan pua _                 1\n",
      "trojan miner _               1\n",
      "Name: count, dtype: int64\n",
      "=====================================================================\n",
      "GetSystemWindowsDirectoryW\n",
      "\n",
      "type_pattern\n",
      "trojan adware _             226\n",
      "trojan _ _                  137\n",
      "trojan adware virus          48\n",
      "trojan adware downloader     27\n",
      "adware trojan virus          27\n",
      "                           ... \n",
      "trojan pua ransomware         1\n",
      "pua trojan adware             1\n",
      "virus trojan adware           1\n",
      "hacktool pua trojan           1\n",
      "fugrafa nsismod _             1\n",
      "Name: count, Length: 61, dtype: int64\n",
      "=====================================================================\n",
      "RegOpenKeyExA\n",
      "\n",
      "type_pattern\n",
      "trojan _ _                      202\n",
      "trojan adware _                 132\n",
      "downloader adware trojan         34\n",
      "trojan adware virus              29\n",
      "adware trojan virus              23\n",
      "adware trojan _                  21\n",
      "downloader trojan _              18\n",
      "trojan downloader adware         16\n",
      "trojan dropper _                 16\n",
      "trojan ransomware _              13\n",
      "adware trojan downloader         13\n",
      "trojan spyware _                 12\n",
      "downloader trojan adware         11\n",
      "adware trojan pua                10\n",
      "adware downloader trojan         10\n",
      "trojan downloader _               9\n",
      "trojan adware downloader          8\n",
      "trojan pua _                      8\n",
      "trojan adware pua                 7\n",
      "miner trojan pua                  6\n",
      "trojan dropper downloader         6\n",
      "trojan miner _                    6\n",
      "trojan adware dropper             6\n",
      "adware virus _                    4\n",
      "nsismod _ _                       3\n",
      "trojan dropper pua                3\n",
      "adware trojan ransomware          3\n",
      "adware _ _                        3\n",
      "adware pua trojan                 2\n",
      "trojan worm downloader            2\n",
      "trojan virus _                    2\n",
      "trojan virus adware               1\n",
      "miner trojan adware               1\n",
      "techjoydown _ _                   1\n",
      "adware downloader _               1\n",
      "miner trojan _                    1\n",
      "syncopate _ _                     1\n",
      "trojan downloader dropper         1\n",
      "fugrafa nsismod _                 1\n",
      "adware downloader virus           1\n",
      "trojan miner spyware              1\n",
      "pua trojan _                      1\n",
      "adware downloader pua             1\n",
      "trojan trojan adware              1\n",
      "trojan downloader virus           1\n",
      "trojan miner dropper              1\n",
      "trojan dropper spyware            1\n",
      "trojan spyware dropper            1\n",
      "trojan pua ransomware             1\n",
      "pua trojan adware                 1\n",
      "virus trojan adware               1\n",
      "pua adware trojan                 1\n",
      "trojan pua adware                 1\n",
      "trojan ransomware downloader      1\n",
      "Name: count, dtype: int64\n",
      "=====================================================================\n",
      "CreateActCtxW\n",
      "\n",
      "type_pattern\n",
      "trojan adware _              222\n",
      "trojan _ _                    80\n",
      "trojan adware virus           45\n",
      "downloader trojan _           18\n",
      "adware trojan virus           15\n",
      "adware trojan _               14\n",
      "trojan downloader adware      13\n",
      "trojan dropper _              13\n",
      "trojan adware downloader       7\n",
      "trojan spyware _               6\n",
      "trojan dropper downloader      6\n",
      "trojan adware dropper          6\n",
      "trojan worm downloader         5\n",
      "trojan downloader _            4\n",
      "downloader trojan adware       4\n",
      "dropper trojan _               3\n",
      "adware trojan downloader       2\n",
      "trojan adware pua              2\n",
      "adware _ _                     2\n",
      "adware trojan pua              2\n",
      "techjoydown _ _                1\n",
      "adware downloader pua          1\n",
      "adware downloader _            1\n",
      "trojan downloader dropper      1\n",
      "downloader adware trojan       1\n",
      "dropper _ _                    1\n",
      "trojan trojan adware           1\n",
      "trojan dropper adware          1\n",
      "adware downloader trojan       1\n",
      "adware virus _                 1\n",
      "trojan virus adware            1\n",
      "trojan pua _                   1\n",
      "virus trojan adware            1\n",
      "trojan virus _                 1\n",
      "Name: count, dtype: int64\n",
      "=====================================================================\n",
      "GetVolumeNameForVolumeMountPointW\n",
      "\n",
      "type_pattern\n",
      "downloader trojan _         18\n",
      "trojan _ _                  12\n",
      "adware trojan _              7\n",
      "adware trojan virus          3\n",
      "downloader trojan adware     3\n",
      "trojan downloader adware     2\n",
      "adware _ _                   2\n",
      "trojan adware pua            2\n",
      "trojan adware downloader     2\n",
      "adware trojan pua            2\n",
      "adware trojan downloader     2\n",
      "adware downloader trojan     1\n",
      "trojan dropper _             1\n",
      "trojan adware _              1\n",
      "trojan virus adware          1\n",
      "adware virus _               1\n",
      "trojan adware virus          1\n",
      "trojan pua _                 1\n",
      "virus trojan adware          1\n",
      "trojan downloader _          1\n",
      "Name: count, dtype: int64\n",
      "=====================================================================\n",
      "NtDuplicateObject\n",
      "\n",
      "type_pattern\n",
      "trojan adware _             92\n",
      "trojan _ _                  33\n",
      "trojan adware virus         19\n",
      "downloader trojan _         18\n",
      "adware trojan _             14\n",
      "adware trojan downloader    10\n",
      "trojan downloader adware     8\n",
      "miner trojan pua             6\n",
      "trojan adware dropper        5\n",
      "trojan adware downloader     5\n",
      "trojan miner _               5\n",
      "adware trojan virus          4\n",
      "trojan adware pua            3\n",
      "downloader trojan adware     3\n",
      "adware trojan pua            2\n",
      "adware _ _                   2\n",
      "trojan dropper _             2\n",
      "adware virus _               1\n",
      "adware downloader trojan     1\n",
      "virus trojan adware          1\n",
      "miner trojan adware          1\n",
      "miner trojan _               1\n",
      "trojan virus adware          1\n",
      "trojan pua _                 1\n",
      "trojan downloader _          1\n",
      "Name: count, dtype: int64\n",
      "=====================================================================\n",
      "LoadStringW\n",
      "\n",
      "type_pattern\n",
      "trojan adware _             182\n",
      "trojan _ _                   25\n",
      "downloader trojan _          18\n",
      "adware trojan downloader     17\n",
      "trojan adware downloader     15\n",
      "adware trojan _              14\n",
      "trojan ransomware _          11\n",
      "adware trojan pua            11\n",
      "adware virus _                8\n",
      "miner trojan pua              6\n",
      "trojan downloader adware      5\n",
      "adware _ _                    5\n",
      "adware trojan virus           5\n",
      "trojan adware dropper         4\n",
      "adware downloader trojan      4\n",
      "trojan dropper _              4\n",
      "trojan miner _                3\n",
      "downloader trojan adware      3\n",
      "adware trojan ransomware      3\n",
      "nsismod _ _                   3\n",
      "trojan adware pua             3\n",
      "trojan downloader _           2\n",
      "adware pua trojan             2\n",
      "miner trojan adware           1\n",
      "trojan spyware _              1\n",
      "opencandy candyopen _         1\n",
      "adware pua _                  1\n",
      "downloader adware trojan      1\n",
      "miner trojan _                1\n",
      "pua trojan adware             1\n",
      "adware downloader pua         1\n",
      "avaquest _ _                  1\n",
      "trojan adware virus           1\n",
      "trojan pua ransomware         1\n",
      "trojan adware hacktool        1\n",
      "trojan miner dropper          1\n",
      "trojan downloader virus       1\n",
      "trojan pua _                  1\n",
      "adware downloader _           1\n",
      "fugrafa nsismod _             1\n",
      "Name: count, dtype: int64\n",
      "=====================================================================\n",
      "GetNativeSystemInfo\n",
      "\n",
      "type_pattern\n",
      "trojan adware _             182\n",
      "trojan _ _                   29\n",
      "adware trojan downloader     17\n",
      "trojan adware downloader     15\n",
      "adware trojan _              13\n",
      "trojan adware pua            12\n",
      "trojan miner _               10\n",
      "adware trojan pua            10\n",
      "adware virus _                7\n",
      "miner trojan pua              6\n",
      "trojan ransomware _           5\n",
      "trojan downloader adware      5\n",
      "trojan downloader _           5\n",
      "adware trojan virus           5\n",
      "trojan dropper _              5\n",
      "adware downloader trojan      4\n",
      "trojan adware dropper         4\n",
      "adware trojan ransomware      3\n",
      "nsismod _ _                   3\n",
      "downloader trojan _           3\n",
      "trojan pua _                  2\n",
      "adware pua trojan             2\n",
      "adware _ _                    2\n",
      "miner trojan _                1\n",
      "fugrafa nsismod _             1\n",
      "miner trojan adware           1\n",
      "trojan dropper hacktool       1\n",
      "trojan miner downloader       1\n",
      "trojan miner hacktool         1\n",
      "pua trojan adware             1\n",
      "downloader adware trojan      1\n",
      "adware downloader pua         1\n",
      "avaquest _ _                  1\n",
      "trojan adware virus           1\n",
      "trojan adware hacktool        1\n",
      "trojan miner dropper          1\n",
      "trojan downloader virus       1\n",
      "adware downloader _           1\n",
      "downloader trojan adware      1\n",
      "trojan spyware _              1\n",
      "Name: count, dtype: int64\n",
      "=====================================================================\n",
      "FindFirstFileExW\n",
      "\n",
      "type_pattern\n",
      "trojan adware _              181\n",
      "trojan _ _                    38\n",
      "adware trojan downloader      25\n",
      "trojan dropper _              15\n",
      "trojan adware downloader      13\n",
      "trojan adware pua             10\n",
      "trojan miner _                 8\n",
      "adware trojan _                5\n",
      "trojan adware dropper          4\n",
      "trojan downloader _            3\n",
      "trojan downloader dropper      3\n",
      "trojan spyware _               3\n",
      "trojan adware virus            2\n",
      "trojan pua _                   2\n",
      "trojan worm _                  2\n",
      "trojan adware hacktool         1\n",
      "downloader _ _                 1\n",
      "trojan virus _                 1\n",
      "trojan downloader adware       1\n",
      "trojan miner dropper           1\n",
      "trojan miner hacktool          1\n",
      "trojan ransomware _            1\n",
      "trojan dropper hacktool        1\n",
      "adware downloader trojan       1\n",
      "trojan dropper virus           1\n",
      "trojan miner downloader        1\n",
      "adware pua _                   1\n",
      "Name: count, dtype: int64\n",
      "=====================================================================\n",
      "NtQueryAttributesFile\n",
      "\n",
      "type_pattern\n",
      "trojan _ _                  71\n",
      "trojan adware _             11\n",
      "trojan miner _              10\n",
      "adware trojan pua            9\n",
      "trojan pua _                 9\n",
      "trojan dropper _             8\n",
      "trojan downloader _          8\n",
      "adware virus _               7\n",
      "trojan spyware _             7\n",
      "trojan ransomware _          6\n",
      "miner trojan pua             6\n",
      "adware trojan virus          5\n",
      "adware trojan _              4\n",
      "adware _ _                   4\n",
      "trojan dropper pua           3\n",
      "adware downloader trojan     3\n",
      "adware trojan ransomware     3\n",
      "nsismod _ _                  3\n",
      "adware pua _                 2\n",
      "downloader adware trojan     2\n",
      "adware pua trojan            2\n",
      "adware trojan downloader     2\n",
      "trojan downloader adware     2\n",
      "trojan adware downloader     1\n",
      "trojan dropper hacktool      1\n",
      "trojan miner downloader      1\n",
      "fugrafa nsismod _            1\n",
      "adware downloader _          1\n",
      "msil _ _                     1\n",
      "trojan downloader virus      1\n",
      "miner trojan _               1\n",
      "trojan miner dropper         1\n",
      "miner trojan adware          1\n",
      "trojan miner spyware         1\n",
      "trojan miner hacktool        1\n",
      "adware downloader pua        1\n",
      "pua trojan adware            1\n",
      "opencandy candyopen _        1\n",
      "trojan virus _               1\n",
      "hacktool pua trojan          1\n",
      "avaquest _ _                 1\n",
      "trojan adware pua            1\n",
      "trojan adware virus          1\n",
      "Name: count, dtype: int64\n",
      "=====================================================================\n",
      "LoadStringA\n",
      "\n",
      "type_pattern\n",
      "trojan _ _                      147\n",
      "trojan dropper _                 14\n",
      "trojan adware _                  11\n",
      "trojan pua _                      8\n",
      "trojan spyware _                  7\n",
      "trojan downloader _               5\n",
      "adware trojan virus               4\n",
      "trojan dropper pua                3\n",
      "adware trojan downloader          2\n",
      "adware trojan _                   2\n",
      "trojan virus _                    2\n",
      "trojan ransomware _               2\n",
      "hacktool pua trojan               1\n",
      "trojan spyware dropper            1\n",
      "trojan dropper spyware            1\n",
      "adware virus _                    1\n",
      "trojan miner spyware              1\n",
      "downloader adware trojan          1\n",
      "msil _ _                          1\n",
      "adware _ _                        1\n",
      "trojan ransomware downloader      1\n",
      "trojan adware virus               1\n",
      "adware pua _                      1\n",
      "Name: count, dtype: int64\n",
      "=====================================================================\n",
      "GetSystemMetrics\n",
      "\n",
      "type_pattern\n",
      "trojan adware _                 329\n",
      "trojan _ _                      202\n",
      "trojan adware virus              56\n",
      "trojan adware downloader         28\n",
      "trojan dropper _                 24\n",
      "adware trojan downloader         24\n",
      "adware trojan virus              22\n",
      "adware trojan _                  19\n",
      "downloader trojan adware         14\n",
      "trojan adware pua                14\n",
      "downloader adware trojan         13\n",
      "trojan downloader adware         12\n",
      "trojan downloader _              11\n",
      "trojan pua _                     10\n",
      "trojan spyware _                  9\n",
      "trojan adware dropper             9\n",
      "trojan miner _                    7\n",
      "adware downloader trojan          7\n",
      "adware _ _                        5\n",
      "dropper trojan _                  3\n",
      "trojan dropper pua                3\n",
      "trojan worm downloader            3\n",
      "trojan ransomware _               3\n",
      "adware trojan pua                 3\n",
      "adware pua _                      2\n",
      "trojan virus _                    2\n",
      "dropper _ _                       1\n",
      "trojan dropper adware             1\n",
      "trojan miner downloader           1\n",
      "msil _ _                          1\n",
      "trojan adware hacktool            1\n",
      "adware virus _                    1\n",
      "adware downloader _               1\n",
      "techjoydown _ _                   1\n",
      "adware downloader virus           1\n",
      "syncopate _ _                     1\n",
      "pua trojan _                      1\n",
      "trojan dropper hacktool           1\n",
      "trojan miner hacktool             1\n",
      "adware pua trojan                 1\n",
      "trojan miner spyware              1\n",
      "opencandy candyopen _             1\n",
      "trojan pua adware                 1\n",
      "pua adware trojan                 1\n",
      "hacktool pua trojan               1\n",
      "trojan dropper spyware            1\n",
      "trojan spyware dropper            1\n",
      "trojan ransomware downloader      1\n",
      "Name: count, dtype: int64\n",
      "=====================================================================\n",
      "FindResourceExW\n",
      "\n",
      "type_pattern\n",
      "trojan adware _             192\n",
      "trojan _ _                  152\n",
      "trojan adware downloader     28\n",
      "adware trojan downloader     21\n",
      "trojan dropper _             19\n",
      "trojan pua _                 10\n",
      "trojan adware pua            10\n",
      "trojan downloader _           8\n",
      "trojan miner _                8\n",
      "trojan spyware _              8\n",
      "downloader trojan adware      8\n",
      "adware trojan _               7\n",
      "miner trojan pua              6\n",
      "trojan downloader adware      5\n",
      "adware trojan dropper         5\n",
      "trojan dropper pua            4\n",
      "trojan adware dropper         4\n",
      "trojan ransomware _           3\n",
      "adware downloader trojan      3\n",
      "downloader adware trojan      3\n",
      "trojan worm downloader        3\n",
      "adware _ _                    2\n",
      "trojan miner pua              2\n",
      "trojan miner downloader       2\n",
      "adware downloader _           1\n",
      "pua trojan _                  1\n",
      "adware trojan virus           1\n",
      "adware trojan pua             1\n",
      "techjoydown _ _               1\n",
      "syncopate _ _                 1\n",
      "trojan adware virus           1\n",
      "trojan dropper hacktool       1\n",
      "trojan miner hacktool         1\n",
      "trojan miner spyware          1\n",
      "trojan dropper spyware        1\n",
      "trojan spyware dropper        1\n",
      "trojan adware hacktool        1\n",
      "adware virus _                1\n",
      "trojan miner adware           1\n",
      "trojan virus _                1\n",
      "Name: count, dtype: int64\n",
      "=====================================================================\n",
      "DrawTextExW\n",
      "\n",
      "type_pattern\n",
      "trojan _ _                  95\n",
      "trojan adware _             73\n",
      "trojan adware pua           10\n",
      "trojan dropper _            10\n",
      "trojan pua _                 6\n",
      "trojan spyware _             6\n",
      "adware trojan downloader     5\n",
      "trojan adware dropper        5\n",
      "trojan adware downloader     4\n",
      "trojan dropper pua           3\n",
      "trojan adware virus          2\n",
      "adware virus _               1\n",
      "trojan downloader adware     1\n",
      "adware trojan virus          1\n",
      "trojan spyware dropper       1\n",
      "trojan dropper spyware       1\n",
      "trojan ransomware _          1\n",
      "trojan miner spyware         1\n",
      "trojan downloader _          1\n",
      "Name: count, dtype: int64\n",
      "=====================================================================\n",
      "FindResourceA\n",
      "\n",
      "type_pattern\n",
      "trojan _ _                  38\n",
      "trojan dropper _            12\n",
      "trojan adware _             10\n",
      "adware trojan virus          7\n",
      "adware trojan downloader     6\n",
      "trojan spyware _             5\n",
      "trojan downloader _          4\n",
      "trojan pua _                 4\n",
      "adware trojan _              2\n",
      "adware _ _                   1\n",
      "trojan ransomware _          1\n",
      "trojan miner _               1\n",
      "adware pua _                 1\n",
      "trojan adware virus          1\n",
      "downloader _ _               1\n",
      "adware downloader _          1\n",
      "msil _ _                     1\n",
      "downloader adware trojan     1\n",
      "adware trojan pua            1\n",
      "techjoydown _ _              1\n",
      "hacktool pua trojan          1\n",
      "adware virus _               1\n",
      "trojan dropper worm          1\n",
      "Name: count, dtype: int64\n",
      "=====================================================================\n",
      "RegQueryValueExA\n",
      "\n",
      "type_pattern\n",
      "trojan adware _             121\n",
      "trojan _ _                   66\n",
      "downloader adware trojan     33\n",
      "trojan adware virus          29\n",
      "adware trojan virus          14\n",
      "adware trojan _              14\n",
      "trojan spyware _             10\n",
      "trojan downloader adware      8\n",
      "adware downloader trojan      8\n",
      "downloader trojan adware      7\n",
      "trojan adware dropper         6\n",
      "trojan adware pua             5\n",
      "trojan adware downloader      4\n",
      "trojan miner _                3\n",
      "trojan downloader _           2\n",
      "adware _ _                    2\n",
      "trojan dropper _              2\n",
      "trojan pua _                  2\n",
      "adware trojan downloader      2\n",
      "trojan pua adware             1\n",
      "pua adware trojan             1\n",
      "adware pua trojan             1\n",
      "adware trojan pua             1\n",
      "trojan virus _                1\n",
      "trojan virus adware           1\n",
      "pua trojan _                  1\n",
      "syncopate _ _                 1\n",
      "adware downloader virus       1\n",
      "virus trojan adware           1\n",
      "Name: count, dtype: int64\n",
      "=====================================================================\n",
      "NtOpenProcess\n",
      "\n",
      "type_pattern\n",
      "downloader adware trojan    24\n",
      "trojan adware virus         24\n",
      "adware trojan virus         12\n",
      "downloader trojan adware     7\n",
      "adware downloader trojan     7\n",
      "trojan adware _              5\n",
      "trojan adware pua            1\n",
      "adware downloader virus      1\n",
      "adware trojan pua            1\n",
      "Name: count, dtype: int64\n",
      "=====================================================================\n",
      "GetTimeZoneInformation\n",
      "\n",
      "type_pattern\n",
      "trojan adware _             130\n",
      "trojan adware downloader      8\n",
      "trojan adware hacktool        1\n",
      "trojan adware virus           1\n",
      "Name: count, dtype: int64\n",
      "=====================================================================\n",
      "LookupAccountSidW\n",
      "\n",
      "type_pattern\n",
      "trojan adware _             113\n",
      "adware trojan downloader     15\n",
      "trojan adware downloader     12\n",
      "adware trojan _               4\n",
      "trojan adware dropper         4\n",
      "trojan _ _                    3\n",
      "trojan downloader adware      1\n",
      "trojan adware virus           1\n",
      "pua trojan _                  1\n",
      "syncopate _ _                 1\n",
      "Name: count, dtype: int64\n",
      "=====================================================================\n",
      "GetFileType\n",
      "\n",
      "type_pattern\n",
      "trojan adware _             123\n",
      "trojan _ _                   49\n",
      "adware trojan virus          10\n",
      "trojan miner _                7\n",
      "trojan adware virus           6\n",
      "adware trojan dropper         5\n",
      "adware trojan downloader      4\n",
      "trojan adware downloader      3\n",
      "trojan downloader _           3\n",
      "trojan dropper _              3\n",
      "trojan spyware _              2\n",
      "trojan pua _                  2\n",
      "trojan downloader adware      2\n",
      "trojan miner hacktool         1\n",
      "trojan dropper hacktool       1\n",
      "trojan adware pua             1\n",
      "adware trojan _               1\n",
      "trojan adware dropper         1\n",
      "adware trojan pua             1\n",
      "trojan miner downloader       1\n",
      "trojan ransomware _           1\n",
      "Name: count, dtype: int64\n",
      "=====================================================================\n",
      "NtDeviceIoControlFile\n",
      "\n",
      "type_pattern\n",
      "adware trojan virus         9\n",
      "trojan adware _             5\n",
      "trojan adware pua           4\n",
      "trojan adware virus         4\n",
      "trojan adware downloader    2\n",
      "adware pua trojan           1\n",
      "trojan pua adware           1\n",
      "trojan pua _                1\n",
      "trojan _ _                  1\n",
      "pua adware trojan           1\n",
      "Name: count, dtype: int64\n",
      "=====================================================================\n",
      "NtOpenDirectoryObject\n",
      "\n",
      "type_pattern\n",
      "trojan adware _             203\n",
      "trojan _ _                   41\n",
      "trojan adware virus          41\n",
      "adware trojan virus          12\n",
      "trojan downloader adware      9\n",
      "adware trojan _               7\n",
      "miner trojan pua              6\n",
      "trojan adware dropper         6\n",
      "trojan downloader pua         5\n",
      "trojan pua _                  3\n",
      "trojan miner _                3\n",
      "trojan adware downloader      3\n",
      "trojan miner pua              2\n",
      "trojan downloader virus       1\n",
      "trojan miner downloader       1\n",
      "trojan downloader _           1\n",
      "trojan dropper pua            1\n",
      "trojan ransomware _           1\n",
      "miner trojan adware           1\n",
      "miner trojan _                1\n",
      "trojan dropper _              1\n",
      "Name: count, dtype: int64\n",
      "=====================================================================\n",
      "WSAStartup\n",
      "\n",
      "type_pattern\n",
      "trojan adware _                 145\n",
      "trojan _ _                       31\n",
      "trojan adware virus              29\n",
      "adware trojan virus              16\n",
      "trojan downloader adware         11\n",
      "adware trojan downloader          8\n",
      "adware trojan _                   7\n",
      "miner trojan pua                  6\n",
      "trojan downloader pua             5\n",
      "trojan adware dropper             5\n",
      "trojan spyware _                  5\n",
      "trojan adware downloader          3\n",
      "trojan dropper _                  3\n",
      "adware _ _                        2\n",
      "adware downloader trojan          2\n",
      "trojan miner _                    2\n",
      "trojan downloader _               2\n",
      "trojan downloader virus           1\n",
      "miner trojan adware               1\n",
      "miner trojan _                    1\n",
      "trojan ransomware _               1\n",
      "trojan ransomware downloader      1\n",
      "Name: count, dtype: int64\n",
      "=====================================================================\n",
      "IsDebuggerPresent\n",
      "\n",
      "type_pattern\n",
      "trojan _ _                  41\n",
      "trojan adware downloader    16\n",
      "trojan adware _             14\n",
      "trojan adware virus         11\n",
      "downloader trojan adware     8\n",
      "trojan miner _               7\n",
      "adware trojan downloader     5\n",
      "adware trojan virus          5\n",
      "trojan dropper _             5\n",
      "trojan downloader _          5\n",
      "adware trojan _              4\n",
      "downloader adware trojan     4\n",
      "adware downloader trojan     4\n",
      "trojan downloader adware     4\n",
      "adware _ _                   3\n",
      "trojan pua _                 3\n",
      "adware pua _                 2\n",
      "trojan spyware _             2\n",
      "hacktool pua trojan          1\n",
      "trojan adware dropper        1\n",
      "opencandy candyopen _        1\n",
      "trojan miner hacktool        1\n",
      "trojan ransomware _          1\n",
      "trojan dropper hacktool      1\n",
      "msil _ _                     1\n",
      "trojan miner downloader      1\n",
      "Name: count, dtype: int64\n",
      "=====================================================================\n",
      "SearchPathW\n",
      "\n",
      "type_pattern\n",
      "trojan _ _                90\n",
      "trojan dropper _           7\n",
      "trojan spyware _           2\n",
      "adware virus _             1\n",
      "trojan pua _               1\n",
      "trojan spyware dropper     1\n",
      "trojan dropper spyware     1\n",
      "trojan virus _             1\n",
      "Name: count, dtype: int64\n",
      "=====================================================================\n",
      "SetWindowsHookExA\n",
      "\n",
      "type_pattern\n",
      "trojan _ _                90\n",
      "trojan dropper _           7\n",
      "trojan spyware _           2\n",
      "trojan downloader _        2\n",
      "adware virus _             1\n",
      "trojan pua _               1\n",
      "trojan spyware dropper     1\n",
      "trojan dropper spyware     1\n",
      "techjoydown _ _            1\n",
      "adware downloader _        1\n",
      "trojan virus _             1\n",
      "Name: count, dtype: int64\n",
      "=====================================================================\n",
      "FindResourceExA\n",
      "\n",
      "type_pattern\n",
      "trojan _ _             21\n",
      "adware trojan _         6\n",
      "trojan dropper _        4\n",
      "adware trojan virus     3\n",
      "adware virus _          1\n",
      "adware trojan pua       1\n",
      "trojan downloader _     1\n",
      "Name: count, dtype: int64\n",
      "=====================================================================\n",
      "__exception__\n",
      "\n",
      "type_pattern\n",
      "trojan _ _                      37\n",
      "trojan dropper _                 8\n",
      "trojan banker spyware            5\n",
      "trojan spyware _                 3\n",
      "trojan downloader _              2\n",
      "trojan ransomware _              2\n",
      "trojan adware dropper            2\n",
      "trojan downloader adware         2\n",
      "trojan spyware banker            2\n",
      "adware virus _                   1\n",
      "trojan dropper spyware           1\n",
      "trojan spyware dropper           1\n",
      "trojan ransomware downloader     1\n",
      "trojan adware _                  1\n",
      "trojan miner _                   1\n",
      "trojan pua _                     1\n",
      "trojan dropper worm              1\n",
      "Name: count, dtype: int64\n",
      "=====================================================================\n",
      "NtEnumerateKey\n",
      "\n",
      "type_pattern\n",
      "trojan adware _        30\n",
      "trojan adware virus    11\n",
      "trojan _ _              9\n",
      "adware trojan virus     8\n",
      "trojan dropper _        7\n",
      "trojan miner _          1\n",
      "trojan spyware _        1\n",
      "trojan worm _           1\n",
      "trojan virus _          1\n",
      "adware trojan _         1\n",
      "Name: count, dtype: int64\n",
      "=====================================================================\n",
      "NtEnumerateValueKey\n",
      "\n",
      "type_pattern\n",
      "trojan adware _        30\n",
      "trojan adware virus    11\n",
      "trojan _ _              9\n",
      "adware trojan virus     8\n",
      "trojan dropper _        7\n",
      "trojan miner _          1\n",
      "trojan spyware _        1\n",
      "trojan worm _           1\n",
      "trojan virus _          1\n",
      "adware trojan _         1\n",
      "Name: count, dtype: int64\n",
      "=====================================================================\n",
      "SHGetFolderPathW\n",
      "\n",
      "type_pattern\n",
      "adware trojan downloader     14\n",
      "trojan adware pua            10\n",
      "adware trojan _               8\n",
      "adware trojan virus           7\n",
      "trojan _ _                    6\n",
      "trojan dropper downloader     6\n",
      "trojan spyware _              5\n",
      "adware trojan dropper         5\n",
      "adware _ _                    2\n",
      "trojan worm downloader        2\n",
      "adware trojan pua             1\n",
      "trojan adware _               1\n",
      "adware downloader trojan      1\n",
      "trojan downloader dropper     1\n",
      "trojan adware downloader      1\n",
      "Name: count, dtype: int64\n",
      "=====================================================================\n",
      "GetSystemDirectoryA\n",
      "\n",
      "type_pattern\n",
      "trojan dropper _            9\n",
      "trojan _ _                  5\n",
      "adware trojan virus         5\n",
      "trojan ransomware _         4\n",
      "trojan downloader adware    3\n",
      "adware trojan _             3\n",
      "trojan downloader _         2\n",
      "trojan adware downloader    2\n",
      "trojan downloader virus     1\n",
      "trojan miner dropper        1\n",
      "pua trojan adware           1\n",
      "trojan miner _              1\n",
      "downloader _ _              1\n",
      "trojan pua _                1\n",
      "adware trojan pua           1\n",
      "adware trojan downloader    1\n",
      "Name: count, dtype: int64\n",
      "=====================================================================\n",
      "GetTempPathW\n",
      "\n",
      "type_pattern\n",
      "trojan _ _                   41\n",
      "ransomware trojan _          11\n",
      "trojan dropper _              7\n",
      "trojan ransomware _           7\n",
      "ransomware trojan dropper     6\n",
      "adware trojan downloader      5\n",
      "trojan downloader adware      4\n",
      "trojan pua _                  3\n",
      "adware trojan virus           3\n",
      "ransomware trojan pua         2\n",
      "trojan adware downloader      2\n",
      "trojan miner spyware          1\n",
      "downloader _ _                1\n",
      "adware trojan pua             1\n",
      "adware downloader trojan      1\n",
      "trojan trojan adware          1\n",
      "downloader adware trojan      1\n",
      "downloader trojan adware      1\n",
      "adware downloader pua         1\n",
      "trojan adware pua             1\n",
      "trojan pua ransomware         1\n",
      "trojan spyware _              1\n",
      "Name: count, dtype: int64\n",
      "=====================================================================\n",
      "SetEndOfFile\n",
      "\n",
      "type_pattern\n",
      "trojan _ _                  43\n",
      "trojan pua _                 3\n",
      "adware _ _                   3\n",
      "adware trojan virus          3\n",
      "trojan dropper _             2\n",
      "adware trojan downloader     2\n",
      "adware pua _                 2\n",
      "trojan spyware _             2\n",
      "hacktool pua trojan          1\n",
      "trojan downloader _          1\n",
      "opencandy candyopen _        1\n",
      "downloader adware trojan     1\n",
      "adware trojan _              1\n",
      "msil _ _                     1\n",
      "trojan adware virus          1\n",
      "Name: count, dtype: int64\n",
      "=====================================================================\n",
      "GlobalMemoryStatus\n",
      "\n",
      "type_pattern\n",
      "trojan _ _                  31\n",
      "adware trojan _              6\n",
      "trojan adware _              6\n",
      "trojan adware downloader     4\n",
      "adware trojan virus          3\n",
      "trojan miner _               3\n",
      "trojan dropper _             2\n",
      "trojan adware virus          2\n",
      "trojan adware dropper        2\n",
      "trojan pua _                 1\n",
      "adware trojan pua            1\n",
      "trojan adware pua            1\n",
      "trojan spyware _             1\n",
      "Name: count, dtype: int64\n",
      "=====================================================================\n",
      "NtQueryInformationFile\n",
      "\n",
      "type_pattern\n",
      "trojan _ _                   33\n",
      "ransomware trojan _          11\n",
      "adware trojan downloader      9\n",
      "trojan adware virus           9\n",
      "trojan dropper _              7\n",
      "trojan ransomware _           7\n",
      "ransomware trojan dropper     6\n",
      "adware trojan _               6\n",
      "adware trojan virus           6\n",
      "trojan banker _               6\n",
      "ransomware trojan pua         2\n",
      "trojan pua _                  2\n",
      "trojan adware pua             1\n",
      "trojan banker pua             1\n",
      "trojan pua ransomware         1\n",
      "downloader _ _                1\n",
      "trojan spyware _              1\n",
      "adware trojan pua             1\n",
      "trojan adware downloader      1\n",
      "Name: count, dtype: int64\n",
      "=====================================================================\n",
      "NtOpenMutant\n",
      "\n",
      "type_pattern\n",
      "trojan _ _                  20\n",
      "trojan adware pua           10\n",
      "downloader trojan adware     7\n",
      "adware _ _                   2\n",
      "trojan pua _                 1\n",
      "trojan adware _              1\n",
      "adware trojan _              1\n",
      "adware trojan downloader     1\n",
      "adware downloader trojan     1\n",
      "downloader adware trojan     1\n",
      "Name: count, dtype: int64\n",
      "=====================================================================\n",
      "GetUserNameW\n",
      "\n",
      "type_pattern\n",
      "trojan adware _             85\n",
      "trojan adware virus         16\n",
      "trojan _ _                  13\n",
      "trojan downloader adware     4\n",
      "adware trojan _              3\n",
      "trojan adware dropper        3\n",
      "trojan dropper _             1\n",
      "Name: count, dtype: int64\n",
      "=====================================================================\n",
      "NtCreateThreadEx\n",
      "\n",
      "type_pattern\n",
      "trojan adware _             80\n",
      "trojan adware virus         16\n",
      "trojan _ _                  12\n",
      "adware trojan _              9\n",
      "adware trojan downloader     9\n",
      "trojan adware dropper        5\n",
      "trojan downloader adware     4\n",
      "adware trojan virus          3\n",
      "trojan adware downloader     2\n",
      "adware trojan pua            1\n",
      "trojan adware pua            1\n",
      "trojan dropper _             1\n",
      "Name: count, dtype: int64\n",
      "=====================================================================\n",
      "NtResumeThread\n",
      "\n",
      "type_pattern\n",
      "trojan adware _             80\n",
      "trojan _ _                  22\n",
      "trojan adware virus         16\n",
      "adware trojan downloader    10\n",
      "adware trojan _              9\n",
      "trojan adware dropper        5\n",
      "trojan downloader adware     4\n",
      "adware trojan virus          3\n",
      "trojan adware downloader     2\n",
      "adware trojan pua            1\n",
      "adware downloader trojan     1\n",
      "trojan adware pua            1\n",
      "trojan dropper _             1\n",
      "Name: count, dtype: int64\n",
      "=====================================================================\n",
      "DeviceIoControl\n",
      "\n",
      "type_pattern\n",
      "adware trojan virus         12\n",
      "adware trojan downloader     9\n",
      "adware trojan _              6\n",
      "trojan adware _              5\n",
      "trojan adware pua            4\n",
      "trojan adware virus          4\n",
      "trojan adware downloader     3\n",
      "adware trojan pua            1\n",
      "adware pua trojan            1\n",
      "trojan pua adware            1\n",
      "trojan pua _                 1\n",
      "trojan _ _                   1\n",
      "pua adware trojan            1\n",
      "Name: count, dtype: int64\n",
      "=====================================================================\n",
      "GetAdaptersInfo\n",
      "\n",
      "type_pattern\n",
      "adware trojan downloader    9\n",
      "adware trojan _             6\n",
      "adware trojan virus         3\n",
      "adware trojan pua           1\n",
      "trojan adware downloader    1\n",
      "Name: count, dtype: int64\n",
      "=====================================================================\n",
      "GetComputerNameA\n",
      "\n",
      "type_pattern\n",
      "adware trojan _        6\n",
      "adware trojan virus    3\n",
      "adware trojan pua      1\n",
      "Name: count, dtype: int64\n",
      "=====================================================================\n",
      "GlobalMemoryStatusEx\n",
      "\n",
      "type_pattern\n",
      "adware trojan _             6\n",
      "trojan adware _             6\n",
      "trojan adware downloader    4\n",
      "adware trojan virus         3\n",
      "trojan miner _              3\n",
      "trojan adware virus         2\n",
      "trojan adware dropper       2\n",
      "adware trojan pua           1\n",
      "trojan adware pua           1\n",
      "Name: count, dtype: int64\n",
      "=====================================================================\n",
      "LdrUnloadDll\n",
      "\n",
      "type_pattern\n",
      "trojan _ _                  17\n",
      "trojan miner _              12\n",
      "trojan dropper _            10\n",
      "adware trojan downloader     9\n",
      "miner trojan pua             6\n",
      "adware trojan _              6\n",
      "adware trojan virus          5\n",
      "trojan adware downloader     4\n",
      "trojan downloader _          4\n",
      "trojan pua _                 2\n",
      "trojan downloader adware     2\n",
      "trojan adware virus          2\n",
      "trojan adware _              2\n",
      "trojan miner hacktool        1\n",
      "trojan ransomware _          1\n",
      "trojan dropper hacktool      1\n",
      "adware trojan pua            1\n",
      "miner trojan _               1\n",
      "downloader _ _               1\n",
      "trojan miner downloader      1\n",
      "trojan spyware _             1\n",
      "miner trojan adware          1\n",
      "Name: count, dtype: int64\n",
      "=====================================================================\n",
      "GetFileSizeEx\n",
      "\n",
      "type_pattern\n",
      "trojan _ _          7\n",
      "trojan dropper _    2\n",
      "trojan miner _      1\n",
      "Name: count, dtype: int64\n",
      "=====================================================================\n",
      "GetFileVersionInfoSizeW\n",
      "\n",
      "type_pattern\n",
      "trojan adware _             41\n",
      "trojan _ _                  12\n",
      "adware trojan downloader    10\n",
      "trojan adware virus          9\n",
      "trojan spyware _             5\n",
      "trojan dropper _             2\n",
      "trojan downloader adware     2\n",
      "adware trojan _              2\n",
      "adware downloader trojan     1\n",
      "trojan adware downloader     1\n",
      "Name: count, dtype: int64\n",
      "=====================================================================\n",
      "GetFileVersionInfoW\n",
      "\n",
      "type_pattern\n",
      "trojan adware _             32\n",
      "trojan _ _                  11\n",
      "adware trojan downloader    10\n",
      "trojan adware virus          9\n",
      "trojan spyware _             5\n",
      "trojan dropper _             2\n",
      "trojan downloader adware     2\n",
      "adware trojan _              2\n",
      "adware downloader trojan     1\n",
      "trojan adware downloader     1\n",
      "Name: count, dtype: int64\n",
      "=====================================================================\n",
      "GetCursorPos\n",
      "\n",
      "type_pattern\n",
      "trojan _ _               20\n",
      "trojan adware pua         4\n",
      "trojan dropper _          3\n",
      "dropper trojan _          3\n",
      "trojan pua _              2\n",
      "trojan downloader _       2\n",
      "adware pua trojan         1\n",
      "trojan pua adware         1\n",
      "pua adware trojan         1\n",
      "trojan adware _           1\n",
      "dropper _ _               1\n",
      "trojan dropper adware     1\n",
      "trojan miner spyware      1\n",
      "techjoydown _ _           1\n",
      "adware downloader _       1\n",
      "Name: count, dtype: int64\n",
      "=====================================================================\n",
      "DrawTextExA\n",
      "\n",
      "type_pattern\n",
      "trojan spyware _    5\n",
      "trojan _ _          4\n",
      "trojan dropper _    1\n",
      "Name: count, dtype: int64\n",
      "=====================================================================\n",
      "OutputDebugStringA\n",
      "\n",
      "type_pattern\n",
      "adware trojan downloader    9\n",
      "adware trojan dropper       5\n",
      "trojan adware pua           4\n",
      "adware pua trojan           1\n",
      "trojan pua adware           1\n",
      "trojan pua _                1\n",
      "trojan _ _                  1\n",
      "pua adware trojan           1\n",
      "trojan adware _             1\n",
      "adware trojan _             1\n",
      "trojan adware downloader    1\n",
      "Name: count, dtype: int64\n",
      "=====================================================================\n",
      "GetForegroundWindow\n",
      "\n",
      "type_pattern\n",
      "trojan adware downloader    16\n",
      "downloader trojan adware     8\n",
      "trojan _ _                   8\n",
      "trojan dropper _             8\n",
      "adware downloader trojan     3\n",
      "trojan downloader adware     3\n",
      "downloader adware trojan     3\n",
      "trojan downloader _          3\n",
      "trojan worm downloader       3\n",
      "adware trojan downloader     2\n",
      "techjoydown _ _              1\n",
      "adware downloader _          1\n",
      "Name: count, dtype: int64\n",
      "=====================================================================\n",
      "RegCreateKeyExA\n",
      "\n",
      "type_pattern\n",
      "adware trojan virus         9\n",
      "adware trojan downloader    6\n",
      "adware _ _                  2\n",
      "trojan adware _             1\n",
      "trojan _ _                  1\n",
      "adware trojan _             1\n",
      "adware trojan pua           1\n",
      "Name: count, dtype: int64\n",
      "=====================================================================\n",
      "socket\n",
      "\n",
      "type_pattern\n",
      "adware trojan virus         12\n",
      "adware trojan downloader     8\n",
      "miner trojan pua             6\n",
      "adware _ _                   2\n",
      "adware downloader trojan     2\n",
      "trojan miner _               2\n",
      "trojan adware _              1\n",
      "trojan _ _                   1\n",
      "adware trojan _              1\n",
      "miner trojan adware          1\n",
      "miner trojan _               1\n",
      "Name: count, dtype: int64\n",
      "=====================================================================\n",
      "CreateDirectoryW\n",
      "\n",
      "type_pattern\n",
      "trojan _ _                   12\n",
      "trojan dropper downloader     6\n",
      "trojan downloader pua         5\n",
      "trojan dropper _              5\n",
      "adware trojan virus           5\n",
      "trojan downloader adware      4\n",
      "trojan pua _                  3\n",
      "adware _ _                    3\n",
      "adware pua _                  2\n",
      "trojan adware _               2\n",
      "trojan worm downloader        2\n",
      "adware trojan downloader      2\n",
      "trojan adware pua             1\n",
      "opencandy candyopen _         1\n",
      "trojan spyware _              1\n",
      "trojan downloader _           1\n",
      "trojan downloader dropper     1\n",
      "downloader adware trojan      1\n",
      "adware trojan _               1\n",
      "hacktool pua trojan           1\n",
      "msil _ _                      1\n",
      "trojan downloader virus       1\n",
      "downloader _ _                1\n",
      "trojan adware virus           1\n",
      "Name: count, dtype: int64\n",
      "=====================================================================\n",
      "NtWriteFile\n",
      "\n",
      "type_pattern\n",
      "adware trojan downloader     15\n",
      "trojan _ _                   12\n",
      "trojan dropper downloader     6\n",
      "adware trojan virus           6\n",
      "trojan dropper _              5\n",
      "adware trojan dropper         5\n",
      "trojan downloader adware      4\n",
      "trojan adware downloader      3\n",
      "trojan pua _                  3\n",
      "adware _ _                    3\n",
      "adware pua _                  2\n",
      "adware trojan _               2\n",
      "downloader adware trojan      2\n",
      "trojan adware _               2\n",
      "trojan worm downloader        2\n",
      "adware trojan pua             1\n",
      "msil _ _                      1\n",
      "downloader _ _                1\n",
      "hacktool pua trojan           1\n",
      "trojan spyware _              1\n",
      "trojan downloader dropper     1\n",
      "opencandy candyopen _         1\n",
      "trojan adware pua             1\n",
      "downloader trojan adware      1\n",
      "adware downloader pua         1\n",
      "trojan trojan adware          1\n",
      "trojan downloader _           1\n",
      "trojan adware virus           1\n",
      "Name: count, dtype: int64\n",
      "=====================================================================\n",
      "CreateProcessInternalW\n",
      "\n",
      "type_pattern\n",
      "trojan _ _                  22\n",
      "adware _ _                   3\n",
      "adware trojan virus          3\n",
      "adware trojan downloader     2\n",
      "trojan pua _                 2\n",
      "hacktool pua trojan          1\n",
      "trojan downloader _          1\n",
      "adware pua _                 1\n",
      "opencandy candyopen _        1\n",
      "trojan spyware _             1\n",
      "downloader adware trojan     1\n",
      "adware trojan _              1\n",
      "msil _ _                     1\n",
      "Name: count, dtype: int64\n",
      "=====================================================================\n",
      "DeleteFileW\n",
      "\n",
      "type_pattern\n",
      "trojan _ _                  6\n",
      "adware trojan downloader    2\n",
      "adware _ _                  2\n",
      "trojan pua _                2\n",
      "hacktool pua trojan         1\n",
      "trojan downloader _         1\n",
      "adware pua _                1\n",
      "opencandy candyopen _       1\n",
      "trojan spyware _            1\n",
      "msil _ _                    1\n",
      "adware trojan virus         1\n",
      "Name: count, dtype: int64\n",
      "=====================================================================\n",
      "RemoveDirectoryA\n",
      "\n",
      "type_pattern\n",
      "trojan dropper _            5\n",
      "trojan _ _                  4\n",
      "trojan pua _                3\n",
      "adware trojan virus         3\n",
      "adware trojan downloader    2\n",
      "hacktool pua trojan         1\n",
      "trojan downloader _         1\n",
      "msil _ _                    1\n",
      "adware _ _                  1\n",
      "downloader _ _              1\n",
      "Name: count, dtype: int64\n",
      "=====================================================================\n",
      "GetSystemWindowsDirectoryA\n",
      "\n",
      "type_pattern\n",
      "trojan ransomware _      7\n",
      "trojan _ _               2\n",
      "trojan pua ransomware    1\n",
      "Name: count, dtype: int64\n",
      "=====================================================================\n",
      "RegEnumKeyExA\n",
      "\n",
      "type_pattern\n",
      "trojan _ _               12\n",
      "trojan ransomware _       7\n",
      "trojan pua ransomware     1\n",
      "Name: count, dtype: int64\n",
      "=====================================================================\n",
      "RegEnumValueA\n",
      "\n",
      "type_pattern\n",
      "trojan ransomware _      7\n",
      "trojan _ _               2\n",
      "trojan pua ransomware    1\n",
      "Name: count, dtype: int64\n",
      "=====================================================================\n",
      "SetWindowsHookExW\n",
      "\n",
      "type_pattern\n",
      "trojan adware _             4\n",
      "dropper trojan _            3\n",
      "trojan dropper _            2\n",
      "trojan _ _                  2\n",
      "trojan adware dropper       2\n",
      "dropper _ _                 1\n",
      "trojan dropper adware       1\n",
      "trojan adware pua           1\n",
      "trojan adware downloader    1\n",
      "Name: count, dtype: int64\n",
      "=====================================================================\n",
      "WriteConsoleA\n",
      "\n",
      "type_pattern\n",
      "trojan adware _    20\n",
      "Name: count, dtype: int64\n",
      "=====================================================================\n",
      "SetFileAttributesW\n",
      "\n",
      "type_pattern\n",
      "trojan dropper downloader    6\n",
      "trojan adware _              2\n",
      "trojan worm downloader       2\n",
      "trojan adware pua            1\n",
      "trojan downloader dropper    1\n",
      "Name: count, dtype: int64\n",
      "=====================================================================\n",
      "WriteProcessMemory\n",
      "\n",
      "type_pattern\n",
      "trojan _ _                  10\n",
      "adware trojan downloader     5\n",
      "adware trojan virus          4\n",
      "adware downloader trojan     1\n",
      "Name: count, dtype: int64\n",
      "=====================================================================\n",
      "CreateToolhelp32Snapshot\n",
      "\n",
      "type_pattern\n",
      "adware trojan downloader    9\n",
      "trojan _ _                  6\n",
      "adware trojan virus         5\n",
      "adware downloader trojan    1\n",
      "adware trojan pua           1\n",
      "trojan miner _              1\n",
      "trojan pua _                1\n",
      "trojan ransomware _         1\n",
      "trojan dropper worm         1\n",
      "Name: count, dtype: int64\n",
      "=====================================================================\n",
      "Process32FirstW\n",
      "\n",
      "type_pattern\n",
      "adware trojan downloader    9\n",
      "adware trojan virus         5\n",
      "adware downloader trojan    1\n",
      "adware trojan pua           1\n",
      "Name: count, dtype: int64\n",
      "=====================================================================\n",
      "Process32NextW\n",
      "\n",
      "type_pattern\n",
      "adware trojan downloader    9\n",
      "adware trojan virus         5\n",
      "adware downloader trojan    1\n",
      "adware trojan pua           1\n",
      "Name: count, dtype: int64\n",
      "=====================================================================\n",
      "RemoveDirectoryW\n",
      "\n",
      "type_pattern\n",
      "trojan _ _               2\n",
      "adware pua _             1\n",
      "opencandy candyopen _    1\n",
      "trojan spyware _         1\n",
      "adware _ _               1\n",
      "Name: count, dtype: int64\n",
      "=====================================================================\n",
      "InternetSetOptionA\n",
      "\n",
      "type_pattern\n",
      "trojan downloader adware    3\n",
      "Name: count, dtype: int64\n",
      "=====================================================================\n",
      "ReadProcessMemory\n",
      "\n",
      "type_pattern\n",
      "trojan _ _                  10\n",
      "trojan downloader adware     3\n",
      "Name: count, dtype: int64\n",
      "=====================================================================\n",
      "NtCreateKey\n",
      "\n",
      "type_pattern\n",
      "trojan downloader adware    3\n",
      "Name: count, dtype: int64\n",
      "=====================================================================\n",
      "NtSetValueKey\n",
      "\n",
      "type_pattern\n",
      "trojan downloader adware    3\n",
      "Name: count, dtype: int64\n",
      "=====================================================================\n",
      "NtOpenThread\n",
      "\n",
      "type_pattern\n",
      "trojan downloader adware    2\n",
      "Name: count, dtype: int64\n",
      "=====================================================================\n",
      "CoUninitialize\n",
      "\n",
      "type_pattern\n",
      "trojan _ _       3\n",
      "pua trojan _     1\n",
      "syncopate _ _    1\n",
      "Name: count, dtype: int64\n",
      "=====================================================================\n",
      "GetFileAttributesExW\n",
      "\n",
      "type_pattern\n",
      "adware trojan dropper    5\n",
      "adware trojan _          1\n",
      "Name: count, dtype: int64\n",
      "=====================================================================\n",
      "closesocket\n",
      "\n",
      "type_pattern\n",
      "miner trojan pua       6\n",
      "trojan miner _         2\n",
      "miner trojan adware    1\n",
      "miner trojan _         1\n",
      "Name: count, dtype: int64\n",
      "=====================================================================\n",
      "GetShortPathNameW\n",
      "\n",
      "type_pattern\n",
      "trojan _ _                   19\n",
      "trojan dropper downloader     6\n",
      "trojan worm downloader        2\n",
      "trojan downloader dropper     1\n",
      "trojan spyware _              1\n",
      "Name: count, dtype: int64\n",
      "=====================================================================\n",
      "RegSetValueExA\n",
      "\n",
      "type_pattern\n",
      "adware trojan virus         9\n",
      "adware trojan downloader    6\n",
      "adware trojan pua           1\n",
      "Name: count, dtype: int64\n",
      "=====================================================================\n",
      "LookupPrivilegeValueW\n",
      "\n",
      "type_pattern\n",
      "trojan _ _    10\n",
      "Name: count, dtype: int64\n",
      "=====================================================================\n",
      "GetUserNameA\n",
      "\n",
      "type_pattern\n",
      "trojan _ _    10\n",
      "Name: count, dtype: int64\n",
      "=====================================================================\n",
      "ioctlsocket\n",
      "\n",
      "type_pattern\n",
      "adware trojan virus         8\n",
      "adware trojan downloader    2\n",
      "Name: count, dtype: int64\n",
      "=====================================================================\n",
      "select\n",
      "\n",
      "type_pattern\n",
      "adware trojan virus         8\n",
      "adware trojan downloader    2\n",
      "Name: count, dtype: int64\n",
      "=====================================================================\n",
      "NtTerminateProcess\n",
      "\n",
      "type_pattern\n",
      "trojan _ _      2\n",
      "trojan pua _    1\n",
      "msil _ _        1\n",
      "Name: count, dtype: int64\n",
      "=====================================================================\n",
      "NtSetInformationFile\n",
      "\n",
      "type_pattern\n",
      "trojan dropper _       5\n",
      "adware trojan virus    2\n",
      "downloader _ _         1\n",
      "trojan pua _           1\n",
      "Name: count, dtype: int64\n",
      "=====================================================================\n",
      "OpenSCManagerW\n",
      "\n",
      "type_pattern\n",
      "adware trojan downloader    9\n",
      "trojan adware downloader    1\n",
      "Name: count, dtype: int64\n",
      "=====================================================================\n",
      "OpenServiceW\n",
      "\n",
      "type_pattern\n",
      "adware trojan downloader    9\n",
      "trojan adware downloader    1\n",
      "Name: count, dtype: int64\n",
      "=====================================================================\n",
      "CoInitializeSecurity\n",
      "\n",
      "type_pattern\n",
      "adware trojan downloader    9\n",
      "trojan adware downloader    1\n",
      "Name: count, dtype: int64\n",
      "=====================================================================\n",
      "CoCreateInstanceEx\n",
      "\n",
      "type_pattern\n",
      "adware trojan downloader    9\n",
      "trojan adware downloader    1\n",
      "Name: count, dtype: int64\n",
      "=====================================================================\n",
      "GetComputerNameW\n",
      "\n",
      "type_pattern\n",
      "adware trojan downloader    9\n",
      "trojan adware downloader    1\n",
      "Name: count, dtype: int64\n",
      "=====================================================================\n",
      "CoGetClassObject\n",
      "\n",
      "type_pattern\n",
      "adware trojan downloader    9\n",
      "trojan adware downloader    1\n",
      "Name: count, dtype: int64\n",
      "=====================================================================\n",
      "IWbemServices_ExecQuery\n",
      "\n",
      "type_pattern\n",
      "adware trojan downloader    9\n",
      "trojan adware downloader    1\n",
      "Name: count, dtype: int64\n",
      "=====================================================================\n",
      "Module32FirstW\n",
      "\n",
      "type_pattern\n",
      "trojan _ _             6\n",
      "trojan miner _         1\n",
      "trojan pua _           1\n",
      "trojan ransomware _    1\n",
      "trojan dropper worm    1\n",
      "Name: count, dtype: int64\n",
      "=====================================================================\n",
      "Module32NextW\n",
      "\n",
      "type_pattern\n",
      "trojan _ _             6\n",
      "trojan miner _         1\n",
      "trojan pua _           1\n",
      "trojan ransomware _    1\n",
      "trojan dropper worm    1\n",
      "Name: count, dtype: int64\n",
      "=====================================================================\n",
      "\n"
     ]
    }
   ],
   "source": [
    "for s in same:\n",
    "    display(s, malicious_df[malicious_df['pattern'].str.contains(s)]['type_pattern'].value_counts()[0:10])\n",
    "\n",
    "    str_output = \"\"\n",
    "for s in same:\n",
    "    str_output += s + \"\\n\\n\"\n",
    "    str_output += str(malicious_df[malicious_df['pattern'].str.contains(s)]['type_pattern'].value_counts())\n",
    "    str_output += \"\\n=====================================================================\\n\"\n",
    "\n",
    "with open('4 APICalls_MalwareTypes_MaliciousBenign.txt', 'w') as f:\n",
    "    f.write(str_output)\n",
    "    f.flush()\n",
    "    f.close()\n",
    "print(str_output)"
   ]
  }
 ],
 "metadata": {
  "kernelspec": {
   "display_name": "Python 3 (ipykernel)",
   "language": "python",
   "name": "python3"
  },
  "language_info": {
   "codemirror_mode": {
    "name": "ipython",
    "version": 3
   },
   "file_extension": ".py",
   "mimetype": "text/x-python",
   "name": "python",
   "nbconvert_exporter": "python",
   "pygments_lexer": "ipython3",
   "version": "3.11.5"
  }
 },
 "nbformat": 4,
 "nbformat_minor": 2
}
