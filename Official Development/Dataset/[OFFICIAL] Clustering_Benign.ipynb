{
 "cells": [
  {
   "cell_type": "markdown",
   "metadata": {},
   "source": [
    "# Clustering Demo (Benign)\n",
    "\n",
    "**Note:** Make sure that you have `oliveira.csv` in the same directory as this notebook.\n",
    "\n",
    "**Note:** No Clustering occurs here as it is Benign, though it is still needed to be executed as it has a specific step that will be used as part of Dataset Analysis."
   ]
  },
  {
   "cell_type": "code",
   "execution_count": 2,
   "metadata": {},
   "outputs": [],
   "source": [
    "import pandas as pd\n",
    "\n",
    "def list_to_str(ls:list):\n",
    "    '''Convert list to a stringified version (comma delimited).'''\n",
    "    output = \"\"\n",
    "    for l in ls:\n",
    "        output += str(l) + \",\"\n",
    "    return output[0:len(output)-1]\n",
    "\n",
    "def load_df():\n",
    "    '''Load the dataset file (CSV) as DataFrame'''\n",
    "    print(\"Loading DF...\")\n",
    "    df = pd.read_csv(\"oliveira.csv\", low_memory=False, memory_map=True)\n",
    "    df = df[df['malware'] == 0].copy()\n",
    "    df = df.drop('malware', axis=1)\n",
    "    print(\"\")\n",
    "    return df.reset_index().iloc[:,1:]\n",
    "\n",
    "def get_x(df:pd.DataFrame):\n",
    "    '''Get the feature columns of the DataFrame'''\n",
    "    return df.iloc[:, 1:102-1]\n",
    "\n",
    "#Load list of API calls\n",
    "API_LIST = \"api_calls.txt\"\n",
    "DELIMITER = \"NaN\"\n",
    "API_FILE = open(API_LIST,\"r\")\n",
    "APIS = API_FILE.readline().split(',')\n",
    "APIS.append(DELIMITER) #serves as a label for NaN values for Instance-based datasets\n",
    "API_FILE.close()\n",
    "\n",
    "#Random Seed\n",
    "seed = 1\n",
    "\n",
    "#Inverse Label Encoding\n",
    "def inverse_labeller(item):\n",
    "    global APIS\n",
    "    return item.map(lambda x: APIS[int(x)])\n",
    "def inverse_label(df:pd.DataFrame):\n",
    "    print(\"Inverse Labelling...\")\n",
    "    df.iloc[:, 1:101] = df.iloc[:, 1:101].apply(inverse_labeller, axis=1, result_type='reduce')\n",
    "    print(\"\")\n",
    "    return df"
   ]
  },
  {
   "cell_type": "markdown",
   "metadata": {},
   "source": [
    "From: https://medium.com/swlh/k-means-clustering-on-high-dimensional-data-d2151e1a4240"
   ]
  },
  {
   "cell_type": "markdown",
   "metadata": {},
   "source": [
    "# Load Dataset"
   ]
  },
  {
   "cell_type": "code",
   "execution_count": null,
   "metadata": {},
   "outputs": [],
   "source": [
    "df = load_df()\n",
    "inverse_labelled_df = inverse_label(df)"
   ]
  },
  {
   "cell_type": "markdown",
   "metadata": {},
   "source": [
    "# Create `Benign/API_Patterns.csv`"
   ]
  },
  {
   "cell_type": "code",
   "execution_count": 4,
   "metadata": {
    "scrolled": true
   },
   "outputs": [
    {
     "name": "stdout",
     "output_type": "stream",
     "text": [
      "Loading DF...\n",
      "\n",
      "Inverse Labelling...\n",
      "\n",
      "Injecting API patterns...\n",
      "\n",
      "Inverse Labelling...\n",
      "\n"
     ]
    }
   ],
   "source": [
    "patterns = []\n",
    "print(\"Injecting API patterns...\")\n",
    "for row in range(df.shape[0]):\n",
    "    patterns.append(list_to_str(inverse_labelled_df.iloc[row,1:101].transpose().to_list()))\n",
    "df['pattern'] = patterns\n",
    "inverse_label(df).to_csv(f\"Clustering/Benign/API_Patterns.csv\", index=False)"
   ]
  }
 ],
 "metadata": {
  "kernelspec": {
   "display_name": "Python 3 (ipykernel)",
   "language": "python",
   "name": "python3"
  },
  "language_info": {
   "codemirror_mode": {
    "name": "ipython",
    "version": 3
   },
   "file_extension": ".py",
   "mimetype": "text/x-python",
   "name": "python",
   "nbconvert_exporter": "python",
   "pygments_lexer": "ipython3",
   "version": "3.11.5"
  }
 },
 "nbformat": 4,
 "nbformat_minor": 2
}
