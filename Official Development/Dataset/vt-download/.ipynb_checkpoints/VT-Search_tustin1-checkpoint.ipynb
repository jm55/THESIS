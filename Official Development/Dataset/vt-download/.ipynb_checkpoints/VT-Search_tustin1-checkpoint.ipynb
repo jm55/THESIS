{
 "cells": [
  {
   "cell_type": "code",
   "execution_count": 1,
   "metadata": {},
   "outputs": [
    {
     "name": "stderr",
     "output_type": "stream",
     "text": [
      "C:\\Users\\ejose\\AppData\\Roaming\\Python\\Python311\\site-packages\\pandas\\core\\arrays\\masked.py:60: UserWarning: Pandas requires version '1.3.6' or newer of 'bottleneck' (version '1.3.5' currently installed).\n",
      "  from pandas.core import (\n"
     ]
    },
    {
     "data": {
      "text/html": [
       "<div>\n",
       "<style scoped>\n",
       "    .dataframe tbody tr th:only-of-type {\n",
       "        vertical-align: middle;\n",
       "    }\n",
       "\n",
       "    .dataframe tbody tr th {\n",
       "        vertical-align: top;\n",
       "    }\n",
       "\n",
       "    .dataframe thead th {\n",
       "        text-align: right;\n",
       "    }\n",
       "</style>\n",
       "<table border=\"1\" class=\"dataframe\">\n",
       "  <thead>\n",
       "    <tr style=\"text-align: right;\">\n",
       "      <th></th>\n",
       "      <th>hash</th>\n",
       "      <th>Type 1</th>\n",
       "    </tr>\n",
       "  </thead>\n",
       "  <tbody>\n",
       "    <tr>\n",
       "      <th>0</th>\n",
       "      <td>34e2ee450212f2ecb2d3a1b96ede6586</td>\n",
       "      <td>nan</td>\n",
       "    </tr>\n",
       "    <tr>\n",
       "      <th>1</th>\n",
       "      <td>9518f93adc7f02a6ba27ad77d23f8d44</td>\n",
       "      <td>nan</td>\n",
       "    </tr>\n",
       "    <tr>\n",
       "      <th>2</th>\n",
       "      <td>ed1209850c643e3961d3b2e341db2587</td>\n",
       "      <td>nan</td>\n",
       "    </tr>\n",
       "    <tr>\n",
       "      <th>3</th>\n",
       "      <td>a22140319060e9f125d33cd53f0817ec</td>\n",
       "      <td>nan</td>\n",
       "    </tr>\n",
       "    <tr>\n",
       "      <th>4</th>\n",
       "      <td>4e2a47fb1c24c376cab178ecd3fd6c08</td>\n",
       "      <td>nan</td>\n",
       "    </tr>\n",
       "  </tbody>\n",
       "</table>\n",
       "</div>"
      ],
      "text/plain": [
       "                               hash Type 1\n",
       "0  34e2ee450212f2ecb2d3a1b96ede6586    nan\n",
       "1  9518f93adc7f02a6ba27ad77d23f8d44    nan\n",
       "2  ed1209850c643e3961d3b2e341db2587    nan\n",
       "3  a22140319060e9f125d33cd53f0817ec    nan\n",
       "4  4e2a47fb1c24c376cab178ecd3fd6c08    nan"
      ]
     },
     "execution_count": 1,
     "metadata": {},
     "output_type": "execute_result"
    }
   ],
   "source": [
    "import pandas as pd\n",
    "import numpy as np\n",
    "\n",
    "df = pd.read_csv('target_dlsu.csv')\n",
    "df = df[df['Type 1'].isnull()]\n",
    "df['Type 1'] = df['Type 1'].astype('str')\n",
    "df.head()"
   ]
  },
  {
   "cell_type": "code",
   "execution_count": 2,
   "metadata": {},
   "outputs": [],
   "source": [
    "import requests\n",
    "import time\n",
    "import json\n",
    "\n",
    "headers = {\n",
    "    \"accept\": \"application/json\",\n",
    "    \"x-apikey\": \"4e40029861266acfa34be97f8a6fda23cccf867a6bfd400c858136d8b5daadba\"\n",
    "}"
   ]
  },
  {
   "cell_type": "code",
   "execution_count": 3,
   "metadata": {},
   "outputs": [],
   "source": [
    "def countdown(t): \n",
    "    while t: \n",
    "        mins, secs = divmod(t, 60) \n",
    "        timer = '{:02d}:{:02d}'.format(mins, secs) \n",
    "        print(timer, end=\"\\r\")\n",
    "        time.sleep(1) \n",
    "        t -= 1"
   ]
  },
  {
   "cell_type": "code",
   "execution_count": 4,
   "metadata": {},
   "outputs": [
    {
     "name": "stdout",
     "output_type": "stream",
     "text": [
      "1/500: 34e2ee450212f2ecb2d3a1b96ede6586 obtained!\n",
      "Quota Exceeded!\n",
      "finished\n"
     ]
    }
   ],
   "source": [
    "for i in range(df.shape[0]):\n",
    "    url = f\"https://www.virustotal.com/api/v3/files/{df.iloc[i]['hash']}\"\n",
    "    response = requests.get(url, headers=headers)\n",
    "    if \"exceeded\"  in response.text:\n",
    "        print(\"Quota Exceeded!\")\n",
    "        break\n",
    "    else:\n",
    "        json_dict = json.loads(response.text)['data']['attributes']['last_analysis_results']\n",
    "        output = \"\"\n",
    "        for res in json_dict:\n",
    "            if str(json_dict[res]['result']) == \"None\":\n",
    "                output += \"Undetected\" + \" \"\n",
    "            else:\n",
    "                output += str(json_dict[res]['result']) + \" \"\n",
    "        df.iloc[i, 1] = str(output)\n",
    "        print(f\"{i+1}/{df.shape[0]}: {df.iloc[i]['hash']} obtained!\")\n",
    "        df.to_csv('target_tustin1_filled.csv', index=False)\n",
    "        countdown(16)\n",
    "print(\"finished\")\n",
    "    "
   ]
  }
 ],
 "metadata": {
  "kernelspec": {
   "display_name": "Python 3 (ipykernel)",
   "language": "python",
   "name": "python3"
  },
  "language_info": {
   "codemirror_mode": {
    "name": "ipython",
    "version": 3
   },
   "file_extension": ".py",
   "mimetype": "text/x-python",
   "name": "python",
   "nbconvert_exporter": "python",
   "pygments_lexer": "ipython3",
   "version": "3.11.5"
  }
 },
 "nbformat": 4,
 "nbformat_minor": 2
}
