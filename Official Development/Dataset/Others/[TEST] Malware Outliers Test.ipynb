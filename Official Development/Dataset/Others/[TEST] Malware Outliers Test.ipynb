{
 "cells": [
  {
   "cell_type": "markdown",
   "metadata": {},
   "source": [
    "# Malware Outiers Test\n",
    "\n",
    "This notebook tests model performance to determine if it is adversely affected by the existence of outliers (by quantity) among malicious samples."
   ]
  },
  {
   "cell_type": "code",
   "execution_count": 1,
   "metadata": {},
   "outputs": [
    {
     "name": "stderr",
     "output_type": "stream",
     "text": [
      "C:\\Users\\ejose\\AppData\\Roaming\\Python\\Python311\\site-packages\\pandas\\core\\arrays\\masked.py:60: UserWarning: Pandas requires version '1.3.6' or newer of 'bottleneck' (version '1.3.5' currently installed).\n",
      "  from pandas.core import (\n"
     ]
    }
   ],
   "source": [
    "import pandas as pd\n",
    "import lightgbm as lgbm\n",
    "import catboost as catb\n",
    "import sklearn.metrics as metric\n",
    "import sklearn.model_selection as select\n",
    "\n",
    "import warnings\n",
    "warnings.filterwarnings(\"ignore\")"
   ]
  },
  {
   "cell_type": "code",
   "execution_count": 2,
   "metadata": {},
   "outputs": [],
   "source": [
    "def get_indexes_catb():\n",
    "    indexes = []\n",
    "    for i in range(100):\n",
    "        indexes.append(f\"t_{i}\")\n",
    "    return indexes\n",
    "\n",
    "def get_indexes_lgbm():\n",
    "    indexes = []\n",
    "    for i in range(100):\n",
    "        indexes.append(f\"{i}\")\n",
    "    return indexes\n",
    "\n",
    "def get_lgbm(tb:bool=True):\n",
    "    if tb:\n",
    "        return lgbm.LGBMClassifier(random_state=1, n_jobs=0, verbose=-1, categorical_feature=get_indexes_lgbm(), boost_from_average=True, boosting_type='gbdt', cat_l2=10, class_weight='balanced', data_sample_strategy='goss',\n",
    "                                   device='gpu', enable_bundle=True, cpu_use_dp=False, learning_rate=0.1, max_bin=255, max_depth=5, n_estimators=500, num_leaves=16, objective='binary', tree_learner='feature')\n",
    "    return lgbm.LGBMClassifier(random_state=1, n_jobs=0, verbose=-1, categorical_feature=get_indexes_lgbm(), boost_from_average=True, boosting_type='gbdt', cat_l2=5, class_weight='balanced', data_sample_strategy='goss', device='gpu',\n",
    "                               enable_bundle=True, cpu_use_dp=False, learning_rate=0.1, max_bin=255, max_depth=5, n_estimators=1000, num_leaves=32, objective='binary', tree_learner='feature')\n",
    "\n",
    "def get_catb(tb:bool=True):\n",
    "    if tb:\n",
    "        return catb.CatBoostClassifier(random_state=1, thread_count=-1, verbose=0, cat_features=get_indexes_catb(), nan_mode='Min', one_hot_max_size=256, boosting_type='Ordered', bootstrap_type='Bayesian',\n",
    "                                       gpu_cat_features_storage='CpuPinnedMemory', grow_policy='SymmetricTree', l2_leaf_reg=1, learning_rate=0.1, max_depth=10, n_estimators=500, objective='Logloss', task_type='CPU')    \n",
    "    return catb.CatBoostClassifier(random_state=1, thread_count=-1, verbose=0, cat_features=get_indexes_catb(), nan_mode='Min', one_hot_max_size=256, boosting_type='Ordered', bootstrap_type='Bayesian', \n",
    "                                   gpu_cat_features_storage='CpuPinnedMemory', grow_policy='SymmetricTree', l2_leaf_reg=1, learning_rate=0.2, max_depth=10, n_estimators=100, objective='Logloss', task_type='CPU')\n",
    "\n",
    "def train_eval(train, test, model, model_str:str):\n",
    "    X_train = train.iloc[:,1:101]\n",
    "    X_test = test.iloc[:,1:101]\n",
    "    y_train = train['malware']\n",
    "    y_test = test['malware']\n",
    "    print(f\"Training {model_str}...\")\n",
    "    model.fit(X_train, y_train)\n",
    "    print(f\"{model_str} Results\\n\", metric.classification_report(y_test, model.predict(X_test), digits=4))"
   ]
  },
  {
   "cell_type": "markdown",
   "metadata": {},
   "source": [
    "## No False Only\n",
    "\n",
    "Dataset without falsely-labelled malicious samples only."
   ]
  },
  {
   "cell_type": "code",
   "execution_count": 3,
   "metadata": {},
   "outputs": [],
   "source": [
    "lgbm_tb = pd.read_csv('../Processed/Others/oliveira_labelled_nofalse/TB/LGBM_TB.csv', low_memory=False)\n",
    "lgbm_ib = pd.read_csv('../Processed/Others/oliveira_labelled_nofalse/IB/LGBM_IB.csv', low_memory=False)\n",
    "catb_tb = pd.read_csv('../Processed/Others/oliveira_labelled_nofalse/TB/CATB_TB.csv', low_memory=False)\n",
    "catb_ib = pd.read_csv('../Processed/Others/oliveira_labelled_nofalse/IB/CATB_IB.csv', low_memory=False)\n",
    "\n",
    "lgbm_tb_test = pd.read_csv('../Processed/Others/oliveira_labelled_nofalse/TB/LGBM_TB_Test.csv', low_memory=False)\n",
    "lgbm_ib_test = pd.read_csv('../Processed/Others/oliveira_labelled_nofalse/IB/LGBM_IB_Test.csv', low_memory=False)\n",
    "catb_tb_test = pd.read_csv('../Processed/Others/oliveira_labelled_nofalse/TB/CATB_TB_Test.csv', low_memory=False)\n",
    "catb_ib_test = pd.read_csv('../Processed/Others/oliveira_labelled_nofalse/IB/CATB_IB_Test.csv', low_memory=False)\n",
    "\n",
    "catb_tb.iloc[:,1:101] = catb_tb.iloc[:,1:101].astype('str')\n",
    "catb_tb.replace(\"nan\", \"NaN\", inplace=True)\n",
    "catb_ib.iloc[:,1:101] = catb_ib.iloc[:,1:101].astype('str')\n",
    "catb_ib.replace(\"nan\", \"NaN\", inplace=True)\n",
    "catb_tb_test.iloc[:,1:101] = catb_tb_test.iloc[:,1:101].astype('str')\n",
    "catb_tb_test.replace(\"nan\", \"NaN\", inplace=True)\n",
    "catb_ib_test.iloc[:,1:101] = catb_ib_test.iloc[:,1:101].astype('str')\n",
    "catb_ib_test.replace(\"nan\", \"NaN\", inplace=True)"
   ]
  },
  {
   "cell_type": "code",
   "execution_count": 4,
   "metadata": {},
   "outputs": [
    {
     "name": "stdout",
     "output_type": "stream",
     "text": [
      "Training LightGBM TB...\n",
      "LightGBM TB Results\n",
      "               precision    recall  f1-score   support\n",
      "\n",
      "           0     0.9390    0.6754    0.7857       114\n",
      "           1     0.9908    0.9988    0.9948      4010\n",
      "\n",
      "    accuracy                         0.9898      4124\n",
      "   macro avg     0.9649    0.8371    0.8902      4124\n",
      "weighted avg     0.9894    0.9898    0.9890      4124\n",
      "\n",
      "Training LightGBM IB...\n",
      "LightGBM IB Results\n",
      "               precision    recall  f1-score   support\n",
      "\n",
      "           0     0.9529    0.7105    0.8141       114\n",
      "           1     0.9918    0.9990    0.9954      4010\n",
      "\n",
      "    accuracy                         0.9910      4124\n",
      "   macro avg     0.9724    0.8548    0.9047      4124\n",
      "weighted avg     0.9908    0.9910    0.9904      4124\n",
      "\n",
      "Training CatBoost TB...\n",
      "CatBoost TB Results\n",
      "               precision    recall  f1-score   support\n",
      "\n",
      "           0     0.9737    0.6491    0.7789       114\n",
      "           1     0.9901    0.9995    0.9948      4010\n",
      "\n",
      "    accuracy                         0.9898      4124\n",
      "   macro avg     0.9819    0.8243    0.8869      4124\n",
      "weighted avg     0.9897    0.9898    0.9888      4124\n",
      "\n",
      "Training CatBoost IB...\n",
      "CatBoost IB Results\n",
      "               precision    recall  f1-score   support\n",
      "\n",
      "           0     0.9059    0.6754    0.7739       114\n",
      "           1     0.9908    0.9980    0.9944      4010\n",
      "\n",
      "    accuracy                         0.9891      4124\n",
      "   macro avg     0.9484    0.8367    0.8841      4124\n",
      "weighted avg     0.9885    0.9891    0.9883      4124\n",
      "\n"
     ]
    }
   ],
   "source": [
    "train_eval(lgbm_tb, lgbm_tb_test, get_lgbm(), \"LightGBM TB\")\n",
    "train_eval(lgbm_ib, lgbm_ib_test, get_lgbm(False), \"LightGBM IB\")\n",
    "train_eval(catb_tb, catb_tb_test, get_catb(), \"CatBoost TB\")\n",
    "train_eval(catb_ib, catb_ib_test, get_catb(False), \"CatBoost IB\")"
   ]
  },
  {
   "cell_type": "markdown",
   "metadata": {},
   "source": [
    "## No False and No 1% (Outliers)\n",
    "\n",
    "Dataset without falsely-labelled malicious samples **and** no outliers (by quantity). "
   ]
  },
  {
   "cell_type": "code",
   "execution_count": 5,
   "metadata": {},
   "outputs": [],
   "source": [
    "lgbm_tb = pd.read_csv('../Processed/Others/oliveira_labelled_nofalse_no1/TB/LGBM_TB.csv', low_memory=False)\n",
    "lgbm_ib = pd.read_csv('../Processed/Others/oliveira_labelled_nofalse_no1/IB/LGBM_IB.csv', low_memory=False)\n",
    "catb_tb = pd.read_csv('../Processed/Others/oliveira_labelled_nofalse_no1/TB/CATB_TB.csv', low_memory=False)\n",
    "catb_ib = pd.read_csv('../Processed/Others/oliveira_labelled_nofalse_no1/IB/CATB_IB.csv', low_memory=False)\n",
    "\n",
    "lgbm_tb_test = pd.read_csv('../Processed/Others/oliveira_labelled_nofalse_no1/TB/LGBM_TB_Test.csv', low_memory=False)\n",
    "lgbm_ib_test = pd.read_csv('../Processed/Others/oliveira_labelled_nofalse_no1/IB/LGBM_IB_Test.csv', low_memory=False)\n",
    "catb_tb_test = pd.read_csv('../Processed/Others/oliveira_labelled_nofalse_no1/TB/CATB_TB_Test.csv', low_memory=False)\n",
    "catb_ib_test = pd.read_csv('../Processed/Others/oliveira_labelled_nofalse_no1/IB/CATB_IB_Test.csv', low_memory=False)\n",
    "\n",
    "catb_tb.iloc[:,1:101] = catb_tb.iloc[:,1:101].astype('str')\n",
    "catb_tb.replace(\"nan\", \"NaN\", inplace=True)\n",
    "catb_ib.iloc[:,1:101] = catb_ib.iloc[:,1:101].astype('str')\n",
    "catb_ib.replace(\"nan\", \"NaN\", inplace=True)\n",
    "catb_tb_test.iloc[:,1:101] = catb_tb_test.iloc[:,1:101].astype('str')\n",
    "catb_tb_test.replace(\"nan\", \"NaN\", inplace=True)\n",
    "catb_ib_test.iloc[:,1:101] = catb_ib_test.iloc[:,1:101].astype('str')\n",
    "catb_ib_test.replace(\"nan\", \"NaN\", inplace=True)"
   ]
  },
  {
   "cell_type": "code",
   "execution_count": 6,
   "metadata": {},
   "outputs": [
    {
     "name": "stdout",
     "output_type": "stream",
     "text": [
      "Training LightGBM TB...\n",
      "LightGBM TB Results\n",
      "               precision    recall  f1-score   support\n",
      "\n",
      "           0     0.9559    0.6373    0.7647       102\n",
      "           1     0.9907    0.9992    0.9950      3961\n",
      "\n",
      "    accuracy                         0.9902      4063\n",
      "   macro avg     0.9733    0.8182    0.8798      4063\n",
      "weighted avg     0.9899    0.9902    0.9892      4063\n",
      "\n",
      "Training LightGBM IB...\n",
      "LightGBM IB Results\n",
      "               precision    recall  f1-score   support\n",
      "\n",
      "           0     0.9167    0.6471    0.7586       102\n",
      "           1     0.9910    0.9985    0.9947      3961\n",
      "\n",
      "    accuracy                         0.9897      4063\n",
      "   macro avg     0.9538    0.8228    0.8767      4063\n",
      "weighted avg     0.9891    0.9897    0.9888      4063\n",
      "\n",
      "Training CatBoost TB...\n",
      "CatBoost TB Results\n",
      "               precision    recall  f1-score   support\n",
      "\n",
      "           0     0.9178    0.6569    0.7657       102\n",
      "           1     0.9912    0.9985    0.9948      3961\n",
      "\n",
      "    accuracy                         0.9899      4063\n",
      "   macro avg     0.9545    0.8277    0.8803      4063\n",
      "weighted avg     0.9894    0.9899    0.9891      4063\n",
      "\n",
      "Training CatBoost IB...\n",
      "CatBoost IB Results\n",
      "               precision    recall  f1-score   support\n",
      "\n",
      "           0     0.9067    0.6667    0.7684       102\n",
      "           1     0.9915    0.9982    0.9948      3961\n",
      "\n",
      "    accuracy                         0.9899      4063\n",
      "   macro avg     0.9491    0.8324    0.8816      4063\n",
      "weighted avg     0.9893    0.9899    0.9892      4063\n",
      "\n"
     ]
    }
   ],
   "source": [
    "train_eval(lgbm_tb, lgbm_tb_test, get_lgbm(), \"LightGBM TB\")\n",
    "train_eval(lgbm_ib, lgbm_ib_test, get_lgbm(False), \"LightGBM IB\")\n",
    "train_eval(catb_tb, catb_tb_test, get_catb(), \"CatBoost TB\")\n",
    "train_eval(catb_ib, catb_ib_test, get_catb(False), \"CatBoost IB\")"
   ]
  }
 ],
 "metadata": {
  "kernelspec": {
   "display_name": "Python 3 (ipykernel)",
   "language": "python",
   "name": "python3"
  },
  "language_info": {
   "codemirror_mode": {
    "name": "ipython",
    "version": 3
   },
   "file_extension": ".py",
   "mimetype": "text/x-python",
   "name": "python",
   "nbconvert_exporter": "python",
   "pygments_lexer": "ipython3",
   "version": "3.11.5"
  }
 },
 "nbformat": 4,
 "nbformat_minor": 4
}
