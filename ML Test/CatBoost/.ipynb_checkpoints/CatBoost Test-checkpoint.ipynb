{
 "cells": [
  {
   "cell_type": "markdown",
   "id": "89b7bc85",
   "metadata": {},
   "source": [
    "# Warning\n",
    "\n",
    "CatBoost is hosted in Russia via Yandex servers. Please do access [catboost.ai](catboost.ai) with care."
   ]
  },
  {
   "cell_type": "markdown",
   "id": "226add23",
   "metadata": {},
   "source": [
    "# CatBoost Test\n",
    "\n",
    "This notebook will contain a sample use of the XGBoost library to determine feasibility in use for the study \n",
    "\n",
    "**[Evaluation and Comparison of Boosted ML Models in Behavior-Based Malware Detection]**\n",
    "\n",
    "## GPU Support\n",
    "\n",
    "CatBoost supports training on GPUs. Refer to this [link](https://catboost.ai/en/docs/features/training-on-gpu) for more information."
   ]
  },
  {
   "cell_type": "code",
   "execution_count": 1,
   "id": "1f69adb7",
   "metadata": {},
   "outputs": [],
   "source": [
    "import pandas as pd\n",
    "from sklearn.model_selection import train_test_split #For Splitting Datasets\n",
    "from sklearn import preprocessing #For LabelEncoding\n",
    "from sklearn.metrics import classification_report #For Classification Report\n",
    "from sklearn.metrics import confusion_matrix, ConfusionMatrixDisplay #For Confusion Matrix\n",
    "import matplotlib.pyplot as plt #For figure plotting.\n",
    "from sklearn.model_selection import RandomizedSearchCV #For automated hyperparameter tuning; Would be better if it was GridSearchCV"
   ]
  },
  {
   "cell_type": "markdown",
   "id": "0d655c9f",
   "metadata": {},
   "source": [
    "# 1. Installation\n",
    "\n",
    "*This test will only use Python version of XGBoost. There are two ways it could be installed which are through Python's pip or Conda (via Anaconda). For this test we'll be using Python via Anaconda instead.*\n",
    "\n",
    "1. Open your Anaconda Terminal\n",
    "2. Enter `pip install catboost`"
   ]
  },
  {
   "cell_type": "markdown",
   "id": "67ab2a59",
   "metadata": {},
   "source": [
    "# 2. Verifying Library Installation\n",
    "\n",
    "*As long as it does not show an error upon importing, it means that it works*"
   ]
  },
  {
   "cell_type": "code",
   "execution_count": 2,
   "id": "54e61cf4",
   "metadata": {},
   "outputs": [],
   "source": [
    "#Verifying installation of XGBoost\n",
    "import catboost as catb"
   ]
  },
  {
   "cell_type": "markdown",
   "id": "43471aee",
   "metadata": {},
   "source": [
    "# 3. Sample Dataset\n",
    "\n",
    "*For this sample, the [crops dataset](https://www.kaggle.com/datasets/atharvaingle/crop-recommendation-dataset) similar in [this notebook](https://github.com/jm55/CSINTSY-MCO-5/blob/main/Machine%20Learning/notebook-v2.2.ipynb) will be ued in this demo.*"
   ]
  },
  {
   "cell_type": "code",
   "execution_count": 3,
   "id": "278af6e3",
   "metadata": {
    "scrolled": true
   },
   "outputs": [
    {
     "data": {
      "text/html": [
       "<div>\n",
       "<style scoped>\n",
       "    .dataframe tbody tr th:only-of-type {\n",
       "        vertical-align: middle;\n",
       "    }\n",
       "\n",
       "    .dataframe tbody tr th {\n",
       "        vertical-align: top;\n",
       "    }\n",
       "\n",
       "    .dataframe thead th {\n",
       "        text-align: right;\n",
       "    }\n",
       "</style>\n",
       "<table border=\"1\" class=\"dataframe\">\n",
       "  <thead>\n",
       "    <tr style=\"text-align: right;\">\n",
       "      <th></th>\n",
       "      <th>nitrogen</th>\n",
       "      <th>phosphorus</th>\n",
       "      <th>potassium</th>\n",
       "      <th>temperature</th>\n",
       "      <th>humidity</th>\n",
       "      <th>ph</th>\n",
       "      <th>rainfall</th>\n",
       "      <th>label</th>\n",
       "    </tr>\n",
       "  </thead>\n",
       "  <tbody>\n",
       "    <tr>\n",
       "      <th>0</th>\n",
       "      <td>90</td>\n",
       "      <td>42</td>\n",
       "      <td>43</td>\n",
       "      <td>20.879744</td>\n",
       "      <td>82.002744</td>\n",
       "      <td>6.502985</td>\n",
       "      <td>202.935536</td>\n",
       "      <td>rice</td>\n",
       "    </tr>\n",
       "    <tr>\n",
       "      <th>1</th>\n",
       "      <td>85</td>\n",
       "      <td>58</td>\n",
       "      <td>41</td>\n",
       "      <td>21.770462</td>\n",
       "      <td>80.319644</td>\n",
       "      <td>7.038096</td>\n",
       "      <td>226.655537</td>\n",
       "      <td>rice</td>\n",
       "    </tr>\n",
       "    <tr>\n",
       "      <th>2</th>\n",
       "      <td>60</td>\n",
       "      <td>55</td>\n",
       "      <td>44</td>\n",
       "      <td>23.004459</td>\n",
       "      <td>82.320763</td>\n",
       "      <td>7.840207</td>\n",
       "      <td>263.964248</td>\n",
       "      <td>rice</td>\n",
       "    </tr>\n",
       "    <tr>\n",
       "      <th>3</th>\n",
       "      <td>74</td>\n",
       "      <td>35</td>\n",
       "      <td>40</td>\n",
       "      <td>26.491096</td>\n",
       "      <td>80.158363</td>\n",
       "      <td>6.980401</td>\n",
       "      <td>242.864034</td>\n",
       "      <td>rice</td>\n",
       "    </tr>\n",
       "    <tr>\n",
       "      <th>4</th>\n",
       "      <td>78</td>\n",
       "      <td>42</td>\n",
       "      <td>42</td>\n",
       "      <td>20.130175</td>\n",
       "      <td>81.604873</td>\n",
       "      <td>7.628473</td>\n",
       "      <td>262.717340</td>\n",
       "      <td>rice</td>\n",
       "    </tr>\n",
       "    <tr>\n",
       "      <th>...</th>\n",
       "      <td>...</td>\n",
       "      <td>...</td>\n",
       "      <td>...</td>\n",
       "      <td>...</td>\n",
       "      <td>...</td>\n",
       "      <td>...</td>\n",
       "      <td>...</td>\n",
       "      <td>...</td>\n",
       "    </tr>\n",
       "    <tr>\n",
       "      <th>2195</th>\n",
       "      <td>107</td>\n",
       "      <td>34</td>\n",
       "      <td>32</td>\n",
       "      <td>26.774637</td>\n",
       "      <td>66.413269</td>\n",
       "      <td>6.780064</td>\n",
       "      <td>177.774507</td>\n",
       "      <td>coffee</td>\n",
       "    </tr>\n",
       "    <tr>\n",
       "      <th>2196</th>\n",
       "      <td>99</td>\n",
       "      <td>15</td>\n",
       "      <td>27</td>\n",
       "      <td>27.417112</td>\n",
       "      <td>56.636362</td>\n",
       "      <td>6.086922</td>\n",
       "      <td>127.924610</td>\n",
       "      <td>coffee</td>\n",
       "    </tr>\n",
       "    <tr>\n",
       "      <th>2197</th>\n",
       "      <td>118</td>\n",
       "      <td>33</td>\n",
       "      <td>30</td>\n",
       "      <td>24.131797</td>\n",
       "      <td>67.225123</td>\n",
       "      <td>6.362608</td>\n",
       "      <td>173.322839</td>\n",
       "      <td>coffee</td>\n",
       "    </tr>\n",
       "    <tr>\n",
       "      <th>2198</th>\n",
       "      <td>117</td>\n",
       "      <td>32</td>\n",
       "      <td>34</td>\n",
       "      <td>26.272418</td>\n",
       "      <td>52.127394</td>\n",
       "      <td>6.758793</td>\n",
       "      <td>127.175293</td>\n",
       "      <td>coffee</td>\n",
       "    </tr>\n",
       "    <tr>\n",
       "      <th>2199</th>\n",
       "      <td>104</td>\n",
       "      <td>18</td>\n",
       "      <td>30</td>\n",
       "      <td>23.603016</td>\n",
       "      <td>60.396475</td>\n",
       "      <td>6.779833</td>\n",
       "      <td>140.937041</td>\n",
       "      <td>coffee</td>\n",
       "    </tr>\n",
       "  </tbody>\n",
       "</table>\n",
       "<p>2200 rows × 8 columns</p>\n",
       "</div>"
      ],
      "text/plain": [
       "      nitrogen  phosphorus  potassium  temperature   humidity        ph  \\\n",
       "0           90          42         43    20.879744  82.002744  6.502985   \n",
       "1           85          58         41    21.770462  80.319644  7.038096   \n",
       "2           60          55         44    23.004459  82.320763  7.840207   \n",
       "3           74          35         40    26.491096  80.158363  6.980401   \n",
       "4           78          42         42    20.130175  81.604873  7.628473   \n",
       "...        ...         ...        ...          ...        ...       ...   \n",
       "2195       107          34         32    26.774637  66.413269  6.780064   \n",
       "2196        99          15         27    27.417112  56.636362  6.086922   \n",
       "2197       118          33         30    24.131797  67.225123  6.362608   \n",
       "2198       117          32         34    26.272418  52.127394  6.758793   \n",
       "2199       104          18         30    23.603016  60.396475  6.779833   \n",
       "\n",
       "        rainfall   label  \n",
       "0     202.935536    rice  \n",
       "1     226.655537    rice  \n",
       "2     263.964248    rice  \n",
       "3     242.864034    rice  \n",
       "4     262.717340    rice  \n",
       "...          ...     ...  \n",
       "2195  177.774507  coffee  \n",
       "2196  127.924610  coffee  \n",
       "2197  173.322839  coffee  \n",
       "2198  127.175293  coffee  \n",
       "2199  140.937041  coffee  \n",
       "\n",
       "[2200 rows x 8 columns]"
      ]
     },
     "execution_count": 3,
     "metadata": {},
     "output_type": "execute_result"
    }
   ],
   "source": [
    "crops_df = pd.read_csv('crops_dataset.csv')\n",
    "crops_df"
   ]
  },
  {
   "cell_type": "code",
   "execution_count": 4,
   "id": "2fd994d1",
   "metadata": {
    "scrolled": true
   },
   "outputs": [
    {
     "data": {
      "text/plain": [
       "22"
      ]
     },
     "execution_count": 4,
     "metadata": {},
     "output_type": "execute_result"
    }
   ],
   "source": [
    "len(crops_df['label'].unique())"
   ]
  },
  {
   "cell_type": "markdown",
   "id": "fd4e3754",
   "metadata": {},
   "source": [
    "## Reminder\n",
    "\n",
    "Note that the dataset is a multi-class dataset which means that the output is not simply 0 or 1 like the case of the official thesis document. Hence, there will be some differences in the real study."
   ]
  },
  {
   "cell_type": "markdown",
   "id": "9f5a6fab",
   "metadata": {},
   "source": [
    "# 4. Implementing XGBoost Classifier\n",
    "\n",
    "*This demonstrates the use of the SKLearn like implementation/use of XGBoost with the other parameters as well as other related functions and properties is as shown in this [link](https://xgboost.readthedocs.io/en/stable/python/python_api.html#xgboost.XGBClassifier)*.\n",
    "\n",
    "Sample Complete Parameters (not all are included in the example):\n",
    "\n",
    "`catb.CatBoostClassifier(iterations=None, learning_rate=None, depth=None, l2_leaf_reg=None, model_size_reg=None, rsm=None, loss_function=None, border_count=None, feature_border_type=None, per_float_feature_quantization=None, input_borders=None, output_borders=None, fold_permutation_block=None, od_pval=None, od_wait=None, od_type=None, nan_mode=None, counter_calc_method=None, leaf_estimation_iterations=None, leaf_estimation_method=None, thread_count=None, random_seed=None, use_best_model=None, verbose=None, logging_level=None, metric_period=None, ctr_leaf_count_limit=None, store_all_simple_ctr=None, max_ctr_complexity=None, has_time=None, allow_const_label=None, classes_count=None, class_weights=None, auto_class_weights=None, one_hot_max_size=None, random_strength=None, name=None, ignored_features=None, train_dir=None, custom_loss=None, custom_metric=None, eval_metric=None, bagging_temperature=None, save_snapshot=None, snapshot_file=None, snapshot_interval=None, fold_len_multiplier=None, used_ram_limit=None, gpu_ram_part=None, allow_writing_files=None, final_ctr_computation_mode=None, approx_on_full_history=None, boosting_type=None, simple_ctr=None, combinations_ctr=None, per_feature_ctr=None, task_type=None, device_config=None, devices=None, bootstrap_type=None, subsample=None, sampling_unit=None, dev_score_calc_obj_block_size=None, max_depth=None, n_estimators=None, num_boost_round=None, num_trees=None, colsample_bylevel=None, random_state=None, reg_lambda=None, objective=None, eta=None, max_bin=None, scale_pos_weight=None, gpu_cat_features_storage=None, data_partition=None metadata=None, early_stopping_rounds=None, cat_features=None, grow_policy=None, min_data_in_leaf=None, min_child_samples=None, max_leaves=None, num_leaves=None, score_function=None, leaf_estimation_backtracking=None, ctr_history_unit=None, monotone_constraints=None, feature_weights=None, penalties_coefficient=None, first_feature_use_penalties=None, model_shrink_rate=None, model_shrink_mode=None, langevin=None, diffusion_temperature=None, posterior_sampling=None, boost_from_average=None, text_features=None, tokenizers=None, dictionaries=None, feature_calcers=None, text_processing=None, fixed_binary_splits=None)`"
   ]
  },
  {
   "cell_type": "markdown",
   "id": "b713c883",
   "metadata": {},
   "source": [
    "## 4.1. Loading Classifier"
   ]
  },
  {
   "cell_type": "code",
   "execution_count": 5,
   "id": "356679bc",
   "metadata": {
    "scrolled": true
   },
   "outputs": [],
   "source": [
    "#Loading XGBClassifier as an object\n",
    "catbClassifier = catb.CatBoostClassifier()"
   ]
  },
  {
   "cell_type": "markdown",
   "id": "3952539d",
   "metadata": {},
   "source": [
    "## 4.2. Splitting Datasets to Train and Test Datasets"
   ]
  },
  {
   "cell_type": "code",
   "execution_count": 6,
   "id": "c32f0a54",
   "metadata": {
    "scrolled": true
   },
   "outputs": [],
   "source": [
    "#Splitting datasets to train and test datasets\n",
    "features = crops_df.columns.to_list()\n",
    "features = features[0:len(features)-2]\n",
    "\n",
    "le = preprocessing.LabelEncoder()\n",
    "labels = le.fit_transform(crops_df['label']) #Converting t\n",
    "\n",
    "X,y = crops_df[features],labels\n",
    "X_train, X_test, y_train, y_test = train_test_split(X, y, test_size=.2)"
   ]
  },
  {
   "cell_type": "markdown",
   "id": "90ace128",
   "metadata": {},
   "source": [
    "## 4.3. Loading Hyperparameter Tuning\n",
    "\n",
    "Parameters: https://catboost.ai/en/docs/concepts/python-reference_catboostclassifier\n",
    "\n",
    "Note that the hyperparameter values shown in the tuning choices here are not complete as some values were ommited due to errors or to improve tuning speed relative to the available hardware. \n",
    "\n",
    "Booster `'dart'` may be better performing but at the extreme cost of time as tests suggests that it runs at ~30mins each iteration during RandomizedSearchCV, hence it was removed on this demo."
   ]
  },
  {
   "cell_type": "code",
   "execution_count": null,
   "id": "b4e930a6",
   "metadata": {
    "scrolled": true
   },
   "outputs": [
    {
     "name": "stdout",
     "output_type": "stream",
     "text": [
      "Fitting 3 folds for each of 10 candidates, totalling 30 fits\n"
     ]
    }
   ],
   "source": [
    "param = {'sampling_frequency':['PerTree','PerTreeLevel'], 'learning_rate': [0.3], \n",
    "         'thread_count':[-1], 'classes_count':[22], 'grow_policy':['SymmetricTree','Depthwise','Lossguide']}\n",
    "\n",
    "tuner = RandomizedSearchCV(catbClassifier, param, verbose=2, n_jobs=2, cv=3, refit=True, error_score=0, random_state=1)\n",
    "tuner.fit(X_train,y_train)\n",
    "print(\"Best Score:\", tuner.best_score_)\n",
    "print(\"Best Params:\", tuner.best_params_)"
   ]
  },
  {
   "cell_type": "markdown",
   "id": "6ddcb3a1",
   "metadata": {},
   "source": [
    "## 4.4. Loading Tuned Parameters to Model"
   ]
  },
  {
   "cell_type": "code",
   "execution_count": null,
   "id": "eb2522c7",
   "metadata": {
    "scrolled": true
   },
   "outputs": [],
   "source": [
    "#Reloading model with better parameters\n",
    "catbClassifier = catb.CatBoostClassifier(**tuner.best_params_)\n",
    "\n",
    "#Fitting/Training model\n",
    "catbClassifier.fit(X_train, y_train)"
   ]
  },
  {
   "cell_type": "markdown",
   "id": "de6616df",
   "metadata": {},
   "source": [
    "## 4.5. Results"
   ]
  },
  {
   "cell_type": "code",
   "execution_count": null,
   "id": "c4bd1237",
   "metadata": {
    "scrolled": true
   },
   "outputs": [],
   "source": [
    "#Testing Predictions\n",
    "y_pred = catbClassifier.predict(X_test)\n",
    "\n",
    "#Create confusion matrix\n",
    "catb_cm = confusion_matrix(y_test, y_pred)\n",
    "disp = ConfusionMatrixDisplay(confusion_matrix=catb_cm)\n",
    "disp.plot()\n",
    "plt.show()\n",
    "\n",
    "#Converting LabelEncoded to String Labels\n",
    "y_pred_str = le.inverse_transform(y_pred)\n",
    "y_test_str = le.inverse_transform(y_test)\n",
    "\n",
    "#Create classification report\n",
    "catb_cr = classification_report(y_test_str, y_pred_str, digits=4)\n",
    "print(catb_cr)"
   ]
  },
  {
   "cell_type": "markdown",
   "id": "a702bc4e",
   "metadata": {},
   "source": [
    "# 5. Saving and Loading Model"
   ]
  },
  {
   "cell_type": "code",
   "execution_count": null,
   "id": "0e937ac8",
   "metadata": {},
   "outputs": [],
   "source": [
    "from joblib import dump, load\n",
    "\n",
    "catb.save_model(\"saved.json\", format=\"json\")\n",
    "\n",
    "loaded_model = catb.load_model(\"saved.json\", format='json')\n",
    "\n",
    "y_pred = loaded_model.predict(X_test)\n",
    "\n",
    "#Converting LabelEncoded to String Labels\n",
    "y_pred_str = le.inverse_transform(y_pred)\n",
    "y_test_str = le.inverse_transform(y_test)\n",
    "\n",
    "#Create classification report\n",
    "lgbm_cr = classification_report(y_test_str, y_pred_str, digits=4)\n",
    "print(lgbm_cr)"
   ]
  }
 ],
 "metadata": {
  "kernelspec": {
   "display_name": "Python 3 (ipykernel)",
   "language": "python",
   "name": "python3"
  },
  "language_info": {
   "codemirror_mode": {
    "name": "ipython",
    "version": 3
   },
   "file_extension": ".py",
   "mimetype": "text/x-python",
   "name": "python",
   "nbconvert_exporter": "python",
   "pygments_lexer": "ipython3",
   "version": "3.11.5"
  }
 },
 "nbformat": 4,
 "nbformat_minor": 5
}
