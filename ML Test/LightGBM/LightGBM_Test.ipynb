{
 "cells": [
  {
   "cell_type": "markdown",
   "id": "226add23",
   "metadata": {},
   "source": [
    "# XGBoost Test\n",
    "\n",
    "This notebook will contain a sample use of the XGBoost library to determine feasibility in use for the study \n",
    "\n",
    "**[Evaluation and Comparison of Boosted ML Models in Behavior-Based Malware Detection]**\n",
    "\n",
    "## GPU Support\n",
    "\n",
    "XGBoost supports GPU accelerated computing albeit it (the library) must be built/compiled specifically to run as shown in these links.\n",
    "\n",
    "- [Build GPU version (OpenCL; Linux/Win)](https://lightgbm.readthedocs.io/en/stable/Installation-Guide.html#build-gpu-version)\n",
    "- [Build CUDA version (Nvidia GPUs; Linux)](https://lightgbm.readthedocs.io/en/stable/Installation-Guide.html#build-cuda-version)\n",
    "\n",
    "## Fun Fact\n",
    "Despite being open-source, it turns out that LightGBM was originally made by Microsoft in comparison's to XGBoost's true open-source origin (i.e., community contributors)."
   ]
  },
  {
   "cell_type": "code",
   "execution_count": 1,
   "id": "1f69adb7",
   "metadata": {},
   "outputs": [],
   "source": [
    "import pandas as pd\n",
    "from sklearn.model_selection import train_test_split #For Splitting Datasets\n",
    "from sklearn import preprocessing #For LabelEncoding\n",
    "from sklearn.metrics import classification_report #For Classification Report\n",
    "from sklearn.metrics import confusion_matrix, ConfusionMatrixDisplay #For Confusion Matrix\n",
    "import matplotlib.pyplot as plt #For figure plotting.\n",
    "from sklearn.model_selection import RandomizedSearchCV #For automated hyperparameter tuning; Would be better if it was GridSearchCV"
   ]
  },
  {
   "cell_type": "markdown",
   "id": "0d655c9f",
   "metadata": {},
   "source": [
    "# 1. Installation\n",
    "\n",
    "*This test will only use Python version of XGBoost. There are two ways it could be installed which are through Python's pip or Conda (via Anaconda). For this test we'll be using Python via Anaconda instead.*\n",
    "\n",
    "## 1.1. via Python (used for this demo)\n",
    "\n",
    "1. Open this link [XGBoost Install for Python](https://xgboost.readthedocs.io/en/stable/install.html#python)\n",
    "2. Open your Anaconda Terminal\n",
    "3. Enter `pip install lightgbm` (Note that this is only for CPU XGBoost).\n",
    "\n",
    "## 1.2. via Others\n",
    "1. Refer to this [link](https://lightgbm.readthedocs.io/en/stable/Installation-Guide.html) for more information."
   ]
  },
  {
   "cell_type": "markdown",
   "id": "67ab2a59",
   "metadata": {},
   "source": [
    "# 2. Verifying Library Installation\n",
    "\n",
    "*As long as it does not show an error upon importing, it means that it works*"
   ]
  },
  {
   "cell_type": "code",
   "execution_count": 2,
   "id": "54e61cf4",
   "metadata": {},
   "outputs": [],
   "source": [
    "#Verifying installation of LightGBM\n",
    "import lightgbm as lgbm"
   ]
  },
  {
   "cell_type": "markdown",
   "id": "43471aee",
   "metadata": {},
   "source": [
    "# 3. Sample Dataset\n",
    "\n",
    "*For this sample, the [crops dataset](https://www.kaggle.com/datasets/atharvaingle/crop-recommendation-dataset) similar in [this notebook](https://github.com/jm55/CSINTSY-MCO-5/blob/main/Machine%20Learning/notebook-v2.2.ipynb) will be ued in this demo.*"
   ]
  },
  {
   "cell_type": "code",
   "execution_count": 3,
   "id": "278af6e3",
   "metadata": {},
   "outputs": [
    {
     "data": {
      "text/html": [
       "<div>\n",
       "<style scoped>\n",
       "    .dataframe tbody tr th:only-of-type {\n",
       "        vertical-align: middle;\n",
       "    }\n",
       "\n",
       "    .dataframe tbody tr th {\n",
       "        vertical-align: top;\n",
       "    }\n",
       "\n",
       "    .dataframe thead th {\n",
       "        text-align: right;\n",
       "    }\n",
       "</style>\n",
       "<table border=\"1\" class=\"dataframe\">\n",
       "  <thead>\n",
       "    <tr style=\"text-align: right;\">\n",
       "      <th></th>\n",
       "      <th>nitrogen</th>\n",
       "      <th>phosphorus</th>\n",
       "      <th>potassium</th>\n",
       "      <th>temperature</th>\n",
       "      <th>humidity</th>\n",
       "      <th>ph</th>\n",
       "      <th>rainfall</th>\n",
       "      <th>label</th>\n",
       "    </tr>\n",
       "  </thead>\n",
       "  <tbody>\n",
       "    <tr>\n",
       "      <th>0</th>\n",
       "      <td>90</td>\n",
       "      <td>42</td>\n",
       "      <td>43</td>\n",
       "      <td>20.879744</td>\n",
       "      <td>82.002744</td>\n",
       "      <td>6.502985</td>\n",
       "      <td>202.935536</td>\n",
       "      <td>rice</td>\n",
       "    </tr>\n",
       "    <tr>\n",
       "      <th>1</th>\n",
       "      <td>85</td>\n",
       "      <td>58</td>\n",
       "      <td>41</td>\n",
       "      <td>21.770462</td>\n",
       "      <td>80.319644</td>\n",
       "      <td>7.038096</td>\n",
       "      <td>226.655537</td>\n",
       "      <td>rice</td>\n",
       "    </tr>\n",
       "    <tr>\n",
       "      <th>2</th>\n",
       "      <td>60</td>\n",
       "      <td>55</td>\n",
       "      <td>44</td>\n",
       "      <td>23.004459</td>\n",
       "      <td>82.320763</td>\n",
       "      <td>7.840207</td>\n",
       "      <td>263.964248</td>\n",
       "      <td>rice</td>\n",
       "    </tr>\n",
       "    <tr>\n",
       "      <th>3</th>\n",
       "      <td>74</td>\n",
       "      <td>35</td>\n",
       "      <td>40</td>\n",
       "      <td>26.491096</td>\n",
       "      <td>80.158363</td>\n",
       "      <td>6.980401</td>\n",
       "      <td>242.864034</td>\n",
       "      <td>rice</td>\n",
       "    </tr>\n",
       "    <tr>\n",
       "      <th>4</th>\n",
       "      <td>78</td>\n",
       "      <td>42</td>\n",
       "      <td>42</td>\n",
       "      <td>20.130175</td>\n",
       "      <td>81.604873</td>\n",
       "      <td>7.628473</td>\n",
       "      <td>262.717340</td>\n",
       "      <td>rice</td>\n",
       "    </tr>\n",
       "    <tr>\n",
       "      <th>...</th>\n",
       "      <td>...</td>\n",
       "      <td>...</td>\n",
       "      <td>...</td>\n",
       "      <td>...</td>\n",
       "      <td>...</td>\n",
       "      <td>...</td>\n",
       "      <td>...</td>\n",
       "      <td>...</td>\n",
       "    </tr>\n",
       "    <tr>\n",
       "      <th>2195</th>\n",
       "      <td>107</td>\n",
       "      <td>34</td>\n",
       "      <td>32</td>\n",
       "      <td>26.774637</td>\n",
       "      <td>66.413269</td>\n",
       "      <td>6.780064</td>\n",
       "      <td>177.774507</td>\n",
       "      <td>coffee</td>\n",
       "    </tr>\n",
       "    <tr>\n",
       "      <th>2196</th>\n",
       "      <td>99</td>\n",
       "      <td>15</td>\n",
       "      <td>27</td>\n",
       "      <td>27.417112</td>\n",
       "      <td>56.636362</td>\n",
       "      <td>6.086922</td>\n",
       "      <td>127.924610</td>\n",
       "      <td>coffee</td>\n",
       "    </tr>\n",
       "    <tr>\n",
       "      <th>2197</th>\n",
       "      <td>118</td>\n",
       "      <td>33</td>\n",
       "      <td>30</td>\n",
       "      <td>24.131797</td>\n",
       "      <td>67.225123</td>\n",
       "      <td>6.362608</td>\n",
       "      <td>173.322839</td>\n",
       "      <td>coffee</td>\n",
       "    </tr>\n",
       "    <tr>\n",
       "      <th>2198</th>\n",
       "      <td>117</td>\n",
       "      <td>32</td>\n",
       "      <td>34</td>\n",
       "      <td>26.272418</td>\n",
       "      <td>52.127394</td>\n",
       "      <td>6.758793</td>\n",
       "      <td>127.175293</td>\n",
       "      <td>coffee</td>\n",
       "    </tr>\n",
       "    <tr>\n",
       "      <th>2199</th>\n",
       "      <td>104</td>\n",
       "      <td>18</td>\n",
       "      <td>30</td>\n",
       "      <td>23.603016</td>\n",
       "      <td>60.396475</td>\n",
       "      <td>6.779833</td>\n",
       "      <td>140.937041</td>\n",
       "      <td>coffee</td>\n",
       "    </tr>\n",
       "  </tbody>\n",
       "</table>\n",
       "<p>2200 rows × 8 columns</p>\n",
       "</div>"
      ],
      "text/plain": [
       "      nitrogen  phosphorus  potassium  temperature   humidity        ph  \\\n",
       "0           90          42         43    20.879744  82.002744  6.502985   \n",
       "1           85          58         41    21.770462  80.319644  7.038096   \n",
       "2           60          55         44    23.004459  82.320763  7.840207   \n",
       "3           74          35         40    26.491096  80.158363  6.980401   \n",
       "4           78          42         42    20.130175  81.604873  7.628473   \n",
       "...        ...         ...        ...          ...        ...       ...   \n",
       "2195       107          34         32    26.774637  66.413269  6.780064   \n",
       "2196        99          15         27    27.417112  56.636362  6.086922   \n",
       "2197       118          33         30    24.131797  67.225123  6.362608   \n",
       "2198       117          32         34    26.272418  52.127394  6.758793   \n",
       "2199       104          18         30    23.603016  60.396475  6.779833   \n",
       "\n",
       "        rainfall   label  \n",
       "0     202.935536    rice  \n",
       "1     226.655537    rice  \n",
       "2     263.964248    rice  \n",
       "3     242.864034    rice  \n",
       "4     262.717340    rice  \n",
       "...          ...     ...  \n",
       "2195  177.774507  coffee  \n",
       "2196  127.924610  coffee  \n",
       "2197  173.322839  coffee  \n",
       "2198  127.175293  coffee  \n",
       "2199  140.937041  coffee  \n",
       "\n",
       "[2200 rows x 8 columns]"
      ]
     },
     "execution_count": 3,
     "metadata": {},
     "output_type": "execute_result"
    }
   ],
   "source": [
    "crops_df = pd.read_csv('crops_dataset.csv')\n",
    "crops_df"
   ]
  },
  {
   "cell_type": "markdown",
   "id": "fd4e3754",
   "metadata": {},
   "source": [
    "## Reminder\n",
    "\n",
    "Note that the dataset is a multi-class dataset which means that the output is not simply 0 or 1 like the case of the official thesis document. Hence, there will be some differences in the real study."
   ]
  },
  {
   "cell_type": "markdown",
   "id": "9f5a6fab",
   "metadata": {},
   "source": [
    "# 4. Implementing LightGBM Classifier\n",
    "\n",
    "*This demonstrates the use of the SKLearn like implementation/use of LightGBM with the other parameters as well as other related functions and properties is as shown in this [link](https://lightgbm.readthedocs.io/en/stable/pythonapi/lightgbm.LGBMClassifier.html)*.\n",
    "\n",
    "Sample Complete Parameters (not all are included in the example):\n",
    "\n",
    "`lgbm.LGBMClassifier(boosting_type='gbdt', num_leaves=31, max_depth=-1, learning_rate=0.1, n_estimators=100, subsample_for_bin=200000, objective=None, class_weight=None, min_split_gain=0.0, min_child_weight=0.001, min_child_samples=20, subsample=1.0, subsample_freq=0, colsample_bytree=1.0, reg_alpha=0.0, reg_lambda=0.0, random_state=None, n_jobs=None, importance_type='split', **kwargs)`"
   ]
  },
  {
   "cell_type": "markdown",
   "id": "b713c883",
   "metadata": {},
   "source": [
    "## 4.1. Loading Classifier"
   ]
  },
  {
   "cell_type": "code",
   "execution_count": 4,
   "id": "356679bc",
   "metadata": {
    "scrolled": true
   },
   "outputs": [],
   "source": [
    "#Loading XGBClassifier as an object\n",
    "lgbmclassifier = lgbm.LGBMClassifier()"
   ]
  },
  {
   "cell_type": "markdown",
   "id": "3952539d",
   "metadata": {},
   "source": [
    "## 4.2. Splitting Datasets to Train and Test Datasets"
   ]
  },
  {
   "cell_type": "code",
   "execution_count": 5,
   "id": "c32f0a54",
   "metadata": {
    "scrolled": true
   },
   "outputs": [],
   "source": [
    "#Splitting datasets to train and test datasets\n",
    "features = crops_df.columns.to_list()\n",
    "features = features[0:len(features)-2]\n",
    "\n",
    "le = preprocessing.LabelEncoder()\n",
    "labels = le.fit_transform(crops_df['label']) #Converting t\n",
    "\n",
    "X,y = crops_df[features],labels\n",
    "X_train, X_test, y_train, y_test = train_test_split(X, y, test_size=.2)"
   ]
  },
  {
   "cell_type": "markdown",
   "id": "90ace128",
   "metadata": {},
   "source": [
    "## 4.3. Loading Hyperparameter Tuning\n",
    "\n",
    "Refer to [this](https://xgboost.readthedocs.io/en/stable/parameter.html) in relation to [this](https://xgboost.readthedocs.io/en/stable/python/python_api.html#xgboost.XGBClassifier).\n",
    "\n",
    "Note that the hyperparameter values shown in the tuning choices here are not complete as some values were ommited due to errors or to improve tuning speed relative to the available hardware. \n",
    "\n",
    "Booster `'dart'` may be better performing but at the extreme cost of time as tests suggests that it runs at ~30mins each iteration during RandomizedSearchCV, hence it was removed on this demo."
   ]
  },
  {
   "cell_type": "code",
   "execution_count": 6,
   "id": "b4e930a6",
   "metadata": {
    "scrolled": false
   },
   "outputs": [
    {
     "name": "stderr",
     "output_type": "stream",
     "text": [
      "C:\\Users\\ejose\\anaconda3\\lib\\site-packages\\sklearn\\model_selection\\_search.py:305: UserWarning: The total space of parameters 4 is smaller than n_iter=10. Running 4 iterations. For exhaustive searches, use GridSearchCV.\n",
      "  warnings.warn(\n"
     ]
    },
    {
     "name": "stdout",
     "output_type": "stream",
     "text": [
      "Fitting 5 folds for each of 4 candidates, totalling 20 fits\n",
      "Best Score: 0.9585227272727274\n",
      "Best Params: {'random_state': 1, 'n_jobs': -1, 'importance_type': 'split', 'class_weight': None}\n"
     ]
    }
   ],
   "source": [
    "param = {'class_weight':[None,'balanced'], 'random_state':[1], 'n_jobs':[-1], 'importance_type':['split','gain']}\n",
    "\n",
    "tuner = RandomizedSearchCV(lgbmclassifier, param, verbose=2, n_jobs=2, cv=5, refit=True, error_score=0, random_state=1)\n",
    "tuner.fit(X_train,y_train)\n",
    "print(\"Best Score:\", tuner.best_score_)\n",
    "print(\"Best Params:\", tuner.best_params_)"
   ]
  },
  {
   "cell_type": "markdown",
   "id": "6ddcb3a1",
   "metadata": {},
   "source": [
    "## 4.4. Loading Tuned Parameters to Model"
   ]
  },
  {
   "cell_type": "code",
   "execution_count": 7,
   "id": "eb2522c7",
   "metadata": {
    "scrolled": true
   },
   "outputs": [
    {
     "data": {
      "text/html": [
       "<style>#sk-container-id-1 {color: black;background-color: white;}#sk-container-id-1 pre{padding: 0;}#sk-container-id-1 div.sk-toggleable {background-color: white;}#sk-container-id-1 label.sk-toggleable__label {cursor: pointer;display: block;width: 100%;margin-bottom: 0;padding: 0.3em;box-sizing: border-box;text-align: center;}#sk-container-id-1 label.sk-toggleable__label-arrow:before {content: \"▸\";float: left;margin-right: 0.25em;color: #696969;}#sk-container-id-1 label.sk-toggleable__label-arrow:hover:before {color: black;}#sk-container-id-1 div.sk-estimator:hover label.sk-toggleable__label-arrow:before {color: black;}#sk-container-id-1 div.sk-toggleable__content {max-height: 0;max-width: 0;overflow: hidden;text-align: left;background-color: #f0f8ff;}#sk-container-id-1 div.sk-toggleable__content pre {margin: 0.2em;color: black;border-radius: 0.25em;background-color: #f0f8ff;}#sk-container-id-1 input.sk-toggleable__control:checked~div.sk-toggleable__content {max-height: 200px;max-width: 100%;overflow: auto;}#sk-container-id-1 input.sk-toggleable__control:checked~label.sk-toggleable__label-arrow:before {content: \"▾\";}#sk-container-id-1 div.sk-estimator input.sk-toggleable__control:checked~label.sk-toggleable__label {background-color: #d4ebff;}#sk-container-id-1 div.sk-label input.sk-toggleable__control:checked~label.sk-toggleable__label {background-color: #d4ebff;}#sk-container-id-1 input.sk-hidden--visually {border: 0;clip: rect(1px 1px 1px 1px);clip: rect(1px, 1px, 1px, 1px);height: 1px;margin: -1px;overflow: hidden;padding: 0;position: absolute;width: 1px;}#sk-container-id-1 div.sk-estimator {font-family: monospace;background-color: #f0f8ff;border: 1px dotted black;border-radius: 0.25em;box-sizing: border-box;margin-bottom: 0.5em;}#sk-container-id-1 div.sk-estimator:hover {background-color: #d4ebff;}#sk-container-id-1 div.sk-parallel-item::after {content: \"\";width: 100%;border-bottom: 1px solid gray;flex-grow: 1;}#sk-container-id-1 div.sk-label:hover label.sk-toggleable__label {background-color: #d4ebff;}#sk-container-id-1 div.sk-serial::before {content: \"\";position: absolute;border-left: 1px solid gray;box-sizing: border-box;top: 0;bottom: 0;left: 50%;z-index: 0;}#sk-container-id-1 div.sk-serial {display: flex;flex-direction: column;align-items: center;background-color: white;padding-right: 0.2em;padding-left: 0.2em;position: relative;}#sk-container-id-1 div.sk-item {position: relative;z-index: 1;}#sk-container-id-1 div.sk-parallel {display: flex;align-items: stretch;justify-content: center;background-color: white;position: relative;}#sk-container-id-1 div.sk-item::before, #sk-container-id-1 div.sk-parallel-item::before {content: \"\";position: absolute;border-left: 1px solid gray;box-sizing: border-box;top: 0;bottom: 0;left: 50%;z-index: -1;}#sk-container-id-1 div.sk-parallel-item {display: flex;flex-direction: column;z-index: 1;position: relative;background-color: white;}#sk-container-id-1 div.sk-parallel-item:first-child::after {align-self: flex-end;width: 50%;}#sk-container-id-1 div.sk-parallel-item:last-child::after {align-self: flex-start;width: 50%;}#sk-container-id-1 div.sk-parallel-item:only-child::after {width: 0;}#sk-container-id-1 div.sk-dashed-wrapped {border: 1px dashed gray;margin: 0 0.4em 0.5em 0.4em;box-sizing: border-box;padding-bottom: 0.4em;background-color: white;}#sk-container-id-1 div.sk-label label {font-family: monospace;font-weight: bold;display: inline-block;line-height: 1.2em;}#sk-container-id-1 div.sk-label-container {text-align: center;}#sk-container-id-1 div.sk-container {/* jupyter's `normalize.less` sets `[hidden] { display: none; }` but bootstrap.min.css set `[hidden] { display: none !important; }` so we also need the `!important` here to be able to override the default hidden behavior on the sphinx rendered scikit-learn.org. See: https://github.com/scikit-learn/scikit-learn/issues/21755 */display: inline-block !important;position: relative;}#sk-container-id-1 div.sk-text-repr-fallback {display: none;}</style><div id=\"sk-container-id-1\" class=\"sk-top-container\"><div class=\"sk-text-repr-fallback\"><pre>LGBMClassifier(random_state=1)</pre><b>In a Jupyter environment, please rerun this cell to show the HTML representation or trust the notebook. <br />On GitHub, the HTML representation is unable to render, please try loading this page with nbviewer.org.</b></div><div class=\"sk-container\" hidden><div class=\"sk-item\"><div class=\"sk-estimator sk-toggleable\"><input class=\"sk-toggleable__control sk-hidden--visually\" id=\"sk-estimator-id-1\" type=\"checkbox\" checked><label for=\"sk-estimator-id-1\" class=\"sk-toggleable__label sk-toggleable__label-arrow\">LGBMClassifier</label><div class=\"sk-toggleable__content\"><pre>LGBMClassifier(random_state=1)</pre></div></div></div></div></div>"
      ],
      "text/plain": [
       "LGBMClassifier(random_state=1)"
      ]
     },
     "execution_count": 7,
     "metadata": {},
     "output_type": "execute_result"
    }
   ],
   "source": [
    "#Reloading model with better parameters\n",
    "lgbmclassifier = lgbm.LGBMClassifier(**tuner.best_params_)\n",
    "\n",
    "#Fitting/Training model\n",
    "lgbmclassifier.fit(X_train, y_train)"
   ]
  },
  {
   "cell_type": "markdown",
   "id": "de6616df",
   "metadata": {},
   "source": [
    "## 4.5. Results"
   ]
  },
  {
   "cell_type": "code",
   "execution_count": 8,
   "id": "c4bd1237",
   "metadata": {
    "scrolled": true
   },
   "outputs": [
    {
     "data": {
      "image/png": "[encoded data removed]",
      "text/plain": [
       "<Figure size 640x480 with 2 Axes>"
      ]
     },
     "metadata": {},
     "output_type": "display_data"
    },
    {
     "name": "stdout",
     "output_type": "stream",
     "text": [
      "              precision    recall  f1-score   support\n",
      "\n",
      "       apple     1.0000    1.0000    1.0000        24\n",
      "      banana     1.0000    1.0000    1.0000        22\n",
      "   blackgram     0.9500    0.9048    0.9268        21\n",
      "    chickpea     1.0000    1.0000    1.0000        21\n",
      "     coconut     1.0000    1.0000    1.0000        17\n",
      "      coffee     1.0000    1.0000    1.0000        19\n",
      "      cotton     1.0000    1.0000    1.0000        21\n",
      "      grapes     1.0000    1.0000    1.0000        15\n",
      "        jute     0.8696    0.8696    0.8696        23\n",
      " kidneybeans     1.0000    1.0000    1.0000        17\n",
      "      lentil     0.8261    0.9048    0.8636        21\n",
      "       maize     1.0000    1.0000    1.0000        13\n",
      "       mango     1.0000    1.0000    1.0000        25\n",
      "   mothbeans     0.9444    0.8500    0.8947        20\n",
      "    mungbean     1.0000    1.0000    1.0000        19\n",
      "   muskmelon     1.0000    1.0000    1.0000        22\n",
      "      orange     1.0000    1.0000    1.0000        18\n",
      "      papaya     1.0000    1.0000    1.0000        12\n",
      "  pigeonpeas     0.8182    0.8571    0.8372        21\n",
      " pomegranate     1.0000    1.0000    1.0000        24\n",
      "        rice     0.8571    0.8571    0.8571        21\n",
      "  watermelon     1.0000    1.0000    1.0000        24\n",
      "\n",
      "    accuracy                         0.9636       440\n",
      "   macro avg     0.9666    0.9656    0.9659       440\n",
      "weighted avg     0.9645    0.9636    0.9638       440\n",
      "\n"
     ]
    }
   ],
   "source": [
    "#Testing Predictions\n",
    "y_pred = lgbmclassifier.predict(X_test)\n",
    "\n",
    "#Create confusion matrix\n",
    "lgbm_cm = confusion_matrix(y_test, y_pred)\n",
    "disp = ConfusionMatrixDisplay(confusion_matrix=lgbm_cm)\n",
    "disp.plot()\n",
    "plt.show()\n",
    "\n",
    "#Converting LabelEncoded to String Labels\n",
    "y_pred_str = le.inverse_transform(y_pred)\n",
    "y_test_str = le.inverse_transform(y_test)\n",
    "\n",
    "#Create classification report\n",
    "lgbm_cr = classification_report(y_test_str, y_pred_str, digits=4)\n",
    "print(lgbm_cr)"
   ]
  },
  {
   "cell_type": "markdown",
   "id": "95d57cc5",
   "metadata": {},
   "source": [
    "# 5. Saving and Loading Model"
   ]
  },
  {
   "cell_type": "code",
   "execution_count": 10,
   "id": "b66de2e3",
   "metadata": {},
   "outputs": [
    {
     "name": "stdout",
     "output_type": "stream",
     "text": [
      "              precision    recall  f1-score   support\n",
      "\n",
      "       apple     1.0000    1.0000    1.0000        24\n",
      "      banana     1.0000    1.0000    1.0000        22\n",
      "   blackgram     0.9500    0.9048    0.9268        21\n",
      "    chickpea     1.0000    1.0000    1.0000        21\n",
      "     coconut     1.0000    1.0000    1.0000        17\n",
      "      coffee     1.0000    1.0000    1.0000        19\n",
      "      cotton     1.0000    1.0000    1.0000        21\n",
      "      grapes     1.0000    1.0000    1.0000        15\n",
      "        jute     0.8696    0.8696    0.8696        23\n",
      " kidneybeans     1.0000    1.0000    1.0000        17\n",
      "      lentil     0.8261    0.9048    0.8636        21\n",
      "       maize     1.0000    1.0000    1.0000        13\n",
      "       mango     1.0000    1.0000    1.0000        25\n",
      "   mothbeans     0.9444    0.8500    0.8947        20\n",
      "    mungbean     1.0000    1.0000    1.0000        19\n",
      "   muskmelon     1.0000    1.0000    1.0000        22\n",
      "      orange     1.0000    1.0000    1.0000        18\n",
      "      papaya     1.0000    1.0000    1.0000        12\n",
      "  pigeonpeas     0.8182    0.8571    0.8372        21\n",
      " pomegranate     1.0000    1.0000    1.0000        24\n",
      "        rice     0.8571    0.8571    0.8571        21\n",
      "  watermelon     1.0000    1.0000    1.0000        24\n",
      "\n",
      "    accuracy                         0.9636       440\n",
      "   macro avg     0.9666    0.9656    0.9659       440\n",
      "weighted avg     0.9645    0.9636    0.9638       440\n",
      "\n"
     ]
    }
   ],
   "source": [
    "from joblib import dump, load\n",
    "\n",
    "dump(lgbmclassifier, 'saved.joblib') \n",
    "\n",
    "loaded_model = load('saved.joblib')\n",
    "\n",
    "y_pred = loaded_model.predict(X_test)\n",
    "\n",
    "#Converting LabelEncoded to String Labels\n",
    "y_pred_str = le.inverse_transform(y_pred)\n",
    "y_test_str = le.inverse_transform(y_test)\n",
    "\n",
    "#Create classification report\n",
    "lgbm_cr = classification_report(y_test_str, y_pred_str, digits=4)\n",
    "print(lgbm_cr)"
   ]
  },
  {
   "cell_type": "markdown",
   "id": "97c7b073",
   "metadata": {},
   "source": [
    "# 6. Further Reading/Documentation/Examples\n",
    "\n",
    "https://lightgbm.readthedocs.io/en/stable/Python-API.html"
   ]
  }
 ],
 "metadata": {
  "kernelspec": {
   "display_name": "Python 3 (ipykernel)",
   "language": "python",
   "name": "python3"
  },
  "language_info": {
   "codemirror_mode": {
    "name": "ipython",
    "version": 3
   },
   "file_extension": ".py",
   "mimetype": "text/x-python",
   "name": "python",
   "nbconvert_exporter": "python",
   "pygments_lexer": "ipython3",
   "version": "3.10.9"
  }
 },
 "nbformat": 4,
 "nbformat_minor": 5
}
