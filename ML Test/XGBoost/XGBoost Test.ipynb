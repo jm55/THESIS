{
 "cells": [
  {
   "cell_type": "markdown",
   "id": "226add23",
   "metadata": {},
   "source": [
    "# XGBoost Test\n",
    "\n",
    "This notebook will contain a sample use of the XGBoost library to determine feasibility in use for the study \n",
    "\n",
    "**[Evaluation and Comparison of Boosted ML Models in Behavior-Based Malware Detection]**\n",
    "\n",
    "## GPU Support\n",
    "\n",
    "XGBoost supports GPU accelerated computing albeit only at specific environments.\n",
    "\n",
    "| Platform            | GPU | Multi-Node-Multi-GPU |\n",
    "|---------------------|-----|----------------------|\n",
    "| Linux x86_64        | ✔   | ✔                    |\n",
    "| Linux aarch64       | ✘   | ✘                    |\n",
    "| MacOS x86_64        | ✘   | ✘                    |\n",
    "| MacOS Apple Silicon | ✘   | ✘                    |\n",
    "| Windows             | ✔   | ✘                    |"
   ]
  },
  {
   "cell_type": "code",
   "execution_count": 1,
   "id": "1f69adb7",
   "metadata": {},
   "outputs": [],
   "source": [
    "import pandas as pd\n",
    "from sklearn.model_selection import train_test_split #For Splitting Datasets\n",
    "from sklearn import preprocessing #For LabelEncoding\n",
    "from sklearn.metrics import classification_report #For Classification Report\n",
    "from sklearn.metrics import confusion_matrix, ConfusionMatrixDisplay #For Confusion Matrix\n",
    "import matplotlib.pyplot as plt #For figure plotting.\n",
    "from sklearn.model_selection import RandomizedSearchCV #For automated hyperparameter tuning; Would be better if it was GridSearchCV"
   ]
  },
  {
   "cell_type": "markdown",
   "id": "0d655c9f",
   "metadata": {},
   "source": [
    "# 1. Installation\n",
    "\n",
    "*This test will only use Python version of XGBoost. There are two ways it could be installed which are through Python's pip or Conda (via Anaconda). For this test we'll be using Python via Anaconda instead.*\n",
    "\n",
    "## 1.1. via Python (used for this demo)\n",
    "\n",
    "1. Open this link [XGBoost Install for Python](https://xgboost.readthedocs.io/en/stable/install.html#python)\n",
    "2. Open your Anaconda Terminal\n",
    "3. Enter `pip install xgboost` (Note that this is only for CPU XGBoost).\n",
    "\n",
    "## 1.2. via Conda\n",
    "1. Open Anaconda prompt\n",
    "2. Install by entering `conda install -c conda-forge py-xgboost`\n",
    "3. Alternatively, you can specify if the installation would be CPU-only or with **Nvidia** GPU support.\n",
    "4. CPU only: `conda install -c conda-forge py-xgboost-cpu`\n",
    "5. GPU support: `conda install -c conda-forge py-xgboost-gpu`"
   ]
  },
  {
   "cell_type": "markdown",
   "id": "67ab2a59",
   "metadata": {},
   "source": [
    "# 2. Verifying Library Installation\n",
    "\n",
    "*As long as it does not show an error upon importing, it means that it works*"
   ]
  },
  {
   "cell_type": "code",
   "execution_count": 2,
   "id": "54e61cf4",
   "metadata": {},
   "outputs": [],
   "source": [
    "#Verifying installation of XGBoost\n",
    "import xgboost as xgb"
   ]
  },
  {
   "cell_type": "markdown",
   "id": "43471aee",
   "metadata": {},
   "source": [
    "# 3. Sample Dataset\n",
    "\n",
    "*For this sample, the [crops dataset](https://www.kaggle.com/datasets/atharvaingle/crop-recommendation-dataset) similar in [this notebook](https://github.com/jm55/CSINTSY-MCO-5/blob/main/Machine%20Learning/notebook-v2.2.ipynb) will be ued in this demo.*"
   ]
  },
  {
   "cell_type": "code",
   "execution_count": 3,
   "id": "278af6e3",
   "metadata": {},
   "outputs": [
    {
     "data": {
      "text/html": [
       "<div>\n",
       "<style scoped>\n",
       "    .dataframe tbody tr th:only-of-type {\n",
       "        vertical-align: middle;\n",
       "    }\n",
       "\n",
       "    .dataframe tbody tr th {\n",
       "        vertical-align: top;\n",
       "    }\n",
       "\n",
       "    .dataframe thead th {\n",
       "        text-align: right;\n",
       "    }\n",
       "</style>\n",
       "<table border=\"1\" class=\"dataframe\">\n",
       "  <thead>\n",
       "    <tr style=\"text-align: right;\">\n",
       "      <th></th>\n",
       "      <th>nitrogen</th>\n",
       "      <th>phosphorus</th>\n",
       "      <th>potassium</th>\n",
       "      <th>temperature</th>\n",
       "      <th>humidity</th>\n",
       "      <th>ph</th>\n",
       "      <th>rainfall</th>\n",
       "      <th>label</th>\n",
       "    </tr>\n",
       "  </thead>\n",
       "  <tbody>\n",
       "    <tr>\n",
       "      <th>0</th>\n",
       "      <td>90</td>\n",
       "      <td>42</td>\n",
       "      <td>43</td>\n",
       "      <td>20.879744</td>\n",
       "      <td>82.002744</td>\n",
       "      <td>6.502985</td>\n",
       "      <td>202.935536</td>\n",
       "      <td>rice</td>\n",
       "    </tr>\n",
       "    <tr>\n",
       "      <th>1</th>\n",
       "      <td>85</td>\n",
       "      <td>58</td>\n",
       "      <td>41</td>\n",
       "      <td>21.770462</td>\n",
       "      <td>80.319644</td>\n",
       "      <td>7.038096</td>\n",
       "      <td>226.655537</td>\n",
       "      <td>rice</td>\n",
       "    </tr>\n",
       "    <tr>\n",
       "      <th>2</th>\n",
       "      <td>60</td>\n",
       "      <td>55</td>\n",
       "      <td>44</td>\n",
       "      <td>23.004459</td>\n",
       "      <td>82.320763</td>\n",
       "      <td>7.840207</td>\n",
       "      <td>263.964248</td>\n",
       "      <td>rice</td>\n",
       "    </tr>\n",
       "    <tr>\n",
       "      <th>3</th>\n",
       "      <td>74</td>\n",
       "      <td>35</td>\n",
       "      <td>40</td>\n",
       "      <td>26.491096</td>\n",
       "      <td>80.158363</td>\n",
       "      <td>6.980401</td>\n",
       "      <td>242.864034</td>\n",
       "      <td>rice</td>\n",
       "    </tr>\n",
       "    <tr>\n",
       "      <th>4</th>\n",
       "      <td>78</td>\n",
       "      <td>42</td>\n",
       "      <td>42</td>\n",
       "      <td>20.130175</td>\n",
       "      <td>81.604873</td>\n",
       "      <td>7.628473</td>\n",
       "      <td>262.717340</td>\n",
       "      <td>rice</td>\n",
       "    </tr>\n",
       "    <tr>\n",
       "      <th>...</th>\n",
       "      <td>...</td>\n",
       "      <td>...</td>\n",
       "      <td>...</td>\n",
       "      <td>...</td>\n",
       "      <td>...</td>\n",
       "      <td>...</td>\n",
       "      <td>...</td>\n",
       "      <td>...</td>\n",
       "    </tr>\n",
       "    <tr>\n",
       "      <th>2195</th>\n",
       "      <td>107</td>\n",
       "      <td>34</td>\n",
       "      <td>32</td>\n",
       "      <td>26.774637</td>\n",
       "      <td>66.413269</td>\n",
       "      <td>6.780064</td>\n",
       "      <td>177.774507</td>\n",
       "      <td>coffee</td>\n",
       "    </tr>\n",
       "    <tr>\n",
       "      <th>2196</th>\n",
       "      <td>99</td>\n",
       "      <td>15</td>\n",
       "      <td>27</td>\n",
       "      <td>27.417112</td>\n",
       "      <td>56.636362</td>\n",
       "      <td>6.086922</td>\n",
       "      <td>127.924610</td>\n",
       "      <td>coffee</td>\n",
       "    </tr>\n",
       "    <tr>\n",
       "      <th>2197</th>\n",
       "      <td>118</td>\n",
       "      <td>33</td>\n",
       "      <td>30</td>\n",
       "      <td>24.131797</td>\n",
       "      <td>67.225123</td>\n",
       "      <td>6.362608</td>\n",
       "      <td>173.322839</td>\n",
       "      <td>coffee</td>\n",
       "    </tr>\n",
       "    <tr>\n",
       "      <th>2198</th>\n",
       "      <td>117</td>\n",
       "      <td>32</td>\n",
       "      <td>34</td>\n",
       "      <td>26.272418</td>\n",
       "      <td>52.127394</td>\n",
       "      <td>6.758793</td>\n",
       "      <td>127.175293</td>\n",
       "      <td>coffee</td>\n",
       "    </tr>\n",
       "    <tr>\n",
       "      <th>2199</th>\n",
       "      <td>104</td>\n",
       "      <td>18</td>\n",
       "      <td>30</td>\n",
       "      <td>23.603016</td>\n",
       "      <td>60.396475</td>\n",
       "      <td>6.779833</td>\n",
       "      <td>140.937041</td>\n",
       "      <td>coffee</td>\n",
       "    </tr>\n",
       "  </tbody>\n",
       "</table>\n",
       "<p>2200 rows × 8 columns</p>\n",
       "</div>"
      ],
      "text/plain": [
       "      nitrogen  phosphorus  potassium  temperature   humidity        ph  \\\n",
       "0           90          42         43    20.879744  82.002744  6.502985   \n",
       "1           85          58         41    21.770462  80.319644  7.038096   \n",
       "2           60          55         44    23.004459  82.320763  7.840207   \n",
       "3           74          35         40    26.491096  80.158363  6.980401   \n",
       "4           78          42         42    20.130175  81.604873  7.628473   \n",
       "...        ...         ...        ...          ...        ...       ...   \n",
       "2195       107          34         32    26.774637  66.413269  6.780064   \n",
       "2196        99          15         27    27.417112  56.636362  6.086922   \n",
       "2197       118          33         30    24.131797  67.225123  6.362608   \n",
       "2198       117          32         34    26.272418  52.127394  6.758793   \n",
       "2199       104          18         30    23.603016  60.396475  6.779833   \n",
       "\n",
       "        rainfall   label  \n",
       "0     202.935536    rice  \n",
       "1     226.655537    rice  \n",
       "2     263.964248    rice  \n",
       "3     242.864034    rice  \n",
       "4     262.717340    rice  \n",
       "...          ...     ...  \n",
       "2195  177.774507  coffee  \n",
       "2196  127.924610  coffee  \n",
       "2197  173.322839  coffee  \n",
       "2198  127.175293  coffee  \n",
       "2199  140.937041  coffee  \n",
       "\n",
       "[2200 rows x 8 columns]"
      ]
     },
     "execution_count": 3,
     "metadata": {},
     "output_type": "execute_result"
    }
   ],
   "source": [
    "crops_df = pd.read_csv('crops_dataset.csv')\n",
    "crops_df"
   ]
  },
  {
   "cell_type": "markdown",
   "id": "fd4e3754",
   "metadata": {},
   "source": [
    "## Reminder\n",
    "\n",
    "Note that the dataset is a multi-class dataset which means that the output is not simply 0 or 1 like the case of the official thesis document. Hence, there will be some differences in the real study."
   ]
  },
  {
   "cell_type": "markdown",
   "id": "9f5a6fab",
   "metadata": {},
   "source": [
    "# 4. Implementing XGBoost Classifier\n",
    "\n",
    "*This demonstrates the use of the SKLearn like implementation/use of XGBoost with the other parameters as well as other related functions and properties is as shown in this [link](https://xgboost.readthedocs.io/en/stable/python/python_api.html#xgboost.XGBClassifier)*.\n",
    "\n",
    "Sample Complete Parameters (not all are included in the example):\n",
    "\n",
    "`xgb.XGBClassifier(n_estimators=10, max_depth=10, max_leaves=0, max_bin=255, grow_policy=0.5, learning_rate=.001, verbosity=0, objective=None, booster='gbtree', tree_method='exact', n_jobs=-1, gamma=1.0, min_child_weight=0.0, max_delta_step='0.0', subsample=0.0, sampling_method='uniform', cosample_bytree=0.0, cosample_bylevel=0.0, cosample_bynode=0.0, reg_alpha=0.0, reg_lambda=0.0, scale_pos_weight=0.0, base_score=0.0, missing=np.nan, num_parallel_tree=0, monotone_constraints=None, interaction_constraints=None, importance_type='gain', gpu_id=None, validate_parameters=True, predictor='cpu_predictor', enable_categorical='False', objective='binary:logistic', use_label_encoder=None)`"
   ]
  },
  {
   "cell_type": "markdown",
   "id": "b713c883",
   "metadata": {},
   "source": [
    "## 4.1. Loading Classifier"
   ]
  },
  {
   "cell_type": "code",
   "execution_count": 4,
   "id": "356679bc",
   "metadata": {
    "scrolled": true
   },
   "outputs": [],
   "source": [
    "#Loading XGBClassifier as an object\n",
    "xgbclassifier = xgb.XGBClassifier()"
   ]
  },
  {
   "cell_type": "markdown",
   "id": "3952539d",
   "metadata": {},
   "source": [
    "## 4.2. Splitting Datasets to Train and Test Datasets"
   ]
  },
  {
   "cell_type": "code",
   "execution_count": 5,
   "id": "c32f0a54",
   "metadata": {
    "scrolled": true
   },
   "outputs": [],
   "source": [
    "#Splitting datasets to train and test datasets\n",
    "features = crops_df.columns.to_list()\n",
    "features = features[0:len(features)-2]\n",
    "\n",
    "le = preprocessing.LabelEncoder()\n",
    "labels = le.fit_transform(crops_df['label']) #Converting t\n",
    "\n",
    "X,y = crops_df[features],labels\n",
    "X_train, X_test, y_train, y_test = train_test_split(X, y, test_size=.2)"
   ]
  },
  {
   "cell_type": "markdown",
   "id": "90ace128",
   "metadata": {},
   "source": [
    "## 4.3. Loading Hyperparameter Tuning\n",
    "\n",
    "Refer to [this](https://xgboost.readthedocs.io/en/stable/parameter.html) in relation to [this](https://xgboost.readthedocs.io/en/stable/python/python_api.html#xgboost.XGBClassifier).\n",
    "\n",
    "Note that the hyperparameter values shown in the tuning choices here are not complete as some values were ommited due to errors or to improve tuning speed relative to the available hardware. \n",
    "\n",
    "Booster `'dart'` may be better performing but at the extreme cost of time as tests suggests that it runs at ~30mins each iteration during RandomizedSearchCV, hence it was removed on this demo."
   ]
  },
  {
   "cell_type": "code",
   "execution_count": 6,
   "id": "b4e930a6",
   "metadata": {
    "scrolled": false
   },
   "outputs": [
    {
     "name": "stderr",
     "output_type": "stream",
     "text": [
      "C:\\Users\\ejose\\anaconda3\\lib\\site-packages\\sklearn\\model_selection\\_search.py:305: UserWarning: The total space of parameters 6 is smaller than n_iter=10. Running 6 iterations. For exhaustive searches, use GridSearchCV.\n",
      "  warnings.warn(\n"
     ]
    },
    {
     "name": "stdout",
     "output_type": "stream",
     "text": [
      "Fitting 5 folds for each of 6 candidates, totalling 30 fits\n"
     ]
    },
    {
     "name": "stderr",
     "output_type": "stream",
     "text": [
      "C:\\Users\\ejose\\anaconda3\\lib\\site-packages\\sklearn\\model_selection\\_validation.py:378: FitFailedWarning: \n",
      "5 fits failed out of a total of 30.\n",
      "The score on these train-test partitions for these parameters will be set to 0.\n",
      "If these failures are not expected, you can try to debug them by setting error_score='raise'.\n",
      "\n",
      "Below are more details about the failures:\n",
      "--------------------------------------------------------------------------------\n",
      "5 fits failed with the following error:\n",
      "Traceback (most recent call last):\n",
      "  File \"C:\\Users\\ejose\\anaconda3\\lib\\site-packages\\sklearn\\model_selection\\_validation.py\", line 686, in _fit_and_score\n",
      "    estimator.fit(X_train, y_train, **fit_params)\n",
      "  File \"C:\\Users\\ejose\\anaconda3\\lib\\site-packages\\xgboost\\core.py\", line 620, in inner_f\n",
      "    return func(**kwargs)\n",
      "  File \"C:\\Users\\ejose\\anaconda3\\lib\\site-packages\\xgboost\\sklearn.py\", line 1490, in fit\n",
      "    self._Booster = train(\n",
      "  File \"C:\\Users\\ejose\\anaconda3\\lib\\site-packages\\xgboost\\core.py\", line 620, in inner_f\n",
      "    return func(**kwargs)\n",
      "  File \"C:\\Users\\ejose\\anaconda3\\lib\\site-packages\\xgboost\\training.py\", line 185, in train\n",
      "    bst.update(dtrain, i, obj)\n",
      "  File \"C:\\Users\\ejose\\anaconda3\\lib\\site-packages\\xgboost\\core.py\", line 1918, in update\n",
      "    _check_call(_LIB.XGBoosterUpdateOneIter(self.handle,\n",
      "  File \"C:\\Users\\ejose\\anaconda3\\lib\\site-packages\\xgboost\\core.py\", line 279, in _check_call\n",
      "    raise XGBoostError(py_str(_LIB.XGBGetLastError()))\n",
      "xgboost.core.XGBoostError: [20:25:29] C:\\buildkite-agent\\builds\\buildkite-windows-cpu-autoscaling-group-i-0fdc6d574b9c0d168-1\\xgboost\\xgboost-ci-windows\\src\\data\\iterative_dmatrix.h:90: Not implemented.\n",
      "\n",
      "  warnings.warn(some_fits_failed_message, FitFailedWarning)\n"
     ]
    },
    {
     "name": "stdout",
     "output_type": "stream",
     "text": [
      "Best Score: 0.9619318181818182\n",
      "Best Params: {'tree_method': 'approx', 'n_jobs': -1, 'booster': 'gbtree'}\n"
     ]
    }
   ],
   "source": [
    "param = {'booster':['gbtree','gblinear'], 'tree_method':['exact','approx','hist'], 'n_jobs':[-1]}\n",
    "\n",
    "tuner = RandomizedSearchCV(xgbclassifier, param, verbose=2, n_jobs=2, cv=5, refit=True, error_score=0, random_state=1)\n",
    "tuner.fit(X_train,y_train)\n",
    "print(\"Best Score:\", tuner.best_score_)\n",
    "print(\"Best Params:\", tuner.best_params_)"
   ]
  },
  {
   "cell_type": "markdown",
   "id": "6ddcb3a1",
   "metadata": {},
   "source": [
    "## 4.4. Loading Tuned Parameters to Model"
   ]
  },
  {
   "cell_type": "code",
   "execution_count": 7,
   "id": "eb2522c7",
   "metadata": {
    "scrolled": true
   },
   "outputs": [
    {
     "data": {
      "text/html": [
       "<style>#sk-container-id-1 {color: black;background-color: white;}#sk-container-id-1 pre{padding: 0;}#sk-container-id-1 div.sk-toggleable {background-color: white;}#sk-container-id-1 label.sk-toggleable__label {cursor: pointer;display: block;width: 100%;margin-bottom: 0;padding: 0.3em;box-sizing: border-box;text-align: center;}#sk-container-id-1 label.sk-toggleable__label-arrow:before {content: \"▸\";float: left;margin-right: 0.25em;color: #696969;}#sk-container-id-1 label.sk-toggleable__label-arrow:hover:before {color: black;}#sk-container-id-1 div.sk-estimator:hover label.sk-toggleable__label-arrow:before {color: black;}#sk-container-id-1 div.sk-toggleable__content {max-height: 0;max-width: 0;overflow: hidden;text-align: left;background-color: #f0f8ff;}#sk-container-id-1 div.sk-toggleable__content pre {margin: 0.2em;color: black;border-radius: 0.25em;background-color: #f0f8ff;}#sk-container-id-1 input.sk-toggleable__control:checked~div.sk-toggleable__content {max-height: 200px;max-width: 100%;overflow: auto;}#sk-container-id-1 input.sk-toggleable__control:checked~label.sk-toggleable__label-arrow:before {content: \"▾\";}#sk-container-id-1 div.sk-estimator input.sk-toggleable__control:checked~label.sk-toggleable__label {background-color: #d4ebff;}#sk-container-id-1 div.sk-label input.sk-toggleable__control:checked~label.sk-toggleable__label {background-color: #d4ebff;}#sk-container-id-1 input.sk-hidden--visually {border: 0;clip: rect(1px 1px 1px 1px);clip: rect(1px, 1px, 1px, 1px);height: 1px;margin: -1px;overflow: hidden;padding: 0;position: absolute;width: 1px;}#sk-container-id-1 div.sk-estimator {font-family: monospace;background-color: #f0f8ff;border: 1px dotted black;border-radius: 0.25em;box-sizing: border-box;margin-bottom: 0.5em;}#sk-container-id-1 div.sk-estimator:hover {background-color: #d4ebff;}#sk-container-id-1 div.sk-parallel-item::after {content: \"\";width: 100%;border-bottom: 1px solid gray;flex-grow: 1;}#sk-container-id-1 div.sk-label:hover label.sk-toggleable__label {background-color: #d4ebff;}#sk-container-id-1 div.sk-serial::before {content: \"\";position: absolute;border-left: 1px solid gray;box-sizing: border-box;top: 0;bottom: 0;left: 50%;z-index: 0;}#sk-container-id-1 div.sk-serial {display: flex;flex-direction: column;align-items: center;background-color: white;padding-right: 0.2em;padding-left: 0.2em;position: relative;}#sk-container-id-1 div.sk-item {position: relative;z-index: 1;}#sk-container-id-1 div.sk-parallel {display: flex;align-items: stretch;justify-content: center;background-color: white;position: relative;}#sk-container-id-1 div.sk-item::before, #sk-container-id-1 div.sk-parallel-item::before {content: \"\";position: absolute;border-left: 1px solid gray;box-sizing: border-box;top: 0;bottom: 0;left: 50%;z-index: -1;}#sk-container-id-1 div.sk-parallel-item {display: flex;flex-direction: column;z-index: 1;position: relative;background-color: white;}#sk-container-id-1 div.sk-parallel-item:first-child::after {align-self: flex-end;width: 50%;}#sk-container-id-1 div.sk-parallel-item:last-child::after {align-self: flex-start;width: 50%;}#sk-container-id-1 div.sk-parallel-item:only-child::after {width: 0;}#sk-container-id-1 div.sk-dashed-wrapped {border: 1px dashed gray;margin: 0 0.4em 0.5em 0.4em;box-sizing: border-box;padding-bottom: 0.4em;background-color: white;}#sk-container-id-1 div.sk-label label {font-family: monospace;font-weight: bold;display: inline-block;line-height: 1.2em;}#sk-container-id-1 div.sk-label-container {text-align: center;}#sk-container-id-1 div.sk-container {/* jupyter's `normalize.less` sets `[hidden] { display: none; }` but bootstrap.min.css set `[hidden] { display: none !important; }` so we also need the `!important` here to be able to override the default hidden behavior on the sphinx rendered scikit-learn.org. See: https://github.com/scikit-learn/scikit-learn/issues/21755 */display: inline-block !important;position: relative;}#sk-container-id-1 div.sk-text-repr-fallback {display: none;}</style><div id=\"sk-container-id-1\" class=\"sk-top-container\"><div class=\"sk-text-repr-fallback\"><pre>XGBClassifier(base_score=None, booster=&#x27;gbtree&#x27;, callbacks=None,\n",
       "              colsample_bylevel=None, colsample_bynode=None,\n",
       "              colsample_bytree=None, early_stopping_rounds=None,\n",
       "              enable_categorical=False, eval_metric=None, feature_types=None,\n",
       "              gamma=None, gpu_id=None, grow_policy=None, importance_type=None,\n",
       "              interaction_constraints=None, learning_rate=None, max_bin=None,\n",
       "              max_cat_threshold=None, max_cat_to_onehot=None,\n",
       "              max_delta_step=None, max_depth=None, max_leaves=None,\n",
       "              min_child_weight=None, missing=nan, monotone_constraints=None,\n",
       "              n_estimators=100, n_jobs=-1, num_parallel_tree=None,\n",
       "              objective=&#x27;multi:softprob&#x27;, predictor=None, ...)</pre><b>In a Jupyter environment, please rerun this cell to show the HTML representation or trust the notebook. <br />On GitHub, the HTML representation is unable to render, please try loading this page with nbviewer.org.</b></div><div class=\"sk-container\" hidden><div class=\"sk-item\"><div class=\"sk-estimator sk-toggleable\"><input class=\"sk-toggleable__control sk-hidden--visually\" id=\"sk-estimator-id-1\" type=\"checkbox\" checked><label for=\"sk-estimator-id-1\" class=\"sk-toggleable__label sk-toggleable__label-arrow\">XGBClassifier</label><div class=\"sk-toggleable__content\"><pre>XGBClassifier(base_score=None, booster=&#x27;gbtree&#x27;, callbacks=None,\n",
       "              colsample_bylevel=None, colsample_bynode=None,\n",
       "              colsample_bytree=None, early_stopping_rounds=None,\n",
       "              enable_categorical=False, eval_metric=None, feature_types=None,\n",
       "              gamma=None, gpu_id=None, grow_policy=None, importance_type=None,\n",
       "              interaction_constraints=None, learning_rate=None, max_bin=None,\n",
       "              max_cat_threshold=None, max_cat_to_onehot=None,\n",
       "              max_delta_step=None, max_depth=None, max_leaves=None,\n",
       "              min_child_weight=None, missing=nan, monotone_constraints=None,\n",
       "              n_estimators=100, n_jobs=-1, num_parallel_tree=None,\n",
       "              objective=&#x27;multi:softprob&#x27;, predictor=None, ...)</pre></div></div></div></div></div>"
      ],
      "text/plain": [
       "XGBClassifier(base_score=None, booster='gbtree', callbacks=None,\n",
       "              colsample_bylevel=None, colsample_bynode=None,\n",
       "              colsample_bytree=None, early_stopping_rounds=None,\n",
       "              enable_categorical=False, eval_metric=None, feature_types=None,\n",
       "              gamma=None, gpu_id=None, grow_policy=None, importance_type=None,\n",
       "              interaction_constraints=None, learning_rate=None, max_bin=None,\n",
       "              max_cat_threshold=None, max_cat_to_onehot=None,\n",
       "              max_delta_step=None, max_depth=None, max_leaves=None,\n",
       "              min_child_weight=None, missing=nan, monotone_constraints=None,\n",
       "              n_estimators=100, n_jobs=-1, num_parallel_tree=None,\n",
       "              objective='multi:softprob', predictor=None, ...)"
      ]
     },
     "execution_count": 7,
     "metadata": {},
     "output_type": "execute_result"
    }
   ],
   "source": [
    "#Reloading model with better parameters\n",
    "xgbclassifier = xgb.XGBClassifier(**tuner.best_params_)\n",
    "\n",
    "#Fitting/Training model\n",
    "xgbclassifier.fit(X_train, y_train)"
   ]
  },
  {
   "cell_type": "markdown",
   "id": "de6616df",
   "metadata": {},
   "source": [
    "## 4.5. Results"
   ]
  },
  {
   "cell_type": "code",
   "execution_count": 8,
   "id": "c4bd1237",
   "metadata": {
    "scrolled": true
   },
   "outputs": [
    {
     "data": {
      "image/png": "[encoded data removed]",
      "text/plain": [
       "<Figure size 640x480 with 2 Axes>"
      ]
     },
     "metadata": {},
     "output_type": "display_data"
    },
    {
     "name": "stdout",
     "output_type": "stream",
     "text": [
      "              precision    recall  f1-score   support\n",
      "\n",
      "       apple     1.0000    1.0000    1.0000        14\n",
      "      banana     1.0000    1.0000    1.0000        19\n",
      "   blackgram     0.8235    0.7368    0.7778        19\n",
      "    chickpea     1.0000    1.0000    1.0000        19\n",
      "     coconut     1.0000    0.9545    0.9767        22\n",
      "      coffee     0.9583    1.0000    0.9787        23\n",
      "      cotton     1.0000    1.0000    1.0000        20\n",
      "      grapes     1.0000    1.0000    1.0000        18\n",
      "        jute     0.8235    0.7368    0.7778        19\n",
      " kidneybeans     1.0000    1.0000    1.0000        14\n",
      "      lentil     0.8182    0.8182    0.8182        22\n",
      "       maize     1.0000    0.9524    0.9756        21\n",
      "       mango     1.0000    1.0000    1.0000        21\n",
      "   mothbeans     0.9500    0.8636    0.9048        22\n",
      "    mungbean     1.0000    1.0000    1.0000        18\n",
      "   muskmelon     0.9677    1.0000    0.9836        30\n",
      "      orange     1.0000    1.0000    1.0000        13\n",
      "      papaya     1.0000    1.0000    1.0000        20\n",
      "  pigeonpeas     0.7273    0.8889    0.8000        18\n",
      " pomegranate     1.0000    1.0000    1.0000        18\n",
      "        rice     0.8077    0.8750    0.8400        24\n",
      "  watermelon     1.0000    1.0000    1.0000        26\n",
      "\n",
      "    accuracy                         0.9455       440\n",
      "   macro avg     0.9489    0.9467    0.9470       440\n",
      "weighted avg     0.9471    0.9455    0.9455       440\n",
      "\n"
     ]
    }
   ],
   "source": [
    "#Testing Predictions\n",
    "y_pred = xgbclassifier.predict(X_test)\n",
    "\n",
    "#Create confusion matrix\n",
    "xg_cm = confusion_matrix(y_test, y_pred)\n",
    "disp = ConfusionMatrixDisplay(confusion_matrix=xg_cm)\n",
    "disp.plot()\n",
    "plt.show()\n",
    "\n",
    "#Converting LabelEncoded to String Labels\n",
    "y_pred_str = le.inverse_transform(y_pred)\n",
    "y_test_str = le.inverse_transform(y_test)\n",
    "\n",
    "#Create classification report\n",
    "xg_cr = classification_report(y_test_str, y_pred_str, digits=4)\n",
    "print(xg_cr)"
   ]
  },
  {
   "cell_type": "markdown",
   "id": "bf075525",
   "metadata": {},
   "source": [
    "# 5. Saving and Loading Model"
   ]
  },
  {
   "cell_type": "code",
   "execution_count": 10,
   "id": "d9a2091e",
   "metadata": {},
   "outputs": [
    {
     "name": "stdout",
     "output_type": "stream",
     "text": [
      "              precision    recall  f1-score   support\n",
      "\n",
      "       apple     1.0000    1.0000    1.0000        14\n",
      "      banana     1.0000    1.0000    1.0000        19\n",
      "   blackgram     0.8235    0.7368    0.7778        19\n",
      "    chickpea     1.0000    1.0000    1.0000        19\n",
      "     coconut     1.0000    0.9545    0.9767        22\n",
      "      coffee     0.9583    1.0000    0.9787        23\n",
      "      cotton     1.0000    1.0000    1.0000        20\n",
      "      grapes     1.0000    1.0000    1.0000        18\n",
      "        jute     0.8235    0.7368    0.7778        19\n",
      " kidneybeans     1.0000    1.0000    1.0000        14\n",
      "      lentil     0.8182    0.8182    0.8182        22\n",
      "       maize     1.0000    0.9524    0.9756        21\n",
      "       mango     1.0000    1.0000    1.0000        21\n",
      "   mothbeans     0.9500    0.8636    0.9048        22\n",
      "    mungbean     1.0000    1.0000    1.0000        18\n",
      "   muskmelon     0.9677    1.0000    0.9836        30\n",
      "      orange     1.0000    1.0000    1.0000        13\n",
      "      papaya     1.0000    1.0000    1.0000        20\n",
      "  pigeonpeas     0.7273    0.8889    0.8000        18\n",
      " pomegranate     1.0000    1.0000    1.0000        18\n",
      "        rice     0.8077    0.8750    0.8400        24\n",
      "  watermelon     1.0000    1.0000    1.0000        26\n",
      "\n",
      "    accuracy                         0.9455       440\n",
      "   macro avg     0.9489    0.9467    0.9470       440\n",
      "weighted avg     0.9471    0.9455    0.9455       440\n",
      "\n"
     ]
    }
   ],
   "source": [
    "xgbclassifier.save_model(\"saved.json\")\n",
    "\n",
    "loaded_model = xgb.XGBClassifier()\n",
    "loaded_model.load_model(\"saved.json\")\n",
    "\n",
    "y_pred = loaded_model.predict(X_test)\n",
    "\n",
    "#Converting LabelEncoded to String Labels\n",
    "y_pred_str = le.inverse_transform(y_pred)\n",
    "y_test_str = le.inverse_transform(y_test)\n",
    "\n",
    "#Create classification report\n",
    "xg_cr = classification_report(y_test_str, y_pred_str, digits=4)\n",
    "print(xg_cr)"
   ]
  },
  {
   "cell_type": "markdown",
   "id": "97c7b073",
   "metadata": {},
   "source": [
    "# 6. Further Reading/Documentation/Examples\n",
    "\n",
    "https://xgboost.readthedocs.io/en/stable/python/examples/index.html"
   ]
  }
 ],
 "metadata": {
  "kernelspec": {
   "display_name": "Python 3 (ipykernel)",
   "language": "python",
   "name": "python3"
  },
  "language_info": {
   "codemirror_mode": {
    "name": "ipython",
    "version": 3
   },
   "file_extension": ".py",
   "mimetype": "text/x-python",
   "name": "python",
   "nbconvert_exporter": "python",
   "pygments_lexer": "ipython3",
   "version": "3.10.9"
  }
 },
 "nbformat": 4,
 "nbformat_minor": 5
}
