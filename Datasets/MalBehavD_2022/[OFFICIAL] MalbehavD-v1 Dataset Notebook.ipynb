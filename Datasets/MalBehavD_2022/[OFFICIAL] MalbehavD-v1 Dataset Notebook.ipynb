{
 "cells": [
  {
   "cell_type": "markdown",
   "id": "2d753f09",
   "metadata": {},
   "source": [
    "# MalbehavD-V1 Dataset Notebook\n",
    "\n",
    "\n",
    "This is the official notebook for the thesis study \n",
    "\n",
    "**\"Evaluation and Comparison of Boosted ML Models in Behavior-Based Malware Detection\"**"
   ]
  },
  {
   "cell_type": "code",
   "execution_count": 1,
   "id": "5d4c0f3f",
   "metadata": {},
   "outputs": [],
   "source": [
    "import pandas as pd\n",
    "import numpy as np\n",
    "import matplotlib.pyplot as plt\n",
    "import time\n",
    "from sklearn import preprocessing"
   ]
  },
  {
   "cell_type": "code",
   "execution_count": 2,
   "id": "6657ebb2",
   "metadata": {
    "scrolled": false
   },
   "outputs": [
    {
     "name": "stdout",
     "output_type": "stream",
     "text": [
      "MalbehavD-V1 Info:\n",
      "<class 'pandas.core.frame.DataFrame'>\n",
      "RangeIndex: 2570 entries, 0 to 2569\n",
      "Columns: 177 entries, sha256 to Unnamed: 176\n",
      "dtypes: int64(1), object(176)\n",
      "memory usage: 3.5+ MB\n"
     ]
    }
   ],
   "source": [
    "malbd = pd.read_csv('MalBehavD-V1-dataset.csv')\n",
    "print(\"MalbehavD-V1 Info:\")\n",
    "malbd.info()"
   ]
  },
  {
   "cell_type": "code",
   "execution_count": 3,
   "id": "eadc1a28",
   "metadata": {
    "scrolled": false
   },
   "outputs": [
    {
     "name": "stdout",
     "output_type": "stream",
     "text": [
      "MalbehavD-V1 Shape: (2570, 177)\n"
     ]
    }
   ],
   "source": [
    "print(\"MalbehavD-V1 Shape:\", malbd.shape)"
   ]
  },
  {
   "cell_type": "code",
   "execution_count": 4,
   "id": "80fcb67c",
   "metadata": {
    "scrolled": true
   },
   "outputs": [
    {
     "name": "stdout",
     "output_type": "stream",
     "text": [
      "MalbehavD-V1 Preview\n"
     ]
    },
    {
     "data": {
      "text/html": [
       "<div>\n",
       "<style scoped>\n",
       "    .dataframe tbody tr th:only-of-type {\n",
       "        vertical-align: middle;\n",
       "    }\n",
       "\n",
       "    .dataframe tbody tr th {\n",
       "        vertical-align: top;\n",
       "    }\n",
       "\n",
       "    .dataframe thead th {\n",
       "        text-align: right;\n",
       "    }\n",
       "</style>\n",
       "<table border=\"1\" class=\"dataframe\">\n",
       "  <thead>\n",
       "    <tr style=\"text-align: right;\">\n",
       "      <th></th>\n",
       "      <th>sha256</th>\n",
       "      <th>labels</th>\n",
       "      <th>0</th>\n",
       "      <th>1</th>\n",
       "      <th>2</th>\n",
       "      <th>3</th>\n",
       "      <th>4</th>\n",
       "      <th>5</th>\n",
       "      <th>6</th>\n",
       "      <th>7</th>\n",
       "      <th>...</th>\n",
       "      <th>Unnamed: 167</th>\n",
       "      <th>Unnamed: 168</th>\n",
       "      <th>Unnamed: 169</th>\n",
       "      <th>Unnamed: 170</th>\n",
       "      <th>Unnamed: 171</th>\n",
       "      <th>Unnamed: 172</th>\n",
       "      <th>Unnamed: 173</th>\n",
       "      <th>Unnamed: 174</th>\n",
       "      <th>Unnamed: 175</th>\n",
       "      <th>Unnamed: 176</th>\n",
       "    </tr>\n",
       "  </thead>\n",
       "  <tbody>\n",
       "    <tr>\n",
       "      <th>0</th>\n",
       "      <td>5c18291c481a192ed5003084dab2d8a117fd3736359218...</td>\n",
       "      <td>0</td>\n",
       "      <td>LdrUnloadDll</td>\n",
       "      <td>CoUninitialize</td>\n",
       "      <td>NtQueryKey</td>\n",
       "      <td>NtDuplicateObject</td>\n",
       "      <td>GetShortPathNameW</td>\n",
       "      <td>GetSystemInfo</td>\n",
       "      <td>IsDebuggerPresent</td>\n",
       "      <td>GetSystemWindowsDirectoryW</td>\n",
       "      <td>...</td>\n",
       "      <td>NaN</td>\n",
       "      <td>NaN</td>\n",
       "      <td>NaN</td>\n",
       "      <td>NaN</td>\n",
       "      <td>NaN</td>\n",
       "      <td>NaN</td>\n",
       "      <td>NaN</td>\n",
       "      <td>NaN</td>\n",
       "      <td>NaN</td>\n",
       "      <td>NaN</td>\n",
       "    </tr>\n",
       "    <tr>\n",
       "      <th>1</th>\n",
       "      <td>4683faf3da550ffb594cf5513c4cbb34f64df85f27fd1c...</td>\n",
       "      <td>0</td>\n",
       "      <td>NtOpenMutant</td>\n",
       "      <td>GetForegroundWindow</td>\n",
       "      <td>NtQueryKey</td>\n",
       "      <td>DrawTextExW</td>\n",
       "      <td>NtSetInformationFile</td>\n",
       "      <td>RegQueryValueExA</td>\n",
       "      <td>LdrGetProcedureAddress</td>\n",
       "      <td>CoUninitialize</td>\n",
       "      <td>...</td>\n",
       "      <td>NaN</td>\n",
       "      <td>NaN</td>\n",
       "      <td>NaN</td>\n",
       "      <td>NaN</td>\n",
       "      <td>NaN</td>\n",
       "      <td>NaN</td>\n",
       "      <td>NaN</td>\n",
       "      <td>NaN</td>\n",
       "      <td>NaN</td>\n",
       "      <td>NaN</td>\n",
       "    </tr>\n",
       "    <tr>\n",
       "      <th>2</th>\n",
       "      <td>9a0aea1c7290031d7c3429d0e921f107282cc6eab854ee...</td>\n",
       "      <td>0</td>\n",
       "      <td>GetForegroundWindow</td>\n",
       "      <td>DrawTextExW</td>\n",
       "      <td>GetSystemInfo</td>\n",
       "      <td>IsDebuggerPresent</td>\n",
       "      <td>GetSystemWindowsDirectoryW</td>\n",
       "      <td>NtQueryValueKey</td>\n",
       "      <td>RegCloseKey</td>\n",
       "      <td>GetFileAttributesW</td>\n",
       "      <td>...</td>\n",
       "      <td>NaN</td>\n",
       "      <td>NaN</td>\n",
       "      <td>NaN</td>\n",
       "      <td>NaN</td>\n",
       "      <td>NaN</td>\n",
       "      <td>NaN</td>\n",
       "      <td>NaN</td>\n",
       "      <td>NaN</td>\n",
       "      <td>NaN</td>\n",
       "      <td>NaN</td>\n",
       "    </tr>\n",
       "    <tr>\n",
       "      <th>3</th>\n",
       "      <td>e0f3e4d5f50afd9c31e51dd9941c5a52d57c7c524f5d11...</td>\n",
       "      <td>0</td>\n",
       "      <td>NtQueryValueKey</td>\n",
       "      <td>LdrUnloadDll</td>\n",
       "      <td>GlobalMemoryStatus</td>\n",
       "      <td>WriteConsoleA</td>\n",
       "      <td>NtOpenKey</td>\n",
       "      <td>LdrGetProcedureAddress</td>\n",
       "      <td>NtTerminateProcess</td>\n",
       "      <td>NtClose</td>\n",
       "      <td>...</td>\n",
       "      <td>NaN</td>\n",
       "      <td>NaN</td>\n",
       "      <td>NaN</td>\n",
       "      <td>NaN</td>\n",
       "      <td>NaN</td>\n",
       "      <td>NaN</td>\n",
       "      <td>NaN</td>\n",
       "      <td>NaN</td>\n",
       "      <td>NaN</td>\n",
       "      <td>NaN</td>\n",
       "    </tr>\n",
       "    <tr>\n",
       "      <th>4</th>\n",
       "      <td>ec2b6d29992f13e74015ff0b129150b4afae15c593e4b7...</td>\n",
       "      <td>0</td>\n",
       "      <td>LdrUnloadDll</td>\n",
       "      <td>GetSystemTimeAsFileTime</td>\n",
       "      <td>NtOpenKey</td>\n",
       "      <td>WSAStartup</td>\n",
       "      <td>SetUnhandledExceptionFilter</td>\n",
       "      <td>NtTerminateProcess</td>\n",
       "      <td>NtClose</td>\n",
       "      <td>NtAllocateVirtualMemory</td>\n",
       "      <td>...</td>\n",
       "      <td>NaN</td>\n",
       "      <td>NaN</td>\n",
       "      <td>NaN</td>\n",
       "      <td>NaN</td>\n",
       "      <td>NaN</td>\n",
       "      <td>NaN</td>\n",
       "      <td>NaN</td>\n",
       "      <td>NaN</td>\n",
       "      <td>NaN</td>\n",
       "      <td>NaN</td>\n",
       "    </tr>\n",
       "  </tbody>\n",
       "</table>\n",
       "<p>5 rows × 177 columns</p>\n",
       "</div>"
      ],
      "text/plain": [
       "                                              sha256  labels  \\\n",
       "0  5c18291c481a192ed5003084dab2d8a117fd3736359218...       0   \n",
       "1  4683faf3da550ffb594cf5513c4cbb34f64df85f27fd1c...       0   \n",
       "2  9a0aea1c7290031d7c3429d0e921f107282cc6eab854ee...       0   \n",
       "3  e0f3e4d5f50afd9c31e51dd9941c5a52d57c7c524f5d11...       0   \n",
       "4  ec2b6d29992f13e74015ff0b129150b4afae15c593e4b7...       0   \n",
       "\n",
       "                     0                        1                   2  \\\n",
       "0         LdrUnloadDll           CoUninitialize          NtQueryKey   \n",
       "1         NtOpenMutant      GetForegroundWindow          NtQueryKey   \n",
       "2  GetForegroundWindow              DrawTextExW       GetSystemInfo   \n",
       "3      NtQueryValueKey             LdrUnloadDll  GlobalMemoryStatus   \n",
       "4         LdrUnloadDll  GetSystemTimeAsFileTime           NtOpenKey   \n",
       "\n",
       "                   3                            4                       5  \\\n",
       "0  NtDuplicateObject            GetShortPathNameW           GetSystemInfo   \n",
       "1        DrawTextExW         NtSetInformationFile        RegQueryValueExA   \n",
       "2  IsDebuggerPresent   GetSystemWindowsDirectoryW         NtQueryValueKey   \n",
       "3      WriteConsoleA                    NtOpenKey  LdrGetProcedureAddress   \n",
       "4         WSAStartup  SetUnhandledExceptionFilter      NtTerminateProcess   \n",
       "\n",
       "                        6                           7  ... Unnamed: 167  \\\n",
       "0       IsDebuggerPresent  GetSystemWindowsDirectoryW  ...          NaN   \n",
       "1  LdrGetProcedureAddress              CoUninitialize  ...          NaN   \n",
       "2             RegCloseKey          GetFileAttributesW  ...          NaN   \n",
       "3      NtTerminateProcess                     NtClose  ...          NaN   \n",
       "4                 NtClose     NtAllocateVirtualMemory  ...          NaN   \n",
       "\n",
       "  Unnamed: 168 Unnamed: 169 Unnamed: 170 Unnamed: 171 Unnamed: 172  \\\n",
       "0          NaN          NaN          NaN          NaN          NaN   \n",
       "1          NaN          NaN          NaN          NaN          NaN   \n",
       "2          NaN          NaN          NaN          NaN          NaN   \n",
       "3          NaN          NaN          NaN          NaN          NaN   \n",
       "4          NaN          NaN          NaN          NaN          NaN   \n",
       "\n",
       "  Unnamed: 173 Unnamed: 174 Unnamed: 175 Unnamed: 176  \n",
       "0          NaN          NaN          NaN          NaN  \n",
       "1          NaN          NaN          NaN          NaN  \n",
       "2          NaN          NaN          NaN          NaN  \n",
       "3          NaN          NaN          NaN          NaN  \n",
       "4          NaN          NaN          NaN          NaN  \n",
       "\n",
       "[5 rows x 177 columns]"
      ]
     },
     "execution_count": 4,
     "metadata": {},
     "output_type": "execute_result"
    }
   ],
   "source": [
    "print(\"MalbehavD-V1 Preview\")\n",
    "malbd.head()"
   ]
  },
  {
   "cell_type": "code",
   "execution_count": 5,
   "id": "29934c19",
   "metadata": {
    "scrolled": true
   },
   "outputs": [
    {
     "name": "stdout",
     "output_type": "stream",
     "text": [
      "MalbehavD-V1 Label Counts\n",
      "0 as Benign, 1 as Malicious\n"
     ]
    },
    {
     "data": {
      "text/plain": [
       "0    1285\n",
       "1    1285\n",
       "Name: labels, dtype: int64"
      ]
     },
     "execution_count": 5,
     "metadata": {},
     "output_type": "execute_result"
    }
   ],
   "source": [
    "print(\"MalbehavD-V1 Label Counts\")\n",
    "print(\"0 as Benign, 1 as Malicious\")\n",
    "malbd.labels.value_counts()"
   ]
  },
  {
   "cell_type": "code",
   "execution_count": 32,
   "id": "b62c1fa2",
   "metadata": {
    "scrolled": true
   },
   "outputs": [
    {
     "name": "stdout",
     "output_type": "stream",
     "text": [
      "MalbehavD-V1 Unique API calls list\n"
     ]
    },
    {
     "data": {
      "text/plain": [
       "<Axes: title={'center': 'Top 20 API calls in MalbehavD-V1'}>"
      ]
     },
     "execution_count": 32,
     "metadata": {},
     "output_type": "execute_result"
    },
    {
     "data": {
      "image/png": "[encoded data removed]",
      "text/plain": [
       "<Figure size 400x400 with 1 Axes>"
      ]
     },
     "metadata": {},
     "output_type": "display_data"
    }
   ],
   "source": [
    "print(\"MalbehavD-V1 Unique API calls list\")\n",
    "malbd_unique = pd.Series(malbd[list(malbd.columns.values)[2:]].values.ravel())\n",
    "malbd_unique.sort_values(inplace=True, ascending=False)\n",
    "malbd_unique.value_counts()[0:19].plot(kind='barh', figsize=(4,4), title='Top 20 API calls in MalbehavD-V1') #Top 20 only"
   ]
  }
 ],
 "metadata": {
  "kernelspec": {
   "display_name": "Python 3 (ipykernel)",
   "language": "python",
   "name": "python3"
  },
  "language_info": {
   "codemirror_mode": {
    "name": "ipython",
    "version": 3
   },
   "file_extension": ".py",
   "mimetype": "text/x-python",
   "name": "python",
   "nbconvert_exporter": "python",
   "pygments_lexer": "ipython3",
   "version": "3.10.9"
  }
 },
 "nbformat": 4,
 "nbformat_minor": 5
}
