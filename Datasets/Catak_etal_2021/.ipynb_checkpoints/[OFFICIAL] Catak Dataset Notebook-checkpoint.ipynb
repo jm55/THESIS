{
 "cells": [
  {
   "cell_type": "markdown",
   "id": "2d753f09",
   "metadata": {},
   "source": [
    "# Catak Dataset Notebook\n",
    "\n",
    "\n",
    "This is the official notebook for the thesis study \n",
    "\n",
    "**\"Evaluation and Comparison of Boosted ML Models in Behavior-Based Malware Detection\"**"
   ]
  },
  {
   "cell_type": "code",
   "execution_count": 1,
   "id": "5d4c0f3f",
   "metadata": {},
   "outputs": [],
   "source": [
    "import pandas as pd\n",
    "import numpy as np\n",
    "import matplotlib.pyplot as plt\n",
    "import time\n",
    "from sklearn import preprocessing"
   ]
  },
  {
   "cell_type": "code",
   "execution_count": null,
   "id": "6657ebb2",
   "metadata": {
    "scrolled": false
   },
   "outputs": [],
   "source": [
    "catak = pd.read_csv('all_analysis_data.csv')\n",
    "print(\"Catak Info:\")\n",
    "catak.info()"
   ]
  },
  {
   "cell_type": "code",
   "execution_count": null,
   "id": "eadc1a28",
   "metadata": {
    "scrolled": false
   },
   "outputs": [],
   "source": [
    "print(\"Catak Shape:\", catak.shape)"
   ]
  },
  {
   "cell_type": "code",
   "execution_count": null,
   "id": "80fcb67c",
   "metadata": {
    "scrolled": true
   },
   "outputs": [],
   "source": [
    "print(\"Catak Preview\")\n",
    "catak.head()"
   ]
  },
  {
   "cell_type": "code",
   "execution_count": null,
   "id": "29934c19",
   "metadata": {
    "scrolled": true
   },
   "outputs": [],
   "source": [
    "print(\"Catak Label Counts\")\n",
    "print(\"0 as Benign, 1 as Malicious\")\n",
    "catak.labels.value_counts()"
   ]
  },
  {
   "cell_type": "code",
   "execution_count": null,
   "id": "b62c1fa2",
   "metadata": {
    "scrolled": true
   },
   "outputs": [],
   "source": [
    "print(\"Catak Unique API calls list\")\n",
    "catak_unique = pd.Series(catak[list(catak.columns.values)[2:]].values.ravel())\n",
    "catak_unique.sort_values(inplace=True, ascending=False)\n",
    "catak_unique.value_counts()[0:19].plot(kind='barh', figsize=(4,4), title='Top 20 API calls in Catak') #Top 20 only"
   ]
  },
  {
   "cell_type": "code",
   "execution_count": null,
   "id": "157a0eac",
   "metadata": {},
   "outputs": [],
   "source": [
    "print(\"Catak Labels\")\n",
    "catak_labels = pd.read_csv('labels.csv')\n",
    "catak_labels"
   ]
  },
  {
   "cell_type": "code",
   "execution_count": null,
   "id": "a943459b",
   "metadata": {},
   "outputs": [],
   "source": []
  }
 ],
 "metadata": {
  "kernelspec": {
   "display_name": "Python 3 (ipykernel)",
   "language": "python",
   "name": "python3"
  },
  "language_info": {
   "codemirror_mode": {
    "name": "ipython",
    "version": 3
   },
   "file_extension": ".py",
   "mimetype": "text/x-python",
   "name": "python",
   "nbconvert_exporter": "python",
   "pygments_lexer": "ipython3",
   "version": "3.10.9"
  }
 },
 "nbformat": 4,
 "nbformat_minor": 5
}
